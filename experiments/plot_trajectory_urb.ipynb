{
 "cells": [
  {
   "cell_type": "code",
   "execution_count": 11,
   "metadata": {
    "collapsed": true
   },
   "outputs": [],
   "source": [
    "import sys\n",
    "sys.path.append('..')\n",
    "from src.kitti import *\n",
    "import numpy as np\n",
    "import cv2\n",
    "%matplotlib inline"
   ]
  },
  {
   "cell_type": "markdown",
   "metadata": {},
   "source": [
    "Read frame transformations from KITTI sequence 00 into a list of frames (frame)."
   ]
  },
  {
   "cell_type": "code",
   "execution_count": 12,
   "metadata": {
    "collapsed": true
   },
   "outputs": [],
   "source": [
    "IMAGE_SIZE = 400\n",
    "\n",
    "def load(file):\n",
    "    keyframeids, frameids, poses = load_keyframes(file)\n",
    "    return keyframeids, frameids, poses.reshape(poses.shape[0], 4, 4)\n",
    "\n",
    "def load_csv(file):\n",
    "    poses = np.genfromtxt(file, delimiter= \" \")\n",
    "    poses = np.hstack([poses, np.repeat(np.array([[0,0,0,1.0]]), len(poses), axis=0) ])\n",
    "    return poses.reshape(poses.shape[0], 4, 4)\n",
    "\n",
    "def transform(poses):\n",
    "    points = np.repeat(np.array([[0,0,0,1.0]]), len(poses), axis=0) \n",
    "    for i in range(1, len(poses)):\n",
    "        points[:i] = np.dot(points[:i], poses[i].T)\n",
    "    return points\n",
    "        \n",
    "def transform2(poses):\n",
    "    points = poses[:,:,3]\n",
    "    return points\n",
    "   \n",
    "def transform3(poses):\n",
    "    points = np.repeat(np.array([[0,0,0,1.0]]), len(poses), axis=0) \n",
    "    for i in range(1, len(poses)):\n",
    "        points[i] = np.dot(points[i], poses[i].T)\n",
    "    return points\n",
    "    \n",
    "def plot_trajectory(points):\n",
    "    # remove y coordinate (we only use x and z to plot a view from above)\n",
    "    points = points[:, [0,2,3]]\n",
    "    # compute min and max\n",
    "    pmin = points.min(axis=0)\n",
    "    pmax = points.max(axis=0)\n",
    "    maxxy = max(pmax[0] - pmin[0], pmax[1] - pmin[1])\n",
    "\n",
    "    t = np.eye(3, dtype=np.float64)\n",
    "    t[0,0] = IMAGE_SIZE / maxxy\n",
    "    t[1,1] = -IMAGE_SIZE / maxxy\n",
    "    t[0,2] = -pmin[0] * IMAGE_SIZE / maxxy\n",
    "    t[1,2] = IMAGE_SIZE / maxxy + pmin[1] / maxxy + 100\n",
    "\n",
    "    return np.dot(points, t.T)\n",
    "    \n",
    "\n",
    "def plot_trajectory2(points):\n",
    "    # remove y coordinate (we only use x and z to plot a view from above)\n",
    "    points = points[:, [0,2,3]]\n",
    "    # compute min and max\n",
    "    pmin = points.min(axis=0)\n",
    "    pmax = points.max(axis=0)\n",
    "    maxxy = max(pmax[0] - pmin[0], pmax[1] - pmin[1]) * 1.01\n",
    "\n",
    "    t = np.eye(3, dtype=np.float64)\n",
    "    t[0,0] = IMAGE_SIZE / maxxy\n",
    "    t[1,1] = -IMAGE_SIZE / maxxy\n",
    "    t[0,2] = -pmin[0] * IMAGE_SIZE / maxxy\n",
    "    t[1,2] = IMAGE_SIZE / maxxy + pmin[1] / maxxy + 100\n",
    "    return np.dot(points, t.T)\n",
    "    \n",
    "def plot_trajectory3(points):\n",
    "    coords = []\n",
    "    minx = min([p[0] for p in points])\n",
    "    maxx = max([p[0] for p in points])\n",
    "    miny = min([p[2] for p in points])\n",
    "    maxy = max([p[2] for p in points])\n",
    "    maxxy = max(maxx - minx, maxy - miny)* 1.01\n",
    "\n",
    "    for p in points:\n",
    "        #print(p)\n",
    "        x = IMAGE_SIZE * (p[0] - minx) / (maxxy)\n",
    "        z = IMAGE_SIZE - IMAGE_SIZE * (p[2] - miny) / (maxxy)\n",
    "        coords.append([x, z])\n",
    "    return coords\n",
    "\n",
    "def new_image():\n",
    "    img = np.zeros((IMAGE_SIZE, IMAGE_SIZE, 3), np.uint8)\n",
    "    img[:] = 255 #or img.fill(255)\n",
    "    return img\n",
    "\n",
    "def draw(coords, img, color = (0,0,0)):\n",
    "    # Draw a black line with thickness of 2 px\n",
    "    for i in range(1,len(coords)):\n",
    "        cv2.line(img, (int(coords[i - 1][0]), int(coords[i - 1][1])), (int(coords[i][0]), int(coords[i][1])), color, 2)\n",
    "    return img"
   ]
  },
  {
   "cell_type": "markdown",
   "metadata": {},
   "source": [
    "Compute the frame positions by mutiplying every point by a sequence of their transformations\n",
    "vectorized to improve speed"
   ]
  },
  {
   "cell_type": "code",
   "execution_count": 19,
   "metadata": {
    "collapsed": true
   },
   "outputs": [],
   "source": [
    "sequence = 4"
   ]
  },
  {
   "cell_type": "code",
   "execution_count": 20,
   "metadata": {},
   "outputs": [
    {
     "data": {
      "image/png": "[encoded data removed]",
      "text/plain": [
       "<matplotlib.figure.Figure at 0x7f86295d0b70>"
      ]
     },
     "metadata": {},
     "output_type": "display_data"
    }
   ],
   "source": [
    "folder = '/data/urbinn/datasets/urb_trajectory_output'\n",
    "#folder = '/home/jeroen/notebooks/urb/resultsba'\n",
    "keyframeids, frameids, poses = load(folder + '/keyframes_%02d_all_17_1.6_1.6.npy'%(sequence))\n",
    "\n",
    "posesold = poses\n",
    "points = transform(poses[:])\n",
    "coords = plot_trajectory3(points)\n",
    "p = draw(coords, new_image())\n",
    "\n",
    "gt = load_csv('/data/urbinn/datasets/kitti/poses/%02d.txt'%(sequence))\n",
    "pointsgt = transform2(gt)\n",
    "coordsgt = plot_trajectory3(pointsgt)\n",
    "show2(draw(coordsgt, new_image()), p)"
   ]
  },
  {
   "cell_type": "code",
   "execution_count": 21,
   "metadata": {},
   "outputs": [
    {
     "data": {
      "image/png": "[encoded data removed]",
      "text/plain": [
       "<matplotlib.figure.Figure at 0x7f85dfa723c8>"
      ]
     },
     "metadata": {},
     "output_type": "display_data"
    }
   ],
   "source": [
    "folder = '/data/urbinn/datasets/urb_trajectory_rotationfixed'\n",
    "folder = '/home/jeroen/notebooks/urb/resultsba'\n",
    "keyframeids, frameids, poses = load(folder + '/keyframes_%02d_all_17_1.6_1.6.npy'%(sequence))\n",
    "\n",
    "posesnew = poses\n",
    "points = transform(poses[:])\n",
    "coords = plot_trajectory(points)\n",
    "p = draw(coords, new_image())\n",
    "\n",
    "gt = load_csv('/data/urbinn/datasets/kitti/poses/%02d.txt'%(sequence))\n",
    "pointsgt = transform2(gt)\n",
    "coordsgt = plot_trajectory3(pointsgt)\n",
    "show2(draw(coordsgt, new_image()), p)"
   ]
  },
  {
   "cell_type": "code",
   "execution_count": 16,
   "metadata": {},
   "outputs": [
    {
     "data": {
      "text/plain": [
       "array([[  0.00000000e+00,   0.00000000e+00],\n",
       "       [ -4.07471993e-02,  -5.65651084e+00],\n",
       "       [  4.03595319e-02,  -5.72857327e+00],\n",
       "       [  1.56169138e-01,  -4.35956032e+00],\n",
       "       [ -1.58481639e-01,  -7.69386312e+00],\n",
       "       [  9.41446930e-02,  -5.67350146e+00],\n",
       "       [  7.58705504e-02,  -4.33865829e+00],\n",
       "       [  1.52967048e-01,  -5.80708793e+00],\n",
       "       [  6.56670618e-02,  -4.44604455e+00],\n",
       "       [  6.94076421e-02,  -4.31765101e+00],\n",
       "       [  4.62730959e-02,  -2.87756587e+00],\n",
       "       [ -8.74832354e-02,  -6.90911919e+00],\n",
       "       [  1.16233025e-01,  -4.77963990e+00],\n",
       "       [  2.28251570e-01,  -5.21360932e+00],\n",
       "       [  2.70735040e-01,  -7.33143219e+00],\n",
       "       [  7.49838967e-02,  -2.87136138e+00],\n",
       "       [  1.54296900e-01,  -5.46604077e+00],\n",
       "       [  1.36574700e-01,  -4.31642573e+00],\n",
       "       [  8.44947571e-02,  -2.89959084e+00],\n",
       "       [  4.52844439e-02,  -2.88041009e+00],\n",
       "       [  5.12935184e-02,  -1.43209216e+00],\n",
       "       [  1.15136949e-01,  -4.12771000e+00],\n",
       "       [  2.76561674e-02,  -1.41378786e+00],\n",
       "       [  3.04917490e-02,  -1.43109340e+00],\n",
       "       [  1.66541399e-02,  -1.35318622e+00],\n",
       "       [  4.60464733e-02,  -2.76095610e+00],\n",
       "       [  3.23937635e-02,  -2.71545829e+00],\n",
       "       [  5.37690340e-02,  -2.71585670e+00],\n",
       "       [  2.95888461e-01,  -6.88245953e+00],\n",
       "       [  1.91394634e-02,  -1.40621679e+00],\n",
       "       [  2.99348524e-01,  -2.04593893e+00],\n",
       "       [  1.45797761e-01,  -4.16667413e+00],\n",
       "       [  1.75759159e-01,  -5.36855946e+00],\n",
       "       [  6.13777848e-01,  -1.57196513e+00],\n",
       "       [  5.49844598e-01,  -5.55514471e+00],\n",
       "       [  2.95850755e-01,  -6.38345886e+00],\n",
       "       [  1.84739598e-02,  -4.12756000e+00],\n",
       "       [  1.45018967e-02,  -2.80883760e+00],\n",
       "       [ -6.03706151e-01,  -1.94951675e+00],\n",
       "       [ -4.74453173e-03,  -2.78588581e+00],\n",
       "       [  3.17172087e-02,  -1.81990064e+00],\n",
       "       [  1.17795496e-01,  -2.74208389e+00],\n",
       "       [  2.94952180e-01,  -4.88366526e+00],\n",
       "       [  4.81485284e-02,  -2.90274836e+00],\n",
       "       [  2.08740547e-01,  -3.07462714e+00],\n",
       "       [  5.57328331e-02,  -1.50488509e+00],\n",
       "       [  1.17370104e+00,  -3.27087481e+00],\n",
       "       [  9.31133574e-02,  -4.46958609e+00],\n",
       "       [  2.45477048e-02,  -3.02680403e+00],\n",
       "       [  7.01708779e-02,  -7.55432470e+00],\n",
       "       [  1.35819653e-01,  -6.15259750e+00],\n",
       "       [  1.54471338e-01,  -7.48861243e+00],\n",
       "       [ -2.07652916e-01,  -7.47092718e+00],\n",
       "       [ -3.88063417e-03,  -3.02790526e+00],\n",
       "       [ -7.20826077e-02,  -6.10326287e+00],\n",
       "       [  3.59424746e-02,  -3.12293790e+00],\n",
       "       [  2.92798357e-02,  -3.07625104e+00],\n",
       "       [  1.06480560e-01,  -6.22782552e+00],\n",
       "       [  8.06896421e-02,  -4.60642388e+00],\n",
       "       [  6.84897290e-02,  -4.69506109e+00],\n",
       "       [  3.00106256e-02,  -3.19833349e+00],\n",
       "       [  3.10828716e-02,  -3.09498058e+00],\n",
       "       [  4.80358440e+00,  -6.52176752e+00],\n",
       "       [  3.79120248e-02,  -3.18603626e+00],\n",
       "       [  8.91669624e-03,  -1.60796690e+00],\n",
       "       [  8.44879356e-03,  -1.60483028e+00],\n",
       "       [ -7.05368399e-03,  -2.87120112e+00],\n",
       "       [  2.45163019e-02,  -1.60656053e+00],\n",
       "       [  1.88611892e-02,  -1.59873250e+00],\n",
       "       [  1.67243698e-02,  -1.55027467e+00],\n",
       "       [  4.05531594e-02,  -1.56604049e+00],\n",
       "       [  6.18953965e-01,  -1.09629036e+00],\n",
       "       [  1.92977145e+00,  -3.41574171e+00],\n",
       "       [  2.81699980e-01,  -4.29982576e+00],\n",
       "       [  2.56036900e-01,  -8.13714623e+00],\n",
       "       [  1.70109924e+00,  -6.12205955e+00],\n",
       "       [  1.11746206e-01,  -3.30472656e+00],\n",
       "       [  1.13201745e-01,  -3.10571574e+00],\n",
       "       [  8.06431549e-02,  -3.32481300e+00],\n",
       "       [  5.15309868e-02,  -3.38098478e+00],\n",
       "       [  3.01519578e-03,  -5.14923025e+00],\n",
       "       [  5.53884094e-02,  -9.96045841e+00],\n",
       "       [ -8.59832860e-02,  -6.73475992e+00],\n",
       "       [  8.77151552e-01,  -4.11901546e+00],\n",
       "       [  1.01225146e-01,  -6.79774859e+00],\n",
       "       [  1.17158578e-02,  -4.97467802e+00],\n",
       "       [  1.59588816e-01,  -8.52828756e+00],\n",
       "       [ -4.88926362e-02,  -4.80725843e+00],\n",
       "       [ -1.16417197e-01,  -5.50414708e+00],\n",
       "       [ -3.84049704e-02,  -7.87775370e+00],\n",
       "       [  1.42959494e+00,  -4.31654094e+00],\n",
       "       [  1.39610281e-01,  -5.16555345e+00],\n",
       "       [  2.70191058e-02,  -3.27835294e+00],\n",
       "       [  9.98665049e-02,  -4.85786639e+00]])"
      ]
     },
     "execution_count": 16,
     "metadata": {},
     "output_type": "execute_result"
    }
   ],
   "source": [
    "#comparez = np.hstack([posesnew[:,2,3].reshape((-1,1)), posesold[:,2,3].reshape((-1,1))])\n",
    "znew = posesnew[:,[0,2],3].reshape((-1,2))\n",
    "zold = posesold[:,[0,2],3].reshape((-1,2))\n",
    "#znew2[0] = znew[0]\n",
    "znew"
   ]
  },
  {
   "cell_type": "code",
   "execution_count": 7,
   "metadata": {},
   "outputs": [
    {
     "name": "stdout",
     "output_type": "stream",
     "text": [
      "[  0.          -2.84499075  -8.83428824  -7.72307347 -10.11382301\n",
      " -13.63033392  -7.11867111  -1.48455508 -10.94200983  -9.47702003\n",
      "  -7.79740409  -8.97923722  -8.31843629  -6.67390092  -8.66951972\n",
      "  -4.13459171  -6.43087636  -4.15862223 -12.02870916  -8.59069278\n",
      "  -5.17345818  -2.82189697  -7.74412606  -2.86136314  -4.34619961\n",
      "  -5.68947208 -10.17639467 -10.57885523 -10.8362151  -10.35870421\n",
      "  -5.6464397   -7.91372382  -8.08793396 -10.43989473  -4.68519814\n",
      "  -8.41507618  -6.25061309  -4.64089991  -4.60010689  -2.78249127\n",
      "  -1.44626566  -1.81016212  -3.28613071  -5.1917992   -4.65930052\n",
      "  -3.2445208   -2.28349907  -0.94794767  -3.40463506  -5.05525465\n",
      "  -6.81110838 -10.11266591  -3.87010946  -6.98530698  -3.37581884\n",
      "  -4.93240884  -7.12510415  -9.45254477  -3.28184716  -4.84531785\n",
      "  -5.16460898  -5.04613155  -3.72914635]\n"
     ]
    },
    {
     "data": {
      "text/plain": [
       "array([  0.        ,  -2.84499075,  -8.83428824,  -7.72307347,\n",
       "       -10.11382301, -13.63033392,  -7.11867111,  -1.48455508,\n",
       "       -10.94200983,  -9.47702003,  -7.79740409,  -8.97923722,\n",
       "        -8.31843629,  -6.67390092,  -8.66951972,  -4.13459171,\n",
       "        -6.43087636,  -4.15862223, -12.02870916,  -8.59069278,\n",
       "        -5.17345818,  -2.82189697,  -7.74412606,  -2.86136314,\n",
       "        -4.34619961,  -5.68947208, -10.17639467, -10.57885523,\n",
       "       -10.8362151 , -10.35870421,  -5.6464397 ,  -7.91372382,\n",
       "        -8.08793396, -10.43989473,  -4.68519814,  -8.41507618,\n",
       "        -6.25061309,  -4.64089991,  -4.60010689,  -2.78249127,\n",
       "        -1.44626566,  -1.81016212,  -3.28613071,  -5.1917992 ,\n",
       "        -4.65930052,  -3.2445208 ,  -2.28349907,  -0.94794767,\n",
       "        -3.40463506,  -5.05525465,  -6.81110838, -10.11266591,\n",
       "        -3.87010946,  -6.98530698,  -3.37581884,  -4.93240884,\n",
       "        -7.12510415,  -9.45254477,  -3.28184716,  -4.84531785,\n",
       "        -5.16460898,  -5.04613155,  -3.72914635])"
      ]
     },
     "execution_count": 7,
     "metadata": {},
     "output_type": "execute_result"
    }
   ],
   "source": [
    "p = posesold.copy()\n",
    "for i in range(1, len(p)):\n",
    "    p[i] = np.dot( p[i-1], p[i] )\n",
    "pterug = p.copy()\n",
    "for i in range(len(p)-1, 0, -1):\n",
    "    pterug[i] = np.dot( np.linalg.pinv(pterug[i-1]), pterug[i] )\n",
    "\n",
    "print(posesold[:,2,3])\n",
    "pterug[:,2,3]"
   ]
  },
  {
   "cell_type": "markdown",
   "metadata": {},
   "source": [
    "Show the affine world coodinates for the first 3 poses"
   ]
  },
  {
   "cell_type": "code",
   "execution_count": null,
   "metadata": {
    "collapsed": true
   },
   "outputs": [],
   "source": [
    "points[:3]"
   ]
  },
  {
   "cell_type": "markdown",
   "metadata": {},
   "source": [
    "show the converted x,y coordinates to plot the trajectory"
   ]
  },
  {
   "cell_type": "code",
   "execution_count": null,
   "metadata": {
    "collapsed": true
   },
   "outputs": [],
   "source": [
    "coords[:3]"
   ]
  },
  {
   "cell_type": "code",
   "execution_count": null,
   "metadata": {
    "collapsed": true
   },
   "outputs": [],
   "source": []
  }
 ],
 "metadata": {
  "kernelspec": {
   "display_name": "Python 3",
   "language": "python",
   "name": "python3"
  },
  "language_info": {
   "codemirror_mode": {
    "name": "ipython",
    "version": 3
   },
   "file_extension": ".py",
   "mimetype": "text/x-python",
   "name": "python",
   "nbconvert_exporter": "python",
   "pygments_lexer": "ipython3",
   "version": "3.6.1"
  }
 },
 "nbformat": 4,
 "nbformat_minor": 2
}
