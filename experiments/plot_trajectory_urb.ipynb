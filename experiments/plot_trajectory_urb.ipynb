{
 "cells": [
  {
   "cell_type": "code",
   "execution_count": 3,
   "metadata": {
    "collapsed": true
   },
   "outputs": [],
   "source": [
    "import sys\n",
    "sys.path.append('..')\n",
    "from src.kitti import *\n",
    "import numpy as np\n",
    "import cv2\n",
    "%matplotlib inline"
   ]
  },
  {
   "cell_type": "markdown",
   "metadata": {},
   "source": [
    "Read frame transformations from KITTI sequence 00 into a list of frames (frame)."
   ]
  },
  {
   "cell_type": "code",
   "execution_count": 4,
   "metadata": {
    "collapsed": true
   },
   "outputs": [],
   "source": [
    "IMAGE_SIZE = 400\n",
    "\n",
    "def load(file):\n",
    "    keyframeids, frameids, poses = load_keyframes(file)\n",
    "    return keyframeids, frameids, poses.reshape(poses.shape[0], 4, 4)\n",
    "\n",
    "def load_csv(file):\n",
    "    poses = np.genfromtxt(file, delimiter= \" \")\n",
    "    poses = np.hstack([poses, np.repeat(np.array([[0,0,0,1.0]]), len(poses), axis=0) ])\n",
    "    return poses.reshape(poses.shape[0], 4, 4)\n",
    "\n",
    "def transform(poses):\n",
    "    points = np.repeat(np.array([[0,0,0,1.0]]), len(poses), axis=0) \n",
    "    for i in range(1, len(poses)):\n",
    "        points[:i] = np.dot(points[:i], poses[i].T)\n",
    "    return points\n",
    "        \n",
    "def transform2(poses):\n",
    "    points = poses[:,:,3]\n",
    "    return points\n",
    "    \n",
    "def plot_trajectory(points):\n",
    "    # remove y coordinate (we only use x and z to plot a view from above)\n",
    "    points = points[:, [0,2,3]]\n",
    "    # compute min and max\n",
    "    pmin = points.min(axis=0)\n",
    "    pmax = points.max(axis=0)\n",
    "    maxxy = max(pmax[0] - pmin[0], pmax[1] - pmin[1])\n",
    "\n",
    "    t = np.eye(3, dtype=np.float64)\n",
    "    t[0,0] = IMAGE_SIZE / maxxy\n",
    "    t[1,1] = -IMAGE_SIZE / maxxy\n",
    "    t[0,2] = -pmin[0] * IMAGE_SIZE / maxxy\n",
    "    t[1,2] = IMAGE_SIZE / maxxy + pmin[1] / maxxy + 100\n",
    "\n",
    "    return np.dot(points, t.T)\n",
    "    \n",
    "\n",
    "def plot_trajectory2(points):\n",
    "    # remove y coordinate (we only use x and z to plot a view from above)\n",
    "    points = points[:, [0,2,3]]\n",
    "    # compute min and max\n",
    "    pmin = points.min(axis=0)\n",
    "    pmax = points.max(axis=0)\n",
    "    maxxy = max(pmax[0] - pmin[0], pmax[1] - pmin[1]) * 1.01\n",
    "\n",
    "    t = np.eye(3, dtype=np.float64)\n",
    "    t[0,0] = IMAGE_SIZE / maxxy\n",
    "    t[1,1] = -IMAGE_SIZE / maxxy\n",
    "    t[0,2] = -pmin[0] * IMAGE_SIZE / maxxy\n",
    "    t[1,2] = IMAGE_SIZE / maxxy + pmin[1] / maxxy + 100\n",
    "    return np.dot(points, t.T)\n",
    "    \n",
    "def plot_trajectory3(points):\n",
    "    coords = []\n",
    "    minx = min([p[0] for p in points])\n",
    "    maxx = max([p[0] for p in points])\n",
    "    miny = min([p[2] for p in points])\n",
    "    maxy = max([p[2] for p in points])\n",
    "    maxxy = max(maxx - minx, maxy - miny)* 1.01\n",
    "\n",
    "    for p in points:\n",
    "        #print(p)\n",
    "        x = IMAGE_SIZE * (p[0] - minx) / (maxxy)\n",
    "        z = IMAGE_SIZE - IMAGE_SIZE * (p[2] - miny) / (maxxy)\n",
    "        coords.append([x, z])\n",
    "    return coords\n",
    "\n",
    "def new_image():\n",
    "    img = np.zeros((IMAGE_SIZE, IMAGE_SIZE, 3), np.uint8)\n",
    "    img[:] = 255 #or img.fill(255)\n",
    "    return img\n",
    "\n",
    "def draw(coords, img, color = (0,0,0)):\n",
    "    # Draw a black line with thickness of 2 px\n",
    "    for i in range(1,len(coords)):\n",
    "        cv2.line(img, (int(coords[i - 1][0]), int(coords[i - 1][1])), (int(coords[i][0]), int(coords[i][1])), color, 2)\n",
    "    return img"
   ]
  },
  {
   "cell_type": "markdown",
   "metadata": {},
   "source": [
    "Compute the frame positions by mutiplying every point by a sequence of their transformations\n",
    "vectorized to improve speed"
   ]
  },
  {
   "cell_type": "code",
   "execution_count": 5,
   "metadata": {},
   "outputs": [
    {
     "name": "stdout",
     "output_type": "stream",
     "text": [
      "[[[1.0 0.0 0.0 0.0]\n",
      "  [0.0 1.0 0.0 0.0]\n",
      "  [0.0 0.0 1.0 0.0]\n",
      "  [0.0 0.0 0.0 1.0]]\n",
      "\n",
      " [[0.9837453906743289 0.0032174719950245224 -0.1795401186391868\n",
      "   0.20677257881574818]\n",
      "  [-0.0009719342042947331 0.9999202234900699 0.012593728576999997\n",
      "   0.1358658562929986]\n",
      "  [0.1795663155241388 -0.012214521256678762 0.9836700380714845\n",
      "   -4.221333195847743]\n",
      "  [0.0 0.0 0.0 1.0]]\n",
      "\n",
      " [[0.8950491265448293 0.007459874771934672 -0.4459051595796188\n",
      "   1.9208377152676919]\n",
      "  [-0.0054290915842033 0.9999682582806649 0.0058315860367299365\n",
      "   0.6099917249081731]\n",
      "  [0.4459345086847491 -0.002798696039319615 0.8950612164900069\n",
      "   -10.700876394188239]\n",
      "  [0.0 0.0 0.0 1.0]]\n",
      "\n",
      " [[0.9477392832491581 0.012639382269562785 -0.3187953842235108\n",
      "   0.9324150037554351]\n",
      "  [-0.008876604151575587 0.9998727708377272 0.01325322738136633\n",
      "   0.136764798048176]\n",
      "  [0.31892233676101805 -0.009730783788052692 0.9477308979672247\n",
      "   -7.119135644324576]\n",
      "  [0.0 0.0 0.0 1.0]]\n",
      "\n",
      " [[0.9846013728925738 0.01201427523842383 -0.17440124336871657\n",
      "   0.22928237861795753]\n",
      "  [-0.01060733386738167 0.9999032630267392 0.008997169371837865\n",
      "   0.0231553099016655]\n",
      "  [0.17449246678950012 -0.0070086931003601185 0.9846335649645203\n",
      "   -4.122920786388526]\n",
      "  [0.0 0.0 0.0 1.0]]\n",
      "\n",
      " [[0.9938979992635195 0.003423552080913766 -0.11024992676243434\n",
      "   0.2022739462469702]\n",
      "  [-0.0032002277753334397 0.9999924537235317 0.002202507247692328\n",
      "   0.037530052320343094]\n",
      "  [0.11025663518427745 -0.001836242668991186 0.9939014551808956\n",
      "   -3.255795074809798]\n",
      "  [0.0 0.0 0.0 1.0]]\n",
      "\n",
      " [[0.9950713753956623 -0.0036305255600779817 -0.09909478872444664\n",
      "   0.10432530489381849]\n",
      "  [0.004041386000574472 0.9999840491356966 0.003945715824938553\n",
      "   0.07073743046918934]\n",
      "  [0.09907888305476327 -0.004326749164722899 0.9950701755023542\n",
      "   -3.276481797967513]\n",
      "  [0.0 0.0 0.0 1.0]]\n",
      "\n",
      " [[0.9886627932649459 0.047936153277013054 -0.14229548981804555\n",
      "   2.9297159410345732]\n",
      "  [-0.044696533869355286 0.9986653741024499 0.02587837763228655\n",
      "   -1.7755002131993742]\n",
      "  [0.14334608844897154 -0.019224873934992746 0.989485878195623\n",
      "   -5.904802263315603]\n",
      "  [0.0 0.0 0.0 1.0]]]\n"
     ]
    },
    {
     "data": {
      "image/png": "[encoded data removed]",
      "text/plain": [
       "<matplotlib.figure.Figure at 0x7f66942f5438>"
      ]
     },
     "metadata": {},
     "output_type": "display_data"
    }
   ],
   "source": [
    "sequence = 1\n",
    "\n",
    "keyframeids, frameids, poses = load('/data/urbinn/datasets/urb_trajectory_rotationfixed/keyframes_%02d_all_17_1.6_1.6.npy'%(sequence))\n",
    "\n",
    "print(poses[: 8])\n",
    "points = transform(poses[: 4])\n",
    "coords = plot_trajectory3(points)\n",
    "p = draw(coords, new_image())\n",
    "\n",
    "gt = load_csv('/data/urbinn/datasets/kitti/poses/%02d.txt'%(sequence))\n",
    "points = transform2(gt)\n",
    "coords = plot_trajectory3(points)\n",
    "show2(draw(coords, new_image()), p)"
   ]
  },
  {
   "cell_type": "markdown",
   "metadata": {},
   "source": [
    "Show the affine world coodinates for the first 3 poses"
   ]
  },
  {
   "cell_type": "code",
   "execution_count": 4,
   "metadata": {},
   "outputs": [
    {
     "data": {
      "text/plain": [
       "array([[  1.11022300e-16,   2.22044600e-16,  -2.22044600e-16,\n",
       "          1.00000000e+00],\n",
       "       [  5.15465600e-02,  -2.42488300e-02,   1.00072500e+00,\n",
       "          1.00000000e+00],\n",
       "       [  1.46463200e-01,  -5.05162200e-02,   1.99565900e+00,\n",
       "          1.00000000e+00]])"
      ]
     },
     "execution_count": 4,
     "metadata": {},
     "output_type": "execute_result"
    }
   ],
   "source": [
    "points[:3]"
   ]
  },
  {
   "cell_type": "markdown",
   "metadata": {},
   "source": [
    "show the converted x,y coordinates to plot the trajectory"
   ]
  },
  {
   "cell_type": "code",
   "execution_count": 5,
   "metadata": {},
   "outputs": [
    {
     "data": {
      "text/plain": [
       "[[0.0, 153.79385922266854],\n",
       " [0.011168696874392448, 153.57703012331396],\n",
       " [0.031734476249307773, 153.36145577158177]]"
      ]
     },
     "execution_count": 5,
     "metadata": {},
     "output_type": "execute_result"
    }
   ],
   "source": [
    "coords[:3]"
   ]
  },
  {
   "cell_type": "code",
   "execution_count": null,
   "metadata": {
    "collapsed": true
   },
   "outputs": [],
   "source": []
  }
 ],
 "metadata": {
  "kernelspec": {
   "display_name": "Python 3",
   "language": "python",
   "name": "python3"
  },
  "language_info": {
   "codemirror_mode": {
    "name": "ipython",
    "version": 3
   },
   "file_extension": ".py",
   "mimetype": "text/x-python",
   "name": "python",
   "nbconvert_exporter": "python",
   "pygments_lexer": "ipython3",
   "version": "3.6.1"
  }
 },
 "nbformat": 4,
 "nbformat_minor": 2
}
