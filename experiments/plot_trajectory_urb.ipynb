{
 "cells": [
  {
   "cell_type": "code",
   "execution_count": 1,
   "metadata": {
    "collapsed": true
   },
   "outputs": [],
   "source": [
    "import sys\n",
    "sys.path.append('..')\n",
    "from src.kitti import *\n",
    "import numpy as np\n",
    "import cv2\n",
    "%matplotlib inline"
   ]
  },
  {
   "cell_type": "markdown",
   "metadata": {},
   "source": [
    "Read frame transformations from KITTI sequence 00 into a list of frames (frame)."
   ]
  },
  {
   "cell_type": "code",
   "execution_count": 2,
   "metadata": {
    "collapsed": true
   },
   "outputs": [],
   "source": [
    "IMAGE_SIZE = 400\n",
    "\n",
    "def load(file):\n",
    "    keyframeids, frameids, poses = load_keyframes(file)\n",
    "    return keyframeids, frameids, poses.reshape(poses.shape[0], 4, 4)\n",
    "\n",
    "def load_csv(file):\n",
    "    poses = np.genfromtxt(file, delimiter= \" \")\n",
    "    poses = np.hstack([poses, np.repeat(np.array([[0,0,0,1.0]]), len(poses), axis=0) ])\n",
    "    return poses.reshape(poses.shape[0], 4, 4)\n",
    "\n",
    "def transform(poses):\n",
    "    points = np.repeat(np.array([[0,0,0,1.0]]), len(poses), axis=0) \n",
    "    for i in range(1, len(poses)):\n",
    "        points[:i] = np.dot(points[:i], poses[i].T)\n",
    "    return points\n",
    "        \n",
    "def transform2(poses):\n",
    "    points = poses[:,:,3]\n",
    "    return points\n",
    "   \n",
    "def transform3(poses):\n",
    "    points = np.repeat(np.array([[0,0,0,1.0]]), len(poses), axis=0) \n",
    "    for i in range(1, len(poses)):\n",
    "        points[i] = np.dot(points[i], poses[i].T)\n",
    "    return points\n",
    "    \n",
    "def plot_trajectory(points):\n",
    "    # remove y coordinate (we only use x and z to plot a view from above)\n",
    "    points = points[:, [0,2,3]]\n",
    "    # compute min and max\n",
    "    pmin = points.min(axis=0)\n",
    "    pmax = points.max(axis=0)\n",
    "    maxxy = max(pmax[0] - pmin[0], pmax[1] - pmin[1])\n",
    "\n",
    "    t = np.eye(3, dtype=np.float64)\n",
    "    t[0,0] = IMAGE_SIZE / maxxy\n",
    "    t[1,1] = -IMAGE_SIZE / maxxy\n",
    "    t[0,2] = -pmin[0] * IMAGE_SIZE / maxxy\n",
    "    t[1,2] = + pmin[1] / maxxy\n",
    "\n",
    "    return np.dot(points, t.T)\n",
    "    \n",
    "\n",
    "def plot_trajectory2(points):\n",
    "    # remove y coordinate (we only use x and z to plot a view from above)\n",
    "    points = points[:, [0,2,3]]\n",
    "    # compute min and max\n",
    "    pmin = points.min(axis=0)\n",
    "    pmax = points.max(axis=0)\n",
    "    maxxy = max(pmax[0] - pmin[0], pmax[1] - pmin[1]) * 1.01\n",
    "\n",
    "    t = np.eye(3, dtype=np.float64)\n",
    "    t[0,0] = IMAGE_SIZE / maxxy\n",
    "    t[1,1] = -IMAGE_SIZE / maxxy\n",
    "    t[0,2] = -pmin[0] * IMAGE_SIZE / maxxy\n",
    "    t[1,2] = IMAGE_SIZE / maxxy + pmin[1] / maxxy + 100\n",
    "    return np.dot(points, t.T)\n",
    "    \n",
    "def plot_trajectory3(points):\n",
    "    coords = []\n",
    "    minx = min([p[0] for p in points])\n",
    "    maxx = max([p[0] for p in points])\n",
    "    miny = min([p[2] for p in points])\n",
    "    maxy = max([p[2] for p in points])\n",
    "    maxxy = max(maxx - minx, maxy - miny)* 1.01\n",
    "\n",
    "    for p in points:\n",
    "        #print(p)\n",
    "        x = IMAGE_SIZE * (p[0] - minx) / (maxxy)\n",
    "        z = IMAGE_SIZE - IMAGE_SIZE * (p[2] - miny) / (maxxy)\n",
    "        coords.append([x, z])\n",
    "    return coords\n",
    "\n",
    "def new_image():\n",
    "    img = np.zeros((IMAGE_SIZE, IMAGE_SIZE, 3), np.uint8)\n",
    "    img[:] = 255 #or img.fill(255)\n",
    "    return img\n",
    "\n",
    "def draw(coords, img, color = (0,0,0)):\n",
    "    # Draw a black line with thickness of 2 px\n",
    "    for i in range(1,len(coords)):\n",
    "        cv2.line(img, (int(coords[i - 1][0]), int(coords[i - 1][1])), (int(coords[i][0]), int(coords[i][1])), color, 2)\n",
    "    return img"
   ]
  },
  {
   "cell_type": "markdown",
   "metadata": {},
   "source": [
    "Compute the frame positions by mutiplying every point by a sequence of their transformations\n",
    "vectorized to improve speed"
   ]
  },
  {
   "cell_type": "code",
   "execution_count": 3,
   "metadata": {
    "collapsed": true
   },
   "outputs": [],
   "source": [
    "sequence = 7"
   ]
  },
  {
   "cell_type": "markdown",
   "metadata": {},
   "source": [
    "folder = '/data/urbinn/datasets/urb_trajectory_output'\n",
    "#folder = '/home/jeroen/notebooks/urb/resultsba'\n",
    "keyframeids, frameids, poses = load(folder + '/keyframes_%02d_all_17_1.6_1.6.npy'%(sequence))\n",
    "\n",
    "posesold = poses\n",
    "points = transform(poses[:])\n",
    "coords = plot_trajectory3(points)\n",
    "p = draw(coords, new_image())\n",
    "\n",
    "gt = load_csv('/data/urbinn/datasets/kitti/poses/%02d.txt'%(sequence))\n",
    "pointsgt = transform2(gt)[:]\n",
    "coordsgt = plot_trajectory3(pointsgt)\n",
    "show2(draw(coordsgt, new_image()), p)"
   ]
  },
  {
   "cell_type": "code",
   "execution_count": 7,
   "metadata": {},
   "outputs": [
    {
     "data": {
      "image/png": "[encoded data removed]",
      "text/plain": [
       "<matplotlib.figure.Figure at 0x7f0f196e7128>"
      ]
     },
     "metadata": {},
     "output_type": "display_data"
    }
   ],
   "source": [
    "folder = '/data/urbinn/datasets/urb_trajectory_rotationfixed'\n",
    "folder = '/home/14102307/notebooks/urb/experiments'\n",
    "keyframeids, frameids, poses = load(folder + '/cv_keyframes.npy')\n",
    "\n",
    "posesnew = poses\n",
    "points = transform(poses[:])\n",
    "coords = plot_trajectory3(points)\n",
    "p = draw(coords, new_image())\n",
    "\n",
    "gt = load_csv('/data/urbinn/datasets/kitti/poses/%02d.txt'%(sequence))\n",
    "pointsgt = transform2(gt)[:]\n",
    "coordsgt = plot_trajectory3(pointsgt)\n",
    "show2(draw(coordsgt, new_image()), p)"
   ]
  },
  {
   "cell_type": "code",
   "execution_count": 5,
   "metadata": {},
   "outputs": [
    {
     "name": "stdout",
     "output_type": "stream",
     "text": [
      "0 245.074501175 248.038028408\n",
      "1 245.469273435 247.54281214\n",
      "2 246.257186478 246.494601394\n",
      "3 247.415913646 244.884757544\n",
      "4 248.92255963 242.630865203\n",
      "5 250.716880489 239.619445206\n",
      "6 252.775495376 235.738035432\n",
      "7 254.983781144 230.836493142\n",
      "8 257.09771203 224.76097325\n",
      "9 258.810560647 217.400796732\n",
      "10 259.721363689 208.673588096\n",
      "11 259.259196448 198.617850538\n",
      "12 256.763311358 187.486489075\n",
      "13 251.546873052 175.759836381\n",
      "14 243.070944738 164.425899392\n",
      "15 230.889052949 154.709550959\n",
      "16 215.079184406 148.278188708\n",
      "17 196.516846196 147.059199418\n",
      "18 177.28012054 152.796857296\n",
      "19 160.52149101 166.36926459\n",
      "20 150.225620213 186.998842689\n",
      "21 150.289925485 211.553241149\n",
      "22 163.058573759 234.354606574\n",
      "23 187.369009484 247.783283276\n",
      "24 216.666353708 244.758740104\n",
      "25 239.309758196 223.271280424\n",
      "26 242.648985191 190.452929128\n",
      "27 221.246321726 163.03840159\n",
      "28 184.782501476 159.928067089\n",
      "29 157.788542021 187.393682877\n",
      "30 164.274474787 227.3510526\n",
      "31 203.164701417 244.382391837\n",
      "32 238.766356563 217.704490185\n",
      "33 230.055760962 171.987702196\n",
      "34 182.49727713 161.908068045\n",
      "35 156.001088241 205.19312376\n",
      "36 191.4937477 244.176420187\n",
      "37 239.380386782 217.693583887\n",
      "38 221.602390462 163.727563436\n",
      "39 163.496519683 173.8308585\n",
      "40 167.261688718 234.900084634\n",
      "41 230.677045073 235.89265151\n",
      "42 234.750189755 170.262391854\n",
      "43 166.817628351 164.631798334\n",
      "44 161.032693771 235.042064809\n",
      "45 234.089970279 239.819970598\n",
      "46 236.780357432 163.882782919\n",
      "47 157.942068979 164.287742859\n",
      "48 162.309913495 246.127215959\n",
      "49 246.956734906 237.042461553\n",
      "50 232.518025054 149.841719157\n",
      "51 142.93317916 170.039366039\n",
      "52 169.276252598 261.80756432\n",
      "53 262.931835099 228.948494018\n",
      "54 223.172634942 133.722355715\n",
      "55 126.71831408 180.743206835\n",
      "56 181.289782892 278.059068095\n",
      "57 278.967981466 215.605016404\n",
      "58 208.305127693 117.884086214\n",
      "59 111.180530318 196.951057587\n",
      "60 198.832677666 292.969019285\n",
      "61 293.165676163 196.568221862\n",
      "62 187.834758459 104.453685901\n",
      "63 98.5608237401 218.852139889\n",
      "64 222.08460172 304.667132258\n",
      "65 303.550757743 172.095461224\n",
      "66 161.849093997 95.7337132326\n",
      "67 91.3271142177 246.64786861\n",
      "68 251.175438439 310.131352371\n",
      "69 306.750370935 141.347356649\n",
      "70 129.408288218 94.6195772732\n",
      "71 92.5427969365 280.141552607\n",
      "72 285.68348795 306.143011114\n",
      "73 299.80266939 106.103378021\n",
      "74 93.5808634008 104.730666699\n",
      "75 105.819639879 316.280920678\n",
      "76 321.806867012 289.68674983\n",
      "77 280.118526545 70.2159297771\n",
      "78 58.3233395744 127.541504799\n",
      "79 131.790653913 350.60834161\n",
      "80 354.957168041 260.67029295\n",
      "81 248.34171854 38.4267688174\n",
      "82 28.245267671 161.907682884\n",
      "83 168.684919068 378.680677064\n",
      "84 380.67982407 221.191180949\n",
      "85 206.191599205 15.261437287\n",
      "86 7.72364355301 206.51123788\n",
      "87 215.448128702 396.279770433\n",
      "88 395.262407942 172.363309271\n",
      "89 155.62657868 3.9603960396\n",
      "90 0.0 258.858424825\n",
      "91 269.580155349 400.0\n",
      "92 394.693460159 116.329209939\n",
      "93 97.6393565202 8.99881853661\n",
      "94 9.83362586794 318.406146819\n",
      "95 330.321989107 384.838502387\n",
      "96 373.561329094 54.7439660868\n",
      "97 35.475607996 36.0905901868\n",
      "98 42.6887201512 380.231883958\n",
      "99 390.748679106 345.882352038\n"
     ]
    }
   ],
   "source": [
    "for i, xy in enumerate(coords):\n",
    "    print(i, xy[0], xy[1])"
   ]
  },
  {
   "cell_type": "code",
   "execution_count": 6,
   "metadata": {},
   "outputs": [
    {
     "ename": "NameError",
     "evalue": "name 'posesold' is not defined",
     "output_type": "error",
     "traceback": [
      "\u001b[0;31m---------------------------------------------------------------------------\u001b[0m",
      "\u001b[0;31mNameError\u001b[0m                                 Traceback (most recent call last)",
      "\u001b[0;32m<ipython-input-6-010e7e55d649>\u001b[0m in \u001b[0;36m<module>\u001b[0;34m()\u001b[0m\n\u001b[0;32m----> 1\u001b[0;31m \u001b[0mp\u001b[0m \u001b[0;34m=\u001b[0m \u001b[0mposesold\u001b[0m\u001b[0;34m.\u001b[0m\u001b[0mcopy\u001b[0m\u001b[0;34m(\u001b[0m\u001b[0;34m)\u001b[0m\u001b[0;34m\u001b[0m\u001b[0m\n\u001b[0m\u001b[1;32m      2\u001b[0m \u001b[0;32mfor\u001b[0m \u001b[0mi\u001b[0m \u001b[0;32min\u001b[0m \u001b[0mrange\u001b[0m\u001b[0;34m(\u001b[0m\u001b[0;36m1\u001b[0m\u001b[0;34m,\u001b[0m \u001b[0mlen\u001b[0m\u001b[0;34m(\u001b[0m\u001b[0mp\u001b[0m\u001b[0;34m)\u001b[0m\u001b[0;34m)\u001b[0m\u001b[0;34m:\u001b[0m\u001b[0;34m\u001b[0m\u001b[0m\n\u001b[1;32m      3\u001b[0m     \u001b[0mp\u001b[0m\u001b[0;34m[\u001b[0m\u001b[0mi\u001b[0m\u001b[0;34m]\u001b[0m \u001b[0;34m=\u001b[0m \u001b[0mnp\u001b[0m\u001b[0;34m.\u001b[0m\u001b[0mdot\u001b[0m\u001b[0;34m(\u001b[0m \u001b[0mp\u001b[0m\u001b[0;34m[\u001b[0m\u001b[0mi\u001b[0m\u001b[0;34m-\u001b[0m\u001b[0;36m1\u001b[0m\u001b[0;34m]\u001b[0m\u001b[0;34m,\u001b[0m \u001b[0mp\u001b[0m\u001b[0;34m[\u001b[0m\u001b[0mi\u001b[0m\u001b[0;34m]\u001b[0m \u001b[0;34m)\u001b[0m\u001b[0;34m\u001b[0m\u001b[0m\n\u001b[1;32m      4\u001b[0m \u001b[0mpterug\u001b[0m \u001b[0;34m=\u001b[0m \u001b[0mp\u001b[0m\u001b[0;34m.\u001b[0m\u001b[0mcopy\u001b[0m\u001b[0;34m(\u001b[0m\u001b[0;34m)\u001b[0m\u001b[0;34m\u001b[0m\u001b[0m\n\u001b[1;32m      5\u001b[0m \u001b[0;32mfor\u001b[0m \u001b[0mi\u001b[0m \u001b[0;32min\u001b[0m \u001b[0mrange\u001b[0m\u001b[0;34m(\u001b[0m\u001b[0mlen\u001b[0m\u001b[0;34m(\u001b[0m\u001b[0mp\u001b[0m\u001b[0;34m)\u001b[0m\u001b[0;34m-\u001b[0m\u001b[0;36m1\u001b[0m\u001b[0;34m,\u001b[0m \u001b[0;36m0\u001b[0m\u001b[0;34m,\u001b[0m \u001b[0;34m-\u001b[0m\u001b[0;36m1\u001b[0m\u001b[0;34m)\u001b[0m\u001b[0;34m:\u001b[0m\u001b[0;34m\u001b[0m\u001b[0m\n",
      "\u001b[0;31mNameError\u001b[0m: name 'posesold' is not defined"
     ]
    }
   ],
   "source": [
    "p = posesold.copy()\n",
    "for i in range(1, len(p)):\n",
    "    p[i] = np.dot( p[i-1], p[i] )\n",
    "pterug = p.copy()\n",
    "for i in range(len(p)-1, 0, -1):\n",
    "    pterug[i] = np.dot( np.linalg.pinv(pterug[i-1]), pterug[i] )\n",
    "\n",
    "print(posesold[:,2,3])\n",
    "pterug[:,2,3]"
   ]
  },
  {
   "cell_type": "markdown",
   "metadata": {},
   "source": [
    "Show the affine world coodinates for the first 3 poses"
   ]
  },
  {
   "cell_type": "code",
   "execution_count": null,
   "metadata": {
    "collapsed": true
   },
   "outputs": [],
   "source": [
    "points[:3]"
   ]
  },
  {
   "cell_type": "markdown",
   "metadata": {},
   "source": [
    "show the converted x,y coordinates to plot the trajectory"
   ]
  },
  {
   "cell_type": "code",
   "execution_count": null,
   "metadata": {
    "collapsed": true
   },
   "outputs": [],
   "source": [
    "coords[:3]"
   ]
  },
  {
   "cell_type": "code",
   "execution_count": null,
   "metadata": {
    "collapsed": true
   },
   "outputs": [],
   "source": [
    "show(draw_frame(frame[3281]))"
   ]
  },
  {
   "cell_type": "code",
   "execution_count": null,
   "metadata": {
    "collapsed": true
   },
   "outputs": [],
   "source": []
  }
 ],
 "metadata": {
  "kernelspec": {
   "display_name": "Python 3",
   "language": "python",
   "name": "python3"
  }
 },
 "nbformat": 4,
 "nbformat_minor": 2
}
