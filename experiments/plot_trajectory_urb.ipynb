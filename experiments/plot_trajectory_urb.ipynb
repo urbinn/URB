{
 "cells": [
  {
   "cell_type": "code",
   "execution_count": 1,
   "metadata": {
    "collapsed": true
   },
   "outputs": [],
   "source": [
    "import sys\n",
    "sys.path.append('..')\n",
    "from src.kitti import *\n",
    "import numpy as np\n",
    "import cv2\n",
    "%matplotlib inline"
   ]
  },
  {
   "cell_type": "markdown",
   "metadata": {},
   "source": [
    "Read frame transformations from KITTI sequence 00 into a list of frames (frame)."
   ]
  },
  {
   "cell_type": "code",
   "execution_count": 2,
   "metadata": {
    "collapsed": true
   },
   "outputs": [],
   "source": [
    "IMAGE_SIZE = 400\n",
    "\n",
    "def load(file):\n",
    "    keyframeids, frameids, poses = load_keyframes(file)\n",
    "    return keyframeids, frameids, poses.reshape(poses.shape[0], 4, 4)\n",
    "\n",
    "def load_csv(file):\n",
    "    poses = np.genfromtxt(file, delimiter= \" \")\n",
    "    poses = np.hstack([poses, np.repeat(np.array([[0,0,0,1.0]]), len(poses), axis=0) ])\n",
    "    return poses.reshape(poses.shape[0], 4, 4)\n",
    "\n",
    "def transform(poses):\n",
    "    points = np.repeat(np.array([[0,0,0,1.0]]), len(poses), axis=0) \n",
    "    for i in range(1, len(poses)):\n",
    "        points[:i] = np.dot(points[:i], poses[i].T)\n",
    "    return points\n",
    "        \n",
    "def transform2(poses):\n",
    "    points = poses[:,:,3]\n",
    "    return points\n",
    "   \n",
    "def transform3(poses):\n",
    "    points = np.repeat(np.array([[0,0,0,1.0]]), len(poses), axis=0) \n",
    "    for i in range(1, len(poses)):\n",
    "        points[i] = np.dot(points[i], poses[i].T)\n",
    "    return points\n",
    "    \n",
    "def plot_trajectory(points):\n",
    "    # remove y coordinate (we only use x and z to plot a view from above)\n",
    "    points = points[:, [0,2,3]]\n",
    "    # compute min and max\n",
    "    pmin = points.min(axis=0)\n",
    "    pmax = points.max(axis=0)\n",
    "    maxxy = max(pmax[0] - pmin[0], pmax[1] - pmin[1])\n",
    "\n",
    "    t = np.eye(3, dtype=np.float64)\n",
    "    t[0,0] = IMAGE_SIZE / maxxy\n",
    "    t[1,1] = -IMAGE_SIZE / maxxy\n",
    "    t[0,2] = -pmin[0] * IMAGE_SIZE / maxxy\n",
    "    t[1,2] = IMAGE_SIZE / maxxy + pmin[1] / maxxy + 100\n",
    "\n",
    "    return np.dot(points, t.T)\n",
    "    \n",
    "\n",
    "def plot_trajectory2(points):\n",
    "    # remove y coordinate (we only use x and z to plot a view from above)\n",
    "    points = points[:, [0,2,3]]\n",
    "    # compute min and max\n",
    "    pmin = points.min(axis=0)\n",
    "    pmax = points.max(axis=0)\n",
    "    maxxy = max(pmax[0] - pmin[0], pmax[1] - pmin[1]) * 1.01\n",
    "\n",
    "    t = np.eye(3, dtype=np.float64)\n",
    "    t[0,0] = IMAGE_SIZE / maxxy\n",
    "    t[1,1] = -IMAGE_SIZE / maxxy\n",
    "    t[0,2] = -pmin[0] * IMAGE_SIZE / maxxy\n",
    "    t[1,2] = IMAGE_SIZE / maxxy + pmin[1] / maxxy + 100\n",
    "    return np.dot(points, t.T)\n",
    "    \n",
    "def plot_trajectory3(points):\n",
    "    coords = []\n",
    "    minx = min([p[0] for p in points])\n",
    "    maxx = max([p[0] for p in points])\n",
    "    miny = min([p[2] for p in points])\n",
    "    maxy = max([p[2] for p in points])\n",
    "    maxxy = max(maxx - minx, maxy - miny)* 1.01\n",
    "\n",
    "    for p in points:\n",
    "        #print(p)\n",
    "        x = IMAGE_SIZE * (p[0] - minx) / (maxxy)\n",
    "        z = IMAGE_SIZE - IMAGE_SIZE * (p[2] - miny) / (maxxy)\n",
    "        coords.append([x, z])\n",
    "    return coords\n",
    "\n",
    "def new_image():\n",
    "    img = np.zeros((IMAGE_SIZE, IMAGE_SIZE, 3), np.uint8)\n",
    "    img[:] = 255 #or img.fill(255)\n",
    "    return img\n",
    "\n",
    "def draw(coords, img, color = (0,0,0)):\n",
    "    # Draw a black line with thickness of 2 px\n",
    "    for i in range(1,len(coords)):\n",
    "        cv2.line(img, (int(coords[i - 1][0]), int(coords[i - 1][1])), (int(coords[i][0]), int(coords[i][1])), color, 2)\n",
    "    return img"
   ]
  },
  {
   "cell_type": "markdown",
   "metadata": {},
   "source": [
    "Compute the frame positions by mutiplying every point by a sequence of their transformations\n",
    "vectorized to improve speed"
   ]
  },
  {
   "cell_type": "code",
   "execution_count": 3,
   "metadata": {
    "collapsed": true
   },
   "outputs": [],
   "source": [
    "sequence = 2"
   ]
  },
  {
   "cell_type": "code",
   "execution_count": 5,
   "metadata": {},
   "outputs": [
    {
     "data": {
      "image/png": "[encoded data removed]",
      "text/plain": [
       "<matplotlib.figure.Figure at 0x7fdaa02d13c8>"
      ]
     },
     "metadata": {},
     "output_type": "display_data"
    }
   ],
   "source": [
    "folder = '/data/urbinn/datasets/urb_trajectory_output'\n",
    "#folder = '/home/jeroen/notebooks/urb/resultsba'\n",
    "keyframeids, frameids, poses = load(folder + '/keyframes_%02d_all_17_1.6_1.6.npy'%(sequence))\n",
    "\n",
    "posesold = poses\n",
    "points = transform(poses[:])\n",
    "coords = plot_trajectory3(points)\n",
    "p = draw(coords, new_image())\n",
    "\n",
    "gt = load_csv('/data/urbinn/datasets/kitti/poses/%02d.txt'%(sequence))\n",
    "pointsgt = transform2(gt)\n",
    "coordsgt = plot_trajectory3(pointsgt)\n",
    "show2(draw(coordsgt, new_image()), p)"
   ]
  },
  {
   "cell_type": "code",
   "execution_count": null,
   "metadata": {},
   "outputs": [],
   "source": [
    "folder = '/data/urbinn/datasets/urb_trajectory_rotationfixed'\n",
    "folder = '/home/jeroen/notebooks/urb/resultsba'\n",
    "keyframeids, frameids, poses = load(folder + '/keyframes_%02d_all_17_1.6_1.6.npy'%(sequence))\n",
    "\n",
    "posesnew = poses\n",
    "points = transform3(poses[:])\n",
    "coords = plot_trajectory(points)\n",
    "p = draw(coords, new_image())\n",
    "\n",
    "gt = load_csv('/data/urbinn/datasets/kitti/poses/%02d.txt'%(sequence))\n",
    "pointsgt = transform2(gt)\n",
    "coordsgt = plot_trajectory3(pointsgt)\n",
    "show2(draw(coordsgt, new_image()), p)"
   ]
  },
  {
   "cell_type": "code",
   "execution_count": 70,
   "metadata": {},
   "outputs": [
    {
     "data": {
      "text/plain": [
       "array([[[  1.00000000e+00,   0.00000000e+00,   0.00000000e+00,\n",
       "           0.00000000e+00],\n",
       "        [  0.00000000e+00,   1.00000000e+00,   0.00000000e+00,\n",
       "           0.00000000e+00],\n",
       "        [  0.00000000e+00,   0.00000000e+00,   1.00000000e+00,\n",
       "           0.00000000e+00],\n",
       "        [  0.00000000e+00,   0.00000000e+00,   0.00000000e+00,\n",
       "           1.00000000e+00]],\n",
       "\n",
       "       [[  9.83956112e-01,  -9.96469778e-03,   1.78132182e-01,\n",
       "           6.17441894e-02],\n",
       "        [  8.56591604e-03,   9.99926159e-01,   8.61987158e-03,\n",
       "           3.12014517e-02],\n",
       "        [ -1.78204923e-01,  -6.95571001e-03,   9.83968812e-01,\n",
       "          -1.62573372e+00],\n",
       "        [  0.00000000e+00,   0.00000000e+00,   0.00000000e+00,\n",
       "           1.00000000e+00]],\n",
       "\n",
       "       [[  9.03171614e-01,  -2.84669124e-02,   4.28334765e-01,\n",
       "          -3.18327287e-01],\n",
       "        [  2.47271322e-02,   9.99592047e-01,   1.42936224e-02,\n",
       "           7.39654289e-02],\n",
       "        [ -4.28566920e-01,  -2.31810362e-03,   9.03507068e-01,\n",
       "          -3.27083244e+00],\n",
       "        [  0.00000000e+00,   0.00000000e+00,   0.00000000e+00,\n",
       "           1.00000000e+00]],\n",
       "\n",
       "       [[  8.40142965e-01,  -2.01242616e-02,   5.41991524e-01,\n",
       "          -6.83410652e-01],\n",
       "        [  1.69519243e-02,   9.99797484e-01,   1.08454578e-02,\n",
       "           8.63089936e-02],\n",
       "        [ -5.42100019e-01,   7.60642004e-05,   8.40313967e-01,\n",
       "          -3.92344110e+00],\n",
       "        [  0.00000000e+00,   0.00000000e+00,   0.00000000e+00,\n",
       "           1.00000000e+00]],\n",
       "\n",
       "       [[  7.79331179e-01,  -2.77094378e-02,   6.25999281e-01,\n",
       "          -1.02142170e+00],\n",
       "        [  2.52374386e-02,   9.99599183e-01,   1.28275045e-02,\n",
       "           1.04911368e-01],\n",
       "        [ -6.26103813e-01,   5.80174421e-03,   7.79718125e-01,\n",
       "          -4.34199196e+00],\n",
       "        [  0.00000000e+00,   0.00000000e+00,   0.00000000e+00,\n",
       "           1.00000000e+00]],\n",
       "\n",
       "       [[  7.04304857e-01,  -2.01197226e-02,   7.09612475e-01,\n",
       "          -1.46348994e+00],\n",
       "        [  1.91888551e-02,   9.99772611e-01,   9.30133557e-03,\n",
       "           1.09091974e-01],\n",
       "        [ -7.09638257e-01,   7.06567514e-03,   7.04530780e-01,\n",
       "          -4.76866494e+00],\n",
       "        [  0.00000000e+00,   0.00000000e+00,   0.00000000e+00,\n",
       "           1.00000000e+00]],\n",
       "\n",
       "       [[  5.70353640e-01,  -6.96207358e-03,   8.21369743e-01,\n",
       "          -2.24505955e+00],\n",
       "        [  1.45328916e-02,   9.99893086e-01,  -1.61627381e-03,\n",
       "           1.60476172e-01],\n",
       "        [ -8.21270674e-01,   1.28587251e-02,   5.70393840e-01,\n",
       "          -5.35455600e+00],\n",
       "        [  0.00000000e+00,   0.00000000e+00,   0.00000000e+00,\n",
       "           1.00000000e+00]],\n",
       "\n",
       "       [[  5.19882167e-01,  -5.28617776e-03,   8.54221627e-01,\n",
       "          -2.52586999e+00],\n",
       "        [  1.50837767e-02,   9.99881755e-01,  -2.99247143e-03,\n",
       "           1.71348748e-01],\n",
       "        [ -8.54104802e-01,   1.44406208e-02,   5.19900429e-01,\n",
       "          -5.53003067e+00],\n",
       "        [  0.00000000e+00,   0.00000000e+00,   0.00000000e+00,\n",
       "           1.00000000e+00]],\n",
       "\n",
       "       [[  4.16072263e-01,  -3.01943379e-03,   9.09326539e-01,\n",
       "          -3.07095507e+00],\n",
       "        [  1.71648011e-02,   9.99842394e-01,  -4.53394854e-03,\n",
       "           1.75898594e-01],\n",
       "        [ -9.09169534e-01,   1.74948594e-02,   4.16058516e-01,\n",
       "          -5.88724039e+00],\n",
       "        [  0.00000000e+00,   0.00000000e+00,   0.00000000e+00,\n",
       "           1.00000000e+00]],\n",
       "\n",
       "       [[  3.07591405e-01,   5.44644841e-04,   9.51518382e-01,\n",
       "          -3.72299636e+00],\n",
       "        [  2.23037922e-02,   9.99720950e-01,  -7.78224340e-03,\n",
       "           2.25581569e-01],\n",
       "        [ -9.51257099e-01,   2.36162195e-02,   3.07493424e-01,\n",
       "          -6.08555679e+00],\n",
       "        [  0.00000000e+00,   0.00000000e+00,   0.00000000e+00,\n",
       "           1.00000000e+00]]])"
      ]
     },
     "execution_count": 70,
     "metadata": {},
     "output_type": "execute_result"
    }
   ],
   "source": [
    "#comparez = np.hstack([posesnew[:,2,3].reshape((-1,1)), posesold[:,2,3].reshape((-1,1))])\n",
    "znew = posesnew[:,[0,2],3].reshape((-1,2))\n",
    "zold = posesold[:,[0,2],3].reshape((-1,2))\n",
    "znew2 = np.array((len(znew), 2))\n",
    "#znew2[0] = znew[0]\n",
    "posesnew[:10]"
   ]
  },
  {
   "cell_type": "code",
   "execution_count": 56,
   "metadata": {},
   "outputs": [
    {
     "name": "stdout",
     "output_type": "stream",
     "text": [
      "[  0.          -2.84499075  -8.83428824  -7.72307347 -10.11382301\n",
      " -13.63033392  -7.11867111  -1.48455508 -10.94200983  -9.47702003\n",
      "  -7.79740409  -8.97923722  -8.31843629  -6.67390092  -8.66951972\n",
      "  -4.13459171  -6.43087636  -4.15862223 -12.02870916  -8.59069278\n",
      "  -5.17345818  -2.82189697  -7.74412606  -2.86136314  -4.34619961\n",
      "  -5.68947208 -10.17639467 -10.57885523 -10.8362151  -10.35870421\n",
      "  -5.6464397   -7.91372382  -8.08793396 -10.43989473  -4.68519814\n",
      "  -8.41507618  -6.25061309  -4.64089991  -4.60010689  -2.78249127\n",
      "  -1.44626566  -1.81016212  -3.28613071  -5.1917992   -4.65930052\n",
      "  -3.2445208   -2.28349907  -0.94794767  -3.40463506  -5.05525465\n",
      "  -6.81110838 -10.11266591  -3.87010946  -6.98530698  -3.37581884\n",
      "  -4.93240884  -7.12510415  -9.45254477  -3.28184716  -4.84531785\n",
      "  -5.16460898  -5.04613155  -3.72914635]\n"
     ]
    },
    {
     "data": {
      "text/plain": [
       "array([  0.        ,  -2.84499075,  -8.83428824,  -7.72307347,\n",
       "       -10.11382301, -13.63033392,  -7.11867111,  -1.48455508,\n",
       "       -10.94200983,  -9.47702003,  -7.79740409,  -8.97923722,\n",
       "        -8.31843629,  -6.67390092,  -8.66951972,  -4.13459171,\n",
       "        -6.43087636,  -4.15862223, -12.02870916,  -8.59069278,\n",
       "        -5.17345818,  -2.82189697,  -7.74412606,  -2.86136314,\n",
       "        -4.34619961,  -5.68947208, -10.17639467, -10.57885523,\n",
       "       -10.8362151 , -10.35870421,  -5.6464397 ,  -7.91372382,\n",
       "        -8.08793396, -10.43989473,  -4.68519814,  -8.41507618,\n",
       "        -6.25061309,  -4.64089991,  -4.60010689,  -2.78249127,\n",
       "        -1.44626566,  -1.81016212,  -3.28613071,  -5.1917992 ,\n",
       "        -4.65930052,  -3.2445208 ,  -2.28349907,  -0.94794767,\n",
       "        -3.40463506,  -5.05525465,  -6.81110838, -10.11266591,\n",
       "        -3.87010946,  -6.98530698,  -3.37581884,  -4.93240884,\n",
       "        -7.12510415,  -9.45254477,  -3.28184716,  -4.84531785,\n",
       "        -5.16460898,  -5.04613155,  -3.72914635])"
      ]
     },
     "execution_count": 56,
     "metadata": {},
     "output_type": "execute_result"
    }
   ],
   "source": [
    "p = posesold.copy()\n",
    "for i in range(1, len(p)):\n",
    "    p[i] = np.dot( p[i-1], p[i] )\n",
    "pterug = p.copy()\n",
    "for i in range(len(p)-1, 0, -1):\n",
    "    pterug[i] = np.dot( np.linalg.pinv(pterug[i-1]), pterug[i] )\n",
    "\n",
    "print(posesold[:,2,3])\n",
    "pterug[:,2,3]"
   ]
  },
  {
   "cell_type": "markdown",
   "metadata": {},
   "source": [
    "Show the affine world coodinates for the first 3 poses"
   ]
  },
  {
   "cell_type": "code",
   "execution_count": null,
   "metadata": {},
   "outputs": [],
   "source": [
    "points[:3]"
   ]
  },
  {
   "cell_type": "markdown",
   "metadata": {},
   "source": [
    "show the converted x,y coordinates to plot the trajectory"
   ]
  },
  {
   "cell_type": "code",
   "execution_count": null,
   "metadata": {},
   "outputs": [],
   "source": [
    "coords[:3]"
   ]
  },
  {
   "cell_type": "code",
   "execution_count": null,
   "metadata": {
    "collapsed": true
   },
   "outputs": [],
   "source": []
  }
 ],
 "metadata": {
  "kernelspec": {
   "display_name": "Python 3",
   "language": "python",
   "name": "python3"
  },
  "language_info": {
   "codemirror_mode": {
    "name": "ipython",
    "version": 3
   },
   "file_extension": ".py",
   "mimetype": "text/x-python",
   "name": "python",
   "nbconvert_exporter": "python",
   "pygments_lexer": "ipython3",
   "version": "3.6.1"
  }
 },
 "nbformat": 4,
 "nbformat_minor": 2
}
