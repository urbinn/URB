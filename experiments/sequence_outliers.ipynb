{
 "cells": [
  {
   "cell_type": "markdown",
   "metadata": {},
   "source": [
    "# Store kitti sequence\n",
    "\n",
    "Create a sequence"
   ]
  },
  {
   "cell_type": "code",
   "execution_count": 149,
   "metadata": {
    "collapsed": true
   },
   "outputs": [],
   "source": [
    "# when you change a setting you have to restart the kernel (settings are only loaded once)\n",
    "import os\n",
    "#os.environ['STEREO_CONFIDENCE'] = '1.6'\n",
    "os.environ['SEQUENCE_CONFIDENCE'] = '1.8'\n",
    "#os.environ['PATCH_SIZE'] = '17'\n",
    "FRAMECOUNT = 1101\n",
    "\n",
    "import sys\n",
    "sys.path.append('..')\n",
    "from src.kitti import *\n",
    "%matplotlib inline\n",
    "import numpy as np\n",
    "import glob\n",
    "import urbg2o\n",
    "import cv2\n",
    "\n",
    "\n",
    "IMAGE_SIZE = 400\n",
    "\n",
    "def load(file):\n",
    "    keyframeids, frameids, poses = load_keyframes(file)\n",
    "    return keyframeids, frameids, poses.reshape(poses.shape[0], 4, 4)\n",
    "\n",
    "def load_csv(file):\n",
    "    poses = np.genfromtxt(file, delimiter= \" \")\n",
    "    poses = np.hstack([poses, np.repeat(np.array([[0,0,0,1.0]]), len(poses), axis=0) ])\n",
    "    return poses.reshape(poses.shape[0], 4, 4)\n",
    "\n",
    "def transform(poses):\n",
    "    points = np.repeat(np.array([[0,0,0,1.0]]), len(poses), axis=0) \n",
    "    for i in range(1, len(poses)):\n",
    "        points[:i] = np.dot(points[:i], poses[i].T)\n",
    "    return points\n",
    "        \n",
    "def transform2(poses):\n",
    "    points = poses[:,:,3]\n",
    "    return points\n",
    "    \n",
    "def plot_trajectory(points):\n",
    "    # remove y coordinate (we only use x and z to plot a view from above)\n",
    "    points = points[:, [0,2,3]]\n",
    "    # compute min and max\n",
    "    pmin = points.min(axis=0)\n",
    "    pmax = points.max(axis=0)\n",
    "    maxxy = max(pmax[0] - pmin[0], pmax[1] - pmin[1])\n",
    "\n",
    "    t = np.eye(3, dtype=np.float64)\n",
    "    t[0,0] = IMAGE_SIZE / maxxy\n",
    "    t[1,1] = -IMAGE_SIZE / maxxy\n",
    "    t[0,2] = -pmin[0] * IMAGE_SIZE / maxxy\n",
    "    t[1,2] = IMAGE_SIZE / maxxy + pmin[1] / maxxy + 100\n",
    "\n",
    "    return np.dot(points, t.T)\n",
    "    \n",
    "\n",
    "def plot_trajectory2(points):\n",
    "    # remove y coordinate (we only use x and z to plot a view from above)\n",
    "    points = points[:, [0,2,3]]\n",
    "    # compute min and max\n",
    "    pmin = points.min(axis=0)\n",
    "    pmax = points.max(axis=0)\n",
    "    maxxy = max(pmax[0] - pmin[0], pmax[1] - pmin[1]) * 1.01\n",
    "\n",
    "    t = np.eye(3, dtype=np.float64)\n",
    "    t[0,0] = IMAGE_SIZE / maxxy\n",
    "    t[1,1] = -IMAGE_SIZE / maxxy\n",
    "    t[0,2] = -pmin[0] * IMAGE_SIZE / maxxy\n",
    "    t[1,2] = IMAGE_SIZE / maxxy + pmin[1] / maxxy + 100\n",
    "    return np.dot(points, t.T)\n",
    "    \n",
    "def plot_trajectory3(points):\n",
    "    coords = []\n",
    "    minx = min([p[0] for p in points])\n",
    "    maxx = max([p[0] for p in points])\n",
    "    miny = min([p[2] for p in points])\n",
    "    maxy = max([p[2] for p in points])\n",
    "    maxxy = max(maxx - minx, maxy - miny)* 1.01\n",
    "\n",
    "    for p in points:\n",
    "        #print(p)\n",
    "        x = IMAGE_SIZE * (p[0] - minx) / (maxxy)\n",
    "        z = IMAGE_SIZE - IMAGE_SIZE * (p[2] - miny) / (maxxy)\n",
    "        coords.append([x, z])\n",
    "    return coords\n",
    "\n",
    "def new_image():\n",
    "    img = np.zeros((IMAGE_SIZE, IMAGE_SIZE, 3), np.uint8)\n",
    "    img[:] = 255 #or img.fill(255)\n",
    "    return img\n",
    "\n",
    "def draw(coords, img, color = (0,0,0)):\n",
    "    # Draw a black line with thickness of 2 px\n",
    "    for i in range(1,len(coords)):\n",
    "        cv2.line(img, (int(coords[i - 1][0]), int(coords[i - 1][1])), (int(coords[i][0]), int(coords[i][1])), color, 2)\n",
    "    return img"
   ]
  },
  {
   "cell_type": "markdown",
   "metadata": {},
   "source": [
    "Read the first 10 frames from KITTI sequence 00."
   ]
  },
  {
   "cell_type": "code",
   "execution_count": 176,
   "metadata": {},
   "outputs": [
    {
     "name": "stdout",
     "output_type": "stream",
     "text": [
      "CPU times: user 18.3 ms, sys: 4.01 ms, total: 22.3 ms\n",
      "Wall time: 21.6 ms\n"
     ]
    }
   ],
   "source": [
    "%%time\n",
    "LEFTDIR = '/data/urbinn/datasets/kitti/sequences/00/image_0'\n",
    "RIGHTDIR = '/data/urbinn/datasets/kitti/sequences/00/image_1'\n",
    "\n",
    "frame = []\n",
    "for filename in sorted(glob.glob(LEFTDIR + '/*')):\n",
    "    left_frame = Frame(filename, RIGHTDIR)\n",
    "    frame.append(left_frame)"
   ]
  },
  {
   "cell_type": "markdown",
   "metadata": {},
   "source": [
    "Add the frames to a sequence. By adjusting the [:] you can use only a slice of the list of frames."
   ]
  },
  {
   "cell_type": "code",
   "execution_count": 177,
   "metadata": {},
   "outputs": [
    {
     "name": "stderr",
     "output_type": "stream",
     "text": [
      "\r",
      "                                                                               \r",
      "\r",
      "N/A% (0 of 15) |                         | Elapsed Time: 0:00:00 ETA:  --:--:--"
     ]
    },
    {
     "name": "stdout",
     "output_type": "stream",
     "text": [
      "set_previous_keyframe 18272\n"
     ]
    },
    {
     "name": "stderr",
     "output_type": "stream",
     "text": [
      "\r",
      "                                                                               \r",
      "\r",
      "  6% (1 of 15) |#                         | Elapsed Time: 0:00:03 ETA:  0:00:44"
     ]
    },
    {
     "name": "stdout",
     "output_type": "stream",
     "text": [
      "get_world_pose first  18272\n",
      "set_previous_keyframe 18273\n"
     ]
    },
    {
     "name": "stderr",
     "output_type": "stream",
     "text": [
      "\r",
      "                                                                               \r",
      "\r",
      " 13% (2 of 15) |###                       | Elapsed Time: 0:00:07 ETA:  0:00:45"
     ]
    },
    {
     "name": "stdout",
     "output_type": "stream",
     "text": [
      "get_world_pose  18273 [[ 0.99998995  0.00288688  0.00342995  0.00102908]\n",
      " [-0.00289331  0.99999406  0.00187177  0.00838253]\n",
      " [-0.00342453 -0.00188167  0.99999237 -0.66897395]\n",
      " [ 0.          0.          0.          1.        ]]\n",
      "set_previous_keyframe 18274\n"
     ]
    },
    {
     "name": "stderr",
     "output_type": "stream",
     "text": [
      "\r",
      "                                                                               \r",
      "\r",
      " 20% (3 of 15) |#####                     | Elapsed Time: 0:00:11 ETA:  0:00:47"
     ]
    },
    {
     "name": "stdout",
     "output_type": "stream",
     "text": [
      "get_world_pose  18274 [[ 0.9999664   0.0021522   0.00790981 -0.01602757]\n",
      " [-0.00218732  0.99998778  0.00443313 -0.00738578]\n",
      " [-0.00790017 -0.00445029  0.99995889 -1.40046395]\n",
      " [ 0.          0.          0.          1.        ]]\n",
      "set_previous_keyframe 18275\n"
     ]
    },
    {
     "name": "stderr",
     "output_type": "stream",
     "text": [
      "\r",
      "                                                                               \r",
      "\r",
      " 26% (4 of 15) |######                    | Elapsed Time: 0:00:16 ETA:  0:00:44"
     ]
    },
    {
     "name": "stdout",
     "output_type": "stream",
     "text": [
      "get_world_pose  18275 [[  9.99888535e-01   1.09117930e-03   1.48905163e-02  -9.64402810e-02]\n",
      " [ -1.19676006e-03   9.99974196e-01   7.08340245e-03  -3.26290463e-02]\n",
      " [ -1.48824028e-02  -7.10043327e-03   9.99864040e-01  -2.21124703e+00]\n",
      " [  0.00000000e+00   0.00000000e+00   0.00000000e+00   1.00000000e+00]]\n",
      "set_previous_keyframe 18276\n"
     ]
    },
    {
     "name": "stderr",
     "output_type": "stream",
     "text": [
      "\r",
      "                                                                               \r",
      "\r",
      " 33% (5 of 15) |########                  | Elapsed Time: 0:00:20 ETA:  0:00:40"
     ]
    },
    {
     "name": "stdout",
     "output_type": "stream",
     "text": [
      "get_world_pose  18276 [[  9.99749749e-01  -5.18512793e-04   2.23644855e-02  -1.63892599e-01]\n",
      " [  3.31194861e-04   9.99964844e-01   8.37857795e-03  -5.72405860e-02]\n",
      " [ -2.23680436e-02  -8.36907420e-03   9.99714774e-01  -3.02128603e+00]\n",
      " [  0.00000000e+00   0.00000000e+00   0.00000000e+00   1.00000000e+00]]\n",
      "set_previous_keyframe 18277\n"
     ]
    },
    {
     "name": "stderr",
     "output_type": "stream",
     "text": [
      "\r",
      "                                                                               \r",
      "\r",
      " 40% (6 of 15) |##########                | Elapsed Time: 0:00:23 ETA:  0:00:35"
     ]
    },
    {
     "name": "stdout",
     "output_type": "stream",
     "text": [
      "get_world_pose  18277 [[  9.99596359e-01   3.68446009e-05   2.84098242e-02  -2.24975907e-01]\n",
      " [ -2.35971980e-04   9.99975431e-01   7.00578206e-03  -2.07130527e-02]\n",
      " [ -2.84088681e-02  -7.00965816e-03   9.99571809e-01  -3.79196672e+00]\n",
      " [  0.00000000e+00   0.00000000e+00   0.00000000e+00   1.00000000e+00]]\n",
      "set_previous_keyframe 18278\n"
     ]
    },
    {
     "name": "stderr",
     "output_type": "stream",
     "text": [
      "\r",
      "                                                                               \r",
      "\r",
      " 46% (7 of 15) |############              | Elapsed Time: 0:00:27 ETA:  0:00:31"
     ]
    },
    {
     "name": "stdout",
     "output_type": "stream",
     "text": [
      "get_world_pose  18278 [[  9.99378566e-01  -1.17268018e-03   3.52293431e-02  -2.96417675e-01]\n",
      " [  9.51869278e-04   9.99979803e-01   6.28393044e-03   1.83013817e-02]\n",
      " [ -3.52360006e-02  -6.24649166e-03   9.99359498e-01  -4.61303414e+00]\n",
      " [  0.00000000e+00   0.00000000e+00   0.00000000e+00   1.00000000e+00]]\n",
      "set_previous_keyframe 18279\n"
     ]
    },
    {
     "name": "stderr",
     "output_type": "stream",
     "text": [
      "\r",
      "                                                                               \r",
      "\r",
      " 53% (8 of 15) |#############             | Elapsed Time: 0:00:32 ETA:  0:00:28"
     ]
    },
    {
     "name": "stdout",
     "output_type": "stream",
     "text": [
      "get_world_pose  18279 [[  9.99093138e-01  -3.81515110e-03   4.24069143e-02  -3.75784812e-01]\n",
      " [  3.59376723e-03   9.99979521e-01   5.29547587e-03   5.88981527e-02]\n",
      " [ -4.24262489e-02  -5.13827303e-03   9.99086388e-01  -5.45246456e+00]\n",
      " [  0.00000000e+00   0.00000000e+00   0.00000000e+00   1.00000000e+00]]\n",
      "set_previous_keyframe 18280\n"
     ]
    },
    {
     "name": "stderr",
     "output_type": "stream",
     "text": [
      "\r",
      "                                                                               \r",
      "\r",
      " 60% (9 of 15) |###############           | Elapsed Time: 0:00:36 ETA:  0:00:24"
     ]
    },
    {
     "name": "stdout",
     "output_type": "stream",
     "text": [
      "get_world_pose  18280 [[  9.98701085e-01  -1.19804588e-02   4.95238500e-02  -6.25986765e-01]\n",
      " [  1.18426732e-02   9.99925146e-01   3.07470827e-03   1.30993261e-01]\n",
      " [ -4.95569794e-02  -2.48421971e-03   9.98768209e-01  -5.90052864e+00]\n",
      " [  0.00000000e+00   0.00000000e+00   0.00000000e+00   1.00000000e+00]]\n",
      "set_previous_keyframe 18281\n"
     ]
    },
    {
     "name": "stderr",
     "output_type": "stream",
     "text": [
      "\r",
      "                                                                               \r",
      "\r",
      " 66% (10 of 15) |################         | Elapsed Time: 0:00:39 ETA:  0:00:20"
     ]
    },
    {
     "name": "stdout",
     "output_type": "stream",
     "text": [
      "get_world_pose  18281 [[  9.98111827e-01  -1.57301259e-02   5.93746151e-02  -9.08514287e-01]\n",
      " [  1.58832652e-02   9.99871631e-01  -2.10811036e-03   2.12585099e-01]\n",
      " [ -5.93338324e-02   3.04719264e-03   9.98233545e-01  -6.38476497e+00]\n",
      " [  0.00000000e+00   0.00000000e+00   0.00000000e+00   1.00000000e+00]]\n",
      "set_previous_keyframe 18282\n"
     ]
    },
    {
     "name": "stderr",
     "output_type": "stream",
     "text": [
      "\r",
      "                                                                               \r",
      "\r",
      " 73% (11 of 15) |##################       | Elapsed Time: 0:00:44 ETA:  0:00:16"
     ]
    },
    {
     "name": "stdout",
     "output_type": "stream",
     "text": [
      "get_world_pose  18282 [[  9.97742654e-01  -1.35721109e-02   6.57677265e-02  -1.00760471e+00]\n",
      " [  1.40610988e-02   9.99876790e-01  -6.97788094e-03   2.63332498e-01]\n",
      " [ -6.56649187e-02   7.88689596e-03   9.97810561e-01  -7.22636619e+00]\n",
      " [  0.00000000e+00   0.00000000e+00   0.00000000e+00   1.00000000e+00]]\n",
      "set_previous_keyframe 18283\n"
     ]
    },
    {
     "name": "stderr",
     "output_type": "stream",
     "text": [
      "\r",
      "                                                                               \r",
      "\r",
      " 80% (12 of 15) |####################     | Elapsed Time: 0:00:49 ETA:  0:00:12"
     ]
    },
    {
     "name": "stdout",
     "output_type": "stream",
     "text": [
      "get_world_pose  18283 [[ 0.99736813 -0.01266096  0.07138985 -1.1140672 ]\n",
      " [ 0.01335248  0.99986836 -0.00921768  0.31683216]\n",
      " [-0.07126375  0.01014665  0.9974059  -8.08364726]\n",
      " [ 0.          0.          0.          1.        ]]\n",
      "set_previous_keyframe 18284\n"
     ]
    },
    {
     "name": "stderr",
     "output_type": "stream",
     "text": [
      "\r",
      "                                                                               \r",
      "\r",
      " 86% (13 of 15) |#####################    | Elapsed Time: 0:00:53 ETA:  0:00:08"
     ]
    },
    {
     "name": "stdout",
     "output_type": "stream",
     "text": [
      "get_world_pose  18284 [[ 0.99697398 -0.01682406  0.07589354 -1.37436329]\n",
      " [ 0.01768352  0.99978673 -0.01066675  0.38135783]\n",
      " [-0.07569789  0.01197654  0.99705887 -8.45033932]\n",
      " [ 0.          0.          0.          1.        ]]\n",
      "set_previous_keyframe 18285\n"
     ]
    },
    {
     "name": "stderr",
     "output_type": "stream",
     "text": [
      "\r",
      "                                                                               \r",
      "\r",
      " 93% (14 of 15) |#######################  | Elapsed Time: 0:00:58 ETA:  0:00:04"
     ]
    },
    {
     "name": "stdout",
     "output_type": "stream",
     "text": [
      "get_world_pose  18285 [[ 0.99676065 -0.01360441  0.07926617 -1.46798489]\n",
      " [ 0.01447574  0.99984084 -0.01042814  0.3994181 ]\n",
      " [-0.07911168  0.01154179  0.99679894 -9.30306928]\n",
      " [ 0.          0.          0.          1.        ]]\n",
      "set_previous_keyframe 18286\n"
     ]
    },
    {
     "name": "stderr",
     "output_type": "stream",
     "text": [
      "100% (15 of 15) |#########################| Elapsed Time: 0:01:01 Time: 0:01:01\n"
     ]
    },
    {
     "name": "stdout",
     "output_type": "stream",
     "text": [
      "get_world_pose  18286 [[  0.99652214  -0.01378244   0.08218066  -1.5521411 ]\n",
      " [  0.01471414   0.99983403  -0.01074229   0.40684799]\n",
      " [ -0.08201897   0.01191415   0.99655955 -10.15504945]\n",
      " [  0.           0.           0.           1.        ]]\n"
     ]
    }
   ],
   "source": [
    "seq = Sequence()\n",
    "for f in ProgressBar()(frame[:15]):\n",
    "    seq.add_keyframe(f)"
   ]
  },
  {
   "cell_type": "markdown",
   "metadata": {},
   "source": [
    "Example of how to save a set of covisible keyframes, fixed keyframes, mappoints and edges to use for local bundle adjustment"
   ]
  },
  {
   "cell_type": "code",
   "execution_count": 178,
   "metadata": {},
   "outputs": [
    {
     "name": "stdout",
     "output_type": "stream",
     "text": [
      "Keyframes count\n",
      " 15 \n",
      "\n"
     ]
    }
   ],
   "source": [
    "print('Keyframes count\\n', (len(seq.keyframes)), '\\n')\n",
    "\n",
    "def keyframes_to_np(keyframes):\n",
    "    return np.hstack([ [ [ kf.keyframeid] for kf in keyframes ], [ [kf.frameid] for kf in keyframes ], [ kf.get_world_pose().flatten() for kf in keyframes ] ])"
   ]
  },
  {
   "cell_type": "code",
   "execution_count": 179,
   "metadata": {},
   "outputs": [],
   "source": [
    "#for f in seq.keyframes:\n",
    "#    print(f.get_world_pose())"
   ]
  },
  {
   "cell_type": "code",
   "execution_count": 180,
   "metadata": {},
   "outputs": [
    {
     "data": {
      "text/plain": [
       "array([[  9.99596359e-01,   3.68446009e-05,   2.84098242e-02,\n",
       "         -2.24975907e-01,  -2.35971980e-04,   9.99975431e-01,\n",
       "          7.00578206e-03,  -2.07130527e-02,  -2.84088681e-02,\n",
       "         -7.00965816e-03,   9.99571809e-01,  -3.79196672e+00,\n",
       "          0.00000000e+00,   0.00000000e+00,   0.00000000e+00,\n",
       "          1.00000000e+00],\n",
       "       [  9.99378566e-01,  -1.17268018e-03,   3.52293431e-02,\n",
       "         -2.96417675e-01,   9.51869278e-04,   9.99979803e-01,\n",
       "          6.28393044e-03,   1.83013817e-02,  -3.52360006e-02,\n",
       "         -6.24649166e-03,   9.99359498e-01,  -4.61303414e+00,\n",
       "          0.00000000e+00,   0.00000000e+00,   0.00000000e+00,\n",
       "          1.00000000e+00],\n",
       "       [  9.99093138e-01,  -3.81515110e-03,   4.24069143e-02,\n",
       "         -3.75784812e-01,   3.59376723e-03,   9.99979521e-01,\n",
       "          5.29547587e-03,   5.88981527e-02,  -4.24262489e-02,\n",
       "         -5.13827303e-03,   9.99086388e-01,  -5.45246456e+00,\n",
       "          0.00000000e+00,   0.00000000e+00,   0.00000000e+00,\n",
       "          1.00000000e+00],\n",
       "       [  9.98701085e-01,  -1.19804588e-02,   4.95238500e-02,\n",
       "         -6.25986765e-01,   1.18426732e-02,   9.99925146e-01,\n",
       "          3.07470827e-03,   1.30993261e-01,  -4.95569794e-02,\n",
       "         -2.48421971e-03,   9.98768209e-01,  -5.90052864e+00,\n",
       "          0.00000000e+00,   0.00000000e+00,   0.00000000e+00,\n",
       "          1.00000000e+00],\n",
       "       [  9.98111827e-01,  -1.57301259e-02,   5.93746151e-02,\n",
       "         -9.08514287e-01,   1.58832652e-02,   9.99871631e-01,\n",
       "         -2.10811036e-03,   2.12585099e-01,  -5.93338324e-02,\n",
       "          3.04719264e-03,   9.98233545e-01,  -6.38476497e+00,\n",
       "          0.00000000e+00,   0.00000000e+00,   0.00000000e+00,\n",
       "          1.00000000e+00],\n",
       "       [  9.97742654e-01,  -1.35721109e-02,   6.57677265e-02,\n",
       "         -1.00760471e+00,   1.40610988e-02,   9.99876790e-01,\n",
       "         -6.97788094e-03,   2.63332498e-01,  -6.56649187e-02,\n",
       "          7.88689596e-03,   9.97810561e-01,  -7.22636619e+00,\n",
       "          0.00000000e+00,   0.00000000e+00,   0.00000000e+00,\n",
       "          1.00000000e+00],\n",
       "       [  9.97368131e-01,  -1.26609593e-02,   7.13898495e-02,\n",
       "         -1.11406720e+00,   1.33524836e-02,   9.99868364e-01,\n",
       "         -9.21768270e-03,   3.16832165e-01,  -7.12637474e-02,\n",
       "          1.01466548e-02,   9.97405897e-01,  -8.08364726e+00,\n",
       "          0.00000000e+00,   0.00000000e+00,   0.00000000e+00,\n",
       "          1.00000000e+00],\n",
       "       [  9.96973983e-01,  -1.68240621e-02,   7.58935372e-02,\n",
       "         -1.37436329e+00,   1.76835220e-02,   9.99786734e-01,\n",
       "         -1.06667479e-02,   3.81357830e-01,  -7.56978937e-02,\n",
       "          1.19765352e-02,   9.97058871e-01,  -8.45033932e+00,\n",
       "          0.00000000e+00,   0.00000000e+00,   0.00000000e+00,\n",
       "          1.00000000e+00],\n",
       "       [  9.96760651e-01,  -1.36044149e-02,   7.92661661e-02,\n",
       "         -1.46798489e+00,   1.44757400e-02,   9.99840841e-01,\n",
       "         -1.04281367e-02,   3.99418099e-01,  -7.91116814e-02,\n",
       "          1.15417927e-02,   9.96798941e-01,  -9.30306928e+00,\n",
       "          0.00000000e+00,   0.00000000e+00,   0.00000000e+00,\n",
       "          1.00000000e+00],\n",
       "       [  9.96522144e-01,  -1.37824415e-02,   8.21806642e-02,\n",
       "         -1.55214110e+00,   1.47141363e-02,   9.99834035e-01,\n",
       "         -1.07422901e-02,   4.06847991e-01,  -8.20189701e-02,\n",
       "          1.19141475e-02,   9.96559552e-01,  -1.01550494e+01,\n",
       "          0.00000000e+00,   0.00000000e+00,   0.00000000e+00,\n",
       "          1.00000000e+00]])"
      ]
     },
     "execution_count": 180,
     "metadata": {},
     "output_type": "execute_result"
    }
   ],
   "source": [
    "cv_keyframes = get_covisible_keyframes(seq.keyframes[14])\n",
    "mappoints = get_mappoints(cv_keyframes)\n",
    "f_keyframes = get_fixed_keyframes(mappoints, cv_keyframes)[:0]\n",
    "\n",
    "cv_keyframes_np = keyframes_to_np(cv_keyframes)\n",
    "f_keyframes_np = keyframes_to_np(f_keyframes)\n",
    "mappoints_np = mappoints_to_np(mappoints)\n",
    "links_np = links_to_np(mappoints)\n",
    "\n",
    "\n",
    "f_keyframes = np.asfortranarray(f_keyframes_np)\n",
    "cv_keyframes_BA = np.asfortranarray(cv_keyframes_np)\n",
    "mappoints = np.asfortranarray(mappoints_np)\n",
    "links = np.array(links_np, order='f')\n",
    "\n",
    "results =  urbg2o.localBundleAdjustment(cv_keyframes_BA, f_keyframes, mappoints, links)\n",
    "\n",
    "#[f.frameid for f in cv_keyframes]\n",
    "cv_keyframes_np[:, 2:]"
   ]
  },
  {
   "cell_type": "code",
   "execution_count": 181,
   "metadata": {},
   "outputs": [
    {
     "data": {
      "text/plain": [
       "array([[  9.99596359e-01,   3.68446009e-05,   2.84098242e-02,\n",
       "         -2.24975907e-01,  -2.35971980e-04,   9.99975431e-01,\n",
       "          7.00578206e-03,  -2.07130527e-02,  -2.84088681e-02,\n",
       "         -7.00965816e-03,   9.99571809e-01,  -3.79196672e+00,\n",
       "          0.00000000e+00,   0.00000000e+00,   0.00000000e+00,\n",
       "          1.00000000e+00],\n",
       "       [  9.99378566e-01,  -1.17268018e-03,   3.52293431e-02,\n",
       "         -2.96417675e-01,   9.51869278e-04,   9.99979803e-01,\n",
       "          6.28393044e-03,   1.83013817e-02,  -3.52360006e-02,\n",
       "         -6.24649166e-03,   9.99359498e-01,  -4.61303414e+00,\n",
       "          0.00000000e+00,   0.00000000e+00,   0.00000000e+00,\n",
       "          1.00000000e+00],\n",
       "       [  9.98877076e-01,  -3.83294772e-03,   4.72217788e-02,\n",
       "         -4.02061877e-01,   3.53758213e-03,   9.99973665e-01,\n",
       "          6.33684490e-03,   5.32304501e-02,  -4.72448240e-02,\n",
       "         -6.16267818e-03,   9.98864329e-01,  -5.45026176e+00,\n",
       "          0.00000000e+00,   0.00000000e+00,   0.00000000e+00,\n",
       "          1.00000000e+00],\n",
       "       [  9.98973809e-01,  -1.19615808e-02,   4.36835239e-02,\n",
       "         -5.91492241e-01,   1.19655651e-02,   9.99928396e-01,\n",
       "          1.70273492e-04,   1.48152484e-01,  -4.36824327e-02,\n",
       "          3.52599291e-04,   9.99045405e-01,  -5.90220419e+00,\n",
       "          0.00000000e+00,   0.00000000e+00,   0.00000000e+00,\n",
       "          1.00000000e+00],\n",
       "       [  9.97879638e-01,  -1.57005921e-02,   6.31642232e-02,\n",
       "         -9.32770932e-01,   1.59667807e-02,   9.99865634e-01,\n",
       "         -3.71164004e-03,   2.22824258e-01,  -6.30974611e-02,\n",
       "          4.71229932e-03,   9.97996245e-01,  -6.37818419e+00,\n",
       "          0.00000000e+00,   0.00000000e+00,   0.00000000e+00,\n",
       "          1.00000000e+00],\n",
       "       [  9.96938302e-01,  -1.34598771e-02,   7.70250262e-02,\n",
       "         -1.08901732e+00,   1.41103670e-02,   9.99869179e-01,\n",
       "         -7.90715789e-03,   2.70074612e-01,  -7.69085203e-02,\n",
       "          8.96979995e-03,   9.96997805e-01,  -7.21312817e+00,\n",
       "          0.00000000e+00,   0.00000000e+00,   0.00000000e+00,\n",
       "          1.00000000e+00],\n",
       "       [  9.97705350e-01,  -1.26968973e-02,   6.65043130e-02,\n",
       "         -1.07424790e+00,   1.23304792e-02,   9.99906468e-01,\n",
       "          5.91727994e-03,   1.94141297e-01,  -6.65732238e-02,\n",
       "         -5.08367180e-03,   9.97768591e-01,  -8.09204313e+00,\n",
       "          0.00000000e+00,   0.00000000e+00,   0.00000000e+00,\n",
       "          1.00000000e+00],\n",
       "       [  9.97273440e-01,  -1.68263351e-02,   7.18509577e-02,\n",
       "         -1.33972318e+00,   1.61299696e-02,   9.99817250e-01,\n",
       "          1.02611000e-02,   2.03983614e-01,  -7.20104836e-02,\n",
       "         -9.07416872e-03,   9.97362597e-01,  -8.45979673e+00,\n",
       "          0.00000000e+00,   0.00000000e+00,   0.00000000e+00,\n",
       "          1.00000000e+00],\n",
       "       [  9.97381762e-01,  -1.36554599e-02,   7.10151370e-02,\n",
       "         -1.39069405e+00,   1.35460108e-02,   9.99906203e-01,\n",
       "          2.02259545e-03,   2.83230603e-01,  -7.10360954e-02,\n",
       "         -1.05532800e-03,   9.97473187e-01,  -9.31798880e+00,\n",
       "          0.00000000e+00,   0.00000000e+00,   0.00000000e+00,\n",
       "          1.00000000e+00],\n",
       "       [  9.96610242e-01,  -1.37820236e-02,   8.11053760e-02,\n",
       "         -1.54106909e+00,   1.51656085e-02,   9.99749376e-01,\n",
       "         -1.64678520e-02,   4.65216835e-01,  -8.08580887e-02,\n",
       "          1.76420424e-02,   9.96569480e-01,  -1.01533214e+01,\n",
       "          0.00000000e+00,   0.00000000e+00,   0.00000000e+00,\n",
       "          1.00000000e+00]])"
      ]
     },
     "execution_count": 181,
     "metadata": {},
     "output_type": "execute_result"
    }
   ],
   "source": [
    "cv_keyframes_BA[:,2:]"
   ]
  },
  {
   "cell_type": "code",
   "execution_count": 182,
   "metadata": {},
   "outputs": [],
   "source": [
    "\n",
    "cv_keyframes = get_covisible_keyframes(seq.keyframes[14])\n",
    "mappoints = get_mappoints(cv_keyframes)\n",
    "f_keyframes = get_fixed_keyframes(mappoints, cv_keyframes)[:0]\n",
    "\n",
    "cv_keyframes_np = keyframes_to_np(cv_keyframes)\n",
    "f_keyframes_np = keyframes_to_np(f_keyframes)\n",
    "mappoints_np = mappoints_to_np(mappoints)\n",
    "links_np = links_to_np(mappoints)\n",
    "\n",
    "\n",
    "f_keyframes = np.asfortranarray(f_keyframes_np)\n",
    "cv_keyframes_BA = np.asfortranarray(cv_keyframes_np)\n",
    "mappoints = np.asfortranarray(mappoints_np)\n",
    "links = np.array(links_np, order='f')\n",
    "\n",
    "# np.set_printoptions(threshold=np.nan)\n",
    "\n",
    "# print('mappoints count  \\n', (len(mappoints[:]), '\\n') )\n",
    "# print('mappoints \\n', (mappoints[:]), '\\n')\n",
    "# print('links count  \\n', (len(links[:]), '\\n') )\n",
    "# print('links \\n', (links[:]), '\\n')\n",
    "\n",
    "# print('Keyframes \\n', (cv_keyframes), '\\n')\n",
    "# print('Keyframes numpy \\n', (cv_keyframes_np[:, 2 :]), '\\n')\n",
    "# print('mappoints len \\n', len(mappoints_np), '\\n')\n",
    "# print('Fixed Keyframes \\n',f_keyframes[:], '\\n')\n",
    "\n",
    "# print('Keyframes before BA \\n', (cv_keyframes_BA[: , 2:]), '\\n')\n",
    "# print(len(cv_keyframes_BA), '\\n')\n",
    "\n",
    "outliers =  urbg2o.outliersForLocalBundleAdjustment(cv_keyframes_BA, f_keyframes, mappoints, links)\n",
    "\n",
    "# print('Keyframes after BA \\n', (cv_keyframes_BA[:, 2 :]), '\\n')\n",
    "# print(len(cv_keyframes_BA), '\\n')"
   ]
  },
  {
   "cell_type": "code",
   "execution_count": 195,
   "metadata": {},
   "outputs": [],
   "source": [
    "from sortedcontainers import SortedSet\n",
    "\n",
    "inliers = { (int(pointid), int(frameid)) for frameid, pointid, chi2 in outliers if chi2 < 100000000 }\n",
    "keptpoints = SortedSet({ l[0] for l in inliers })\n",
    "keptframes = SortedSet({ l[1] for l in inliers })\n",
    "#m_keptpoints = { p:i for i, p in enumerate(keptpoints) }\n",
    "#m_keptframes = { p:i for i, p in enumerate(keptframes) }\n",
    "cv_keyframes1 = [ f for f in cv_keyframes if f.keyframeid in keptframes]\n",
    "fixed_keyframes1 = [ f for f in f_keyframes if f.keyframeid in keptframes]\n",
    "mappoints1 = [ f for f in mappoints if int(f[0]) in keptpoints]\n",
    "links1 = [ (l[0], l[1], l[2], l[3]) for l in links if (int(l[0]), int(l[1])) in inliers ]"
   ]
  },
  {
   "cell_type": "code",
   "execution_count": 196,
   "metadata": {},
   "outputs": [
    {
     "data": {
      "text/plain": [
       "(1072, 2785)"
      ]
     },
     "execution_count": 196,
     "metadata": {},
     "output_type": "execute_result"
    }
   ],
   "source": [
    "len(mappoints1), len(links1)"
   ]
  },
  {
   "cell_type": "code",
   "execution_count": 197,
   "metadata": {},
   "outputs": [
    {
     "data": {
      "text/plain": [
       "0.8112438100786484"
      ]
     },
     "execution_count": 197,
     "metadata": {},
     "output_type": "execute_result"
    }
   ],
   "source": [
    "len(inliers) / len(links)"
   ]
  },
  {
   "cell_type": "code",
   "execution_count": 198,
   "metadata": {},
   "outputs": [],
   "source": [
    "cv_keyframes1_np = keyframes_to_np(cv_keyframes1)\n",
    "f_keyframes1_np = keyframes_to_np(fixed_keyframes1)\n",
    "links1_np = np.array(links1, dtype=np.float64, order='f')\n",
    "\n",
    "f_keyframes1 = np.asfortranarray(f_keyframes1_np)\n",
    "cv_keyframes1_BA = np.asfortranarray(cv_keyframes1_np)\n",
    "mappoints1 = np.asfortranarray(mappoints1)\n",
    "links1 = np.array(links1_np, order='f')\n",
    "\n",
    "results =  urbg2o.localBundleAdjustment(cv_keyframes1_BA, f_keyframes1, mappoints1, links1)\n",
    "\n"
   ]
  },
  {
   "cell_type": "code",
   "execution_count": 199,
   "metadata": {},
   "outputs": [
    {
     "data": {
      "text/plain": [
       "array([[  9.99596359e-01,   3.68446009e-05,   2.84098242e-02,\n",
       "         -2.24975907e-01,  -2.35971980e-04,   9.99975431e-01,\n",
       "          7.00578206e-03,  -2.07130527e-02,  -2.84088681e-02,\n",
       "         -7.00965816e-03,   9.99571809e-01,  -3.79196672e+00,\n",
       "          0.00000000e+00,   0.00000000e+00,   0.00000000e+00,\n",
       "          1.00000000e+00],\n",
       "       [  9.99378566e-01,  -1.17268018e-03,   3.52293431e-02,\n",
       "         -2.96417675e-01,   9.51869278e-04,   9.99979803e-01,\n",
       "          6.28393044e-03,   1.83013817e-02,  -3.52360006e-02,\n",
       "         -6.24649166e-03,   9.99359498e-01,  -4.61303414e+00,\n",
       "          0.00000000e+00,   0.00000000e+00,   0.00000000e+00,\n",
       "          1.00000000e+00],\n",
       "       [  9.99770517e-01,  -2.03393323e-03,   2.13255076e-02,\n",
       "          7.69435895e-02,   1.82376717e-03,   9.99949628e-01,\n",
       "          9.86997070e-03,  -9.04994899e-02,  -2.13445083e-02,\n",
       "         -9.82881295e-03,   9.99723865e-01,  -4.59700501e+00,\n",
       "          0.00000000e+00,   0.00000000e+00,   0.00000000e+00,\n",
       "          1.00000000e+00],\n",
       "       [  9.99801290e-01,  -4.95340460e-03,   1.93092023e-02,\n",
       "          1.57455288e-01,   4.75851981e-03,   9.99937411e-01,\n",
       "          1.01257592e-02,  -1.06747844e-01,  -1.93581507e-02,\n",
       "         -1.00318638e-02,   9.99762284e-01,  -4.93745199e+00,\n",
       "          0.00000000e+00,   0.00000000e+00,   0.00000000e+00,\n",
       "          1.00000000e+00],\n",
       "       [  9.99717817e-01,  -4.70437622e-03,   2.32842301e-02,\n",
       "          1.45151986e-01,   4.53068323e-03,   9.99961560e-01,\n",
       "          7.50682450e-03,  -8.73861649e-02,  -2.33186500e-02,\n",
       "         -7.39921273e-03,   9.99700701e-01,  -5.36677929e+00,\n",
       "          0.00000000e+00,   0.00000000e+00,   0.00000000e+00,\n",
       "          1.00000000e+00],\n",
       "       [  9.99644521e-01,  -4.95385387e-03,   2.61971597e-02,\n",
       "          1.34049934e-01,   4.84332271e-03,   9.99979108e-01,\n",
       "          4.28097415e-03,  -5.61012727e-02,  -2.62178197e-02,\n",
       "         -4.15257106e-03,   9.99647629e-01,  -5.78499255e+00,\n",
       "          0.00000000e+00,   0.00000000e+00,   0.00000000e+00,\n",
       "          1.00000000e+00],\n",
       "       [  9.99567353e-01,  -7.29653875e-03,   2.84932823e-02,\n",
       "          1.29357798e-01,   7.15783565e-03,   9.99962047e-01,\n",
       "          4.96688967e-03,  -5.17159212e-02,  -2.85284420e-02,\n",
       "         -4.76079053e-03,   9.99581644e-01,  -6.21709552e+00,\n",
       "          0.00000000e+00,   0.00000000e+00,   0.00000000e+00,\n",
       "          1.00000000e+00],\n",
       "       [  9.99520282e-01,  -6.40274168e-03,   3.03019969e-02,\n",
       "          1.16557814e-01,   6.26023441e-03,   9.99968906e-01,\n",
       "          4.79543751e-03,  -4.42093660e-02,  -3.03317587e-02,\n",
       "         -4.60343945e-03,   9.99529286e-01,  -6.61900245e+00,\n",
       "          0.00000000e+00,   0.00000000e+00,   0.00000000e+00,\n",
       "          1.00000000e+00],\n",
       "       [  9.99484362e-01,  -4.62208449e-03,   3.17749427e-02,\n",
       "          9.23801541e-02,   4.46343644e-03,   9.99977227e-01,\n",
       "          5.06198597e-03,  -2.39881556e-02,  -3.17976160e-02,\n",
       "         -4.91755038e-03,   9.99482231e-01,  -7.00437709e+00,\n",
       "          0.00000000e+00,   0.00000000e+00,   0.00000000e+00,\n",
       "          1.00000000e+00],\n",
       "       [  9.99431031e-01,  -5.69895115e-03,   3.32435786e-02,\n",
       "          8.75592481e-02,   5.56248655e-03,   9.99975726e-01,\n",
       "          4.19603283e-03,  -3.58244436e-03,  -3.32666846e-02,\n",
       "         -4.00872846e-03,   9.99438471e-01,  -7.42090533e+00,\n",
       "          0.00000000e+00,   0.00000000e+00,   0.00000000e+00,\n",
       "          1.00000000e+00]])"
      ]
     },
     "execution_count": 199,
     "metadata": {},
     "output_type": "execute_result"
    }
   ],
   "source": [
    "cv_keyframes1_BA[:,2:]"
   ]
  },
  {
   "cell_type": "code",
   "execution_count": null,
   "metadata": {
    "collapsed": true
   },
   "outputs": [],
   "source": []
  },
  {
   "cell_type": "code",
   "execution_count": 13,
   "metadata": {},
   "outputs": [],
   "source": [
    "\n",
    "cv_keyframes = { seq.keyframes[i] for i in range(0,7,2) }\n",
    "mappoints = get_mappoints(cv_keyframes)\n",
    "f_keyframes = { }\n",
    "\n",
    "cv_keyframes_np = keyframes_to_np(cv_keyframes)\n",
    "f_keyframes_np = keyframes_to_np(f_keyframes)\n",
    "mappoints_np = mappoints_to_np(mappoints)\n",
    "links_np = links_to_np(mappoints)\n",
    "\n",
    "\n",
    "f_keyframes = np.asfortranarray(f_keyframes_np)\n",
    "cv_keyframes_BA = np.asfortranarray(cv_keyframes_np)\n",
    "mappoints = np.asfortranarray(mappoints_np)\n",
    "links = np.array(links_np, order='f')\n",
    "\n",
    "# np.set_printoptions(threshold=np.nan)\n",
    "\n",
    "# print('mappoints count  \\n', (len(mappoints[:]), '\\n') )\n",
    "# print('mappoints \\n', (mappoints[:]), '\\n')\n",
    "# print('links count  \\n', (len(links[:]), '\\n') )\n",
    "# print('links \\n', (links[:]), '\\n')\n",
    "\n",
    "# print('Keyframes \\n', (cv_keyframes), '\\n')\n",
    "# print('Keyframes numpy \\n', (cv_keyframes_np[:, 2 :]), '\\n')\n",
    "# print('mappoints len \\n', len(mappoints_np), '\\n')\n",
    "# print('Fixed Keyframes \\n',f_keyframes[:], '\\n')\n",
    "\n",
    "# print('Keyframes before BA \\n', (cv_keyframes_BA[: , 2:]), '\\n')\n",
    "# print(len(cv_keyframes_BA), '\\n')\n",
    "\n",
    "outliers =  urbg2o.outliersForLocalBundleAdjustment(cv_keyframes_BA, f_keyframes, mappoints, links)\n",
    "\n",
    "# print('Keyframes after BA \\n', (cv_keyframes_BA[:, 2 :]), '\\n')\n",
    "# print(len(cv_keyframes_BA), '\\n')"
   ]
  },
  {
   "cell_type": "code",
   "execution_count": 14,
   "metadata": {
    "collapsed": true
   },
   "outputs": [],
   "source": [
    "from sortedcontainers import SortedSet\n",
    "\n",
    "inliers = { (int(pointid), int(frameid)) for frameid, pointid, chi2 in outliers if chi2 < 10 }\n",
    "keptpoints = SortedSet({ l[0] for l in inliers })\n",
    "keptframes = SortedSet({ l[1] for l in inliers })\n",
    "m_keptpoints = { p:i for i, p in enumerate(keptpoints) }\n",
    "m_keptframes = { p:i for i, p in enumerate(keptframes) }\n",
    "cv_keyframes1 = [ f for i, f in enumerate(cv_keyframes) if i in keptframes]\n",
    "fixed_keyframes1 = [ f for i, f in enumerate(f_keyframes) if i + len(cv_keyframes) in keptframes]\n",
    "mappoints1 = [ f for i, f in enumerate(mappoints) if i in keptpoints]\n",
    "links1 = [ (m_keptpoints[l[0]], m_keptframes[l[1]], l[2], l[3]) for l in links if (int(l[0]), int(l[1])) in inliers ]"
   ]
  },
  {
   "cell_type": "code",
   "execution_count": 15,
   "metadata": {},
   "outputs": [
    {
     "data": {
      "text/plain": [
       "0.2057335581787521"
      ]
     },
     "execution_count": 15,
     "metadata": {},
     "output_type": "execute_result"
    }
   ],
   "source": [
    "len(inliers) / len(links)"
   ]
  },
  {
   "cell_type": "code",
   "execution_count": 16,
   "metadata": {
    "collapsed": true
   },
   "outputs": [],
   "source": [
    "cv_keyframes1_np = keyframes_to_np(cv_keyframes1)\n",
    "f_keyframes1_np = keyframes_to_np(fixed_keyframes1)\n",
    "links1_np = np.array(links1, dtype=np.float64, order='f')\n",
    "\n",
    "f_keyframes1 = np.asfortranarray(f_keyframes1_np)\n",
    "cv_keyframes1_BA = np.asfortranarray(cv_keyframes1_np)\n",
    "mappoints1 = np.asfortranarray(mappoints1)\n",
    "links1 = np.array(links1_np, order='f')\n",
    "\n",
    "results =  urbg2o.localBundleAdjustment(cv_keyframes1_BA, f_keyframes1, mappoints1, links1)\n",
    "\n"
   ]
  },
  {
   "cell_type": "code",
   "execution_count": 17,
   "metadata": {},
   "outputs": [
    {
     "data": {
      "text/plain": [
       "array([[  1.00000000e+00,   0.00000000e+00,   0.00000000e+00,\n",
       "          0.00000000e+00,   0.00000000e+00,   1.00000000e+00,\n",
       "          0.00000000e+00,   0.00000000e+00,   0.00000000e+00,\n",
       "          0.00000000e+00,   1.00000000e+00,   0.00000000e+00,\n",
       "          0.00000000e+00,   0.00000000e+00,   0.00000000e+00,\n",
       "          1.00000000e+00],\n",
       "       [  9.96785922e-01,  -3.15546374e-02,   7.36351131e-02,\n",
       "         -1.56032522e+00,   3.16368583e-02,   9.99499428e-01,\n",
       "          4.98007851e-05,   3.80801591e-01,  -7.35998249e-02,\n",
       "          2.27994292e-03,   9.97285249e-01,  -1.85248486e+01,\n",
       "          0.00000000e+00,   0.00000000e+00,   0.00000000e+00,\n",
       "          1.00000000e+00]])"
      ]
     },
     "execution_count": 17,
     "metadata": {},
     "output_type": "execute_result"
    }
   ],
   "source": [
    "cv_keyframes1_BA[:, 2:]"
   ]
  }
 ],
 "metadata": {
  "kernelspec": {
   "display_name": "Python 3",
   "language": "python",
   "name": "python3"
  },
  "language_info": {
   "codemirror_mode": {
    "name": "ipython",
    "version": 3
   },
   "file_extension": ".py",
   "mimetype": "text/x-python",
   "name": "python",
   "nbconvert_exporter": "python",
   "pygments_lexer": "ipython3",
   "version": "3.6.1"
  }
 },
 "nbformat": 4,
 "nbformat_minor": 2
}
