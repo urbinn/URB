{
 "cells": [
  {
   "cell_type": "markdown",
   "metadata": {},
   "source": [
    "# Store kitti sequence\n",
    "\n",
    "Create a sequence"
   ]
  },
  {
   "cell_type": "code",
   "execution_count": 1,
   "metadata": {
    "collapsed": true
   },
   "outputs": [],
   "source": [
    "# when you change a setting you have to restart the kernel (settings are only loaded once)\n",
    "import os\n",
    "#os.environ['STEREO_CONFIDENCE'] = '1.6'\n",
    "os.environ['SEQUENCE_CONFIDENCE'] = '1.6'\n",
    "#os.environ['PATCH_SIZE'] = '17'\n",
    "FRAMECOUNT = 1101\n",
    "\n",
    "import sys\n",
    "sys.path.append('..')\n",
    "from src.kitti import *\n",
    "%matplotlib inline\n",
    "import numpy as np\n",
    "import glob\n",
    "import urbg2o\n",
    "import cv2\n",
    "\n",
    "\n",
    "IMAGE_SIZE = 400\n",
    "\n",
    "def load(file):\n",
    "    keyframeids, frameids, poses = load_keyframes(file)\n",
    "    return keyframeids, frameids, poses.reshape(poses.shape[0], 4, 4)\n",
    "\n",
    "def load_csv(file):\n",
    "    poses = np.genfromtxt(file, delimiter= \" \")\n",
    "    poses = np.hstack([poses, np.repeat(np.array([[0,0,0,1.0]]), len(poses), axis=0) ])\n",
    "    return poses.reshape(poses.shape[0], 4, 4)\n",
    "\n",
    "def transform(poses):\n",
    "    points = np.repeat(np.array([[0,0,0,1.0]]), len(poses), axis=0) \n",
    "    for i in range(1, len(poses)):\n",
    "        points[:i] = np.dot(points[:i], poses[i].T)\n",
    "    return points\n",
    "        \n",
    "def transform2(poses):\n",
    "    points = poses[:,:,3]\n",
    "    return points\n",
    "    \n",
    "def plot_trajectory(points):\n",
    "    # remove y coordinate (we only use x and z to plot a view from above)\n",
    "    points = points[:, [0,2,3]]\n",
    "    # compute min and max\n",
    "    pmin = points.min(axis=0)\n",
    "    pmax = points.max(axis=0)\n",
    "    maxxy = max(pmax[0] - pmin[0], pmax[1] - pmin[1])\n",
    "\n",
    "    t = np.eye(3, dtype=np.float64)\n",
    "    t[0,0] = IMAGE_SIZE / maxxy\n",
    "    t[1,1] = -IMAGE_SIZE / maxxy\n",
    "    t[0,2] = -pmin[0] * IMAGE_SIZE / maxxy\n",
    "    t[1,2] = IMAGE_SIZE / maxxy + pmin[1] / maxxy + 100\n",
    "\n",
    "    return np.dot(points, t.T)\n",
    "    \n",
    "\n",
    "def plot_trajectory2(points):\n",
    "    # remove y coordinate (we only use x and z to plot a view from above)\n",
    "    points = points[:, [0,2,3]]\n",
    "    # compute min and max\n",
    "    pmin = points.min(axis=0)\n",
    "    pmax = points.max(axis=0)\n",
    "    maxxy = max(pmax[0] - pmin[0], pmax[1] - pmin[1]) * 1.01\n",
    "\n",
    "    t = np.eye(3, dtype=np.float64)\n",
    "    t[0,0] = IMAGE_SIZE / maxxy\n",
    "    t[1,1] = -IMAGE_SIZE / maxxy\n",
    "    t[0,2] = -pmin[0] * IMAGE_SIZE / maxxy\n",
    "    t[1,2] = IMAGE_SIZE / maxxy + pmin[1] / maxxy + 100\n",
    "    return np.dot(points, t.T)\n",
    "    \n",
    "def plot_trajectory3(points):\n",
    "    coords = []\n",
    "    minx = min([p[0] for p in points])\n",
    "    maxx = max([p[0] for p in points])\n",
    "    miny = min([p[2] for p in points])\n",
    "    maxy = max([p[2] for p in points])\n",
    "    maxxy = max(maxx - minx, maxy - miny)* 1.01\n",
    "\n",
    "    for p in points:\n",
    "        #print(p)\n",
    "        x = IMAGE_SIZE * (p[0] - minx) / (maxxy)\n",
    "        z = IMAGE_SIZE - IMAGE_SIZE * (p[2] - miny) / (maxxy)\n",
    "        coords.append([x, z])\n",
    "    return coords\n",
    "\n",
    "def new_image():\n",
    "    img = np.zeros((IMAGE_SIZE, IMAGE_SIZE, 3), np.uint8)\n",
    "    img[:] = 255 #or img.fill(255)\n",
    "    return img\n",
    "\n",
    "def draw(coords, img, color = (0,0,0)):\n",
    "    # Draw a black line with thickness of 2 px\n",
    "    for i in range(1,len(coords)):\n",
    "        cv2.line(img, (int(coords[i - 1][0]), int(coords[i - 1][1])), (int(coords[i][0]), int(coords[i][1])), color, 2)\n",
    "    return img"
   ]
  },
  {
   "cell_type": "markdown",
   "metadata": {},
   "source": [
    "Read the first 10 frames from KITTI sequence 00."
   ]
  },
  {
   "cell_type": "code",
   "execution_count": 2,
   "metadata": {},
   "outputs": [
    {
     "name": "stdout",
     "output_type": "stream",
     "text": [
      "CPU times: user 4.62 ms, sys: 1.32 ms, total: 5.94 ms\n",
      "Wall time: 4.93 ms\n"
     ]
    }
   ],
   "source": [
    "%%time\n",
    "SEQUENCE=7\n",
    "LEFTDIR = '/data/urbinn/datasets/kitti/sequences/%02d/image_0'%SEQUENCE\n",
    "RIGHTDIR = '/data/urbinn/datasets/kitti/sequences/%02d/image_1'%SEQUENCE\n",
    "\n",
    "frame = []\n",
    "for filename in sorted(glob.glob(LEFTDIR + '/*')):\n",
    "    left_frame = Frame(filename, RIGHTDIR)\n",
    "    frame.append(left_frame)"
   ]
  },
  {
   "cell_type": "markdown",
   "metadata": {},
   "source": [
    "Add the frames to a sequence. By adjusting the [:] you can use only a slice of the list of frames."
   ]
  },
  {
   "cell_type": "code",
   "execution_count": 3,
   "metadata": {},
   "outputs": [
    {
     "name": "stderr",
     "output_type": "stream",
     "text": [
      "  2% (1 of 50) |                          | Elapsed Time: 0:00:00 ETA:  0:00:19"
     ]
    },
    {
     "name": "stdout",
     "output_type": "stream",
     "text": [
      "connected mappoints  0\n"
     ]
    },
    {
     "name": "stderr",
     "output_type": "stream",
     "text": [
      " 16% (8 of 50) |####                      | Elapsed Time: 0:00:01 ETA:  0:00:09"
     ]
    },
    {
     "name": "stdout",
     "output_type": "stream",
     "text": [
      "invalid speed keyframe 0 frame 8 speed 0.05547547817966936\n",
      " [[  9.95999144e-01  -4.07609529e-05   8.93627597e-02  -1.81468063e-02]\n",
      " [ -2.93936672e-04   9.99992992e-01   3.73221845e-03   6.27038737e-03]\n",
      " [ -8.93622856e-02  -3.74355338e-03   9.95992152e-01  -7.30242552e-01]\n",
      " [  0.00000000e+00   0.00000000e+00   0.00000000e+00   1.00000000e+00]]\n"
     ]
    },
    {
     "name": "stderr",
     "output_type": "stream",
     "text": [
      "\r",
      "                                                                               \r",
      "\r",
      " 18% (9 of 50) |####                      | Elapsed Time: 0:00:02 ETA:  0:00:12"
     ]
    },
    {
     "name": "stdout",
     "output_type": "stream",
     "text": [
      "connected mappoints  56\n",
      "invalid speed keyframe 7 frame 9 speed 0.4156678086846621\n",
      " [[  9.99285534e-01   2.55950868e-03   3.77077073e-02   4.36154824e-02]\n",
      " [ -2.56629931e-03   9.99996698e-01   1.31685031e-04   2.77219417e-03]\n",
      " [ -3.77072458e-02  -2.28360210e-04   9.99288803e-01  -3.14574743e-01]\n",
      " [  0.00000000e+00   0.00000000e+00   0.00000000e+00   1.00000000e+00]]\n",
      "connected mappoints  0\n"
     ]
    },
    {
     "name": "stderr",
     "output_type": "stream",
     "text": [
      " 32% (16 of 50) |########                 | Elapsed Time: 0:00:06 ETA:  0:00:16"
     ]
    },
    {
     "name": "stdout",
     "output_type": "stream",
     "text": [
      "invalid speed keyframe 8 frame 16 speed 0.026916209633761845\n",
      " [[ 0.97748138 -0.01738313  0.21030448  0.03251453]\n",
      " [ 0.01629507  0.99984338  0.00690559  0.01141324]\n",
      " [-0.21039158 -0.00332316  0.97761155 -1.23868507]\n",
      " [ 0.          0.          0.          1.        ]]\n",
      "connected mappoints  20\n"
     ]
    },
    {
     "name": "stderr",
     "output_type": "stream",
     "text": [
      "\r",
      "                                                                               \r",
      "\r",
      " 34% (17 of 50) |########                 | Elapsed Time: 0:00:07 ETA:  0:00:22"
     ]
    },
    {
     "name": "stdout",
     "output_type": "stream",
     "text": [
      "WARNING: invalid pose estimation\n"
     ]
    },
    {
     "name": "stderr",
     "output_type": "stream",
     "text": [
      " 48% (24 of 50) |############             | Elapsed Time: 0:00:12 ETA:  0:00:18"
     ]
    },
    {
     "name": "stdout",
     "output_type": "stream",
     "text": [
      "connected mappoints  0\n"
     ]
    },
    {
     "name": "stderr",
     "output_type": "stream",
     "text": [
      "\r",
      "                                                                               \r",
      "\r",
      " 50% (25 of 50) |############             | Elapsed Time: 0:00:14 ETA:  0:00:23"
     ]
    },
    {
     "name": "stdout",
     "output_type": "stream",
     "text": [
      "WARNING: invalid pose estimation\n"
     ]
    },
    {
     "name": "stderr",
     "output_type": "stream",
     "text": [
      " 57% (29 of 50) |##############           | Elapsed Time: 0:00:16 ETA:  0:00:16"
     ]
    },
    {
     "name": "stdout",
     "output_type": "stream",
     "text": [
      "connected mappoints  0\n"
     ]
    },
    {
     "name": "stderr",
     "output_type": "stream",
     "text": [
      "\r",
      "                                                                               \r",
      "\r",
      " 60% (30 of 50) |###############          | Elapsed Time: 0:00:18 ETA:  0:00:18"
     ]
    },
    {
     "name": "stdout",
     "output_type": "stream",
     "text": [
      "WARNING: invalid pose estimation\n"
     ]
    },
    {
     "name": "stderr",
     "output_type": "stream",
     "text": [
      " 64% (32 of 50) |################         | Elapsed Time: 0:00:19 ETA:  0:00:16"
     ]
    },
    {
     "name": "stdout",
     "output_type": "stream",
     "text": [
      "connected mappoints  0\n"
     ]
    },
    {
     "name": "stderr",
     "output_type": "stream",
     "text": [
      "\r",
      "                                                                               \r",
      "\r",
      " 66% (33 of 50) |################         | Elapsed Time: 0:00:21 ETA:  0:00:16"
     ]
    },
    {
     "name": "stdout",
     "output_type": "stream",
     "text": [
      "WARNING: invalid pose estimation\n"
     ]
    },
    {
     "name": "stderr",
     "output_type": "stream",
     "text": [
      " 74% (37 of 50) |##################       | Elapsed Time: 0:00:22 ETA:  0:00:08"
     ]
    },
    {
     "name": "stdout",
     "output_type": "stream",
     "text": [
      "connected mappoints  0\n"
     ]
    },
    {
     "name": "stderr",
     "output_type": "stream",
     "text": [
      "\r",
      "                                                                               \r",
      "\r",
      " 76% (38 of 50) |###################      | Elapsed Time: 0:00:23 ETA:  0:00:08"
     ]
    },
    {
     "name": "stdout",
     "output_type": "stream",
     "text": [
      "WARNING: invalid pose estimation\n"
     ]
    },
    {
     "name": "stderr",
     "output_type": "stream",
     "text": [
      " 84% (42 of 50) |#####################    | Elapsed Time: 0:00:24 ETA:  0:00:03"
     ]
    },
    {
     "name": "stdout",
     "output_type": "stream",
     "text": [
      "connected mappoints  0\n",
      "WARNING: invalid pose estimation\n"
     ]
    },
    {
     "name": "stderr",
     "output_type": "stream",
     "text": [
      " 96% (48 of 50) |######################## | Elapsed Time: 0:00:25 ETA:  0:00:00"
     ]
    },
    {
     "name": "stdout",
     "output_type": "stream",
     "text": [
      "invalid speed keyframe 40 frame 48 speed 3.050245032839027\n",
      " [[ 0.98660894 -0.01472485  0.16243761 -0.97965387]\n",
      " [ 0.0125789   0.9998196   0.01423153 -0.77198753]\n",
      " [-0.16261786 -0.01199767  0.98661618 -0.52975421]\n",
      " [ 0.          0.          0.          1.        ]]\n"
     ]
    },
    {
     "name": "stderr",
     "output_type": "stream",
     "text": [
      "\r",
      "                                                                               \r",
      "\r",
      " 98% (49 of 50) |######################## | Elapsed Time: 0:00:26 ETA:  0:00:00"
     ]
    },
    {
     "name": "stdout",
     "output_type": "stream",
     "text": [
      "connected mappoints  0\n"
     ]
    },
    {
     "name": "stderr",
     "output_type": "stream",
     "text": [
      "100% (50 of 50) |#########################| Elapsed Time: 0:00:26 Time: 0:00:26\n"
     ]
    }
   ],
   "source": [
    "seq = Sequence()\n",
    "for f in ProgressBar()(frame[:50]):\n",
    "    seq.add_frame(f, run_ba=False)"
   ]
  },
  {
   "cell_type": "code",
   "execution_count": 4,
   "metadata": {},
   "outputs": [
    {
     "name": "stdout",
     "output_type": "stream",
     "text": [
      "CPU times: user 5.61 ms, sys: 57 µs, total: 5.67 ms\n",
      "Wall time: 4.96 ms\n"
     ]
    }
   ],
   "source": [
    "%%time\n",
    "SEQUENCE=7\n",
    "LEFTDIR = '/data/urbinn/datasets/kitti/sequences/%02d/image_0'%SEQUENCE\n",
    "RIGHTDIR = '/data/urbinn/datasets/kitti/sequences/%02d/image_1'%SEQUENCE\n",
    "\n",
    "kframe = []\n",
    "for filename in sorted(glob.glob(LEFTDIR + '/*')):\n",
    "    left_frame = Frame(filename, RIGHTDIR)\n",
    "    kframe.append(left_frame)"
   ]
  },
  {
   "cell_type": "code",
   "execution_count": 5,
   "metadata": {},
   "outputs": [
    {
     "name": "stderr",
     "output_type": "stream",
     "text": [
      "  2% (1 of 50) |                          | Elapsed Time: 0:00:00 ETA:  0:00:19"
     ]
    },
    {
     "name": "stdout",
     "output_type": "stream",
     "text": [
      "connected mappoints  0\n"
     ]
    },
    {
     "name": "stderr",
     "output_type": "stream",
     "text": [
      "\r",
      "                                                                               \r",
      "\r",
      "  4% (2 of 50) |#                         | Elapsed Time: 0:00:00 ETA:  0:00:22"
     ]
    },
    {
     "name": "stdout",
     "output_type": "stream",
     "text": [
      "connected mappoints  98\n"
     ]
    },
    {
     "name": "stderr",
     "output_type": "stream",
     "text": [
      "\r",
      "                                                                               \r",
      "\r",
      "  6% (3 of 50) |#                         | Elapsed Time: 0:00:01 ETA:  0:00:24"
     ]
    },
    {
     "name": "stdout",
     "output_type": "stream",
     "text": [
      "connected mappoints  126\n"
     ]
    },
    {
     "name": "stderr",
     "output_type": "stream",
     "text": [
      "\r",
      "                                                                               \r",
      "\r",
      "  8% (4 of 50) |##                        | Elapsed Time: 0:00:02 ETA:  0:00:25"
     ]
    },
    {
     "name": "stdout",
     "output_type": "stream",
     "text": [
      "connected mappoints  123\n"
     ]
    },
    {
     "name": "stderr",
     "output_type": "stream",
     "text": [
      "\r",
      "                                                                               \r",
      "\r",
      " 10% (5 of 50) |##                        | Elapsed Time: 0:00:02 ETA:  0:00:26"
     ]
    },
    {
     "name": "stdout",
     "output_type": "stream",
     "text": [
      "connected mappoints  124\n"
     ]
    },
    {
     "name": "stderr",
     "output_type": "stream",
     "text": [
      "\r",
      "                                                                               \r",
      "\r",
      " 12% (6 of 50) |###                       | Elapsed Time: 0:00:03 ETA:  0:00:26"
     ]
    },
    {
     "name": "stdout",
     "output_type": "stream",
     "text": [
      "connected mappoints  125\n"
     ]
    },
    {
     "name": "stderr",
     "output_type": "stream",
     "text": [
      "\r",
      "                                                                               \r",
      "\r",
      " 14% (7 of 50) |###                       | Elapsed Time: 0:00:04 ETA:  0:00:26"
     ]
    },
    {
     "name": "stdout",
     "output_type": "stream",
     "text": [
      "connected mappoints  113\n"
     ]
    },
    {
     "name": "stderr",
     "output_type": "stream",
     "text": [
      "\r",
      "                                                                               \r",
      "\r",
      " 16% (8 of 50) |####                      | Elapsed Time: 0:00:04 ETA:  0:00:26"
     ]
    },
    {
     "name": "stdout",
     "output_type": "stream",
     "text": [
      "connected mappoints  113\n"
     ]
    },
    {
     "name": "stderr",
     "output_type": "stream",
     "text": [
      "\r",
      "                                                                               \r",
      "\r",
      " 18% (9 of 50) |####                      | Elapsed Time: 0:00:05 ETA:  0:00:26"
     ]
    },
    {
     "name": "stdout",
     "output_type": "stream",
     "text": [
      "connected mappoints  132\n"
     ]
    },
    {
     "name": "stderr",
     "output_type": "stream",
     "text": [
      "\r",
      "                                                                               \r",
      "\r",
      " 20% (10 of 50) |#####                    | Elapsed Time: 0:00:06 ETA:  0:00:28"
     ]
    },
    {
     "name": "stdout",
     "output_type": "stream",
     "text": [
      "connected mappoints  135\n"
     ]
    },
    {
     "name": "stderr",
     "output_type": "stream",
     "text": [
      "\r",
      "                                                                               \r",
      "\r",
      " 22% (11 of 50) |#####                    | Elapsed Time: 0:00:07 ETA:  0:00:28"
     ]
    },
    {
     "name": "stdout",
     "output_type": "stream",
     "text": [
      "connected mappoints  149\n"
     ]
    },
    {
     "name": "stderr",
     "output_type": "stream",
     "text": [
      "\r",
      "                                                                               \r",
      "\r",
      " 24% (12 of 50) |######                   | Elapsed Time: 0:00:08 ETA:  0:00:29"
     ]
    },
    {
     "name": "stdout",
     "output_type": "stream",
     "text": [
      "connected mappoints  130\n"
     ]
    },
    {
     "name": "stderr",
     "output_type": "stream",
     "text": [
      "\r",
      "                                                                               \r",
      "\r",
      " 26% (13 of 50) |######                   | Elapsed Time: 0:00:09 ETA:  0:00:29"
     ]
    },
    {
     "name": "stdout",
     "output_type": "stream",
     "text": [
      "connected mappoints  122\n"
     ]
    },
    {
     "name": "stderr",
     "output_type": "stream",
     "text": [
      "\r",
      "                                                                               \r",
      "\r",
      " 28% (14 of 50) |#######                  | Elapsed Time: 0:00:10 ETA:  0:00:30"
     ]
    },
    {
     "name": "stdout",
     "output_type": "stream",
     "text": [
      "connected mappoints  135\n"
     ]
    },
    {
     "name": "stderr",
     "output_type": "stream",
     "text": [
      "\r",
      "                                                                               \r",
      "\r",
      " 30% (15 of 50) |#######                  | Elapsed Time: 0:00:11 ETA:  0:00:31"
     ]
    },
    {
     "name": "stdout",
     "output_type": "stream",
     "text": [
      "connected mappoints  154\n"
     ]
    },
    {
     "name": "stderr",
     "output_type": "stream",
     "text": [
      "\r",
      "                                                                               \r",
      "\r",
      " 32% (16 of 50) |########                 | Elapsed Time: 0:00:13 ETA:  0:00:33"
     ]
    },
    {
     "name": "stdout",
     "output_type": "stream",
     "text": [
      "connected mappoints  164\n"
     ]
    },
    {
     "name": "stderr",
     "output_type": "stream",
     "text": [
      "\r",
      "                                                                               \r",
      "\r",
      " 34% (17 of 50) |########                 | Elapsed Time: 0:00:14 ETA:  0:00:35"
     ]
    },
    {
     "name": "stdout",
     "output_type": "stream",
     "text": [
      "connected mappoints  154\n"
     ]
    },
    {
     "name": "stderr",
     "output_type": "stream",
     "text": [
      "\r",
      "                                                                               \r",
      "\r",
      " 36% (18 of 50) |#########                | Elapsed Time: 0:00:16 ETA:  0:00:37"
     ]
    },
    {
     "name": "stdout",
     "output_type": "stream",
     "text": [
      "connected mappoints  163\n"
     ]
    },
    {
     "name": "stderr",
     "output_type": "stream",
     "text": [
      "\r",
      "                                                                               \r",
      "\r",
      " 38% (19 of 50) |#########                | Elapsed Time: 0:00:17 ETA:  0:00:37"
     ]
    },
    {
     "name": "stdout",
     "output_type": "stream",
     "text": [
      "connected mappoints  170\n"
     ]
    },
    {
     "name": "stderr",
     "output_type": "stream",
     "text": [
      "\r",
      "                                                                               \r",
      "\r",
      " 40% (20 of 50) |##########               | Elapsed Time: 0:00:19 ETA:  0:00:39"
     ]
    },
    {
     "name": "stdout",
     "output_type": "stream",
     "text": [
      "connected mappoints  182\n"
     ]
    },
    {
     "name": "stderr",
     "output_type": "stream",
     "text": [
      "\r",
      "                                                                               \r",
      "\r",
      " 42% (21 of 50) |##########               | Elapsed Time: 0:00:20 ETA:  0:00:40"
     ]
    },
    {
     "name": "stdout",
     "output_type": "stream",
     "text": [
      "connected mappoints  123\n"
     ]
    },
    {
     "name": "stderr",
     "output_type": "stream",
     "text": [
      "\r",
      "                                                                               \r",
      "\r",
      " 44% (22 of 50) |###########              | Elapsed Time: 0:00:22 ETA:  0:00:41"
     ]
    },
    {
     "name": "stdout",
     "output_type": "stream",
     "text": [
      "connected mappoints  21\n"
     ]
    },
    {
     "name": "stderr",
     "output_type": "stream",
     "text": [
      "\r",
      "                                                                               \r",
      "\r",
      " 46% (23 of 50) |###########              | Elapsed Time: 0:00:24 ETA:  0:00:41"
     ]
    },
    {
     "name": "stdout",
     "output_type": "stream",
     "text": [
      "connected mappoints  6\n"
     ]
    },
    {
     "name": "stderr",
     "output_type": "stream",
     "text": [
      "\r",
      "                                                                               \r",
      "\r",
      " 48% (24 of 50) |############             | Elapsed Time: 0:00:26 ETA:  0:00:42"
     ]
    },
    {
     "name": "stdout",
     "output_type": "stream",
     "text": [
      "connected mappoints  58\n"
     ]
    },
    {
     "name": "stderr",
     "output_type": "stream",
     "text": [
      "\r",
      "                                                                               \r",
      "\r",
      " 50% (25 of 50) |############             | Elapsed Time: 0:00:28 ETA:  0:00:41"
     ]
    },
    {
     "name": "stdout",
     "output_type": "stream",
     "text": [
      "connected mappoints  14\n"
     ]
    },
    {
     "name": "stderr",
     "output_type": "stream",
     "text": [
      "\r",
      "                                                                               \r",
      "\r",
      " 52% (26 of 50) |#############            | Elapsed Time: 0:00:29 ETA:  0:00:40"
     ]
    },
    {
     "name": "stdout",
     "output_type": "stream",
     "text": [
      "connected mappoints  34\n"
     ]
    },
    {
     "name": "stderr",
     "output_type": "stream",
     "text": [
      "\r",
      "                                                                               \r",
      "\r",
      " 54% (27 of 50) |#############            | Elapsed Time: 0:00:31 ETA:  0:00:39"
     ]
    },
    {
     "name": "stdout",
     "output_type": "stream",
     "text": [
      "connected mappoints  21\n"
     ]
    },
    {
     "name": "stderr",
     "output_type": "stream",
     "text": [
      "\r",
      "                                                                               \r",
      "\r",
      " 56% (28 of 50) |##############           | Elapsed Time: 0:00:33 ETA:  0:00:37"
     ]
    },
    {
     "name": "stdout",
     "output_type": "stream",
     "text": [
      "connected mappoints  0\n"
     ]
    },
    {
     "name": "stderr",
     "output_type": "stream",
     "text": [
      "\r",
      "                                                                               \r",
      "\r",
      " 57% (29 of 50) |##############           | Elapsed Time: 0:00:34 ETA:  0:00:36"
     ]
    },
    {
     "name": "stdout",
     "output_type": "stream",
     "text": [
      "connected mappoints  0\n"
     ]
    },
    {
     "name": "stderr",
     "output_type": "stream",
     "text": [
      "\r",
      "                                                                               \r",
      "\r",
      " 60% (30 of 50) |###############          | Elapsed Time: 0:00:36 ETA:  0:00:33"
     ]
    },
    {
     "name": "stdout",
     "output_type": "stream",
     "text": [
      "connected mappoints  2\n"
     ]
    },
    {
     "name": "stderr",
     "output_type": "stream",
     "text": [
      "\r",
      "                                                                               \r",
      "\r",
      " 62% (31 of 50) |###############          | Elapsed Time: 0:00:37 ETA:  0:00:31"
     ]
    },
    {
     "name": "stdout",
     "output_type": "stream",
     "text": [
      "connected mappoints  13\n"
     ]
    },
    {
     "name": "stderr",
     "output_type": "stream",
     "text": [
      "\r",
      "                                                                               \r",
      "\r",
      " 64% (32 of 50) |################         | Elapsed Time: 0:00:38 ETA:  0:00:28"
     ]
    },
    {
     "name": "stdout",
     "output_type": "stream",
     "text": [
      "connected mappoints  34\n"
     ]
    },
    {
     "name": "stderr",
     "output_type": "stream",
     "text": [
      "\r",
      "                                                                               \r",
      "\r",
      " 66% (33 of 50) |################         | Elapsed Time: 0:00:39 ETA:  0:00:25"
     ]
    },
    {
     "name": "stdout",
     "output_type": "stream",
     "text": [
      "connected mappoints  73\n"
     ]
    },
    {
     "name": "stderr",
     "output_type": "stream",
     "text": [
      "\r",
      "                                                                               \r",
      "\r",
      " 68% (34 of 50) |#################        | Elapsed Time: 0:00:40 ETA:  0:00:22"
     ]
    },
    {
     "name": "stdout",
     "output_type": "stream",
     "text": [
      "connected mappoints  45\n"
     ]
    },
    {
     "name": "stderr",
     "output_type": "stream",
     "text": [
      "\r",
      "                                                                               \r",
      "\r",
      " 70% (35 of 50) |#################        | Elapsed Time: 0:00:41 ETA:  0:00:19"
     ]
    },
    {
     "name": "stdout",
     "output_type": "stream",
     "text": [
      "connected mappoints  117\n"
     ]
    },
    {
     "name": "stderr",
     "output_type": "stream",
     "text": [
      "\r",
      "                                                                               \r",
      "\r",
      " 72% (36 of 50) |##################       | Elapsed Time: 0:00:42 ETA:  0:00:17"
     ]
    },
    {
     "name": "stdout",
     "output_type": "stream",
     "text": [
      "connected mappoints  47\n"
     ]
    },
    {
     "name": "stderr",
     "output_type": "stream",
     "text": [
      "\r",
      "                                                                               \r",
      "\r",
      " 74% (37 of 50) |##################       | Elapsed Time: 0:00:43 ETA:  0:00:14"
     ]
    },
    {
     "name": "stdout",
     "output_type": "stream",
     "text": [
      "connected mappoints  1\n"
     ]
    },
    {
     "name": "stderr",
     "output_type": "stream",
     "text": [
      "\r",
      "                                                                               \r",
      "\r",
      " 76% (38 of 50) |###################      | Elapsed Time: 0:00:44 ETA:  0:00:12"
     ]
    },
    {
     "name": "stdout",
     "output_type": "stream",
     "text": [
      "connected mappoints  56\n"
     ]
    },
    {
     "name": "stderr",
     "output_type": "stream",
     "text": [
      "\r",
      "                                                                               \r",
      "\r",
      " 78% (39 of 50) |###################      | Elapsed Time: 0:00:44 ETA:  0:00:10"
     ]
    },
    {
     "name": "stdout",
     "output_type": "stream",
     "text": [
      "connected mappoints  14\n"
     ]
    },
    {
     "name": "stderr",
     "output_type": "stream",
     "text": [
      "\r",
      "                                                                               \r",
      "\r",
      " 80% (40 of 50) |####################     | Elapsed Time: 0:00:45 ETA:  0:00:08"
     ]
    },
    {
     "name": "stdout",
     "output_type": "stream",
     "text": [
      "connected mappoints  1\n"
     ]
    },
    {
     "name": "stderr",
     "output_type": "stream",
     "text": [
      "\r",
      "                                                                               \r",
      "\r",
      " 82% (41 of 50) |####################     | Elapsed Time: 0:00:46 ETA:  0:00:07"
     ]
    },
    {
     "name": "stdout",
     "output_type": "stream",
     "text": [
      "connected mappoints  1\n"
     ]
    },
    {
     "name": "stderr",
     "output_type": "stream",
     "text": [
      "\r",
      "                                                                               \r",
      "\r",
      " 84% (42 of 50) |#####################    | Elapsed Time: 0:00:47 ETA:  0:00:06"
     ]
    },
    {
     "name": "stdout",
     "output_type": "stream",
     "text": [
      "connected mappoints  6\n"
     ]
    },
    {
     "name": "stderr",
     "output_type": "stream",
     "text": [
      "\r",
      "                                                                               \r",
      "\r",
      " 86% (43 of 50) |#####################    | Elapsed Time: 0:00:48 ETA:  0:00:05"
     ]
    },
    {
     "name": "stdout",
     "output_type": "stream",
     "text": [
      "connected mappoints  5\n"
     ]
    },
    {
     "name": "stderr",
     "output_type": "stream",
     "text": [
      "\r",
      "                                                                               \r",
      "\r",
      " 88% (44 of 50) |######################   | Elapsed Time: 0:00:49 ETA:  0:00:04"
     ]
    },
    {
     "name": "stdout",
     "output_type": "stream",
     "text": [
      "connected mappoints  0\n"
     ]
    },
    {
     "name": "stderr",
     "output_type": "stream",
     "text": [
      "\r",
      "                                                                               \r",
      "\r",
      " 90% (45 of 50) |######################   | Elapsed Time: 0:00:49 ETA:  0:00:04"
     ]
    },
    {
     "name": "stdout",
     "output_type": "stream",
     "text": [
      "connected mappoints  3\n"
     ]
    },
    {
     "name": "stderr",
     "output_type": "stream",
     "text": [
      "\r",
      "                                                                               \r",
      "\r",
      " 92% (46 of 50) |#######################  | Elapsed Time: 0:00:50 ETA:  0:00:03"
     ]
    },
    {
     "name": "stdout",
     "output_type": "stream",
     "text": [
      "connected mappoints  3\n"
     ]
    },
    {
     "name": "stderr",
     "output_type": "stream",
     "text": [
      "\r",
      "                                                                               \r",
      "\r",
      " 94% (47 of 50) |#######################  | Elapsed Time: 0:00:51 ETA:  0:00:02"
     ]
    },
    {
     "name": "stdout",
     "output_type": "stream",
     "text": [
      "connected mappoints  0\n"
     ]
    },
    {
     "name": "stderr",
     "output_type": "stream",
     "text": [
      "\r",
      "                                                                               \r",
      "\r",
      " 96% (48 of 50) |######################## | Elapsed Time: 0:00:51 ETA:  0:00:01"
     ]
    },
    {
     "name": "stdout",
     "output_type": "stream",
     "text": [
      "connected mappoints  0\n"
     ]
    },
    {
     "name": "stderr",
     "output_type": "stream",
     "text": [
      "\r",
      "                                                                               \r",
      "\r",
      " 98% (49 of 50) |######################## | Elapsed Time: 0:00:52 ETA:  0:00:00"
     ]
    },
    {
     "name": "stdout",
     "output_type": "stream",
     "text": [
      "connected mappoints  0\n"
     ]
    },
    {
     "name": "stderr",
     "output_type": "stream",
     "text": [
      "100% (50 of 50) |#########################| Elapsed Time: 0:00:53 Time: 0:00:53\n"
     ]
    },
    {
     "name": "stdout",
     "output_type": "stream",
     "text": [
      "connected mappoints  0\n"
     ]
    }
   ],
   "source": [
    "kseq = Sequence()\n",
    "for f in ProgressBar()(kframe[:50]):\n",
    "    kseq.add_keyframe(f, run_ba=False)"
   ]
  },
  {
   "cell_type": "markdown",
   "metadata": {},
   "source": [
    "Example of how to save a set of covisible keyframes, fixed keyframes, mappoints and edges to use for local bundle adjustment"
   ]
  },
  {
   "cell_type": "code",
   "execution_count": 6,
   "metadata": {},
   "outputs": [
    {
     "name": "stdout",
     "output_type": "stream",
     "text": [
      "Keyframes count\n",
      " 10 \n",
      "\n"
     ]
    }
   ],
   "source": [
    "print('Keyframes count\\n', (len(seq.keyframes)), '\\n')\n",
    "\n",
    "def keyframes_to_np(keyframes):\n",
    "    return np.hstack([ [ [ kf.keyframeid] for kf in keyframes ], [ [kf.frameid] for kf in keyframes ], [ kf.get_world_pose().flatten() for kf in keyframes ] ])"
   ]
  },
  {
   "cell_type": "code",
   "execution_count": 7,
   "metadata": {},
   "outputs": [
    {
     "data": {
      "text/plain": [
       "array([[ 0.        ,  0.        ],\n",
       "       [ 0.0797279 , -0.78571803],\n",
       "       [ 0.01082788, -1.51295057],\n",
       "       [-0.09637543, -2.77760074],\n",
       "       [-0.70003742, -4.50551005],\n",
       "       [-1.52747023, -5.6931009 ],\n",
       "       [-2.23052934, -6.30754764],\n",
       "       [-3.61637593, -6.96596951],\n",
       "       [-5.18553317, -7.35796517],\n",
       "       [-8.76441131, -7.40643895]])"
      ]
     },
     "execution_count": 7,
     "metadata": {},
     "output_type": "execute_result"
    }
   ],
   "source": [
    "cv_keyframes = [ seq.keyframes[f] for f in range(len(seq.keyframes)) ]\n",
    "#cv_keyframes = get_covisible_keyframes(seq.keyframes[-1])\n",
    "mappoints = get_mappoints(cv_keyframes)\n",
    "f_keyframes = get_fixed_keyframes(mappoints, cv_keyframes)[:0]\n",
    "\n",
    "cv_keyframes_np = keyframes_to_np(cv_keyframes)\n",
    "f_keyframes_np = keyframes_to_np(f_keyframes)\n",
    "mappoints_np = mappoints_to_np(mappoints)\n",
    "links_np = links_to_np(mappoints)\n",
    "\n",
    "\n",
    "f_keyframes = np.asfortranarray(f_keyframes_np)\n",
    "cv_keyframes_BA = np.asfortranarray(cv_keyframes_np)\n",
    "mappoints = np.asfortranarray(mappoints_np)\n",
    "links = np.array(links_np, order='f')\n",
    "\n",
    "#cv_keyframes_BA[-1,2:] = cv_keyframes_BA[-1,2:] * 2\n",
    "#print(cv_keyframes_BA[3])\n",
    "results =  urbg2o.localBundleAdjustment(cv_keyframes_BA, f_keyframes, mappoints, links)\n",
    "\n",
    "#[f.frameid for f in cv_keyframes]\n",
    "cv_keyframes_np[:, [5,13]].reshape((-1,2))"
   ]
  },
  {
   "cell_type": "code",
   "execution_count": 8,
   "metadata": {},
   "outputs": [
    {
     "data": {
      "text/plain": [
       "array([[  0.00000000e+00,   0.00000000e+00],\n",
       "       [  8.67249481e-03,  -9.06069810e-02],\n",
       "       [  1.88055713e-02,  -1.88290844e-01],\n",
       "       [  2.72520020e-02,  -2.85559938e-01],\n",
       "       [  3.50679277e-02,  -3.86974325e-01],\n",
       "       [  5.07425081e-02,  -5.03478664e-01],\n",
       "       [  6.05318846e-02,  -6.31422815e-01],\n",
       "       [  7.07196697e-02,  -7.72433960e-01],\n",
       "       [  8.39171069e-02,  -9.24678163e-01],\n",
       "       [  9.52740370e-02,  -1.08758364e+00],\n",
       "       [  1.03557737e-01,  -1.26498413e+00],\n",
       "       [  1.09445038e-01,  -1.45536173e+00],\n",
       "       [  1.20367550e-01,  -1.64117497e+00],\n",
       "       [  1.18383601e-01,  -1.84376769e+00],\n",
       "       [  1.04635567e-01,  -2.04083051e+00],\n",
       "       [  8.79640890e-02,  -2.24775947e+00],\n",
       "       [  6.46288123e-02,  -2.46325941e+00],\n",
       "       [  3.13193066e-02,  -2.68592453e+00],\n",
       "       [ -8.41345411e-03,  -2.89970444e+00],\n",
       "       [ -5.68836013e-02,  -3.11620292e+00],\n",
       "       [ -1.16545631e-01,  -3.32839919e+00],\n",
       "       [ -1.98288193e-01,  -3.55337033e+00],\n",
       "       [ -2.80976657e-01,  -3.76231649e+00],\n",
       "       [ -3.76842345e-01,  -3.99520187e+00],\n",
       "       [ -4.76195989e-01,  -4.22892336e+00],\n",
       "       [ -6.02756408e-01,  -4.46937571e+00],\n",
       "       [ -7.49319558e-01,  -4.70797134e+00],\n",
       "       [ -9.24691704e-01,  -4.94106649e+00],\n",
       "       [ -1.11666903e+00,  -5.17262912e+00],\n",
       "       [ -1.33131343e+00,  -5.40702916e+00],\n",
       "       [ -1.56608445e+00,  -5.63784102e+00],\n",
       "       [ -1.82317224e+00,  -5.85661930e+00],\n",
       "       [ -2.10463467e+00,  -6.07152206e+00],\n",
       "       [ -2.40443096e+00,  -6.27826279e+00],\n",
       "       [ -2.72744417e+00,  -6.46959596e+00],\n",
       "       [ -3.08401881e+00,  -6.65098210e+00],\n",
       "       [ -3.41688521e+00,  -6.80384130e+00],\n",
       "       [ -3.77134295e+00,  -6.93211332e+00],\n",
       "       [ -4.16248293e+00,  -7.05681937e+00],\n",
       "       [ -4.57720123e+00,  -7.16896121e+00],\n",
       "       [ -5.01964257e+00,  -7.25694408e+00],\n",
       "       [ -5.48260951e+00,  -7.32336924e+00],\n",
       "       [ -5.96639688e+00,  -7.37440242e+00],\n",
       "       [ -6.46862418e+00,  -7.40624910e+00],\n",
       "       [ -6.98262068e+00,  -7.42265519e+00],\n",
       "       [ -7.51584498e+00,  -7.41831836e+00],\n",
       "       [ -8.07742798e+00,  -7.40727257e+00],\n",
       "       [ -8.65102168e+00,  -7.38349983e+00],\n",
       "       [ -9.25375756e+00,  -7.35968253e+00],\n",
       "       [ -9.86217569e+00,  -7.31669705e+00]])"
      ]
     },
     "execution_count": 8,
     "metadata": {},
     "output_type": "execute_result"
    }
   ],
   "source": [
    "cv_keyframes = [ kseq.keyframes[f] for f in range(0,50) ]\n",
    "#cv_keyframes = get_covisible_keyframes(seq.keyframes[-1])\n",
    "mappoints = get_mappoints(cv_keyframes)\n",
    "f_keyframes = get_fixed_keyframes(mappoints, cv_keyframes)[:0]\n",
    "\n",
    "cv_keyframes_np = keyframes_to_np(cv_keyframes)\n",
    "f_keyframes_np = keyframes_to_np(f_keyframes)\n",
    "mappoints_np = mappoints_to_np(mappoints)\n",
    "links_np = links_to_np(mappoints)\n",
    "\n",
    "\n",
    "f_keyframes = np.asfortranarray(f_keyframes_np)\n",
    "cv_keyframes_BA = np.asfortranarray(cv_keyframes_np)\n",
    "mappoints = np.asfortranarray(mappoints_np)\n",
    "links = np.array(links_np, order='f')\n",
    "\n",
    "#cv_keyframes_BA[-1,2:] = cv_keyframes_BA[-1,2:] * 2\n",
    "#print(cv_keyframes_BA[3])\n",
    "results =  urbg2o.localBundleAdjustment(cv_keyframes_BA, f_keyframes, mappoints, links)\n",
    "\n",
    "#[f.frameid for f in cv_keyframes]\n",
    "cv_keyframes_np[:, [5,13]].reshape((-1,2))"
   ]
  },
  {
   "cell_type": "code",
   "execution_count": 9,
   "metadata": {},
   "outputs": [
    {
     "data": {
      "text/plain": [
       "101.66"
      ]
     },
     "execution_count": 9,
     "metadata": {},
     "output_type": "execute_result"
    }
   ],
   "source": [
    "len(links) / 50"
   ]
  },
  {
   "cell_type": "code",
   "execution_count": 10,
   "metadata": {},
   "outputs": [
    {
     "data": {
      "text/plain": [
       "array([[  0.00000000e+00,   0.00000000e+00],\n",
       "       [  8.67249481e-03,  -9.06069810e-02],\n",
       "       [  1.53862079e-02,  -1.81592799e-01],\n",
       "       [  1.83422697e-02,  -2.75980837e-01],\n",
       "       [  2.23633946e-02,  -3.76359011e-01],\n",
       "       [  2.95911296e-02,  -4.85673234e-01],\n",
       "       [  3.25090991e-02,  -6.06682367e-01],\n",
       "       [  3.32235315e-02,  -7.38557728e-01],\n",
       "       [  3.53668456e-02,  -8.80569912e-01],\n",
       "       [  3.17784837e-02,  -1.03513856e+00],\n",
       "       [  2.67665483e-02,  -1.19966387e+00],\n",
       "       [  2.14078435e-02,  -1.37691542e+00],\n",
       "       [  1.06048912e-02,  -1.55395453e+00],\n",
       "       [ -1.04003950e-03,  -1.74970552e+00],\n",
       "       [ -3.03592772e-02,  -1.94003042e+00],\n",
       "       [ -5.91711628e-02,  -2.14535190e+00],\n",
       "       [ -9.72844156e-02,  -2.35714177e+00],\n",
       "       [ -1.45133744e-01,  -2.57078640e+00],\n",
       "       [ -1.97678612e-01,  -2.78598130e+00],\n",
       "       [ -2.63673121e-01,  -2.99846149e+00],\n",
       "       [ -3.45813467e-01,  -3.20342180e+00],\n",
       "       [ -5.07428436e-01,  -3.32339079e+00],\n",
       "       [ -5.04956926e-01,  -3.62244602e+00],\n",
       "       [ -6.42823026e-01,  -3.82506650e+00],\n",
       "       [ -7.93131427e-01,  -4.06473403e+00],\n",
       "       [ -1.00129454e+00,  -4.27194013e+00],\n",
       "       [ -1.13215647e+00,  -4.50217736e+00],\n",
       "       [ -9.24691704e-01,  -4.94106649e+00],\n",
       "       [ -9.48234092e-01,  -5.32742560e+00],\n",
       "       [ -1.10273970e+00,  -5.90541015e+00],\n",
       "       [ -1.44164638e+00,  -6.21293279e+00],\n",
       "       [ -1.77670581e+00,  -6.37691026e+00],\n",
       "       [ -2.11859636e+00,  -6.55599058e+00],\n",
       "       [ -2.45804089e+00,  -6.73501054e+00],\n",
       "       [ -2.81660353e+00,  -6.88787884e+00],\n",
       "       [ -3.17779559e+00,  -7.05098829e+00],\n",
       "       [ -3.39048295e+00,  -6.46429337e+00],\n",
       "       [ -3.71312336e+00,  -6.60998802e+00],\n",
       "       [ -3.86482729e+00,  -7.12676800e+00],\n",
       "       [ -4.13808440e+00,  -6.64953065e+00],\n",
       "       [ -5.02203235e+00,  -7.22622181e+00],\n",
       "       [ -5.56683209e+00,  -7.38691270e+00],\n",
       "       [ -5.79806607e+00,  -7.51722376e+00],\n",
       "       [ -6.29374913e+00,  -7.34742364e+00],\n",
       "       [ -7.20678493e+00,  -6.52049111e+00],\n",
       "       [ -7.41325392e+00,  -8.38378445e+00],\n",
       "       [ -8.07742798e+00,  -7.40727257e+00],\n",
       "       [ -8.65102168e+00,  -7.38349983e+00],\n",
       "       [ -9.25375756e+00,  -7.35968253e+00],\n",
       "       [ -9.86217569e+00,  -7.31669705e+00]])"
      ]
     },
     "execution_count": 10,
     "metadata": {},
     "output_type": "execute_result"
    }
   ],
   "source": [
    "#links2 = [ l for l in links if l[1] == 2.0]\n",
    "#[ l for l in links if int(l[0]) >= len(mappoints)]\n",
    "#mid2 = [ int(m[0]) for m in mappoints ]\n",
    "#[ l for l in links2 if int(l[0]) not in mid2 ]\n",
    "cv_keyframes_BA[:, [5,13]].reshape((-1,2))"
   ]
  },
  {
   "cell_type": "code",
   "execution_count": 11,
   "metadata": {},
   "outputs": [
    {
     "data": {
      "text/plain": [
       "array([[ 0.        ,  0.        ],\n",
       "       [ 0.0797279 , -0.78571803],\n",
       "       [ 0.01082788, -1.51295057],\n",
       "       [-0.09637543, -2.77760074],\n",
       "       [-0.70003742, -4.50551005],\n",
       "       [-1.52747023, -5.6931009 ],\n",
       "       [-2.23052934, -6.30754764],\n",
       "       [-3.61637593, -6.96596951],\n",
       "       [-5.18553317, -7.35796517],\n",
       "       [-8.76441131, -7.40643895]])"
      ]
     },
     "execution_count": 11,
     "metadata": {},
     "output_type": "execute_result"
    }
   ],
   "source": [
    "\n",
    "#cv_keyframes = get_covisible_keyframes(seq.keyframes[-1])\n",
    "cv_keyframes = [ seq.keyframes[f] for f in range(len(seq.keyframes)) ]\n",
    "\n",
    "mappoints = get_mappoints(cv_keyframes)\n",
    "f_keyframes = get_fixed_keyframes(mappoints, cv_keyframes)[:0]\n",
    "\n",
    "cv_keyframes_np = keyframes_to_np(cv_keyframes)\n",
    "f_keyframes_np = keyframes_to_np(f_keyframes)\n",
    "mappoints_np = mappoints_to_np(mappoints)\n",
    "links_np = links_to_np(mappoints)\n",
    "\n",
    "\n",
    "f_keyframes = np.asfortranarray(f_keyframes_np)\n",
    "cv_keyframes_BA = np.asfortranarray(cv_keyframes_np)\n",
    "mappoints = np.asfortranarray(mappoints_np)\n",
    "links = np.array(links_np, order='f')\n",
    "\n",
    "outliers =  urbg2o.outliersForLocalBundleAdjustment(cv_keyframes_BA, f_keyframes, mappoints, links)\n",
    "\n",
    "cv_keyframes_np[:,[5,13]]"
   ]
  },
  {
   "cell_type": "code",
   "execution_count": 12,
   "metadata": {},
   "outputs": [
    {
     "data": {
      "text/plain": [
       "[0.0,\n",
       " 0.0,\n",
       " 0.0,\n",
       " 0.0,\n",
       " 0.0,\n",
       " 0.0,\n",
       " 0.0,\n",
       " 0.0,\n",
       " 0.0,\n",
       " 0.0,\n",
       " 0.0,\n",
       " 0.0,\n",
       " 0.0,\n",
       " 0.0,\n",
       " 0.0,\n",
       " 0.0,\n",
       " 0.0,\n",
       " 0.0,\n",
       " 0.0,\n",
       " 0.0,\n",
       " 0.0,\n",
       " 0.0,\n",
       " 0.0,\n",
       " 0.0,\n",
       " 0.0,\n",
       " 0.0,\n",
       " 0.0,\n",
       " 0.0,\n",
       " 0.0,\n",
       " 0.0,\n",
       " 0.0,\n",
       " 0.0,\n",
       " 0.0,\n",
       " 0.0,\n",
       " 0.0,\n",
       " 0.0,\n",
       " 0.0,\n",
       " 0.0,\n",
       " 0.0,\n",
       " 0.0,\n",
       " 0.0,\n",
       " 0.0,\n",
       " 0.0,\n",
       " 0.0,\n",
       " 0.0,\n",
       " 0.0,\n",
       " 0.0,\n",
       " 0.0,\n",
       " 0.0,\n",
       " 0.0]"
      ]
     },
     "execution_count": 12,
     "metadata": {},
     "output_type": "execute_result"
    }
   ],
   "source": [
    "countsp = [0] * 50\n",
    "counts = [0] * 50\n",
    "for o in outliers:\n",
    "    if o[2] > 6:\n",
    "        counts[int(o[0])] += 1\n",
    "for o in links:\n",
    "    countsp[int(o[1])] += 1\n",
    "for i in range(len(counts)):\n",
    "    counts[i] /= countsp[i] + 0.001\n",
    "counts"
   ]
  },
  {
   "cell_type": "code",
   "execution_count": 13,
   "metadata": {
    "collapsed": true
   },
   "outputs": [],
   "source": [
    "from sortedcontainers import SortedSet\n",
    "\n",
    "inliers = { (int(pointid), int(frameid)) for frameid, pointid, chi2 in outliers if chi2 < 5.8 }\n",
    "keptpoints = SortedSet({ l[0] for l in inliers })\n",
    "keptframes = SortedSet({ l[1] for l in inliers })\n",
    "#m_keptpoints = { p:i for i, p in enumerate(keptpoints) }\n",
    "#m_keptframes = { p:i for i, p in enumerate(keptframes) }\n",
    "cv_keyframes1 = [ f for f in cv_keyframes if f.keyframeid in keptframes]\n",
    "fixed_keyframes1 = [ f for f in f_keyframes if f.keyframeid in keptframes]\n",
    "mappoints1 = [ f for f in mappoints if int(f[0]) in keptpoints]\n",
    "links1 = [ (l[0], l[1], l[2], l[3]) for l in links if (int(l[0]), int(l[1])) in inliers ]"
   ]
  },
  {
   "cell_type": "code",
   "execution_count": 14,
   "metadata": {},
   "outputs": [
    {
     "data": {
      "text/plain": [
       "(76, 152)"
      ]
     },
     "execution_count": 14,
     "metadata": {},
     "output_type": "execute_result"
    }
   ],
   "source": [
    "len(mappoints), len(links)"
   ]
  },
  {
   "cell_type": "code",
   "execution_count": 15,
   "metadata": {},
   "outputs": [
    {
     "data": {
      "text/plain": [
       "1.0"
      ]
     },
     "execution_count": 15,
     "metadata": {},
     "output_type": "execute_result"
    }
   ],
   "source": [
    "len(inliers) / len(links)"
   ]
  },
  {
   "cell_type": "code",
   "execution_count": 16,
   "metadata": {
    "collapsed": true
   },
   "outputs": [],
   "source": [
    "cv_keyframes1_np = keyframes_to_np(cv_keyframes1)\n",
    "f_keyframes1_np = keyframes_to_np(fixed_keyframes1)\n",
    "links1_np = np.array(links1, dtype=np.float64, order='f')\n",
    "\n",
    "f_keyframes1 = np.asfortranarray(f_keyframes1_np)\n",
    "cv_keyframes1_BA = np.asfortranarray(cv_keyframes1_np)\n",
    "mappoints1 = np.asfortranarray(mappoints1)\n",
    "links1 = np.array(links1_np, order='f')\n",
    "\n",
    "results =  urbg2o.localBundleAdjustment(cv_keyframes1_BA, f_keyframes1, mappoints1, links1)\n",
    "\n"
   ]
  },
  {
   "cell_type": "code",
   "execution_count": 17,
   "metadata": {},
   "outputs": [
    {
     "data": {
      "text/plain": [
       "array([[  1.00000000e+00,   0.00000000e+00,   0.00000000e+00,\n",
       "          0.00000000e+00,   0.00000000e+00,   1.00000000e+00,\n",
       "          0.00000000e+00,   0.00000000e+00,   0.00000000e+00,\n",
       "          0.00000000e+00,   1.00000000e+00,   0.00000000e+00,\n",
       "          0.00000000e+00,   0.00000000e+00,   0.00000000e+00,\n",
       "          1.00000000e+00],\n",
       "       [  9.97576361e-01,  -2.29348128e-03,   6.95423935e-02,\n",
       "          7.97279018e-02,   1.98112817e-03,   9.99987640e-01,\n",
       "          4.56018670e-03,  -6.18679030e-03,  -6.95519927e-02,\n",
       "         -4.41136206e-03,   9.97568574e-01,  -7.85718030e-01,\n",
       "          0.00000000e+00,   0.00000000e+00,   0.00000000e+00,\n",
       "          1.00000000e+00],\n",
       "       [  9.87204603e-01,  -1.05456578e-02,   1.59109586e-01,\n",
       "         -2.35583047e-01,   9.35983962e-03,   9.99922570e-01,\n",
       "          8.20041413e-03,   4.27444431e-02,  -1.59183745e-01,\n",
       "         -6.60624637e-03,   9.87226870e-01,  -7.48027638e-01,\n",
       "          0.00000000e+00,   0.00000000e+00,   0.00000000e+00,\n",
       "          1.00000000e+00],\n",
       "       [  9.43085862e-01,  -1.72070618e-02,   3.32103859e-01,\n",
       "         -2.30836880e-01,   1.29650388e-02,   9.99803661e-01,\n",
       "          1.49848863e-02,   1.00637527e-02,  -3.32296500e-01,\n",
       "         -9.82629503e-03,   9.43123788e-01,  -2.06187843e+00,\n",
       "          0.00000000e+00,   0.00000000e+00,   0.00000000e+00,\n",
       "          1.00000000e+00]])"
      ]
     },
     "execution_count": 17,
     "metadata": {},
     "output_type": "execute_result"
    }
   ],
   "source": [
    "cv_keyframes1_BA[:,2:]"
   ]
  },
  {
   "cell_type": "code",
   "execution_count": null,
   "metadata": {
    "collapsed": true
   },
   "outputs": [],
   "source": []
  },
  {
   "cell_type": "code",
   "execution_count": 18,
   "metadata": {
    "collapsed": true
   },
   "outputs": [],
   "source": [
    "\n",
    "cv_keyframes = { seq.keyframes[i] for i in range(0,7,2) }\n",
    "mappoints = get_mappoints(cv_keyframes)\n",
    "f_keyframes = { }\n",
    "\n",
    "cv_keyframes_np = keyframes_to_np(cv_keyframes)\n",
    "f_keyframes_np = keyframes_to_np(f_keyframes)\n",
    "mappoints_np = mappoints_to_np(mappoints)\n",
    "links_np = links_to_np(mappoints)\n",
    "\n",
    "\n",
    "f_keyframes = np.asfortranarray(f_keyframes_np)\n",
    "cv_keyframes_BA = np.asfortranarray(cv_keyframes_np)\n",
    "mappoints = np.asfortranarray(mappoints_np)\n",
    "links = np.array(links_np, order='f')\n",
    "\n",
    "# np.set_printoptions(threshold=np.nan)\n",
    "\n",
    "# print('mappoints count  \\n', (len(mappoints[:]), '\\n') )\n",
    "# print('mappoints \\n', (mappoints[:]), '\\n')\n",
    "# print('links count  \\n', (len(links[:]), '\\n') )\n",
    "# print('links \\n', (links[:]), '\\n')\n",
    "\n",
    "# print('Keyframes \\n', (cv_keyframes), '\\n')\n",
    "# print('Keyframes numpy \\n', (cv_keyframes_np[:, 2 :]), '\\n')\n",
    "# print('mappoints len \\n', len(mappoints_np), '\\n')\n",
    "# print('Fixed Keyframes \\n',f_keyframes[:], '\\n')\n",
    "\n",
    "# print('Keyframes before BA \\n', (cv_keyframes_BA[: , 2:]), '\\n')\n",
    "# print(len(cv_keyframes_BA), '\\n')\n",
    "\n",
    "outliers =  urbg2o.outliersForLocalBundleAdjustment(cv_keyframes_BA, f_keyframes, mappoints, links)\n",
    "\n",
    "# print('Keyframes after BA \\n', (cv_keyframes_BA[:, 2 :]), '\\n')\n",
    "# print(len(cv_keyframes_BA), '\\n')"
   ]
  },
  {
   "cell_type": "code",
   "execution_count": 19,
   "metadata": {
    "collapsed": true
   },
   "outputs": [],
   "source": [
    "from sortedcontainers import SortedSet\n",
    "\n",
    "inliers = { (int(pointid), int(frameid)) for frameid, pointid, chi2 in outliers if chi2 < 10 }\n",
    "keptpoints = SortedSet({ l[0] for l in inliers })\n",
    "keptframes = SortedSet({ l[1] for l in inliers })\n",
    "m_keptpoints = { p:i for i, p in enumerate(keptpoints) }\n",
    "m_keptframes = { p:i for i, p in enumerate(keptframes) }\n",
    "cv_keyframes1 = [ f for i, f in enumerate(cv_keyframes) if i in keptframes]\n",
    "fixed_keyframes1 = [ f for i, f in enumerate(f_keyframes) if i + len(cv_keyframes) in keptframes]\n",
    "mappoints1 = [ f for i, f in enumerate(mappoints) if i in keptpoints]\n",
    "links1 = [ (m_keptpoints[l[0]], m_keptframes[l[1]], l[2], l[3]) for l in links if (int(l[0]), int(l[1])) in inliers ]"
   ]
  },
  {
   "cell_type": "code",
   "execution_count": 20,
   "metadata": {},
   "outputs": [
    {
     "data": {
      "text/plain": [
       "0.5"
      ]
     },
     "execution_count": 20,
     "metadata": {},
     "output_type": "execute_result"
    }
   ],
   "source": [
    "len(inliers) / len(links)"
   ]
  },
  {
   "cell_type": "code",
   "execution_count": 21,
   "metadata": {
    "collapsed": true
   },
   "outputs": [],
   "source": [
    "cv_keyframes1_np = keyframes_to_np(cv_keyframes1)\n",
    "f_keyframes1_np = keyframes_to_np(fixed_keyframes1)\n",
    "links1_np = np.array(links1, dtype=np.float64, order='f')\n",
    "\n",
    "f_keyframes1 = np.asfortranarray(f_keyframes1_np)\n",
    "cv_keyframes1_BA = np.asfortranarray(cv_keyframes1_np)\n",
    "mappoints1 = np.asfortranarray(mappoints1)\n",
    "links1 = np.array(links1_np, order='f')\n",
    "\n",
    "results =  urbg2o.localBundleAdjustment(cv_keyframes1_BA, f_keyframes1, mappoints1, links1)\n",
    "\n"
   ]
  },
  {
   "cell_type": "code",
   "execution_count": 22,
   "metadata": {},
   "outputs": [
    {
     "data": {
      "text/plain": [
       "array([[  4.61600542e-01,  -1.69087287e-03,   8.87086287e-01,\n",
       "         -2.23052934e+00,  -9.74562357e-03,   9.99928169e-01,\n",
       "          6.97715276e-03,  -3.12361549e-02,  -8.87034364e-01,\n",
       "         -1.18658665e-02,   4.61550906e-01,  -6.30754764e+00,\n",
       "          0.00000000e+00,   0.00000000e+00,   0.00000000e+00,\n",
       "          1.00000000e+00],\n",
       "       [  1.00000000e+00,   0.00000000e+00,   0.00000000e+00,\n",
       "          0.00000000e+00,   0.00000000e+00,   1.00000000e+00,\n",
       "          0.00000000e+00,   0.00000000e+00,   0.00000000e+00,\n",
       "          0.00000000e+00,   1.00000000e+00,   0.00000000e+00,\n",
       "          0.00000000e+00,   0.00000000e+00,   0.00000000e+00,\n",
       "          1.00000000e+00]])"
      ]
     },
     "execution_count": 22,
     "metadata": {},
     "output_type": "execute_result"
    }
   ],
   "source": [
    "cv_keyframes1_BA[:, 2:]"
   ]
  },
  {
   "cell_type": "code",
   "execution_count": null,
   "metadata": {
    "collapsed": true
   },
   "outputs": [],
   "source": []
  }
 ],
 "metadata": {
  "kernelspec": {
   "display_name": "Python 3",
   "language": "python",
   "name": "python3"
  },
  "language_info": {
   "codemirror_mode": {
    "name": "ipython",
    "version": 3
   },
   "file_extension": ".py",
   "mimetype": "text/x-python",
   "name": "python",
   "nbconvert_exporter": "python",
   "pygments_lexer": "ipython3",
   "version": "3.6.1"
  }
 },
 "nbformat": 4,
 "nbformat_minor": 2
}
