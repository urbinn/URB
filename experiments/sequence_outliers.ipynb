{
 "cells": [
  {
   "cell_type": "markdown",
   "metadata": {},
   "source": [
    "# Store kitti sequence\n",
    "\n",
    "Create a sequence"
   ]
  },
  {
   "cell_type": "code",
   "execution_count": 1,
   "metadata": {},
   "outputs": [],
   "source": [
    "# when you change a setting you have to restart the kernel (settings are only loaded once)\n",
    "import os\n",
    "#os.environ['STEREO_CONFIDENCE'] = '1.6'\n",
    "#os.environ['SEQUENCE_CONFIDENCE'] = '1.6'\n",
    "#os.environ['PATCH_SIZE'] = '17'\n",
    "FRAMECOUNT = 1101\n",
    "\n",
    "import sys\n",
    "sys.path.append('..')\n",
    "from src.kitti import *\n",
    "%matplotlib inline\n",
    "import numpy as np\n",
    "import glob\n",
    "import urbg2o\n",
    "import cv2\n",
    "\n",
    "\n",
    "IMAGE_SIZE = 400\n",
    "\n",
    "def load(file):\n",
    "    keyframeids, frameids, poses = load_keyframes(file)\n",
    "    return keyframeids, frameids, poses.reshape(poses.shape[0], 4, 4)\n",
    "\n",
    "def load_csv(file):\n",
    "    poses = np.genfromtxt(file, delimiter= \" \")\n",
    "    poses = np.hstack([poses, np.repeat(np.array([[0,0,0,1.0]]), len(poses), axis=0) ])\n",
    "    return poses.reshape(poses.shape[0], 4, 4)\n",
    "\n",
    "def transform(poses):\n",
    "    points = np.repeat(np.array([[0,0,0,1.0]]), len(poses), axis=0) \n",
    "    for i in range(1, len(poses)):\n",
    "        points[:i] = np.dot(points[:i], poses[i].T)\n",
    "    return points\n",
    "        \n",
    "def transform2(poses):\n",
    "    points = poses[:,:,3]\n",
    "    return points\n",
    "    \n",
    "def plot_trajectory(points):\n",
    "    # remove y coordinate (we only use x and z to plot a view from above)\n",
    "    points = points[:, [0,2,3]]\n",
    "    # compute min and max\n",
    "    pmin = points.min(axis=0)\n",
    "    pmax = points.max(axis=0)\n",
    "    maxxy = max(pmax[0] - pmin[0], pmax[1] - pmin[1])\n",
    "\n",
    "    t = np.eye(3, dtype=np.float64)\n",
    "    t[0,0] = IMAGE_SIZE / maxxy\n",
    "    t[1,1] = -IMAGE_SIZE / maxxy\n",
    "    t[0,2] = -pmin[0] * IMAGE_SIZE / maxxy\n",
    "    t[1,2] = IMAGE_SIZE / maxxy + pmin[1] / maxxy + 100\n",
    "\n",
    "    return np.dot(points, t.T)\n",
    "    \n",
    "\n",
    "def plot_trajectory2(points):\n",
    "    # remove y coordinate (we only use x and z to plot a view from above)\n",
    "    points = points[:, [0,2,3]]\n",
    "    # compute min and max\n",
    "    pmin = points.min(axis=0)\n",
    "    pmax = points.max(axis=0)\n",
    "    maxxy = max(pmax[0] - pmin[0], pmax[1] - pmin[1]) * 1.01\n",
    "\n",
    "    t = np.eye(3, dtype=np.float64)\n",
    "    t[0,0] = IMAGE_SIZE / maxxy\n",
    "    t[1,1] = -IMAGE_SIZE / maxxy\n",
    "    t[0,2] = -pmin[0] * IMAGE_SIZE / maxxy\n",
    "    t[1,2] = IMAGE_SIZE / maxxy + pmin[1] / maxxy + 100\n",
    "    return np.dot(points, t.T)\n",
    "    \n",
    "def plot_trajectory3(points):\n",
    "    coords = []\n",
    "    minx = min([p[0] for p in points])\n",
    "    maxx = max([p[0] for p in points])\n",
    "    miny = min([p[2] for p in points])\n",
    "    maxy = max([p[2] for p in points])\n",
    "    maxxy = max(maxx - minx, maxy - miny)* 1.01\n",
    "\n",
    "    for p in points:\n",
    "        #print(p)\n",
    "        x = IMAGE_SIZE * (p[0] - minx) / (maxxy)\n",
    "        z = IMAGE_SIZE - IMAGE_SIZE * (p[2] - miny) / (maxxy)\n",
    "        coords.append([x, z])\n",
    "    return coords\n",
    "\n",
    "def new_image():\n",
    "    img = np.zeros((IMAGE_SIZE, IMAGE_SIZE, 3), np.uint8)\n",
    "    img[:] = 255 #or img.fill(255)\n",
    "    return img\n",
    "\n",
    "def draw(coords, img, color = (0,0,0)):\n",
    "    # Draw a black line with thickness of 2 px\n",
    "    for i in range(1,len(coords)):\n",
    "        cv2.line(img, (int(coords[i - 1][0]), int(coords[i - 1][1])), (int(coords[i][0]), int(coords[i][1])), color, 2)\n",
    "    return img"
   ]
  },
  {
   "cell_type": "markdown",
   "metadata": {},
   "source": [
    "Read the first 10 frames from KITTI sequence 00."
   ]
  },
  {
   "cell_type": "code",
   "execution_count": 2,
   "metadata": {},
   "outputs": [
    {
     "name": "stdout",
     "output_type": "stream",
     "text": [
      "CPU times: user 4.49 ms, sys: 1.17 ms, total: 5.66 ms\n",
      "Wall time: 4.91 ms\n"
     ]
    }
   ],
   "source": [
    "%%time\n",
    "SEQUENCE=7\n",
    "LEFTDIR = '/data/urbinn/datasets/kitti/sequences/%02d/image_0'%SEQUENCE\n",
    "RIGHTDIR = '/data/urbinn/datasets/kitti/sequences/%02d/image_1'%SEQUENCE\n",
    "\n",
    "frame = []\n",
    "for filename in sorted(glob.glob(LEFTDIR + '/*')):\n",
    "    left_frame = Frame(filename, RIGHTDIR)\n",
    "    frame.append(left_frame)"
   ]
  },
  {
   "cell_type": "markdown",
   "metadata": {},
   "source": [
    "Add the frames to a sequence. By adjusting the [:] you can use only a slice of the list of frames."
   ]
  },
  {
   "cell_type": "code",
   "execution_count": null,
   "metadata": {},
   "outputs": [
    {
     "name": "stderr",
     "output_type": "stream",
     "text": [
      "  0% (2 of 1101) |                        | Elapsed Time: 0:00:00 ETA:  0:01:18"
     ]
    },
    {
     "name": "stdout",
     "output_type": "stream",
     "text": [
      "connected mappoints  179\n"
     ]
    },
    {
     "name": "stderr",
     "output_type": "stream",
     "text": [
      "  0% (10 of 1101) |                       | Elapsed Time: 0:00:01 ETA:  0:02:29"
     ]
    },
    {
     "name": "stdout",
     "output_type": "stream",
     "text": [
      "aap\n",
      "connected mappoints  35\n"
     ]
    },
    {
     "name": "stderr",
     "output_type": "stream",
     "text": [
      "\r",
      "                                                                               \r",
      "\r",
      "  0% (11 of 1101) |                       | Elapsed Time: 0:00:01 ETA:  0:03:15"
     ]
    },
    {
     "name": "stdout",
     "output_type": "stream",
     "text": [
      "invalid speed keyframe 9 frame 10 speed 0.8774459516206107\n",
      " [[  9.99760487e-01  -2.25476389e-05   2.18853515e-02   2.71326466e-02]\n",
      " [  1.70318257e-05   9.99999968e-01   2.52218557e-04   3.92175662e-03]\n",
      " [ -2.18853565e-02  -2.51785400e-04   9.99760455e-01  -1.75119965e-01]\n",
      " [  0.00000000e+00   0.00000000e+00   0.00000000e+00   1.00000000e+00]]\n",
      "noot True False 145\n"
     ]
    },
    {
     "name": "stderr",
     "output_type": "stream",
     "text": [
      "  1% (16 of 1101) |                       | Elapsed Time: 0:00:04 ETA:  0:06:25"
     ]
    },
    {
     "name": "stdout",
     "output_type": "stream",
     "text": [
      "aap\n",
      "connected mappoints  32\n"
     ]
    },
    {
     "name": "stderr",
     "output_type": "stream",
     "text": [
      "\r",
      "                                                                               \r",
      "\r",
      "  1% (17 of 1101) |                       | Elapsed Time: 0:00:05 ETA:  0:08:43"
     ]
    },
    {
     "name": "stdout",
     "output_type": "stream",
     "text": [
      "invalid speed keyframe 15 frame 16 speed 0.874149030077419\n",
      " [[  9.99464996e-01  -1.89128037e-03   3.26518789e-02   3.37837320e-02]\n",
      " [  1.90340307e-03   9.99998131e-01  -3.40192161e-04   4.33215653e-04]\n",
      " [ -3.26511744e-02   4.02159843e-04   9.99466727e-01  -2.13570231e-01]\n",
      " [  0.00000000e+00   0.00000000e+00   0.00000000e+00   1.00000000e+00]]\n",
      "noot True False 147\n"
     ]
    },
    {
     "name": "stderr",
     "output_type": "stream",
     "text": [
      "  2% (23 of 1101) |                       | Elapsed Time: 0:00:11 ETA:  0:14:47"
     ]
    },
    {
     "name": "stdout",
     "output_type": "stream",
     "text": [
      "aap\n",
      "connected mappoints  45\n"
     ]
    },
    {
     "name": "stderr",
     "output_type": "stream",
     "text": [
      "\r",
      "                                                                               \r",
      "\r",
      "  2% (24 of 1101) |                       | Elapsed Time: 0:00:13 ETA:  0:17:36"
     ]
    },
    {
     "name": "stdout",
     "output_type": "stream",
     "text": [
      "invalid rotation 0.210069833789 \n",
      " [[  9.98893116e-01  -2.66478408e-04   4.70369229e-02   3.20117588e-02]\n",
      " [  3.65957249e-04   9.99997715e-01  -2.10631078e-03   3.48890710e-03]\n",
      " [ -4.70362541e-02   2.12119284e-03   9.98890931e-01  -2.51530071e-01]\n",
      " [  0.00000000e+00   0.00000000e+00   0.00000000e+00   1.00000000e+00]]\n",
      "invalid speed keyframe 22 frame 23 speed 1.2841907399868773\n",
      " [[  9.98893116e-01  -2.66478408e-04   4.70369229e-02   3.20117588e-02]\n",
      " [  3.65957249e-04   9.99997715e-01  -2.10631078e-03   3.48890710e-03]\n",
      " [ -4.70362541e-02   2.12119284e-03   9.98890931e-01  -2.51530071e-01]\n",
      " [  0.00000000e+00   0.00000000e+00   0.00000000e+00   1.00000000e+00]]\n",
      "noot True True 114\n"
     ]
    },
    {
     "name": "stderr",
     "output_type": "stream",
     "text": [
      "  2% (26 of 1101) |                       | Elapsed Time: 0:00:15 ETA:  0:19:37"
     ]
    },
    {
     "name": "stdout",
     "output_type": "stream",
     "text": [
      "aap\n",
      "connected mappoints  38\n"
     ]
    },
    {
     "name": "stderr",
     "output_type": "stream",
     "text": [
      "\r",
      "                                                                               \r",
      "\r",
      "  2% (27 of 1101) |                       | Elapsed Time: 0:00:17 ETA:  0:20:24"
     ]
    },
    {
     "name": "stdout",
     "output_type": "stream",
     "text": [
      "invalid speed keyframe 25 frame 26 speed 0.5151999295977194\n",
      " [[  9.98474890e-01   2.96980624e-04   5.52069356e-02   3.60502847e-02]\n",
      " [ -3.37905217e-04   9.99999675e-01   7.31961421e-04   4.32244507e-03]\n",
      " [ -5.52067003e-02  -7.49499811e-04   9.98474666e-01  -2.74578435e-01]\n",
      " [  0.00000000e+00   0.00000000e+00   0.00000000e+00   1.00000000e+00]]\n",
      "noot True False 93\n"
     ]
    },
    {
     "name": "stderr",
     "output_type": "stream",
     "text": [
      "\r",
      "                                                                               \r",
      "\r",
      "  2% (28 of 1101) |                       | Elapsed Time: 0:00:18 ETA:  0:20:39"
     ]
    },
    {
     "name": "stdout",
     "output_type": "stream",
     "text": [
      "aap\n",
      "connected mappoints  47\n"
     ]
    },
    {
     "name": "stderr",
     "output_type": "stream",
     "text": [
      "\r",
      "                                                                               \r",
      "\r",
      "  2% (29 of 1101) |                       | Elapsed Time: 0:00:19 ETA:  0:22:25"
     ]
    },
    {
     "name": "stdout",
     "output_type": "stream",
     "text": [
      "invalid speed keyframe 27 frame 28 speed 0.27314712767045496\n",
      " [[  9.98292283e-01   4.74388915e-03   5.82238126e-02   3.11796320e-02]\n",
      " [ -4.76217133e-03   9.99988645e-01   1.75247977e-04   3.68435737e-03]\n",
      " [ -5.82223201e-02  -4.52220475e-04   9.98303539e-01  -2.96570602e-01]\n",
      " [  0.00000000e+00   0.00000000e+00   0.00000000e+00   1.00000000e+00]]\n",
      "noot True False 65\n"
     ]
    },
    {
     "name": "stderr",
     "output_type": "stream",
     "text": [
      "\r",
      "                                                                               \r",
      "\r",
      "  2% (30 of 1101) |                       | Elapsed Time: 0:00:20 ETA:  0:21:59"
     ]
    },
    {
     "name": "stdout",
     "output_type": "stream",
     "text": [
      "aap\n",
      "connected mappoints  35\n"
     ]
    },
    {
     "name": "stderr",
     "output_type": "stream",
     "text": [
      "\r",
      "                                                                               \r",
      "\r",
      "  2% (31 of 1101) |                       | Elapsed Time: 0:00:22 ETA:  0:24:12"
     ]
    },
    {
     "name": "stdout",
     "output_type": "stream",
     "text": [
      "invalid speed keyframe 29 frame 30 speed 0.2929921288778874\n",
      " [[ 0.99824575  0.00144233  0.05918908  0.03807042]\n",
      " [-0.00133599  0.99999742 -0.00183624 -0.00110789]\n",
      " [-0.05919158  0.00175394  0.9982451  -0.32721414]\n",
      " [ 0.          0.          0.          1.        ]]\n",
      "noot True False 95\n"
     ]
    },
    {
     "name": "stderr",
     "output_type": "stream",
     "text": [
      "\r",
      "                                                                               \r",
      "\r",
      "  2% (32 of 1101) |                       | Elapsed Time: 0:00:23 ETA:  0:23:05"
     ]
    },
    {
     "name": "stdout",
     "output_type": "stream",
     "text": [
      "aap\n",
      "connected mappoints  51\n"
     ]
    },
    {
     "name": "stderr",
     "output_type": "stream",
     "text": [
      "\r",
      "                                                                               \r",
      "\r",
      "  2% (33 of 1101) |                       | Elapsed Time: 0:00:24 ETA:  0:23:13"
     ]
    },
    {
     "name": "stdout",
     "output_type": "stream",
     "text": [
      "invalid speed keyframe 31 frame 32 speed 0.3209621584473045\n",
      " [[  9.98192618e-01  -7.21021033e-04   6.00914054e-02   4.12625679e-02]\n",
      " [  7.90134788e-04   9.99999053e-01  -1.12639007e-03  -4.39487816e-03]\n",
      " [ -6.00905363e-02   1.17183457e-03   9.98192243e-01  -3.51135176e-01]\n",
      " [  0.00000000e+00   0.00000000e+00   0.00000000e+00   1.00000000e+00]]\n",
      "noot True False 97\n"
     ]
    },
    {
     "name": "stderr",
     "output_type": "stream",
     "text": [
      "  3% (36 of 1101) |                       | Elapsed Time: 0:00:25 ETA:  0:18:12"
     ]
    },
    {
     "name": "stdout",
     "output_type": "stream",
     "text": [
      "invalid speed keyframe 31 frame 36 speed 1.2507038912737811\n",
      " [[ 0.96021709 -0.04404884  0.27575867  0.30466294]\n",
      " [ 0.04181758  0.99902761  0.01396895 -0.40438659]\n",
      " [-0.27610584 -0.00188166  0.96112539 -0.02432249]\n",
      " [ 0.          0.          0.          1.        ]]\n",
      "aap\n",
      "connected mappoints  29\n"
     ]
    },
    {
     "name": "stderr",
     "output_type": "stream",
     "text": [
      "\r",
      "                                                                               \r",
      "\r",
      "  3% (37 of 1101) |                       | Elapsed Time: 0:00:25 ETA:  0:15:43"
     ]
    },
    {
     "name": "stdout",
     "output_type": "stream",
     "text": [
      "invalid speed keyframe 35 frame 36 speed 0.9167405675033534\n",
      " [[ 0.99848536  0.0025756   0.05495766  0.03743895]\n",
      " [-0.00243068  0.99999339 -0.00270354  0.00960312]\n",
      " [-0.05496426  0.00256586  0.99848503 -0.35828581]\n",
      " [ 0.          0.          0.          1.        ]]\n",
      "noot True False 75\n",
      "aap\n",
      "connected mappoints  74\n"
     ]
    },
    {
     "name": "stderr",
     "output_type": "stream",
     "text": [
      "\r",
      "                                                                               \r",
      "\r",
      "  3% (38 of 1101) |                       | Elapsed Time: 0:00:26 ETA:  0:14:39"
     ]
    },
    {
     "name": "stdout",
     "output_type": "stream",
     "text": [
      "noot False False 61\n",
      "aap\n",
      "connected mappoints  61\n"
     ]
    },
    {
     "name": "stderr",
     "output_type": "stream",
     "text": [
      "  3% (40 of 1101) |                       | Elapsed Time: 0:00:26 ETA:  0:11:17"
     ]
    },
    {
     "name": "stdout",
     "output_type": "stream",
     "text": [
      "noot False False 59\n",
      "aap\n",
      "connected mappoints  46\n"
     ]
    },
    {
     "name": "stderr",
     "output_type": "stream",
     "text": [
      "\r",
      "                                                                               \r",
      "\r",
      "  3% (41 of 1101) |                       | Elapsed Time: 0:00:27 ETA:  0:08:21"
     ]
    },
    {
     "name": "stdout",
     "output_type": "stream",
     "text": [
      "invalid speed keyframe 39 frame 40 speed 0.38585606719820226\n",
      " [[  9.99302189e-01  -2.42075974e-03   3.72729847e-02   3.86204906e-02]\n",
      " [  2.35252054e-03   9.99995476e-01   1.87454432e-03  -5.94711569e-04]\n",
      " [ -3.72773539e-02  -1.78555077e-03   9.99303363e-01  -4.50911478e-01]\n",
      " [  0.00000000e+00   0.00000000e+00   0.00000000e+00   1.00000000e+00]]\n",
      "noot True False 92\n"
     ]
    },
    {
     "name": "stderr",
     "output_type": "stream",
     "text": [
      "  3% (44 of 1101) |                       | Elapsed Time: 0:00:28 ETA:  0:06:01"
     ]
    },
    {
     "name": "stdout",
     "output_type": "stream",
     "text": [
      "aap\n",
      "connected mappoints  34\n"
     ]
    },
    {
     "name": "stderr",
     "output_type": "stream",
     "text": [
      "\r",
      "                                                                               \r",
      "\r",
      "  4% (45 of 1101) |                       | Elapsed Time: 0:00:28 ETA:  0:05:56"
     ]
    },
    {
     "name": "stdout",
     "output_type": "stream",
     "text": [
      "invalid speed keyframe 43 frame 44 speed 1.1830101170960745\n",
      " [[ 0.99979089 -0.00107863  0.02042065  0.02547538]\n",
      " [ 0.00103484  0.99999714  0.0021545   0.00356492]\n",
      " [-0.02042292 -0.00213292  0.99978916 -0.51381844]\n",
      " [ 0.          0.          0.          1.        ]]\n",
      "noot True False 78\n"
     ]
    },
    {
     "name": "stderr",
     "output_type": "stream",
     "text": [
      "  4% (48 of 1101) |#                      | Elapsed Time: 0:00:29 ETA:  0:05:07"
     ]
    },
    {
     "name": "stdout",
     "output_type": "stream",
     "text": [
      "invalid speed keyframe 43 frame 48 speed 1.8280926545756195\n",
      " [[ 0.9969687  -0.00704723  0.07748385 -1.36474525]\n",
      " [ 0.00688999  0.99997363  0.00229648 -0.3858219 ]\n",
      " [-0.07749799 -0.00175566  0.99699096 -0.26626806]\n",
      " [ 0.          0.          0.          1.        ]]\n",
      "aap\n",
      "connected mappoints  44\n"
     ]
    },
    {
     "name": "stderr",
     "output_type": "stream",
     "text": [
      "\r",
      "                                                                               \r",
      "\r",
      "  4% (49 of 1101) |#                      | Elapsed Time: 0:00:29 ETA:  0:05:01"
     ]
    },
    {
     "name": "stdout",
     "output_type": "stream",
     "text": [
      "invalid speed keyframe 47 frame 48 speed 1.4917550029679623\n",
      " [[ 0.99997705 -0.00176614  0.00654095  0.02187292]\n",
      " [ 0.00177554  0.9999974  -0.00143052  0.00887789]\n",
      " [-0.00653841  0.0014421   0.99997758 -0.60260571]\n",
      " [ 0.          0.          0.          1.        ]]\n",
      "noot True False 87\n"
     ]
    },
    {
     "name": "stderr",
     "output_type": "stream",
     "text": [
      "  4% (52 of 1101) |#                      | Elapsed Time: 0:00:30 ETA:  0:05:04"
     ]
    },
    {
     "name": "stdout",
     "output_type": "stream",
     "text": [
      "aap\n",
      "connected mappoints  41\n"
     ]
    },
    {
     "name": "stderr",
     "output_type": "stream",
     "text": [
      "\r",
      "                                                                               \r",
      "\r",
      "  4% (53 of 1101) |#                      | Elapsed Time: 0:00:31 ETA:  0:06:42"
     ]
    },
    {
     "name": "stdout",
     "output_type": "stream",
     "text": [
      "invalid speed keyframe 51 frame 52 speed 1.7882614524561817\n",
      " [[  9.99998897e-01  -4.20251965e-04  -1.42424196e-03   9.21150595e-03]\n",
      " [  4.16803708e-04   9.99996984e-01  -2.42055020e-03   1.09828667e-02]\n",
      " [  1.42525491e-03   2.41995391e-03   9.99996056e-01  -6.50323256e-01]\n",
      " [  0.00000000e+00   0.00000000e+00   0.00000000e+00   1.00000000e+00]]\n",
      "noot True False 94\n"
     ]
    },
    {
     "name": "stderr",
     "output_type": "stream",
     "text": [
      "  5% (56 of 1101) |#                      | Elapsed Time: 0:00:33 ETA:  0:07:30"
     ]
    },
    {
     "name": "stdout",
     "output_type": "stream",
     "text": [
      "invalid speed keyframe 51 frame 56 speed 2.168052745201292\n",
      " [[ 0.9998242  -0.01645277 -0.00899307  0.05479742]\n",
      " [ 0.01641349  0.9998555  -0.00442451  0.09050497]\n",
      " [ 0.00906457  0.00427612  0.99994977 -0.54452787]\n",
      " [ 0.          0.          0.          1.        ]]\n",
      "aap\n",
      "connected mappoints  38\n"
     ]
    },
    {
     "name": "stderr",
     "output_type": "stream",
     "text": [
      "\r",
      "                                                                               \r",
      "\r",
      "  5% (57 of 1101) |#                      | Elapsed Time: 0:00:34 ETA:  0:09:24"
     ]
    },
    {
     "name": "stdout",
     "output_type": "stream",
     "text": [
      "invalid speed keyframe 55 frame 56 speed 1.9941060323749862\n",
      " [[  9.99998500e-01   9.94681794e-04  -1.41810990e-03  -6.76905373e-04]\n",
      " [ -9.98426980e-04   9.99996010e-01  -2.64271286e-03   4.57919430e-03]\n",
      " [  1.41547559e-03   2.64412478e-03   9.99995503e-01  -7.18474584e-01]\n",
      " [  0.00000000e+00   0.00000000e+00   0.00000000e+00   1.00000000e+00]]\n",
      "noot True False 77\n"
     ]
    },
    {
     "name": "stderr",
     "output_type": "stream",
     "text": [
      "  5% (59 of 1101) |#                      | Elapsed Time: 0:00:35 ETA:  0:09:49"
     ]
    },
    {
     "name": "stdout",
     "output_type": "stream",
     "text": [
      "aap\n",
      "connected mappoints  30\n"
     ]
    },
    {
     "name": "stderr",
     "output_type": "stream",
     "text": [
      "\r",
      "                                                                               \r",
      "\r",
      "  5% (60 of 1101) |#                      | Elapsed Time: 0:00:36 ETA:  0:11:36"
     ]
    },
    {
     "name": "stdout",
     "output_type": "stream",
     "text": [
      "invalid speed keyframe 58 frame 59 speed 1.544924510449569\n",
      " [[  9.99996666e-01  -1.92576900e-03  -1.72050346e-03   9.45957016e-03]\n",
      " [  1.92633976e-03   9.99998090e-01   3.30148685e-04   1.68128678e-02]\n",
      " [  1.71986438e-03  -3.33461859e-04   9.99998465e-01  -7.48388807e-01]\n",
      " [  0.00000000e+00   0.00000000e+00   0.00000000e+00   1.00000000e+00]]\n",
      "noot True False 82\n"
     ]
    },
    {
     "name": "stderr",
     "output_type": "stream",
     "text": [
      "  5% (62 of 1101) |#                      | Elapsed Time: 0:00:37 ETA:  0:11:54"
     ]
    },
    {
     "name": "stdout",
     "output_type": "stream",
     "text": [
      "invalid speed keyframe 58 frame 62 speed 1.5059476288795457\n",
      " [[  9.99868595e-01  -1.28836281e-02  -9.83890303e-03   2.52944677e-01]\n",
      " [  1.28925794e-02   9.99916529e-01   8.46907393e-04   8.24723850e-02]\n",
      " [  9.82717052e-03  -9.73644944e-04   9.99951238e-01  -8.02636646e-01]\n",
      " [  0.00000000e+00   0.00000000e+00   0.00000000e+00   1.00000000e+00]]\n",
      "aap\n",
      "connected mappoints  30\n"
     ]
    },
    {
     "name": "stderr",
     "output_type": "stream",
     "text": [
      "\r",
      "                                                                               \r",
      "\r",
      "  5% (63 of 1101) |#                      | Elapsed Time: 0:00:38 ETA:  0:12:05"
     ]
    },
    {
     "name": "stdout",
     "output_type": "stream",
     "text": [
      "invalid speed keyframe 61 frame 62 speed 1.5023281347546114\n",
      " [[ 0.9999962   0.00236139 -0.00142022  0.00839691]\n",
      " [-0.00236439  0.99999497 -0.00211327  0.01165985]\n",
      " [ 0.00141522  0.00211662  0.99999676 -0.80625614]\n",
      " [ 0.          0.          0.          1.        ]]\n",
      "noot True False 90\n"
     ]
    },
    {
     "name": "stderr",
     "output_type": "stream",
     "text": [
      "  5% (66 of 1101) |#                      | Elapsed Time: 0:00:40 ETA:  0:12:02"
     ]
    },
    {
     "name": "stdout",
     "output_type": "stream",
     "text": [
      "invalid speed keyframe 61 frame 66 speed 1.138533463905258\n",
      " [[  9.99963554e-01  -4.09809938e-04  -8.52780741e-03   3.57847941e-01]\n",
      " [  4.51244524e-04   9.99988101e-01   4.85740519e-03   7.91339936e-02]\n",
      " [  8.52571532e-03  -4.86107628e-03   9.99951840e-01  -2.07726054e+00]\n",
      " [  0.00000000e+00   0.00000000e+00   0.00000000e+00   1.00000000e+00]]\n",
      "aap\n",
      "connected mappoints  47\n"
     ]
    },
    {
     "name": "stderr",
     "output_type": "stream",
     "text": [
      "\r",
      "                                                                               \r",
      "\r",
      "  6% (67 of 1101) |#                      | Elapsed Time: 0:00:41 ETA:  0:11:55"
     ]
    },
    {
     "name": "stdout",
     "output_type": "stream",
     "text": [
      "invalid speed keyframe 65 frame 66 speed 2.3932621375215613\n",
      " [[  9.99998353e-01   1.81465630e-03  -2.26412335e-05   4.19837490e-03]\n",
      " [ -1.81445068e-03   9.99973322e-01   7.07552164e-03   4.85235454e-03]\n",
      " [  3.54802695e-05  -7.07546891e-03   9.99974968e-01  -8.22531871e-01]\n",
      " [  0.00000000e+00   0.00000000e+00   0.00000000e+00   1.00000000e+00]]\n",
      "noot True False 114\n"
     ]
    },
    {
     "name": "stderr",
     "output_type": "stream",
     "text": [
      "  6% (69 of 1101) |#                      | Elapsed Time: 0:00:42 ETA:  0:12:00"
     ]
    },
    {
     "name": "stdout",
     "output_type": "stream",
     "text": [
      "aap\n",
      "connected mappoints  40\n"
     ]
    },
    {
     "name": "stderr",
     "output_type": "stream",
     "text": [
      "\r",
      "                                                                               \r",
      "\r",
      "  6% (70 of 1101) |#                      | Elapsed Time: 0:00:43 ETA:  0:12:16"
     ]
    },
    {
     "name": "stdout",
     "output_type": "stream",
     "text": [
      "invalid speed keyframe 68 frame 69 speed 1.6335653259529244\n",
      " [[  9.99999628e-01  -8.45116550e-04  -1.70227292e-04   1.90703906e-02]\n",
      " [  8.43850017e-04   9.99972942e-01  -7.30775257e-03   2.03813583e-02]\n",
      " [  1.76398589e-04   7.30760621e-03   9.99973284e-01  -8.58502330e-01]\n",
      " [  0.00000000e+00   0.00000000e+00   0.00000000e+00   1.00000000e+00]]\n",
      "noot True False 115\n"
     ]
    },
    {
     "name": "stderr",
     "output_type": "stream",
     "text": [
      "  6% (73 of 1101) |#                      | Elapsed Time: 0:00:45 ETA:  0:11:19"
     ]
    },
    {
     "name": "stdout",
     "output_type": "stream",
     "text": [
      "invalid speed keyframe 68 frame 73 speed 0.25472607300167294\n",
      " [[ 0.99990244  0.0134506  -0.00376713  0.62887372]\n",
      " [-0.01352873  0.99967631 -0.02154629  0.41259702]\n",
      " [ 0.0034761   0.02159515  0.99976075 -3.14325003]\n",
      " [ 0.          0.          0.          1.        ]]\n",
      "aap\n",
      "connected mappoints  38\n"
     ]
    },
    {
     "name": "stderr",
     "output_type": "stream",
     "text": [
      "\r",
      "                                                                               \r",
      "\r",
      "  6% (74 of 1101) |#                      | Elapsed Time: 0:00:47 ETA:  0:13:17"
     ]
    },
    {
     "name": "stdout",
     "output_type": "stream",
     "text": [
      "invalid speed keyframe 72 frame 73 speed 2.5525061252827\n",
      " [[  9.99999920e-01   4.77947273e-05   3.96485590e-04   1.34787672e-02]\n",
      " [ -4.91290469e-05   9.99994334e-01   3.36604037e-03   2.00859762e-02]\n",
      " [ -3.96322464e-04  -3.36605958e-03   9.99994256e-01  -8.45469974e-01]\n",
      " [  0.00000000e+00   0.00000000e+00   0.00000000e+00   1.00000000e+00]]\n",
      "noot True False 101\n"
     ]
    },
    {
     "name": "stderr",
     "output_type": "stream",
     "text": [
      "  6% (77 of 1101) |#                      | Elapsed Time: 0:00:49 ETA:  0:12:54"
     ]
    },
    {
     "name": "stdout",
     "output_type": "stream",
     "text": [
      "invalid speed keyframe 72 frame 77 speed 2.2093584072276666\n",
      " [[ 0.99966431 -0.02557935 -0.00411906 -0.02135386]\n",
      " [ 0.0255684   0.99966945 -0.0026906   0.21525009]\n",
      " [ 0.00418652  0.00258438  0.9999879  -1.23199538]\n",
      " [ 0.          0.          0.          1.        ]]\n",
      "aap\n",
      "connected mappoints  41\n"
     ]
    },
    {
     "name": "stderr",
     "output_type": "stream",
     "text": [
      "\r",
      "                                                                               \r",
      "\r",
      "  7% (78 of 1101) |#                      | Elapsed Time: 0:00:50 ETA:  0:14:51"
     ]
    },
    {
     "name": "stdout",
     "output_type": "stream",
     "text": [
      "invalid speed keyframe 76 frame 77 speed 2.5839477253752015\n",
      " [[  9.99999883e-01  -4.83733391e-04   2.16593144e-05   1.47611438e-02]\n",
      " [  4.83696859e-04   9.99998512e-01   1.65604715e-03   1.97388823e-02]\n",
      " [ -2.24603674e-05  -1.65603648e-03   9.99998629e-01  -8.57406062e-01]\n",
      " [  0.00000000e+00   0.00000000e+00   0.00000000e+00   1.00000000e+00]]\n",
      "noot True False 104\n"
     ]
    },
    {
     "name": "stderr",
     "output_type": "stream",
     "text": [
      "  7% (84 of 1101) |#                      | Elapsed Time: 0:00:53 ETA:  0:11:35"
     ]
    },
    {
     "name": "stdout",
     "output_type": "stream",
     "text": [
      "invalid speed keyframe 76 frame 84 speed 0.8598060727198691\n",
      " [[  9.99988286e-01   3.31066368e-03  -3.53080385e-03   2.42773681e-01]\n",
      " [ -3.33518638e-03   9.99970201e-01  -6.96223347e-03   2.73858657e-01]\n",
      " [  3.50764902e-03   6.97392781e-03   9.99969530e-01  -5.04410823e+00]\n",
      " [  0.00000000e+00   0.00000000e+00   0.00000000e+00   1.00000000e+00]]\n",
      "aap\n",
      "connected mappoints  22\n"
     ]
    },
    {
     "name": "stderr",
     "output_type": "stream",
     "text": [
      "\r",
      "                                                                               \r",
      "\r",
      "  7% (85 of 1101) |#                      | Elapsed Time: 0:00:55 ETA:  0:13:25"
     ]
    },
    {
     "name": "stdout",
     "output_type": "stream",
     "text": [
      "invalid speed keyframe 83 frame 84 speed 5.04798437556762\n",
      " [[  9.99999937e-01   8.46469319e-05   3.44515497e-04   1.00349086e-02]\n",
      " [ -8.35569443e-05   9.99994995e-01  -3.16261328e-03   2.27057100e-02]\n",
      " [ -3.44781478e-04   3.16258430e-03   9.99994940e-01  -8.55929923e-01]\n",
      " [  0.00000000e+00   0.00000000e+00   0.00000000e+00   1.00000000e+00]]\n",
      "noot True False 109\n"
     ]
    },
    {
     "name": "stderr",
     "output_type": "stream",
     "text": [
      "  7% (88 of 1101) |#                      | Elapsed Time: 0:00:57 ETA:  0:11:44"
     ]
    },
    {
     "name": "stdout",
     "output_type": "stream",
     "text": [
      "aap\n",
      "connected mappoints  39\n"
     ]
    },
    {
     "name": "stderr",
     "output_type": "stream",
     "text": [
      "\r",
      "                                                                               \r",
      "\r",
      "  8% (89 of 1101) |#                      | Elapsed Time: 0:00:59 ETA:  0:13:41"
     ]
    },
    {
     "name": "stdout",
     "output_type": "stream",
     "text": [
      "invalid speed keyframe 87 frame 88 speed 2.5663658897605313\n",
      " [[  9.99992338e-01  -3.90766499e-03  -2.31143973e-04   2.03959160e-02]\n",
      " [  3.90822557e-03   9.99989296e-01   2.47665684e-03   1.28607767e-02]\n",
      " [  2.21463553e-04  -2.47754122e-03   9.99996906e-01  -8.50574619e-01]\n",
      " [  0.00000000e+00   0.00000000e+00   0.00000000e+00   1.00000000e+00]]\n",
      "noot True False 106\n"
     ]
    },
    {
     "name": "stderr",
     "output_type": "stream",
     "text": [
      "  8% (92 of 1101) |#                      | Elapsed Time: 0:01:01 ETA:  0:13:51"
     ]
    },
    {
     "name": "stdout",
     "output_type": "stream",
     "text": [
      "aap\n",
      "connected mappoints  38\n"
     ]
    },
    {
     "name": "stderr",
     "output_type": "stream",
     "text": [
      "\r",
      "                                                                               \r",
      "\r",
      "  8% (93 of 1101) |#                      | Elapsed Time: 0:01:02 ETA:  0:15:59"
     ]
    },
    {
     "name": "stdout",
     "output_type": "stream",
     "text": [
      "invalid speed keyframe 91 frame 92 speed 2.504163170873338\n",
      " [[  9.99989926e-01   4.40398996e-03   8.67898775e-04   7.74325456e-03]\n",
      " [ -4.40564625e-03   9.99988460e-01   1.91580914e-03   9.07624037e-03]\n",
      " [ -8.59451555e-04  -1.91961350e-03   9.99997788e-01  -8.41609209e-01]\n",
      " [  0.00000000e+00   0.00000000e+00   0.00000000e+00   1.00000000e+00]]\n",
      "noot True False 125\n"
     ]
    },
    {
     "name": "stderr",
     "output_type": "stream",
     "text": [
      "  8% (96 of 1101) |##                     | Elapsed Time: 0:01:04 ETA:  0:14:19"
     ]
    },
    {
     "name": "stdout",
     "output_type": "stream",
     "text": [
      "aap\n",
      "connected mappoints  52\n"
     ]
    },
    {
     "name": "stderr",
     "output_type": "stream",
     "text": [
      "\r",
      "                                                                               \r",
      "\r",
      "  8% (97 of 1101) |##                     | Elapsed Time: 0:01:06 ETA:  0:16:17"
     ]
    },
    {
     "name": "stdout",
     "output_type": "stream",
     "text": [
      "invalid speed keyframe 95 frame 96 speed 2.486213070132707\n",
      " [[  9.99998792e-01  -1.49104324e-04   1.54686824e-03   1.04716743e-02]\n",
      " [  1.47684951e-04   9.99999568e-01   9.17652626e-04   1.74546367e-02]\n",
      " [ -1.54700440e-03  -9.17423069e-04   9.99998383e-01  -8.28965972e-01]\n",
      " [  0.00000000e+00   0.00000000e+00   0.00000000e+00   1.00000000e+00]]\n",
      "noot True False 122\n"
     ]
    },
    {
     "name": "stderr",
     "output_type": "stream",
     "text": [
      "  8% (99 of 1101) |##                     | Elapsed Time: 0:01:07 ETA:  0:14:30"
     ]
    },
    {
     "name": "stdout",
     "output_type": "stream",
     "text": [
      "aap\n",
      "connected mappoints  47\n"
     ]
    },
    {
     "name": "stderr",
     "output_type": "stream",
     "text": [
      "\r",
      "                                                                               \r",
      "\r",
      "  9% (100 of 1101) |#                     | Elapsed Time: 0:01:09 ETA:  0:16:16"
     ]
    },
    {
     "name": "stdout",
     "output_type": "stream",
     "text": [
      "invalid speed keyframe 98 frame 99 speed 1.6117474782326877\n",
      " [[ 0.99999036 -0.00420929  0.00124978  0.01790395]\n",
      " [ 0.0042078   0.99999044  0.00119201  0.01481596]\n",
      " [-0.00125478 -0.00118674  0.99999851 -0.81252978]\n",
      " [ 0.          0.          0.          1.        ]]\n",
      "noot True False 116\n"
     ]
    },
    {
     "name": "stderr",
     "output_type": "stream",
     "text": [
      "  9% (102 of 1101) |##                    | Elapsed Time: 0:01:10 ETA:  0:16:16"
     ]
    },
    {
     "name": "stdout",
     "output_type": "stream",
     "text": [
      "invalid speed keyframe 98 frame 102 speed 0.019905784467014076\n",
      " [[  9.99999517e-01  -9.74833800e-04   1.21904235e-04   3.15679957e-01]\n",
      " [  9.74751180e-04   9.99999296e-01   6.75977338e-04  -1.38350309e-01]\n",
      " [ -1.22563115e-04  -6.75858186e-04   9.99999764e-01  -2.38436774e+00]\n",
      " [  0.00000000e+00   0.00000000e+00   0.00000000e+00   1.00000000e+00]]\n",
      "aap\n",
      "connected mappoints  40\n"
     ]
    },
    {
     "name": "stderr",
     "output_type": "stream",
     "text": [
      "\r",
      "                                                                               \r",
      "\r",
      "  9% (103 of 1101) |##                    | Elapsed Time: 0:01:12 ETA:  0:16:35"
     ]
    },
    {
     "name": "stdout",
     "output_type": "stream",
     "text": [
      "invalid speed keyframe 101 frame 102 speed 1.606014432975134\n",
      " [[  9.99997216e-01  -2.18739484e-03   8.85215697e-04   1.45818482e-02]\n",
      " [  2.18723397e-03   9.99997591e-01   1.82658462e-04   1.84886437e-02]\n",
      " [ -8.85613111e-04  -1.80721780e-04   9.99999592e-01  -7.98259096e-01]\n",
      " [  0.00000000e+00   0.00000000e+00   0.00000000e+00   1.00000000e+00]]\n",
      "noot True False 110\n"
     ]
    },
    {
     "name": "stderr",
     "output_type": "stream",
     "text": [
      "\r",
      "                                                                               \r",
      "\r",
      "  9% (104 of 1101) |##                    | Elapsed Time: 0:01:13 ETA:  0:16:30"
     ]
    },
    {
     "name": "stdout",
     "output_type": "stream",
     "text": [
      "aap\n",
      "connected mappoints  46\n"
     ]
    },
    {
     "name": "stderr",
     "output_type": "stream",
     "text": [
      "\r",
      "                                                                               \r",
      "\r",
      "  9% (105 of 1101) |##                    | Elapsed Time: 0:01:15 ETA:  0:18:14"
     ]
    },
    {
     "name": "stdout",
     "output_type": "stream",
     "text": [
      "invalid speed keyframe 103 frame 104 speed 0.7983791930141758\n",
      " [[  9.99998255e-01   1.64670053e-03   8.81900659e-04   8.13819898e-03]\n",
      " [ -1.64528433e-03   9.99997360e-01  -1.60417433e-03   1.50121115e-02]\n",
      " [ -8.84539925e-04   1.60272056e-03   9.99998324e-01  -7.98524965e-01]\n",
      " [  0.00000000e+00   0.00000000e+00   0.00000000e+00   1.00000000e+00]]\n",
      "noot True False 81\n"
     ]
    },
    {
     "name": "stderr",
     "output_type": "stream",
     "text": [
      "  9% (107 of 1101) |##                    | Elapsed Time: 0:01:16 ETA:  0:16:05"
     ]
    },
    {
     "name": "stdout",
     "output_type": "stream",
     "text": [
      "aap\n",
      "connected mappoints  34\n"
     ]
    },
    {
     "name": "stderr",
     "output_type": "stream",
     "text": [
      "\r",
      "                                                                               \r",
      "\r",
      "  9% (108 of 1101) |##                    | Elapsed Time: 0:01:18 ETA:  0:18:00"
     ]
    },
    {
     "name": "stdout",
     "output_type": "stream",
     "text": [
      "invalid speed keyframe 106 frame 107 speed 1.632072044724342\n",
      " [[  9.99999793e-01   3.87181863e-04   5.13362444e-04   1.42407666e-02]\n",
      " [ -3.86159058e-04   9.99997943e-01  -1.99096985e-03   1.48630932e-02]\n",
      " [ -5.14132256e-04   1.99077120e-03   9.99997886e-01  -7.69939358e-01]\n",
      " [  0.00000000e+00   0.00000000e+00   0.00000000e+00   1.00000000e+00]]\n",
      "noot True False 83\n"
     ]
    },
    {
     "name": "stderr",
     "output_type": "stream",
     "text": [
      " 10% (111 of 1101) |##                    | Elapsed Time: 0:01:20 ETA:  0:16:14"
     ]
    },
    {
     "name": "stdout",
     "output_type": "stream",
     "text": [
      "invalid speed keyframe 106 frame 111 speed 3.291310670156176\n",
      " [[ 0.99998363  0.00222958 -0.00526898  0.3109782 ]\n",
      " [-0.00223939  0.99999577 -0.00185533  0.00389835]\n",
      " [ 0.00526482  0.0018671   0.9999844   0.19347587]\n",
      " [ 0.          0.          0.          1.        ]]\n",
      "aap\n",
      "connected mappoints  37\n"
     ]
    },
    {
     "name": "stderr",
     "output_type": "stream",
     "text": [
      "\r",
      "                                                                               \r",
      "\r",
      " 10% (112 of 1101) |##                    | Elapsed Time: 0:01:21 ETA:  0:17:39"
     ]
    },
    {
     "name": "stdout",
     "output_type": "stream",
     "text": [
      "invalid speed keyframe 110 frame 111 speed 2.353796764135869\n",
      " [[  9.99999914e-01  -2.82135146e-04  -3.02385516e-04   1.30857514e-02]\n",
      " [  2.83011293e-04   9.99995751e-01   2.90133297e-03   1.35356071e-02]\n",
      " [  3.01565664e-04  -2.90141830e-03   9.99995745e-01  -7.44038034e-01]\n",
      " [  0.00000000e+00   0.00000000e+00   0.00000000e+00   1.00000000e+00]]\n",
      "noot True False 118\n"
     ]
    },
    {
     "name": "stderr",
     "output_type": "stream",
     "text": [
      " 10% (115 of 1101) |##                    | Elapsed Time: 0:01:23 ETA:  0:12:49"
     ]
    },
    {
     "name": "stdout",
     "output_type": "stream",
     "text": [
      "invalid speed keyframe 110 frame 115 speed 0.3292123543438983\n",
      " [[ 0.99947637  0.01490909 -0.02871758  1.10245573]\n",
      " [-0.01504616  0.99987639 -0.00456267  0.45974827]\n",
      " [ 0.02864601  0.00499237  0.99957715 -2.46507522]\n",
      " [ 0.          0.          0.          1.        ]]\n",
      "aap\n",
      "connected mappoints  32\n"
     ]
    },
    {
     "name": "stderr",
     "output_type": "stream",
     "text": [
      "\r",
      "                                                                               \r",
      "\r",
      " 10% (116 of 1101) |##                    | Elapsed Time: 0:01:24 ETA:  0:14:17"
     ]
    },
    {
     "name": "stdout",
     "output_type": "stream",
     "text": [
      "invalid speed keyframe 114 frame 115 speed 2.116185037296509\n",
      " [[ 0.99998402  0.00127062 -0.00550778  0.00386754]\n",
      " [-0.00127852  0.99999816 -0.00143016  0.01332655]\n",
      " [ 0.00550595  0.00143718  0.99998381 -0.67810253]\n",
      " [ 0.          0.          0.          1.        ]]\n",
      "noot True False 132\n"
     ]
    },
    {
     "name": "stderr",
     "output_type": "stream",
     "text": [
      " 10% (119 of 1101) |##                    | Elapsed Time: 0:01:25 ETA:  0:11:47"
     ]
    },
    {
     "name": "stdout",
     "output_type": "stream",
     "text": [
      "invalid speed keyframe 114 frame 119 speed 0.92243640613852\n",
      " [[ 0.99811254  0.01195887 -0.06023567  0.78574503]\n",
      " [-0.01296231  0.9997832  -0.01629544  0.3722868 ]\n",
      " [ 0.06002774  0.01704547  0.99805116 -1.71616186]\n",
      " [ 0.          0.          0.          1.        ]]\n",
      "aap\n",
      "connected mappoints  30\n"
     ]
    },
    {
     "name": "stderr",
     "output_type": "stream",
     "text": [
      "\r",
      "                                                                               \r",
      "\r",
      " 10% (120 of 1101) |##                    | Elapsed Time: 0:01:27 ETA:  0:13:02"
     ]
    },
    {
     "name": "stdout",
     "output_type": "stream",
     "text": [
      "invalid speed keyframe 118 frame 119 speed 2.025826759705053\n",
      " [[ 0.9998897  -0.00251047 -0.01463873  0.00358188]\n",
      " [ 0.00248561  0.99999544 -0.00171622  0.01679969]\n",
      " [ 0.01464297  0.00167965  0.99989138 -0.6127715 ]\n",
      " [ 0.          0.          0.          1.        ]]\n",
      "noot True False 81\n"
     ]
    },
    {
     "name": "stderr",
     "output_type": "stream",
     "text": [
      " 11% (123 of 1101) |##                    | Elapsed Time: 0:01:28 ETA:  0:10:43"
     ]
    },
    {
     "name": "stdout",
     "output_type": "stream",
     "text": [
      "invalid speed keyframe 118 frame 123 speed 3.76327640741361\n",
      " [[  9.94443154e-01   1.00502983e-02  -1.04794104e-01  -8.49040120e-01]\n",
      " [ -1.02628285e-02   9.99946227e-01  -1.48903093e-03  -2.80774838e-01]\n",
      " [  1.04773503e-01   2.55624052e-03   9.94492825e-01   1.49338660e+00]\n",
      " [  0.00000000e+00   0.00000000e+00   0.00000000e+00   1.00000000e+00]]\n",
      "aap\n",
      "connected mappoints  28\n"
     ]
    },
    {
     "name": "stderr",
     "output_type": "stream",
     "text": [
      "\r",
      "                                                                               \r",
      "\r",
      " 11% (124 of 1101) |##                    | Elapsed Time: 0:01:29 ETA:  0:11:58"
     ]
    },
    {
     "name": "stdout",
     "output_type": "stream",
     "text": [
      "invalid speed keyframe 122 frame 123 speed 1.7463663878133975\n",
      " [[  9.99589653e-01   2.24888322e-03  -2.85563857e-02  -2.51246897e-02]\n",
      " [ -2.23497271e-03   9.99997368e-01   5.19032668e-04   9.77691942e-03]\n",
      " [  2.85574778e-02  -4.54996942e-04   9.99592049e-01  -5.23523420e-01]\n",
      " [  0.00000000e+00   0.00000000e+00   0.00000000e+00   1.00000000e+00]]\n",
      "noot True False 127\n"
     ]
    },
    {
     "name": "stderr",
     "output_type": "stream",
     "text": [
      " 11% (126 of 1101) |##                    | Elapsed Time: 0:01:30 ETA:  0:10:11"
     ]
    },
    {
     "name": "stdout",
     "output_type": "stream",
     "text": [
      "invalid speed keyframe 122 frame 126 speed 1.4828890892801385\n",
      " [[  0.00000000e+000   2.37151510e-322   6.05724482e-321   9.52112404e-316]\n",
      " [  9.71834635e-316   2.37151510e-322   4.94065646e-324   8.39911598e-323]\n",
      " [  6.05724482e-321   9.77224457e-316   4.74303020e-322   6.05724482e-321]\n",
      " [  4.94065646e-324   8.39911598e-323   2.37151510e-322   4.94065646e-324]]\n",
      "aap\n",
      "connected mappoints  44\n"
     ]
    },
    {
     "name": "stderr",
     "output_type": "stream",
     "text": [
      "\r",
      "                                                                               \r",
      "\r",
      " 11% (127 of 1101) |##                    | Elapsed Time: 0:01:31 ETA:  0:11:08"
     ]
    },
    {
     "name": "stdout",
     "output_type": "stream",
     "text": [
      "invalid speed keyframe 125 frame 126 speed 1.0006350918696363\n",
      " [[  9.99166566e-01   1.48568729e-03  -4.07917454e-02  -2.12586879e-02]\n",
      " [ -1.47088033e-03   9.99998841e-01   3.92999226e-04   6.56882693e-03]\n",
      " [  4.07922820e-02  -3.32671911e-04   9.99167593e-01  -4.82253997e-01]\n",
      " [  0.00000000e+00   0.00000000e+00   0.00000000e+00   1.00000000e+00]]\n",
      "noot True False 86\n"
     ]
    },
    {
     "name": "stderr",
     "output_type": "stream",
     "text": [
      "\r",
      "                                                                               \r",
      "\r",
      " 11% (128 of 1101) |##                    | Elapsed Time: 0:01:32 ETA:  0:11:08"
     ]
    },
    {
     "name": "stdout",
     "output_type": "stream",
     "text": [
      "aap\n",
      "connected mappoints  42\n"
     ]
    },
    {
     "name": "stderr",
     "output_type": "stream",
     "text": [
      "\r",
      "                                                                               \r",
      "\r",
      " 11% (129 of 1101) |##                    | Elapsed Time: 0:01:33 ETA:  0:12:25"
     ]
    },
    {
     "name": "stdout",
     "output_type": "stream",
     "text": [
      "invalid speed keyframe 127 frame 128 speed 0.4830354921766784\n",
      " [[  9.98770749e-01   4.75397826e-03  -4.93395343e-02  -2.28863873e-02]\n",
      " [ -4.73835331e-03   9.99988680e-01   4.33643410e-04   1.31538375e-02]\n",
      " [  4.93410373e-02  -1.99322208e-04   9.98781969e-01  -4.64873633e-01]\n",
      " [  0.00000000e+00   0.00000000e+00   0.00000000e+00   1.00000000e+00]]\n",
      "noot True False 77\n",
      "aap\n",
      "connected mappoints  68\n"
     ]
    },
    {
     "name": "stderr",
     "output_type": "stream",
     "text": [
      "\r",
      "                                                                               \r",
      "\r",
      " 11% (130 of 1101) |##                    | Elapsed Time: 0:01:34 ETA:  0:12:21"
     ]
    },
    {
     "name": "stdout",
     "output_type": "stream",
     "text": [
      "invalid speed keyframe 128 frame 129 speed 0.00795262542475672\n",
      " [[ 0.99861823  0.00923226 -0.05173395 -0.02824224]\n",
      " [-0.00909599  0.99995452  0.00286888  0.00743988]\n",
      " [ 0.05175809 -0.00239434  0.99865678 -0.45692101]\n",
      " [ 0.          0.          0.          1.        ]]\n",
      "noot True False 75\n"
     ]
    },
    {
     "name": "stderr",
     "output_type": "stream",
     "text": [
      "\r",
      "                                                                               \r",
      "\r",
      " 11% (131 of 1101) |##                    | Elapsed Time: 0:01:35 ETA:  0:12:19"
     ]
    },
    {
     "name": "stdout",
     "output_type": "stream",
     "text": [
      "aap\n",
      "connected mappoints  28\n"
     ]
    },
    {
     "name": "stderr",
     "output_type": "stream",
     "text": [
      "\r",
      "                                                                               \r",
      "\r",
      " 11% (132 of 1101) |##                    | Elapsed Time: 0:01:36 ETA:  0:14:03"
     ]
    },
    {
     "name": "stdout",
     "output_type": "stream",
     "text": [
      "invalid speed keyframe 130 frame 131 speed 0.4221741846758406\n",
      " [[ 0.9983564   0.00670823 -0.05691659 -0.02163402]\n",
      " [-0.00657936  0.99997535  0.0024513   0.00640282]\n",
      " [ 0.05693163 -0.00207279  0.99837593 -0.44230573]\n",
      " [ 0.          0.          0.          1.        ]]\n",
      "noot True False 82\n",
      "aap\n",
      "connected mappoints  69\n"
     ]
    },
    {
     "name": "stderr",
     "output_type": "stream",
     "text": [
      "\r",
      "                                                                               \r",
      "\r",
      " 12% (133 of 1101) |##                    | Elapsed Time: 0:01:38 ETA:  0:15:54"
     ]
    },
    {
     "name": "stdout",
     "output_type": "stream",
     "text": [
      "noot False False 51\n",
      "aap\n",
      "connected mappoints  40\n"
     ]
    },
    {
     "name": "stderr",
     "output_type": "stream",
     "text": [
      "\r",
      "                                                                               \r",
      "\r",
      " 12% (134 of 1101) |##                    | Elapsed Time: 0:01:40 ETA:  0:16:58"
     ]
    },
    {
     "name": "stdout",
     "output_type": "stream",
     "text": [
      "invalid speed keyframe 132 frame 133 speed 0.0016105638981815384\n",
      " [[  9.98449146e-01   2.95677572e-03  -5.55928048e-02  -1.28854867e-02]\n",
      " [ -2.96789686e-03   9.99995589e-01  -1.17486543e-04   6.08098313e-03]\n",
      " [  5.55922122e-02   2.82298049e-04   9.98453517e-01  -4.49663012e-01]\n",
      " [  0.00000000e+00   0.00000000e+00   0.00000000e+00   1.00000000e+00]]\n",
      "noot True False 103\n"
     ]
    },
    {
     "name": "stderr",
     "output_type": "stream",
     "text": [
      "\r",
      "                                                                               \r",
      "\r",
      " 12% (135 of 1101) |##                    | Elapsed Time: 0:01:41 ETA:  0:17:27"
     ]
    },
    {
     "name": "stdout",
     "output_type": "stream",
     "text": [
      "aap\n",
      "connected mappoints  45\n"
     ]
    },
    {
     "name": "stderr",
     "output_type": "stream",
     "text": [
      "\r",
      "                                                                               \r",
      "\r",
      " 12% (136 of 1101) |##                    | Elapsed Time: 0:01:43 ETA:  0:20:26"
     ]
    },
    {
     "name": "stdout",
     "output_type": "stream",
     "text": [
      "invalid speed keyframe 134 frame 135 speed 0.45075296284587896\n",
      " [[  9.98481842e-01   1.20289570e-02  -5.37523600e-02  -3.51216537e-02]\n",
      " [ -1.20665605e-02   9.99927126e-01  -3.75074804e-04   1.49862450e-02]\n",
      " [  5.37439311e-02   1.02311149e-03   9.98554226e-01  -4.49573672e-01]\n",
      " [  0.00000000e+00   0.00000000e+00   0.00000000e+00   1.00000000e+00]]\n",
      "noot True False 111\n"
     ]
    },
    {
     "name": "stderr",
     "output_type": "stream",
     "text": [
      "\r",
      "                                                                               \r",
      "\r",
      " 12% (137 of 1101) |##                    | Elapsed Time: 0:01:44 ETA:  0:19:55"
     ]
    },
    {
     "name": "stdout",
     "output_type": "stream",
     "text": [
      "aap\n",
      "connected mappoints  42\n"
     ]
    },
    {
     "name": "stderr",
     "output_type": "stream",
     "text": [
      "\r",
      "                                                                               \r",
      "\r",
      " 12% (138 of 1101) |##                    | Elapsed Time: 0:01:46 ETA:  0:22:54"
     ]
    },
    {
     "name": "stdout",
     "output_type": "stream",
     "text": [
      "invalid speed keyframe 136 frame 137 speed 0.4523998546485192\n",
      " [[ 0.99845673 -0.00194423 -0.05550116 -0.0118745 ]\n",
      " [ 0.00238714  0.99996583  0.00791501  0.00705475]\n",
      " [ 0.05548388 -0.00803529  0.99842725 -0.44311401]\n",
      " [ 0.          0.          0.          1.        ]]\n",
      "noot True False 81\n"
     ]
    },
    {
     "name": "stderr",
     "output_type": "stream",
     "text": [
      " 12% (140 of 1101) |##                    | Elapsed Time: 0:01:48 ETA:  0:21:09"
     ]
    },
    {
     "name": "stdout",
     "output_type": "stream",
     "text": [
      "aap\n",
      "connected mappoints  31\n"
     ]
    },
    {
     "name": "stderr",
     "output_type": "stream",
     "text": [
      "\r",
      "                                                                               \r",
      "\r",
      " 12% (141 of 1101) |##                    | Elapsed Time: 0:01:49 ETA:  0:23:12"
     ]
    },
    {
     "name": "stdout",
     "output_type": "stream",
     "text": [
      "invalid speed keyframe 139 frame 140 speed 0.7394844098577988\n",
      " [[  9.98257819e-01  -8.19386757e-04  -5.89970748e-02  -2.31195982e-02]\n",
      " [  1.01594190e-03   9.99994033e-01   3.30169044e-03   1.95606493e-03]\n",
      " [  5.89940174e-02  -3.35587589e-03   9.98252695e-01  -4.73379241e-01]\n",
      " [  0.00000000e+00   0.00000000e+00   0.00000000e+00   1.00000000e+00]]\n",
      "noot True False 100\n"
     ]
    },
    {
     "name": "stderr",
     "output_type": "stream",
     "text": [
      " 12% (143 of 1101) |##                    | Elapsed Time: 0:01:50 ETA:  0:19:53"
     ]
    },
    {
     "name": "stdout",
     "output_type": "stream",
     "text": [
      "aap\n",
      "connected mappoints  27\n"
     ]
    },
    {
     "name": "stderr",
     "output_type": "stream",
     "text": [
      "\r",
      "                                                                               \r",
      "\r",
      " 13% (144 of 1101) |##                    | Elapsed Time: 0:01:52 ETA:  0:19:41"
     ]
    },
    {
     "name": "stdout",
     "output_type": "stream",
     "text": [
      "invalid speed keyframe 142 frame 143 speed 0.7095261101060875\n",
      " [[ 0.99853276 -0.00116793 -0.05413843 -0.01197472]\n",
      " [ 0.00111129  0.9999988  -0.00107637  0.00898367]\n",
      " [ 0.05413963  0.00101463  0.99853286 -0.5405194 ]\n",
      " [ 0.          0.          0.          1.        ]]\n",
      "noot True False 102\n"
     ]
    },
    {
     "name": "stderr",
     "output_type": "stream",
     "text": [
      " 13% (146 of 1101) |##                    | Elapsed Time: 0:01:53 ETA:  0:16:35"
     ]
    },
    {
     "name": "stdout",
     "output_type": "stream",
     "text": [
      "invalid speed keyframe 142 frame 146 speed 4.83926640169635\n",
      " [[  9.83420134e-01  -1.54847620e-02  -1.80679444e-01   4.70024397e-02]\n",
      " [  1.50092034e-02   9.99879359e-01  -3.99902237e-03  -4.38550774e-01]\n",
      " [  1.80719571e-01   1.22086459e-03   9.83533907e-01   3.23252184e+00]\n",
      " [  0.00000000e+00   0.00000000e+00   0.00000000e+00   1.00000000e+00]]\n",
      "aap\n",
      "connected mappoints  35\n"
     ]
    },
    {
     "name": "stderr",
     "output_type": "stream",
     "text": [
      "\r",
      "                                                                               \r",
      "\r",
      " 13% (147 of 1101) |##                    | Elapsed Time: 0:01:55 ETA:  0:17:34"
     ]
    },
    {
     "name": "stdout",
     "output_type": "stream",
     "text": [
      "invalid speed keyframe 145 frame 146 speed 1.0260206211871585\n",
      " [[  9.99241424e-01  -5.41681774e-03  -3.85646752e-02   7.47167902e-04]\n",
      " [  5.34875043e-03   9.99983951e-01  -1.86797377e-03   6.95599955e-03]\n",
      " [  3.85741747e-02   1.66028395e-03   9.99254360e-01  -5.80723940e-01]\n",
      " [  0.00000000e+00   0.00000000e+00   0.00000000e+00   1.00000000e+00]]\n",
      "noot True False 77\n"
     ]
    },
    {
     "name": "stderr",
     "output_type": "stream",
     "text": [
      "\r",
      "                                                                               \r",
      "\r",
      " 13% (148 of 1101) |##                    | Elapsed Time: 0:01:55 ETA:  0:14:42"
     ]
    },
    {
     "name": "stdout",
     "output_type": "stream",
     "text": [
      "aap\n",
      "connected mappoints  49\n"
     ]
    },
    {
     "name": "stderr",
     "output_type": "stream",
     "text": [
      "\r",
      "                                                                               \r",
      "\r",
      " 13% (149 of 1101) |##                    | Elapsed Time: 0:01:57 ETA:  0:15:49"
     ]
    },
    {
     "name": "stdout",
     "output_type": "stream",
     "text": [
      "invalid speed keyframe 147 frame 148 speed 0.5250256680325258\n",
      " [[  9.99676267e-01   8.92097592e-04  -2.54276659e-02  -2.35047116e-03]\n",
      " [ -9.32401450e-04   9.99998328e-01  -1.57322739e-03   9.79150866e-03]\n",
      " [  2.54262199e-02   1.59642688e-03   9.99675427e-01  -6.16505824e-01]\n",
      " [  0.00000000e+00   0.00000000e+00   0.00000000e+00   1.00000000e+00]]\n",
      "noot True False 107\n"
     ]
    },
    {
     "name": "stderr",
     "output_type": "stream",
     "text": [
      "\r",
      "                                                                               \r",
      "\r",
      " 13% (150 of 1101) |##                    | Elapsed Time: 0:01:57 ETA:  0:15:38"
     ]
    },
    {
     "name": "stdout",
     "output_type": "stream",
     "text": [
      "aap\n",
      "connected mappoints  49\n"
     ]
    },
    {
     "name": "stderr",
     "output_type": "stream",
     "text": [
      "\r",
      "                                                                               \r",
      "\r",
      " 13% (151 of 1101) |###                   | Elapsed Time: 0:01:59 ETA:  0:15:39"
     ]
    },
    {
     "name": "stdout",
     "output_type": "stream",
     "text": [
      "invalid speed keyframe 149 frame 150 speed 0.5714518990391089\n",
      " [[ 0.99982236 -0.00210774 -0.01872965  0.00409186]\n",
      " [ 0.00205721  0.99999419 -0.00271672  0.01101332]\n",
      " [ 0.01873527  0.00267771  0.99982089 -0.64574915]\n",
      " [ 0.          0.          0.          1.        ]]\n",
      "noot True False 127\n"
     ]
    },
    {
     "name": "stderr",
     "output_type": "stream",
     "text": [
      " 13% (153 of 1101) |###                   | Elapsed Time: 0:02:01 ETA:  0:16:37"
     ]
    },
    {
     "name": "stdout",
     "output_type": "stream",
     "text": [
      "aap\n",
      "connected mappoints  33\n"
     ]
    },
    {
     "name": "stderr",
     "output_type": "stream",
     "text": [
      "\r",
      "                                                                               \r",
      "\r",
      " 13% (154 of 1101) |###                   | Elapsed Time: 0:02:03 ETA:  0:17:36"
     ]
    },
    {
     "name": "stdout",
     "output_type": "stream",
     "text": [
      "invalid speed keyframe 152 frame 153 speed 1.2909953875645017\n",
      " [[  9.99908247e-01   1.11332172e-03  -1.35002701e-02   1.34292945e-02]\n",
      " [ -1.11052867e-03   9.99999360e-01   2.14382827e-04   8.50006306e-03]\n",
      " [  1.35005001e-02  -1.99370720e-04   9.99908844e-01  -7.01750665e-01]\n",
      " [  0.00000000e+00   0.00000000e+00   0.00000000e+00   1.00000000e+00]]\n",
      "noot True False 140\n"
     ]
    },
    {
     "name": "stderr",
     "output_type": "stream",
     "text": [
      " 14% (157 of 1101) |###                   | Elapsed Time: 0:02:07 ETA:  0:18:22"
     ]
    },
    {
     "name": "stdout",
     "output_type": "stream",
     "text": [
      "aap\n",
      "connected mappoints  37\n"
     ]
    },
    {
     "name": "stderr",
     "output_type": "stream",
     "text": [
      "\r",
      "                                                                               \r",
      "\r",
      " 14% (158 of 1101) |###                   | Elapsed Time: 0:02:09 ETA:  0:21:35"
     ]
    },
    {
     "name": "stdout",
     "output_type": "stream",
     "text": [
      "invalid speed keyframe 156 frame 157 speed 2.002020187740604\n",
      " [[  9.99922424e-01  -5.03162977e-04  -1.24455582e-02   2.66057738e-03]\n",
      " [  5.35447027e-04   9.99996500e-01   2.59082583e-03   1.21734076e-02]\n",
      " [  1.24442111e-02  -2.59728878e-03   9.99919195e-01  -7.40237502e-01]\n",
      " [  0.00000000e+00   0.00000000e+00   0.00000000e+00   1.00000000e+00]]\n",
      "noot True False 118\n"
     ]
    },
    {
     "name": "stderr",
     "output_type": "stream",
     "text": [
      " 14% (162 of 1101) |###                   | Elapsed Time: 0:02:13 ETA:  0:20:11"
     ]
    },
    {
     "name": "stdout",
     "output_type": "stream",
     "text": [
      "invalid speed keyframe 156 frame 162 speed 2.2063792966527416\n",
      " [[ 0.99891594 -0.01568795 -0.04382727 -0.59298499]\n",
      " [ 0.01537856  0.99985445 -0.00738742  0.18710592]\n",
      " [ 0.04393678  0.00670541  0.99901181 -1.56018826]\n",
      " [ 0.          0.          0.          1.        ]]\n",
      "aap\n",
      "connected mappoints  33\n"
     ]
    },
    {
     "name": "stderr",
     "output_type": "stream",
     "text": [
      "\r",
      "                                                                               \r",
      "\r",
      " 14% (163 of 1101) |###                   | Elapsed Time: 0:02:15 ETA:  0:22:23"
     ]
    },
    {
     "name": "stdout",
     "output_type": "stream",
     "text": [
      "invalid speed keyframe 161 frame 162 speed 2.980516112269214\n",
      " [[ 0.99998217 -0.00360455 -0.00476078  0.012224  ]\n",
      " [ 0.00356611  0.99996117 -0.0080585   0.01989114]\n",
      " [ 0.00478965  0.00804137  0.9999562  -0.78605144]\n",
      " [ 0.          0.          0.          1.        ]]\n",
      "noot True False 114\n"
     ]
    },
    {
     "name": "stderr",
     "output_type": "stream",
     "text": [
      " 14% (165 of 1101) |###                   | Elapsed Time: 0:02:17 ETA:  0:20:07"
     ]
    },
    {
     "name": "stdout",
     "output_type": "stream",
     "text": [
      "invalid speed keyframe 161 frame 165 speed 2.313607800115539\n",
      " [[  6.93549551e-310   6.05724482e-321   1.27179185e-315   7.11454530e-322]\n",
      " [  6.93549551e-310   4.94065646e-324   8.39911598e-323   2.37151510e-322]\n",
      " [  1.27179161e-315   4.74303020e-322   6.05724482e-321   1.27208362e-315]\n",
      " [  8.39911598e-323   2.37151510e-322   4.94065646e-324   8.39911598e-323]]\n",
      "aap\n",
      "connected mappoints  37\n"
     ]
    },
    {
     "name": "stderr",
     "output_type": "stream",
     "text": [
      "\r",
      "                                                                               \r",
      "\r",
      " 15% (166 of 1101) |###                   | Elapsed Time: 0:02:20 ETA:  0:22:40"
     ]
    },
    {
     "name": "stdout",
     "output_type": "stream",
     "text": [
      "invalid speed keyframe 164 frame 165 speed 1.5344945106411312\n",
      " [[  9.99995327e-01   1.99939259e-04  -3.05071611e-03   8.83637995e-03]\n",
      " [ -1.97798110e-04   9.99999734e-01   7.02136845e-04   1.78529207e-02]\n",
      " [  3.05085569e-03  -7.01530137e-04   9.99995100e-01  -7.79113289e-01]\n",
      " [  0.00000000e+00   0.00000000e+00   0.00000000e+00   1.00000000e+00]]\n",
      "noot True False 143\n"
     ]
    },
    {
     "name": "stderr",
     "output_type": "stream",
     "text": [
      " 15% (168 of 1101) |###                   | Elapsed Time: 0:02:22 ETA:  0:20:14"
     ]
    },
    {
     "name": "stdout",
     "output_type": "stream",
     "text": [
      "aap\n",
      "connected mappoints  48\n"
     ]
    },
    {
     "name": "stderr",
     "output_type": "stream",
     "text": [
      "\r",
      "                                                                               \r",
      "\r",
      " 15% (169 of 1101) |###                   | Elapsed Time: 0:02:25 ETA:  0:23:16"
     ]
    },
    {
     "name": "stdout",
     "output_type": "stream",
     "text": [
      "invalid speed keyframe 167 frame 168 speed 1.5782832641966222\n",
      " [[ 0.99999376  0.00201561 -0.00290168  0.00479967]\n",
      " [-0.00202035  0.99999663 -0.00162979  0.02140464]\n",
      " [ 0.00289838  0.00163564  0.99999446 -0.78435984]\n",
      " [ 0.          0.          0.          1.        ]]\n",
      "noot True False 97\n"
     ]
    },
    {
     "name": "stderr",
     "output_type": "stream",
     "text": [
      " 15% (173 of 1101) |###                   | Elapsed Time: 0:02:29 ETA:  0:20:54"
     ]
    },
    {
     "name": "stdout",
     "output_type": "stream",
     "text": [
      "invalid speed keyframe 167 frame 173 speed 3.7788885589045265\n",
      " [[  6.93549551e-310   2.37151510e-322   6.05724482e-321   1.31978807e-315]\n",
      " [  6.93549551e-310   2.37151510e-322   4.94065646e-324   8.39911598e-323]\n",
      " [  6.05724482e-321   1.28587209e-315   4.74303020e-322   6.05724482e-321]\n",
      " [  4.94065646e-324   8.39911598e-323   2.37151510e-322   4.94065646e-324]]\n",
      "aap\n",
      "connected mappoints  30\n"
     ]
    },
    {
     "name": "stderr",
     "output_type": "stream",
     "text": [
      "\r",
      "                                                                               \r",
      "\r",
      " 15% (174 of 1101) |###                   | Elapsed Time: 0:02:31 ETA:  0:22:15"
     ]
    },
    {
     "name": "stdout",
     "output_type": "stream",
     "text": [
      "invalid speed keyframe 172 frame 173 speed 3.000540241851287\n",
      " [[ 0.99999653 -0.00168446 -0.00202614  0.01237855]\n",
      " [ 0.00168095  0.99999708 -0.00173615  0.01570968]\n",
      " [ 0.00202906  0.00173273  0.99999644 -0.77834832]\n",
      " [ 0.          0.          0.          1.        ]]\n",
      "noot True False 75\n"
     ]
    },
    {
     "name": "stderr",
     "output_type": "stream",
     "text": [
      "\r",
      "                                                                               \r",
      "\r",
      " 15% (175 of 1101) |###                   | Elapsed Time: 0:02:32 ETA:  0:22:24"
     ]
    },
    {
     "name": "stdout",
     "output_type": "stream",
     "text": [
      "aap\n",
      "connected mappoints  38\n"
     ]
    },
    {
     "name": "stderr",
     "output_type": "stream",
     "text": [
      "\r",
      "                                                                               \r",
      "\r",
      " 15% (176 of 1101) |###                   | Elapsed Time: 0:02:34 ETA:  0:20:54"
     ]
    },
    {
     "name": "stdout",
     "output_type": "stream",
     "text": [
      "invalid speed keyframe 174 frame 175 speed 0.7714507330009722\n",
      " [[ 0.99999187 -0.00340371 -0.00216265  0.0170432 ]\n",
      " [ 0.00339305  0.99998219 -0.00491039  0.01958483]\n",
      " [ 0.00217933  0.00490301  0.99998561 -0.77761185]\n",
      " [ 0.          0.          0.          1.        ]]\n",
      "noot True False 69\n"
     ]
    },
    {
     "name": "stderr",
     "output_type": "stream",
     "text": [
      "\r",
      "                                                                               \r",
      "\r",
      " 16% (177 of 1101) |###                   | Elapsed Time: 0:02:34 ETA:  0:19:59"
     ]
    },
    {
     "name": "stdout",
     "output_type": "stream",
     "text": [
      "aap\n",
      "connected mappoints  33\n"
     ]
    },
    {
     "name": "stderr",
     "output_type": "stream",
     "text": [
      "\r",
      "                                                                               \r",
      "\r",
      " 16% (178 of 1101) |###                   | Elapsed Time: 0:02:35 ETA:  0:20:17"
     ]
    },
    {
     "name": "stdout",
     "output_type": "stream",
     "text": [
      "invalid speed keyframe 176 frame 177 speed 0.7770794200336109\n",
      " [[  9.99991944e-01   3.56079426e-03  -1.85264690e-03   3.11402184e-02]\n",
      " [ -3.56210623e-03   9.99993407e-01  -7.05345252e-04   3.35445562e-02]\n",
      " [  1.85012310e-03   7.11938895e-04   9.99998035e-01  -7.22797547e-01]\n",
      " [  0.00000000e+00   0.00000000e+00   0.00000000e+00   1.00000000e+00]]\n",
      "noot True False 56\n"
     ]
    },
    {
     "name": "stderr",
     "output_type": "stream",
     "text": [
      " 16% (182 of 1101) |###                   | Elapsed Time: 0:02:37 ETA:  0:13:32"
     ]
    },
    {
     "name": "stdout",
     "output_type": "stream",
     "text": [
      "aap\n",
      "connected mappoints  26\n"
     ]
    },
    {
     "name": "stderr",
     "output_type": "stream",
     "text": [
      "\r",
      "                                                                               \r",
      "\r",
      " 16% (183 of 1101) |###                   | Elapsed Time: 0:02:38 ETA:  0:13:46"
     ]
    },
    {
     "name": "stdout",
     "output_type": "stream",
     "text": [
      "invalid speed keyframe 181 frame 182 speed 2.927545866709967\n",
      " [[  9.99994847e-01  -3.09530185e-03  -8.51495280e-04   1.61410883e-02]\n",
      " [  3.09440917e-03   9.99994663e-01  -1.04768716e-03   1.42845855e-02]\n",
      " [  8.54733644e-04   1.04504688e-03   9.99999089e-01  -7.83869999e-01]\n",
      " [  0.00000000e+00   0.00000000e+00   0.00000000e+00   1.00000000e+00]]\n",
      "noot True False 71\n"
     ]
    },
    {
     "name": "stderr",
     "output_type": "stream",
     "text": [
      " 16% (185 of 1101) |###                   | Elapsed Time: 0:02:38 ETA:  0:10:01"
     ]
    },
    {
     "name": "stdout",
     "output_type": "stream",
     "text": [
      "invalid speed keyframe 181 frame 185 speed 1.882261440651835\n",
      " [[  9.99893435e-01   1.45886528e-02   5.37465344e-04   2.46975573e-01]\n",
      " [ -1.45869090e-02   9.99888748e-01  -3.11682583e-03  -1.34346893e-01]\n",
      " [ -5.82875840e-04   3.10865373e-03   9.99994998e-01  -4.41733165e-01]\n",
      " [  0.00000000e+00   0.00000000e+00   0.00000000e+00   1.00000000e+00]]\n",
      "aap\n"
     ]
    },
    {
     "name": "stderr",
     "output_type": "stream",
     "text": [
      "\r",
      "                                                                               \r",
      "\r",
      " 16% (186 of 1101) |###                   | Elapsed Time: 0:02:39 ETA:  0:08:45"
     ]
    },
    {
     "name": "stdout",
     "output_type": "stream",
     "text": [
      "connected mappoints  30\n",
      "invalid speed keyframe 184 frame 185 speed 1.7421033853673065\n",
      " [[  9.99996236e-01  -2.16764542e-03   1.68191274e-03  -3.59370086e-02]\n",
      " [  2.16907940e-03   9.99997285e-01  -8.51229736e-04   5.51949540e-02]\n",
      " [ -1.68006300e-03   8.54874735e-04   9.99998223e-01  -5.81891220e-01]\n",
      " [  0.00000000e+00   0.00000000e+00   0.00000000e+00   1.00000000e+00]]\n",
      "noot True False 37\n"
     ]
    },
    {
     "name": "stderr",
     "output_type": "stream",
     "text": [
      "\r",
      "                                                                               \r",
      "\r",
      " 16% (187 of 1101) |###                   | Elapsed Time: 0:02:40 ETA:  0:08:22"
     ]
    },
    {
     "name": "stdout",
     "output_type": "stream",
     "text": [
      "invalid speed keyframe 184 frame 187 speed 1.2397129612565139\n",
      " [[ 0.99991422  0.00500912  0.01210248 -0.50791482]\n",
      " [-0.00496437  0.99998074 -0.00372444  0.03351022]\n",
      " [-0.01212091  0.00366404  0.99991983 -0.18127   ]\n",
      " [ 0.          0.          0.          1.        ]]\n",
      "aap\n"
     ]
    },
    {
     "name": "stderr",
     "output_type": "stream",
     "text": [
      "\r",
      "                                                                               \r",
      "\r",
      " 17% (188 of 1101) |###                   | Elapsed Time: 0:02:40 ETA:  0:07:26"
     ]
    },
    {
     "name": "stdout",
     "output_type": "stream",
     "text": [
      "connected mappoints  26\n",
      "invalid speed keyframe 186 frame 187 speed 0.6655682433505198\n",
      " [[  9.99988692e-01  -3.82594230e-03   2.82437484e-03   6.95394493e-03]\n",
      " [  3.82569349e-03   9.99992678e-01   9.34894435e-05   1.48261875e-02]\n",
      " [ -2.82471184e-03  -8.26831940e-05   9.99996007e-01  -7.55414722e-01]\n",
      " [  0.00000000e+00   0.00000000e+00   0.00000000e+00   1.00000000e+00]]\n",
      "noot True False 45\n"
     ]
    },
    {
     "name": "stderr",
     "output_type": "stream",
     "text": [
      "\r",
      "                                                                               \r",
      "\r",
      " 17% (189 of 1101) |###                   | Elapsed Time: 0:02:41 ETA:  0:07:13"
     ]
    },
    {
     "name": "stdout",
     "output_type": "stream",
     "text": [
      "invalid speed keyframe 186 frame 189 speed 0.6209624390597739\n",
      " [[ 0.99987344 -0.00825484  0.01360005 -0.37472128]\n",
      " [ 0.00817453  0.99994889  0.00595007  0.03344812]\n",
      " [-0.01364848 -0.00583814  0.99988981 -0.96128666]\n",
      " [ 0.          0.          0.          1.        ]]\n",
      "aap\n"
     ]
    },
    {
     "name": "stderr",
     "output_type": "stream",
     "text": [
      "\r",
      "                                                                               \r",
      "\r",
      " 17% (190 of 1101) |###                   | Elapsed Time: 0:02:41 ETA:  0:07:46"
     ]
    },
    {
     "name": "stdout",
     "output_type": "stream",
     "text": [
      "connected mappoints  11\n",
      "invalid speed keyframe 188 frame 189 speed 0.7632926541986202\n",
      " [[  9.99997439e-01  -6.28766266e-04   2.17389348e-03   1.85287415e-02]\n",
      " [  6.21363340e-04   9.99994012e-01   3.40437653e-03   8.60920449e-03]\n",
      " [ -2.17602102e-03  -3.40301704e-03   9.99991842e-01  -8.18956447e-01]\n",
      " [  0.00000000e+00   0.00000000e+00   0.00000000e+00   1.00000000e+00]]\n",
      "noot True False 22\n",
      "aap\n"
     ]
    },
    {
     "name": "stderr",
     "output_type": "stream",
     "text": [
      "\r",
      "                                                                               \r",
      "\r",
      " 17% (191 of 1101) |###                   | Elapsed Time: 0:02:42 ETA:  0:08:32"
     ]
    },
    {
     "name": "stdout",
     "output_type": "stream",
     "text": [
      "connected mappoints  19\n",
      "noot False False 34\n",
      "aap\n",
      "connected mappoints  26\n"
     ]
    },
    {
     "name": "stderr",
     "output_type": "stream",
     "text": [
      "\r",
      "                                                                               \r",
      "\r",
      " 17% (192 of 1101) |###                   | Elapsed Time: 0:02:43 ETA:  0:09:49"
     ]
    },
    {
     "name": "stdout",
     "output_type": "stream",
     "text": [
      "noot False False 52\n",
      "aap\n",
      "connected mappoints  47\n"
     ]
    },
    {
     "name": "stderr",
     "output_type": "stream",
     "text": [
      "\r",
      "                                                                               \r",
      "\r",
      " 17% (193 of 1101) |###                   | Elapsed Time: 0:02:45 ETA:  0:10:37"
     ]
    },
    {
     "name": "stdout",
     "output_type": "stream",
     "text": [
      "noot False False 77\n"
     ]
    },
    {
     "name": "stderr",
     "output_type": "stream",
     "text": [
      "\r",
      "                                                                               \r",
      "\r",
      " 17% (194 of 1101) |###                   | Elapsed Time: 0:02:46 ETA:  0:11:16"
     ]
    },
    {
     "name": "stdout",
     "output_type": "stream",
     "text": [
      "aap\n",
      "connected mappoints  39\n"
     ]
    },
    {
     "name": "stderr",
     "output_type": "stream",
     "text": [
      "\r",
      "                                                                               \r",
      "\r",
      " 17% (195 of 1101) |###                   | Elapsed Time: 0:02:48 ETA:  0:14:16"
     ]
    },
    {
     "name": "stdout",
     "output_type": "stream",
     "text": [
      "invalid speed keyframe 193 frame 194 speed 0.8354524488366045\n",
      " [[  9.99998910e-01   9.93522521e-04   1.09198479e-03   1.31823993e-02]\n",
      " [ -9.89479619e-04   9.99992678e-01  -3.69666799e-03   1.74147634e-02]\n",
      " [ -1.09564952e-03   3.69558346e-03   9.99992571e-01  -8.46930935e-01]\n",
      " [  0.00000000e+00   0.00000000e+00   0.00000000e+00   1.00000000e+00]]\n",
      "noot True False 128\n"
     ]
    },
    {
     "name": "stderr",
     "output_type": "stream",
     "text": [
      " 17% (198 of 1101) |###                   | Elapsed Time: 0:02:51 ETA:  0:16:08"
     ]
    },
    {
     "name": "stdout",
     "output_type": "stream",
     "text": [
      "aap\n",
      "connected mappoints  35\n"
     ]
    },
    {
     "name": "stderr",
     "output_type": "stream",
     "text": [
      "\r",
      "                                                                               \r",
      "\r",
      " 18% (199 of 1101) |###                   | Elapsed Time: 0:02:54 ETA:  0:20:07"
     ]
    },
    {
     "name": "stdout",
     "output_type": "stream",
     "text": [
      "invalid speed keyframe 197 frame 198 speed 2.5117450623764688\n",
      " [[  9.99998508e-01   8.64147705e-05  -1.72534392e-03   1.02199396e-02]\n",
      " [ -8.42400425e-05   9.99999202e-01   1.26049349e-03   1.28823919e-02]\n",
      " [  1.72545147e-03  -1.26034627e-03   9.99997717e-01  -8.79187088e-01]\n",
      " [  0.00000000e+00   0.00000000e+00   0.00000000e+00   1.00000000e+00]]\n",
      "noot True False 133\n"
     ]
    },
    {
     "name": "stderr",
     "output_type": "stream",
     "text": [
      " 18% (201 of 1101) |####                  | Elapsed Time: 0:02:56 ETA:  0:21:00"
     ]
    },
    {
     "name": "stdout",
     "output_type": "stream",
     "text": [
      "aap\n",
      "connected mappoints  36\n"
     ]
    },
    {
     "name": "stderr",
     "output_type": "stream",
     "text": [
      "\r",
      "                                                                               \r",
      "\r",
      " 18% (202 of 1101) |####                  | Elapsed Time: 0:02:59 ETA:  0:23:03"
     ]
    },
    {
     "name": "stdout",
     "output_type": "stream",
     "text": [
      "invalid speed keyframe 200 frame 201 speed 1.7925957359034577\n",
      " [[  9.99997046e-01   1.25586043e-03  -2.08093812e-03   1.68763271e-02]\n",
      " [ -1.25465716e-03   9.99999045e-01   5.79442828e-04   8.66803250e-03]\n",
      " [  2.08166383e-03  -5.76830253e-04   9.99997667e-01  -8.99303559e-01]\n",
      " [  0.00000000e+00   0.00000000e+00   0.00000000e+00   1.00000000e+00]]\n",
      "noot True False 89\n"
     ]
    },
    {
     "name": "stderr",
     "output_type": "stream",
     "text": [
      " 18% (204 of 1101) |####                  | Elapsed Time: 0:03:00 ETA:  0:22:11"
     ]
    },
    {
     "name": "stdout",
     "output_type": "stream",
     "text": [
      "aap\n",
      "connected mappoints  30\n"
     ]
    },
    {
     "name": "stderr",
     "output_type": "stream",
     "text": [
      "\r",
      "                                                                               \r",
      "\r",
      " 18% (205 of 1101) |####                  | Elapsed Time: 0:03:02 ETA:  0:21:43"
     ]
    },
    {
     "name": "stdout",
     "output_type": "stream",
     "text": [
      "invalid speed keyframe 203 frame 204 speed 1.7252442368394703\n",
      " [[  9.99999608e-01   9.15001838e-05  -8.80645562e-04   1.02937385e-02]\n",
      " [ -9.13718472e-05   9.99999985e-01   1.45769237e-04   1.45183211e-02]\n",
      " [  8.80658886e-04  -1.45688713e-04   9.99999602e-01  -8.76172575e-01]\n",
      " [  0.00000000e+00   0.00000000e+00   0.00000000e+00   1.00000000e+00]]\n",
      "noot True False 98\n"
     ]
    },
    {
     "name": "stderr",
     "output_type": "stream",
     "text": [
      " 18% (209 of 1101) |####                  | Elapsed Time: 0:03:06 ETA:  0:17:16"
     ]
    },
    {
     "name": "stdout",
     "output_type": "stream",
     "text": [
      "aap\n",
      "connected mappoints  28\n"
     ]
    },
    {
     "name": "stderr",
     "output_type": "stream",
     "text": [
      "\r",
      "                                                                               \r",
      "\r",
      " 19% (210 of 1101) |####                  | Elapsed Time: 0:03:08 ETA:  0:18:39"
     ]
    },
    {
     "name": "stdout",
     "output_type": "stream",
     "text": [
      "invalid speed keyframe 208 frame 209 speed 3.4575910888051995\n",
      " [[  9.99998892e-01  -1.00560243e-04  -1.48530382e-03   2.03268593e-02]\n",
      " [  1.01630565e-04   9.99999735e-01   7.20549863e-04   1.16695969e-02]\n",
      " [  1.48523097e-03  -7.20700017e-04   9.99998637e-01  -8.51251954e-01]\n",
      " [  0.00000000e+00   0.00000000e+00   0.00000000e+00   1.00000000e+00]]\n",
      "noot True False 80\n"
     ]
    },
    {
     "name": "stderr",
     "output_type": "stream",
     "text": [
      "\r",
      "                                                                               \r",
      "\r",
      " 19% (211 of 1101) |####                  | Elapsed Time: 0:03:08 ETA:  0:18:13"
     ]
    },
    {
     "name": "stdout",
     "output_type": "stream",
     "text": [
      "aap\n",
      "connected mappoints  26\n"
     ]
    },
    {
     "name": "stderr",
     "output_type": "stream",
     "text": [
      "\r",
      "                                                                               \r",
      "\r",
      " 19% (212 of 1101) |####                  | Elapsed Time: 0:03:11 ETA:  0:17:46"
     ]
    },
    {
     "name": "stdout",
     "output_type": "stream",
     "text": [
      "invalid speed keyframe 210 frame 211 speed 0.8586945013466258\n",
      " [[  9.99999149e-01   1.14507438e-03   6.25543362e-04   1.19191535e-02]\n",
      " [ -1.13954041e-03   9.99960836e-01  -8.77652123e-03   2.25574482e-02]\n",
      " [ -6.35568633e-04   8.77580093e-03   9.99961290e-01  -8.69128810e-01]\n",
      " [  0.00000000e+00   0.00000000e+00   0.00000000e+00   1.00000000e+00]]\n",
      "noot True False 82\n"
     ]
    },
    {
     "name": "stderr",
     "output_type": "stream",
     "text": [
      "\r",
      "                                                                               \r",
      "\r",
      " 19% (213 of 1101) |####                  | Elapsed Time: 0:03:12 ETA:  0:17:49"
     ]
    },
    {
     "name": "stdout",
     "output_type": "stream",
     "text": [
      "aap\n",
      "connected mappoints  32\n"
     ]
    },
    {
     "name": "stderr",
     "output_type": "stream",
     "text": [
      "\r",
      "                                                                               \r",
      "\r",
      " 19% (214 of 1101) |####                  | Elapsed Time: 0:03:15 ETA:  0:20:47"
     ]
    },
    {
     "name": "stdout",
     "output_type": "stream",
     "text": [
      "invalid speed keyframe 212 frame 213 speed 0.8793738111688109\n",
      " [[ 0.99999551  0.00168465  0.00247965  0.00568545]\n",
      " [-0.00168995  0.99999629  0.00213799  0.02156673]\n",
      " [-0.00247604 -0.00214217  0.99999464 -0.85734369]\n",
      " [ 0.          0.          0.          1.        ]]\n",
      "noot True False 51\n"
     ]
    },
    {
     "name": "stderr",
     "output_type": "stream",
     "text": [
      "\r",
      "                                                                               \r",
      "\r",
      " 19% (215 of 1101) |####                  | Elapsed Time: 0:03:16 ETA:  0:19:33"
     ]
    },
    {
     "name": "stdout",
     "output_type": "stream",
     "text": [
      "aap\n",
      "connected mappoints  8\n"
     ]
    },
    {
     "name": "stderr",
     "output_type": "stream",
     "text": [
      "\r",
      "                                                                               \r",
      "\r",
      " 19% (216 of 1101) |####                  | Elapsed Time: 0:03:18 ETA:  0:22:08"
     ]
    },
    {
     "name": "stdout",
     "output_type": "stream",
     "text": [
      "invalid speed keyframe 214 frame 215 speed 0.872948072269887\n",
      " [[ 0.9999401   0.01005295  0.00432948 -0.01756026]\n",
      " [-0.01007103  0.99994057  0.00417497 -0.05729533]\n",
      " [-0.00428726 -0.00421832  0.99998191 -0.84613594]\n",
      " [ 0.          0.          0.          1.        ]]\n",
      "noot True False 32\n",
      "invalid speed keyframe 214 frame 216 speed 1.5820410148542832\n",
      " [[  9.99887124e-01   1.50082804e-02   7.00187237e-04   1.99868338e-01]\n",
      " [ -1.50065207e-02   9.99884384e-01  -2.45423860e-03   7.19662926e-02]\n",
      " [ -7.36940185e-04   2.44345420e-03   9.99996743e-01   7.35905074e-01]\n",
      " [  0.00000000e+00   0.00000000e+00   0.00000000e+00   1.00000000e+00]]\n",
      "aap\n",
      "connected mappoints  24\n"
     ]
    },
    {
     "name": "stderr",
     "output_type": "stream",
     "text": [
      "\r",
      "                                                                               \r",
      "\r",
      " 19% (217 of 1101) |####                  | Elapsed Time: 0:03:21 ETA:  0:24:27"
     ]
    },
    {
     "name": "stdout",
     "output_type": "stream",
     "text": [
      "invalid speed keyframe 215 frame 216 speed 0.0107566566700944\n",
      " [[ 0.99999339 -0.00242499  0.00270788  0.01255594]\n",
      " [ 0.00241788  0.99999363  0.00262707  0.01455181]\n",
      " [-0.00271423 -0.0026205   0.99999288 -0.83537928]\n",
      " [ 0.          0.          0.          1.        ]]\n",
      "noot True False 121\n",
      "aap\n",
      "connected mappoints  105\n"
     ]
    },
    {
     "name": "stderr",
     "output_type": "stream",
     "text": [
      "\r",
      "                                                                               \r",
      "\r",
      " 19% (218 of 1101) |####                  | Elapsed Time: 0:03:23 ETA:  0:27:25"
     ]
    },
    {
     "name": "stdout",
     "output_type": "stream",
     "text": [
      "noot False False 75\n"
     ]
    },
    {
     "name": "stderr",
     "output_type": "stream",
     "text": [
      " 20% (223 of 1101) |####                  | Elapsed Time: 0:03:29 ETA:  0:25:50"
     ]
    },
    {
     "name": "stdout",
     "output_type": "stream",
     "text": [
      "aap\n",
      "connected mappoints  48\n"
     ]
    },
    {
     "name": "stderr",
     "output_type": "stream",
     "text": [
      "\r",
      "                                                                               \r",
      "\r",
      " 20% (224 of 1101) |####                  | Elapsed Time: 0:03:32 ETA:  0:26:14"
     ]
    },
    {
     "name": "stdout",
     "output_type": "stream",
     "text": [
      "invalid speed keyframe 222 frame 223 speed 4.065508502003534\n",
      " [[  9.99989829e-01   4.64028307e-04   4.48618483e-03   5.60442725e-03]\n",
      " [ -4.40127638e-04   9.99985714e-01  -5.32713571e-03   2.28582239e-02]\n",
      " [ -4.48859268e-03   5.32510704e-03   9.99975748e-01  -8.26730507e-01]\n",
      " [  0.00000000e+00   0.00000000e+00   0.00000000e+00   1.00000000e+00]]\n",
      "noot True False 22\n"
     ]
    },
    {
     "name": "stderr",
     "output_type": "stream",
     "text": [
      " 20% (226 of 1101) |####                  | Elapsed Time: 0:03:35 ETA:  0:25:02"
     ]
    },
    {
     "name": "stdout",
     "output_type": "stream",
     "text": [
      "invalid speed keyframe 222 frame 226 speed 2.5887632134989844\n",
      " [[ 0.99999073  0.00320954  0.00287101  0.84897106]\n",
      " [-0.00315376  0.9998102  -0.01922556  0.11075385]\n",
      " [-0.00293217  0.01921633  0.99981105  0.20742254]\n",
      " [ 0.          0.          0.          1.        ]]\n",
      "aap\n",
      "connected mappoints  26\n"
     ]
    },
    {
     "name": "stderr",
     "output_type": "stream",
     "text": [
      "\r",
      "                                                                               \r",
      "\r",
      " 20% (227 of 1101) |####                  | Elapsed Time: 0:03:39 ETA:  0:27:10"
     ]
    },
    {
     "name": "stdout",
     "output_type": "stream",
     "text": [
      "invalid speed keyframe 225 frame 226 speed 1.5705720707337703\n",
      " [[ 0.9999774   0.0026768   0.00616724  0.00543845]\n",
      " [-0.00265624  0.9999909  -0.00333976  0.01520068]\n",
      " [-0.00617612  0.0033233   0.99997541 -0.8107686 ]\n",
      " [ 0.          0.          0.          1.        ]]\n",
      "noot True False 119\n"
     ]
    },
    {
     "name": "stderr",
     "output_type": "stream",
     "text": [
      " 20% (229 of 1101) |####                  | Elapsed Time: 0:03:42 ETA:  0:25:45"
     ]
    },
    {
     "name": "stdout",
     "output_type": "stream",
     "text": [
      "invalid speed keyframe 225 frame 229 speed 2.825738408251996\n",
      " [[ 0.99998417 -0.00350498  0.00440264  0.96526709]\n",
      " [ 0.00351731  0.9999899  -0.00279668 -0.43534429]\n",
      " [-0.00439279  0.00281212  0.9999864   0.49175772]\n",
      " [ 0.          0.          0.          1.        ]]\n",
      "aap\n",
      "connected mappoints  42\n"
     ]
    },
    {
     "name": "stderr",
     "output_type": "stream",
     "text": [
      "\r",
      "                                                                               \r",
      "\r",
      " 20% (230 of 1101) |####                  | Elapsed Time: 0:03:47 ETA:  0:29:57"
     ]
    },
    {
     "name": "stdout",
     "output_type": "stream",
     "text": [
      "invalid speed keyframe 228 frame 229 speed 1.5492920123514162\n",
      " [[ 0.99997874 -0.00195693  0.00621972  0.01047638]\n",
      " [ 0.00193325  0.99999087  0.00381144  0.01238849]\n",
      " [-0.00622712 -0.00379934  0.99997339 -0.78468867]\n",
      " [ 0.          0.          0.          1.        ]]\n",
      "noot True False 116\n"
     ]
    },
    {
     "name": "stderr",
     "output_type": "stream",
     "text": [
      " 21% (233 of 1101) |####                  | Elapsed Time: 0:03:52 ETA:  0:32:40"
     ]
    },
    {
     "name": "stdout",
     "output_type": "stream",
     "text": [
      "aap\n",
      "connected mappoints  34\n"
     ]
    },
    {
     "name": "stderr",
     "output_type": "stream",
     "text": [
      "\r",
      "                                                                               \r",
      "\r",
      " 21% (234 of 1101) |####                  | Elapsed Time: 0:03:56 ETA:  0:34:42"
     ]
    },
    {
     "name": "stdout",
     "output_type": "stream",
     "text": [
      "invalid speed keyframe 232 frame 233 speed 2.347256116340713\n",
      " [[  9.99980376e-01  -2.31871671e-04   6.26044257e-03   1.36453850e-02]\n",
      " [  2.56517899e-04   9.99992220e-01  -3.93630287e-03   2.03579597e-02]\n",
      " [ -6.25948114e-03   3.93783154e-03   9.99972656e-01  -7.85347308e-01]\n",
      " [  0.00000000e+00   0.00000000e+00   0.00000000e+00   1.00000000e+00]]\n",
      "noot True False 166\n"
     ]
    },
    {
     "name": "stderr",
     "output_type": "stream",
     "text": [
      " 21% (236 of 1101) |####                  | Elapsed Time: 0:04:01 ETA:  0:36:43"
     ]
    },
    {
     "name": "stdout",
     "output_type": "stream",
     "text": [
      "aap\n",
      "connected mappoints  43\n"
     ]
    },
    {
     "name": "stderr",
     "output_type": "stream",
     "text": [
      "\r",
      "                                                                               \r",
      "\r",
      " 21% (237 of 1101) |####                  | Elapsed Time: 0:04:06 ETA:  0:38:37"
     ]
    },
    {
     "name": "stdout",
     "output_type": "stream",
     "text": [
      "invalid speed keyframe 235 frame 236 speed 1.652387797243096\n",
      " [[  9.99963735e-01   6.13239080e-04   8.49427606e-03   9.14197510e-03]\n",
      " [ -6.76565492e-04   9.99971987e-01   7.45432032e-03   4.52336220e-03]\n",
      " [ -8.48946683e-03  -7.45979693e-03   9.99936138e-01  -7.68192702e-01]\n",
      " [  0.00000000e+00   0.00000000e+00   0.00000000e+00   1.00000000e+00]]\n",
      "noot True False 137\n"
     ]
    },
    {
     "name": "stderr",
     "output_type": "stream",
     "text": [
      "\r",
      "                                                                               \r",
      "\r",
      " 21% (238 of 1101) |####                  | Elapsed Time: 0:04:08 ETA:  0:39:18"
     ]
    },
    {
     "name": "stdout",
     "output_type": "stream",
     "text": [
      "aap\n",
      "connected mappoints  47\n"
     ]
    },
    {
     "name": "stderr",
     "output_type": "stream",
     "text": [
      "\r",
      "                                                                               \r",
      "\r",
      " 21% (239 of 1101) |####                  | Elapsed Time: 0:04:12 ETA:  0:43:10"
     ]
    },
    {
     "name": "stdout",
     "output_type": "stream",
     "text": [
      "invalid speed keyframe 237 frame 238 speed 0.7492133965809664\n",
      " [[  9.99941557e-01   8.50382199e-04   1.07777243e-02   1.34123850e-02]\n",
      " [ -8.23567507e-04   9.99996555e-01  -2.49216758e-03   1.34004956e-02]\n",
      " [ -1.07798065e-02   2.48314574e-03   9.99938813e-01  -7.72453865e-01]\n",
      " [  0.00000000e+00   0.00000000e+00   0.00000000e+00   1.00000000e+00]]\n",
      "noot True False 148\n"
     ]
    },
    {
     "name": "stderr",
     "output_type": "stream",
     "text": [
      " 22% (245 of 1101) |####                  | Elapsed Time: 0:04:20 ETA:  0:31:18"
     ]
    },
    {
     "name": "stdout",
     "output_type": "stream",
     "text": [
      "aap\n",
      "connected mappoints  9\n"
     ]
    },
    {
     "name": "stderr",
     "output_type": "stream",
     "text": [
      "\r",
      "                                                                               \r",
      "\r",
      " 22% (246 of 1101) |####                  | Elapsed Time: 0:04:23 ETA:  0:32:15"
     ]
    },
    {
     "name": "stdout",
     "output_type": "stream",
     "text": [
      "invalid speed keyframe 244 frame 245 speed 4.429026596968896\n",
      " [[ 0.99992042  0.00241356  0.01238234  0.01624606]\n",
      " [-0.00235886  0.9999874  -0.00443028  0.01147107]\n",
      " [-0.01239287  0.00440072  0.99991352 -0.7616416 ]\n",
      " [ 0.          0.          0.          1.        ]]\n",
      "noot True False 78\n"
     ]
    },
    {
     "name": "stderr",
     "output_type": "stream",
     "text": [
      "\r",
      "                                                                               \r",
      "\r",
      " 22% (247 of 1101) |####                  | Elapsed Time: 0:04:25 ETA:  0:26:24"
     ]
    },
    {
     "name": "stdout",
     "output_type": "stream",
     "text": [
      "aap\n",
      "connected mappoints  15\n"
     ]
    },
    {
     "name": "stderr",
     "output_type": "stream",
     "text": [
      "\r",
      "                                                                               \r",
      "\r",
      " 22% (248 of 1101) |####                  | Elapsed Time: 0:04:27 ETA:  0:26:53"
     ]
    },
    {
     "name": "stdout",
     "output_type": "stream",
     "text": [
      "invalid speed keyframe 246 frame 247 speed 0.7294460124735563\n",
      " [[ 0.99991784  0.00230344  0.01260972  0.0115563 ]\n",
      " [-0.00224039  0.99998493 -0.00501189  0.01870186]\n",
      " [-0.01262107  0.00498322  0.99990793 -0.75668344]\n",
      " [ 0.          0.          0.          1.        ]]\n",
      "noot True False 70\n",
      "aap\n",
      "connected mappoints  66\n"
     ]
    },
    {
     "name": "stderr",
     "output_type": "stream",
     "text": [
      "\r",
      "                                                                               \r",
      "\r",
      " 22% (249 of 1101) |####                  | Elapsed Time: 0:04:29 ETA:  0:23:34"
     ]
    },
    {
     "name": "stdout",
     "output_type": "stream",
     "text": [
      "noot False False 99\n"
     ]
    },
    {
     "name": "stderr",
     "output_type": "stream",
     "text": [
      " 23% (254 of 1101) |#####                 | Elapsed Time: 0:04:34 ETA:  0:20:34"
     ]
    },
    {
     "name": "stdout",
     "output_type": "stream",
     "text": [
      "aap\n",
      "connected mappoints  39\n"
     ]
    },
    {
     "name": "stderr",
     "output_type": "stream",
     "text": [
      "\r",
      "                                                                               \r",
      "\r",
      " 23% (255 of 1101) |#####                 | Elapsed Time: 0:04:37 ETA:  0:22:49"
     ]
    },
    {
     "name": "stdout",
     "output_type": "stream",
     "text": [
      "invalid speed keyframe 253 frame 254 speed 3.761146462453615\n",
      " [[  9.99964619e-01   3.95463626e-04   8.40259607e-03   1.36848308e-02]\n",
      " [ -3.79116397e-04   9.99998033e-01  -1.94700122e-03   1.64859851e-02]\n",
      " [ -8.40334951e-03   1.94374677e-03   9.99962802e-01  -7.71356172e-01]\n",
      " [  0.00000000e+00   0.00000000e+00   0.00000000e+00   1.00000000e+00]]\n",
      "noot True False 150\n"
     ]
    },
    {
     "name": "stderr",
     "output_type": "stream",
     "text": [
      " 23% (258 of 1101) |#####                 | Elapsed Time: 0:04:41 ETA:  0:19:24"
     ]
    },
    {
     "name": "stdout",
     "output_type": "stream",
     "text": [
      "aap\n",
      "connected mappoints  33\n"
     ]
    },
    {
     "name": "stderr",
     "output_type": "stream",
     "text": [
      "\r",
      "                                                                               \r",
      "\r",
      " 23% (259 of 1101) |#####                 | Elapsed Time: 0:04:44 ETA:  0:21:25"
     ]
    },
    {
     "name": "stdout",
     "output_type": "stream",
     "text": [
      "invalid speed keyframe 257 frame 258 speed 2.3948031528611815\n",
      " [[ 0.99994986 -0.00783727  0.00623297  0.01753826]\n",
      " [ 0.00781808  0.99996464  0.0030979   0.01646637]\n",
      " [-0.00625703 -0.00304901  0.99997578 -0.75981004]\n",
      " [ 0.          0.          0.          1.        ]]\n",
      "noot True False 126\n"
     ]
    },
    {
     "name": "stderr",
     "output_type": "stream",
     "text": [
      " 23% (261 of 1101) |#####                 | Elapsed Time: 0:04:48 ETA:  0:23:27"
     ]
    },
    {
     "name": "stdout",
     "output_type": "stream",
     "text": [
      "aap\n",
      "connected mappoints  46\n"
     ]
    },
    {
     "name": "stderr",
     "output_type": "stream",
     "text": [
      "\r",
      "                                                                               \r",
      "\r",
      " 23% (262 of 1101) |#####                 | Elapsed Time: 0:04:52 ETA:  0:27:46"
     ]
    },
    {
     "name": "stdout",
     "output_type": "stream",
     "text": [
      "invalid speed keyframe 260 frame 261 speed 1.5172369895647706\n",
      " [[  9.99990943e-01  -3.33743381e-04   4.24292800e-03   8.87176519e-03]\n",
      " [  3.30659319e-04   9.99999681e-01   7.27551762e-04   6.79003275e-03]\n",
      " [ -4.24316946e-03  -7.26142209e-04   9.99990734e-01  -7.65378783e-01]\n",
      " [  0.00000000e+00   0.00000000e+00   0.00000000e+00   1.00000000e+00]]\n",
      "noot True False 151\n"
     ]
    },
    {
     "name": "stderr",
     "output_type": "stream",
     "text": [
      "\r",
      "                                                                               \r",
      "\r",
      " 23% (263 of 1101) |#####                 | Elapsed Time: 0:04:53 ETA:  0:28:38"
     ]
    },
    {
     "name": "stdout",
     "output_type": "stream",
     "text": [
      "aap\n",
      "connected mappoints  104\n"
     ]
    },
    {
     "name": "stderr",
     "output_type": "stream",
     "text": [
      "\r",
      "                                                                               \r",
      "\r",
      " 23% (264 of 1101) |#####                 | Elapsed Time: 0:04:57 ETA:  0:32:42"
     ]
    },
    {
     "name": "stdout",
     "output_type": "stream",
     "text": [
      "invalid speed keyframe 262 frame 263 speed 0.7746183478871508\n",
      " [[  9.99982192e-01  -5.92758109e-04   5.93845566e-03   1.31215247e-02]\n",
      " [  6.17813230e-04   9.99990913e-01  -4.21818514e-03   2.35232695e-02]\n",
      " [ -5.93590133e-03   4.22177888e-03   9.99973470e-01  -7.87870267e-01]\n",
      " [  0.00000000e+00   0.00000000e+00   0.00000000e+00   1.00000000e+00]]\n",
      "noot True False 135\n"
     ]
    },
    {
     "name": "stderr",
     "output_type": "stream",
     "text": [
      " 24% (269 of 1101) |#####                 | Elapsed Time: 0:05:05 ETA:  0:28:57"
     ]
    },
    {
     "name": "stdout",
     "output_type": "stream",
     "text": [
      "aap\n",
      "connected mappoints  76\n"
     ]
    },
    {
     "name": "stderr",
     "output_type": "stream",
     "text": [
      "\r",
      "                                                                               \r",
      "\r",
      " 24% (270 of 1101) |#####                 | Elapsed Time: 0:05:09 ETA:  0:31:29"
     ]
    },
    {
     "name": "stdout",
     "output_type": "stream",
     "text": [
      "invalid speed keyframe 268 frame 269 speed 3.800670191935052\n",
      " [[ 0.99998805 -0.00100822  0.00478273  0.00924881]\n",
      " [ 0.00101777  0.99999749 -0.00199547  0.01603742]\n",
      " [-0.00478071  0.00200032  0.99998657 -0.7859264 ]\n",
      " [ 0.          0.          0.          1.        ]]\n",
      "noot True False 123\n"
     ]
    },
    {
     "name": "stderr",
     "output_type": "stream",
     "text": [
      " 25% (276 of 1101) |#####                 | Elapsed Time: 0:05:16 ETA:  0:21:11"
     ]
    },
    {
     "name": "stdout",
     "output_type": "stream",
     "text": [
      "aap\n",
      "connected mappoints  48\n"
     ]
    },
    {
     "name": "stderr",
     "output_type": "stream",
     "text": [
      "\r",
      "                                                                               \r",
      "\r",
      " 25% (277 of 1101) |#####                 | Elapsed Time: 0:05:18 ETA:  0:22:28"
     ]
    },
    {
     "name": "stdout",
     "output_type": "stream",
     "text": [
      "invalid speed keyframe 275 frame 276 speed 4.581486266332894\n",
      " [[ 0.99998638  0.00120297  0.00507913  0.00649419]\n",
      " [-0.00122405  0.99999064  0.00414894  0.01471376]\n",
      " [-0.00507409 -0.0041551   0.99997849 -0.75930498]\n",
      " [ 0.          0.          0.          1.        ]]\n",
      "noot True False 177\n"
     ]
    },
    {
     "name": "stderr",
     "output_type": "stream",
     "text": [
      " 25% (281 of 1101) |#####                 | Elapsed Time: 0:05:22 ETA:  0:16:49"
     ]
    },
    {
     "name": "stdout",
     "output_type": "stream",
     "text": [
      "aap\n",
      "connected mappoints  41\n"
     ]
    },
    {
     "name": "stderr",
     "output_type": "stream",
     "text": [
      "\r",
      "                                                                               \r",
      "\r",
      " 25% (282 of 1101) |#####                 | Elapsed Time: 0:05:25 ETA:  0:18:12"
     ]
    },
    {
     "name": "stdout",
     "output_type": "stream",
     "text": [
      "invalid speed keyframe 280 frame 281 speed 2.9459214643390466\n",
      " [[ 0.99998962  0.00317183  0.00327234  0.00386855]\n",
      " [-0.0031415   0.99995244 -0.00923295  0.02440601]\n",
      " [-0.00330147  0.00922258  0.99995202 -0.74069009]\n",
      " [ 0.          0.          0.          1.        ]]\n",
      "noot True False 194\n"
     ]
    },
    {
     "name": "stderr",
     "output_type": "stream",
     "text": [
      " 25% (286 of 1101) |#####                 | Elapsed Time: 0:05:29 ETA:  0:17:39"
     ]
    },
    {
     "name": "stdout",
     "output_type": "stream",
     "text": [
      "aap\n",
      "connected mappoints  31\n"
     ]
    },
    {
     "name": "stderr",
     "output_type": "stream",
     "text": [
      "\r",
      "                                                                               \r",
      "\r",
      " 26% (287 of 1101) |#####                 | Elapsed Time: 0:05:32 ETA:  0:18:01"
     ]
    },
    {
     "name": "stdout",
     "output_type": "stream",
     "text": [
      "invalid speed keyframe 285 frame 286 speed 2.8340903887902447\n",
      " [[  9.99995918e-01   8.79229852e-04   2.71845950e-03   1.36742295e-02]\n",
      " [ -8.82729441e-04   9.99998783e-01   1.28641093e-03   1.10475035e-02]\n",
      " [ -2.71732514e-03  -1.28880535e-03   9.99995478e-01  -6.48512237e-01]\n",
      " [  0.00000000e+00   0.00000000e+00   0.00000000e+00   1.00000000e+00]]\n",
      "noot True False 146\n"
     ]
    },
    {
     "name": "stderr",
     "output_type": "stream",
     "text": [
      " 26% (290 of 1101) |#####                 | Elapsed Time: 0:05:35 ETA:  0:18:36"
     ]
    },
    {
     "name": "stdout",
     "output_type": "stream",
     "text": [
      "aap\n",
      "connected mappoints  45\n"
     ]
    },
    {
     "name": "stderr",
     "output_type": "stream",
     "text": [
      "\r",
      "                                                                               \r",
      "\r",
      " 26% (291 of 1101) |#####                 | Elapsed Time: 0:05:39 ETA:  0:22:07"
     ]
    },
    {
     "name": "stdout",
     "output_type": "stream",
     "text": [
      "invalid speed keyframe 289 frame 290 speed 1.9151192104335943\n",
      " [[  9.99991723e-01   2.52945513e-03   3.18692667e-03  -1.67515167e-03]\n",
      " [ -2.52809642e-03   9.99996712e-01  -4.30293078e-04   1.38906697e-02]\n",
      " [ -3.18800459e-03   4.22232658e-04   9.99994829e-01  -5.73081873e-01]\n",
      " [  0.00000000e+00   0.00000000e+00   0.00000000e+00   1.00000000e+00]]\n",
      "noot True False 166\n"
     ]
    },
    {
     "name": "stderr",
     "output_type": "stream",
     "text": [
      " 26% (297 of 1101) |#####                 | Elapsed Time: 0:05:47 ETA:  0:20:47"
     ]
    },
    {
     "name": "stdout",
     "output_type": "stream",
     "text": [
      "aap\n",
      "connected mappoints  37\n"
     ]
    },
    {
     "name": "stderr",
     "output_type": "stream",
     "text": [
      "\r",
      "                                                                               \r",
      "\r",
      " 27% (298 of 1101) |#####                 | Elapsed Time: 0:05:52 ETA:  0:25:41"
     ]
    },
    {
     "name": "stdout",
     "output_type": "stream",
     "text": [
      "invalid speed keyframe 296 frame 297 speed 3.0803196540716113\n",
      " [[  9.99981503e-01  -4.80594016e-04   6.06319205e-03   8.74160920e-03]\n",
      " [  4.88196351e-04   9.99999097e-01  -1.25243254e-03   6.97871907e-03]\n",
      " [ -6.06258466e-03   1.25536940e-03   9.99980834e-01  -4.22968026e-01]\n",
      " [  0.00000000e+00   0.00000000e+00   0.00000000e+00   1.00000000e+00]]\n",
      "noot True False 259\n"
     ]
    },
    {
     "name": "stderr",
     "output_type": "stream",
     "text": [
      " 27% (305 of 1101) |######                | Elapsed Time: 0:06:06 ETA:  0:29:00"
     ]
    },
    {
     "name": "stdout",
     "output_type": "stream",
     "text": [
      "aap\n",
      "connected mappoints  33\n"
     ]
    },
    {
     "name": "stderr",
     "output_type": "stream",
     "text": [
      "\r",
      "                                                                               \r",
      "\r",
      " 27% (306 of 1101) |######                | Elapsed Time: 0:06:14 ETA:  0:36:35"
     ]
    },
    {
     "name": "stdout",
     "output_type": "stream",
     "text": [
      "invalid speed keyframe 304 frame 305 speed 2.5786125247762017\n",
      " [[  9.99857288e-01   1.30373324e-04   1.68934131e-02   1.10490977e-02]\n",
      " [ -1.16017138e-04   9.99999631e-01  -8.50786910e-04   9.84579660e-03]\n",
      " [ -1.68935178e-02   8.48705567e-04   9.99856934e-01  -2.70997276e-01]\n",
      " [  0.00000000e+00   0.00000000e+00   0.00000000e+00   1.00000000e+00]]\n",
      "noot True False 292\n"
     ]
    },
    {
     "name": "stderr",
     "output_type": "stream",
     "text": [
      " 28% (310 of 1101) |######                | Elapsed Time: 0:06:27 ETA:  0:40:42"
     ]
    },
    {
     "name": "stdout",
     "output_type": "stream",
     "text": [
      "aap\n",
      "connected mappoints  53\n"
     ]
    },
    {
     "name": "stderr",
     "output_type": "stream",
     "text": [
      "\r",
      "                                                                               \r",
      "\r",
      " 28% (311 of 1101) |######                | Elapsed Time: 0:06:37 ETA:  0:51:01"
     ]
    },
    {
     "name": "stdout",
     "output_type": "stream",
     "text": [
      "invalid speed keyframe 309 frame 310 speed 1.0104587132362197\n",
      " [[ 0.99973762 -0.00423997  0.02251037  0.0187579 ]\n",
      " [ 0.00414075  0.99998151  0.00445255 -0.00243246]\n",
      " [-0.02252884 -0.00435817  0.99973669 -0.21334392]\n",
      " [ 0.          0.          0.          1.        ]]\n",
      "noot True False 282\n"
     ]
    },
    {
     "name": "stderr",
     "output_type": "stream",
     "text": [
      " 28% (315 of 1101) |######                | Elapsed Time: 0:06:52 ETA:  1:00:30"
     ]
    },
    {
     "name": "stdout",
     "output_type": "stream",
     "text": [
      "aap\n",
      "connected mappoints  50\n"
     ]
    },
    {
     "name": "stderr",
     "output_type": "stream",
     "text": [
      "\r",
      "                                                                               \r",
      "\r",
      " 28% (316 of 1101) |######                | Elapsed Time: 0:07:02 ETA:  1:03:31"
     ]
    },
    {
     "name": "stdout",
     "output_type": "stream",
     "text": [
      "invalid speed keyframe 314 frame 315 speed 0.8608964239810448\n",
      " [[  9.99581906e-01  -2.13028648e-04   2.89130951e-02   1.79957449e-02]\n",
      " [  2.68685232e-04   9.99998119e-01  -1.92108967e-03   4.23115161e-04]\n",
      " [ -2.89126315e-02   1.92805500e-03   9.99580083e-01  -2.20396331e-01]\n",
      " [  0.00000000e+00   0.00000000e+00   0.00000000e+00   1.00000000e+00]]\n",
      "noot True False 251\n"
     ]
    },
    {
     "name": "stderr",
     "output_type": "stream",
     "text": [
      " 29% (321 of 1101) |######                | Elapsed Time: 0:07:19 ETA:  0:54:31"
     ]
    },
    {
     "name": "stdout",
     "output_type": "stream",
     "text": [
      "invalid speed keyframe 314 frame 321 speed 1.2198740191587054\n",
      " [[  2.40665977e-315   2.37151510e-322   6.05724482e-321   2.40726656e-315]\n",
      " [  2.39674391e-315   2.37151510e-322   4.94065646e-324   8.39911598e-323]\n",
      " [  6.05724482e-321   2.40582333e-315   4.74303020e-322   6.05724482e-321]\n",
      " [  4.94065646e-324   8.39911598e-323   2.37151510e-322   4.94065646e-324]]\n",
      "aap\n",
      "connected mappoints  21\n"
     ]
    },
    {
     "name": "stderr",
     "output_type": "stream",
     "text": [
      "\r",
      "                                                                               \r",
      "\r",
      " 29% (322 of 1101) |######                | Elapsed Time: 0:07:26 ETA:  0:58:37"
     ]
    },
    {
     "name": "stdout",
     "output_type": "stream",
     "text": [
      "invalid speed keyframe 320 frame 321 speed 1.003861218497076\n",
      " [[ 0.99948562 -0.00283175  0.03194497  0.02505556]\n",
      " [ 0.0028843   0.99999456 -0.00159917  0.00622015]\n",
      " [-0.03194026  0.00169048  0.99948835 -0.2160128 ]\n",
      " [ 0.          0.          0.          1.        ]]\n",
      "noot True False 184\n"
     ]
    },
    {
     "name": "stderr",
     "output_type": "stream",
     "text": [
      " 29% (326 of 1101) |######                | Elapsed Time: 0:07:36 ETA:  0:43:30"
     ]
    },
    {
     "name": "stdout",
     "output_type": "stream",
     "text": [
      "aap\n",
      "connected mappoints  37\n"
     ]
    },
    {
     "name": "stderr",
     "output_type": "stream",
     "text": [
      "\r",
      "                                                                               \r",
      "\r",
      " 29% (327 of 1101) |######                | Elapsed Time: 0:07:42 ETA:  0:46:32"
     ]
    },
    {
     "name": "stdout",
     "output_type": "stream",
     "text": [
      "invalid speed keyframe 325 frame 326 speed 0.8706051686377096\n",
      " [[  9.99073188e-01  -2.19608240e-05   4.30437410e-02   3.35977051e-02]\n",
      " [ -4.42112208e-05   9.99998819e-01   1.53636840e-03  -3.77657991e-03]\n",
      " [ -4.30437239e-02  -1.53684749e-03   9.99072007e-01  -2.91176455e-01]\n",
      " [  0.00000000e+00   0.00000000e+00   0.00000000e+00   1.00000000e+00]]\n",
      "noot True False 205\n"
     ]
    },
    {
     "name": "stderr",
     "output_type": "stream",
     "text": [
      " 30% (331 of 1101) |######                | Elapsed Time: 0:07:50 ETA:  0:40:17"
     ]
    },
    {
     "name": "stdout",
     "output_type": "stream",
     "text": [
      "aap\n",
      "connected mappoints  36\n"
     ]
    },
    {
     "name": "stderr",
     "output_type": "stream",
     "text": [
      "\r",
      "                                                                               \r",
      "\r",
      " 30% (332 of 1101) |######                | Elapsed Time: 0:07:55 ETA:  0:37:46"
     ]
    },
    {
     "name": "stdout",
     "output_type": "stream",
     "text": [
      "invalid speed keyframe 330 frame 331 speed 1.1433905357674088\n",
      " [[  9.98617091e-01   6.40053714e-04   5.25689642e-02   2.71576851e-02]\n",
      " [ -5.55044848e-04   9.99998515e-01  -1.63167552e-03   5.94421730e-03]\n",
      " [ -5.25699305e-02   1.60024093e-03   9.98615963e-01  -3.63995247e-01]\n",
      " [  0.00000000e+00   0.00000000e+00   0.00000000e+00   1.00000000e+00]]\n",
      "noot True False 154\n"
     ]
    },
    {
     "name": "stderr",
     "output_type": "stream",
     "text": [
      " 30% (334 of 1101) |######                | Elapsed Time: 0:07:59 ETA:  0:35:57"
     ]
    },
    {
     "name": "stdout",
     "output_type": "stream",
     "text": [
      "invalid speed keyframe 330 frame 334 speed 1.1203534434894022\n",
      " [[  6.93549551e-310   2.37151510e-322   6.05724482e-321   2.53257252e-315]\n",
      " [  2.53019563e-315   2.37151510e-322   4.94065646e-324   8.39911598e-323]\n",
      " [  6.05724482e-321   2.53231054e-315   4.74303020e-322   6.05724482e-321]\n",
      " [  4.94065646e-324   8.39911598e-323   2.37151510e-322   4.94065646e-324]]\n",
      "aap\n",
      "connected mappoints  29\n"
     ]
    },
    {
     "name": "stderr",
     "output_type": "stream",
     "text": [
      "\r",
      "                                                                               \r",
      "\r",
      " 30% (335 of 1101) |######                | Elapsed Time: 0:08:04 ETA:  0:39:03"
     ]
    },
    {
     "name": "stdout",
     "output_type": "stream",
     "text": [
      "invalid speed keyframe 333 frame 334 speed 0.7184173197974684\n",
      " [[ 0.99853281  0.00294677  0.05406986  0.02337068]\n",
      " [-0.00288118  0.99999502 -0.00129095  0.00393053]\n",
      " [-0.0540734   0.00113327  0.99853632 -0.40193612]\n",
      " [ 0.          0.          0.          1.        ]]\n",
      "noot True False 120\n"
     ]
    },
    {
     "name": "stderr",
     "output_type": "stream",
     "text": [
      " 30% (336 of 1101) |######                | Elapsed Time: 0:08:06 ETA:  0:37:56../src/coords.py:10: RuntimeWarning: invalid value encountered in double_scalars\n",
      "  x = coords[0] * CAMERA_FX / z + CAMERA_CX\n",
      "../src/coords.py:11: RuntimeWarning: invalid value encountered in double_scalars\n",
      "  y = coords[1] * CAMERA_FY / z + CAMERA_CY\n"
     ]
    },
    {
     "name": "stdout",
     "output_type": "stream",
     "text": [
      "invalid speed keyframe 333 frame 336 speed 0.8160619660528002\n",
      " [[ 0.  0.  0.  0.]\n",
      " [ 0.  0.  0.  0.]\n",
      " [ 0.  0.  0.  0.]\n",
      " [ 0.  0.  0.  0.]]\n",
      "aap\n",
      "connected mappoints  27\n"
     ]
    },
    {
     "name": "stderr",
     "output_type": "stream",
     "text": [
      "\r",
      "                                                                               \r",
      "\r",
      " 30% (337 of 1101) |######                | Elapsed Time: 0:08:10 ETA:  0:35:47"
     ]
    },
    {
     "name": "stdout",
     "output_type": "stream",
     "text": [
      "invalid speed keyframe 335 frame 336 speed 0.3772213065165047\n",
      " [[  9.98641918e-01   5.27399859e-04   5.20964580e-02   3.05816438e-02]\n",
      " [ -4.75525173e-04   9.99999379e-01  -1.00813305e-03  -3.73810993e-04]\n",
      " [ -5.20969573e-02   9.81990741e-04   9.98641549e-01  -4.38840660e-01]\n",
      " [  0.00000000e+00   0.00000000e+00   0.00000000e+00   1.00000000e+00]]\n",
      "noot True False 130\n"
     ]
    },
    {
     "name": "stderr",
     "output_type": "stream",
     "text": [
      "\r",
      "                                                                               \r",
      "\r",
      " 30% (338 of 1101) |######                | Elapsed Time: 0:08:11 ETA:  0:34:41"
     ]
    },
    {
     "name": "stdout",
     "output_type": "stream",
     "text": [
      "aap\n",
      "connected mappoints  53\n"
     ]
    },
    {
     "name": "stderr",
     "output_type": "stream",
     "text": [
      "\r",
      "                                                                               \r",
      "\r",
      " 30% (339 of 1101) |######                | Elapsed Time: 0:08:15 ETA:  0:36:10"
     ]
    },
    {
     "name": "stdout",
     "output_type": "stream",
     "text": [
      "invalid speed keyframe 337 frame 338 speed 0.3951730781137237\n",
      " [[  9.98734144e-01   3.82463389e-03   5.01545802e-02   2.64893239e-02]\n",
      " [ -3.79370047e-03   9.99992550e-01  -7.11943247e-04   5.55768283e-03]\n",
      " [ -5.01569295e-02   5.20770575e-04   9.98741213e-01  -4.67505755e-01]\n",
      " [  0.00000000e+00   0.00000000e+00   0.00000000e+00   1.00000000e+00]]\n",
      "noot True False 73\n"
     ]
    },
    {
     "name": "stderr",
     "output_type": "stream",
     "text": [
      " 30% (341 of 1101) |######                | Elapsed Time: 0:08:17 ETA:  0:33:44"
     ]
    },
    {
     "name": "stdout",
     "output_type": "stream",
     "text": [
      "invalid speed keyframe 337 frame 341 speed 0.13337293962082164\n",
      " [[ 0.98214929  0.01524038  0.18748469  0.00310244]\n",
      " [-0.01223897  0.99977791 -0.01715605  0.41971268]\n",
      " [-0.18770452  0.01455518  0.98211769 -1.37062898]\n",
      " [ 0.          0.          0.          1.        ]]\n",
      "aap\n",
      "connected mappoints  91\n"
     ]
    },
    {
     "name": "stderr",
     "output_type": "stream",
     "text": [
      "\r",
      "                                                                               \r",
      "\r",
      " 31% (342 of 1101) |######                | Elapsed Time: 0:08:19 ETA:  0:30:25"
     ]
    },
    {
     "name": "stdout",
     "output_type": "stream",
     "text": [
      "invalid speed keyframe 340 frame 341 speed 1.0140031389774469\n",
      " [[  9.98988870e-01   2.03439783e-03   4.49121207e-02   4.12390045e-02]\n",
      " [ -2.02204884e-03   9.99997904e-01  -3.20387671e-04  -5.58758250e-03]\n",
      " [ -4.49126784e-02   2.29249216e-04   9.98990890e-01  -4.89998780e-01]\n",
      " [  0.00000000e+00   0.00000000e+00   0.00000000e+00   1.00000000e+00]]\n",
      "noot True False 51\n"
     ]
    },
    {
     "name": "stderr",
     "output_type": "stream",
     "text": [
      " 31% (346 of 1101) |######                | Elapsed Time: 0:08:22 ETA:  0:21:20"
     ]
    },
    {
     "name": "stdout",
     "output_type": "stream",
     "text": [
      "aap\n",
      "connected mappoints  31\n"
     ]
    },
    {
     "name": "stderr",
     "output_type": "stream",
     "text": [
      "\r",
      "                                                                               \r",
      "\r",
      " 31% (347 of 1101) |######                | Elapsed Time: 0:08:25 ETA:  0:18:28"
     ]
    },
    {
     "name": "stdout",
     "output_type": "stream",
     "text": [
      "invalid speed keyframe 345 frame 346 speed 1.9986495832525772\n",
      " [[  9.99777197e-01  -1.73336630e-03   2.10369344e-02   2.55665657e-02]\n",
      " [  1.71654423e-03   9.99998192e-01   8.17675635e-04   5.08249762e-03]\n",
      " [ -2.10383137e-02  -7.81382626e-04   9.99778365e-01  -6.11538312e-01]\n",
      " [  0.00000000e+00   0.00000000e+00   0.00000000e+00   1.00000000e+00]]\n",
      "noot True False 155\n"
     ]
    },
    {
     "name": "stderr",
     "output_type": "stream",
     "text": [
      " 32% (353 of 1101) |#######               | Elapsed Time: 0:08:29 ETA:  0:10:39"
     ]
    },
    {
     "name": "stdout",
     "output_type": "stream",
     "text": [
      "aap\n",
      "connected mappoints  28\n"
     ]
    },
    {
     "name": "stderr",
     "output_type": "stream",
     "text": [
      "\r",
      "                                                                               \r",
      "\r",
      " 32% (354 of 1101) |#######               | Elapsed Time: 0:08:31 ETA:  0:12:26"
     ]
    },
    {
     "name": "stdout",
     "output_type": "stream",
     "text": [
      "invalid speed keyframe 352 frame 353 speed 3.9944961048797643\n",
      " [[  9.99984364e-01   4.70423629e-04   5.57225653e-03   1.44076391e-02]\n",
      " [ -4.68118580e-04   9.99999804e-01  -4.14962150e-04   9.13122495e-03]\n",
      " [ -5.57245065e-03   4.12347185e-04   9.99984389e-01  -7.33549424e-01]\n",
      " [  0.00000000e+00   0.00000000e+00   0.00000000e+00   1.00000000e+00]]\n",
      "noot True False 145\n"
     ]
    },
    {
     "name": "stderr",
     "output_type": "stream",
     "text": [
      " 32% (357 of 1101) |#######               | Elapsed Time: 0:08:33 ETA:  0:10:42"
     ]
    },
    {
     "name": "stdout",
     "output_type": "stream",
     "text": [
      "invalid speed keyframe 352 frame 357 speed 2.2613274738555416\n",
      " [[ 0.99991029 -0.008622    0.01025008  0.50404924]\n",
      " [ 0.00863847  0.99996146 -0.00156408  0.07625768]\n",
      " [-0.0102362   0.00165249  0.99994624 -0.80845962]\n",
      " [ 0.          0.          0.          1.        ]]\n",
      "aap\n",
      "connected mappoints  34\n"
     ]
    },
    {
     "name": "stderr",
     "output_type": "stream",
     "text": [
      "\r",
      "                                                                               \r",
      "\r",
      " 32% (358 of 1101) |#######               | Elapsed Time: 0:08:35 ETA:  0:12:27"
     ]
    },
    {
     "name": "stdout",
     "output_type": "stream",
     "text": [
      "invalid speed keyframe 356 frame 357 speed 2.273897266505804\n",
      " [[  9.99999445e-01   2.93995328e-04   1.01157676e-03   1.04359613e-02]\n",
      " [ -2.94413315e-04   9.99999871e-01   4.13078746e-04   1.51250057e-02]\n",
      " [ -1.01145519e-03  -4.13376339e-04   9.99999403e-01  -7.95889831e-01]\n",
      " [  0.00000000e+00   0.00000000e+00   0.00000000e+00   1.00000000e+00]]\n",
      "noot True False 124\n"
     ]
    },
    {
     "name": "stderr",
     "output_type": "stream",
     "text": [
      " 32% (361 of 1101) |#######               | Elapsed Time: 0:08:38 ETA:  0:12:37"
     ]
    },
    {
     "name": "stdout",
     "output_type": "stream",
     "text": [
      "aap\n",
      "connected mappoints  36\n"
     ]
    },
    {
     "name": "stderr",
     "output_type": "stream",
     "text": [
      "\r",
      "                                                                               \r",
      "\r",
      " 32% (362 of 1101) |#######               | Elapsed Time: 0:08:40 ETA:  0:14:14"
     ]
    },
    {
     "name": "stdout",
     "output_type": "stream",
     "text": [
      "invalid speed keyframe 360 frame 361 speed 2.4249035222634774\n",
      " [[  9.99998697e-01  -1.55131948e-03   4.46963088e-04   1.90659459e-02]\n",
      " [  1.55251583e-03   9.99995180e-01  -2.68882476e-03   1.89590017e-02]\n",
      " [ -4.42789707e-04   2.68951518e-03   9.99996285e-01  -8.60105344e-01]\n",
      " [  0.00000000e+00   0.00000000e+00   0.00000000e+00   1.00000000e+00]]\n",
      "noot True False 103\n"
     ]
    },
    {
     "name": "stderr",
     "output_type": "stream",
     "text": [
      " 33% (365 of 1101) |#######               | Elapsed Time: 0:08:41 ETA:  0:11:44"
     ]
    },
    {
     "name": "stdout",
     "output_type": "stream",
     "text": [
      "aap\n",
      "connected mappoints  23\n"
     ]
    },
    {
     "name": "stderr",
     "output_type": "stream",
     "text": [
      "\r",
      "                                                                               \r",
      "\r",
      " 33% (366 of 1101) |#######               | Elapsed Time: 0:08:43 ETA:  0:13:18"
     ]
    },
    {
     "name": "stdout",
     "output_type": "stream",
     "text": [
      "invalid speed keyframe 364 frame 365 speed 2.4456658284410864\n",
      " [[  9.99998950e-01   1.19139331e-03   8.24866904e-04   7.75981939e-03]\n",
      " [ -1.19242869e-03   9.99998500e-01   1.25585602e-03   1.33930478e-02]\n",
      " [ -8.23369449e-04  -1.25683829e-03   9.99998871e-01  -9.31240406e-01]\n",
      " [  0.00000000e+00   0.00000000e+00   0.00000000e+00   1.00000000e+00]]\n",
      "noot True False 99\n"
     ]
    },
    {
     "name": "stderr",
     "output_type": "stream",
     "text": [
      "\r",
      "                                                                               \r",
      "\r",
      " 33% (367 of 1101) |#######               | Elapsed Time: 0:08:44 ETA:  0:13:13"
     ]
    },
    {
     "name": "stdout",
     "output_type": "stream",
     "text": [
      "aap\n",
      "connected mappoints  47\n"
     ]
    },
    {
     "name": "stderr",
     "output_type": "stream",
     "text": [
      "\r",
      "                                                                               \r",
      "\r",
      " 33% (368 of 1101) |#######               | Elapsed Time: 0:08:46 ETA:  0:12:59"
     ]
    },
    {
     "name": "stdout",
     "output_type": "stream",
     "text": [
      "invalid speed keyframe 366 frame 367 speed 0.9092560325004229\n",
      " [[  9.99995433e-01   2.74537502e-03   1.26346519e-03   6.47465905e-03]\n",
      " [ -2.74640682e-03   9.99995896e-01   8.15630723e-04   1.50068990e-02]\n",
      " [ -1.26122079e-03  -8.19096988e-04   9.99998869e-01  -9.48772625e-01]\n",
      " [  0.00000000e+00   0.00000000e+00   0.00000000e+00   1.00000000e+00]]\n",
      "noot True False 106\n"
     ]
    },
    {
     "name": "stderr",
     "output_type": "stream",
     "text": [
      "\r",
      "                                                                               \r",
      "\r",
      " 33% (369 of 1101) |#######               | Elapsed Time: 0:08:47 ETA:  0:12:53"
     ]
    },
    {
     "name": "stdout",
     "output_type": "stream",
     "text": [
      "aap\n",
      "connected mappoints  42\n"
     ]
    },
    {
     "name": "stderr",
     "output_type": "stream",
     "text": [
      "\r",
      "                                                                               \r",
      "\r",
      " 33% (370 of 1101) |#######               | Elapsed Time: 0:08:49 ETA:  0:14:51"
     ]
    },
    {
     "name": "stdout",
     "output_type": "stream",
     "text": [
      "invalid speed keyframe 368 frame 369 speed 0.9572335520102419\n",
      " [[  9.99999220e-01  -2.48338323e-04   1.22444892e-03   1.82470932e-02]\n",
      " [  2.42798222e-04   9.99989743e-01   4.52264171e-03   6.56342829e-03]\n",
      " [ -1.22555951e-03  -4.52234089e-03   9.99989023e-01  -9.52679434e-01]\n",
      " [  0.00000000e+00   0.00000000e+00   0.00000000e+00   1.00000000e+00]]\n",
      "noot True False 99\n"
     ]
    },
    {
     "name": "stderr",
     "output_type": "stream",
     "text": [
      "\r",
      "                                                                               \r",
      "\r",
      " 33% (371 of 1101) |#######               | Elapsed Time: 0:08:50 ETA:  0:15:06"
     ]
    },
    {
     "name": "stdout",
     "output_type": "stream",
     "text": [
      "aap\n",
      "connected mappoints  47\n"
     ]
    },
    {
     "name": "stderr",
     "output_type": "stream",
     "text": [
      "\r",
      "                                                                               \r",
      "\r",
      " 33% (372 of 1101) |#######               | Elapsed Time: 0:08:53 ETA:  0:16:17"
     ]
    },
    {
     "name": "stdout",
     "output_type": "stream",
     "text": [
      "invalid speed keyframe 370 frame 371 speed 0.9269944186675159\n",
      " [[  9.99996888e-01  -2.46551080e-03  -3.81840831e-04   2.17574291e-02]\n",
      " [  2.46572970e-03   9.99996795e-01   5.73853364e-04   1.55584887e-02]\n",
      " [  3.80424765e-04  -5.74793094e-04   9.99999762e-01  -9.88063258e-01]\n",
      " [  0.00000000e+00   0.00000000e+00   0.00000000e+00   1.00000000e+00]]\n",
      "noot True False 136\n"
     ]
    },
    {
     "name": "stderr",
     "output_type": "stream",
     "text": [
      " 34% (375 of 1101) |#######               | Elapsed Time: 0:08:56 ETA:  0:17:57"
     ]
    },
    {
     "name": "stdout",
     "output_type": "stream",
     "text": [
      "invalid speed keyframe 370 frame 375 speed 2.3972441073558954\n",
      " [[ 0.99980094 -0.019577   -0.00385007  0.38862691]\n",
      " [ 0.01954825  0.99978176 -0.00736903 -0.20839232]\n",
      " [ 0.00399349  0.00729231  0.99996544 -1.58344265]\n",
      " [ 0.          0.          0.          1.        ]]\n",
      "aap\n",
      "connected mappoints  34\n"
     ]
    },
    {
     "name": "stderr",
     "output_type": "stream",
     "text": [
      "\r",
      "                                                                               \r",
      "\r",
      " 34% (376 of 1101) |#######               | Elapsed Time: 0:08:59 ETA:  0:18:45"
     ]
    },
    {
     "name": "stdout",
     "output_type": "stream",
     "text": [
      "invalid speed keyframe 374 frame 375 speed 2.984056193348214\n",
      " [[  9.99999146e-01   1.30365217e-03   9.04380056e-05   1.81367187e-02]\n",
      " [ -1.30347871e-03   9.99997360e-01  -1.89226765e-03   1.97947483e-02]\n",
      " [ -9.29046257e-05   1.89214815e-03   9.99998206e-01  -9.96630562e-01]\n",
      " [  0.00000000e+00   0.00000000e+00   0.00000000e+00   1.00000000e+00]]\n",
      "noot True False 114\n"
     ]
    },
    {
     "name": "stderr",
     "output_type": "stream",
     "text": [
      " 34% (378 of 1101) |#######               | Elapsed Time: 0:09:01 ETA:  0:17:55"
     ]
    },
    {
     "name": "stdout",
     "output_type": "stream",
     "text": [
      "aap\n",
      "connected mappoints  46\n"
     ]
    },
    {
     "name": "stderr",
     "output_type": "stream",
     "text": [
      "\r",
      "                                                                               \r",
      "\r",
      " 34% (379 of 1101) |#######               | Elapsed Time: 0:09:03 ETA:  0:19:48"
     ]
    },
    {
     "name": "stdout",
     "output_type": "stream",
     "text": [
      "invalid speed keyframe 377 frame 378 speed 2.0648295879937097\n",
      " [[  9.99999005e-01  -1.38349286e-03   2.74958045e-04   1.96799177e-02]\n",
      " [  1.38367475e-03   9.99998823e-01  -6.62408229e-04   2.82771387e-02]\n",
      " [ -2.74041284e-04   6.62788023e-04   9.99999743e-01  -9.90422021e-01]\n",
      " [  0.00000000e+00   0.00000000e+00   0.00000000e+00   1.00000000e+00]]\n",
      "noot True False 82\n"
     ]
    },
    {
     "name": "stderr",
     "output_type": "stream",
     "text": [
      " 34% (382 of 1101) |#######               | Elapsed Time: 0:09:05 ETA:  0:14:27"
     ]
    },
    {
     "name": "stdout",
     "output_type": "stream",
     "text": [
      "aap\n",
      "connected mappoints  23\n"
     ]
    },
    {
     "name": "stderr",
     "output_type": "stream",
     "text": [
      "\r",
      "                                                                               \r",
      "\r",
      " 34% (383 of 1101) |#######               | Elapsed Time: 0:09:07 ETA:  0:15:44"
     ]
    },
    {
     "name": "stdout",
     "output_type": "stream",
     "text": [
      "invalid speed keyframe 381 frame 382 speed 2.954868437361458\n",
      " [[  9.99999694e-01   3.40495885e-05   7.81162820e-04   9.78067377e-03]\n",
      " [ -3.45330136e-05   9.99999808e-01   6.18848032e-04   1.68751806e-02]\n",
      " [ -7.81141599e-04  -6.18874819e-04   9.99999503e-01  -1.00389414e+00]\n",
      " [  0.00000000e+00   0.00000000e+00   0.00000000e+00   1.00000000e+00]]\n",
      "noot True False 114\n"
     ]
    },
    {
     "name": "stderr",
     "output_type": "stream",
     "text": [
      " 35% (386 of 1101) |#######               | Elapsed Time: 0:09:09 ETA:  0:12:34"
     ]
    },
    {
     "name": "stdout",
     "output_type": "stream",
     "text": [
      "aap\n",
      "connected mappoints  33\n"
     ]
    },
    {
     "name": "stderr",
     "output_type": "stream",
     "text": [
      "\r",
      "                                                                               \r",
      "\r",
      " 35% (387 of 1101) |#######               | Elapsed Time: 0:09:12 ETA:  0:14:02"
     ]
    },
    {
     "name": "stdout",
     "output_type": "stream",
     "text": [
      "invalid speed keyframe 385 frame 386 speed 3.1545104640203148\n",
      " [[  9.99998295e-01  -3.32907949e-04   1.81640770e-03   3.27901745e-03]\n",
      " [  3.31813555e-04   9.99999763e-01   6.02772881e-04   1.94948961e-02]\n",
      " [ -1.81660793e-03  -6.02169144e-04   9.99998169e-01  -9.82746633e-01]\n",
      " [  0.00000000e+00   0.00000000e+00   0.00000000e+00   1.00000000e+00]]\n",
      "noot True False 100\n"
     ]
    },
    {
     "name": "stderr",
     "output_type": "stream",
     "text": [
      " 35% (389 of 1101) |#######               | Elapsed Time: 0:09:13 ETA:  0:11:46"
     ]
    },
    {
     "name": "stdout",
     "output_type": "stream",
     "text": [
      "invalid speed keyframe 385 frame 389 speed 0.8139033161574325\n",
      " [[  9.99548366e-01   2.98391547e-02   3.56215851e-03   4.19969793e-01]\n",
      " [ -2.98459891e-02   9.99552739e-01   1.88113273e-03  -2.24157206e-01]\n",
      " [ -3.50443388e-03  -1.98659929e-03   9.99991886e-01  -2.19200710e+00]\n",
      " [  0.00000000e+00   0.00000000e+00   0.00000000e+00   1.00000000e+00]]\n",
      "aap\n",
      "connected mappoints  28\n"
     ]
    },
    {
     "name": "stderr",
     "output_type": "stream",
     "text": [
      "\r",
      "                                                                               \r",
      "\r",
      " 35% (390 of 1101) |#######               | Elapsed Time: 0:09:15 ETA:  0:13:01"
     ]
    },
    {
     "name": "stdout",
     "output_type": "stream",
     "text": [
      "invalid speed keyframe 388 frame 389 speed 2.0080606308668894\n",
      " [[  9.99998738e-01  -1.49981051e-03   5.23601538e-04   6.58257582e-03]\n",
      " [  1.49975351e-03   9.99998869e-01   1.09239175e-04   2.01342306e-02]\n",
      " [ -5.23764784e-04  -1.08453764e-04   9.99999857e-01  -9.97849780e-01]\n",
      " [  0.00000000e+00   0.00000000e+00   0.00000000e+00   1.00000000e+00]]\n",
      "noot True False 73\n"
     ]
    },
    {
     "name": "stderr",
     "output_type": "stream",
     "text": [
      "\r",
      "                                                                               \r",
      "\r",
      " 35% (391 of 1101) |#######               | Elapsed Time: 0:09:15 ETA:  0:12:54"
     ]
    },
    {
     "name": "stdout",
     "output_type": "stream",
     "text": [
      "aap\n",
      "connected mappoints  29\n"
     ]
    },
    {
     "name": "stderr",
     "output_type": "stream",
     "text": [
      "\r",
      "                                                                               \r",
      "\r",
      " 35% (392 of 1101) |#######               | Elapsed Time: 0:09:17 ETA:  0:13:52"
     ]
    },
    {
     "name": "stdout",
     "output_type": "stream",
     "text": [
      "invalid speed keyframe 390 frame 391 speed 0.990678269177944\n",
      " [[  9.99998263e-01  -1.54235011e-03  -1.04692783e-03   1.00520322e-02]\n",
      " [  1.54226344e-03   9.99998807e-01  -8.35812447e-05   2.91277821e-02]\n",
      " [  1.04705549e-03   8.19664610e-05   9.99999448e-01  -9.99218526e-01]\n",
      " [  0.00000000e+00   0.00000000e+00   0.00000000e+00   1.00000000e+00]]\n",
      "noot True False 35\n",
      "aap\n",
      "connected mappoints  31\n"
     ]
    },
    {
     "name": "stderr",
     "output_type": "stream",
     "text": [
      "\r",
      "                                                                               \r",
      "\r",
      " 35% (393 of 1101) |#######               | Elapsed Time: 0:09:18 ETA:  0:13:14"
     ]
    },
    {
     "name": "stdout",
     "output_type": "stream",
     "text": [
      "invalid speed keyframe 391 frame 392 speed 0.017313786377072038\n",
      " [[  9.99998775e-01  -7.94073320e-04  -1.34915666e-03   1.74829663e-02]\n",
      " [  7.95548457e-04   9.99999086e-01   1.09319292e-03   2.38871227e-02]\n",
      " [  1.34828735e-03  -1.09426490e-03   9.99998492e-01  -9.81904740e-01]\n",
      " [  0.00000000e+00   0.00000000e+00   0.00000000e+00   1.00000000e+00]]\n",
      "noot True False 64\n",
      "aap\n",
      "connected mappoints  52\n"
     ]
    },
    {
     "name": "stderr",
     "output_type": "stream",
     "text": [
      "\r",
      "                                                                               \r",
      "\r",
      " 35% (394 of 1101) |#######               | Elapsed Time: 0:09:20 ETA:  0:14:20"
     ]
    },
    {
     "name": "stdout",
     "output_type": "stream",
     "text": [
      "noot False False 59\n"
     ]
    },
    {
     "name": "stderr",
     "output_type": "stream",
     "text": [
      "\r",
      "                                                                               \r",
      "\r",
      " 35% (395 of 1101) |#######               | Elapsed Time: 0:09:21 ETA:  0:14:01"
     ]
    },
    {
     "name": "stdout",
     "output_type": "stream",
     "text": [
      "aap\n",
      "connected mappoints  37\n"
     ]
    },
    {
     "name": "stderr",
     "output_type": "stream",
     "text": [
      "\r",
      "                                                                               \r",
      "\r",
      " 35% (396 of 1101) |#######               | Elapsed Time: 0:09:23 ETA:  0:15:29"
     ]
    },
    {
     "name": "stdout",
     "output_type": "stream",
     "text": [
      "invalid speed keyframe 394 frame 395 speed 0.9835010201415583\n",
      " [[ 0.99999777  0.00175793 -0.001167    0.00977263]\n",
      " [-0.00176006  0.99999679 -0.00182265  0.0222922 ]\n",
      " [ 0.00116379  0.0018247   0.99999766 -0.98746554]\n",
      " [ 0.          0.          0.          1.        ]]\n",
      "noot True False 95\n"
     ]
    },
    {
     "name": "stderr",
     "output_type": "stream",
     "text": [
      " 36% (400 of 1101) |#######               | Elapsed Time: 0:09:25 ETA:  0:12:16"
     ]
    },
    {
     "name": "stdout",
     "output_type": "stream",
     "text": [
      "invalid speed keyframe 394 frame 400 speed 0.9204615754248318\n",
      " [[ 0.99940783 -0.02487729 -0.02377186  2.63985422]\n",
      " [ 0.02452207  0.99958495 -0.01511949  1.7448555 ]\n",
      " [ 0.02413812  0.0145276   0.99960307 -4.22838739]\n",
      " [ 0.          0.          0.          1.        ]]\n",
      "aap\n",
      "connected mappoints  28\n"
     ]
    },
    {
     "name": "stderr",
     "output_type": "stream",
     "text": [
      "\r",
      "                                                                               \r",
      "\r",
      " 36% (401 of 1101) |########              | Elapsed Time: 0:09:28 ETA:  0:14:42"
     ]
    },
    {
     "name": "stdout",
     "output_type": "stream",
     "text": [
      "invalid speed keyframe 399 frame 400 speed 4.157084592783082\n",
      " [[  9.99999826e-01  -5.88182788e-04  -5.50013266e-05   1.84925133e-02]\n",
      " [  5.88435498e-04   9.99988719e-01   4.71339301e-03   1.46726716e-02]\n",
      " [  5.22283695e-05  -4.71342455e-03   9.99988890e-01  -9.91764373e-01]\n",
      " [  0.00000000e+00   0.00000000e+00   0.00000000e+00   1.00000000e+00]]\n",
      "noot True False 123\n"
     ]
    },
    {
     "name": "stderr",
     "output_type": "stream",
     "text": [
      " 36% (403 of 1101) |########              | Elapsed Time: 0:09:30 ETA:  0:12:59"
     ]
    },
    {
     "name": "stdout",
     "output_type": "stream",
     "text": [
      "aap\n",
      "connected mappoints  39\n"
     ]
    },
    {
     "name": "stderr",
     "output_type": "stream",
     "text": [
      "\r",
      "                                                                               \r",
      "\r",
      " 36% (404 of 1101) |########              | Elapsed Time: 0:09:32 ETA:  0:14:19"
     ]
    },
    {
     "name": "stdout",
     "output_type": "stream",
     "text": [
      "invalid speed keyframe 402 frame 403 speed 2.013684099832951\n",
      " [[  9.99999152e-01   1.28582181e-03   2.07193619e-04   1.53970033e-02]\n",
      " [ -1.28554015e-03   9.99998257e-01  -1.35385529e-03   2.59896467e-02]\n",
      " [ -2.08934075e-04   1.35358778e-03   9.99999062e-01  -9.97131434e-01]\n",
      " [  0.00000000e+00   0.00000000e+00   0.00000000e+00   1.00000000e+00]]\n",
      "noot True False 109\n"
     ]
    },
    {
     "name": "stderr",
     "output_type": "stream",
     "text": [
      "\r",
      "                                                                               \r",
      "\r",
      " 36% (405 of 1101) |########              | Elapsed Time: 0:09:33 ETA:  0:14:40"
     ]
    },
    {
     "name": "stdout",
     "output_type": "stream",
     "text": [
      "aap\n",
      "connected mappoints  53\n"
     ]
    },
    {
     "name": "stderr",
     "output_type": "stream",
     "text": [
      "\r",
      "                                                                               \r",
      "\r",
      " 36% (406 of 1101) |########              | Elapsed Time: 0:09:35 ETA:  0:14:51"
     ]
    },
    {
     "name": "stdout",
     "output_type": "stream",
     "text": [
      "invalid speed keyframe 404 frame 405 speed 1.0238688572967785\n",
      " [[  9.99999722e-01   4.54930576e-05   7.43633597e-04   1.50998591e-02]\n",
      " [ -4.66707133e-05   9.99998745e-01   1.58370985e-03   2.12161962e-02]\n",
      " [ -7.43560616e-04  -1.58374412e-03   9.99998469e-01  -9.79678794e-01]\n",
      " [  0.00000000e+00   0.00000000e+00   0.00000000e+00   1.00000000e+00]]\n",
      "noot True False 114\n"
     ]
    },
    {
     "name": "stderr",
     "output_type": "stream",
     "text": [
      " 37% (408 of 1101) |########              | Elapsed Time: 0:09:37 ETA:  0:14:57"
     ]
    },
    {
     "name": "stdout",
     "output_type": "stream",
     "text": [
      "aap\n",
      "connected mappoints  38\n"
     ]
    },
    {
     "name": "stderr",
     "output_type": "stream",
     "text": [
      "\r",
      "                                                                               \r",
      "\r",
      " 37% (409 of 1101) |########              | Elapsed Time: 0:09:39 ETA:  0:16:51"
     ]
    },
    {
     "name": "stdout",
     "output_type": "stream",
     "text": [
      "invalid speed keyframe 407 frame 408 speed 1.9651632564981996\n",
      " [[  9.99999808e-01   2.57458233e-04   5.64495678e-04   1.53329616e-02]\n",
      " [ -2.55700419e-04   9.99995126e-01  -3.11181801e-03   2.86733354e-02]\n",
      " [ -5.65294090e-04   3.11167307e-03   9.99994999e-01  -9.85390265e-01]\n",
      " [  0.00000000e+00   0.00000000e+00   0.00000000e+00   1.00000000e+00]]\n",
      "noot True False 116\n"
     ]
    },
    {
     "name": "stderr",
     "output_type": "stream",
     "text": [
      " 37% (412 of 1101) |########              | Elapsed Time: 0:09:42 ETA:  0:14:48"
     ]
    },
    {
     "name": "stdout",
     "output_type": "stream",
     "text": [
      "invalid speed keyframe 407 frame 412 speed 4.111145138117947\n",
      " [[  3.01215311e-315   2.37151510e-322   6.05724482e-321   3.01862481e-315]\n",
      " [  3.03372204e-315   2.37151510e-322   4.94065646e-324   8.39911598e-323]\n",
      " [  6.05724482e-321   3.01952378e-315   4.74303020e-322   6.05724482e-321]\n",
      " [  4.94065646e-324   8.39911598e-323   2.37151510e-322   4.94065646e-324]]\n",
      "aap\n",
      "connected mappoints  44\n"
     ]
    },
    {
     "name": "stderr",
     "output_type": "stream",
     "text": [
      "\r",
      "                                                                               \r",
      "\r",
      " 37% (413 of 1101) |########              | Elapsed Time: 0:09:44 ETA:  0:16:47"
     ]
    },
    {
     "name": "stdout",
     "output_type": "stream",
     "text": [
      "invalid speed keyframe 411 frame 412 speed 3.148941578281705\n",
      " [[  9.99997510e-01  -2.23043934e-03  -7.46398705e-05   1.44488884e-02]\n",
      " [  2.23049830e-03   9.99997193e-01   7.99473054e-04   2.14947533e-02]\n",
      " [  7.28564848e-05  -7.99637548e-04   9.99999678e-01  -9.62203560e-01]\n",
      " [  0.00000000e+00   0.00000000e+00   0.00000000e+00   1.00000000e+00]]\n",
      "noot True False 138\n"
     ]
    },
    {
     "name": "stderr",
     "output_type": "stream",
     "text": [
      " 37% (417 of 1101) |########              | Elapsed Time: 0:09:48 ETA:  0:13:09"
     ]
    },
    {
     "name": "stdout",
     "output_type": "stream",
     "text": [
      "aap\n",
      "connected mappoints  27\n"
     ]
    },
    {
     "name": "stderr",
     "output_type": "stream",
     "text": [
      "\r",
      "                                                                               \r",
      "\r",
      " 37% (418 of 1101) |########              | Elapsed Time: 0:09:50 ETA:  0:14:47"
     ]
    },
    {
     "name": "stdout",
     "output_type": "stream",
     "text": [
      "invalid speed keyframe 416 frame 417 speed 4.118352511906512\n",
      " [[  9.99999506e-01   3.81668003e-05  -9.93644874e-04   2.35237330e-02]\n",
      " [ -3.83554327e-05   9.99999981e-01  -1.89820417e-04   2.74003269e-02]\n",
      " [  9.93637610e-04   1.89858435e-04   9.99999488e-01  -9.54777970e-01]\n",
      " [  0.00000000e+00   0.00000000e+00   0.00000000e+00   1.00000000e+00]]\n",
      "noot True False 84\n"
     ]
    },
    {
     "name": "stderr",
     "output_type": "stream",
     "text": [
      " 38% (420 of 1101) |########              | Elapsed Time: 0:09:51 ETA:  0:13:01"
     ]
    },
    {
     "name": "stdout",
     "output_type": "stream",
     "text": [
      "aap\n",
      "connected mappoints  19\n"
     ]
    },
    {
     "name": "stderr",
     "output_type": "stream",
     "text": [
      "\r",
      "                                                                               \r",
      "\r",
      " 38% (421 of 1101) |########              | Elapsed Time: 0:09:54 ETA:  0:14:48"
     ]
    },
    {
     "name": "stdout",
     "output_type": "stream",
     "text": [
      "invalid speed keyframe 419 frame 420 speed 1.9188682992228356\n",
      " [[  9.99999775e-01  -8.78728035e-05  -6.64665035e-04   1.61247832e-02]\n",
      " [  8.80157698e-05   9.99999973e-01   2.15069155e-04   1.81140027e-02]\n",
      " [  6.64646118e-04  -2.15127608e-04   9.99999756e-01  -9.61016403e-01]\n",
      " [  0.00000000e+00   0.00000000e+00   0.00000000e+00   1.00000000e+00]]\n",
      "noot True False 64\n"
     ]
    },
    {
     "name": "stderr",
     "output_type": "stream",
     "text": [
      "\r",
      "                                                                               \r",
      "\r",
      " 38% (422 of 1101) |########              | Elapsed Time: 0:09:55 ETA:  0:14:38"
     ]
    },
    {
     "name": "stdout",
     "output_type": "stream",
     "text": [
      "invalid speed keyframe 419 frame 422 speed 1.9574287959702645\n",
      " [[ 0.  0.  0.  0.]\n",
      " [ 0.  0.  0.  0.]\n",
      " [ 0.  0.  0.  0.]\n",
      " [ 0.  0.  0.  0.]]\n",
      "aap\n",
      "connected mappoints  34\n"
     ]
    },
    {
     "name": "stderr",
     "output_type": "stream",
     "text": [
      "\r",
      "                                                                               \r",
      "\r",
      " 38% (423 of 1101) |########              | Elapsed Time: 0:09:58 ETA:  0:15:11"
     ]
    },
    {
     "name": "stdout",
     "output_type": "stream",
     "text": [
      "invalid speed keyframe 421 frame 422 speed 1.0340619926040429\n",
      " [[  9.99999793e-01   5.93296274e-04  -2.49759587e-04   7.40720683e-03]\n",
      " [ -5.93327059e-04   9.99999816e-01  -1.23201912e-04   2.03562053e-02]\n",
      " [  2.49686446e-04   1.23350076e-04   9.99999961e-01  -9.23366803e-01]\n",
      " [  0.00000000e+00   0.00000000e+00   0.00000000e+00   1.00000000e+00]]\n",
      "noot True False 126\n"
     ]
    },
    {
     "name": "stderr",
     "output_type": "stream",
     "text": [
      "\r",
      "                                                                               \r",
      "\r",
      " 38% (424 of 1101) |########              | Elapsed Time: 0:09:59 ETA:  0:15:30"
     ]
    },
    {
     "name": "stdout",
     "output_type": "stream",
     "text": [
      "aap\n",
      "connected mappoints  29\n"
     ]
    },
    {
     "name": "stderr",
     "output_type": "stream",
     "text": [
      "\r",
      "                                                                               \r",
      "\r",
      " 38% (425 of 1101) |########              | Elapsed Time: 0:10:03 ETA:  0:19:37"
     ]
    },
    {
     "name": "stdout",
     "output_type": "stream",
     "text": [
      "invalid speed keyframe 423 frame 424 speed 0.9707092529622728\n",
      " [[  9.99999340e-01   1.06631590e-03  -4.28598980e-04   7.38416548e-03]\n",
      " [ -1.06461550e-03   9.99991639e-01   3.94817860e-03   1.42649845e-02]\n",
      " [  4.32805402e-04  -3.94771970e-03   9.99992114e-01  -9.27609142e-01]\n",
      " [  0.00000000e+00   0.00000000e+00   0.00000000e+00   1.00000000e+00]]\n",
      "noot True False 179\n"
     ]
    },
    {
     "name": "stderr",
     "output_type": "stream",
     "text": [
      " 38% (427 of 1101) |########              | Elapsed Time: 0:10:07 ETA:  0:21:27"
     ]
    },
    {
     "name": "stdout",
     "output_type": "stream",
     "text": [
      "invalid speed keyframe 423 frame 427 speed 0.57432254438555\n",
      " [[ 0.99982921 -0.00289642 -0.01825298  0.79021402]\n",
      " [ 0.0029368   0.9999933   0.00218615 -0.03581525]\n",
      " [ 0.01824653 -0.00223939  0.99983101 -2.10019152]\n",
      " [ 0.          0.          0.          1.        ]]\n",
      "aap\n",
      "connected mappoints  29\n"
     ]
    },
    {
     "name": "stderr",
     "output_type": "stream",
     "text": [
      "\r",
      "                                                                               \r",
      "\r",
      " 38% (428 of 1101) |########              | Elapsed Time: 0:10:13 ETA:  0:26:20"
     ]
    },
    {
     "name": "stdout",
     "output_type": "stream",
     "text": [
      "invalid speed keyframe 426 frame 427 speed 1.7676674416798612\n",
      " [[  9.99999818e-01  -5.67643882e-04  -2.04726045e-04   9.06085492e-03]\n",
      " [  5.67378058e-04   9.99998999e-01  -1.29616408e-03   2.62767037e-02]\n",
      " [  2.05461600e-04   1.29604768e-03   9.99999139e-01  -9.06846619e-01]\n",
      " [  0.00000000e+00   0.00000000e+00   0.00000000e+00   1.00000000e+00]]\n",
      "noot True False 277\n"
     ]
    },
    {
     "name": "stderr",
     "output_type": "stream",
     "text": [
      " 39% (433 of 1101) |########              | Elapsed Time: 0:10:27 ETA:  0:32:09"
     ]
    },
    {
     "name": "stdout",
     "output_type": "stream",
     "text": [
      "aap\n",
      "connected mappoints  36\n"
     ]
    },
    {
     "name": "stderr",
     "output_type": "stream",
     "text": [
      "\r",
      "                                                                               \r",
      "\r",
      " 39% (434 of 1101) |########              | Elapsed Time: 0:10:34 ETA:  0:39:05"
     ]
    },
    {
     "name": "stdout",
     "output_type": "stream",
     "text": [
      "invalid speed keyframe 432 frame 433 speed 4.4643400229535475\n",
      " [[  9.99999997e-01   5.67901210e-05   5.95917954e-05   1.58538011e-02]\n",
      " [ -5.67974073e-05   9.99999991e-01   1.22275633e-04   2.15741844e-02]\n",
      " [ -5.95848508e-05  -1.22279017e-04   9.99999991e-01  -8.29637901e-01]\n",
      " [  0.00000000e+00   0.00000000e+00   0.00000000e+00   1.00000000e+00]]\n",
      "noot True False 279\n"
     ]
    },
    {
     "name": "stderr",
     "output_type": "stream",
     "text": [
      " 39% (437 of 1101) |########              | Elapsed Time: 0:10:43 ETA:  0:40:16"
     ]
    },
    {
     "name": "stdout",
     "output_type": "stream",
     "text": [
      "invalid speed keyframe 432 frame 437 speed 3.31593709953457\n",
      " [[  3.20381659e-315   7.45242375e-316   3.27254934e-315   3.27250823e-315]\n",
      " [  3.27250507e-315   7.45230992e-316   3.27253669e-315   3.27250507e-315]\n",
      " [  2.73994878e-315   7.45205696e-316   3.27253037e-315   3.27131283e-315]\n",
      " [  1.50714330e-315   3.27255566e-315   3.27252088e-315   3.27105149e-315]]\n",
      "aap\n",
      "connected mappoints  44\n"
     ]
    },
    {
     "name": "stderr",
     "output_type": "stream",
     "text": [
      "\r",
      "                                                                               \r",
      "\r",
      " 39% (438 of 1101) |########              | Elapsed Time: 0:10:51 ETA:  0:41:12"
     ]
    },
    {
     "name": "stdout",
     "output_type": "stream",
     "text": [
      "invalid speed keyframe 436 frame 437 speed 2.537195401227758\n",
      " [[  9.99999126e-01   1.31943642e-03   7.83230211e-05   1.28406085e-02]\n",
      " [ -1.31930283e-03   9.99997715e-01  -1.68183456e-03   2.23506382e-02]\n",
      " [ -8.05419160e-05   1.68172976e-03   9.99998583e-01  -7.78741698e-01]\n",
      " [  0.00000000e+00   0.00000000e+00   0.00000000e+00   1.00000000e+00]]\n",
      "noot True False 246\n"
     ]
    },
    {
     "name": "stderr",
     "output_type": "stream",
     "text": [
      "\r",
      "                                                                               \r",
      "\r",
      " 39% (439 of 1101) |########              | Elapsed Time: 0:10:53 ETA:  0:41:08"
     ]
    },
    {
     "name": "stdout",
     "output_type": "stream",
     "text": [
      "aap\n",
      "connected mappoints  97\n"
     ]
    },
    {
     "name": "stderr",
     "output_type": "stream",
     "text": [
      "\r",
      "                                                                               \r",
      "\r",
      " 39% (440 of 1101) |########              | Elapsed Time: 0:10:59 ETA:  0:44:44"
     ]
    },
    {
     "name": "stdout",
     "output_type": "stream",
     "text": [
      "invalid speed keyframe 438 frame 439 speed 0.8358177729344807\n",
      " [[  9.99998234e-01   1.84505981e-03   3.56684846e-04   1.35544279e-02]\n",
      " [ -1.84476958e-03   9.99997968e-01  -8.12294842e-04   1.92892058e-02]\n",
      " [ -3.58182854e-04   8.11635407e-04   9.99999606e-01  -7.59277953e-01]\n",
      " [  0.00000000e+00   0.00000000e+00   0.00000000e+00   1.00000000e+00]]\n",
      "noot True False 214\n"
     ]
    },
    {
     "name": "stderr",
     "output_type": "stream",
     "text": [
      "\r",
      "                                                                               \r",
      "\r",
      " 40% (441 of 1101) |########              | Elapsed Time: 0:11:01 ETA:  0:43:56"
     ]
    },
    {
     "name": "stdout",
     "output_type": "stream",
     "text": [
      "aap\n",
      "connected mappoints  106\n"
     ]
    },
    {
     "name": "stderr",
     "output_type": "stream",
     "text": [
      "\r",
      "                                                                               \r",
      "\r",
      " 40% (442 of 1101) |########              | Elapsed Time: 0:11:06 ETA:  0:45:53"
     ]
    },
    {
     "name": "stdout",
     "output_type": "stream",
     "text": [
      "invalid speed keyframe 440 frame 441 speed 0.7762074934595871\n",
      " [[  9.99999369e-01  -4.36455703e-04   1.03475851e-03   1.36045277e-02]\n",
      " [  4.36949958e-04   9.99999791e-01  -4.77474137e-04   1.89915829e-02]\n",
      " [ -1.03454989e-03   4.77925973e-04   9.99999351e-01  -7.29579764e-01]\n",
      " [  0.00000000e+00   0.00000000e+00   0.00000000e+00   1.00000000e+00]]\n",
      "noot True False 185\n"
     ]
    },
    {
     "name": "stderr",
     "output_type": "stream",
     "text": [
      " 40% (445 of 1101) |########              | Elapsed Time: 0:11:10 ETA:  0:35:50"
     ]
    },
    {
     "name": "stdout",
     "output_type": "stream",
     "text": [
      "aap\n",
      "connected mappoints  53\n"
     ]
    },
    {
     "name": "stderr",
     "output_type": "stream",
     "text": [
      "\r",
      "                                                                               \r",
      "\r",
      " 40% (446 of 1101) |########              | Elapsed Time: 0:11:13 ETA:  0:35:43"
     ]
    },
    {
     "name": "stdout",
     "output_type": "stream",
     "text": [
      "invalid speed keyframe 444 frame 445 speed 2.15344977352892\n",
      " [[  9.99972890e-01   2.71785169e-03   6.84349702e-03   1.45116500e-02]\n",
      " [ -2.72142015e-03   9.99996166e-01   5.12180512e-04   1.15699005e-02]\n",
      " [ -6.84207875e-03  -5.30790657e-04   9.99976452e-01  -6.65723588e-01]\n",
      " [  0.00000000e+00   0.00000000e+00   0.00000000e+00   1.00000000e+00]]\n",
      "noot True False 176\n"
     ]
    },
    {
     "name": "stderr",
     "output_type": "stream",
     "text": [
      " 40% (450 of 1101) |########              | Elapsed Time: 0:11:17 ETA:  0:19:13"
     ]
    },
    {
     "name": "stdout",
     "output_type": "stream",
     "text": [
      "aap\n",
      "connected mappoints  45\n"
     ]
    },
    {
     "name": "stderr",
     "output_type": "stream",
     "text": [
      "\r",
      "                                                                               \r",
      "\r",
      " 40% (451 of 1101) |#########             | Elapsed Time: 0:11:19 ETA:  0:19:35"
     ]
    },
    {
     "name": "stdout",
     "output_type": "stream",
     "text": [
      "invalid speed keyframe 449 frame 450 speed 2.6111178132068553\n",
      " [[  9.99801193e-01   3.84008973e-03   1.95659737e-02   1.62720496e-02]\n",
      " [ -3.82901445e-03   9.99992487e-01  -6.03479778e-04   1.68378470e-02]\n",
      " [ -1.95681441e-02   5.28441406e-04   9.99808386e-01  -6.17486533e-01]\n",
      " [  0.00000000e+00   0.00000000e+00   0.00000000e+00   1.00000000e+00]]\n",
      "noot True False 152\n"
     ]
    },
    {
     "name": "stderr",
     "output_type": "stream",
     "text": [
      " 41% (457 of 1101) |#########             | Elapsed Time: 0:11:24 ETA:  0:10:20"
     ]
    },
    {
     "name": "stdout",
     "output_type": "stream",
     "text": [
      "aap\n",
      "connected mappoints  31\n"
     ]
    },
    {
     "name": "stderr",
     "output_type": "stream",
     "text": [
      "\r",
      "                                                                               \r",
      "\r",
      " 41% (458 of 1101) |#########             | Elapsed Time: 0:11:25 ETA:  0:11:02"
     ]
    },
    {
     "name": "stdout",
     "output_type": "stream",
     "text": [
      "invalid speed keyframe 456 frame 457 speed 3.264312849243744\n",
      " [[  9.99172539e-01   2.27933123e-05   4.06723153e-02   3.30347211e-02]\n",
      " [  9.96616924e-05   9.99995469e-01  -3.00874033e-03   1.64005221e-02]\n",
      " [ -4.06721996e-02   3.01030418e-03   9.99168009e-01  -5.43172884e-01]\n",
      " [  0.00000000e+00   0.00000000e+00   0.00000000e+00   1.00000000e+00]]\n",
      "noot True False 91\n"
     ]
    },
    {
     "name": "stderr",
     "output_type": "stream",
     "text": [
      " 41% (460 of 1101) |#########             | Elapsed Time: 0:11:26 ETA:  0:09:58"
     ]
    },
    {
     "name": "stdout",
     "output_type": "stream",
     "text": [
      "aap\n",
      "connected mappoints  40\n"
     ]
    },
    {
     "name": "stderr",
     "output_type": "stream",
     "text": [
      "\r",
      "                                                                               \r",
      "\r",
      " 41% (461 of 1101) |#########             | Elapsed Time: 0:11:28 ETA:  0:09:24"
     ]
    },
    {
     "name": "stdout",
     "output_type": "stream",
     "text": [
      "invalid speed keyframe 459 frame 460 speed 1.0164598326699394\n",
      " [[ 0.99885399 -0.01203231  0.04632416  0.04150725]\n",
      " [ 0.01195213  0.99992656  0.00200748  0.0080479 ]\n",
      " [-0.04634491 -0.00145151  0.99892444 -0.50973307]\n",
      " [ 0.          0.          0.          1.        ]]\n",
      "noot True False 95\n"
     ]
    },
    {
     "name": "stderr",
     "output_type": "stream",
     "text": [
      " 42% (463 of 1101) |#########             | Elapsed Time: 0:11:29 ETA:  0:08:54"
     ]
    },
    {
     "name": "stdout",
     "output_type": "stream",
     "text": [
      "aap\n",
      "connected mappoints  39\n"
     ]
    },
    {
     "name": "stderr",
     "output_type": "stream",
     "text": [
      "\r",
      "                                                                               \r",
      "\r",
      " 42% (464 of 1101) |#########             | Elapsed Time: 0:11:31 ETA:  0:09:59"
     ]
    },
    {
     "name": "stdout",
     "output_type": "stream",
     "text": [
      "invalid speed keyframe 462 frame 463 speed 0.9825066268010324\n",
      " [[ 0.9987377  -0.00173161  0.05019969  0.02203696]\n",
      " [ 0.00165301  0.99999734  0.00160709  0.0034585 ]\n",
      " [-0.05020234 -0.00152208  0.99873791 -0.50379804]\n",
      " [ 0.          0.          0.          1.        ]]\n",
      "noot True False 110\n"
     ]
    },
    {
     "name": "stderr",
     "output_type": "stream",
     "text": [
      " 42% (466 of 1101) |#########             | Elapsed Time: 0:11:32 ETA:  0:09:50"
     ]
    },
    {
     "name": "stdout",
     "output_type": "stream",
     "text": [
      "aap\n",
      "connected mappoints  46\n"
     ]
    },
    {
     "name": "stderr",
     "output_type": "stream",
     "text": [
      "\r",
      "                                                                               \r",
      "\r",
      " 42% (467 of 1101) |#########             | Elapsed Time: 0:11:34 ETA:  0:11:22"
     ]
    },
    {
     "name": "stdout",
     "output_type": "stream",
     "text": [
      "invalid speed keyframe 465 frame 466 speed 0.9656858446551142\n",
      " [[ 0.99866651 -0.00845213  0.05092909  0.03091633]\n",
      " [ 0.00862193  0.99995798 -0.00311533  0.00261593]\n",
      " [-0.05090061  0.00355029  0.99869741 -0.50831391]\n",
      " [ 0.          0.          0.          1.        ]]\n",
      "noot True False 109\n"
     ]
    },
    {
     "name": "stderr",
     "output_type": "stream",
     "text": [
      "\r",
      "                                                                               \r",
      "\r",
      " 42% (468 of 1101) |#########             | Elapsed Time: 0:11:35 ETA:  0:10:18"
     ]
    },
    {
     "name": "stdout",
     "output_type": "stream",
     "text": [
      "aap\n",
      "connected mappoints  58\n"
     ]
    },
    {
     "name": "stderr",
     "output_type": "stream",
     "text": [
      "\r",
      "                                                                               \r",
      "\r",
      " 42% (469 of 1101) |#########             | Elapsed Time: 0:11:37 ETA:  0:12:04"
     ]
    },
    {
     "name": "stdout",
     "output_type": "stream",
     "text": [
      "invalid speed keyframe 467 frame 468 speed 0.5015145182220924\n",
      " [[ 0.99869    -0.00332072  0.05106123  0.03598801]\n",
      " [ 0.00348652  0.99998893 -0.00315838  0.00724835]\n",
      " [-0.05105017  0.00333227  0.99869053 -0.49918629]\n",
      " [ 0.          0.          0.          1.        ]]\n",
      "noot True False 112\n"
     ]
    },
    {
     "name": "stderr",
     "output_type": "stream",
     "text": [
      "\r",
      "                                                                               \r",
      "\r",
      " 42% (470 of 1101) |#########             | Elapsed Time: 0:11:38 ETA:  0:12:12"
     ]
    },
    {
     "name": "stdout",
     "output_type": "stream",
     "text": [
      "aap\n",
      "connected mappoints  67\n"
     ]
    },
    {
     "name": "stderr",
     "output_type": "stream",
     "text": [
      "\r",
      "                                                                               \r",
      "\r",
      " 42% (471 of 1101) |#########             | Elapsed Time: 0:11:40 ETA:  0:12:49"
     ]
    },
    {
     "name": "stdout",
     "output_type": "stream",
     "text": [
      "invalid speed keyframe 469 frame 470 speed 0.5025344997193923\n",
      " [[ 0.99863807  0.00710129  0.05168725  0.01840215]\n",
      " [-0.00718472  0.99997317  0.00142847  0.00610377]\n",
      " [-0.05167572 -0.00179789  0.9986623  -0.48548003]\n",
      " [ 0.          0.          0.          1.        ]]\n",
      "noot True False 103\n"
     ]
    },
    {
     "name": "stderr",
     "output_type": "stream",
     "text": [
      " 42% (473 of 1101) |#########             | Elapsed Time: 0:11:42 ETA:  0:13:27"
     ]
    },
    {
     "name": "stdout",
     "output_type": "stream",
     "text": [
      "invalid speed keyframe 469 frame 473 speed 1.4174174663539174\n",
      " [[  0.00000000e+000   2.37151510e-322   6.05724482e-321   3.46222746e-315]\n",
      " [  3.46927363e-315   2.37151510e-322   4.94065646e-324   8.39911598e-323]\n",
      " [  6.05724482e-321   3.45620413e-315   4.74303020e-322   6.05724482e-321]\n",
      " [  4.94065646e-324   8.39911598e-323   2.37151510e-322   4.94065646e-324]]\n",
      "aap\n",
      "connected mappoints  33\n"
     ]
    },
    {
     "name": "stderr",
     "output_type": "stream",
     "text": [
      "\r",
      "                                                                               \r",
      "\r",
      " 43% (474 of 1101) |#########             | Elapsed Time: 0:11:45 ETA:  0:14:59"
     ]
    },
    {
     "name": "stdout",
     "output_type": "stream",
     "text": [
      "invalid speed keyframe 472 frame 473 speed 0.9524059405215297\n",
      " [[  9.98769910e-01  -2.29374319e-03   4.95318596e-02   3.74109051e-02]\n",
      " [  2.18005972e-03   9.99994865e-01   2.34906105e-03   1.78903986e-04]\n",
      " [ -4.95369934e-02  -2.23818909e-03   9.98769782e-01  -4.65011526e-01]\n",
      " [  0.00000000e+00   0.00000000e+00   0.00000000e+00   1.00000000e+00]]\n",
      "noot True False 118\n"
     ]
    },
    {
     "name": "stderr",
     "output_type": "stream",
     "text": [
      "\r",
      "                                                                               \r",
      "\r",
      " 43% (475 of 1101) |#########             | Elapsed Time: 0:11:46 ETA:  0:15:20"
     ]
    },
    {
     "name": "stdout",
     "output_type": "stream",
     "text": [
      "aap\n",
      "connected mappoints  54\n"
     ]
    },
    {
     "name": "stderr",
     "output_type": "stream",
     "text": [
      "\r",
      "                                                                               \r",
      "\r",
      " 43% (476 of 1101) |#########             | Elapsed Time: 0:11:50 ETA:  0:18:08"
     ]
    },
    {
     "name": "stdout",
     "output_type": "stream",
     "text": [
      "invalid speed keyframe 474 frame 475 speed 0.46235111395465\n",
      " [[  9.98700652e-01   5.27822636e-03   5.06867542e-02   2.39355870e-02]\n",
      " [ -5.26659117e-03   9.99986065e-01  -3.63108218e-04   1.82619240e-03]\n",
      " [ -5.06879645e-02   9.56900024e-05   9.98714534e-01  -4.65361214e-01]\n",
      " [  0.00000000e+00   0.00000000e+00   0.00000000e+00   1.00000000e+00]]\n",
      "noot True False 113\n"
     ]
    },
    {
     "name": "stderr",
     "output_type": "stream",
     "text": [
      "\r",
      "                                                                               \r",
      "\r",
      " 43% (477 of 1101) |#########             | Elapsed Time: 0:11:51 ETA:  0:16:53"
     ]
    },
    {
     "name": "stdout",
     "output_type": "stream",
     "text": [
      "aap\n",
      "connected mappoints  55\n"
     ]
    },
    {
     "name": "stderr",
     "output_type": "stream",
     "text": [
      "\r",
      "                                                                               \r",
      "\r",
      " 43% (478 of 1101) |#########             | Elapsed Time: 0:11:54 ETA:  0:19:23"
     ]
    },
    {
     "name": "stdout",
     "output_type": "stream",
     "text": [
      "invalid speed keyframe 476 frame 477 speed 0.46197737931676586\n",
      " [[ 0.9990185  -0.00486672  0.04402666  0.04117681]\n",
      " [ 0.00497322  0.99998497 -0.00230962  0.00475546]\n",
      " [-0.04401476  0.00252631  0.99902769 -0.48096223]\n",
      " [ 0.          0.          0.          1.        ]]\n",
      "noot True False 114\n"
     ]
    },
    {
     "name": "stderr",
     "output_type": "stream",
     "text": [
      "\r",
      "                                                                               \r",
      "\r",
      " 43% (479 of 1101) |#########             | Elapsed Time: 0:11:55 ETA:  0:18:13"
     ]
    },
    {
     "name": "stdout",
     "output_type": "stream",
     "text": [
      "invalid speed keyframe 476 frame 479 speed 8.188234156110282\n",
      " [[ 0.92881569  0.3138653   0.19695173 -0.42958565]\n",
      " [-0.28578465  0.94511233 -0.15839767  3.07576109]\n",
      " [-0.23585704  0.09083646  0.96753304  7.21096781]\n",
      " [ 0.          0.          0.          1.        ]]\n",
      "aap\n",
      "connected mappoints  33\n"
     ]
    },
    {
     "name": "stderr",
     "output_type": "stream",
     "text": [
      "\r",
      "                                                                               \r",
      "\r",
      " 43% (480 of 1101) |#########             | Elapsed Time: 0:11:59 ETA:  0:21:35"
     ]
    },
    {
     "name": "stdout",
     "output_type": "stream",
     "text": [
      "invalid speed keyframe 478 frame 479 speed 0.48152883631357235\n",
      " [[ 0.99930293  0.00237829  0.03725596  0.0248587 ]\n",
      " [-0.00222134  0.99998849 -0.00425366  0.00681447]\n",
      " [-0.03726565  0.00416793  0.9992967  -0.49573751]\n",
      " [ 0.          0.          0.          1.        ]]\n",
      "noot True False 122\n",
      "aap\n",
      "connected mappoints  101\n"
     ]
    },
    {
     "name": "stderr",
     "output_type": "stream",
     "text": [
      "\r",
      "                                                                               \r",
      "\r",
      " 43% (481 of 1101) |#########             | Elapsed Time: 0:12:03 ETA:  0:23:39"
     ]
    },
    {
     "name": "stdout",
     "output_type": "stream",
     "text": [
      "invalid speed keyframe 479 frame 480 speed 0.0025909257239219996\n",
      " [[ 0.99944501  0.00386063  0.03308714  0.01889795]\n",
      " [-0.00376203  0.9999883  -0.00304166  0.01163525]\n",
      " [-0.03309849  0.00291549  0.99944784 -0.49314659]\n",
      " [ 0.          0.          0.          1.        ]]\n",
      "noot True False 120\n"
     ]
    },
    {
     "name": "stderr",
     "output_type": "stream",
     "text": [
      "\r",
      "                                                                               \r",
      "\r",
      " 43% (482 of 1101) |#########             | Elapsed Time: 0:12:05 ETA:  0:24:30"
     ]
    },
    {
     "name": "stdout",
     "output_type": "stream",
     "text": [
      "aap\n",
      "connected mappoints  29\n"
     ]
    },
    {
     "name": "stderr",
     "output_type": "stream",
     "text": [
      "\r",
      "                                                                               \r",
      "\r",
      " 43% (483 of 1101) |#########             | Elapsed Time: 0:12:11 ETA:  0:29:27"
     ]
    },
    {
     "name": "stdout",
     "output_type": "stream",
     "text": [
      "invalid speed keyframe 481 frame 482 speed 0.47983997940360745\n",
      " [[ 0.99967783 -0.00122471  0.02535205  0.02411383]\n",
      " [ 0.00126535  0.99999794 -0.00158693  0.01172965]\n",
      " [-0.02535006  0.0016185   0.99967733 -0.50398771]\n",
      " [ 0.          0.          0.          1.        ]]\n",
      "noot True False 154\n"
     ]
    },
    {
     "name": "stderr",
     "output_type": "stream",
     "text": [
      "\r",
      "                                                                               \r",
      "\r",
      " 43% (484 of 1101) |#########             | Elapsed Time: 0:12:13 ETA:  0:28:16"
     ]
    },
    {
     "name": "stdout",
     "output_type": "stream",
     "text": [
      "aap\n",
      "connected mappoints  35\n"
     ]
    },
    {
     "name": "stderr",
     "output_type": "stream",
     "text": [
      "\r",
      "                                                                               \r",
      "\r",
      " 44% (485 of 1101) |#########             | Elapsed Time: 0:12:20 ETA:  0:34:20"
     ]
    },
    {
     "name": "stdout",
     "output_type": "stream",
     "text": [
      "invalid speed keyframe 483 frame 484 speed 0.48794532296538584\n",
      " [[  9.99856499e-01  -1.00020143e-03   1.69109698e-02   1.97990479e-02]\n",
      " [  1.00062566e-03   9.99999499e-01  -1.66246287e-05   1.00188015e-02]\n",
      " [ -1.69109448e-02   3.35437935e-05   9.99856999e-01  -5.08195803e-01]\n",
      " [  0.00000000e+00   0.00000000e+00   0.00000000e+00   1.00000000e+00]]\n",
      "noot True False 160\n"
     ]
    },
    {
     "name": "stderr",
     "output_type": "stream",
     "text": [
      " 44% (488 of 1101) |#########             | Elapsed Time: 0:12:27 ETA:  0:33:37"
     ]
    },
    {
     "name": "stdout",
     "output_type": "stream",
     "text": [
      "aap\n",
      "connected mappoints  29\n"
     ]
    },
    {
     "name": "stderr",
     "output_type": "stream",
     "text": [
      "\r",
      "                                                                               \r",
      "\r",
      " 44% (489 of 1101) |#########             | Elapsed Time: 0:12:33 ETA:  0:38:48"
     ]
    },
    {
     "name": "stdout",
     "output_type": "stream",
     "text": [
      "invalid speed keyframe 487 frame 488 speed 1.5155468062391657\n",
      " [[  9.99975245e-01   3.67320529e-04   7.02675762e-03   1.33335402e-02]\n",
      " [ -3.78615815e-04   9.99998638e-01   1.60620504e-03   2.59605863e-03]\n",
      " [ -7.02615806e-03  -1.60882572e-03   9.99974022e-01  -5.35145667e-01]\n",
      " [  0.00000000e+00   0.00000000e+00   0.00000000e+00   1.00000000e+00]]\n",
      "noot True False 168\n"
     ]
    },
    {
     "name": "stderr",
     "output_type": "stream",
     "text": [
      " 44% (493 of 1101) |#########             | Elapsed Time: 0:12:42 ETA:  0:31:13"
     ]
    },
    {
     "name": "stdout",
     "output_type": "stream",
     "text": [
      "invalid speed keyframe 487 frame 493 speed 0.7981808711238105\n",
      " [[  9.99768411e-01  -6.45420280e-03   2.05296709e-02   3.25193186e-01]\n",
      " [  6.42812075e-03   9.99978447e-01   1.33619386e-03   2.23028269e-01]\n",
      " [ -2.05378525e-02  -1.20391721e-03   9.99788351e-01  -1.95336661e+00]\n",
      " [  0.00000000e+00   0.00000000e+00   0.00000000e+00   1.00000000e+00]]\n",
      "aap\n",
      "connected mappoints  43\n"
     ]
    },
    {
     "name": "stderr",
     "output_type": "stream",
     "text": [
      "\r",
      "                                                                               \r",
      "\r",
      " 44% (494 of 1101) |#########             | Elapsed Time: 0:12:48 ETA:  0:35:28"
     ]
    },
    {
     "name": "stdout",
     "output_type": "stream",
     "text": [
      "invalid speed keyframe 492 frame 493 speed 2.1514548990276974\n",
      " [[  9.99993155e-01  -3.25307578e-03   1.76262310e-03   1.34010730e-02]\n",
      " [  3.25339206e-03   9.99994692e-01  -1.76603806e-04   3.29191365e-03]\n",
      " [ -1.76203923e-03   1.82337101e-04   9.99998431e-01  -6.00092582e-01]\n",
      " [  0.00000000e+00   0.00000000e+00   0.00000000e+00   1.00000000e+00]]\n",
      "noot True False 163\n"
     ]
    },
    {
     "name": "stderr",
     "output_type": "stream",
     "text": [
      " 45% (496 of 1101) |#########             | Elapsed Time: 0:12:52 ETA:  0:30:12"
     ]
    },
    {
     "name": "stdout",
     "output_type": "stream",
     "text": [
      "aap\n",
      "connected mappoints  32\n"
     ]
    },
    {
     "name": "stderr",
     "output_type": "stream",
     "text": [
      "\r",
      "                                                                               \r",
      "\r",
      " 45% (497 of 1101) |#########             | Elapsed Time: 0:12:58 ETA:  0:33:29"
     ]
    },
    {
     "name": "stdout",
     "output_type": "stream",
     "text": [
      "invalid speed keyframe 495 frame 496 speed 1.1486348247632199\n",
      " [[  9.99999684e-01   6.00366586e-04  -5.21504278e-04   3.10694616e-03]\n",
      " [ -6.00086538e-04   9.99999676e-01   5.36990883e-04   1.65034288e-02]\n",
      " [  5.21826501e-04  -5.36677766e-04   9.99999720e-01  -6.39796503e-01]\n",
      " [  0.00000000e+00   0.00000000e+00   0.00000000e+00   1.00000000e+00]]\n",
      "noot True False 120\n"
     ]
    },
    {
     "name": "stderr",
     "output_type": "stream",
     "text": [
      "\r",
      "                                                                               \r",
      "\r",
      " 45% (498 of 1101) |#########             | Elapsed Time: 0:13:00 ETA:  0:33:09"
     ]
    },
    {
     "name": "stdout",
     "output_type": "stream",
     "text": [
      "invalid speed keyframe 495 frame 498 speed 0.3243266220846398\n",
      " [[ 0.99993915 -0.00310631 -0.01058521  0.62188649]\n",
      " [ 0.00330108  0.99982466  0.01843263 -0.6286856 ]\n",
      " [ 0.01052609 -0.01846645  0.99977407 -0.9623062 ]\n",
      " [ 0.          0.          0.          1.        ]]\n",
      "aap\n",
      "connected mappoints  54\n"
     ]
    },
    {
     "name": "stderr",
     "output_type": "stream",
     "text": [
      "\r",
      "                                                                               \r",
      "\r",
      " 45% (499 of 1101) |#########             | Elapsed Time: 0:13:05 ETA:  0:32:29"
     ]
    },
    {
     "name": "stdout",
     "output_type": "stream",
     "text": [
      "invalid speed keyframe 497 frame 498 speed 0.619574930845656\n",
      " [[  9.99998913e-01  -1.44782059e-03  -2.77846112e-04   1.18640285e-02]\n",
      " [  1.44971218e-03   9.99974915e-01   6.93308617e-03  -1.03118724e-03]\n",
      " [  2.67801277e-04  -6.93348144e-03   9.99975927e-01  -6.67057889e-01]\n",
      " [  0.00000000e+00   0.00000000e+00   0.00000000e+00   1.00000000e+00]]\n",
      "noot True False 158\n"
     ]
    },
    {
     "name": "stderr",
     "output_type": "stream",
     "text": [
      " 45% (505 of 1101) |##########            | Elapsed Time: 0:13:16 ETA:  0:25:33"
     ]
    },
    {
     "name": "stdout",
     "output_type": "stream",
     "text": [
      "aap\n",
      "connected mappoints  28\n"
     ]
    },
    {
     "name": "stderr",
     "output_type": "stream",
     "text": [
      "\r",
      "                                                                               \r",
      "\r",
      " 45% (506 of 1101) |##########            | Elapsed Time: 0:13:21 ETA:  0:28:29"
     ]
    },
    {
     "name": "stdout",
     "output_type": "stream",
     "text": [
      "invalid speed keyframe 504 frame 505 speed 4.200739297556014\n",
      " [[  9.99999991e-01  -1.26426840e-04   4.81939868e-05   1.02602807e-02]\n",
      " [  1.26563892e-04   9.99995918e-01  -2.85444433e-03   7.16611412e-03]\n",
      " [ -4.78329117e-05   2.85445041e-03   9.99995925e-01  -7.86915983e-01]\n",
      " [  0.00000000e+00   0.00000000e+00   0.00000000e+00   1.00000000e+00]]\n",
      "noot True False 110\n"
     ]
    },
    {
     "name": "stderr",
     "output_type": "stream",
     "text": [
      " 46% (508 of 1101) |##########            | Elapsed Time: 0:13:24 ETA:  0:24:25"
     ]
    },
    {
     "name": "stdout",
     "output_type": "stream",
     "text": [
      "aap\n",
      "connected mappoints  43\n"
     ]
    },
    {
     "name": "stderr",
     "output_type": "stream",
     "text": [
      "\r",
      "                                                                               \r",
      "\r",
      " 46% (509 of 1101) |##########            | Elapsed Time: 0:13:29 ETA:  0:23:28"
     ]
    },
    {
     "name": "stdout",
     "output_type": "stream",
     "text": [
      "invalid speed keyframe 507 frame 508 speed 1.5759550632421835\n",
      " [[  9.99993524e-01  -3.57872047e-03   3.81691351e-04   2.38169527e-02]\n",
      " [  3.57779337e-03   9.99990714e-01   2.40255207e-03   1.33994529e-02]\n",
      " [ -3.90285869e-04  -2.40117090e-03   9.99997041e-01  -8.22142781e-01]\n",
      " [  0.00000000e+00   0.00000000e+00   0.00000000e+00   1.00000000e+00]]\n",
      "noot True False 86\n"
     ]
    },
    {
     "name": "stderr",
     "output_type": "stream",
     "text": [
      "\r",
      "                                                                               \r",
      "\r",
      " 46% (510 of 1101) |##########            | Elapsed Time: 0:13:30 ETA:  0:22:48"
     ]
    },
    {
     "name": "stdout",
     "output_type": "stream",
     "text": [
      "aap\n",
      "connected mappoints  54\n"
     ]
    },
    {
     "name": "stderr",
     "output_type": "stream",
     "text": [
      "\r",
      "                                                                               \r",
      "\r",
      " 46% (511 of 1101) |##########            | Elapsed Time: 0:13:34 ETA:  0:24:26"
     ]
    },
    {
     "name": "stdout",
     "output_type": "stream",
     "text": [
      "invalid speed keyframe 509 frame 510 speed 0.8202449497866924\n",
      " [[  9.99995579e-01   2.82790429e-03   9.19429752e-04   5.85980636e-03]\n",
      " [ -2.82708210e-03   9.99995604e-01  -8.94313679e-04   8.63647323e-03]\n",
      " [ -9.21954744e-04   8.91710422e-04   9.99999177e-01  -8.51061396e-01]\n",
      " [  0.00000000e+00   0.00000000e+00   0.00000000e+00   1.00000000e+00]]\n",
      "noot True False 104\n"
     ]
    },
    {
     "name": "stderr",
     "output_type": "stream",
     "text": [
      " 46% (514 of 1101) |##########            | Elapsed Time: 0:13:37 ETA:  0:22:23"
     ]
    },
    {
     "name": "stdout",
     "output_type": "stream",
     "text": [
      "aap\n",
      "connected mappoints  39\n"
     ]
    },
    {
     "name": "stderr",
     "output_type": "stream",
     "text": [
      "\r",
      "                                                                               \r",
      "\r",
      " 46% (515 of 1101) |##########            | Elapsed Time: 0:13:41 ETA:  0:24:22"
     ]
    },
    {
     "name": "stdout",
     "output_type": "stream",
     "text": [
      "invalid speed keyframe 513 frame 514 speed 2.6011810358674508\n",
      " [[  9.99995949e-01   2.77509423e-03   6.33824924e-04  -6.71465464e-03]\n",
      " [ -2.77739461e-03   9.99989453e-01   3.65778316e-03   9.33118483e-03]\n",
      " [ -6.23667546e-04  -3.65952873e-03   9.99993109e-01  -9.27486728e-01]\n",
      " [  0.00000000e+00   0.00000000e+00   0.00000000e+00   1.00000000e+00]]\n",
      "noot True False 114\n"
     ]
    },
    {
     "name": "stderr",
     "output_type": "stream",
     "text": [
      " 46% (517 of 1101) |##########            | Elapsed Time: 0:13:43 ETA:  0:19:51"
     ]
    },
    {
     "name": "stdout",
     "output_type": "stream",
     "text": [
      "aap\n",
      "connected mappoints  40\n"
     ]
    },
    {
     "name": "stderr",
     "output_type": "stream",
     "text": [
      "\r",
      "                                                                               \r",
      "\r",
      " 47% (518 of 1101) |##########            | Elapsed Time: 0:13:47 ETA:  0:22:07"
     ]
    },
    {
     "name": "stdout",
     "output_type": "stream",
     "text": [
      "invalid speed keyframe 516 frame 517 speed 1.7992973823154794\n",
      " [[  9.99999501e-01  -6.24088113e-04  -7.79918822e-04   1.15524295e-02]\n",
      " [  6.24794967e-04   9.99999394e-01   9.06402942e-04   1.01894808e-02]\n",
      " [  7.79352674e-04  -9.06889779e-04   9.99999285e-01  -9.44650141e-01]\n",
      " [  0.00000000e+00   0.00000000e+00   0.00000000e+00   1.00000000e+00]]\n",
      "noot True False 102\n"
     ]
    },
    {
     "name": "stderr",
     "output_type": "stream",
     "text": [
      " 47% (520 of 1101) |##########            | Elapsed Time: 0:13:50 ETA:  0:18:51"
     ]
    },
    {
     "name": "stdout",
     "output_type": "stream",
     "text": [
      "aap\n",
      "connected mappoints  26\n"
     ]
    },
    {
     "name": "stderr",
     "output_type": "stream",
     "text": [
      "\r",
      "                                                                               \r",
      "\r",
      " 47% (521 of 1101) |##########            | Elapsed Time: 0:13:54 ETA:  0:20:04"
     ]
    },
    {
     "name": "stdout",
     "output_type": "stream",
     "text": [
      "invalid speed keyframe 519 frame 520 speed 1.8877314769889755\n",
      " [[  9.99997396e-01   2.26680278e-03  -2.65333786e-04   5.99180999e-03]\n",
      " [ -2.26752915e-03   9.99993593e-01  -2.77003329e-03   3.00773054e-02]\n",
      " [  2.59052966e-04   2.77062773e-03   9.99996128e-01  -9.66199984e-01]\n",
      " [  0.00000000e+00   0.00000000e+00   0.00000000e+00   1.00000000e+00]]\n",
      "noot True False 91\n"
     ]
    },
    {
     "name": "stderr",
     "output_type": "stream",
     "text": [
      "\r",
      "                                                                               \r",
      "\r",
      " 47% (522 of 1101) |##########            | Elapsed Time: 0:13:56 ETA:  0:20:39"
     ]
    },
    {
     "name": "stdout",
     "output_type": "stream",
     "text": [
      "aap\n",
      "connected mappoints  37\n"
     ]
    },
    {
     "name": "stderr",
     "output_type": "stream",
     "text": [
      "\r",
      "                                                                               \r",
      "\r",
      " 47% (523 of 1101) |##########            | Elapsed Time: 0:14:01 ETA:  0:24:37"
     ]
    },
    {
     "name": "stdout",
     "output_type": "stream",
     "text": [
      "invalid speed keyframe 521 frame 522 speed 0.9697301630322175\n",
      " [[  9.99978918e-01   6.48076663e-03  -4.04353407e-04   3.98388511e-03]\n",
      " [ -6.48118430e-03   9.99978456e-01  -1.04031816e-03   1.61526525e-02]\n",
      " [  3.97602636e-04   1.04291692e-03   9.99999377e-01  -9.47384176e-01]\n",
      " [  0.00000000e+00   0.00000000e+00   0.00000000e+00   1.00000000e+00]]\n",
      "noot True False 109\n"
     ]
    },
    {
     "name": "stderr",
     "output_type": "stream",
     "text": [
      "\r",
      "                                                                               \r",
      "\r",
      " 47% (524 of 1101) |##########            | Elapsed Time: 0:14:03 ETA:  0:25:21"
     ]
    },
    {
     "name": "stdout",
     "output_type": "stream",
     "text": [
      "aap\n",
      "connected mappoints  59\n"
     ]
    },
    {
     "name": "stderr",
     "output_type": "stream",
     "text": [
      "\r",
      "                                                                               \r",
      "\r",
      " 47% (525 of 1101) |##########            | Elapsed Time: 0:14:09 ETA:  0:26:53"
     ]
    },
    {
     "name": "stdout",
     "output_type": "stream",
     "text": [
      "invalid speed keyframe 523 frame 524 speed 0.9369978054270691\n",
      " [[  9.99992456e-01   3.88435854e-03  -2.34513672e-05   1.15423902e-03]\n",
      " [ -3.88442913e-03   9.99976140e-01  -5.71228682e-03   2.25682398e-02]\n",
      " [  1.26223757e-06   5.71233482e-03   9.99983684e-01  -9.58012759e-01]\n",
      " [  0.00000000e+00   0.00000000e+00   0.00000000e+00   1.00000000e+00]]\n",
      "noot True False 96\n"
     ]
    },
    {
     "name": "stderr",
     "output_type": "stream",
     "text": [
      "\r",
      "                                                                               \r",
      "\r",
      " 47% (526 of 1101) |##########            | Elapsed Time: 0:14:10 ETA:  0:27:26"
     ]
    },
    {
     "name": "stdout",
     "output_type": "stream",
     "text": [
      "aap\n",
      "connected mappoints  59\n"
     ]
    },
    {
     "name": "stderr",
     "output_type": "stream",
     "text": [
      "\r",
      "                                                                               \r",
      "\r",
      " 47% (527 of 1101) |##########            | Elapsed Time: 0:14:16 ETA:  0:31:26"
     ]
    },
    {
     "name": "stdout",
     "output_type": "stream",
     "text": [
      "invalid speed keyframe 525 frame 526 speed 0.9357451046541617\n",
      " [[  9.99996111e-01   2.76074530e-03  -3.95593940e-04   1.54256056e-02]\n",
      " [ -2.76016862e-03   9.99995138e-01   1.45096049e-03   2.78392823e-02]\n",
      " [  3.99597749e-04  -1.44986294e-03   9.99998869e-01  -9.43421957e-01]\n",
      " [  0.00000000e+00   0.00000000e+00   0.00000000e+00   1.00000000e+00]]\n",
      "noot True False 102\n"
     ]
    },
    {
     "name": "stderr",
     "output_type": "stream",
     "text": [
      " 48% (531 of 1101) |##########            | Elapsed Time: 0:14:23 ETA:  0:27:17"
     ]
    },
    {
     "name": "stdout",
     "output_type": "stream",
     "text": [
      "aap\n",
      "connected mappoints  29\n"
     ]
    },
    {
     "name": "stderr",
     "output_type": "stream",
     "text": [
      "\r",
      "                                                                               \r",
      "\r",
      " 48% (532 of 1101) |##########            | Elapsed Time: 0:14:29 ETA:  0:31:10"
     ]
    },
    {
     "name": "stdout",
     "output_type": "stream",
     "text": [
      "invalid speed keyframe 530 frame 531 speed 3.755254350953218\n",
      " [[  9.99999476e-01   7.70256414e-04  -6.74191068e-04   9.33608595e-03]\n",
      " [ -7.72099770e-04   9.99995953e-01  -2.73819795e-03   2.60562534e-02]\n",
      " [  6.72079225e-04   2.73871706e-03   9.99996024e-01  -9.31405152e-01]\n",
      " [  0.00000000e+00   0.00000000e+00   0.00000000e+00   1.00000000e+00]]\n",
      "noot True False 99\n"
     ]
    },
    {
     "name": "stderr",
     "output_type": "stream",
     "text": [
      " 48% (534 of 1101) |##########            | Elapsed Time: 0:14:33 ETA:  0:27:46"
     ]
    },
    {
     "name": "stdout",
     "output_type": "stream",
     "text": [
      "invalid speed keyframe 530 frame 534 speed 0.6994152862028029\n",
      " [[  9.99709612e-01  -5.39981064e-03   2.34847666e-02  -1.61505089e+00]\n",
      " [  5.41580080e-03   9.99985144e-01  -6.17323174e-04  -3.79506455e-01]\n",
      " [ -2.34810843e-02   7.44332728e-04   9.99724004e-01  -2.06962165e+00]\n",
      " [  0.00000000e+00   0.00000000e+00   0.00000000e+00   1.00000000e+00]]\n",
      "aap\n",
      "connected mappoints  41\n"
     ]
    },
    {
     "name": "stderr",
     "output_type": "stream",
     "text": [
      "\r",
      "                                                                               \r",
      "\r",
      " 48% (535 of 1101) |##########            | Elapsed Time: 0:14:38 ETA:  0:27:51"
     ]
    },
    {
     "name": "stdout",
     "output_type": "stream",
     "text": [
      "invalid speed keyframe 533 frame 534 speed 1.8325497131009354\n",
      " [[  9.99978269e-01  -2.86770329e-03  -5.93622618e-03   6.33215197e-04]\n",
      " [  2.86594306e-03   9.99995847e-01  -3.05007585e-04   2.24316154e-02]\n",
      " [  5.93707620e-03   2.87988070e-04   9.99982334e-01  -9.36487223e-01]\n",
      " [  0.00000000e+00   0.00000000e+00   0.00000000e+00   1.00000000e+00]]\n",
      "noot True False 101\n"
     ]
    },
    {
     "name": "stderr",
     "output_type": "stream",
     "text": [
      " 48% (538 of 1101) |##########            | Elapsed Time: 0:14:43 ETA:  0:23:49"
     ]
    },
    {
     "name": "stdout",
     "output_type": "stream",
     "text": [
      "aap\n",
      "connected mappoints  35\n"
     ]
    },
    {
     "name": "stderr",
     "output_type": "stream",
     "text": [
      "\r",
      "                                                                               \r",
      "\r",
      " 48% (539 of 1101) |##########            | Elapsed Time: 0:14:48 ETA:  0:26:12"
     ]
    },
    {
     "name": "stdout",
     "output_type": "stream",
     "text": [
      "invalid speed keyframe 537 frame 538 speed 2.766042565055342\n",
      " [[ 0.99984536  0.00427914 -0.01705727 -0.00767306]\n",
      " [-0.00432146  0.99998767 -0.00244463  0.02141803]\n",
      " [ 0.0170466   0.00251796  0.99985153 -0.90651888]\n",
      " [ 0.          0.          0.          1.        ]]\n",
      "noot True False 105\n"
     ]
    },
    {
     "name": "stderr",
     "output_type": "stream",
     "text": [
      " 49% (541 of 1101) |##########            | Elapsed Time: 0:14:50 ETA:  0:25:22"
     ]
    },
    {
     "name": "stdout",
     "output_type": "stream",
     "text": [
      "invalid speed keyframe 537 frame 541 speed 0.6928260599283629\n",
      " [[  9.98519351e-01  -4.04712817e-03   5.42468981e-02  -5.95536382e+00]\n",
      " [  4.46631575e-03   9.99961081e-01  -7.60839902e-03   3.51744250e-02]\n",
      " [ -5.42139948e-02   7.83941743e-03   9.98498566e-01  -2.04489415e+00]\n",
      " [  0.00000000e+00   0.00000000e+00   0.00000000e+00   1.00000000e+00]]\n",
      "aap\n",
      "connected mappoints  36\n"
     ]
    },
    {
     "name": "stderr",
     "output_type": "stream",
     "text": [
      "\r",
      "                                                                               \r",
      "\r",
      " 49% (542 of 1101) |##########            | Elapsed Time: 0:14:55 ETA:  0:23:50"
     ]
    },
    {
     "name": "stdout",
     "output_type": "stream",
     "text": [
      "invalid speed keyframe 540 frame 541 speed 1.865386549673597\n",
      " [[  9.99597537e-01   4.08284462e-03  -2.80730186e-02  -8.51913294e-04]\n",
      " [ -4.06992555e-03   9.99991584e-01   5.17319036e-04   2.95187353e-02]\n",
      " [  2.80748945e-02  -4.02855739e-04   9.99605741e-01  -8.72333660e-01]\n",
      " [  0.00000000e+00   0.00000000e+00   0.00000000e+00   1.00000000e+00]]\n",
      "noot True False 71\n"
     ]
    },
    {
     "name": "stderr",
     "output_type": "stream",
     "text": [
      "\r",
      "                                                                               \r",
      "\r",
      " 49% (543 of 1101) |##########            | Elapsed Time: 0:14:56 ETA:  0:23:13"
     ]
    },
    {
     "name": "stdout",
     "output_type": "stream",
     "text": [
      "aap\n",
      "connected mappoints  36\n"
     ]
    },
    {
     "name": "stderr",
     "output_type": "stream",
     "text": [
      "\r",
      "                                                                               \r",
      "\r",
      " 49% (544 of 1101) |##########            | Elapsed Time: 0:14:59 ETA:  0:24:46"
     ]
    },
    {
     "name": "stdout",
     "output_type": "stream",
     "text": [
      "invalid speed keyframe 542 frame 543 speed 0.9098387786980875\n",
      " [[  9.99461771e-01   3.75038489e-03  -3.25899168e-02  -1.00907683e-02]\n",
      " [ -3.73356895e-03   9.99992864e-01   5.76825498e-04   2.49265886e-02]\n",
      " [  3.25918475e-02  -4.54838333e-04   9.99468641e-01  -8.89326405e-01]\n",
      " [  0.00000000e+00   0.00000000e+00   0.00000000e+00   1.00000000e+00]]\n",
      "noot True False 76\n"
     ]
    },
    {
     "name": "stderr",
     "output_type": "stream",
     "text": [
      "\r",
      "                                                                               \r",
      "\r",
      " 49% (545 of 1101) |##########            | Elapsed Time: 0:15:00 ETA:  0:20:21"
     ]
    },
    {
     "name": "stdout",
     "output_type": "stream",
     "text": [
      "aap\n",
      "connected mappoints  34\n"
     ]
    },
    {
     "name": "stderr",
     "output_type": "stream",
     "text": [
      "\r",
      "                                                                               \r",
      "\r",
      " 49% (546 of 1101) |##########            | Elapsed Time: 0:15:03 ETA:  0:21:27"
     ]
    },
    {
     "name": "stdout",
     "output_type": "stream",
     "text": [
      "invalid speed keyframe 544 frame 545 speed 0.9609743467612806\n",
      " [[ 0.99948658  0.00351932 -0.03184622 -0.0200986 ]\n",
      " [-0.00320671  0.99994623  0.00986182  0.0188268 ]\n",
      " [ 0.03187921 -0.00975463  0.99944413 -0.87361531]\n",
      " [ 0.          0.          0.          1.        ]]\n",
      "noot True False 63\n"
     ]
    },
    {
     "name": "stderr",
     "output_type": "stream",
     "text": [
      "\r",
      "                                                                               \r",
      "\r",
      " 49% (547 of 1101) |##########            | Elapsed Time: 0:15:04 ETA:  0:20:33"
     ]
    },
    {
     "name": "stdout",
     "output_type": "stream",
     "text": [
      "invalid speed keyframe 544 frame 547 speed 0.922778335377631\n",
      " [[ 0.99567616  0.01535964 -0.09161367 -0.07231901]\n",
      " [-0.01239553  0.99938388  0.03283617 -0.11026711]\n",
      " [ 0.09206158 -0.03155859  0.99525309 -0.78426301]\n",
      " [ 0.          0.          0.          1.        ]]\n",
      "aap\n",
      "connected mappoints  30\n"
     ]
    },
    {
     "name": "stderr",
     "output_type": "stream",
     "text": [
      "\r",
      "                                                                               \r",
      "\r",
      " 49% (548 of 1101) |##########            | Elapsed Time: 0:15:06 ETA:  0:21:30"
     ]
    },
    {
     "name": "stdout",
     "output_type": "stream",
     "text": [
      "invalid speed keyframe 546 frame 547 speed 0.8357325537475665\n",
      " [[ 0.99946892 -0.00350114 -0.03239781 -0.01223723]\n",
      " [ 0.00374729  0.99996455  0.0075401   0.00677536]\n",
      " [ 0.03237027 -0.0076575   0.99944661 -0.87130879]\n",
      " [ 0.          0.          0.          1.        ]]\n",
      "noot True False 63\n"
     ]
    },
    {
     "name": "stderr",
     "output_type": "stream",
     "text": [
      "\r",
      "                                                                               \r",
      "\r",
      " 49% (549 of 1101) |##########            | Elapsed Time: 0:15:07 ETA:  0:18:06"
     ]
    },
    {
     "name": "stdout",
     "output_type": "stream",
     "text": [
      "aap\n",
      "connected mappoints  47\n"
     ]
    },
    {
     "name": "stderr",
     "output_type": "stream",
     "text": [
      "\r",
      "                                                                               \r",
      "\r",
      " 49% (550 of 1101) |##########            | Elapsed Time: 0:15:10 ETA:  0:19:16"
     ]
    },
    {
     "name": "stdout",
     "output_type": "stream",
     "text": [
      "invalid speed keyframe 548 frame 549 speed 0.9027468791083822\n",
      " [[  9.99586799e-01  -1.19356421e-03  -2.87194579e-02   6.97091076e-03]\n",
      " [  1.21766814e-03   9.99998921e-01   8.21814751e-04   2.11398696e-02]\n",
      " [  2.87184460e-02  -8.56445945e-04   9.99587173e-01  -8.62677853e-01]\n",
      " [  0.00000000e+00   0.00000000e+00   0.00000000e+00   1.00000000e+00]]\n",
      "noot True False 75\n"
     ]
    },
    {
     "name": "stderr",
     "output_type": "stream",
     "text": [
      " 50% (553 of 1101) |###########           | Elapsed Time: 0:15:12 ETA:  0:14:50"
     ]
    },
    {
     "name": "stdout",
     "output_type": "stream",
     "text": [
      "aap\n",
      "connected mappoints  30\n"
     ]
    },
    {
     "name": "stderr",
     "output_type": "stream",
     "text": [
      "\r",
      "                                                                               \r",
      "\r",
      " 50% (554 of 1101) |###########           | Elapsed Time: 0:15:14 ETA:  0:13:47"
     ]
    },
    {
     "name": "stdout",
     "output_type": "stream",
     "text": [
      "invalid speed keyframe 552 frame 553 speed 2.5843600858323663\n",
      " [[ 0.99981956 -0.00197764 -0.01889283  0.00206667]\n",
      " [ 0.00187517  0.99998345 -0.00543953  0.0346243 ]\n",
      " [ 0.01890327  0.00540312  0.99980672 -0.88737382]\n",
      " [ 0.          0.          0.          1.        ]]\n",
      "noot True False 68\n"
     ]
    },
    {
     "name": "stderr",
     "output_type": "stream",
     "text": [
      " 50% (556 of 1101) |###########           | Elapsed Time: 0:15:16 ETA:  0:11:29"
     ]
    },
    {
     "name": "stdout",
     "output_type": "stream",
     "text": [
      "aap\n",
      "connected mappoints  33\n"
     ]
    },
    {
     "name": "stderr",
     "output_type": "stream",
     "text": [
      "\r",
      "                                                                               \r",
      "\r",
      " 50% (557 of 1101) |###########           | Elapsed Time: 0:15:18 ETA:  0:12:49"
     ]
    },
    {
     "name": "stdout",
     "output_type": "stream",
     "text": [
      "invalid speed keyframe 555 frame 556 speed 1.7808898887211393\n",
      " [[  9.99868916e-01  -9.64328357e-04  -1.61623112e-02   9.10892874e-03]\n",
      " [  1.04241988e-03   9.99987821e-01   4.82397724e-03   1.01303098e-02]\n",
      " [  1.61574625e-02  -4.84019281e-03   9.99857744e-01  -9.08785247e-01]\n",
      " [  0.00000000e+00   0.00000000e+00   0.00000000e+00   1.00000000e+00]]\n",
      "noot True False 83\n"
     ]
    },
    {
     "name": "stderr",
     "output_type": "stream",
     "text": [
      " 50% (559 of 1101) |###########           | Elapsed Time: 0:15:19 ETA:  0:10:38"
     ]
    },
    {
     "name": "stdout",
     "output_type": "stream",
     "text": [
      "invalid speed keyframe 555 frame 559 speed 1.511769049401523\n",
      " [[ 0.99890127  0.0017338  -0.04683206 -0.13169689]\n",
      " [-0.0019566   0.99998698 -0.00471191 -0.06391183]\n",
      " [ 0.04682328  0.00479837  0.99889166 -1.27722304]\n",
      " [ 0.          0.          0.          1.        ]]\n",
      "aap\n",
      "connected mappoints  30\n"
     ]
    },
    {
     "name": "stderr",
     "output_type": "stream",
     "text": [
      "\r",
      "                                                                               \r",
      "\r",
      " 50% (560 of 1101) |###########           | Elapsed Time: 0:15:21 ETA:  0:09:55"
     ]
    },
    {
     "name": "stdout",
     "output_type": "stream",
     "text": [
      "invalid speed keyframe 558 frame 559 speed 1.8314050814221998\n",
      " [[  9.99956872e-01   5.83268228e-03  -7.22731893e-03   1.92610092e-04]\n",
      " [ -5.89693852e-03   9.99942993e-01  -8.90156123e-03   1.71527825e-02]\n",
      " [  7.17498694e-03   8.94379638e-03   9.99934262e-01  -9.57587012e-01]\n",
      " [  0.00000000e+00   0.00000000e+00   0.00000000e+00   1.00000000e+00]]\n",
      "noot True False 88\n"
     ]
    },
    {
     "name": "stderr",
     "output_type": "stream",
     "text": [
      " 51% (562 of 1101) |###########           | Elapsed Time: 0:15:22 ETA:  0:09:21"
     ]
    },
    {
     "name": "stdout",
     "output_type": "stream",
     "text": [
      "aap\n",
      "connected mappoints  35\n"
     ]
    },
    {
     "name": "stderr",
     "output_type": "stream",
     "text": [
      "\r",
      "                                                                               \r",
      "\r",
      " 51% (563 of 1101) |###########           | Elapsed Time: 0:15:23 ETA:  0:10:10"
     ]
    },
    {
     "name": "stdout",
     "output_type": "stream",
     "text": [
      "invalid speed keyframe 561 frame 562 speed 1.903876236856565\n",
      " [[  9.99993036e-01  -3.61673143e-03  -9.20593418e-04   1.70118850e-02]\n",
      " [  3.61921015e-03   9.99989791e-01   2.70524941e-03   1.41347913e-02]\n",
      " [  9.10799859e-04  -2.70856239e-03   9.99995917e-01  -9.68148490e-01]\n",
      " [  0.00000000e+00   0.00000000e+00   0.00000000e+00   1.00000000e+00]]\n",
      "noot True False 71\n"
     ]
    },
    {
     "name": "stderr",
     "output_type": "stream",
     "text": [
      "\r",
      "                                                                               \r",
      "\r",
      " 51% (564 of 1101) |###########           | Elapsed Time: 0:15:24 ETA:  0:08:28"
     ]
    },
    {
     "name": "stdout",
     "output_type": "stream",
     "text": [
      "aap\n",
      "connected mappoints  40\n"
     ]
    },
    {
     "name": "stderr",
     "output_type": "stream",
     "text": [
      "\r",
      "                                                                               \r",
      "\r",
      " 51% (565 of 1101) |###########           | Elapsed Time: 0:15:26 ETA:  0:09:26"
     ]
    },
    {
     "name": "stdout",
     "output_type": "stream",
     "text": [
      "invalid speed keyframe 563 frame 564 speed 0.9426870486614647\n",
      " [[  9.99965515e-01  -8.27498013e-03  -7.02921361e-04   2.91793244e-02]\n",
      " [  8.27657480e-03   9.99963111e-01   2.29685446e-03   9.64158612e-03]\n",
      " [  6.83889006e-04  -2.30259303e-03   9.99997115e-01  -1.00040611e+00]\n",
      " [  0.00000000e+00   0.00000000e+00   0.00000000e+00   1.00000000e+00]]\n",
      "noot True False 75\n"
     ]
    },
    {
     "name": "stderr",
     "output_type": "stream",
     "text": [
      " 51% (567 of 1101) |###########           | Elapsed Time: 0:15:27 ETA:  0:07:39"
     ]
    },
    {
     "name": "stdout",
     "output_type": "stream",
     "text": [
      "aap\n",
      "connected mappoints  23\n"
     ]
    },
    {
     "name": "stderr",
     "output_type": "stream",
     "text": [
      "\r",
      "                                                                               \r",
      "\r",
      " 51% (568 of 1101) |###########           | Elapsed Time: 0:15:28 ETA:  0:08:44"
     ]
    },
    {
     "name": "stdout",
     "output_type": "stream",
     "text": [
      "invalid speed keyframe 566 frame 567 speed 1.9465098203367224\n",
      " [[  9.99997327e-01  -2.27954107e-03   3.86042141e-04   2.12595624e-02]\n",
      " [  2.28015048e-03   9.99996143e-01  -1.58561485e-03   1.43617415e-02]\n",
      " [ -3.82426178e-04   1.58649084e-03   9.99998668e-01  -1.04168120e+00]\n",
      " [  0.00000000e+00   0.00000000e+00   0.00000000e+00   1.00000000e+00]]\n",
      "noot True False 67\n"
     ]
    },
    {
     "name": "stderr",
     "output_type": "stream",
     "text": [
      "\r",
      "                                                                               \r",
      "\r",
      " 51% (569 of 1101) |###########           | Elapsed Time: 0:15:29 ETA:  0:08:42"
     ]
    },
    {
     "name": "stdout",
     "output_type": "stream",
     "text": [
      "aap\n",
      "connected mappoints  30\n"
     ]
    },
    {
     "name": "stderr",
     "output_type": "stream",
     "text": [
      "\r",
      "                                                                               \r",
      "\r",
      " 51% (570 of 1101) |###########           | Elapsed Time: 0:15:30 ETA:  0:08:30"
     ]
    },
    {
     "name": "stdout",
     "output_type": "stream",
     "text": [
      "invalid speed keyframe 568 frame 569 speed 1.0551411895236344\n",
      " [[ 0.99999771 -0.00180053  0.00115818  0.01958434]\n",
      " [ 0.00179912  0.99999764  0.00121459  0.01277832]\n",
      " [-0.00116037 -0.0012125   0.99999859 -1.04250664]\n",
      " [ 0.          0.          0.          1.        ]]\n",
      "noot True False 60\n",
      "aap\n",
      "connected mappoints  57\n"
     ]
    },
    {
     "name": "stderr",
     "output_type": "stream",
     "text": [
      "\r",
      "                                                                               \r",
      "\r",
      " 51% (571 of 1101) |###########           | Elapsed Time: 0:15:32 ETA:  0:09:29"
     ]
    },
    {
     "name": "stdout",
     "output_type": "stream",
     "text": [
      "noot False False 69\n"
     ]
    },
    {
     "name": "stderr",
     "output_type": "stream",
     "text": [
      "\r",
      "                                                                               \r",
      "\r",
      " 51% (572 of 1101) |###########           | Elapsed Time: 0:15:33 ETA:  0:09:38"
     ]
    },
    {
     "name": "stdout",
     "output_type": "stream",
     "text": [
      "aap\n",
      "connected mappoints  40\n"
     ]
    },
    {
     "name": "stderr",
     "output_type": "stream",
     "text": [
      "\r",
      "                                                                               \r",
      "\r",
      " 52% (573 of 1101) |###########           | Elapsed Time: 0:15:34 ETA:  0:09:32"
     ]
    },
    {
     "name": "stdout",
     "output_type": "stream",
     "text": [
      "invalid speed keyframe 571 frame 572 speed 1.0684713144940219\n",
      " [[  9.99995288e-01  -3.06046978e-03  -2.39404562e-04   2.04055982e-02]\n",
      " [  3.06068708e-03   9.99994900e-01   9.12615623e-04   1.63512240e-02]\n",
      " [  2.36610309e-04  -9.13344066e-04   9.99999555e-01  -1.05285485e+00]\n",
      " [  0.00000000e+00   0.00000000e+00   0.00000000e+00   1.00000000e+00]]\n",
      "noot True False 72\n",
      "aap\n",
      "connected mappoints  62\n"
     ]
    },
    {
     "name": "stderr",
     "output_type": "stream",
     "text": [
      "\r",
      "                                                                               \r",
      "\r",
      " 52% (574 of 1101) |###########           | Elapsed Time: 0:15:36 ETA:  0:10:27"
     ]
    },
    {
     "name": "stdout",
     "output_type": "stream",
     "text": [
      "noot False False 64\n",
      "aap\n",
      "connected mappoints  58\n"
     ]
    },
    {
     "name": "stderr",
     "output_type": "stream",
     "text": [
      "\r",
      "                                                                               \r",
      "\r",
      " 52% (575 of 1101) |###########           | Elapsed Time: 0:15:37 ETA:  0:10:15"
     ]
    },
    {
     "name": "stdout",
     "output_type": "stream",
     "text": [
      "invalid speed keyframe 573 frame 574 speed 0.0032491634355040766\n",
      " [[  9.99998042e-01  -7.25820856e-04  -1.84093152e-03   1.92160552e-02]\n",
      " [  7.24311051e-04   9.99999401e-01  -8.20665029e-04   2.32041062e-02]\n",
      " [  1.84152607e-03   8.19330015e-04   9.99997969e-01  -1.07150524e+00]\n",
      " [  0.00000000e+00   0.00000000e+00   0.00000000e+00   1.00000000e+00]]\n",
      "noot True False 58\n"
     ]
    },
    {
     "name": "stderr",
     "output_type": "stream",
     "text": [
      "\r",
      "                                                                               \r",
      "\r",
      " 52% (576 of 1101) |###########           | Elapsed Time: 0:15:38 ETA:  0:10:14"
     ]
    },
    {
     "name": "stdout",
     "output_type": "stream",
     "text": [
      "aap\n",
      "connected mappoints  31\n"
     ]
    },
    {
     "name": "stderr",
     "output_type": "stream",
     "text": [
      "\r",
      "                                                                               \r",
      "\r",
      " 52% (577 of 1101) |###########           | Elapsed Time: 0:15:40 ETA:  0:11:23"
     ]
    },
    {
     "name": "stdout",
     "output_type": "stream",
     "text": [
      "invalid speed keyframe 575 frame 576 speed 1.0616116625684586\n",
      " [[  9.99997254e-01  -1.37195753e-03  -1.90002023e-03   3.40419009e-02]\n",
      " [  1.37230583e-03   9.99999042e-01   1.82018553e-04   1.57010193e-02]\n",
      " [  1.89976869e-03  -1.84625462e-04   9.99998178e-01  -1.05887706e+00]\n",
      " [  0.00000000e+00   0.00000000e+00   0.00000000e+00   1.00000000e+00]]\n",
      "noot True False 44\n",
      "aap\n",
      "connected mappoints  33\n"
     ]
    },
    {
     "name": "stderr",
     "output_type": "stream",
     "text": [
      "\r",
      "                                                                               \r",
      "\r",
      " 52% (578 of 1101) |###########           | Elapsed Time: 0:15:41 ETA:  0:11:23"
     ]
    },
    {
     "name": "stdout",
     "output_type": "stream",
     "text": [
      "noot False False 58\n",
      "aap\n",
      "connected mappoints  48\n"
     ]
    },
    {
     "name": "stderr",
     "output_type": "stream",
     "text": [
      "\r",
      "                                                                               \r",
      "\r",
      " 52% (579 of 1101) |###########           | Elapsed Time: 0:15:43 ETA:  0:12:34"
     ]
    },
    {
     "name": "stdout",
     "output_type": "stream",
     "text": [
      "noot False False 60\n",
      "aap\n",
      "connected mappoints  51\n"
     ]
    },
    {
     "name": "stderr",
     "output_type": "stream",
     "text": [
      "\r",
      "                                                                               \r",
      "\r",
      " 52% (580 of 1101) |###########           | Elapsed Time: 0:15:45 ETA:  0:12:38"
     ]
    },
    {
     "name": "stdout",
     "output_type": "stream",
     "text": [
      "invalid speed keyframe 578 frame 579 speed 0.020988672355124693\n",
      " [[ 0.99999714 -0.00182513 -0.00154637  0.02941383]\n",
      " [ 0.00182221  0.99999656 -0.00188853  0.02371544]\n",
      " [ 0.00154981  0.00188571  0.99999702 -1.05625591]\n",
      " [ 0.          0.          0.          1.        ]]\n",
      "noot True False 72\n"
     ]
    },
    {
     "name": "stderr",
     "output_type": "stream",
     "text": [
      "\r",
      "                                                                               \r",
      "\r",
      " 52% (581 of 1101) |###########           | Elapsed Time: 0:15:46 ETA:  0:11:41"
     ]
    },
    {
     "name": "stdout",
     "output_type": "stream",
     "text": [
      "aap\n",
      "connected mappoints  29\n"
     ]
    },
    {
     "name": "stderr",
     "output_type": "stream",
     "text": [
      "\r",
      "                                                                               \r",
      "\r",
      " 52% (582 of 1101) |###########           | Elapsed Time: 0:15:48 ETA:  0:12:50"
     ]
    },
    {
     "name": "stdout",
     "output_type": "stream",
     "text": [
      "invalid speed keyframe 580 frame 581 speed 1.065880682426483\n",
      " [[  9.99999209e-01  -7.49829596e-04  -1.00960303e-03   1.66073296e-02]\n",
      " [  7.52295024e-04   9.99996731e-01   2.44381682e-03   2.24974188e-02]\n",
      " [  1.00776728e-03  -2.44457441e-03   9.99996504e-01  -1.07076085e+00]\n",
      " [  0.00000000e+00   0.00000000e+00   0.00000000e+00   1.00000000e+00]]\n",
      "noot True False 79\n"
     ]
    },
    {
     "name": "stderr",
     "output_type": "stream",
     "text": [
      " 53% (585 of 1101) |###########           | Elapsed Time: 0:15:49 ETA:  0:10:26"
     ]
    },
    {
     "name": "stdout",
     "output_type": "stream",
     "text": [
      "aap\n",
      "connected mappoints  23\n"
     ]
    },
    {
     "name": "stderr",
     "output_type": "stream",
     "text": [
      "\r",
      "                                                                               \r",
      "\r",
      " 53% (586 of 1101) |###########           | Elapsed Time: 0:15:52 ETA:  0:11:59"
     ]
    },
    {
     "name": "stdout",
     "output_type": "stream",
     "text": [
      "invalid speed keyframe 584 frame 585 speed 3.1037066317253847\n",
      " [[  9.99996978e-01  -1.29102364e-04  -2.45510157e-03   1.52718829e-02]\n",
      " [  1.24752526e-04   9.99998423e-01  -1.77182556e-03   3.13809300e-02]\n",
      " [  2.45532645e-03   1.77151393e-03   9.99995417e-01  -1.05009022e+00]\n",
      " [  0.00000000e+00   0.00000000e+00   0.00000000e+00   1.00000000e+00]]\n",
      "noot True False 52\n",
      "aap\n",
      "connected mappoints  42\n"
     ]
    },
    {
     "name": "stderr",
     "output_type": "stream",
     "text": [
      "\r",
      "                                                                               \r",
      "\r",
      " 53% (587 of 1101) |###########           | Elapsed Time: 0:15:54 ETA:  0:12:34"
     ]
    },
    {
     "name": "stdout",
     "output_type": "stream",
     "text": [
      "noot False False 51\n",
      "aap\n",
      "connected mappoints  45\n"
     ]
    },
    {
     "name": "stderr",
     "output_type": "stream",
     "text": [
      "\r",
      "                                                                               \r",
      "\r",
      " 53% (588 of 1101) |###########           | Elapsed Time: 0:15:57 ETA:  0:12:53"
     ]
    },
    {
     "name": "stdout",
     "output_type": "stream",
     "text": [
      "invalid speed keyframe 586 frame 587 speed 0.03489393627020698\n",
      " [[  9.99992237e-01  -1.73578588e-03  -3.53727913e-03   2.91506561e-02]\n",
      " [  1.73866723e-03   9.99998159e-01   8.11654648e-04   2.45122639e-02]\n",
      " [  3.53586376e-03  -8.17798499e-04   9.99993414e-01  -1.02581249e+00]\n",
      " [  0.00000000e+00   0.00000000e+00   0.00000000e+00   1.00000000e+00]]\n",
      "noot True False 54\n",
      "aap\n",
      "connected mappoints  44\n"
     ]
    },
    {
     "name": "stderr",
     "output_type": "stream",
     "text": [
      "\r",
      "                                                                               \r",
      "\r",
      " 53% (589 of 1101) |###########           | Elapsed Time: 0:15:58 ETA:  0:12:57"
     ]
    },
    {
     "name": "stdout",
     "output_type": "stream",
     "text": [
      "invalid speed keyframe 587 frame 588 speed 0.0018970377597973265\n",
      " [[ 0.99999229 -0.00206032 -0.00334354  0.02447426]\n",
      " [ 0.00206435  0.99999715  0.00120176  0.01507474]\n",
      " [ 0.00334106 -0.00120865  0.99999369 -1.02391545]\n",
      " [ 0.          0.          0.          1.        ]]\n",
      "noot True False 50\n",
      "aap\n",
      "connected mappoints  40\n"
     ]
    },
    {
     "name": "stderr",
     "output_type": "stream",
     "text": [
      "\r",
      "                                                                               \r",
      "\r",
      " 53% (590 of 1101) |###########           | Elapsed Time: 0:16:00 ETA:  0:13:06"
     ]
    },
    {
     "name": "stdout",
     "output_type": "stream",
     "text": [
      "noot False False 57\n",
      "invalid speed keyframe 588 frame 590 speed 0.9027518426568132\n",
      " [[ 0.99985889 -0.0165969   0.00259787 -0.82315495]\n",
      " [ 0.01660582  0.99985616 -0.00345026 -0.04436732]\n",
      " [-0.00254023  0.00349291  0.99999067 -0.13126144]\n",
      " [ 0.          0.          0.          1.        ]]\n",
      "aap\n",
      "connected mappoints  48\n"
     ]
    },
    {
     "name": "stderr",
     "output_type": "stream",
     "text": [
      "\r",
      "                                                                               \r",
      "\r",
      " 53% (591 of 1101) |###########           | Elapsed Time: 0:16:03 ETA:  0:14:25"
     ]
    },
    {
     "name": "stdout",
     "output_type": "stream",
     "text": [
      "noot False False 60\n",
      "aap\n",
      "connected mappoints  51\n"
     ]
    },
    {
     "name": "stderr",
     "output_type": "stream",
     "text": [
      "\r",
      "                                                                               \r",
      "\r",
      " 53% (592 of 1101) |###########           | Elapsed Time: 0:16:05 ETA:  0:14:49"
     ]
    },
    {
     "name": "stdout",
     "output_type": "stream",
     "text": [
      "invalid speed keyframe 590 frame 591 speed 0.6159552632862022\n",
      " [[  9.99997935e-01   1.95300366e-03  -5.62126899e-04  -1.35003681e-01]\n",
      " [ -1.95403255e-03   9.99996406e-01  -1.83565365e-03   4.00605253e-02]\n",
      " [  5.58539840e-04   1.83674827e-03   9.99998157e-01  -4.31857891e-01]\n",
      " [  0.00000000e+00   0.00000000e+00   0.00000000e+00   1.00000000e+00]]\n",
      "noot True False 33\n",
      "aap\n",
      "connected mappoints  27\n"
     ]
    },
    {
     "name": "stderr",
     "output_type": "stream",
     "text": [
      "\r",
      "                                                                               \r",
      "\r",
      " 53% (593 of 1101) |###########           | Elapsed Time: 0:16:08 ETA:  0:16:50"
     ]
    },
    {
     "name": "stdout",
     "output_type": "stream",
     "text": [
      "noot False False 74\n",
      "aap\n",
      "connected mappoints  51\n"
     ]
    },
    {
     "name": "stderr",
     "output_type": "stream",
     "text": [
      "\r",
      "                                                                               \r",
      "\r",
      " 53% (594 of 1101) |###########           | Elapsed Time: 0:16:11 ETA:  0:19:06"
     ]
    },
    {
     "name": "stdout",
     "output_type": "stream",
     "text": [
      "invalid speed keyframe 592 frame 593 speed 0.016174981998794857\n",
      " [[  9.99996903e-01   1.36776494e-04  -2.48504425e-03   1.66468819e-02]\n",
      " [ -1.35080092e-04   9.99999758e-01   6.82799663e-04   2.42652157e-02]\n",
      " [  2.48513704e-03  -6.82461869e-04   9.99996679e-01  -1.03114474e+00]\n",
      " [  0.00000000e+00   0.00000000e+00   0.00000000e+00   1.00000000e+00]]\n",
      "noot True False 61\n",
      "aap\n",
      "connected mappoints  54\n"
     ]
    },
    {
     "name": "stderr",
     "output_type": "stream",
     "text": [
      "\r",
      "                                                                               \r",
      "\r",
      " 54% (595 of 1101) |###########           | Elapsed Time: 0:16:15 ETA:  0:21:30"
     ]
    },
    {
     "name": "stdout",
     "output_type": "stream",
     "text": [
      "invalid speed keyframe 593 frame 594 speed 0.0003432686219073666\n",
      " [[  9.99997802e-01   9.16962476e-04  -1.88556989e-03   1.61681175e-02]\n",
      " [ -9.14963705e-04   9.99999019e-01   1.06062491e-03   1.87386118e-02]\n",
      " [  1.88654059e-03  -1.05889735e-03   9.99997660e-01  -1.03080147e+00]\n",
      " [  0.00000000e+00   0.00000000e+00   0.00000000e+00   1.00000000e+00]]\n",
      "noot True False 106\n"
     ]
    },
    {
     "name": "stderr",
     "output_type": "stream",
     "text": [
      "\r",
      "                                                                               \r",
      "\r",
      " 54% (596 of 1101) |###########           | Elapsed Time: 0:16:16 ETA:  0:20:25"
     ]
    },
    {
     "name": "stdout",
     "output_type": "stream",
     "text": [
      "aap\n",
      "connected mappoints  34\n"
     ]
    },
    {
     "name": "stderr",
     "output_type": "stream",
     "text": [
      "\r",
      "                                                                               \r",
      "\r",
      " 54% (597 of 1101) |###########           | Elapsed Time: 0:16:20 ETA:  0:21:26"
     ]
    },
    {
     "name": "stdout",
     "output_type": "stream",
     "text": [
      "invalid speed keyframe 595 frame 596 speed 1.021224943737641\n",
      " [[  9.99999259e-01  -5.98089775e-04  -1.05993782e-03   1.34499500e-02]\n",
      " [  5.97056066e-04   9.99999346e-01  -9.75303030e-04   2.78740873e-02]\n",
      " [  1.06052045e-03   9.74669465e-04   9.99998963e-01  -1.02326269e+00]\n",
      " [  0.00000000e+00   0.00000000e+00   0.00000000e+00   1.00000000e+00]]\n",
      "noot True False 98\n"
     ]
    },
    {
     "name": "stderr",
     "output_type": "stream",
     "text": [
      " 54% (600 of 1101) |###########           | Elapsed Time: 0:16:24 ETA:  0:19:19"
     ]
    },
    {
     "name": "stdout",
     "output_type": "stream",
     "text": [
      "invalid speed keyframe 595 frame 600 speed -4.1629861140423685\n",
      " [[  9.99979851e-01   6.34769806e-03  -7.09517552e-05  -3.40875325e-01]\n",
      " [ -6.34609374e-03   9.99882826e-01   1.39306138e-02  -6.05786104e-01]\n",
      " [  1.59370772e-04  -1.39298829e-02   9.99902962e-01  -7.55696136e+00]\n",
      " [  0.00000000e+00   0.00000000e+00   0.00000000e+00   1.00000000e+00]]\n",
      "aap\n",
      "connected mappoints  22\n"
     ]
    },
    {
     "name": "stderr",
     "output_type": "stream",
     "text": [
      "\r",
      "                                                                               \r",
      "\r",
      " 54% (601 of 1101) |############          | Elapsed Time: 0:16:27 ETA:  0:20:47"
     ]
    },
    {
     "name": "stdout",
     "output_type": "stream",
     "text": [
      "invalid speed keyframe 599 frame 600 speed 2.969258164198954\n",
      " [[  9.99997256e-01   6.23025029e-04  -2.25842760e-03   2.21983003e-01]\n",
      " [ -6.19921671e-04   9.99998863e-01   1.37456271e-03  -4.06894605e-02]\n",
      " [  2.25928142e-03  -1.37315889e-03   9.99996505e-01  -4.24717086e-01]\n",
      " [  0.00000000e+00   0.00000000e+00   0.00000000e+00   1.00000000e+00]]\n",
      "noot True False 78\n",
      "aap\n",
      "connected mappoints  69\n"
     ]
    },
    {
     "name": "stderr",
     "output_type": "stream",
     "text": [
      "\r",
      "                                                                               \r",
      "\r",
      " 54% (602 of 1101) |############          | Elapsed Time: 0:16:32 ETA:  0:22:04"
     ]
    },
    {
     "name": "stdout",
     "output_type": "stream",
     "text": [
      "noot False False 88\n"
     ]
    },
    {
     "name": "stderr",
     "output_type": "stream",
     "text": [
      " 54% (604 of 1101) |############          | Elapsed Time: 0:16:34 ETA:  0:18:42"
     ]
    },
    {
     "name": "stdout",
     "output_type": "stream",
     "text": [
      "aap\n",
      "connected mappoints  43\n"
     ]
    },
    {
     "name": "stderr",
     "output_type": "stream",
     "text": [
      "\r",
      "                                                                               \r",
      "\r",
      " 54% (605 of 1101) |############          | Elapsed Time: 0:16:38 ETA:  0:19:20"
     ]
    },
    {
     "name": "stdout",
     "output_type": "stream",
     "text": [
      "invalid speed keyframe 603 frame 604 speed 2.0487901008726723\n",
      " [[  9.99999559e-01   4.00943256e-04   8.48976795e-04   1.55007977e-02]\n",
      " [ -4.00219067e-04   9.99999556e-01  -8.53011696e-04   2.00403794e-02]\n",
      " [ -8.49318428e-04   8.52671544e-04   9.99999276e-01  -1.00069859e+00]\n",
      " [  0.00000000e+00   0.00000000e+00   0.00000000e+00   1.00000000e+00]]\n",
      "noot True False 114\n"
     ]
    },
    {
     "name": "stderr",
     "output_type": "stream",
     "text": [
      "\r",
      "                                                                               \r",
      "\r",
      " 55% (606 of 1101) |############          | Elapsed Time: 0:16:40 ETA:  0:19:27"
     ]
    },
    {
     "name": "stdout",
     "output_type": "stream",
     "text": [
      "invalid speed keyframe 603 frame 606 speed 0.15121664923339506\n",
      " [[  9.99988773e-01  -1.07955307e-03   4.61388818e-03  -2.39655437e-01]\n",
      " [  1.10144384e-03   9.99988138e-01  -4.74463425e-03   2.07548098e-01]\n",
      " [ -4.60871137e-03   4.74966293e-03   9.99978100e-01  -1.84342694e+00]\n",
      " [  0.00000000e+00   0.00000000e+00   0.00000000e+00   1.00000000e+00]]\n",
      "aap\n",
      "connected mappoints  39\n"
     ]
    },
    {
     "name": "stderr",
     "output_type": "stream",
     "text": [
      "\r",
      "                                                                               \r",
      "\r",
      " 55% (607 of 1101) |############          | Elapsed Time: 0:16:44 ETA:  0:19:45"
     ]
    },
    {
     "name": "stdout",
     "output_type": "stream",
     "text": [
      "invalid speed keyframe 605 frame 606 speed 1.015300321112694\n",
      " [[  9.99999059e-01  -1.10609016e-03   8.11659836e-04   1.74627037e-02]\n",
      " [  1.10645538e-03   9.99999287e-01  -4.49657395e-04   2.52558200e-02]\n",
      " [ -8.11161895e-04   4.50555037e-04   9.99999570e-01  -9.79343266e-01]\n",
      " [  0.00000000e+00   0.00000000e+00   0.00000000e+00   1.00000000e+00]]\n",
      "noot True False 110\n"
     ]
    },
    {
     "name": "stderr",
     "output_type": "stream",
     "text": [
      "\r",
      "                                                                               \r",
      "\r",
      " 55% (608 of 1101) |############          | Elapsed Time: 0:16:45 ETA:  0:19:48"
     ]
    },
    {
     "name": "stdout",
     "output_type": "stream",
     "text": [
      "aap\n",
      "connected mappoints  43\n"
     ]
    },
    {
     "name": "stderr",
     "output_type": "stream",
     "text": [
      "\r",
      "                                                                               \r",
      "\r",
      " 55% (609 of 1101) |############          | Elapsed Time: 0:16:49 ETA:  0:21:55"
     ]
    },
    {
     "name": "stdout",
     "output_type": "stream",
     "text": [
      "invalid speed keyframe 607 frame 608 speed 0.9802435309005672\n",
      " [[ 0.99999559  0.0021682   0.00202783  0.0078978 ]\n",
      " [-0.00217071  0.99999688  0.00123674  0.01904102]\n",
      " [-0.00202514 -0.00124114  0.99999718 -0.98569377]\n",
      " [ 0.          0.          0.          1.        ]]\n",
      "noot True False 117\n"
     ]
    },
    {
     "name": "stderr",
     "output_type": "stream",
     "text": [
      " 55% (611 of 1101) |############          | Elapsed Time: 0:16:52 ETA:  0:19:45"
     ]
    },
    {
     "name": "stdout",
     "output_type": "stream",
     "text": [
      "aap\n",
      "connected mappoints  31\n"
     ]
    },
    {
     "name": "stderr",
     "output_type": "stream",
     "text": [
      "\r",
      "                                                                               \r",
      "\r",
      " 55% (612 of 1101) |############          | Elapsed Time: 0:16:55 ETA:  0:19:10"
     ]
    },
    {
     "name": "stdout",
     "output_type": "stream",
     "text": [
      "invalid speed keyframe 610 frame 611 speed 1.9599187745055031\n",
      " [[  9.99996631e-01   3.28308713e-04   2.57499810e-03   1.02017627e-02]\n",
      " [ -3.32176012e-04   9.99998817e-01   1.50158089e-03   2.25361285e-02]\n",
      " [ -2.57450208e-03  -1.50243119e-03   9.99995557e-01  -9.61779597e-01]\n",
      " [  0.00000000e+00   0.00000000e+00   0.00000000e+00   1.00000000e+00]]\n",
      "noot True False 126\n"
     ]
    },
    {
     "name": "stderr",
     "output_type": "stream",
     "text": [
      "\r",
      "                                                                               \r",
      "\r",
      " 55% (613 of 1101) |############          | Elapsed Time: 0:16:56 ETA:  0:19:05"
     ]
    },
    {
     "name": "stdout",
     "output_type": "stream",
     "text": [
      "aap\n",
      "connected mappoints  58\n"
     ]
    },
    {
     "name": "stderr",
     "output_type": "stream",
     "text": [
      "\r",
      "                                                                               \r",
      "\r",
      " 55% (614 of 1101) |############          | Elapsed Time: 0:17:00 ETA:  0:21:10"
     ]
    },
    {
     "name": "stdout",
     "output_type": "stream",
     "text": [
      "invalid speed keyframe 612 frame 613 speed 0.9743587627967076\n",
      " [[  9.99999265e-01  -5.86411922e-04   1.06090797e-03   1.30260119e-02]\n",
      " [  5.86901663e-04   9.99999721e-01  -4.61372152e-04   2.25994882e-02]\n",
      " [ -1.06063712e-03   4.61994461e-04   9.99999331e-01  -9.55584475e-01]\n",
      " [  0.00000000e+00   0.00000000e+00   0.00000000e+00   1.00000000e+00]]\n",
      "noot True False 113\n"
     ]
    },
    {
     "name": "stderr",
     "output_type": "stream",
     "text": [
      " 55% (616 of 1101) |############          | Elapsed Time: 0:17:03 ETA:  0:18:32"
     ]
    },
    {
     "name": "stdout",
     "output_type": "stream",
     "text": [
      "invalid speed keyframe 612 frame 616 speed 1.0889100714349607\n",
      " [[ 0.99995562  0.00209961  0.00918419 -0.66927779]\n",
      " [-0.00205537  0.99998625 -0.00482359 -0.02596448]\n",
      " [-0.0091942   0.0048045   0.99994619 -1.73621659]\n",
      " [ 0.          0.          0.          1.        ]]\n",
      "aap\n",
      "connected mappoints  38\n"
     ]
    },
    {
     "name": "stderr",
     "output_type": "stream",
     "text": [
      "\r",
      "                                                                               \r",
      "\r",
      " 56% (617 of 1101) |############          | Elapsed Time: 0:17:07 ETA:  0:18:26"
     ]
    },
    {
     "name": "stdout",
     "output_type": "stream",
     "text": [
      "invalid speed keyframe 615 frame 616 speed 1.8949724842727798\n",
      " [[  9.99999350e-01  -6.57794018e-04  -9.31567963e-04   1.05930329e-02]\n",
      " [  6.57151967e-04   9.99999546e-01  -6.89353662e-04   1.65282147e-02]\n",
      " [  9.32020993e-04   6.88741032e-04   9.99999328e-01  -9.30154178e-01]\n",
      " [  0.00000000e+00   0.00000000e+00   0.00000000e+00   1.00000000e+00]]\n",
      "noot True False 89\n"
     ]
    },
    {
     "name": "stderr",
     "output_type": "stream",
     "text": [
      " 56% (622 of 1101) |############          | Elapsed Time: 0:17:13 ETA:  0:14:01"
     ]
    },
    {
     "name": "stdout",
     "output_type": "stream",
     "text": [
      "aap\n",
      "connected mappoints  34\n"
     ]
    },
    {
     "name": "stderr",
     "output_type": "stream",
     "text": [
      "\r",
      "                                                                               \r",
      "\r",
      " 56% (623 of 1101) |############          | Elapsed Time: 0:17:16 ETA:  0:15:45"
     ]
    },
    {
     "name": "stdout",
     "output_type": "stream",
     "text": [
      "invalid speed keyframe 621 frame 622 speed 4.517276438691554\n",
      " [[  9.99968126e-01   2.10063293e-03  -7.70282774e-03   4.50688263e-03]\n",
      " [ -2.10331324e-03   9.99997730e-01  -3.39880112e-04   2.33151750e-02]\n",
      " [  7.70209630e-03   3.56070738e-04   9.99970275e-01  -8.15246744e-01]\n",
      " [  0.00000000e+00   0.00000000e+00   0.00000000e+00   1.00000000e+00]]\n",
      "noot True False 124\n"
     ]
    },
    {
     "name": "stderr",
     "output_type": "stream",
     "text": [
      " 56% (627 of 1101) |############          | Elapsed Time: 0:17:20 ETA:  0:10:52"
     ]
    },
    {
     "name": "stdout",
     "output_type": "stream",
     "text": [
      "aap\n",
      "connected mappoints  33\n"
     ]
    },
    {
     "name": "stderr",
     "output_type": "stream",
     "text": [
      "\r",
      "                                                                               \r",
      "\r",
      " 57% (628 of 1101) |############          | Elapsed Time: 0:17:24 ETA:  0:12:34"
     ]
    },
    {
     "name": "stdout",
     "output_type": "stream",
     "text": [
      "invalid speed keyframe 626 frame 627 speed 3.213097744707753\n",
      " [[  9.99978038e-01   7.93915140e-04  -6.57973293e-03  -1.34673639e-03]\n",
      " [ -7.91592821e-04   9.99999623e-01   3.55547157e-04   1.72562161e-02]\n",
      " [  6.58001272e-03  -3.50330879e-04   9.99978290e-01  -7.07709399e-01]\n",
      " [  0.00000000e+00   0.00000000e+00   0.00000000e+00   1.00000000e+00]]\n",
      "noot True False 150\n"
     ]
    },
    {
     "name": "stderr",
     "output_type": "stream",
     "text": [
      " 57% (632 of 1101) |############          | Elapsed Time: 0:17:28 ETA:  0:11:42"
     ]
    },
    {
     "name": "stdout",
     "output_type": "stream",
     "text": [
      "aap\n",
      "connected mappoints  33\n"
     ]
    },
    {
     "name": "stderr",
     "output_type": "stream",
     "text": [
      "\r",
      "                                                                               \r",
      "\r",
      " 57% (633 of 1101) |############          | Elapsed Time: 0:17:30 ETA:  0:11:02"
     ]
    },
    {
     "name": "stdout",
     "output_type": "stream",
     "text": [
      "invalid speed keyframe 631 frame 632 speed 2.676757891618034\n",
      " [[ 0.99999072  0.00150716 -0.00403705 -0.01628313]\n",
      " [-0.00151202  0.99999813 -0.00120212  0.01360332]\n",
      " [ 0.00403523  0.00120821  0.99999113 -0.58541057]\n",
      " [ 0.          0.          0.          1.        ]]\n",
      "noot True False 105\n"
     ]
    },
    {
     "name": "stderr",
     "output_type": "stream",
     "text": [
      "\r",
      "                                                                               \r",
      "\r",
      " 57% (634 of 1101) |############          | Elapsed Time: 0:17:31 ETA:  0:10:48"
     ]
    },
    {
     "name": "stdout",
     "output_type": "stream",
     "text": [
      "aap\n",
      "connected mappoints  56\n"
     ]
    },
    {
     "name": "stderr",
     "output_type": "stream",
     "text": [
      "\r",
      "                                                                               \r",
      "\r",
      " 57% (635 of 1101) |############          | Elapsed Time: 0:17:34 ETA:  0:12:15"
     ]
    },
    {
     "name": "stdout",
     "output_type": "stream",
     "text": [
      "invalid speed keyframe 633 frame 634 speed 0.6228555705102548\n",
      " [[  9.99992814e-01   1.20903972e-03  -3.59315760e-03  -2.78715060e-03]\n",
      " [ -1.21134266e-03   9.99999062e-01  -6.38816375e-04   1.32474960e-02]\n",
      " [  3.59238187e-03   6.43164329e-04   9.99993341e-01  -5.09932071e-01]\n",
      " [  0.00000000e+00   0.00000000e+00   0.00000000e+00   1.00000000e+00]]\n",
      "noot True False 76\n"
     ]
    },
    {
     "name": "stderr",
     "output_type": "stream",
     "text": [
      "\r",
      "                                                                               \r",
      "\r",
      " 57% (636 of 1101) |############          | Elapsed Time: 0:17:35 ETA:  0:11:59"
     ]
    },
    {
     "name": "stdout",
     "output_type": "stream",
     "text": [
      "aap\n",
      "connected mappoints  40\n"
     ]
    },
    {
     "name": "stderr",
     "output_type": "stream",
     "text": [
      "\r",
      "                                                                               \r",
      "\r",
      " 57% (637 of 1101) |############          | Elapsed Time: 0:17:37 ETA:  0:13:01"
     ]
    },
    {
     "name": "stdout",
     "output_type": "stream",
     "text": [
      "invalid speed keyframe 635 frame 636 speed 0.5256464600192985\n",
      " [[  9.99995610e-01   1.48942133e-03  -2.56139003e-03  -2.76301127e-03]\n",
      " [ -1.49061869e-03   9.99998781e-01  -4.65621575e-04   4.80933897e-03]\n",
      " [  2.56069340e-03   4.69437587e-04   9.99996611e-01  -4.70777348e-01]\n",
      " [  0.00000000e+00   0.00000000e+00   0.00000000e+00   1.00000000e+00]]\n",
      "noot True False 59\n"
     ]
    },
    {
     "name": "stderr",
     "output_type": "stream",
     "text": [
      "\r",
      "                                                                               \r",
      "\r",
      " 57% (638 of 1101) |############          | Elapsed Time: 0:17:38 ETA:  0:10:47"
     ]
    },
    {
     "name": "stdout",
     "output_type": "stream",
     "text": [
      "aap\n",
      "connected mappoints  37\n"
     ]
    },
    {
     "name": "stderr",
     "output_type": "stream",
     "text": [
      "\r",
      "                                                                               \r",
      "\r",
      " 58% (639 of 1101) |############          | Elapsed Time: 0:17:39 ETA:  0:11:17"
     ]
    },
    {
     "name": "stdout",
     "output_type": "stream",
     "text": [
      "invalid speed keyframe 637 frame 638 speed 0.5395505528701193\n",
      " [[  9.99999282e-01   6.33156387e-04  -1.01785673e-03  -4.81492577e-03]\n",
      " [ -6.33843447e-04   9.99999571e-01  -6.74825624e-04   7.71268647e-03]\n",
      " [  1.01742902e-03   6.75470301e-04   9.99999254e-01  -3.98197194e-01]\n",
      " [  0.00000000e+00   0.00000000e+00   0.00000000e+00   1.00000000e+00]]\n",
      "noot True False 43\n",
      "invalid speed keyframe 637 frame 639 speed 0.39819719377951246\n",
      " [[ 0.  0.  0.  0.]\n",
      " [ 0.  0.  0.  0.]\n",
      " [ 0.  0.  0.  0.]\n",
      " [ 0.  0.  0.  0.]]\n",
      "aap\n",
      "connected mappoints  34\n"
     ]
    },
    {
     "name": "stderr",
     "output_type": "stream",
     "text": [
      "\r",
      "                                                                               \r",
      "\r",
      " 58% (640 of 1101) |############          | Elapsed Time: 0:17:41 ETA:  0:11:31"
     ]
    },
    {
     "name": "stdout",
     "output_type": "stream",
     "text": [
      "noot False False 8\n",
      "invalid rotation 0.489837597126 \n",
      " [[ -8.92940602e-01   8.68946630e-02   4.41667536e-01   6.01543473e-03]\n",
      " [ -1.27261642e-02  -9.85671733e-01   1.68194169e-01   5.59274849e-15]\n",
      " [ -4.49962523e-01  -1.44569285e-01  -8.81268092e-01   5.20417043e-18]\n",
      " [  5.37152309e-03  -5.22718631e-04  -2.65687031e-03   9.99981907e-01]]\n",
      "invalid speed keyframe 638 frame 640 speed 0.4115104114725169\n",
      " [[ -8.92940602e-01   8.68946630e-02   4.41667536e-01   6.01543473e-03]\n",
      " [ -1.27261642e-02  -9.85671733e-01   1.68194169e-01   5.59274849e-15]\n",
      " [ -4.49962523e-01  -1.44569285e-01  -8.81268092e-01   5.20417043e-18]\n",
      " [  5.37152309e-03  -5.22718631e-04  -2.65687031e-03   9.99981907e-01]]\n",
      "aap\n",
      "connected mappoints  6\n"
     ]
    },
    {
     "name": "stderr",
     "output_type": "stream",
     "text": [
      "\r",
      "                                                                               \r",
      "\r",
      " 58% (641 of 1101) |############          | Elapsed Time: 0:17:42 ETA:  0:11:31"
     ]
    },
    {
     "name": "stdout",
     "output_type": "stream",
     "text": [
      "noot False False 3\n",
      "invalid speed keyframe 639 frame 641 speed 0.17137206759271179\n",
      " [[ 0.99940384 -0.00733876  0.03373572  2.01271283]\n",
      " [ 0.01323935  0.98391022 -0.1781724   1.25965646]\n",
      " [-0.03188536  0.17851282  0.98342081 -0.26951038]\n",
      " [ 0.          0.          0.          1.        ]]\n",
      "aap\n"
     ]
    },
    {
     "name": "stderr",
     "output_type": "stream",
     "text": [
      "\r",
      "                                                                               \r",
      "\r",
      " 58% (642 of 1101) |############          | Elapsed Time: 0:17:43 ETA:  0:11:27"
     ]
    },
    {
     "name": "stdout",
     "output_type": "stream",
     "text": [
      "connected mappoints  3\n",
      "invalid speed keyframe 640 frame 641 speed 0.17891522989330383\n",
      " [[  9.99988006e-01  -4.69168317e-03   1.40582762e-03  -1.80040141e-02]\n",
      " [  4.69238522e-03   9.99988867e-01  -4.96507458e-04   5.47880349e-02]\n",
      " [ -1.40348251e-03   5.03098187e-04   9.99998889e-01  -2.61967221e-01]\n",
      " [  0.00000000e+00   0.00000000e+00   0.00000000e+00   1.00000000e+00]]\n",
      "noot True False 17\n",
      "invalid speed keyframe 640 frame 642 speed 0.2619672210928952\n",
      " [[ 0.  0.  0.  0.]\n",
      " [ 0.  0.  0.  0.]\n",
      " [ 0.  0.  0.  0.]\n",
      " [ 0.  0.  0.  0.]]\n",
      "aap\n"
     ]
    },
    {
     "name": "stderr",
     "output_type": "stream",
     "text": [
      "\r",
      "                                                                               \r",
      "\r",
      " 58% (643 of 1101) |############          | Elapsed Time: 0:17:43 ETA:  0:09:55"
     ]
    },
    {
     "name": "stdout",
     "output_type": "stream",
     "text": [
      "connected mappoints  16\n",
      "invalid speed keyframe 641 frame 642 speed 0.007123635059209488\n",
      " [[  9.99993293e-01  -3.45983243e-03   1.20138509e-03   1.48859122e-02]\n",
      " [  3.45914089e-03   9.99993851e-01   5.77224891e-04   2.51828723e-02]\n",
      " [ -1.20337481e-03  -5.73065259e-04   9.99999112e-01  -2.54843586e-01]\n",
      " [  0.00000000e+00   0.00000000e+00   0.00000000e+00   1.00000000e+00]]\n",
      "noot True False 38\n",
      "invalid speed keyframe 641 frame 643 speed 0.25484358603368573\n",
      " [[ 0.  0.  0.  0.]\n",
      " [ 0.  0.  0.  0.]\n",
      " [ 0.  0.  0.  0.]\n",
      " [ 0.  0.  0.  0.]]\n",
      "aap\n",
      "connected mappoints  36\n"
     ]
    },
    {
     "name": "stderr",
     "output_type": "stream",
     "text": [
      "\r",
      "                                                                               \r",
      "\r",
      " 58% (644 of 1101) |############          | Elapsed Time: 0:17:44 ETA:  0:09:57"
     ]
    },
    {
     "name": "stdout",
     "output_type": "stream",
     "text": [
      "noot False False 41\n"
     ]
    },
    {
     "name": "stderr",
     "output_type": "stream",
     "text": [
      "\r",
      "                                                                               \r",
      "\r",
      " 58% (645 of 1101) |############          | Elapsed Time: 0:17:45 ETA:  0:07:56"
     ]
    },
    {
     "name": "stdout",
     "output_type": "stream",
     "text": [
      "invalid speed keyframe 642 frame 644 speed 0.15565014147055356\n",
      " [[ 0.99998467 -0.00274421  0.00481022  0.01796949]\n",
      " [ 0.00273448  0.99999421  0.0020274   0.00729658]\n",
      " [-0.00481576 -0.00201422  0.99998638 -0.44541406]\n",
      " [ 0.          0.          0.          1.        ]]\n"
     ]
    },
    {
     "name": "stderr",
     "output_type": "stream",
     "text": [
      " 59% (654 of 1101) |#############         | Elapsed Time: 0:17:48 ETA:  0:02:46"
     ]
    },
    {
     "name": "stdout",
     "output_type": "stream",
     "text": [
      "aap\n",
      "connected mappoints  37\n"
     ]
    },
    {
     "name": "stderr",
     "output_type": "stream",
     "text": [
      "\r",
      "                                                                               \r",
      "\r",
      " 59% (655 of 1101) |#############         | Elapsed Time: 0:17:49 ETA:  0:03:31"
     ]
    },
    {
     "name": "stdout",
     "output_type": "stream",
     "text": [
      "invalid speed keyframe 653 frame 654 speed 1.8308610466940018\n",
      " [[  9.99976548e-01  -1.36573974e-03   6.71110296e-03   8.52561448e-03]\n",
      " [  1.36622000e-03   9.99999064e-01  -6.69780904e-05  -3.20973350e-03]\n",
      " [ -6.71100521e-03   7.61453627e-05   9.99977478e-01  -1.25260684e-01]\n",
      " [  0.00000000e+00   0.00000000e+00   0.00000000e+00   1.00000000e+00]]\n",
      "noot True False 84\n"
     ]
    },
    {
     "name": "stderr",
     "output_type": "stream",
     "text": [
      " 60% (666 of 1101) |#############         | Elapsed Time: 0:17:55 ETA:  0:03:27"
     ]
    },
    {
     "name": "stdout",
     "output_type": "stream",
     "text": [
      "invalid speed keyframe 653 frame 665 speed 0.0032858794379220235\n",
      " [[  9.98642382e-01  -9.28209670e-03   5.12565630e-02   7.69765303e-02]\n",
      " [  9.33377990e-03   9.99956144e-01  -7.69044514e-04   1.47021651e-02]\n",
      " [ -5.12471768e-02   1.24641792e-03   9.98685222e-01  -7.72799494e-01]\n",
      " [  0.00000000e+00   0.00000000e+00   0.00000000e+00   1.00000000e+00]]\n"
     ]
    },
    {
     "name": "stderr",
     "output_type": "stream",
     "text": [
      "\r",
      "                                                                               \r",
      "\r",
      " 60% (667 of 1101) |#############         | Elapsed Time: 0:17:55 ETA:  0:03:29"
     ]
    },
    {
     "name": "stdout",
     "output_type": "stream",
     "text": [
      "invalid speed keyframe 653 frame 666 speed 0.021998012349518703\n",
      " [[  9.98661135e-01  -8.54684907e-03   5.10185147e-02   7.59849750e-02]\n",
      " [  8.56271617e-03   9.99963335e-01  -9.24399544e-05   1.32441077e-02]\n",
      " [ -5.10158540e-02   5.29173251e-04   9.98697703e-01  -7.50801482e-01]\n",
      " [  0.00000000e+00   0.00000000e+00   0.00000000e+00   1.00000000e+00]]\n"
     ]
    },
    {
     "name": "stderr",
     "output_type": "stream",
     "text": [
      " 60% (671 of 1101) |#############         | Elapsed Time: 0:17:57 ETA:  0:03:28"
     ]
    },
    {
     "name": "stdout",
     "output_type": "stream",
     "text": [
      "aap\n",
      "connected mappoints  35\n"
     ]
    },
    {
     "name": "stderr",
     "output_type": "stream",
     "text": [
      "\r",
      "                                                                               \r",
      "\r",
      " 61% (672 of 1101) |#############         | Elapsed Time: 0:17:59 ETA:  0:04:32"
     ]
    },
    {
     "name": "stdout",
     "output_type": "stream",
     "text": [
      "invalid speed keyframe 670 frame 671 speed 0.8150609058357651\n",
      " [[  9.99999993e-01   9.15556199e-05   7.34757328e-05  -3.54070053e-03]\n",
      " [ -9.15579635e-05   9.99999995e-01   3.18923993e-05  -5.81726923e-04]\n",
      " [ -7.34728125e-05  -3.18991263e-05   9.99999997e-01  -2.00252774e-03]\n",
      " [  0.00000000e+00   0.00000000e+00   0.00000000e+00   1.00000000e+00]]\n",
      "noot True False 151\n"
     ]
    },
    {
     "name": "stderr",
     "output_type": "stream",
     "text": [
      "\r",
      "                                                                               \r",
      "\r",
      " 61% (673 of 1101) |#############         | Elapsed Time: 0:18:00 ETA:  0:04:35"
     ]
    },
    {
     "name": "stdout",
     "output_type": "stream",
     "text": [
      "invalid speed keyframe 670 frame 672 speed 0.0012979499401383253\n",
      " [[  9.99999930e-01   3.73505759e-04   9.91977722e-06   1.06713376e-03]\n",
      " [ -3.73503910e-04   9.99999913e-01  -1.85707199e-04  -7.09845302e-04]\n",
      " [ -9.98913906e-06   1.85703481e-04   9.99999983e-01  -7.04577795e-04]\n",
      " [  0.00000000e+00   0.00000000e+00   0.00000000e+00   1.00000000e+00]]\n"
     ]
    },
    {
     "name": "stderr",
     "output_type": "stream",
     "text": [
      " 61% (677 of 1101) |#############         | Elapsed Time: 0:18:02 ETA:  0:04:54"
     ]
    },
    {
     "name": "stdout",
     "output_type": "stream",
     "text": [
      "invalid speed keyframe 670 frame 676 speed 0.0032432717620138286\n",
      " [[  9.99999958e-01   2.89028476e-04  -1.67892010e-05   2.72610170e-03]\n",
      " [ -2.89031627e-04   9.99999941e-01  -1.87993288e-04   1.18449925e-03]\n",
      " [  1.67348646e-05   1.87998133e-04   9.99999982e-01   1.00760978e-03]\n",
      " [  0.00000000e+00   0.00000000e+00   0.00000000e+00   1.00000000e+00]]\n"
     ]
    },
    {
     "name": "stderr",
     "output_type": "stream",
     "text": [
      " 61% (679 of 1101) |#############         | Elapsed Time: 0:18:03 ETA:  0:05:01"
     ]
    },
    {
     "name": "stdout",
     "output_type": "stream",
     "text": [
      "invalid speed keyframe 670 frame 678 speed 0.0011461643067098345\n",
      " [[  9.99999591e-01   5.27256263e-04   7.35011464e-04  -5.79835626e-03]\n",
      " [ -5.27141190e-04   9.99999849e-01  -1.56744136e-04   8.63935470e-04]\n",
      " [ -7.35093997e-04   1.56356617e-04   9.99999718e-01  -3.60828033e-03]\n",
      " [  0.00000000e+00   0.00000000e+00   0.00000000e+00   1.00000000e+00]]\n"
     ]
    },
    {
     "name": "stderr",
     "output_type": "stream",
     "text": [
      "\r",
      "                                                                               \r",
      "\r",
      " 61% (680 of 1101) |#############         | Elapsed Time: 0:18:04 ETA:  0:05:04"
     ]
    },
    {
     "name": "stdout",
     "output_type": "stream",
     "text": [
      "invalid speed keyframe 670 frame 679 speed 0.0017355566830544393\n",
      " [[  9.99999442e-01   5.09550501e-04   9.25456352e-04  -6.75071507e-03]\n",
      " [ -5.09477019e-04   9.99999867e-01  -7.96349191e-05  -3.75524177e-03]\n",
      " [ -9.25496807e-04   7.91633759e-05   9.99999569e-01  -1.87272365e-03]\n",
      " [  0.00000000e+00   0.00000000e+00   0.00000000e+00   1.00000000e+00]]\n"
     ]
    },
    {
     "name": "stderr",
     "output_type": "stream",
     "text": [
      "\r",
      "                                                                               \r",
      "\r",
      " 61% (681 of 1101) |#############         | Elapsed Time: 0:18:04 ETA:  0:05:04"
     ]
    },
    {
     "name": "stdout",
     "output_type": "stream",
     "text": [
      "invalid speed keyframe 670 frame 680 speed 0.0026774660137940955\n",
      " [[  9.99999473e-01   6.07726192e-04   8.27081379e-04   3.28813173e-04]\n",
      " [ -6.07308037e-04   9.99999688e-01  -5.05736673e-04   3.42368179e-03]\n",
      " [ -8.27388470e-04   5.05234114e-04   9.99999530e-01   8.04742367e-04]\n",
      " [  0.00000000e+00   0.00000000e+00   0.00000000e+00   1.00000000e+00]]\n"
     ]
    },
    {
     "name": "stderr",
     "output_type": "stream",
     "text": [
      "\r",
      "                                                                               \r",
      "\r",
      " 61% (682 of 1101) |#############         | Elapsed Time: 0:18:05 ETA:  0:04:04"
     ]
    },
    {
     "name": "stdout",
     "output_type": "stream",
     "text": [
      "invalid speed keyframe 670 frame 681 speed 0.0017653267776823608\n",
      " [[  9.99999255e-01   8.70644695e-04   8.55909728e-04   6.34426306e-04]\n",
      " [ -8.70470070e-04   9.99999600e-01  -2.04373379e-04  -1.11395835e-03]\n",
      " [ -8.56087322e-04   2.03628183e-04   9.99999613e-01   2.57006914e-03]\n",
      " [  0.00000000e+00   0.00000000e+00   0.00000000e+00   1.00000000e+00]]\n"
     ]
    },
    {
     "name": "stderr",
     "output_type": "stream",
     "text": [
      " 62% (686 of 1101) |#############         | Elapsed Time: 0:18:07 ETA:  0:03:52"
     ]
    },
    {
     "name": "stdout",
     "output_type": "stream",
     "text": [
      "invalid speed keyframe 670 frame 685 speed 0.00888738907489419\n",
      " [[  9.99997339e-01   1.13623959e-03   2.00759654e-03  -2.89402621e-03]\n",
      " [ -1.13597741e-03   9.99999346e-01  -1.31726202e-04  -1.87504939e-03]\n",
      " [ -2.00774490e-03   1.29445267e-04   9.99997976e-01  -1.47858772e-03]\n",
      " [  0.00000000e+00   0.00000000e+00   0.00000000e+00   1.00000000e+00]]\n"
     ]
    },
    {
     "name": "stderr",
     "output_type": "stream",
     "text": [
      " 62% (688 of 1101) |#############         | Elapsed Time: 0:18:08 ETA:  0:03:48"
     ]
    },
    {
     "name": "stdout",
     "output_type": "stream",
     "text": [
      "invalid speed keyframe 670 frame 687 speed 0.009239233053191626\n",
      " [[  9.99994538e-01   1.63545867e-03   2.87230993e-03  -2.20777615e-03]\n",
      " [ -1.63459605e-03   9.99998618e-01  -3.02646321e-04   5.31866999e-03]\n",
      " [ -2.87280092e-03   2.97949602e-04   9.99995829e-01   1.87152815e-03]\n",
      " [  0.00000000e+00   0.00000000e+00   0.00000000e+00   1.00000000e+00]]\n"
     ]
    },
    {
     "name": "stderr",
     "output_type": "stream",
     "text": [
      " 62% (690 of 1101) |#############         | Elapsed Time: 0:18:09 ETA:  0:03:45"
     ]
    },
    {
     "name": "stdout",
     "output_type": "stream",
     "text": [
      "invalid speed keyframe 670 frame 689 speed 0.001444944049772765\n",
      " [[  9.99993452e-01   1.73386525e-03   3.17651899e-03  -3.99035714e-03]\n",
      " [ -1.73306716e-03   9.99998466e-01  -2.53983058e-04   3.90729320e-03]\n",
      " [ -3.17695449e-03   2.48476274e-04   9.99994923e-01  -3.15132712e-03]\n",
      " [  0.00000000e+00   0.00000000e+00   0.00000000e+00   1.00000000e+00]]\n"
     ]
    },
    {
     "name": "stderr",
     "output_type": "stream",
     "text": [
      " 62% (693 of 1101) |#############         | Elapsed Time: 0:18:11 ETA:  0:03:44"
     ]
    },
    {
     "name": "stdout",
     "output_type": "stream",
     "text": [
      "invalid speed keyframe 670 frame 692 speed 0.002377176655697779\n",
      " [[  9.99992058e-01   1.69580666e-03   3.60676686e-03  -2.68758181e-03]\n",
      " [ -1.69571792e-03   9.99998562e-01  -2.76629485e-05  -3.99370691e-03]\n",
      " [ -3.60680859e-03   2.15466696e-05   9.99993495e-01  -2.30280644e-03]\n",
      " [  0.00000000e+00   0.00000000e+00   0.00000000e+00   1.00000000e+00]]\n"
     ]
    },
    {
     "name": "stderr",
     "output_type": "stream",
     "text": [
      " 63% (696 of 1101) |#############         | Elapsed Time: 0:18:13 ETA:  0:03:51"
     ]
    },
    {
     "name": "stdout",
     "output_type": "stream",
     "text": [
      "invalid speed keyframe 670 frame 695 speed 0.00011030878344283311\n",
      " [[  9.99990373e-01   1.85303074e-03   3.97749563e-03  -1.43031477e-03]\n",
      " [ -1.85335073e-03   9.99998280e-01   7.67652914e-05  -6.21531512e-03]\n",
      " [ -3.97734653e-03  -8.41362468e-05   9.99992087e-01  -4.95302073e-03]\n",
      " [  0.00000000e+00   0.00000000e+00   0.00000000e+00   1.00000000e+00]]\n"
     ]
    },
    {
     "name": "stderr",
     "output_type": "stream",
     "text": [
      " 63% (698 of 1101) |#############         | Elapsed Time: 0:18:14 ETA:  0:04:00"
     ]
    },
    {
     "name": "stdout",
     "output_type": "stream",
     "text": [
      "invalid speed keyframe 670 frame 697 speed 0.0019753303026235096\n",
      " [[  9.99988364e-01   2.07314566e-03   4.35593588e-03  -5.69190948e-03]\n",
      " [ -2.07367839e-03   9.99997843e-01   1.17786305e-04  -5.22280542e-03]\n",
      " [ -4.35568230e-03  -1.26817744e-04   9.99990506e-01  -3.91970961e-03]\n",
      " [  0.00000000e+00   0.00000000e+00   0.00000000e+00   1.00000000e+00]]\n"
     ]
    },
    {
     "name": "stderr",
     "output_type": "stream",
     "text": [
      " 63% (700 of 1101) |#############         | Elapsed Time: 0:18:15 ETA:  0:04:05"
     ]
    },
    {
     "name": "stdout",
     "output_type": "stream",
     "text": [
      "invalid speed keyframe 670 frame 699 speed 0.0033770283023977533\n",
      " [[  9.99987503e-01   1.81805047e-03   4.65700484e-03  -7.19099601e-03]\n",
      " [ -1.81759676e-03   9.99998343e-01  -1.01654736e-04   1.74501336e-04]\n",
      " [ -4.65718194e-03   9.31889085e-05   9.99989151e-01  -5.80232814e-03]\n",
      " [  0.00000000e+00   0.00000000e+00   0.00000000e+00   1.00000000e+00]]\n"
     ]
    },
    {
     "name": "stderr",
     "output_type": "stream",
     "text": [
      "\r",
      "                                                                               \r",
      "\r",
      " 63% (701 of 1101) |##############        | Elapsed Time: 0:18:16 ETA:  0:04:08"
     ]
    },
    {
     "name": "stdout",
     "output_type": "stream",
     "text": [
      "invalid speed keyframe 670 frame 700 speed 0.003078317592175232\n",
      " [[  9.99987499e-01   2.20487965e-03   4.48770683e-03   1.25036721e-04]\n",
      " [ -2.20428231e-03   9.99997561e-01  -1.38047433e-04  -1.58852268e-03]\n",
      " [ -4.48800026e-03   1.28153534e-04   9.99989921e-01  -2.72401054e-03]\n",
      " [  0.00000000e+00   0.00000000e+00   0.00000000e+00   1.00000000e+00]]\n"
     ]
    },
    {
     "name": "stderr",
     "output_type": "stream",
     "text": [
      " 63% (703 of 1101) |##############        | Elapsed Time: 0:18:17 ETA:  0:04:09"
     ]
    },
    {
     "name": "stdout",
     "output_type": "stream",
     "text": [
      "invalid speed keyframe 670 frame 702 speed 0.0011449825000281232\n",
      " [[  9.99986255e-01   2.13923515e-03   4.78685332e-03   1.00331569e-03]\n",
      " [ -2.13662672e-03   9.99997566e-01  -5.49962374e-04   5.49950495e-03]\n",
      " [ -4.78801817e-03   5.39727096e-04   9.99988392e-01  -4.68478596e-03]\n",
      " [  0.00000000e+00   0.00000000e+00   0.00000000e+00   1.00000000e+00]]\n"
     ]
    },
    {
     "name": "stderr",
     "output_type": "stream",
     "text": [
      " 64% (705 of 1101) |##############        | Elapsed Time: 0:18:18 ETA:  0:04:06"
     ]
    },
    {
     "name": "stdout",
     "output_type": "stream",
     "text": [
      "invalid speed keyframe 670 frame 704 speed 0.001920184544814949\n",
      " [[  9.99983696e-01   2.24534893e-03   5.25043364e-03  -5.71209029e-03]\n",
      " [ -2.24228772e-03   9.99997313e-01  -5.88854087e-04   5.11941596e-03]\n",
      " [ -5.25174171e-03   5.77071503e-04   9.99986043e-01  -3.20419733e-03]\n",
      " [  0.00000000e+00   0.00000000e+00   0.00000000e+00   1.00000000e+00]]\n"
     ]
    },
    {
     "name": "stderr",
     "output_type": "stream",
     "text": [
      " 64% (707 of 1101) |##############        | Elapsed Time: 0:18:20 ETA:  0:04:02"
     ]
    },
    {
     "name": "stdout",
     "output_type": "stream",
     "text": [
      "invalid speed keyframe 670 frame 706 speed 0.0019000056956282973\n",
      " [[  9.99982562e-01   2.43462028e-03   5.38038655e-03  -1.01006815e-02]\n",
      " [ -2.43198976e-03   9.99996920e-01  -4.95397982e-04   5.17929065e-03]\n",
      " [ -5.38157608e-03   4.82304298e-04   9.99985403e-01  -3.30627085e-03]\n",
      " [  0.00000000e+00   0.00000000e+00   0.00000000e+00   1.00000000e+00]]\n"
     ]
    },
    {
     "name": "stderr",
     "output_type": "stream",
     "text": [
      " 64% (709 of 1101) |##############        | Elapsed Time: 0:18:21 ETA:  0:03:53"
     ]
    },
    {
     "name": "stdout",
     "output_type": "stream",
     "text": [
      "invalid speed keyframe 670 frame 708 speed 0.0017197266886686043\n",
      " [[  9.99983365e-01   2.25349571e-03   5.30953078e-03  -7.59164120e-03]\n",
      " [ -2.24997636e-03   9.99997245e-01  -6.68715306e-04   6.97662515e-03]\n",
      " [ -5.31102310e-03   6.56757863e-04   9.99985681e-01  -8.33254245e-03]\n",
      " [  0.00000000e+00   0.00000000e+00   0.00000000e+00   1.00000000e+00]]\n"
     ]
    },
    {
     "name": "stderr",
     "output_type": "stream",
     "text": [
      "\r",
      "                                                                               \r",
      "\r",
      " 64% (710 of 1101) |##############        | Elapsed Time: 0:18:21 ETA:  0:03:52"
     ]
    },
    {
     "name": "stdout",
     "output_type": "stream",
     "text": [
      "invalid speed keyframe 670 frame 709 speed 1.0119532944247167e-07\n",
      " [[  9.99984716e-01   2.06321457e-03   5.12941330e-03  -5.01399385e-03]\n",
      " [ -2.05948018e-03   9.99997610e-01  -7.33211132e-04   6.45034552e-03]\n",
      " [ -5.13091382e-03   7.22636000e-04   9.99986576e-01  -8.33244125e-03]\n",
      " [  0.00000000e+00   0.00000000e+00   0.00000000e+00   1.00000000e+00]]\n"
     ]
    },
    {
     "name": "stderr",
     "output_type": "stream",
     "text": [
      "\r",
      "                                                                               \r",
      "\r",
      " 64% (711 of 1101) |##############        | Elapsed Time: 0:18:22 ETA:  0:03:51"
     ]
    },
    {
     "name": "stdout",
     "output_type": "stream",
     "text": [
      "invalid speed keyframe 670 frame 710 speed 0.0014009479733964741\n",
      " [[  9.99983493e-01   2.16196504e-03   5.32345688e-03  -1.05602071e-02]\n",
      " [ -2.15981740e-03   9.99997584e-01  -4.09145045e-04   4.50478689e-03]\n",
      " [ -5.32432858e-03   3.97640596e-04   9.99985747e-01  -6.93149328e-03]\n",
      " [  0.00000000e+00   0.00000000e+00   0.00000000e+00   1.00000000e+00]]\n"
     ]
    },
    {
     "name": "stderr",
     "output_type": "stream",
     "text": [
      " 64% (714 of 1101) |##############        | Elapsed Time: 0:18:24 ETA:  0:03:47"
     ]
    },
    {
     "name": "stdout",
     "output_type": "stream",
     "text": [
      "invalid speed keyframe 670 frame 713 speed 0.0013943963610453221\n",
      " [[  9.99982698e-01   2.49347076e-03   5.32793912e-03  -7.06575759e-03]\n",
      " [ -2.49088036e-03   9.99996776e-01  -4.92772947e-04   3.83835714e-03]\n",
      " [ -5.32915066e-03   4.79493162e-04   9.99985685e-01  -6.46965009e-03]\n",
      " [  0.00000000e+00   0.00000000e+00   0.00000000e+00   1.00000000e+00]]\n"
     ]
    },
    {
     "name": "stderr",
     "output_type": "stream",
     "text": [
      "\r",
      "                                                                               \r",
      "\r",
      " 64% (715 of 1101) |##############        | Elapsed Time: 0:18:24 ETA:  0:03:44"
     ]
    },
    {
     "name": "stdout",
     "output_type": "stream",
     "text": [
      "invalid speed keyframe 670 frame 714 speed 0.0002054215570753146\n",
      " [[  9.99982829e-01   2.65047231e-03   5.22645359e-03  -4.96177069e-03]\n",
      " [ -2.64782482e-03   9.99996363e-01  -5.13411193e-04   5.18852578e-03]\n",
      " [ -5.22779536e-03   4.99563644e-04   9.99986210e-01  -6.26422853e-03]\n",
      " [  0.00000000e+00   0.00000000e+00   0.00000000e+00   1.00000000e+00]]\n"
     ]
    },
    {
     "name": "stderr",
     "output_type": "stream",
     "text": [
      " 65% (717 of 1101) |##############        | Elapsed Time: 0:18:25 ETA:  0:03:40"
     ]
    },
    {
     "name": "stdout",
     "output_type": "stream",
     "text": [
      "invalid speed keyframe 670 frame 716 speed 0.0012695618323289946\n",
      " [[  9.99984883e-01   2.23602001e-03   5.02342006e-03   2.96991031e-03]\n",
      " [ -2.23563636e-03   9.99997498e-01  -8.19855642e-05  -5.77926022e-03]\n",
      " [ -5.02359081e-03   7.07537842e-05   9.99987379e-01  -5.40766298e-03]\n",
      " [  0.00000000e+00   0.00000000e+00   0.00000000e+00   1.00000000e+00]]\n"
     ]
    },
    {
     "name": "stderr",
     "output_type": "stream",
     "text": [
      " 65% (719 of 1101) |##############        | Elapsed Time: 0:18:26 ETA:  0:03:41"
     ]
    },
    {
     "name": "stdout",
     "output_type": "stream",
     "text": [
      "invalid speed keyframe 670 frame 718 speed 0.0036449745055424747\n",
      " [[  9.99964185e-01   1.96242721e-03   8.23277571e-03   2.61963116e-03]\n",
      " [ -1.96491692e-03   9.99998026e-01   2.94336532e-04  -1.37528554e-03]\n",
      " [ -8.23218185e-03  -3.10502710e-04   9.99966067e-01  -3.84072810e-03]\n",
      " [  0.00000000e+00   0.00000000e+00   0.00000000e+00   1.00000000e+00]]\n"
     ]
    },
    {
     "name": "stderr",
     "output_type": "stream",
     "text": [
      " 66% (737 of 1101) |##############        | Elapsed Time: 0:18:37 ETA:  0:03:13"
     ]
    },
    {
     "name": "stdout",
     "output_type": "stream",
     "text": [
      "aap\n",
      "connected mappoints  33\n"
     ]
    },
    {
     "name": "stderr",
     "output_type": "stream",
     "text": [
      "\r",
      "                                                                               \r",
      "\r",
      " 67% (738 of 1101) |##############        | Elapsed Time: 0:18:38 ETA:  0:03:36"
     ]
    },
    {
     "name": "stdout",
     "output_type": "stream",
     "text": [
      "invalid speed keyframe 736 frame 737 speed 0.8076584278034495\n",
      " [[ 0.99973066 -0.00103183  0.02318494  0.0239747 ]\n",
      " [ 0.00106509  0.99999842 -0.0014224  -0.00379528]\n",
      " [-0.02318344  0.00144672  0.99973018 -0.1725512 ]\n",
      " [ 0.          0.          0.          1.        ]]\n",
      "noot True False 103\n"
     ]
    },
    {
     "name": "stderr",
     "output_type": "stream",
     "text": [
      " 67% (747 of 1101) |##############        | Elapsed Time: 0:18:42 ETA:  0:03:11"
     ]
    },
    {
     "name": "stdout",
     "output_type": "stream",
     "text": [
      "aap\n",
      "connected mappoints  29\n"
     ]
    },
    {
     "name": "stderr",
     "output_type": "stream",
     "text": [
      "\r",
      "                                                                               \r",
      "\r",
      " 67% (748 of 1101) |##############        | Elapsed Time: 0:18:44 ETA:  0:03:16"
     ]
    },
    {
     "name": "stdout",
     "output_type": "stream",
     "text": [
      "invalid rotation 0.261895789153 \n",
      " [[  9.98780532e-01  -1.12438819e-03   4.93577300e-02   2.12262900e-02]\n",
      " [  1.09830191e-03   9.99999243e-01   5.55632861e-04   1.03498130e-02]\n",
      " [ -4.93583173e-02  -5.00745595e-04   9.98781010e-01  -3.13889804e-01]\n",
      " [  0.00000000e+00   0.00000000e+00   0.00000000e+00   1.00000000e+00]]\n",
      "invalid speed keyframe 746 frame 747 speed 1.778277937241819\n",
      " [[  9.98780532e-01  -1.12438819e-03   4.93577300e-02   2.12262900e-02]\n",
      " [  1.09830191e-03   9.99999243e-01   5.55632861e-04   1.03498130e-02]\n",
      " [ -4.93583173e-02  -5.00745595e-04   9.98781010e-01  -3.13889804e-01]\n",
      " [  0.00000000e+00   0.00000000e+00   0.00000000e+00   1.00000000e+00]]\n",
      "noot True True 115\n"
     ]
    },
    {
     "name": "stderr",
     "output_type": "stream",
     "text": [
      " 68% (752 of 1101) |###############       | Elapsed Time: 0:18:46 ETA:  0:03:33"
     ]
    },
    {
     "name": "stdout",
     "output_type": "stream",
     "text": [
      "aap\n",
      "connected mappoints  36\n"
     ]
    },
    {
     "name": "stderr",
     "output_type": "stream",
     "text": [
      "\r",
      "                                                                               \r",
      "\r",
      " 68% (753 of 1101) |###############       | Elapsed Time: 0:18:48 ETA:  0:04:22"
     ]
    },
    {
     "name": "stdout",
     "output_type": "stream",
     "text": [
      "invalid rotation 0.202332424549 \n",
      " [[ 0.99859098  0.00106442  0.05305582  0.02973278]\n",
      " [-0.00100312  0.9999988  -0.00118192  0.00284742]\n",
      " [-0.05305702  0.00112704  0.99859085 -0.4762715 ]\n",
      " [ 0.          0.          0.          1.        ]]\n",
      "invalid speed keyframe 751 frame 752 speed 1.404258752126403\n",
      " [[ 0.99859098  0.00106442  0.05305582  0.02973278]\n",
      " [-0.00100312  0.9999988  -0.00118192  0.00284742]\n",
      " [-0.05305702  0.00112704  0.99859085 -0.4762715 ]\n",
      " [ 0.          0.          0.          1.        ]]\n",
      "noot True True 138\n"
     ]
    },
    {
     "name": "stderr",
     "output_type": "stream",
     "text": [
      " 68% (756 of 1101) |###############       | Elapsed Time: 0:18:50 ETA:  0:04:46"
     ]
    },
    {
     "name": "stdout",
     "output_type": "stream",
     "text": [
      "invalid speed keyframe 751 frame 756 speed 1.5065719463675429\n",
      " [[  9.22795557e-01  -5.59206295e-02   3.81210234e-01  -3.60270780e+00]\n",
      " [  5.22232214e-02   9.98434222e-01   2.00459297e-02  -7.04412098e-01]\n",
      " [ -3.81734325e-01   1.40973163e-03   9.24271020e-01  -5.45064454e-01]\n",
      " [  0.00000000e+00   0.00000000e+00   0.00000000e+00   1.00000000e+00]]\n",
      "aap\n",
      "connected mappoints  43\n"
     ]
    },
    {
     "name": "stderr",
     "output_type": "stream",
     "text": [
      "\r",
      "                                                                               \r",
      "\r",
      " 68% (757 of 1101) |###############       | Elapsed Time: 0:18:52 ETA:  0:05:43"
     ]
    },
    {
     "name": "stdout",
     "output_type": "stream",
     "text": [
      "invalid speed keyframe 755 frame 756 speed 1.4618888203474718\n",
      " [[ 0.99848302  0.00378035  0.05493061  0.0217504 ]\n",
      " [-0.00348975  0.99997941 -0.00538527 -0.00166509]\n",
      " [-0.05494983  0.00518541  0.99847565 -0.58974758]\n",
      " [ 0.          0.          0.          1.        ]]\n",
      "noot True False 119\n"
     ]
    },
    {
     "name": "stderr",
     "output_type": "stream",
     "text": [
      "\r",
      "                                                                               \r",
      "\r",
      " 68% (758 of 1101) |###############       | Elapsed Time: 0:18:53 ETA:  0:05:21"
     ]
    },
    {
     "name": "stdout",
     "output_type": "stream",
     "text": [
      "invalid speed keyframe 755 frame 758 speed 1.19196792633807\n",
      " [[ 0.  0.  0.  0.]\n",
      " [ 0.  0.  0.  0.]\n",
      " [ 0.  0.  0.  0.]\n",
      " [ 0.  0.  0.  0.]]\n",
      "aap\n",
      "connected mappoints  38\n"
     ]
    },
    {
     "name": "stderr",
     "output_type": "stream",
     "text": [
      "\r",
      "                                                                               \r",
      "\r",
      " 68% (759 of 1101) |###############       | Elapsed Time: 0:18:55 ETA:  0:06:24"
     ]
    },
    {
     "name": "stdout",
     "output_type": "stream",
     "text": [
      "invalid speed keyframe 757 frame 758 speed 0.5553613462969296\n",
      " [[  9.98560043e-01   3.63733954e-04   5.36442668e-02   2.78946040e-02]\n",
      " [ -1.35422004e-04   9.99990919e-01  -4.25960987e-03   1.45637513e-03]\n",
      " [ -5.36453290e-02   4.24621161e-03   9.98551024e-01  -6.36606580e-01]\n",
      " [  0.00000000e+00   0.00000000e+00   0.00000000e+00   1.00000000e+00]]\n",
      "noot True False 89\n"
     ]
    },
    {
     "name": "stderr",
     "output_type": "stream",
     "text": [
      "\r",
      "                                                                               \r",
      "\r",
      " 69% (760 of 1101) |###############       | Elapsed Time: 0:18:56 ETA:  0:06:31"
     ]
    },
    {
     "name": "stdout",
     "output_type": "stream",
     "text": [
      "aap\n",
      "connected mappoints  35\n"
     ]
    },
    {
     "name": "stderr",
     "output_type": "stream",
     "text": [
      "\r",
      "                                                                               \r",
      "\r",
      " 69% (761 of 1101) |###############       | Elapsed Time: 0:18:59 ETA:  0:07:32"
     ]
    },
    {
     "name": "stdout",
     "output_type": "stream",
     "text": [
      "invalid speed keyframe 759 frame 760 speed 0.6331573471246293\n",
      " [[ 0.99874261  0.00156016  0.05010756  0.02202996]\n",
      " [-0.00140357  0.99999402 -0.00316012  0.01127565]\n",
      " [-0.05011219  0.00308582  0.99873883 -0.67424451]\n",
      " [ 0.          0.          0.          1.        ]]\n",
      "noot True False 94\n"
     ]
    },
    {
     "name": "stderr",
     "output_type": "stream",
     "text": [
      "\r",
      "                                                                               \r",
      "\r",
      " 69% (762 of 1101) |###############       | Elapsed Time: 0:18:59 ETA:  0:07:40"
     ]
    },
    {
     "name": "stdout",
     "output_type": "stream",
     "text": [
      "invalid speed keyframe 759 frame 762 speed 1.41489671815363\n",
      " [[ 0.  0.  0.  0.]\n",
      " [ 0.  0.  0.  0.]\n",
      " [ 0.  0.  0.  0.]\n",
      " [ 0.  0.  0.  0.]]\n",
      "aap\n",
      "connected mappoints  41\n"
     ]
    },
    {
     "name": "stderr",
     "output_type": "stream",
     "text": [
      "\r",
      "                                                                               \r",
      "\r",
      " 69% (763 of 1101) |###############       | Elapsed Time: 0:19:02 ETA:  0:08:08"
     ]
    },
    {
     "name": "stdout",
     "output_type": "stream",
     "text": [
      "invalid speed keyframe 761 frame 762 speed 0.684253214485492\n",
      " [[  9.99195128e-01  -5.90456630e-04   4.01091870e-02   1.93846330e-02]\n",
      " [  5.52094433e-04   9.99999380e-01   9.67513907e-04   4.30217582e-03]\n",
      " [ -4.01097333e-02  -9.44591124e-04   9.99194834e-01  -7.30643504e-01]\n",
      " [  0.00000000e+00   0.00000000e+00   0.00000000e+00   1.00000000e+00]]\n",
      "noot True False 95\n"
     ]
    },
    {
     "name": "stderr",
     "output_type": "stream",
     "text": [
      "\r",
      "                                                                               \r",
      "\r",
      " 69% (764 of 1101) |###############       | Elapsed Time: 0:19:03 ETA:  0:08:15"
     ]
    },
    {
     "name": "stdout",
     "output_type": "stream",
     "text": [
      "aap\n",
      "connected mappoints  38\n"
     ]
    },
    {
     "name": "stderr",
     "output_type": "stream",
     "text": [
      "\r",
      "                                                                               \r",
      "\r",
      " 69% (765 of 1101) |###############       | Elapsed Time: 0:19:06 ETA:  0:09:35"
     ]
    },
    {
     "name": "stdout",
     "output_type": "stream",
     "text": [
      "invalid speed keyframe 763 frame 764 speed 0.6629215369642271\n",
      " [[ 0.99963333 -0.00216984  0.02699054  0.02281225]\n",
      " [ 0.00210949  0.99999521  0.00226431  0.00173099]\n",
      " [-0.02699532 -0.00220654  0.99963312 -0.75978078]\n",
      " [ 0.          0.          0.          1.        ]]\n",
      "noot True False 102\n"
     ]
    },
    {
     "name": "stderr",
     "output_type": "stream",
     "text": [
      "\r",
      "                                                                               \r",
      "\r",
      " 69% (766 of 1101) |###############       | Elapsed Time: 0:19:08 ETA:  0:09:48"
     ]
    },
    {
     "name": "stdout",
     "output_type": "stream",
     "text": [
      "aap\n",
      "connected mappoints  40\n"
     ]
    },
    {
     "name": "stderr",
     "output_type": "stream",
     "text": [
      "\r",
      "                                                                               \r",
      "\r",
      " 69% (767 of 1101) |###############       | Elapsed Time: 0:19:11 ETA:  0:10:24"
     ]
    },
    {
     "name": "stdout",
     "output_type": "stream",
     "text": [
      "invalid speed keyframe 765 frame 766 speed 0.7892967364659953\n",
      " [[  9.99853380e-01   6.29623116e-04   1.71120641e-02   1.12843574e-02]\n",
      " [ -6.38540499e-04   9.99999663e-01   5.15657994e-04   6.15555861e-03]\n",
      " [ -1.71117337e-02  -5.26509134e-04   9.99853445e-01  -8.22194992e-01]\n",
      " [  0.00000000e+00   0.00000000e+00   0.00000000e+00   1.00000000e+00]]\n",
      "noot True False 84\n"
     ]
    },
    {
     "name": "stderr",
     "output_type": "stream",
     "text": [
      "\r",
      "                                                                               \r",
      "\r",
      " 69% (768 of 1101) |###############       | Elapsed Time: 0:19:12 ETA:  0:10:29"
     ]
    },
    {
     "name": "stdout",
     "output_type": "stream",
     "text": [
      "invalid speed keyframe 765 frame 768 speed 1.140780638161706\n",
      " [[ 0.99894929  0.00629014  0.04539558 -0.42452278]\n",
      " [-0.0064287   0.99997511  0.00290676 -0.00164963]\n",
      " [-0.04537617 -0.00319554  0.99896486 -0.39548716]\n",
      " [ 0.          0.          0.          1.        ]]\n",
      "aap\n",
      "connected mappoints  31\n"
     ]
    },
    {
     "name": "stderr",
     "output_type": "stream",
     "text": [
      "\r",
      "                                                                               \r",
      "\r",
      " 69% (769 of 1101) |###############       | Elapsed Time: 0:19:15 ETA:  0:10:59"
     ]
    },
    {
     "name": "stdout",
     "output_type": "stream",
     "text": [
      "invalid speed keyframe 767 frame 768 speed 0.6678030143363644\n",
      " [[  9.99894983e-01   1.16916508e-03   1.44449155e-02   9.17232359e-04]\n",
      " [ -1.20132380e-03   9.99996819e-01   2.21782359e-03   2.78338533e-03]\n",
      " [ -1.44422765e-02  -2.23494370e-03   9.99893207e-01  -8.68464779e-01]\n",
      " [  0.00000000e+00   0.00000000e+00   0.00000000e+00   1.00000000e+00]]\n",
      "noot True False 94\n"
     ]
    },
    {
     "name": "stderr",
     "output_type": "stream",
     "text": [
      " 70% (771 of 1101) |###############       | Elapsed Time: 0:19:18 ETA:  0:10:24"
     ]
    },
    {
     "name": "stdout",
     "output_type": "stream",
     "text": [
      "aap\n",
      "connected mappoints  29\n"
     ]
    },
    {
     "name": "stderr",
     "output_type": "stream",
     "text": [
      "\r",
      "                                                                               \r",
      "\r",
      " 70% (772 of 1101) |###############       | Elapsed Time: 0:19:21 ETA:  0:11:45"
     ]
    },
    {
     "name": "stdout",
     "output_type": "stream",
     "text": [
      "invalid speed keyframe 770 frame 771 speed 1.6190758214123846\n",
      " [[  9.99918214e-01  -3.34773719e-03   1.23433675e-02   1.85456339e-02]\n",
      " [  3.34264741e-03   9.99994320e-01   4.32957131e-04   6.80700425e-03]\n",
      " [ -1.23447468e-02  -3.91662196e-04   9.99923724e-01  -9.29808192e-01]\n",
      " [  0.00000000e+00   0.00000000e+00   0.00000000e+00   1.00000000e+00]]\n",
      "noot True False 87\n"
     ]
    },
    {
     "name": "stderr",
     "output_type": "stream",
     "text": [
      " 70% (774 of 1101) |###############       | Elapsed Time: 0:19:23 ETA:  0:10:56"
     ]
    },
    {
     "name": "stdout",
     "output_type": "stream",
     "text": [
      "invalid speed keyframe 770 frame 774 speed 2.812644569780225\n",
      " [[  0.00000000e+000   2.37151510e-322   6.05724482e-321   5.54938873e-315]\n",
      " [  5.54867222e-315   2.37151510e-322   4.94065646e-324   8.39911598e-323]\n",
      " [  6.05724482e-321   5.54862574e-315   4.74303020e-322   6.05724482e-321]\n",
      " [  4.94065646e-324   8.39911598e-323   2.37151510e-322   4.94065646e-324]]\n",
      "aap\n",
      "connected mappoints  34\n"
     ]
    },
    {
     "name": "stderr",
     "output_type": "stream",
     "text": [
      "\r",
      "                                                                               \r",
      "\r",
      " 70% (775 of 1101) |###############       | Elapsed Time: 0:19:27 ETA:  0:11:05"
     ]
    },
    {
     "name": "stdout",
     "output_type": "stream",
     "text": [
      "invalid speed keyframe 773 frame 774 speed 1.7969857028549223\n",
      " [[  9.99992824e-01  -2.76383207e-03   2.59086100e-03   4.44271055e-03]\n",
      " [  2.76291306e-03   9.99996119e-01   3.58225834e-04   8.21789752e-03]\n",
      " [ -2.59184102e-03  -3.51064940e-04   9.99996580e-01  -1.01565887e+00]\n",
      " [  0.00000000e+00   0.00000000e+00   0.00000000e+00   1.00000000e+00]]\n",
      "noot True False 71\n"
     ]
    },
    {
     "name": "stderr",
     "output_type": "stream",
     "text": [
      "\r",
      "                                                                               \r",
      "\r",
      " 70% (776 of 1101) |###############       | Elapsed Time: 0:19:28 ETA:  0:11:00"
     ]
    },
    {
     "name": "stdout",
     "output_type": "stream",
     "text": [
      "aap\n",
      "connected mappoints  30\n"
     ]
    },
    {
     "name": "stderr",
     "output_type": "stream",
     "text": [
      "\r",
      "                                                                               \r",
      "\r",
      " 70% (777 of 1101) |###############       | Elapsed Time: 0:19:31 ETA:  0:11:00"
     ]
    },
    {
     "name": "stdout",
     "output_type": "stream",
     "text": [
      "invalid speed keyframe 775 frame 776 speed 0.9760502896784253\n",
      " [[  9.99997243e-01   1.00018337e-03   2.12467322e-03  -1.52263042e-02]\n",
      " [ -9.97837505e-04   9.99998892e-01  -1.10488165e-03   1.22542993e-02]\n",
      " [ -2.12577595e-03   1.10275852e-03   9.99997132e-01  -1.06375343e+00]\n",
      " [  0.00000000e+00   0.00000000e+00   0.00000000e+00   1.00000000e+00]]\n",
      "noot True False 85\n"
     ]
    },
    {
     "name": "stderr",
     "output_type": "stream",
     "text": [
      "\r",
      "                                                                               \r",
      "\r",
      " 70% (778 of 1101) |###############       | Elapsed Time: 0:19:32 ETA:  0:11:01"
     ]
    },
    {
     "name": "stdout",
     "output_type": "stream",
     "text": [
      "aap\n",
      "connected mappoints  54\n"
     ]
    },
    {
     "name": "stderr",
     "output_type": "stream",
     "text": [
      "\r",
      "                                                                               \r",
      "\r",
      " 70% (779 of 1101) |###############       | Elapsed Time: 0:19:36 ETA:  0:11:06"
     ]
    },
    {
     "name": "stdout",
     "output_type": "stream",
     "text": [
      "invalid speed keyframe 777 frame 778 speed 0.967015411434081\n",
      " [[  9.99987400e-01   1.46061774e-03   4.80265672e-03  -1.77191788e-03]\n",
      " [ -1.46020248e-03   9.99998930e-01  -8.99706378e-05   1.41395417e-02]\n",
      " [ -4.80278299e-03   8.29566530e-05   9.99988463e-01  -1.10285086e+00]\n",
      " [  0.00000000e+00   0.00000000e+00   0.00000000e+00   1.00000000e+00]]\n",
      "noot True False 102\n"
     ]
    },
    {
     "name": "stderr",
     "output_type": "stream",
     "text": [
      "\r",
      "                                                                               \r",
      "\r",
      " 70% (780 of 1101) |###############       | Elapsed Time: 0:19:37 ETA:  0:11:02"
     ]
    },
    {
     "name": "stdout",
     "output_type": "stream",
     "text": [
      "invalid speed keyframe 777 frame 780 speed 2.9674228313146527\n",
      " [[  9.99908371e-01  -3.01863612e-03   1.31960782e-02  -1.06071234e-01]\n",
      " [  3.01892441e-03   9.99995443e-01  -1.92707706e-06   3.43717662e-02]\n",
      " [ -1.31960123e-02   4.17648631e-05   9.99912928e-01   7.83838434e-01]\n",
      " [  0.00000000e+00   0.00000000e+00   0.00000000e+00   1.00000000e+00]]\n",
      "aap\n",
      "connected mappoints  48\n"
     ]
    },
    {
     "name": "stderr",
     "output_type": "stream",
     "text": [
      "\r",
      "                                                                               \r",
      "\r",
      " 70% (781 of 1101) |###############       | Elapsed Time: 0:19:41 ETA:  0:12:15"
     ]
    },
    {
     "name": "stdout",
     "output_type": "stream",
     "text": [
      "invalid speed keyframe 779 frame 780 speed 1.0752887845481132\n",
      " [[  9.99989984e-01  -8.33949380e-05   4.47486401e-03   1.35642680e-02]\n",
      " [  8.26074675e-05   9.99999981e-01   1.76160961e-04   8.78471715e-03]\n",
      " [ -4.47487862e-03  -1.75789540e-04   9.99989972e-01  -1.10829561e+00]\n",
      " [  0.00000000e+00   0.00000000e+00   0.00000000e+00   1.00000000e+00]]\n",
      "noot True False 77\n"
     ]
    },
    {
     "name": "stderr",
     "output_type": "stream",
     "text": [
      "\r",
      "                                                                               \r",
      "\r",
      " 71% (782 of 1101) |###############       | Elapsed Time: 0:19:42 ETA:  0:11:03"
     ]
    },
    {
     "name": "stdout",
     "output_type": "stream",
     "text": [
      "aap\n",
      "connected mappoints  37\n"
     ]
    },
    {
     "name": "stderr",
     "output_type": "stream",
     "text": [
      "\r",
      "                                                                               \r",
      "\r",
      " 71% (783 of 1101) |###############       | Elapsed Time: 0:19:45 ETA:  0:12:15"
     ]
    },
    {
     "name": "stdout",
     "output_type": "stream",
     "text": [
      "invalid speed keyframe 781 frame 782 speed 1.1410128334397975\n",
      " [[  9.99986760e-01   8.45205808e-04   5.07597005e-03   1.05152791e-02]\n",
      " [ -8.34730497e-04   9.99997519e-01  -2.06547050e-03   7.40906942e-03]\n",
      " [ -5.07770320e-03   2.06120608e-03   9.99984984e-01  -1.12406758e+00]\n",
      " [  0.00000000e+00   0.00000000e+00   0.00000000e+00   1.00000000e+00]]\n",
      "noot True False 83\n",
      "aap\n",
      "connected mappoints  75\n"
     ]
    },
    {
     "name": "stderr",
     "output_type": "stream",
     "text": [
      "\r",
      "                                                                               \r",
      "\r",
      " 71% (784 of 1101) |###############       | Elapsed Time: 0:19:49 ETA:  0:13:32"
     ]
    },
    {
     "name": "stdout",
     "output_type": "stream",
     "text": [
      "noot False False 87\n"
     ]
    },
    {
     "name": "stderr",
     "output_type": "stream",
     "text": [
      "\r",
      "                                                                               \r",
      "\r",
      " 71% (785 of 1101) |###############       | Elapsed Time: 0:19:50 ETA:  0:12:14"
     ]
    },
    {
     "name": "stdout",
     "output_type": "stream",
     "text": [
      "invalid speed keyframe 782 frame 785 speed 2.409239776176788\n",
      " [[ 0.9998972  -0.01098362  0.00921701  0.32757   ]\n",
      " [ 0.01104423  0.99991755 -0.00655076  0.16653795]\n",
      " [-0.0091443   0.00665188  0.99993607  0.05284225]\n",
      " [ 0.          0.          0.          1.        ]]\n",
      "aap\n",
      "connected mappoints  38\n"
     ]
    },
    {
     "name": "stderr",
     "output_type": "stream",
     "text": [
      "\r",
      "                                                                               \r",
      "\r",
      " 71% (786 of 1101) |###############       | Elapsed Time: 0:19:53 ETA:  0:13:27"
     ]
    },
    {
     "name": "stdout",
     "output_type": "stream",
     "text": [
      "invalid speed keyframe 784 frame 785 speed 1.1463466890105511\n",
      " [[  9.99998306e-01   7.43110030e-04   1.68402552e-03   1.84916031e-02]\n",
      " [ -7.43986985e-04   9.99999588e-01   5.20182580e-04   2.08581679e-02]\n",
      " [ -1.68363827e-03  -5.21434592e-04   9.99998447e-01  -1.21005084e+00]\n",
      " [  0.00000000e+00   0.00000000e+00   0.00000000e+00   1.00000000e+00]]\n",
      "noot True False 77\n"
     ]
    },
    {
     "name": "stderr",
     "output_type": "stream",
     "text": [
      "\r",
      "                                                                               \r",
      "\r",
      " 71% (787 of 1101) |###############       | Elapsed Time: 0:19:55 ETA:  0:12:13"
     ]
    },
    {
     "name": "stdout",
     "output_type": "stream",
     "text": [
      "aap\n",
      "connected mappoints  38\n"
     ]
    },
    {
     "name": "stderr",
     "output_type": "stream",
     "text": [
      "\r",
      "                                                                               \r",
      "\r",
      " 71% (788 of 1101) |###############       | Elapsed Time: 0:19:58 ETA:  0:13:25"
     ]
    },
    {
     "name": "stdout",
     "output_type": "stream",
     "text": [
      "invalid speed keyframe 786 frame 787 speed 1.1954428055387423\n",
      " [[  9.99999099e-01   4.10817045e-04  -1.27797311e-03   9.78045938e-03]\n",
      " [ -4.10240023e-04   9.99999814e-01   4.51742568e-04   1.53528490e-02]\n",
      " [  1.27815845e-03  -4.51217885e-04   9.99999081e-01  -1.24710562e+00]\n",
      " [  0.00000000e+00   0.00000000e+00   0.00000000e+00   1.00000000e+00]]\n",
      "noot True False 90\n"
     ]
    },
    {
     "name": "stderr",
     "output_type": "stream",
     "text": [
      "\r",
      "                                                                               \r",
      "\r",
      " 71% (789 of 1101) |###############       | Elapsed Time: 0:19:59 ETA:  0:12:04"
     ]
    },
    {
     "name": "stdout",
     "output_type": "stream",
     "text": [
      "aap\n",
      "connected mappoints  30\n"
     ]
    },
    {
     "name": "stderr",
     "output_type": "stream",
     "text": [
      "\r",
      "                                                                               \r",
      "\r",
      " 71% (790 of 1101) |###############       | Elapsed Time: 0:20:02 ETA:  0:13:06"
     ]
    },
    {
     "name": "stdout",
     "output_type": "stream",
     "text": [
      "invalid speed keyframe 788 frame 789 speed 1.1787902887396782\n",
      " [[  9.99999520e-01   6.96435898e-04  -6.88526742e-04   8.85172816e-03]\n",
      " [ -6.97985435e-04   9.99997219e-01  -2.25283721e-03   2.23736499e-02]\n",
      " [  6.86955871e-04   2.25331671e-03   9.99997225e-01  -1.25319559e+00]\n",
      " [  0.00000000e+00   0.00000000e+00   0.00000000e+00   1.00000000e+00]]\n",
      "noot True False 85\n"
     ]
    },
    {
     "name": "stderr",
     "output_type": "stream",
     "text": [
      "\r",
      "                                                                               \r",
      "\r",
      " 71% (791 of 1101) |###############       | Elapsed Time: 0:20:03 ETA:  0:11:48"
     ]
    },
    {
     "name": "stdout",
     "output_type": "stream",
     "text": [
      "invalid speed keyframe 788 frame 791 speed 3.676718129382519\n",
      " [[ 0.99903339 -0.04366132 -0.00509667  0.1873023 ]\n",
      " [ 0.0436419   0.99903977 -0.00386205 -0.57267097]\n",
      " [ 0.0052604   0.00363589  0.99997955  1.22806922]\n",
      " [ 0.          0.          0.          1.        ]]\n",
      "aap\n",
      "connected mappoints  34\n"
     ]
    },
    {
     "name": "stderr",
     "output_type": "stream",
     "text": [
      "\r",
      "                                                                               \r",
      "\r",
      " 71% (792 of 1101) |###############       | Elapsed Time: 0:20:07 ETA:  0:12:51"
     ]
    },
    {
     "name": "stdout",
     "output_type": "stream",
     "text": [
      "invalid speed keyframe 790 frame 791 speed 1.252358206329017\n",
      " [[  9.99999736e-01  -3.80510514e-04  -6.19679532e-04   2.05393307e-02]\n",
      " [  3.79908196e-04   9.99999456e-01  -9.71810620e-04   3.19531903e-02]\n",
      " [  6.20048978e-04   9.71574942e-04   9.99999336e-01  -1.19629071e+00]\n",
      " [  0.00000000e+00   0.00000000e+00   0.00000000e+00   1.00000000e+00]]\n",
      "noot True False 95\n"
     ]
    },
    {
     "name": "stderr",
     "output_type": "stream",
     "text": [
      "\r",
      "                                                                               \r",
      "\r",
      " 72% (793 of 1101) |###############       | Elapsed Time: 0:20:08 ETA:  0:11:37"
     ]
    },
    {
     "name": "stdout",
     "output_type": "stream",
     "text": [
      "aap\n",
      "connected mappoints  28\n"
     ]
    },
    {
     "name": "stderr",
     "output_type": "stream",
     "text": [
      "\r",
      "                                                                               \r",
      "\r",
      " 72% (794 of 1101) |###############       | Elapsed Time: 0:20:11 ETA:  0:11:31"
     ]
    },
    {
     "name": "stdout",
     "output_type": "stream",
     "text": [
      "invalid speed keyframe 792 frame 793 speed 1.255010581380154\n",
      " [[  9.99999146e-01  -1.09718248e-03  -7.09981420e-04   1.67138372e-02]\n",
      " [  1.09803261e-03   9.99998679e-01   1.19811425e-03   2.80061963e-02]\n",
      " [  7.08665932e-04  -1.19889281e-03   9.99999030e-01  -1.22102654e+00]\n",
      " [  0.00000000e+00   0.00000000e+00   0.00000000e+00   1.00000000e+00]]\n",
      "noot True False 86\n"
     ]
    },
    {
     "name": "stderr",
     "output_type": "stream",
     "text": [
      "\r",
      "                                                                               \r",
      "\r",
      " 72% (795 of 1101) |###############       | Elapsed Time: 0:20:13 ETA:  0:11:34"
     ]
    },
    {
     "name": "stdout",
     "output_type": "stream",
     "text": [
      "aap\n",
      "connected mappoints  41\n"
     ]
    },
    {
     "name": "stderr",
     "output_type": "stream",
     "text": [
      "\r",
      "                                                                               \r",
      "\r",
      " 72% (796 of 1101) |###############       | Elapsed Time: 0:20:16 ETA:  0:11:32"
     ]
    },
    {
     "name": "stdout",
     "output_type": "stream",
     "text": [
      "invalid speed keyframe 794 frame 795 speed 1.2235136099851063\n",
      " [[  9.99999705e-01  -3.94732186e-07  -7.68559026e-04   2.32032084e-02]\n",
      " [  9.00402867e-07   9.99999784e-01   6.57946212e-04   1.59205179e-02]\n",
      " [  7.68558600e-04  -6.57946710e-04   9.99999488e-01  -1.22985339e+00]\n",
      " [  0.00000000e+00   0.00000000e+00   0.00000000e+00   1.00000000e+00]]\n",
      "noot True False 73\n"
     ]
    },
    {
     "name": "stderr",
     "output_type": "stream",
     "text": [
      "\r",
      "                                                                               \r",
      "\r",
      " 72% (797 of 1101) |###############       | Elapsed Time: 0:20:18 ETA:  0:11:43"
     ]
    },
    {
     "name": "stdout",
     "output_type": "stream",
     "text": [
      "aap\n",
      "connected mappoints  27\n"
     ]
    },
    {
     "name": "stderr",
     "output_type": "stream",
     "text": [
      "\r",
      "                                                                               \r",
      "\r",
      " 72% (798 of 1101) |###############       | Elapsed Time: 0:20:21 ETA:  0:11:35"
     ]
    },
    {
     "name": "stdout",
     "output_type": "stream",
     "text": [
      "invalid speed keyframe 796 frame 797 speed 1.0114529076335743\n",
      " [[  9.99999824e-01  -5.58322586e-05  -5.90621672e-04   1.75075635e-02]\n",
      " [  5.46785501e-05   9.99998091e-01  -1.95321570e-03   3.26210601e-02]\n",
      " [  5.90729597e-04   1.95318306e-03   9.99997918e-01  -1.21821340e+00]\n",
      " [  0.00000000e+00   0.00000000e+00   0.00000000e+00   1.00000000e+00]]\n",
      "noot True False 76\n",
      "invalid speed keyframe 796 frame 798 speed 1.2182134034131251\n",
      " [[ 0.  0.  0.  0.]\n",
      " [ 0.  0.  0.  0.]\n",
      " [ 0.  0.  0.  0.]\n",
      " [ 0.  0.  0.  0.]]\n",
      "aap\n",
      "connected mappoints  70\n"
     ]
    },
    {
     "name": "stderr",
     "output_type": "stream",
     "text": [
      "\r",
      "                                                                               \r",
      "\r",
      " 72% (799 of 1101) |###############       | Elapsed Time: 0:20:25 ETA:  0:12:47"
     ]
    },
    {
     "name": "stdout",
     "output_type": "stream",
     "text": [
      "invalid speed keyframe 797 frame 798 speed 0.013455040258628648\n",
      " [[  9.99999237e-01  -1.22493042e-03  -1.60619479e-04   1.10950554e-02]\n",
      " [  1.22512385e-03   9.99998518e-01   1.20972181e-03   2.71259928e-02]\n",
      " [  1.59137415e-04  -1.20991766e-03   9.99999255e-01  -1.20475836e+00]\n",
      " [  0.00000000e+00   0.00000000e+00   0.00000000e+00   1.00000000e+00]]\n",
      "noot True False 86\n"
     ]
    },
    {
     "name": "stderr",
     "output_type": "stream",
     "text": [
      "\r",
      "                                                                               \r",
      "\r",
      " 72% (800 of 1101) |###############       | Elapsed Time: 0:20:26 ETA:  0:11:40"
     ]
    },
    {
     "name": "stdout",
     "output_type": "stream",
     "text": [
      "aap\n",
      "connected mappoints  42\n"
     ]
    },
    {
     "name": "stderr",
     "output_type": "stream",
     "text": [
      "\r",
      "                                                                               \r",
      "\r",
      " 72% (801 of 1101) |################      | Elapsed Time: 0:20:29 ETA:  0:12:52"
     ]
    },
    {
     "name": "stdout",
     "output_type": "stream",
     "text": [
      "invalid speed keyframe 799 frame 800 speed 1.1887269505600868\n",
      " [[  9.99999911e-01   1.09816577e-05  -4.20842466e-04   2.08740931e-02]\n",
      " [ -1.02904900e-05   9.99998651e-01   1.64231008e-03   2.30160268e-02]\n",
      " [  4.20859934e-04  -1.64230560e-03   9.99998563e-01  -1.21274027e+00]\n",
      " [  0.00000000e+00   0.00000000e+00   0.00000000e+00   1.00000000e+00]]\n",
      "noot True False 97\n"
     ]
    },
    {
     "name": "stderr",
     "output_type": "stream",
     "text": [
      "\r",
      "                                                                               \r",
      "\r",
      " 72% (802 of 1101) |################      | Elapsed Time: 0:20:30 ETA:  0:11:42"
     ]
    },
    {
     "name": "stdout",
     "output_type": "stream",
     "text": [
      "aap\n",
      "connected mappoints  31\n"
     ]
    },
    {
     "name": "stderr",
     "output_type": "stream",
     "text": [
      "\r",
      "                                                                               \r",
      "\r",
      " 72% (803 of 1101) |################      | Elapsed Time: 0:20:33 ETA:  0:12:41"
     ]
    },
    {
     "name": "stdout",
     "output_type": "stream",
     "text": [
      "invalid speed keyframe 801 frame 802 speed 1.1652418398594784\n",
      " [[  9.99999867e-01  -4.24801966e-04  -2.93516602e-04   1.31069659e-02]\n",
      " [  4.23781576e-04   9.99993897e-01  -3.46778840e-03   3.08264389e-02]\n",
      " [  2.94987935e-04   3.46766355e-03   9.99993944e-01  -1.22286953e+00]\n",
      " [  0.00000000e+00   0.00000000e+00   0.00000000e+00   1.00000000e+00]]\n",
      "noot True False 84\n",
      "aap\n",
      "connected mappoints  75\n"
     ]
    },
    {
     "name": "stderr",
     "output_type": "stream",
     "text": [
      "\r",
      "                                                                               \r",
      "\r",
      " 73% (804 of 1101) |################      | Elapsed Time: 0:20:37 ETA:  0:12:25"
     ]
    },
    {
     "name": "stdout",
     "output_type": "stream",
     "text": [
      "noot False False 67\n",
      "aap\n",
      "connected mappoints  63\n"
     ]
    },
    {
     "name": "stderr",
     "output_type": "stream",
     "text": [
      "\r",
      "                                                                               \r",
      "\r",
      " 73% (805 of 1101) |################      | Elapsed Time: 0:20:40 ETA:  0:13:20"
     ]
    },
    {
     "name": "stdout",
     "output_type": "stream",
     "text": [
      "invalid speed keyframe 803 frame 804 speed 0.03976266747057222\n",
      " [[  9.99996514e-01  -2.60688701e-03  -4.18502238e-04   1.19705131e-02]\n",
      " [  2.60734753e-03   9.99995992e-01   1.10366354e-03   2.68121196e-02]\n",
      " [  4.15623434e-04  -1.10475087e-03   9.99999303e-01  -1.20200016e+00]\n",
      " [  0.00000000e+00   0.00000000e+00   0.00000000e+00   1.00000000e+00]]\n",
      "noot True False 90\n"
     ]
    },
    {
     "name": "stderr",
     "output_type": "stream",
     "text": [
      " 73% (807 of 1101) |################      | Elapsed Time: 0:20:42 ETA:  0:11:42"
     ]
    },
    {
     "name": "stdout",
     "output_type": "stream",
     "text": [
      "aap\n",
      "connected mappoints  27\n"
     ]
    },
    {
     "name": "stderr",
     "output_type": "stream",
     "text": [
      "\r",
      "                                                                               \r",
      "\r",
      " 73% (808 of 1101) |################      | Elapsed Time: 0:20:45 ETA:  0:11:31"
     ]
    },
    {
     "name": "stdout",
     "output_type": "stream",
     "text": [
      "invalid speed keyframe 806 frame 807 speed 2.0107076638479087\n",
      " [[  9.99999430e-01  -1.06117515e-03  -1.16963429e-04   1.55875297e-02]\n",
      " [  1.06107023e-03   9.99999038e-01  -8.93491497e-04   2.72233030e-02]\n",
      " [  1.17911467e-04   8.93366882e-04   9.99999594e-01  -1.18388386e+00]\n",
      " [  0.00000000e+00   0.00000000e+00   0.00000000e+00   1.00000000e+00]]\n",
      "noot True False 100\n"
     ]
    },
    {
     "name": "stderr",
     "output_type": "stream",
     "text": [
      " 73% (810 of 1101) |################      | Elapsed Time: 0:20:47 ETA:  0:10:17"
     ]
    },
    {
     "name": "stdout",
     "output_type": "stream",
     "text": [
      "aap\n",
      "connected mappoints  29\n"
     ]
    },
    {
     "name": "stderr",
     "output_type": "stream",
     "text": [
      "\r",
      "                                                                               \r",
      "\r",
      " 73% (811 of 1101) |################      | Elapsed Time: 0:20:50 ETA:  0:10:15"
     ]
    },
    {
     "name": "stdout",
     "output_type": "stream",
     "text": [
      "invalid speed keyframe 809 frame 810 speed 2.2989706861091728\n",
      " [[  9.99996056e-01   2.75654017e-03  -5.37680293e-04   2.16020627e-02]\n",
      " [ -2.75561653e-03   9.99994739e-01   1.71107791e-03   3.63636475e-02]\n",
      " [  5.42394119e-04  -1.70958952e-03   9.99998392e-01  -1.18472620e+00]\n",
      " [  0.00000000e+00   0.00000000e+00   0.00000000e+00   1.00000000e+00]]\n",
      "noot True False 101\n"
     ]
    },
    {
     "name": "stderr",
     "output_type": "stream",
     "text": [
      " 73% (813 of 1101) |################      | Elapsed Time: 0:20:52 ETA:  0:09:00"
     ]
    },
    {
     "name": "stdout",
     "output_type": "stream",
     "text": [
      "aap\n",
      "connected mappoints  29\n"
     ]
    },
    {
     "name": "stderr",
     "output_type": "stream",
     "text": [
      "\r",
      "                                                                               \r",
      "\r",
      " 73% (814 of 1101) |################      | Elapsed Time: 0:20:55 ETA:  0:08:44"
     ]
    },
    {
     "name": "stdout",
     "output_type": "stream",
     "text": [
      "invalid speed keyframe 812 frame 813 speed 2.2934230114735588\n",
      " [[  9.99995825e-01   4.74411167e-04   2.85056724e-03   1.34649435e-03]\n",
      " [ -4.71567536e-04   9.99999391e-01  -9.98156244e-04   2.22710372e-02]\n",
      " [ -2.85103904e-03   9.96807842e-04   9.99995439e-01  -1.18488981e+00]\n",
      " [  0.00000000e+00   0.00000000e+00   0.00000000e+00   1.00000000e+00]]\n",
      "noot True False 76\n"
     ]
    },
    {
     "name": "stderr",
     "output_type": "stream",
     "text": [
      "\r",
      "                                                                               \r",
      "\r",
      " 74% (815 of 1101) |################      | Elapsed Time: 0:20:56 ETA:  0:07:34"
     ]
    },
    {
     "name": "stdout",
     "output_type": "stream",
     "text": [
      "aap\n",
      "connected mappoints  41\n"
     ]
    },
    {
     "name": "stderr",
     "output_type": "stream",
     "text": [
      "\r",
      "                                                                               \r",
      "\r",
      " 74% (816 of 1101) |################      | Elapsed Time: 0:20:58 ETA:  0:08:07"
     ]
    },
    {
     "name": "stdout",
     "output_type": "stream",
     "text": [
      "invalid speed keyframe 814 frame 815 speed 1.1492333534884343\n",
      " [[  9.99994294e-01  -1.55276531e-03   3.00028648e-03   1.02449714e-02]\n",
      " [  1.55433161e-03   9.99998657e-01  -5.19787502e-04   2.43821798e-02]\n",
      " [ -2.99947534e-03   5.24447976e-04   9.99995364e-01  -1.18034676e+00]\n",
      " [  0.00000000e+00   0.00000000e+00   0.00000000e+00   1.00000000e+00]]\n",
      "noot True False 100\n"
     ]
    },
    {
     "name": "stderr",
     "output_type": "stream",
     "text": [
      "\r",
      "                                                                               \r",
      "\r",
      " 74% (817 of 1101) |################      | Elapsed Time: 0:20:58 ETA:  0:07:58"
     ]
    },
    {
     "name": "stdout",
     "output_type": "stream",
     "text": [
      "aap\n",
      "connected mappoints  40\n"
     ]
    },
    {
     "name": "stderr",
     "output_type": "stream",
     "text": [
      "\r",
      "                                                                               \r",
      "\r",
      " 74% (818 of 1101) |################      | Elapsed Time: 0:21:00 ETA:  0:07:27"
     ]
    },
    {
     "name": "stdout",
     "output_type": "stream",
     "text": [
      "invalid speed keyframe 816 frame 817 speed 1.141950983639339\n",
      " [[ 0.99999457 -0.00143911  0.00296438  0.00945881]\n",
      " [ 0.00143326  0.99999702  0.00197741  0.01523134]\n",
      " [-0.00296721 -0.00197315  0.99999365 -1.15617425]\n",
      " [ 0.          0.          0.          1.        ]]\n",
      "noot True False 68\n",
      "aap\n",
      "connected mappoints  60\n"
     ]
    },
    {
     "name": "stderr",
     "output_type": "stream",
     "text": [
      "\r",
      "                                                                               \r",
      "\r",
      " 74% (819 of 1101) |################      | Elapsed Time: 0:21:02 ETA:  0:07:50"
     ]
    },
    {
     "name": "stdout",
     "output_type": "stream",
     "text": [
      "invalid speed keyframe 817 frame 818 speed 0.00720034389239288\n",
      " [[  9.99994873e-01   6.28309825e-04   3.14000690e-03  -4.58364108e-04]\n",
      " [ -6.29056066e-04   9.99999774e-01   2.36674117e-04   2.29096186e-02]\n",
      " [ -3.13985749e-03  -2.38648144e-04   9.99995042e-01  -1.14897391e+00]\n",
      " [  0.00000000e+00   0.00000000e+00   0.00000000e+00   1.00000000e+00]]\n",
      "noot True False 65\n"
     ]
    },
    {
     "name": "stderr",
     "output_type": "stream",
     "text": [
      "\r",
      "                                                                               \r",
      "\r",
      " 74% (820 of 1101) |################      | Elapsed Time: 0:21:03 ETA:  0:07:34"
     ]
    },
    {
     "name": "stdout",
     "output_type": "stream",
     "text": [
      "aap\n",
      "connected mappoints  26\n"
     ]
    },
    {
     "name": "stderr",
     "output_type": "stream",
     "text": [
      "\r",
      "                                                                               \r",
      "\r",
      " 74% (821 of 1101) |################      | Elapsed Time: 0:21:05 ETA:  0:06:53"
     ]
    },
    {
     "name": "stdout",
     "output_type": "stream",
     "text": [
      "invalid speed keyframe 819 frame 820 speed 1.0521016283227156\n",
      " [[  9.99998340e-01  -8.75571473e-04   1.59780384e-03   1.65667949e-02]\n",
      " [  8.76951179e-04   9.99999243e-01  -8.63005207e-04   2.19522825e-02]\n",
      " [ -1.59704701e-03   8.64404971e-04   9.99998351e-01  -1.14535184e+00]\n",
      " [  0.00000000e+00   0.00000000e+00   0.00000000e+00   1.00000000e+00]]\n",
      "noot True False 55\n",
      "aap\n",
      "connected mappoints  44\n"
     ]
    },
    {
     "name": "stderr",
     "output_type": "stream",
     "text": [
      "\r",
      "                                                                               \r",
      "\r",
      " 74% (822 of 1101) |################      | Elapsed Time: 0:21:07 ETA:  0:07:20"
     ]
    },
    {
     "name": "stdout",
     "output_type": "stream",
     "text": [
      "invalid speed keyframe 820 frame 821 speed 0.0024588516002488348\n",
      " [[  9.99996056e-01  -2.14053183e-03   1.81853229e-03   1.09721916e-02]\n",
      " [  2.14175359e-03   9.99997482e-01  -6.70155310e-04   1.83561952e-02]\n",
      " [ -1.81709323e-03   6.74047515e-04   9.99998122e-01  -1.14289299e+00]\n",
      " [  0.00000000e+00   0.00000000e+00   0.00000000e+00   1.00000000e+00]]\n",
      "noot True False 66\n"
     ]
    },
    {
     "name": "stderr",
     "output_type": "stream",
     "text": [
      "\r",
      "                                                                               \r",
      "\r",
      " 74% (823 of 1101) |################      | Elapsed Time: 0:21:08 ETA:  0:07:12"
     ]
    },
    {
     "name": "stdout",
     "output_type": "stream",
     "text": [
      "aap\n",
      "connected mappoints  38\n"
     ]
    },
    {
     "name": "stderr",
     "output_type": "stream",
     "text": [
      "\r",
      "                                                                               \r",
      "\r",
      " 74% (824 of 1101) |################      | Elapsed Time: 0:21:10 ETA:  0:06:56"
     ]
    },
    {
     "name": "stdout",
     "output_type": "stream",
     "text": [
      "invalid speed keyframe 822 frame 823 speed 1.1159736560654885\n",
      " [[  9.99997579e-01  -2.04763700e-03   8.06277136e-04   2.10217980e-02]\n",
      " [  2.04809326e-03   9.99997743e-01  -5.65465102e-04   2.61899099e-02]\n",
      " [ -8.05117449e-04   5.67115063e-04   9.99999515e-01  -1.11609963e+00]\n",
      " [  0.00000000e+00   0.00000000e+00   0.00000000e+00   1.00000000e+00]]\n",
      "noot True False 62\n"
     ]
    },
    {
     "name": "stderr",
     "output_type": "stream",
     "text": [
      "\r",
      "                                                                               \r",
      "\r",
      " 74% (825 of 1101) |################      | Elapsed Time: 0:21:11 ETA:  0:06:50"
     ]
    },
    {
     "name": "stdout",
     "output_type": "stream",
     "text": [
      "aap\n",
      "connected mappoints  38\n"
     ]
    },
    {
     "name": "stderr",
     "output_type": "stream",
     "text": [
      "\r",
      "                                                                               \r",
      "\r",
      " 75% (826 of 1101) |################      | Elapsed Time: 0:21:13 ETA:  0:06:50"
     ]
    },
    {
     "name": "stdout",
     "output_type": "stream",
     "text": [
      "invalid speed keyframe 824 frame 825 speed 1.1236388153667711\n",
      " [[  9.99998470e-01  -1.54230012e-03  -8.24950612e-04   2.09449742e-02]\n",
      " [  1.54266412e-03   9.99998713e-01   4.40782237e-04   3.31835762e-02]\n",
      " [  8.24269732e-04  -4.42054184e-04   9.99999563e-01  -1.12878931e+00]\n",
      " [  0.00000000e+00   0.00000000e+00   0.00000000e+00   1.00000000e+00]]\n",
      "noot True False 65\n"
     ]
    },
    {
     "name": "stderr",
     "output_type": "stream",
     "text": [
      "\r",
      "                                                                               \r",
      "\r",
      " 75% (827 of 1101) |################      | Elapsed Time: 0:21:13 ETA:  0:06:50"
     ]
    },
    {
     "name": "stdout",
     "output_type": "stream",
     "text": [
      "aap\n",
      "connected mappoints  27\n"
     ]
    },
    {
     "name": "stderr",
     "output_type": "stream",
     "text": [
      "\r",
      "                                                                               \r",
      "\r",
      " 75% (828 of 1101) |################      | Elapsed Time: 0:21:16 ETA:  0:07:13"
     ]
    },
    {
     "name": "stdout",
     "output_type": "stream",
     "text": [
      "invalid speed keyframe 826 frame 827 speed 1.1253189783765403\n",
      " [[  9.99996920e-01   1.93630958e-03  -1.55280909e-03   8.67087865e-03]\n",
      " [ -1.93628193e-03   9.99998125e-01   1.93123963e-05   2.59042257e-02]\n",
      " [  1.55284357e-03  -1.63056607e-05   9.99998794e-01  -1.12600624e+00]\n",
      " [  0.00000000e+00   0.00000000e+00   0.00000000e+00   1.00000000e+00]]\n",
      "noot True False 98\n"
     ]
    },
    {
     "name": "stderr",
     "output_type": "stream",
     "text": [
      "\r",
      "                                                                               \r",
      "\r",
      " 75% (829 of 1101) |################      | Elapsed Time: 0:21:17 ETA:  0:06:43"
     ]
    },
    {
     "name": "stdout",
     "output_type": "stream",
     "text": [
      "invalid speed keyframe 826 frame 829 speed 1.9248805282209327\n",
      " [[  9.99981607e-01  -1.84570273e-03  -5.77737999e-03  -3.50627059e-01]\n",
      " [  1.85089013e-03   9.99997889e-01   8.92663353e-04   5.80841497e-02]\n",
      " [  5.77572020e-03  -9.03340230e-04   9.99982912e-01  -3.24865119e-01]\n",
      " [  0.00000000e+00   0.00000000e+00   0.00000000e+00   1.00000000e+00]]\n",
      "aap\n",
      "connected mappoints  47\n"
     ]
    },
    {
     "name": "stderr",
     "output_type": "stream",
     "text": [
      "\r",
      "                                                                               \r",
      "\r",
      " 75% (830 of 1101) |################      | Elapsed Time: 0:21:20 ETA:  0:07:41"
     ]
    },
    {
     "name": "stdout",
     "output_type": "stream",
     "text": [
      "invalid speed keyframe 828 frame 829 speed 1.1321959615323338\n",
      " [[ 0.99999368  0.0029016  -0.00205659  0.00457487]\n",
      " [-0.00289911  0.99999506  0.00121624  0.02615601]\n",
      " [ 0.00206011 -0.00121027  0.99999715 -1.11754969]\n",
      " [ 0.          0.          0.          1.        ]]\n",
      "noot True False 96\n"
     ]
    },
    {
     "name": "stderr",
     "output_type": "stream",
     "text": [
      "\r",
      "                                                                               \r",
      "\r",
      " 75% (831 of 1101) |################      | Elapsed Time: 0:21:21 ETA:  0:07:07"
     ]
    },
    {
     "name": "stdout",
     "output_type": "stream",
     "text": [
      "aap\n",
      "connected mappoints  32\n"
     ]
    },
    {
     "name": "stderr",
     "output_type": "stream",
     "text": [
      "\r",
      "                                                                               \r",
      "\r",
      " 75% (832 of 1101) |################      | Elapsed Time: 0:21:24 ETA:  0:07:34"
     ]
    },
    {
     "name": "stdout",
     "output_type": "stream",
     "text": [
      "invalid speed keyframe 830 frame 831 speed 0.5853339672075732\n",
      " [[  9.99995605e-01   2.09274239e-03  -2.09987670e-03   1.25889632e-02]\n",
      " [ -2.09473424e-03   9.99997358e-01  -9.46804435e-04   2.77818982e-02]\n",
      " [  2.09788974e-03   9.51198957e-04   9.99997347e-01  -1.11126424e+00]\n",
      " [  0.00000000e+00   0.00000000e+00   0.00000000e+00   1.00000000e+00]]\n",
      "noot True False 67\n"
     ]
    },
    {
     "name": "stderr",
     "output_type": "stream",
     "text": [
      "\r",
      "                                                                               \r",
      "\r",
      " 75% (833 of 1101) |################      | Elapsed Time: 0:21:25 ETA:  0:07:42"
     ]
    },
    {
     "name": "stdout",
     "output_type": "stream",
     "text": [
      "aap\n",
      "connected mappoints  34\n"
     ]
    },
    {
     "name": "stderr",
     "output_type": "stream",
     "text": [
      "\r",
      "                                                                               \r",
      "\r",
      " 75% (834 of 1101) |################      | Elapsed Time: 0:21:28 ETA:  0:07:57"
     ]
    },
    {
     "name": "stdout",
     "output_type": "stream",
     "text": [
      "invalid speed keyframe 832 frame 833 speed 1.094129529907241\n",
      " [[ 0.99999511 -0.00177148 -0.00257686  0.0147428 ]\n",
      " [ 0.00176747  0.99999722 -0.00155901  0.02913504]\n",
      " [ 0.00257961  0.00155444  0.99999546 -1.11584867]\n",
      " [ 0.          0.          0.          1.        ]]\n",
      "noot True False 68\n"
     ]
    },
    {
     "name": "stderr",
     "output_type": "stream",
     "text": [
      "\r",
      "                                                                               \r",
      "\r",
      " 75% (835 of 1101) |################      | Elapsed Time: 0:21:29 ETA:  0:08:00"
     ]
    },
    {
     "name": "stdout",
     "output_type": "stream",
     "text": [
      "invalid speed keyframe 832 frame 835 speed 4.806876059732243\n",
      " [[ 0.99991359 -0.0063817  -0.0114927   0.21900077]\n",
      " [ 0.00634301  0.9999741  -0.00339954  0.12394403]\n",
      " [ 0.01151409  0.00332635  0.99992818  2.63661554]\n",
      " [ 0.          0.          0.          1.        ]]\n",
      "aap\n",
      "connected mappoints  31\n"
     ]
    },
    {
     "name": "stderr",
     "output_type": "stream",
     "text": [
      "\r",
      "                                                                               \r",
      "\r",
      " 75% (836 of 1101) |################      | Elapsed Time: 0:21:31 ETA:  0:08:01"
     ]
    },
    {
     "name": "stdout",
     "output_type": "stream",
     "text": [
      "invalid speed keyframe 834 frame 835 speed 1.0599234768254149\n",
      " [[ 0.99999733 -0.00120576 -0.00197203  0.01716873]\n",
      " [ 0.00120856  0.99999826  0.00141953  0.02479031]\n",
      " [ 0.00197032 -0.00142191  0.99999705 -1.11033705]\n",
      " [ 0.          0.          0.          1.        ]]\n",
      "noot True False 80\n",
      "invalid speed keyframe 834 frame 836 speed 0.004086938780734739\n",
      " [[  9.99997477e-01   7.04998677e-04  -2.13273649e-03  -1.99660604e-01]\n",
      " [ -6.95777345e-04   9.99990421e-01   4.32136592e-03  -1.28011626e-01]\n",
      " [  2.13576262e-03  -4.31987111e-03   9.99988389e-01  -1.10625011e+00]\n",
      " [  0.00000000e+00   0.00000000e+00   0.00000000e+00   1.00000000e+00]]\n",
      "aap\n",
      "connected mappoints  73\n"
     ]
    },
    {
     "name": "stderr",
     "output_type": "stream",
     "text": [
      "\r",
      "                                                                               \r",
      "\r",
      " 76% (837 of 1101) |################      | Elapsed Time: 0:21:33 ETA:  0:08:43"
     ]
    },
    {
     "name": "stdout",
     "output_type": "stream",
     "text": [
      "noot False False 78\n"
     ]
    },
    {
     "name": "stderr",
     "output_type": "stream",
     "text": [
      "\r",
      "                                                                               \r",
      "\r",
      " 76% (838 of 1101) |################      | Elapsed Time: 0:21:34 ETA:  0:07:46"
     ]
    },
    {
     "name": "stdout",
     "output_type": "stream",
     "text": [
      "aap\n",
      "connected mappoints  37\n"
     ]
    },
    {
     "name": "stderr",
     "output_type": "stream",
     "text": [
      "\r",
      "                                                                               \r",
      "\r",
      " 76% (839 of 1101) |################      | Elapsed Time: 0:21:37 ETA:  0:08:37"
     ]
    },
    {
     "name": "stdout",
     "output_type": "stream",
     "text": [
      "invalid speed keyframe 837 frame 838 speed 1.006763861912427\n",
      " [[ 0.99999831  0.00115127 -0.00143411  0.00900711]\n",
      " [-0.0011484   0.99999734  0.00200074  0.02117301]\n",
      " [ 0.00143641 -0.00199909  0.99999697 -1.09997473]\n",
      " [ 0.          0.          0.          1.        ]]\n",
      "noot True False 80\n"
     ]
    },
    {
     "name": "stderr",
     "output_type": "stream",
     "text": [
      "\r",
      "                                                                               \r",
      "\r",
      " 76% (840 of 1101) |################      | Elapsed Time: 0:21:38 ETA:  0:07:45"
     ]
    },
    {
     "name": "stdout",
     "output_type": "stream",
     "text": [
      "aap\n",
      "connected mappoints  31\n"
     ]
    },
    {
     "name": "stderr",
     "output_type": "stream",
     "text": [
      "\r",
      "                                                                               \r",
      "\r",
      " 76% (841 of 1101) |################      | Elapsed Time: 0:21:41 ETA:  0:08:35"
     ]
    },
    {
     "name": "stdout",
     "output_type": "stream",
     "text": [
      "invalid speed keyframe 839 frame 840 speed 0.08671584595913728\n",
      " [[  9.99999778e-01   3.76461894e-04  -5.50572202e-04   1.58941564e-02]\n",
      " [ -3.77529427e-04   9.99998047e-01  -1.94013525e-03   2.61505191e-02]\n",
      " [  5.49840739e-04   1.94034268e-03   9.99997966e-01  -1.06525609e+00]\n",
      " [  0.00000000e+00   0.00000000e+00   0.00000000e+00   1.00000000e+00]]\n",
      "noot True False 85\n"
     ]
    },
    {
     "name": "stderr",
     "output_type": "stream",
     "text": [
      "\r",
      "                                                                               \r",
      "\r",
      " 76% (842 of 1101) |################      | Elapsed Time: 0:21:42 ETA:  0:07:39"
     ]
    },
    {
     "name": "stdout",
     "output_type": "stream",
     "text": [
      "aap\n",
      "connected mappoints  26\n"
     ]
    },
    {
     "name": "stderr",
     "output_type": "stream",
     "text": [
      "\r",
      "                                                                               \r",
      "\r",
      " 76% (843 of 1101) |################      | Elapsed Time: 0:21:45 ETA:  0:08:25"
     ]
    },
    {
     "name": "stdout",
     "output_type": "stream",
     "text": [
      "invalid speed keyframe 841 frame 842 speed 0.9828494884717884\n",
      " [[  9.99996514e-01  -2.60544474e-03   4.28552604e-04   1.27642908e-02]\n",
      " [  2.60611979e-03   9.99995352e-01  -1.58225016e-03   2.15688841e-02]\n",
      " [ -4.24428147e-04   1.58336150e-03   9.99998656e-01  -1.10016947e+00]\n",
      " [  0.00000000e+00   0.00000000e+00   0.00000000e+00   1.00000000e+00]]\n",
      "noot True False 68\n"
     ]
    },
    {
     "name": "stderr",
     "output_type": "stream",
     "text": [
      "\r",
      "                                                                               \r",
      "\r",
      " 76% (844 of 1101) |################      | Elapsed Time: 0:21:46 ETA:  0:07:40"
     ]
    },
    {
     "name": "stdout",
     "output_type": "stream",
     "text": [
      "aap\n",
      "connected mappoints  37\n"
     ]
    },
    {
     "name": "stderr",
     "output_type": "stream",
     "text": [
      "\r",
      "                                                                               \r",
      "\r",
      " 76% (845 of 1101) |################      | Elapsed Time: 0:21:49 ETA:  0:08:42"
     ]
    },
    {
     "name": "stdout",
     "output_type": "stream",
     "text": [
      "invalid speed keyframe 843 frame 844 speed 1.0305316030313312\n",
      " [[  9.99993347e-01  -3.57463206e-03   7.25945066e-04   1.69596307e-02]\n",
      " [  3.57476603e-03   9.99993594e-01  -1.83329613e-04   3.99477585e-02]\n",
      " [ -7.25285080e-04   1.85923477e-04   9.99999720e-01  -1.08706136e+00]\n",
      " [  0.00000000e+00   0.00000000e+00   0.00000000e+00   1.00000000e+00]]\n",
      "noot True False 83\n"
     ]
    },
    {
     "name": "stderr",
     "output_type": "stream",
     "text": [
      " 76% (847 of 1101) |################      | Elapsed Time: 0:21:51 ETA:  0:07:26"
     ]
    },
    {
     "name": "stdout",
     "output_type": "stream",
     "text": [
      "aap\n",
      "connected mappoints  31\n"
     ]
    },
    {
     "name": "stderr",
     "output_type": "stream",
     "text": [
      "\r",
      "                                                                               \r",
      "\r",
      " 77% (848 of 1101) |################      | Elapsed Time: 0:21:54 ETA:  0:08:22"
     ]
    },
    {
     "name": "stdout",
     "output_type": "stream",
     "text": [
      "invalid speed keyframe 846 frame 847 speed 2.11312114301322\n",
      " [[  9.99999383e-01  -1.03351252e-03   4.06922909e-04   1.73229951e-02]\n",
      " [  1.03299760e-03   9.99998668e-01   1.26357548e-03   2.45988266e-02]\n",
      " [ -4.08228289e-04  -1.26315435e-03   9.99999119e-01  -1.09461246e+00]\n",
      " [  0.00000000e+00   0.00000000e+00   0.00000000e+00   1.00000000e+00]]\n",
      "noot True False 93\n"
     ]
    }
   ],
   "source": [
    "seq = Sequence()\n",
    "for f in ProgressBar()(frame[:]):\n",
    "    seq.add_frame(f, run_ba=False)"
   ]
  },
  {
   "cell_type": "code",
   "execution_count": null,
   "metadata": {},
   "outputs": [],
   "source": [
    "%%time\n",
    "SEQUENCE=7\n",
    "LEFTDIR = '/data/urbinn/datasets/kitti/sequences/%02d/image_0'%SEQUENCE\n",
    "RIGHTDIR = '/data/urbinn/datasets/kitti/sequences/%02d/image_1'%SEQUENCE\n",
    "\n",
    "kframe = []\n",
    "for filename in sorted(glob.glob(LEFTDIR + '/*')):\n",
    "    left_frame = Frame(filename, RIGHTDIR)\n",
    "    kframe.append(left_frame)"
   ]
  },
  {
   "cell_type": "code",
   "execution_count": 12,
   "metadata": {},
   "outputs": [
    {
     "name": "stderr",
     "output_type": "stream",
     "text": [
      "  5% (1 of 20) |#                         | Elapsed Time: 0:00:01 ETA:  0:00:22"
     ]
    },
    {
     "name": "stdout",
     "output_type": "stream",
     "text": [
      "connected mappoints  0\n"
     ]
    },
    {
     "name": "stderr",
     "output_type": "stream",
     "text": [
      "\r",
      "                                                                               \r",
      "\r",
      " 10% (2 of 20) |##                        | Elapsed Time: 0:00:02 ETA:  0:00:23"
     ]
    },
    {
     "name": "stdout",
     "output_type": "stream",
     "text": [
      "connected mappoints  105\n"
     ]
    },
    {
     "name": "stderr",
     "output_type": "stream",
     "text": [
      "\r",
      "                                                                               \r",
      "\r",
      " 15% (3 of 20) |###                       | Elapsed Time: 0:00:04 ETA:  0:00:25"
     ]
    },
    {
     "name": "stdout",
     "output_type": "stream",
     "text": [
      "connected mappoints  102\n",
      "invalid speed keyframe 1746 frame 1747 speed 0.02824932226523713\n",
      " [[  9.99992969e-01   9.17188669e-04  -3.63591785e-03  -1.67946186e-02]\n",
      " [ -9.23499997e-04   9.99998069e-01  -1.73452952e-03   1.86394373e-02]\n",
      " [  3.63431994e-03   1.73787509e-03   9.99991886e-01  -5.63800548e-01]\n",
      " [  0.00000000e+00   0.00000000e+00   0.00000000e+00   1.00000000e+00]]\n"
     ]
    },
    {
     "name": "stderr",
     "output_type": "stream",
     "text": [
      "\r",
      "                                                                               \r",
      "\r",
      " 20% (4 of 20) |#####                     | Elapsed Time: 0:00:06 ETA:  0:00:24"
     ]
    },
    {
     "name": "stdout",
     "output_type": "stream",
     "text": [
      "connected mappoints  73\n",
      "invalid speed keyframe 1747 frame 1748 speed 0.0534933313192294\n",
      " [[  9.99992822e-01   1.12129216e-03  -3.61931818e-03  -2.66290935e-03]\n",
      " [ -1.12398134e-03   9.99999094e-01  -7.41058574e-04   1.38407072e-02]\n",
      " [  3.61848396e-03   7.45121301e-04   9.99993176e-01  -5.10307217e-01]\n",
      " [  0.00000000e+00   0.00000000e+00   0.00000000e+00   1.00000000e+00]]\n"
     ]
    },
    {
     "name": "stderr",
     "output_type": "stream",
     "text": [
      "\r",
      "                                                                               \r",
      "\r",
      " 25% (5 of 20) |######                    | Elapsed Time: 0:00:08 ETA:  0:00:24"
     ]
    },
    {
     "name": "stdout",
     "output_type": "stream",
     "text": [
      "connected mappoints  65\n",
      "invalid speed keyframe 1748 frame 1749 speed 0.005830425092245073\n",
      " [[  9.99995215e-01  -5.88759293e-05  -3.09301230e-03  -3.68044279e-03]\n",
      " [  5.56112329e-05   9.99999441e-01  -1.05558248e-03   2.02352596e-02]\n",
      " [  3.09307272e-03   1.05540542e-03   9.99994659e-01  -5.04476792e-01]\n",
      " [  0.00000000e+00   0.00000000e+00   0.00000000e+00   1.00000000e+00]]\n"
     ]
    },
    {
     "name": "stderr",
     "output_type": "stream",
     "text": [
      "\r",
      "                                                                               \r",
      "\r",
      " 30% (6 of 20) |#######                   | Elapsed Time: 0:00:10 ETA:  0:00:23"
     ]
    },
    {
     "name": "stdout",
     "output_type": "stream",
     "text": [
      "connected mappoints  73\n",
      "invalid speed keyframe 1749 frame 1750 speed 0.03360925754487981\n",
      " [[  9.99996150e-01   9.20332571e-04  -2.61787370e-03  -1.97480780e-03]\n",
      " [ -9.22869439e-04   9.99999106e-01  -9.68013965e-04   9.50914881e-03]\n",
      " [  2.61698046e-03   9.70426193e-04   9.99996105e-01  -4.70867534e-01]\n",
      " [  0.00000000e+00   0.00000000e+00   0.00000000e+00   1.00000000e+00]]\n"
     ]
    },
    {
     "name": "stderr",
     "output_type": "stream",
     "text": [
      "\r",
      "                                                                               \r",
      "\r",
      " 35% (7 of 20) |#########                 | Elapsed Time: 0:00:11 ETA:  0:00:21"
     ]
    },
    {
     "name": "stdout",
     "output_type": "stream",
     "text": [
      "connected mappoints  55\n",
      "invalid speed keyframe 1750 frame 1751 speed 0.0014871743281921757\n",
      " [[ 0.99998819  0.00424787 -0.00236052 -0.00661775]\n",
      " [-0.00424263  0.99998853  0.00222244 -0.01959411]\n",
      " [ 0.00236994 -0.00221239  0.99999474 -0.46938036]\n",
      " [ 0.          0.          0.          1.        ]]\n"
     ]
    },
    {
     "name": "stderr",
     "output_type": "stream",
     "text": [
      "\r",
      "                                                                               \r",
      "\r",
      " 40% (8 of 20) |##########                | Elapsed Time: 0:00:13 ETA:  0:00:19"
     ]
    },
    {
     "name": "stdout",
     "output_type": "stream",
     "text": [
      "connected mappoints  41\n",
      "invalid speed keyframe 1751 frame 1752 speed 0.07122870983639928\n",
      " [[  9.99999412e-01   5.72200523e-04  -9.21136666e-04  -7.07471829e-03]\n",
      " [ -5.73129926e-04   9.99999327e-01  -1.00902560e-03   1.39513976e-02]\n",
      " [  9.20558681e-04   1.00955293e-03   9.99999067e-01  -3.98151650e-01]\n",
      " [  0.00000000e+00   0.00000000e+00   0.00000000e+00   1.00000000e+00]]\n"
     ]
    },
    {
     "name": "stderr",
     "output_type": "stream",
     "text": [
      "\r",
      "                                                                               \r",
      "\r",
      " 45% (9 of 20) |###########               | Elapsed Time: 0:00:14 ETA:  0:00:17"
     ]
    },
    {
     "name": "stdout",
     "output_type": "stream",
     "text": [
      "connected mappoints  32\n"
     ]
    },
    {
     "name": "stderr",
     "output_type": "stream",
     "text": [
      "\r",
      "                                                                               \r",
      "\r",
      " 50% (10 of 20) |############             | Elapsed Time: 0:00:14 ETA:  0:00:15"
     ]
    },
    {
     "name": "stdout",
     "output_type": "stream",
     "text": [
      "connected mappoints  6\n"
     ]
    },
    {
     "name": "stderr",
     "output_type": "stream",
     "text": [
      "\r",
      "                                                                               \r",
      "\r",
      " 55% (11 of 20) |#############            | Elapsed Time: 0:00:15 ETA:  0:00:12"
     ]
    },
    {
     "name": "stdout",
     "output_type": "stream",
     "text": [
      "connected mappoints  3\n",
      "invalid speed keyframe 1754 frame 1755 speed 0.17891522989330383\n",
      " [[  9.99988006e-01  -4.69168317e-03   1.40582762e-03  -1.80040141e-02]\n",
      " [  4.69238522e-03   9.99988867e-01  -4.96507458e-04   5.47880349e-02]\n",
      " [ -1.40348251e-03   5.03098187e-04   9.99998889e-01  -2.61967221e-01]\n",
      " [  0.00000000e+00   0.00000000e+00   0.00000000e+00   1.00000000e+00]]\n"
     ]
    },
    {
     "name": "stderr",
     "output_type": "stream",
     "text": [
      "\r",
      "                                                                               \r",
      "\r",
      " 60% (12 of 20) |###############          | Elapsed Time: 0:00:16 ETA:  0:00:10"
     ]
    },
    {
     "name": "stdout",
     "output_type": "stream",
     "text": [
      "connected mappoints  16\n",
      "invalid speed keyframe 1755 frame 1756 speed 0.007123635059209488\n",
      " [[  9.99993293e-01  -3.45983243e-03   1.20138509e-03   1.48859122e-02]\n",
      " [  3.45914089e-03   9.99993851e-01   5.77224891e-04   2.51828723e-02]\n",
      " [ -1.20337481e-03  -5.73065259e-04   9.99999112e-01  -2.54843586e-01]\n",
      " [  0.00000000e+00   0.00000000e+00   0.00000000e+00   1.00000000e+00]]\n"
     ]
    },
    {
     "name": "stderr",
     "output_type": "stream",
     "text": [
      "\r",
      "                                                                               \r",
      "\r",
      " 65% (13 of 20) |################         | Elapsed Time: 0:00:16 ETA:  0:00:08"
     ]
    },
    {
     "name": "stdout",
     "output_type": "stream",
     "text": [
      "connected mappoints  36\n"
     ]
    },
    {
     "name": "stderr",
     "output_type": "stream",
     "text": [
      "\r",
      "                                                                               \r",
      "\r",
      " 70% (14 of 20) |#################        | Elapsed Time: 0:00:17 ETA:  0:00:06"
     ]
    },
    {
     "name": "stdout",
     "output_type": "stream",
     "text": [
      "connected mappoints  35\n",
      "invalid speed keyframe 1757 frame 1758 speed 0.339189587338027\n",
      " [[ 0.99999421 -0.0011215   0.00321419  0.00168969]\n",
      " [ 0.0011161   0.99999797  0.00167959 -0.00326699]\n",
      " [-0.00321606 -0.00167599  0.99999342 -0.26187462]\n",
      " [ 0.          0.          0.          1.        ]]\n"
     ]
    },
    {
     "name": "stderr",
     "output_type": "stream",
     "text": [
      "\r",
      "                                                                               \r",
      "\r",
      " 75% (15 of 20) |##################       | Elapsed Time: 0:00:18 ETA:  0:00:04"
     ]
    },
    {
     "name": "stdout",
     "output_type": "stream",
     "text": [
      "connected mappoints  73\n",
      "invalid speed keyframe 1758 frame 1759 speed 0.02909119221967904\n",
      " [[  9.99994102e-01  -1.38579861e-04   3.43187329e-03  -1.03766684e-02]\n",
      " [  1.29423022e-04   9.99996432e-01   2.66825357e-03   3.08035462e-03]\n",
      " [ -3.43223081e-03  -2.66779367e-03   9.99990551e-01  -2.32783424e-01]\n",
      " [  0.00000000e+00   0.00000000e+00   0.00000000e+00   1.00000000e+00]]\n"
     ]
    },
    {
     "name": "stderr",
     "output_type": "stream",
     "text": [
      "\r",
      "                                                                               \r",
      "\r",
      " 80% (16 of 20) |####################     | Elapsed Time: 0:00:19 ETA:  0:00:03"
     ]
    },
    {
     "name": "stdout",
     "output_type": "stream",
     "text": [
      "connected mappoints  81\n"
     ]
    },
    {
     "name": "stderr",
     "output_type": "stream",
     "text": [
      "\r",
      "                                                                               \r",
      "\r",
      " 85% (17 of 20) |#####################    | Elapsed Time: 0:00:21 ETA:  0:00:02"
     ]
    },
    {
     "name": "stdout",
     "output_type": "stream",
     "text": [
      "connected mappoints  85\n",
      "invalid speed keyframe 1760 frame 1761 speed 0.08274737594334478\n",
      " [[  9.99993579e-01   1.35094139e-03   3.31927809e-03  -2.25272745e-02]\n",
      " [ -1.35293908e-03   9.99998905e-01   5.99672838e-04   8.95552146e-04]\n",
      " [ -3.31846433e-03  -6.04159769e-04   9.99994311e-01  -2.11038144e-01]\n",
      " [  0.00000000e+00   0.00000000e+00   0.00000000e+00   1.00000000e+00]]\n"
     ]
    },
    {
     "name": "stderr",
     "output_type": "stream",
     "text": [
      "\r",
      "                                                                               \r",
      "\r",
      " 90% (18 of 20) |######################   | Elapsed Time: 0:00:22 ETA:  0:00:01"
     ]
    },
    {
     "name": "stdout",
     "output_type": "stream",
     "text": [
      "connected mappoints  110\n",
      "invalid speed keyframe 1761 frame 1762 speed 0.02683957429844161\n",
      " [[  9.99994169e-01  -9.53541264e-04   3.27910909e-03  -1.07278257e-02]\n",
      " [  9.57382503e-04   9.99998857e-01  -1.17005762e-03   8.50521530e-03]\n",
      " [ -3.27798964e-03   1.17319016e-03   9.99993939e-01  -1.84198570e-01]\n",
      " [  0.00000000e+00   0.00000000e+00   0.00000000e+00   1.00000000e+00]]\n"
     ]
    },
    {
     "name": "stderr",
     "output_type": "stream",
     "text": [
      "\r",
      "                                                                               \r",
      "\r",
      " 95% (19 of 20) |#######################  | Elapsed Time: 0:00:24 ETA:  0:00:01"
     ]
    },
    {
     "name": "stdout",
     "output_type": "stream",
     "text": [
      "connected mappoints  114\n",
      "invalid speed keyframe 1762 frame 1763 speed 0.007656109467807426\n",
      " [[  9.99991016e-01  -2.37334563e-03   3.51203032e-03  -1.51545556e-02]\n",
      " [  2.37626633e-03   9.99996834e-01  -8.27688118e-04   1.12846043e-02]\n",
      " [ -3.51005481e-03   8.36026201e-04   9.99993490e-01  -1.76542461e-01]\n",
      " [  0.00000000e+00   0.00000000e+00   0.00000000e+00   1.00000000e+00]]\n"
     ]
    },
    {
     "name": "stderr",
     "output_type": "stream",
     "text": [
      "100% (20 of 20) |#########################| Elapsed Time: 0:00:25 Time: 0:00:25\n"
     ]
    },
    {
     "name": "stdout",
     "output_type": "stream",
     "text": [
      "connected mappoints  111\n"
     ]
    }
   ],
   "source": [
    "kseq = Sequence()\n",
    "for f in ProgressBar()(kframe[630:650]):\n",
    "    kseq.add_keyframe(f, run_ba=False)"
   ]
  },
  {
   "cell_type": "markdown",
   "metadata": {},
   "source": [
    "Example of how to save a set of covisible keyframes, fixed keyframes, mappoints and edges to use for local bundle adjustment"
   ]
  },
  {
   "cell_type": "code",
   "execution_count": 6,
   "metadata": {},
   "outputs": [
    {
     "name": "stdout",
     "output_type": "stream",
     "text": [
      "Keyframes count\n",
      " 13 \n",
      "\n"
     ]
    }
   ],
   "source": [
    "print('Keyframes count\\n', (len(seq.keyframes)), '\\n')\n",
    "\n",
    "def keyframes_to_np(keyframes):\n",
    "    return np.hstack([ [ [ kf.keyframeid] for kf in keyframes ], [ [kf.frameid] for kf in keyframes ], [ kf.get_world_pose().flatten() for kf in keyframes ] ])"
   ]
  },
  {
   "cell_type": "code",
   "execution_count": null,
   "metadata": {},
   "outputs": [],
   "source": [
    "cv_keyframes = [ seq.keyframes[f] for f in range(len(seq.keyframes)) ]\n",
    "#cv_keyframes = get_covisible_keyframes(seq.keyframes[-1])\n",
    "mappoints = get_mappoints(cv_keyframes)\n",
    "f_keyframes = get_fixed_keyframes(mappoints, cv_keyframes)[:0]\n",
    "\n",
    "cv_keyframes_np = keyframes_to_np(cv_keyframes)\n",
    "f_keyframes_np = keyframes_to_np(f_keyframes)\n",
    "mappoints_np = mappoints_to_np(mappoints)\n",
    "links_np = links_to_np(mappoints)\n",
    "\n",
    "\n",
    "f_keyframes = np.asfortranarray(f_keyframes_np)\n",
    "cv_keyframes_BA = np.asfortranarray(cv_keyframes_np)\n",
    "mappoints = np.asfortranarray(mappoints_np)\n",
    "links = np.array(links_np, order='f')\n",
    "\n",
    "#cv_keyframes_BA[-1,2:] = cv_keyframes_BA[-1,2:] * 2\n",
    "#print(cv_keyframes_BA[3])\n",
    "results =  urbg2o.localBundleAdjustment(cv_keyframes_BA, f_keyframes, mappoints, links)\n",
    "\n",
    "#[f.frameid for f in cv_keyframes]\n",
    "cv_keyframes_np[:, [5,13]].reshape((-1,2))"
   ]
  },
  {
   "cell_type": "code",
   "execution_count": 8,
   "metadata": {},
   "outputs": [
    {
     "data": {
      "text/plain": [
       "array([[ 0.        ,  0.        ],\n",
       "       [ 0.05548013, -1.04691944],\n",
       "       [ 0.03477116, -2.13411294],\n",
       "       [-0.4324042 , -3.87420913],\n",
       "       [-0.8218082 , -4.61716318],\n",
       "       [-1.1909044 , -5.08371176],\n",
       "       [-1.85038041, -5.74420082],\n",
       "       [-2.81400045, -6.31998673],\n",
       "       [-3.1521221 , -6.47106179],\n",
       "       [-3.52995305, -6.61080743],\n",
       "       [-4.33370192, -6.85478241],\n",
       "       [-6.01639211, -7.06477951],\n",
       "       [-8.10863041, -7.06496957]])"
      ]
     },
     "execution_count": 8,
     "metadata": {},
     "output_type": "execute_result"
    }
   ],
   "source": [
    "cv_keyframes = [ seq.keyframes[f] for f in range(len(seq.keyframes)) ]\n",
    "#cv_keyframes = get_covisible_keyframes(seq.keyframes[-1])\n",
    "mappoints = get_mappoints(cv_keyframes)\n",
    "f_keyframes = get_fixed_keyframes(mappoints, cv_keyframes)[:0]\n",
    "\n",
    "cv_keyframes_np = keyframes_to_np(cv_keyframes)\n",
    "f_keyframes_np = keyframes_to_np(f_keyframes)\n",
    "mappoints_np = mappoints_to_np(mappoints)\n",
    "links_np = links_to_np(mappoints)\n",
    "\n",
    "\n",
    "f_keyframes = np.asfortranarray(f_keyframes_np)\n",
    "cv_keyframes_BA = np.asfortranarray(cv_keyframes_np)\n",
    "mappoints = np.asfortranarray(mappoints_np)\n",
    "links = np.array(links_np, order='f')\n",
    "\n",
    "#cv_keyframes_BA[-1,2:] = cv_keyframes_BA[-1,2:] * 2\n",
    "#print(cv_keyframes_BA[3])\n",
    "results =  urbg2o.localBundleAdjustment(cv_keyframes_BA, f_keyframes, mappoints, links)\n",
    "\n",
    "#[f.frameid for f in cv_keyframes]\n",
    "cv_keyframes_np[:, [5,13]].reshape((-1,2))"
   ]
  },
  {
   "cell_type": "code",
   "execution_count": 15,
   "metadata": {},
   "outputs": [
    {
     "data": {
      "text/plain": [
       "array([ 1.        ,  0.99998669,  0.9999556 ,  0.99991363,  0.99985673,\n",
       "        0.99980295,  0.99974409,  0.99965332,  0.99962443,  0.99704223,\n",
       "        0.99142642,  0.99176535,  0.99202048,  0.99224619,  0.99266073,\n",
       "        0.99306357,  0.99320647,  0.99354051,  0.99392198,  0.99435138])"
      ]
     },
     "execution_count": 15,
     "metadata": {},
     "output_type": "execute_result"
    }
   ],
   "source": [
    "cv_keyframes = [ kseq.keyframes[f] for f in range(0,20) ]\n",
    "#cv_keyframes = get_covisible_keyframes(seq.keyframes[-1])\n",
    "mappoints = get_mappoints(cv_keyframes)\n",
    "f_keyframes = get_fixed_keyframes(mappoints, cv_keyframes)[:0]\n",
    "\n",
    "cv_keyframes_np = keyframes_to_np(cv_keyframes)\n",
    "f_keyframes_np = keyframes_to_np(f_keyframes)\n",
    "mappoints_np = mappoints_to_np(mappoints)\n",
    "links_np = links_to_np(mappoints)\n",
    "\n",
    "\n",
    "f_keyframes = np.asfortranarray(f_keyframes_np)\n",
    "cv_keyframes_BA = np.asfortranarray(cv_keyframes_np)\n",
    "mappoints = np.asfortranarray(mappoints_np)\n",
    "links = np.array(links_np, order='f')\n",
    "\n",
    "#cv_keyframes_BA[-1,2:] = cv_keyframes_BA[-1,2:] * 2\n",
    "#print(cv_keyframes_BA[3])\n",
    "results =  urbg2o.localBundleAdjustment(cv_keyframes_BA, f_keyframes, mappoints, links)\n",
    "\n",
    "#[f.frameid for f in cv_keyframes]\n",
    "cv_keyframes_np[:, [2]].reshape((-1))"
   ]
  },
  {
   "cell_type": "code",
   "execution_count": null,
   "metadata": {},
   "outputs": [],
   "source": [
    "len(links) / 50"
   ]
  },
  {
   "cell_type": "code",
   "execution_count": null,
   "metadata": {},
   "outputs": [],
   "source": [
    "#links2 = [ l for l in links if l[1] == 2.0]\n",
    "#[ l for l in links if int(l[0]) >= len(mappoints)]\n",
    "#mid2 = [ int(m[0]) for m in mappoints ]\n",
    "#[ l for l in links2 if int(l[0]) not in mid2 ]\n",
    "cv_keyframes_BA[:, [5,13]].reshape((-1,2))"
   ]
  },
  {
   "cell_type": "code",
   "execution_count": null,
   "metadata": {},
   "outputs": [],
   "source": [
    "\n",
    "#cv_keyframes = get_covisible_keyframes(seq.keyframes[-1])\n",
    "cv_keyframes = [ seq.keyframes[f] for f in range(len(seq.keyframes)) ]\n",
    "\n",
    "mappoints = get_mappoints(cv_keyframes)\n",
    "f_keyframes = get_fixed_keyframes(mappoints, cv_keyframes)[:0]\n",
    "\n",
    "cv_keyframes_np = keyframes_to_np(cv_keyframes)\n",
    "f_keyframes_np = keyframes_to_np(f_keyframes)\n",
    "mappoints_np = mappoints_to_np(mappoints)\n",
    "links_np = links_to_np(mappoints)\n",
    "\n",
    "\n",
    "f_keyframes = np.asfortranarray(f_keyframes_np)\n",
    "cv_keyframes_BA = np.asfortranarray(cv_keyframes_np)\n",
    "mappoints = np.asfortranarray(mappoints_np)\n",
    "links = np.array(links_np, order='f')\n",
    "\n",
    "outliers =  urbg2o.outliersForLocalBundleAdjustment(cv_keyframes_BA, f_keyframes, mappoints, links)\n",
    "\n",
    "cv_keyframes_np[:,[5,13]]"
   ]
  },
  {
   "cell_type": "code",
   "execution_count": null,
   "metadata": {},
   "outputs": [],
   "source": [
    "countsp = [0] * 50\n",
    "counts = [0] * 50\n",
    "for o in outliers:\n",
    "    if o[2] > 6:\n",
    "        counts[int(o[0])] += 1\n",
    "for o in links:\n",
    "    countsp[int(o[1])] += 1\n",
    "for i in range(len(counts)):\n",
    "    counts[i] /= countsp[i] + 0.001\n",
    "counts"
   ]
  },
  {
   "cell_type": "code",
   "execution_count": null,
   "metadata": {
    "collapsed": true
   },
   "outputs": [],
   "source": [
    "from sortedcontainers import SortedSet\n",
    "\n",
    "inliers = { (int(pointid), int(frameid)) for frameid, pointid, chi2 in outliers if chi2 < 5.8 }\n",
    "keptpoints = SortedSet({ l[0] for l in inliers })\n",
    "keptframes = SortedSet({ l[1] for l in inliers })\n",
    "#m_keptpoints = { p:i for i, p in enumerate(keptpoints) }\n",
    "#m_keptframes = { p:i for i, p in enumerate(keptframes) }\n",
    "cv_keyframes1 = [ f for f in cv_keyframes if f.keyframeid in keptframes]\n",
    "fixed_keyframes1 = [ f for f in f_keyframes if f.keyframeid in keptframes]\n",
    "mappoints1 = [ f for f in mappoints if int(f[0]) in keptpoints]\n",
    "links1 = [ (l[0], l[1], l[2], l[3]) for l in links if (int(l[0]), int(l[1])) in inliers ]"
   ]
  },
  {
   "cell_type": "code",
   "execution_count": null,
   "metadata": {},
   "outputs": [],
   "source": [
    "len(mappoints), len(links)"
   ]
  },
  {
   "cell_type": "code",
   "execution_count": null,
   "metadata": {},
   "outputs": [],
   "source": [
    "len(inliers) / len(links)"
   ]
  },
  {
   "cell_type": "code",
   "execution_count": null,
   "metadata": {
    "collapsed": true
   },
   "outputs": [],
   "source": [
    "cv_keyframes1_np = keyframes_to_np(cv_keyframes1)\n",
    "f_keyframes1_np = keyframes_to_np(fixed_keyframes1)\n",
    "links1_np = np.array(links1, dtype=np.float64, order='f')\n",
    "\n",
    "f_keyframes1 = np.asfortranarray(f_keyframes1_np)\n",
    "cv_keyframes1_BA = np.asfortranarray(cv_keyframes1_np)\n",
    "mappoints1 = np.asfortranarray(mappoints1)\n",
    "links1 = np.array(links1_np, order='f')\n",
    "\n",
    "results =  urbg2o.localBundleAdjustment(cv_keyframes1_BA, f_keyframes1, mappoints1, links1)\n",
    "\n"
   ]
  },
  {
   "cell_type": "code",
   "execution_count": null,
   "metadata": {},
   "outputs": [],
   "source": [
    "cv_keyframes1_BA[:,2:]"
   ]
  },
  {
   "cell_type": "code",
   "execution_count": null,
   "metadata": {
    "collapsed": true
   },
   "outputs": [],
   "source": []
  },
  {
   "cell_type": "code",
   "execution_count": null,
   "metadata": {
    "collapsed": true
   },
   "outputs": [],
   "source": [
    "\n",
    "cv_keyframes = { seq.keyframes[i] for i in range(0,7,2) }\n",
    "mappoints = get_mappoints(cv_keyframes)\n",
    "f_keyframes = { }\n",
    "\n",
    "cv_keyframes_np = keyframes_to_np(cv_keyframes)\n",
    "f_keyframes_np = keyframes_to_np(f_keyframes)\n",
    "mappoints_np = mappoints_to_np(mappoints)\n",
    "links_np = links_to_np(mappoints)\n",
    "\n",
    "\n",
    "f_keyframes = np.asfortranarray(f_keyframes_np)\n",
    "cv_keyframes_BA = np.asfortranarray(cv_keyframes_np)\n",
    "mappoints = np.asfortranarray(mappoints_np)\n",
    "links = np.array(links_np, order='f')\n",
    "\n",
    "# np.set_printoptions(threshold=np.nan)\n",
    "\n",
    "# print('mappoints count  \\n', (len(mappoints[:]), '\\n') )\n",
    "# print('mappoints \\n', (mappoints[:]), '\\n')\n",
    "# print('links count  \\n', (len(links[:]), '\\n') )\n",
    "# print('links \\n', (links[:]), '\\n')\n",
    "\n",
    "# print('Keyframes \\n', (cv_keyframes), '\\n')\n",
    "# print('Keyframes numpy \\n', (cv_keyframes_np[:, 2 :]), '\\n')\n",
    "# print('mappoints len \\n', len(mappoints_np), '\\n')\n",
    "# print('Fixed Keyframes \\n',f_keyframes[:], '\\n')\n",
    "\n",
    "# print('Keyframes before BA \\n', (cv_keyframes_BA[: , 2:]), '\\n')\n",
    "# print(len(cv_keyframes_BA), '\\n')\n",
    "\n",
    "outliers =  urbg2o.outliersForLocalBundleAdjustment(cv_keyframes_BA, f_keyframes, mappoints, links)\n",
    "\n",
    "# print('Keyframes after BA \\n', (cv_keyframes_BA[:, 2 :]), '\\n')\n",
    "# print(len(cv_keyframes_BA), '\\n')"
   ]
  },
  {
   "cell_type": "code",
   "execution_count": null,
   "metadata": {
    "collapsed": true
   },
   "outputs": [],
   "source": [
    "from sortedcontainers import SortedSet\n",
    "\n",
    "inliers = { (int(pointid), int(frameid)) for frameid, pointid, chi2 in outliers if chi2 < 10 }\n",
    "keptpoints = SortedSet({ l[0] for l in inliers })\n",
    "keptframes = SortedSet({ l[1] for l in inliers })\n",
    "m_keptpoints = { p:i for i, p in enumerate(keptpoints) }\n",
    "m_keptframes = { p:i for i, p in enumerate(keptframes) }\n",
    "cv_keyframes1 = [ f for i, f in enumerate(cv_keyframes) if i in keptframes]\n",
    "fixed_keyframes1 = [ f for i, f in enumerate(f_keyframes) if i + len(cv_keyframes) in keptframes]\n",
    "mappoints1 = [ f for i, f in enumerate(mappoints) if i in keptpoints]\n",
    "links1 = [ (m_keptpoints[l[0]], m_keptframes[l[1]], l[2], l[3]) for l in links if (int(l[0]), int(l[1])) in inliers ]"
   ]
  },
  {
   "cell_type": "code",
   "execution_count": null,
   "metadata": {},
   "outputs": [],
   "source": [
    "show(draw_frame(frame[6]))\n",
    "show(draw_frame(kframe[6]))\n",
    "obs = [o for o in frame[6].get_observations() if o.cx > 1100]\n",
    "[ o.get_depth() for o in obs ]"
   ]
  },
  {
   "cell_type": "code",
   "execution_count": null,
   "metadata": {
    "collapsed": true
   },
   "outputs": [],
   "source": [
    "cv_keyframes1_np = keyframes_to_np(cv_keyframes1)\n",
    "f_keyframes1_np = keyframes_to_np(fixed_keyframes1)\n",
    "links1_np = np.array(links1, dtype=np.float64, order='f')\n",
    "\n",
    "f_keyframes1 = np.asfortranarray(f_keyframes1_np)\n",
    "cv_keyframes1_BA = np.asfortranarray(cv_keyframes1_np)\n",
    "mappoints1 = np.asfortranarray(mappoints1)\n",
    "links1 = np.array(links1_np, order='f')\n",
    "\n",
    "results =  urbg2o.localBundleAdjustment(cv_keyframes1_BA, f_keyframes1, mappoints1, links1)\n",
    "\n"
   ]
  },
  {
   "cell_type": "code",
   "execution_count": null,
   "metadata": {},
   "outputs": [],
   "source": [
    "cv_keyframes1_BA[:, 2:]"
   ]
  },
  {
   "cell_type": "code",
   "execution_count": null,
   "metadata": {
    "collapsed": true
   },
   "outputs": [],
   "source": []
  }
 ],
 "metadata": {
  "kernelspec": {
   "display_name": "Python 3",
   "language": "python",
   "name": "python3"
  },
  "language_info": {
   "codemirror_mode": {
    "name": "ipython",
    "version": 3
   },
   "file_extension": ".py",
   "mimetype": "text/x-python",
   "name": "python",
   "nbconvert_exporter": "python",
   "pygments_lexer": "ipython3",
   "version": "3.6.1"
  }
 },
 "nbformat": 4,
 "nbformat_minor": 2
}
