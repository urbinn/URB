{
 "cells": [
  {
   "cell_type": "markdown",
   "metadata": {},
   "source": [
    "# Store kitti sequence\n",
    "\n",
    "Create a sequence"
   ]
  },
  {
   "cell_type": "code",
   "execution_count": 1,
   "metadata": {
    "collapsed": true
   },
   "outputs": [],
   "source": [
    "# when you change a setting you have to restart the kernel (settings are only loaded once)\n",
    "import os\n",
    "#os.environ['STEREO_CONFIDENCE'] = '1.6'\n",
    "#os.environ['SEQUENCE_CONFIDENCE'] = '1.6'\n",
    "#os.environ['PATCH_SIZE'] = '17'\n",
    "FRAMECOUNT = 1101\n",
    "\n",
    "import sys\n",
    "sys.path.append('..')\n",
    "from src.kitti import *\n",
    "%matplotlib inline\n",
    "import numpy as np\n",
    "import glob\n",
    "import urbg2o\n",
    "import cv2\n",
    "\n",
    "\n",
    "IMAGE_SIZE = 400\n",
    "\n",
    "def load(file):\n",
    "    keyframeids, frameids, poses = load_keyframes(file)\n",
    "    return keyframeids, frameids, poses.reshape(poses.shape[0], 4, 4)\n",
    "\n",
    "def load_csv(file):\n",
    "    poses = np.genfromtxt(file, delimiter= \" \")\n",
    "    poses = np.hstack([poses, np.repeat(np.array([[0,0,0,1.0]]), len(poses), axis=0) ])\n",
    "    return poses.reshape(poses.shape[0], 4, 4)\n",
    "\n",
    "def transform(poses):\n",
    "    points = np.repeat(np.array([[0,0,0,1.0]]), len(poses), axis=0) \n",
    "    for i in range(1, len(poses)):\n",
    "        points[:i] = np.dot(points[:i], poses[i].T)\n",
    "    return points\n",
    "        \n",
    "def transform2(poses):\n",
    "    points = poses[:,:,3]\n",
    "    return points\n",
    "    \n",
    "def plot_trajectory(points):\n",
    "    # remove y coordinate (we only use x and z to plot a view from above)\n",
    "    points = points[:, [0,2,3]]\n",
    "    # compute min and max\n",
    "    pmin = points.min(axis=0)\n",
    "    pmax = points.max(axis=0)\n",
    "    maxxy = max(pmax[0] - pmin[0], pmax[1] - pmin[1])\n",
    "\n",
    "    t = np.eye(3, dtype=np.float64)\n",
    "    t[0,0] = IMAGE_SIZE / maxxy\n",
    "    t[1,1] = -IMAGE_SIZE / maxxy\n",
    "    t[0,2] = -pmin[0] * IMAGE_SIZE / maxxy\n",
    "    t[1,2] = IMAGE_SIZE / maxxy + pmin[1] / maxxy + 100\n",
    "\n",
    "    return np.dot(points, t.T)\n",
    "    \n",
    "\n",
    "def plot_trajectory2(points):\n",
    "    # remove y coordinate (we only use x and z to plot a view from above)\n",
    "    points = points[:, [0,2,3]]\n",
    "    # compute min and max\n",
    "    pmin = points.min(axis=0)\n",
    "    pmax = points.max(axis=0)\n",
    "    maxxy = max(pmax[0] - pmin[0], pmax[1] - pmin[1]) * 1.01\n",
    "\n",
    "    t = np.eye(3, dtype=np.float64)\n",
    "    t[0,0] = IMAGE_SIZE / maxxy\n",
    "    t[1,1] = -IMAGE_SIZE / maxxy\n",
    "    t[0,2] = -pmin[0] * IMAGE_SIZE / maxxy\n",
    "    t[1,2] = IMAGE_SIZE / maxxy + pmin[1] / maxxy + 100\n",
    "    return np.dot(points, t.T)\n",
    "    \n",
    "def plot_trajectory3(points):\n",
    "    coords = []\n",
    "    minx = min([p[0] for p in points])\n",
    "    maxx = max([p[0] for p in points])\n",
    "    miny = min([p[2] for p in points])\n",
    "    maxy = max([p[2] for p in points])\n",
    "    maxxy = max(maxx - minx, maxy - miny)* 1.01\n",
    "\n",
    "    for p in points:\n",
    "        #print(p)\n",
    "        x = IMAGE_SIZE * (p[0] - minx) / (maxxy)\n",
    "        z = IMAGE_SIZE - IMAGE_SIZE * (p[2] - miny) / (maxxy)\n",
    "        coords.append([x, z])\n",
    "    return coords\n",
    "\n",
    "def new_image():\n",
    "    img = np.zeros((IMAGE_SIZE, IMAGE_SIZE, 3), np.uint8)\n",
    "    img[:] = 255 #or img.fill(255)\n",
    "    return img\n",
    "\n",
    "def draw(coords, img, color = (0,0,0)):\n",
    "    # Draw a black line with thickness of 2 px\n",
    "    for i in range(1,len(coords)):\n",
    "        cv2.line(img, (int(coords[i - 1][0]), int(coords[i - 1][1])), (int(coords[i][0]), int(coords[i][1])), color, 2)\n",
    "    return img"
   ]
  },
  {
   "cell_type": "markdown",
   "metadata": {},
   "source": [
    "Read the first 10 frames from KITTI sequence 00."
   ]
  },
  {
   "cell_type": "code",
   "execution_count": 2,
   "metadata": {},
   "outputs": [
    {
     "name": "stdout",
     "output_type": "stream",
     "text": [
      "CPU times: user 15.9 ms, sys: 3.66 ms, total: 19.5 ms\n",
      "Wall time: 100 ms\n"
     ]
    }
   ],
   "source": [
    "%%time\n",
    "LEFTDIR = '/data/urbinn/datasets/kitti/sequences/00/image_2'\n",
    "RIGHTDIR = '/data/urbinn/datasets/kitti/sequences/00/image_3'\n",
    "\n",
    "frame = []\n",
    "for filename in sorted(glob.glob(LEFTDIR + '/*')):\n",
    "    left_frame = Frame(filename, RIGHTDIR)\n",
    "    frame.append(left_frame)"
   ]
  },
  {
   "cell_type": "markdown",
   "metadata": {},
   "source": [
    "Add the frames to a sequence. By adjusting the [:] you can use only a slice of the list of frames."
   ]
  },
  {
   "cell_type": "code",
   "execution_count": 5,
   "metadata": {},
   "outputs": [
    {
     "name": "stderr",
     "output_type": "stream",
     "text": [
      " 35% (7 of 20) |#########                 | Elapsed Time: 0:00:08 ETA:  0:00:16"
     ]
    },
    {
     "name": "stdout",
     "output_type": "stream",
     "text": [
      "invalid speed keyframe 0 frame 7 speed 4.552316993127173\n",
      " [[  9.99999646e-01   3.81799580e-04  -7.50215002e-04   3.59772007e-02]\n",
      " [ -3.81800734e-04   9.99999927e-01  -1.39487441e-06  -1.19480971e-03]\n",
      " [  7.50214415e-04   1.68130655e-06   9.99999719e-01  -7.87199107e-04]\n",
      " [  0.00000000e+00   0.00000000e+00   0.00000000e+00   1.00000000e+00]]\n"
     ]
    },
    {
     "name": "stderr",
     "output_type": "stream",
     "text": [
      " 80% (16 of 20) |####################     | Elapsed Time: 0:00:26 ETA:  0:00:07"
     ]
    },
    {
     "name": "stdout",
     "output_type": "stream",
     "text": [
      "invalid speed keyframe 11 frame 16 speed 7.350968992017931\n",
      " [[  9.98789798e-01  -4.71527742e-02   1.39841142e-02  -2.01725204e+00]\n",
      " [  4.71603873e-02   9.98887307e-01  -2.14966617e-04   8.12109396e-01]\n",
      " [ -1.39584179e-02   8.74202704e-04   9.99902194e-01   3.79091360e+00]\n",
      " [  0.00000000e+00   0.00000000e+00   0.00000000e+00   1.00000000e+00]]\n"
     ]
    },
    {
     "name": "stderr",
     "output_type": "stream",
     "text": [
      "100% (20 of 20) |#########################| Elapsed Time: 0:00:33 Time: 0:00:33\n"
     ]
    }
   ],
   "source": [
    "seq = Sequence()\n",
    "for f in ProgressBar()(frame[:20]):\n",
    "    seq.add_frame(f)"
   ]
  },
  {
   "cell_type": "markdown",
   "metadata": {},
   "source": [
    "Example of how to save a set of covisible keyframes, fixed keyframes, mappoints and edges to use for local bundle adjustment"
   ]
  },
  {
   "cell_type": "code",
   "execution_count": 6,
   "metadata": {},
   "outputs": [
    {
     "name": "stdout",
     "output_type": "stream",
     "text": [
      "Keyframes count\n",
      " 4 \n",
      "\n",
      "Keyframes before BA \n",
      " [[  1.00000000e+00   0.00000000e+00   0.00000000e+00   0.00000000e+00\n",
      "    0.00000000e+00   1.00000000e+00   0.00000000e+00   0.00000000e+00\n",
      "    0.00000000e+00   0.00000000e+00   1.00000000e+00   0.00000000e+00\n",
      "    0.00000000e+00   0.00000000e+00   0.00000000e+00   1.00000000e+00]\n",
      " [  9.99834865e-01  -8.99392248e-04   1.81503065e-02   4.71273840e-02\n",
      "    1.00338211e-03   9.99983131e-01  -5.72107928e-03   4.24170229e-02\n",
      "   -1.81448549e-02   5.73834623e-03   9.99818901e-01  -4.07096603e+00\n",
      "    0.00000000e+00   0.00000000e+00   0.00000000e+00   1.00000000e+00]\n",
      " [  9.99967938e-01   4.49286541e-03   6.62855931e-03   6.80430993e-02\n",
      "   -4.49012426e-03   9.99989828e-01  -4.28359501e-04   3.92038136e-02\n",
      "   -6.63041644e-03   3.98582711e-04   9.99977939e-01  -3.56005539e+00\n",
      "    0.00000000e+00   0.00000000e+00   0.00000000e+00   1.00000000e+00]\n",
      " [  9.99670260e-01   2.30058644e-04   2.56771784e-02  -5.26396407e-02\n",
      "   -4.15246694e-04   9.99973943e-01   7.20706607e-03  -1.09605858e-02\n",
      "   -2.56748512e-02  -7.21535198e-03   9.99644307e-01  -4.55310419e+00\n",
      "    0.00000000e+00   0.00000000e+00   0.00000000e+00   1.00000000e+00]\n",
      " [  9.99987235e-01  -2.67141799e-03   4.28880523e-03   1.58785996e-02\n",
      "    2.66865408e-03   9.99996228e-01   6.50040513e-04   2.61777578e-03\n",
      "   -4.29052559e-03  -6.38586877e-04   9.99990592e-01  -7.96078422e-01\n",
      "    0.00000000e+00   0.00000000e+00   0.00000000e+00   1.00000000e+00]] \n",
      "\n",
      "3139 \n",
      "\n",
      "Keyframes after BA \n",
      " [[  1.00000000e+00   0.00000000e+00   0.00000000e+00   0.00000000e+00\n",
      "    0.00000000e+00   1.00000000e+00   0.00000000e+00   0.00000000e+00\n",
      "    0.00000000e+00   0.00000000e+00   1.00000000e+00   0.00000000e+00\n",
      "    0.00000000e+00   0.00000000e+00   0.00000000e+00   1.00000000e+00]\n",
      " [  9.99778863e-01   1.87093458e-02  -9.60130812e-03   1.17883741e-01\n",
      "   -1.86232423e-02   9.99786242e-01   8.98028563e-03  -1.81668331e-01\n",
      "    9.76727103e-03  -8.79949227e-03   9.99913581e-01  -9.61666348e-01\n",
      "    0.00000000e+00   0.00000000e+00   0.00000000e+00   1.00000000e+00]\n",
      " [  9.99942312e-01   1.01404216e-02   3.54174367e-03  -2.68795380e-01\n",
      "   -1.01409821e-02   9.99948569e-01   1.40357998e-04   7.49832127e-02\n",
      "   -3.54013822e-03  -1.76266660e-04   9.99993718e-01  -1.37123767e+00\n",
      "    0.00000000e+00   0.00000000e+00   0.00000000e+00   1.00000000e+00]\n",
      " [  9.99196377e-01  -2.86643175e-02  -2.80170922e-02   7.56264597e-01\n",
      "    2.91572879e-02   9.99424283e-01   1.73480335e-02  -7.87374649e-02\n",
      "    2.75036928e-02  -1.81509946e-02   9.99456897e-01  -9.51652888e-01\n",
      "    0.00000000e+00   0.00000000e+00   0.00000000e+00   1.00000000e+00]\n",
      " [  9.99196377e-01  -2.86643175e-02  -2.80170922e-02   7.56264597e-01\n",
      "    2.91572879e-02   9.99424283e-01   1.73480335e-02  -7.87374649e-02\n",
      "    2.75036928e-02  -1.81509946e-02   9.99456897e-01  -9.51652888e-01\n",
      "    0.00000000e+00   0.00000000e+00   0.00000000e+00   1.00000000e+00]] \n",
      "\n",
      "Keyframes \n",
      " {<src.frame.Frame object at 0x7fc78010d780>, <src.frame.Frame object at 0x7fc7800bf668>, <src.frame.Frame object at 0x7fc7800bf940>, <src.frame.Frame object at 0x7fc7800bf780>, <src.frame.Frame object at 0x7fc7800bf7b8>} \n",
      "\n",
      "Keyframes numpy \n",
      " [[  1.00000000e+00   0.00000000e+00   0.00000000e+00   0.00000000e+00\n",
      "    0.00000000e+00   1.00000000e+00   0.00000000e+00   0.00000000e+00\n",
      "    0.00000000e+00   0.00000000e+00   1.00000000e+00   0.00000000e+00\n",
      "    0.00000000e+00   0.00000000e+00   0.00000000e+00   1.00000000e+00]\n",
      " [  9.99834865e-01  -8.99392248e-04   1.81503065e-02   4.71273840e-02\n",
      "    1.00338211e-03   9.99983131e-01  -5.72107928e-03   4.24170229e-02\n",
      "   -1.81448549e-02   5.73834623e-03   9.99818901e-01  -4.07096603e+00\n",
      "    0.00000000e+00   0.00000000e+00   0.00000000e+00   1.00000000e+00]\n",
      " [  9.99967938e-01   4.49286541e-03   6.62855931e-03   6.80430993e-02\n",
      "   -4.49012426e-03   9.99989828e-01  -4.28359501e-04   3.92038136e-02\n",
      "   -6.63041644e-03   3.98582711e-04   9.99977939e-01  -3.56005539e+00\n",
      "    0.00000000e+00   0.00000000e+00   0.00000000e+00   1.00000000e+00]\n",
      " [  9.99670260e-01   2.30058644e-04   2.56771784e-02  -5.26396407e-02\n",
      "   -4.15246694e-04   9.99973943e-01   7.20706607e-03  -1.09605858e-02\n",
      "   -2.56748512e-02  -7.21535198e-03   9.99644307e-01  -4.55310419e+00\n",
      "    0.00000000e+00   0.00000000e+00   0.00000000e+00   1.00000000e+00]\n",
      " [  9.99987235e-01  -2.67141799e-03   4.28880523e-03   1.58785996e-02\n",
      "    2.66865408e-03   9.99996228e-01   6.50040513e-04   2.61777578e-03\n",
      "   -4.29052559e-03  -6.38586877e-04   9.99990592e-01  -7.96078422e-01\n",
      "    0.00000000e+00   0.00000000e+00   0.00000000e+00   1.00000000e+00]] \n",
      "\n",
      "3139 \n",
      "\n",
      "Fixed Keyframes \n",
      " [] \n",
      "\n"
     ]
    },
    {
     "data": {
      "image/png": "[encoded data removed]",
      "text/plain": [
       "<matplotlib.figure.Figure at 0x7fc6a844bf60>"
      ]
     },
     "metadata": {},
     "output_type": "display_data"
    },
    {
     "data": {
      "image/png": "[encoded data removed]",
      "text/plain": [
       "<matplotlib.figure.Figure at 0x7fc6edb2df98>"
      ]
     },
     "metadata": {},
     "output_type": "display_data"
    }
   ],
   "source": [
    "\n",
    "print('Keyframes count\\n', (len(seq.keyframes)), '\\n')\n",
    "\n",
    "cv_keyframes = get_covisible_keyframes(seq.keyframes[1])\n",
    "mappoints = get_mappoints(cv_keyframes)\n",
    "f_keyframes = get_fixed_keyframes(mappoints, cv_keyframes)\n",
    "\n",
    "cv_keyframes_np = keyframes_to_np(cv_keyframes)\n",
    "f_keyframes_np = keyframes_to_np(f_keyframes)\n",
    "mappoints_np = mappoints_to_np(mappoints)\n",
    "links_np = links_to_np(mappoints)\n",
    "\n",
    "\n",
    "f_keyframes = np.asfortranarray(f_keyframes_np)\n",
    "cv_keyframes_BA = np.asfortranarray(cv_keyframes_np)\n",
    "mappoints = np.asfortranarray(mappoints_np)\n",
    "links = np.array(links_np, order='f')\n",
    "\n",
    "\n",
    "print('Keyframes before BA \\n', (cv_keyframes_BA[:, 2 :]), '\\n')\n",
    "print(len(mappoints_np), '\\n')\n",
    "\n",
    "result =  urbg2o.localBundleAdjustment(cv_keyframes_BA, f_keyframes, mappoints, links)\n",
    "\n",
    "print('Keyframes after BA \\n', (cv_keyframes_BA[:, 2 :]), '\\n')\n",
    "\n",
    "\n",
    "print('Keyframes \\n', (cv_keyframes), '\\n')\n",
    "print('Keyframes numpy \\n', (cv_keyframes_np[:, 2 :]), '\\n')\n",
    "print(len(mappoints_np), '\\n')\n",
    "print('Fixed Keyframes \\n',f_keyframes[:], '\\n')\n",
    "# print( keyframes_to_np( [seq.keyframes[1]]  )[:, 2 :] , '\\n')\n",
    "\n",
    "\n",
    "# print(cv_keyframes[:, 0 :], '\\n')\n",
    "\n",
    "np_matrix_values =  cv_keyframes_np[:,2 :]\n",
    "\n",
    "\n",
    "# draw seq.keyframes\n",
    "\n",
    "# array_value = []\n",
    "# for i in range(0, len(keyframes_to_np(seq.keyframes)[:,2 :]) ):\n",
    "#     array_value.append(  np.split(keyframes_to_np(seq.keyframes)[:,2 :][i], 4 )  )\n",
    "# np_array_value = np.array(array_value)\n",
    "\n",
    "# points = transform( np_array_value )\n",
    "# coords = plot_trajectory3(points)\n",
    "# p = draw(coords, new_image())\n",
    "# show(p)\n",
    "\n",
    "\n",
    "\n",
    "#old points \n",
    "array_value = []\n",
    "for i in range(0, len(np_matrix_values) ):\n",
    "    array_value.append(  np.split(np_matrix_values[i], 4 )  )\n",
    "np_array_value = np.array(array_value)\n",
    "\n",
    "points = transform( np_array_value )\n",
    "coords = plot_trajectory3(points)\n",
    "p = draw(coords, new_image())\n",
    "show(p)\n",
    "\n",
    "#new points\n",
    "\n",
    "start_array_value = []\n",
    "for i in range(0, len(cv_keyframes_BA[:,2 :] ) ):\n",
    "    start_array_value.append(  np.split(cv_keyframes_BA[:,2 :][i], 4 )  )\n",
    "start_array_value = np.array(start_array_value)\n",
    "\n",
    "points_start = transform( start_array_value )\n",
    "coords_start = plot_trajectory3(points_start)\n",
    "p_start = draw(coords_start, new_image())\n",
    "show(p_start)\n",
    "\n",
    "\n",
    "keyframes_np_MO = keyframes_to_np(seq.keyframes)\n",
    "\n",
    "# np.save('cv_keyframes', cv_keyframes_np)\n",
    "# np.save('f_keyframes', f_keyframes_np)\n",
    "# np.save('mappoints', mappoints_np)\n",
    "# np.save('links', links_np)\n"
   ]
  },
  {
   "cell_type": "code",
   "execution_count": null,
   "metadata": {
    "collapsed": true
   },
   "outputs": [],
   "source": []
  }
 ],
 "metadata": {
  "kernelspec": {
   "display_name": "Python 3",
   "language": "python",
   "name": "python3"
  },
  "language_info": {
   "codemirror_mode": {
    "name": "ipython",
    "version": 3
   },
   "file_extension": ".py",
   "mimetype": "text/x-python",
   "name": "python",
   "nbconvert_exporter": "python",
   "pygments_lexer": "ipython3",
   "version": "3.6.1"
  }
 },
 "nbformat": 4,
 "nbformat_minor": 2
}
