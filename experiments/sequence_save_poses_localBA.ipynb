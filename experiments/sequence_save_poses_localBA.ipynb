{
 "cells": [
  {
   "cell_type": "markdown",
   "metadata": {},
   "source": [
    "# Store kitti sequence\n",
    "\n",
    "Create a sequence"
   ]
  },
  {
   "cell_type": "code",
   "execution_count": 37,
   "metadata": {
    "collapsed": true
   },
   "outputs": [],
   "source": [
    "# when you change a setting you have to restart the kernel (settings are only loaded once)\n",
    "import os\n",
    "#os.environ['STEREO_CONFIDENCE'] = '1.6'\n",
    "#os.environ['SEQUENCE_CONFIDENCE'] = '1.6'\n",
    "#os.environ['PATCH_SIZE'] = '17'\n",
    "FRAMECOUNT = 1101\n",
    "\n",
    "import sys\n",
    "sys.path.append('..')\n",
    "from src.kitti import *\n",
    "%matplotlib inline\n",
    "import numpy as np\n",
    "import glob\n",
    "import urbg2o\n",
    "import cv2\n",
    "\n",
    "\n",
    "IMAGE_SIZE = 400\n",
    "\n",
    "def load(file):\n",
    "    keyframeids, frameids, poses = load_keyframes(file)\n",
    "    return keyframeids, frameids, poses.reshape(poses.shape[0], 4, 4)\n",
    "\n",
    "def load_csv(file):\n",
    "    poses = np.genfromtxt(file, delimiter= \" \")\n",
    "    poses = np.hstack([poses, np.repeat(np.array([[0,0,0,1.0]]), len(poses), axis=0) ])\n",
    "    return poses.reshape(poses.shape[0], 4, 4)\n",
    "\n",
    "def transform(poses):\n",
    "    points = np.repeat(np.array([[0,0,0,1.0]]), len(poses), axis=0) \n",
    "    for i in range(1, len(poses)):\n",
    "        points[:i] = np.dot(points[:i], poses[i].T)\n",
    "    return points\n",
    "        \n",
    "def transform2(poses):\n",
    "    points = poses[:,:,3]\n",
    "    return points\n",
    "    \n",
    "def plot_trajectory(points):\n",
    "    # remove y coordinate (we only use x and z to plot a view from above)\n",
    "    points = points[:, [0,2,3]]\n",
    "    # compute min and max\n",
    "    pmin = points.min(axis=0)\n",
    "    pmax = points.max(axis=0)\n",
    "    maxxy = max(pmax[0] - pmin[0], pmax[1] - pmin[1])\n",
    "\n",
    "    t = np.eye(3, dtype=np.float64)\n",
    "    t[0,0] = IMAGE_SIZE / maxxy\n",
    "    t[1,1] = -IMAGE_SIZE / maxxy\n",
    "    t[0,2] = -pmin[0] * IMAGE_SIZE / maxxy\n",
    "    t[1,2] = IMAGE_SIZE / maxxy + pmin[1] / maxxy + 100\n",
    "\n",
    "    return np.dot(points, t.T)\n",
    "    \n",
    "\n",
    "def plot_trajectory2(points):\n",
    "    # remove y coordinate (we only use x and z to plot a view from above)\n",
    "    points = points[:, [0,2,3]]\n",
    "    # compute min and max\n",
    "    pmin = points.min(axis=0)\n",
    "    pmax = points.max(axis=0)\n",
    "    maxxy = max(pmax[0] - pmin[0], pmax[1] - pmin[1]) * 1.01\n",
    "\n",
    "    t = np.eye(3, dtype=np.float64)\n",
    "    t[0,0] = IMAGE_SIZE / maxxy\n",
    "    t[1,1] = -IMAGE_SIZE / maxxy\n",
    "    t[0,2] = -pmin[0] * IMAGE_SIZE / maxxy\n",
    "    t[1,2] = IMAGE_SIZE / maxxy + pmin[1] / maxxy + 100\n",
    "    return np.dot(points, t.T)\n",
    "    \n",
    "def plot_trajectory3(points):\n",
    "    coords = []\n",
    "    minx = min([p[0] for p in points])\n",
    "    maxx = max([p[0] for p in points])\n",
    "    miny = min([p[2] for p in points])\n",
    "    maxy = max([p[2] for p in points])\n",
    "    maxxy = max(maxx - minx, maxy - miny)* 1.01\n",
    "\n",
    "    for p in points:\n",
    "        #print(p)\n",
    "        x = IMAGE_SIZE * (p[0] - minx) / (maxxy)\n",
    "        z = IMAGE_SIZE - IMAGE_SIZE * (p[2] - miny) / (maxxy)\n",
    "        coords.append([x, z])\n",
    "    return coords\n",
    "\n",
    "def new_image():\n",
    "    img = np.zeros((IMAGE_SIZE, IMAGE_SIZE, 3), np.uint8)\n",
    "    img[:] = 255 #or img.fill(255)\n",
    "    return img\n",
    "\n",
    "def draw(coords, img, color = (0,0,0)):\n",
    "    # Draw a black line with thickness of 2 px\n",
    "    for i in range(1,len(coords)):\n",
    "        cv2.line(img, (int(coords[i - 1][0]), int(coords[i - 1][1])), (int(coords[i][0]), int(coords[i][1])), color, 2)\n",
    "    return img"
   ]
  },
  {
   "cell_type": "markdown",
   "metadata": {},
   "source": [
    "Read the first 10 frames from KITTI sequence 00."
   ]
  },
  {
   "cell_type": "code",
   "execution_count": 38,
   "metadata": {},
   "outputs": [
    {
     "name": "stdout",
     "output_type": "stream",
     "text": [
      "CPU times: user 5.49 ms, sys: 12 µs, total: 5.5 ms\n",
      "Wall time: 4.73 ms\n"
     ]
    }
   ],
   "source": [
    "%%time\n",
    "LEFTDIR = '/data/urbinn/datasets/kitti/sequences/07/image_0'\n",
    "RIGHTDIR = '/data/urbinn/datasets/kitti/sequences/07/image_1'\n",
    "\n",
    "frame = []\n",
    "for filename in sorted(glob.glob(LEFTDIR + '/*')):\n",
    "    left_frame = Frame(filename, RIGHTDIR)\n",
    "    frame.append(left_frame)"
   ]
  },
  {
   "cell_type": "markdown",
   "metadata": {},
   "source": [
    "Add the frames to a sequence. By adjusting the [:] you can use only a slice of the list of frames."
   ]
  },
  {
   "cell_type": "code",
   "execution_count": null,
   "metadata": {},
   "outputs": [
    {
     "name": "stderr",
     "output_type": "stream",
     "text": [
      "  0% (1 of 1101) |                        | Elapsed Time: 0:00:00 ETA:  0:08:07"
     ]
    },
    {
     "name": "stdout",
     "output_type": "stream",
     "text": [
      "connected mappoints  0\n",
      "7768 \n",
      " [[  9.99978553e-01  -3.93679436e-04   6.53745681e-03   6.44901477e-03]\n",
      " [  3.95020461e-04   9.99999901e-01  -2.03839478e-04  -1.29580590e-03]\n",
      " [ -6.53737592e-03   2.06417536e-04   9.99978610e-01  -9.14791802e-02]\n",
      " [  0.00000000e+00   0.00000000e+00   0.00000000e+00   1.00000000e+00]]\n"
     ]
    },
    {
     "name": "stderr",
     "output_type": "stream",
     "text": [
      "\r",
      "                                                                               \r",
      "\r",
      "  0% (2 of 1101) |                        | Elapsed Time: 0:00:00 ETA:  0:08:32"
     ]
    },
    {
     "name": "stdout",
     "output_type": "stream",
     "text": [
      "connected mappoints  103\n",
      "7769 \n",
      " [[  9.99976283e-01  -7.88058927e-04   6.84191313e-03   1.01656787e-02]\n",
      " [  7.87211992e-04   9.99999682e-01   1.26478445e-04   2.24734267e-03]\n",
      " [ -6.84201063e-03  -1.21089410e-04   9.99976586e-01  -9.74268420e-02]\n",
      " [  0.00000000e+00   0.00000000e+00   0.00000000e+00   1.00000000e+00]]\n"
     ]
    },
    {
     "name": "stderr",
     "output_type": "stream",
     "text": [
      "\r",
      "                                                                               \r",
      "\r",
      "  0% (3 of 1101) |                        | Elapsed Time: 0:00:01 ETA:  0:08:58"
     ]
    },
    {
     "name": "stdout",
     "output_type": "stream",
     "text": [
      "connected mappoints  129\n",
      "7770 \n",
      " [[  9.99973157e-01  -2.56179529e-04   7.32254131e-03   9.44704868e-03]\n",
      " [  2.51215193e-04   9.99999738e-01   6.78864339e-04   1.17083953e-03]\n",
      " [ -7.32271330e-03  -6.77006582e-04   9.99972959e-01  -9.67058976e-02]\n",
      " [  0.00000000e+00   0.00000000e+00   0.00000000e+00   1.00000000e+00]]\n"
     ]
    },
    {
     "name": "stderr",
     "output_type": "stream",
     "text": [
      "\r",
      "                                                                               \r",
      "\r",
      "  0% (4 of 1101) |                        | Elapsed Time: 0:00:02 ETA:  0:09:28"
     ]
    },
    {
     "name": "stdout",
     "output_type": "stream",
     "text": [
      "connected mappoints  125\n",
      "7771 \n",
      " [[  9.99958667e-01  -7.56674887e-04   9.06046626e-03   1.29073994e-02]\n",
      " [  7.44188764e-04   9.99998769e-01   1.38138047e-03   1.68129735e-03]\n",
      " [ -9.06150036e-03  -1.37458068e-03   9.99957999e-01  -1.04421519e-01]\n",
      " [  0.00000000e+00   0.00000000e+00   0.00000000e+00   1.00000000e+00]]\n"
     ]
    },
    {
     "name": "stderr",
     "output_type": "stream",
     "text": [
      "\r",
      "                                                                               \r",
      "\r",
      "  0% (5 of 1101) |                        | Elapsed Time: 0:00:02 ETA:  0:09:38"
     ]
    },
    {
     "name": "stdout",
     "output_type": "stream",
     "text": [
      "connected mappoints  125\n",
      "7772 \n",
      " [[  9.99939700e-01  -1.36551424e-04   1.09807671e-02   1.89906891e-02]\n",
      " [  1.18591336e-04   9.99998654e-01   1.63622953e-03  -4.98992003e-04]\n",
      " [ -1.09809758e-02  -1.63482864e-03   9.99938371e-01  -1.13464048e-01]\n",
      " [  0.00000000e+00   0.00000000e+00   0.00000000e+00   1.00000000e+00]]\n"
     ]
    },
    {
     "name": "stderr",
     "output_type": "stream",
     "text": [
      "\r",
      "                                                                               \r",
      "\r",
      "  0% (6 of 1101) |                        | Elapsed Time: 0:00:03 ETA:  0:09:41"
     ]
    },
    {
     "name": "stdout",
     "output_type": "stream",
     "text": [
      "connected mappoints  117\n",
      "7773 \n",
      " [[  9.99909011e-01   2.37154657e-05   1.34895650e-02   1.49729008e-02]\n",
      " [ -3.48959583e-05   9.99999656e-01   8.28590512e-04   6.54924291e-04]\n",
      " [ -1.34895408e-02  -8.28985851e-04   9.99908668e-01  -1.27567572e-01]\n",
      " [  0.00000000e+00   0.00000000e+00   0.00000000e+00   1.00000000e+00]]\n"
     ]
    },
    {
     "name": "stderr",
     "output_type": "stream",
     "text": [
      "\r",
      "                                                                               \r",
      "\r",
      "  0% (7 of 1101) |                        | Elapsed Time: 0:00:03 ETA:  0:09:49"
     ]
    },
    {
     "name": "stdout",
     "output_type": "stream",
     "text": [
      "connected mappoints  112\n",
      "7774 \n",
      " [[  9.99869403e-01   5.49998042e-05   1.61608874e-02   1.62969864e-02]\n",
      " [ -5.60597183e-05   9.99999996e-01   6.51321311e-05   3.43907639e-04]\n",
      " [ -1.61608838e-02  -6.60295999e-05   9.99869402e-01  -1.41247358e-01]\n",
      " [  0.00000000e+00   0.00000000e+00   0.00000000e+00   1.00000000e+00]]\n"
     ]
    },
    {
     "name": "stderr",
     "output_type": "stream",
     "text": [
      "\r",
      "                                                                               \r",
      "\r",
      "  0% (8 of 1101) |                        | Elapsed Time: 0:00:04 ETA:  0:09:58"
     ]
    },
    {
     "name": "stdout",
     "output_type": "stream",
     "text": [
      "connected mappoints  112\n",
      "7775 \n",
      " [[  9.99835965e-01   1.69601945e-03   1.80324026e-02   2.39284425e-02]\n",
      " [ -1.69527549e-03   9.99998561e-01  -5.65429940e-05   1.20452372e-03]\n",
      " [ -1.80324726e-02   2.59638288e-05   9.99837401e-01  -1.50947660e-01]\n",
      " [  0.00000000e+00   0.00000000e+00   0.00000000e+00   1.00000000e+00]]\n"
     ]
    },
    {
     "name": "stderr",
     "output_type": "stream",
     "text": [
      "\r",
      "                                                                               \r",
      "\r",
      "  0% (9 of 1101) |                        | Elapsed Time: 0:00:05 ETA:  0:10:12"
     ]
    },
    {
     "name": "stdout",
     "output_type": "stream",
     "text": [
      "connected mappoints  130\n",
      "7776 \n",
      " [[  9.99811645e-01   1.21719431e-03   1.93698926e-02   2.63637401e-02]\n",
      " [ -1.21930404e-03   9.99999252e-01   9.71081012e-05   3.34983065e-03]\n",
      " [ -1.93697599e-02  -1.20707599e-04   9.99812381e-01  -1.60258745e-01]\n",
      " [  0.00000000e+00   0.00000000e+00   0.00000000e+00   1.00000000e+00]]\n"
     ]
    },
    {
     "name": "stderr",
     "output_type": "stream",
     "text": [
      "\r",
      "                                                                               \r",
      "\r",
      "  0% (10 of 1101) |                       | Elapsed Time: 0:00:05 ETA:  0:10:33"
     ]
    },
    {
     "name": "stdout",
     "output_type": "stream",
     "text": [
      "connected mappoints  131\n",
      "7777 \n",
      " [[  9.99761161e-01   7.25342177e-05   2.18544189e-02   2.71688369e-02]\n",
      " [ -7.82247619e-05   9.99999963e-01   2.59529378e-04   3.82010875e-03]\n",
      " [ -2.18543993e-02  -2.61176949e-04   9.99761130e-01  -1.73878922e-01]\n",
      " [  0.00000000e+00   0.00000000e+00   0.00000000e+00   1.00000000e+00]]\n"
     ]
    },
    {
     "name": "stderr",
     "output_type": "stream",
     "text": [
      "\r",
      "                                                                               \r",
      "\r",
      "  0% (11 of 1101) |                       | Elapsed Time: 0:00:06 ETA:  0:11:07"
     ]
    },
    {
     "name": "stdout",
     "output_type": "stream",
     "text": [
      "connected mappoints  143\n",
      "7778 \n",
      " [[ 0.99970273 -0.00411772  0.0240312   0.03284745]\n",
      " [ 0.00408499  0.99999066  0.00141095  0.00543385]\n",
      " [-0.02403679 -0.00131237  0.99971021 -0.18351289]\n",
      " [ 0.          0.          0.          1.        ]]\n"
     ]
    },
    {
     "name": "stderr",
     "output_type": "stream",
     "text": [
      "\r",
      "                                                                               \r",
      "\r",
      "  1% (12 of 1101) |                       | Elapsed Time: 0:00:07 ETA:  0:11:36"
     ]
    },
    {
     "name": "stdout",
     "output_type": "stream",
     "text": [
      "connected mappoints  120\n",
      "7779 \n",
      " [[ 0.99967049 -0.00450576  0.02527059  0.03641739]\n",
      " [ 0.00446145  0.99998841  0.00180988  0.0027135 ]\n",
      " [-0.02527846 -0.00169654  0.99967901 -0.19025447]\n",
      " [ 0.          0.          0.          1.        ]]\n"
     ]
    },
    {
     "name": "stderr",
     "output_type": "stream",
     "text": [
      "\r",
      "                                                                               \r",
      "\r",
      "  1% (13 of 1101) |                       | Elapsed Time: 0:00:08 ETA:  0:12:06"
     ]
    },
    {
     "name": "stdout",
     "output_type": "stream",
     "text": [
      "connected mappoints  119\n",
      "7780 \n",
      " [[ 0.99963381 -0.00295099  0.02689872  0.03589723]\n",
      " [ 0.00291661  0.99999488  0.00131734  0.00220637]\n",
      " [-0.02690247 -0.00123841  0.9996373  -0.20317713]\n",
      " [ 0.          0.          0.          1.        ]]\n"
     ]
    },
    {
     "name": "stderr",
     "output_type": "stream",
     "text": [
      "\r",
      "                                                                               \r",
      "\r",
      "  1% (14 of 1101) |                       | Elapsed Time: 0:00:09 ETA:  0:12:37"
     ]
    },
    {
     "name": "stdout",
     "output_type": "stream",
     "text": [
      "connected mappoints  134\n",
      "7781 \n",
      " [[  9.99555952e-01  -1.32819780e-03   2.97680228e-02   2.55659132e-02]\n",
      " [  1.31523602e-03   9.99999032e-01   4.55002278e-04   4.61277763e-03]\n",
      " [ -2.97685983e-02  -4.15648259e-04   9.99556731e-01  -1.89694912e-01]\n",
      " [  0.00000000e+00   0.00000000e+00   0.00000000e+00   1.00000000e+00]]\n"
     ]
    },
    {
     "name": "stderr",
     "output_type": "stream",
     "text": [
      "\r",
      "                                                                               \r",
      "\r",
      "  1% (15 of 1101) |                       | Elapsed Time: 0:00:10 ETA:  0:13:20"
     ]
    },
    {
     "name": "stdout",
     "output_type": "stream",
     "text": [
      "connected mappoints  144\n",
      "7782 \n",
      " [[  9.99511858e-01  -2.17159113e-03   3.11661608e-02   3.23264141e-02]\n",
      " [  2.16997255e-03   9.99997642e-01   8.57568075e-05   3.52525944e-03]\n",
      " [ -3.11662736e-02  -1.80852325e-05   9.99514214e-01  -2.05037575e-01]\n",
      " [  0.00000000e+00   0.00000000e+00   0.00000000e+00   1.00000000e+00]]\n"
     ]
    },
    {
     "name": "stderr",
     "output_type": "stream",
     "text": [
      "\r",
      "                                                                               \r",
      "\r",
      "  1% (16 of 1101) |                       | Elapsed Time: 0:00:11 ETA:  0:14:14"
     ]
    },
    {
     "name": "stdout",
     "output_type": "stream",
     "text": [
      "connected mappoints  155\n",
      "7783 \n",
      " [[  9.99463688e-01  -1.76449266e-03   3.26989843e-02   3.35730956e-02]\n",
      " [  1.77567202e-03   9.99998375e-01  -3.12851142e-04  -6.28055968e-04]\n",
      " [ -3.26983791e-02   3.70746027e-04   9.99465196e-01  -2.13979153e-01]\n",
      " [  0.00000000e+00   0.00000000e+00   0.00000000e+00   1.00000000e+00]]\n"
     ]
    },
    {
     "name": "stderr",
     "output_type": "stream",
     "text": [
      "\r",
      "                                                                               \r",
      "\r",
      "  1% (17 of 1101) |                       | Elapsed Time: 0:00:12 ETA:  0:15:10"
     ]
    },
    {
     "name": "stdout",
     "output_type": "stream",
     "text": [
      "connected mappoints  146\n",
      "7784 \n",
      " [[  9.99387571e-01  -2.33953251e-03   3.49143052e-02   3.43868138e-02]\n",
      " [  2.36221136e-03   9.99997025e-01  -6.08321647e-04   5.30443535e-03]\n",
      " [ -3.49127781e-02   6.90424062e-04   9.99390125e-01  -2.21524219e-01]\n",
      " [  0.00000000e+00   0.00000000e+00   0.00000000e+00   1.00000000e+00]]\n"
     ]
    },
    {
     "name": "stderr",
     "output_type": "stream",
     "text": [
      "\r",
      "                                                                               \r",
      "\r",
      "  1% (18 of 1101) |                       | Elapsed Time: 0:00:13 ETA:  0:16:09"
     ]
    },
    {
     "name": "stdout",
     "output_type": "stream",
     "text": [
      "connected mappoints  152\n",
      "7785 \n",
      " [[  9.99377369e-01  -2.42870150e-03   3.51990865e-02   3.15603087e-02]\n",
      " [  2.41830169e-03   9.99997019e-01   3.38027830e-04   2.63283485e-03]\n",
      " [ -3.51998026e-02  -2.52695352e-04   9.99380263e-01  -2.14016246e-01]\n",
      " [  0.00000000e+00   0.00000000e+00   0.00000000e+00   1.00000000e+00]]\n"
     ]
    },
    {
     "name": "stderr",
     "output_type": "stream",
     "text": [
      "\r",
      "                                                                               \r",
      "\r",
      "  1% (19 of 1101) |                       | Elapsed Time: 0:00:14 ETA:  0:17:21"
     ]
    },
    {
     "name": "stdout",
     "output_type": "stream",
     "text": [
      "connected mappoints  177\n",
      "7786 \n",
      " [[  9.99359756e-01  -2.80602032e-03   3.56679740e-02   3.31954705e-02]\n",
      " [  2.79620791e-03   9.99996038e-01   3.24984829e-04  -1.23316648e-04]\n",
      " [ -3.56687446e-02  -2.25041688e-04   9.99363643e-01  -2.17656165e-01]\n",
      " [  0.00000000e+00   0.00000000e+00   0.00000000e+00   1.00000000e+00]]\n"
     ]
    },
    {
     "name": "stderr",
     "output_type": "stream",
     "text": [
      "\r",
      "                                                                               \r",
      "\r",
      "  1% (20 of 1101) |                       | Elapsed Time: 0:00:16 ETA:  0:18:37"
     ]
    },
    {
     "name": "stdout",
     "output_type": "stream",
     "text": [
      "connected mappoints  189\n",
      "7787 \n",
      " [[  9.99270023e-01  -1.55629373e-04   3.82020459e-02   2.85675877e-02]\n",
      " [  1.37823787e-04   9.99999881e-01   4.68722963e-04  -9.10556600e-04]\n",
      " [ -3.82021143e-02  -4.63115655e-04   9.99269925e-01  -2.20629428e-01]\n",
      " [  0.00000000e+00   0.00000000e+00   0.00000000e+00   1.00000000e+00]]\n"
     ]
    },
    {
     "name": "stderr",
     "output_type": "stream",
     "text": [
      "\r",
      "                                                                               \r",
      "\r",
      "  1% (21 of 1101) |                       | Elapsed Time: 0:00:17 ETA:  0:19:55"
     ]
    },
    {
     "name": "stdout",
     "output_type": "stream",
     "text": [
      "connected mappoints  181\n",
      "7788 \n",
      " [[  9.99159118e-01   4.37606479e-03   4.07664843e-02   2.21425540e-02]\n",
      " [ -4.44282133e-03   9.99988934e-01   1.54708164e-03   3.07620127e-04]\n",
      " [ -4.07592630e-02  -1.72689893e-03   9.99167504e-01  -2.25233218e-01]\n",
      " [  0.00000000e+00   0.00000000e+00   0.00000000e+00   1.00000000e+00]]\n"
     ]
    },
    {
     "name": "stderr",
     "output_type": "stream",
     "text": [
      "\r",
      "                                                                               \r",
      "\r",
      "  1% (22 of 1101) |                       | Elapsed Time: 0:00:19 ETA:  0:21:20"
     ]
    },
    {
     "name": "stdout",
     "output_type": "stream",
     "text": [
      "connected mappoints  173\n",
      "7789 \n",
      " [[ 0.99905572  0.0051901   0.04313609  0.02490969]\n",
      " [-0.0052436   0.99998562  0.00112735  0.00153662]\n",
      " [-0.04312962 -0.00135247  0.99906857 -0.23733604]\n",
      " [ 0.          0.          0.          1.        ]]\n"
     ]
    },
    {
     "name": "stderr",
     "output_type": "stream",
     "text": [
      "\r",
      "                                                                               \r",
      "\r",
      "  2% (23 of 1101) |                       | Elapsed Time: 0:00:20 ETA:  0:22:45"
     ]
    },
    {
     "name": "stdout",
     "output_type": "stream",
     "text": [
      "connected mappoints  171\n",
      "7790 \n",
      " [[  9.98897215e-01  -2.71357857e-04   4.69497679e-02   3.34877527e-02]\n",
      " [  3.77585602e-04   9.99997389e-01  -2.25372910e-03   5.43992294e-03]\n",
      " [ -4.69490338e-02   2.26897128e-03   9.98894709e-01  -2.44636246e-01]\n",
      " [  0.00000000e+00   0.00000000e+00   0.00000000e+00   1.00000000e+00]]\n"
     ]
    },
    {
     "name": "stderr",
     "output_type": "stream",
     "text": [
      "\r",
      "                                                                               \r",
      "\r",
      "  2% (24 of 1101) |                       | Elapsed Time: 0:00:22 ETA:  0:24:07"
     ]
    },
    {
     "name": "stdout",
     "output_type": "stream",
     "text": [
      "connected mappoints  131\n",
      "7791 \n",
      " [[ 0.99870948 -0.00497839  0.05054293  0.04455727]\n",
      " [ 0.00512485  0.99998304 -0.00276865  0.00913622]\n",
      " [-0.05052829  0.00302411  0.99871805 -0.24838063]\n",
      " [ 0.          0.          0.          1.        ]]\n"
     ]
    },
    {
     "name": "stderr",
     "output_type": "stream",
     "text": [
      "\r",
      "                                                                               \r",
      "\r",
      "  2% (25 of 1101) |                       | Elapsed Time: 0:00:24 ETA:  0:25:16"
     ]
    },
    {
     "name": "stdout",
     "output_type": "stream",
     "text": [
      "connected mappoints  129\n",
      "7792 \n",
      " [[  9.98574584e-01  -2.96253418e-03   5.32918795e-02   3.69892692e-02]\n",
      " [  2.96894525e-03   9.99995592e-01  -4.11347729e-05   1.63384535e-03]\n",
      " [ -5.32915227e-02   1.99296811e-04   9.98578977e-01  -2.69455357e-01]\n",
      " [  0.00000000e+00   0.00000000e+00   0.00000000e+00   1.00000000e+00]]\n"
     ]
    },
    {
     "name": "stderr",
     "output_type": "stream",
     "text": [
      "\r",
      "                                                                               \r",
      "\r",
      "  2% (26 of 1101) |                       | Elapsed Time: 0:00:25 ETA:  0:25:55"
     ]
    },
    {
     "name": "stdout",
     "output_type": "stream",
     "text": [
      "connected mappoints  128\n",
      "7793 \n",
      " [[  9.98471487e-01   2.47373656e-04   5.52687004e-02   3.52749776e-02]\n",
      " [ -2.84392226e-04   9.99999740e-01   6.61928665e-04   4.99838594e-03]\n",
      " [ -5.52685223e-02  -6.76634887e-04   9.98471298e-01  -2.75732371e-01]\n",
      " [  0.00000000e+00   0.00000000e+00   0.00000000e+00   1.00000000e+00]]\n"
     ]
    },
    {
     "name": "stderr",
     "output_type": "stream",
     "text": [
      "\r",
      "                                                                               \r",
      "\r",
      "  2% (27 of 1101) |                       | Elapsed Time: 0:00:26 ETA:  0:26:28"
     ]
    },
    {
     "name": "stdout",
     "output_type": "stream",
     "text": [
      "connected mappoints  102\n",
      "7794 \n",
      " [[  9.98309261e-01   5.62366017e-03   5.78532079e-02   2.43183496e-02]\n",
      " [ -5.63164280e-03   9.99984142e-01  -2.50603917e-05   2.80319090e-03]\n",
      " [ -5.78524314e-02  -3.00790580e-04   9.98325100e-01  -2.90198717e-01]\n",
      " [  0.00000000e+00   0.00000000e+00   0.00000000e+00   1.00000000e+00]]\n"
     ]
    },
    {
     "name": "stderr",
     "output_type": "stream",
     "text": [
      "\r",
      "                                                                               \r",
      "\r",
      "  2% (28 of 1101) |                       | Elapsed Time: 0:00:28 ETA:  0:26:51"
     ]
    },
    {
     "name": "stdout",
     "output_type": "stream",
     "text": [
      "connected mappoints  83\n",
      "7795 \n",
      " [[  9.98288239e-01   4.86925227e-03   5.82827715e-02   3.04304753e-02]\n",
      " [ -4.88195581e-03   9.99988080e-01   7.55771351e-05   3.86221456e-03]\n",
      " [ -5.82817087e-02  -3.59981680e-04   9.98300112e-01  -2.95263737e-01]\n",
      " [  0.00000000e+00   0.00000000e+00   0.00000000e+00   1.00000000e+00]]\n"
     ]
    },
    {
     "name": "stderr",
     "output_type": "stream",
     "text": [
      "\r",
      "                                                                               \r",
      "\r",
      "  2% (29 of 1101) |                       | Elapsed Time: 0:00:29 ETA:  0:26:42"
     ]
    },
    {
     "name": "stdout",
     "output_type": "stream",
     "text": [
      "connected mappoints  76\n",
      "7796 \n",
      " [[ 0.99830562  0.00240248  0.05813869  0.03377644]\n",
      " [-0.00232547  0.99999633 -0.00139224  0.00424491]\n",
      " [-0.05814182  0.00125468  0.99830754 -0.31542746]\n",
      " [ 0.          0.          0.          1.        ]]\n"
     ]
    },
    {
     "name": "stderr",
     "output_type": "stream",
     "text": [
      "\r",
      "                                                                               \r",
      "\r",
      "  2% (30 of 1101) |                       | Elapsed Time: 0:00:30 ETA:  0:26:11"
     ]
    },
    {
     "name": "stdout",
     "output_type": "stream",
     "text": [
      "connected mappoints  88\n",
      "7797 \n",
      " [[ 0.99824832  0.00149016  0.0591445   0.03879564]\n",
      " [-0.00138441  0.99999737 -0.00182884 -0.00110726]\n",
      " [-0.05914707  0.00174376  0.99824776 -0.32798411]\n",
      " [ 0.          0.          0.          1.        ]]\n"
     ]
    },
    {
     "name": "stderr",
     "output_type": "stream",
     "text": [
      "\r",
      "                                                                               \r",
      "\r",
      "  2% (31 of 1101) |                       | Elapsed Time: 0:00:31 ETA:  0:25:15"
     ]
    },
    {
     "name": "stdout",
     "output_type": "stream",
     "text": [
      "connected mappoints  93\n",
      "7798 \n",
      " [[  9.98171740e-01   6.64341955e-04   6.04378769e-02   3.75721605e-02]\n",
      " [ -5.94777616e-04   9.99999140e-01  -1.16898838e-03   1.37319724e-03]\n",
      " [ -6.04386015e-02   1.13090407e-03   9.98171276e-01  -3.36635380e-01]\n",
      " [  0.00000000e+00   0.00000000e+00   0.00000000e+00   1.00000000e+00]]\n"
     ]
    },
    {
     "name": "stderr",
     "output_type": "stream",
     "text": [
      "\r",
      "                                                                               \r",
      "\r",
      "  2% (32 of 1101) |                       | Elapsed Time: 0:00:32 ETA:  0:23:57"
     ]
    },
    {
     "name": "stdout",
     "output_type": "stream",
     "text": [
      "connected mappoints  98\n",
      "7799 \n",
      " [[  9.98189517e-01  -7.92734002e-04   6.01419989e-02   3.90242403e-02]\n",
      " [  8.56835298e-04   9.99999092e-01  -1.04005072e-03  -5.64035156e-03]\n",
      " [ -6.01411198e-02   1.08969952e-03   9.98189290e-01  -3.52929898e-01]\n",
      " [  0.00000000e+00   0.00000000e+00   0.00000000e+00   1.00000000e+00]]\n"
     ]
    },
    {
     "name": "stderr",
     "output_type": "stream",
     "text": [
      "\r",
      "                                                                               \r",
      "\r",
      "  2% (33 of 1101) |                       | Elapsed Time: 0:00:33 ETA:  0:22:21"
     ]
    },
    {
     "name": "stdout",
     "output_type": "stream",
     "text": [
      "connected mappoints  86\n",
      "7800 \n",
      " [[  9.98180683e-01   8.94844905e-04   6.02870045e-02   4.32213704e-02]\n",
      " [ -7.29255700e-04   9.99995901e-01  -2.76862794e-03   4.89733757e-03]\n",
      " [ -6.02892349e-02   2.71962628e-03   9.98177245e-01  -3.60453906e-01]\n",
      " [  0.00000000e+00   0.00000000e+00   0.00000000e+00   1.00000000e+00]]\n"
     ]
    },
    {
     "name": "stderr",
     "output_type": "stream",
     "text": [
      "\r",
      "                                                                               \r",
      "\r",
      "  3% (34 of 1101) |                       | Elapsed Time: 0:00:34 ETA:  0:20:45"
     ]
    },
    {
     "name": "stdout",
     "output_type": "stream",
     "text": [
      "connected mappoints  100\n",
      "7801 \n",
      " [[  9.98244308e-01  -6.31165786e-04   5.92275488e-02   4.10090522e-02]\n",
      " [  7.30854139e-04   9.99998353e-01  -1.66149436e-03  -8.43468241e-05]\n",
      " [ -5.92264026e-02   1.70186399e-03   9.98243125e-01  -3.76042479e-01]\n",
      " [  0.00000000e+00   0.00000000e+00   0.00000000e+00   1.00000000e+00]]\n"
     ]
    },
    {
     "name": "stderr",
     "output_type": "stream",
     "text": [
      "\r",
      "                                                                               \r",
      "\r",
      "  3% (35 of 1101) |                       | Elapsed Time: 0:00:34 ETA:  0:19:15"
     ]
    },
    {
     "name": "stdout",
     "output_type": "stream",
     "text": [
      "connected mappoints  111\n",
      "7802 \n",
      " [[  9.98345229e-01   4.22946588e-04   5.75032614e-02   4.51549642e-02]\n",
      " [ -2.33626166e-04   9.99994531e-01  -3.29902517e-03   5.39354531e-03]\n",
      " [ -5.75043422e-02   3.28013177e-03   9.98339868e-01  -3.92246715e-01]\n",
      " [  0.00000000e+00   0.00000000e+00   0.00000000e+00   1.00000000e+00]]\n"
     ]
    },
    {
     "name": "stderr",
     "output_type": "stream",
     "text": [
      "\r",
      "                                                                               \r",
      "\r",
      "  3% (36 of 1101) |                       | Elapsed Time: 0:00:35 ETA:  0:17:54"
     ]
    },
    {
     "name": "stdout",
     "output_type": "stream",
     "text": [
      "connected mappoints  101\n",
      "7803 \n",
      " [[ 0.99849429  0.00242785  0.05480196  0.04464688]\n",
      " [-0.00228082  0.99999363 -0.00274538  0.01282618]\n",
      " [-0.05480828  0.00261625  0.99849347 -0.36781563]\n",
      " [ 0.          0.          0.          1.        ]]\n"
     ]
    },
    {
     "name": "stderr",
     "output_type": "stream",
     "text": [
      "\r",
      "                                                                               \r",
      "\r",
      "  3% (37 of 1101) |                       | Elapsed Time: 0:00:36 ETA:  0:16:22"
     ]
    },
    {
     "name": "stdout",
     "output_type": "stream",
     "text": [
      "connected mappoints  80\n",
      "7804 \n",
      " [[  9.98683659e-01   6.22453944e-04   5.12890072e-02   3.99138315e-02]\n",
      " [ -5.79945780e-04   9.99999476e-01  -8.43674821e-04   1.25509478e-02]\n",
      " [ -5.12895055e-02   8.12819414e-04   9.98683496e-01  -3.87930588e-01]\n",
      " [  0.00000000e+00   0.00000000e+00   0.00000000e+00   1.00000000e+00]]\n"
     ]
    },
    {
     "name": "stderr",
     "output_type": "stream",
     "text": [
      "\r",
      "                                                                               \r",
      "\r",
      "  3% (38 of 1101) |                       | Elapsed Time: 0:00:36 ETA:  0:14:49"
     ]
    },
    {
     "name": "stdout",
     "output_type": "stream",
     "text": [
      "connected mappoints  68\n",
      "7805 \n",
      " [[  9.98879811e-01  -4.21617407e-03   4.71311672e-02   4.60138176e-02]\n",
      " [  4.21683451e-03   9.99991105e-01   8.54150343e-05   8.21320183e-04]\n",
      " [ -4.71311081e-02   1.13424979e-04   9.98888705e-01  -4.05911363e-01]\n",
      " [  0.00000000e+00   0.00000000e+00   0.00000000e+00   1.00000000e+00]]\n"
     ]
    },
    {
     "name": "stderr",
     "output_type": "stream",
     "text": [
      "\r",
      "                                                                               \r",
      "\r",
      "  3% (39 of 1101) |                       | Elapsed Time: 0:00:37 ETA:  0:13:27"
     ]
    },
    {
     "name": "stdout",
     "output_type": "stream",
     "text": [
      "connected mappoints  60\n",
      "7806 \n",
      " [[  9.99120700e-01  -4.76613952e-03   4.16546608e-02   4.84770152e-02]\n",
      " [  4.74285164e-03   9.99988536e-01   6.57876577e-04   3.56014877e-04]\n",
      " [ -4.16573188e-02  -4.59736229e-04   9.99131851e-01  -4.24352446e-01]\n",
      " [  0.00000000e+00   0.00000000e+00   0.00000000e+00   1.00000000e+00]]\n"
     ]
    },
    {
     "name": "stderr",
     "output_type": "stream",
     "text": [
      "\r",
      "                                                                               \r",
      "\r",
      "  3% (40 of 1101) |                       | Elapsed Time: 0:00:37 ETA:  0:12:15"
     ]
    },
    {
     "name": "stdout",
     "output_type": "stream",
     "text": [
      "connected mappoints  76\n",
      "7807 \n",
      " [[  9.99300049e-01  -2.29128505e-03   3.73384683e-02   3.80777193e-02]\n",
      " [  2.22400502e-03   9.99995828e-01   1.84333132e-03  -6.71577410e-04]\n",
      " [ -3.73425361e-02  -1.75900013e-03   9.99300976e-01  -4.49636757e-01]\n",
      " [  0.00000000e+00   0.00000000e+00   0.00000000e+00   1.00000000e+00]]\n"
     ]
    },
    {
     "name": "stderr",
     "output_type": "stream",
     "text": [
      "\r",
      "                                                                               \r",
      "\r",
      "  3% (41 of 1101) |                       | Elapsed Time: 0:00:38 ETA:  0:11:34"
     ]
    },
    {
     "name": "stdout",
     "output_type": "stream",
     "text": [
      "connected mappoints  88\n",
      "7808 \n",
      " [[  9.99424432e-01  -5.18984554e-04   3.39195312e-02   3.16922725e-02]\n",
      " [  4.26852824e-04   9.99996201e-01   2.72337021e-03   3.05775488e-03]\n",
      " [ -3.39208157e-02  -2.70732408e-03   9.99420857e-01  -4.65666535e-01]\n",
      " [  0.00000000e+00   0.00000000e+00   0.00000000e+00   1.00000000e+00]]\n"
     ]
    },
    {
     "name": "stderr",
     "output_type": "stream",
     "text": [
      "\r",
      "                                                                               \r",
      "\r",
      "  3% (42 of 1101) |                       | Elapsed Time: 0:00:38 ETA:  0:11:10"
     ]
    },
    {
     "name": "stdout",
     "output_type": "stream",
     "text": [
      "connected mappoints  92\n",
      "7809 \n",
      " [[  9.99526949e-01  -4.57654081e-04   3.07517120e-02   3.17068811e-02]\n",
      " [  3.78469158e-04   9.99996598e-01   2.58074742e-03   5.10061194e-03]\n",
      " [ -3.07527885e-02  -2.56788802e-03   9.99523723e-01  -4.83453631e-01]\n",
      " [  0.00000000e+00   0.00000000e+00   0.00000000e+00   1.00000000e+00]]\n"
     ]
    },
    {
     "name": "stderr",
     "output_type": "stream",
     "text": [
      "\r",
      "                                                                               \r",
      "\r",
      "  3% (43 of 1101) |                       | Elapsed Time: 0:00:39 ETA:  0:10:57"
     ]
    },
    {
     "name": "stdout",
     "output_type": "stream",
     "text": [
      "connected mappoints  87\n",
      "7810 \n",
      " [[ 0.99965747 -0.00150197  0.02612825  0.02661716]\n",
      " [ 0.00145277  0.99999714  0.00190188  0.00354164]\n",
      " [-0.02613103 -0.00186327  0.99965679 -0.50330342]\n",
      " [ 0.          0.          0.          1.        ]]\n"
     ]
    },
    {
     "name": "stderr",
     "output_type": "stream",
     "text": [
      "\r",
      "                                                                               \r",
      "\r",
      "  3% (44 of 1101) |                       | Elapsed Time: 0:00:40 ETA:  0:10:40"
     ]
    },
    {
     "name": "stdout",
     "output_type": "stream",
     "text": [
      "connected mappoints  98\n",
      "7811 \n",
      " [[ 0.99979067 -0.00109069  0.02043093  0.02537464]\n",
      " [ 0.00104638  0.99999708  0.0021794   0.00355365]\n",
      " [-0.02043325 -0.00215757  0.99978889 -0.51403105]\n",
      " [ 0.          0.          0.          1.        ]]\n"
     ]
    },
    {
     "name": "stderr",
     "output_type": "stream",
     "text": [
      "\r",
      "                                                                               \r",
      "\r",
      "  4% (45 of 1101) |                       | Elapsed Time: 0:00:40 ETA:  0:10:25"
     ]
    },
    {
     "name": "stdout",
     "output_type": "stream",
     "text": [
      "connected mappoints  80\n",
      "7812 \n",
      " [[  9.99868598e-01   9.60689841e-04   1.61822034e-02   1.65464814e-02]\n",
      " [ -9.75503913e-04   9.99999112e-01   9.07586006e-04  -2.82773672e-03]\n",
      " [ -1.61813171e-02  -9.23252550e-04   9.99868648e-01  -5.33474446e-01]\n",
      " [  0.00000000e+00   0.00000000e+00   0.00000000e+00   1.00000000e+00]]\n"
     ]
    },
    {
     "name": "stderr",
     "output_type": "stream",
     "text": [
      "\r",
      "                                                                               \r",
      "\r",
      "  4% (46 of 1101) |                       | Elapsed Time: 0:00:41 ETA:  0:10:27"
     ]
    },
    {
     "name": "stdout",
     "output_type": "stream",
     "text": [
      "connected mappoints  92\n",
      "7813 \n",
      " [[  9.99917899e-01   1.36587855e-03   1.27408722e-02   1.94695224e-02]\n",
      " [ -1.36095454e-03   9.99998996e-01  -3.95136075e-04   2.27562564e-03]\n",
      " [ -1.27413991e-02   3.77763886e-04   9.99918754e-01  -5.61418827e-01]\n",
      " [  0.00000000e+00   0.00000000e+00   0.00000000e+00   1.00000000e+00]]\n"
     ]
    },
    {
     "name": "stderr",
     "output_type": "stream",
     "text": [
      "\r",
      "                                                                               \r",
      "\r",
      "  4% (47 of 1101) |                       | Elapsed Time: 0:00:42 ETA:  0:10:30"
     ]
    },
    {
     "name": "stdout",
     "output_type": "stream",
     "text": [
      "connected mappoints  88\n",
      "7814 \n",
      " [[  9.99952693e-01  -9.81500531e-04   9.67722971e-03   1.35336105e-02]\n",
      " [  9.92328312e-04   9.99998887e-01  -1.11415449e-03   9.54745767e-03]\n",
      " [ -9.67612539e-03   1.12370477e-03   9.99952554e-01  -5.72001630e-01]\n",
      " [  0.00000000e+00   0.00000000e+00   0.00000000e+00   1.00000000e+00]]\n"
     ]
    },
    {
     "name": "stderr",
     "output_type": "stream",
     "text": [
      "\r",
      "                                                                               \r",
      "\r",
      "  4% (48 of 1101) |#                      | Elapsed Time: 0:00:42 ETA:  0:10:36"
     ]
    },
    {
     "name": "stdout",
     "output_type": "stream",
     "text": [
      "connected mappoints  95\n",
      "7815 \n",
      " [[ 0.99997682 -0.00194394  0.00652558  0.02177843]\n",
      " [ 0.00195348  0.99999703 -0.00145646  0.00958027]\n",
      " [-0.00652273  0.00146917  0.99997765 -0.60216176]\n",
      " [ 0.          0.          0.          1.        ]]\n"
     ]
    },
    {
     "name": "stderr",
     "output_type": "stream",
     "text": [
      "\r",
      "                                                                               \r",
      "\r",
      "  4% (49 of 1101) |#                      | Elapsed Time: 0:00:43 ETA:  0:10:44"
     ]
    },
    {
     "name": "stdout",
     "output_type": "stream",
     "text": [
      "connected mappoints  91\n",
      "7816 \n",
      " [[  9.99989597e-01   2.25552715e-04   4.55571145e-03   8.65105362e-03]\n",
      " [ -2.20693219e-04   9.99999406e-01  -1.06715660e-03   8.52673692e-03]\n",
      " [ -4.55594944e-03   1.06614008e-03   9.99989053e-01  -6.11597518e-01]\n",
      " [  0.00000000e+00   0.00000000e+00   0.00000000e+00   1.00000000e+00]]\n"
     ]
    },
    {
     "name": "stderr",
     "output_type": "stream",
     "text": [
      "\r",
      "                                                                               \r",
      "\r",
      "  4% (50 of 1101) |#                      | Elapsed Time: 0:00:43 ETA:  0:10:52"
     ]
    },
    {
     "name": "stdout",
     "output_type": "stream",
     "text": [
      "connected mappoints  94\n",
      "7817 \n",
      " [[  9.99995813e-01   2.37962195e-03   1.64668651e-03   3.82117854e-03]\n",
      " [ -2.37905169e-03   9.99997109e-01  -3.48180346e-04   1.69260932e-03]\n",
      " [ -1.64751028e-03   3.44261336e-04   9.99998584e-01  -6.15513260e-01]\n",
      " [  0.00000000e+00   0.00000000e+00   0.00000000e+00   1.00000000e+00]]\n"
     ]
    },
    {
     "name": "stderr",
     "output_type": "stream",
     "text": [
      "\r",
      "                                                                               \r",
      "\r",
      "  4% (51 of 1101) |#                      | Elapsed Time: 0:00:44 ETA:  0:10:59"
     ]
    },
    {
     "name": "stdout",
     "output_type": "stream",
     "text": [
      "connected mappoints  101\n",
      "7818 \n",
      " [[  9.99996822e-01   2.33878569e-03  -9.41752401e-04   6.91603567e-03]\n",
      " [ -2.34070213e-03   9.99995182e-01  -2.03904511e-03   6.51832215e-03]\n",
      " [  9.36978974e-04   2.04124300e-03   9.99997478e-01  -6.33473377e-01]\n",
      " [  0.00000000e+00   0.00000000e+00   0.00000000e+00   1.00000000e+00]]\n"
     ]
    },
    {
     "name": "stderr",
     "output_type": "stream",
     "text": [
      "\r",
      "                                                                               \r",
      "\r",
      "  4% (52 of 1101) |#                      | Elapsed Time: 0:00:45 ETA:  0:11:05"
     ]
    },
    {
     "name": "stdout",
     "output_type": "stream",
     "text": [
      "connected mappoints  90\n",
      "7819 \n",
      " [[  9.99998975e-01  -3.68944560e-04  -1.38378921e-03   7.91868333e-03]\n",
      " [  3.65595990e-04   9.99997007e-01  -2.41932830e-03   1.04880519e-02]\n",
      " [  1.38467766e-03   2.41881991e-03   9.99996116e-01  -6.53212010e-01]\n",
      " [  0.00000000e+00   0.00000000e+00   0.00000000e+00   1.00000000e+00]]\n"
     ]
    },
    {
     "name": "stderr",
     "output_type": "stream",
     "text": [
      "\r",
      "                                                                               \r",
      "\r",
      "  4% (53 of 1101) |#                      | Elapsed Time: 0:00:46 ETA:  0:11:17"
     ]
    },
    {
     "name": "stdout",
     "output_type": "stream",
     "text": [
      "connected mappoints  99\n",
      "7820 \n",
      " [[  9.99996414e-01  -2.15007476e-03  -1.59672885e-03   8.23548680e-03]\n",
      " [  2.14984237e-03   9.99997678e-01  -1.47242554e-04   1.28893872e-02]\n",
      " [  1.59704172e-03   1.43809311e-04   9.99998714e-01  -6.65248133e-01]\n",
      " [  0.00000000e+00   0.00000000e+00   0.00000000e+00   1.00000000e+00]]\n"
     ]
    },
    {
     "name": "stderr",
     "output_type": "stream",
     "text": [
      "\r",
      "                                                                               \r",
      "\r",
      "  4% (54 of 1101) |#                      | Elapsed Time: 0:00:46 ETA:  0:11:36"
     ]
    },
    {
     "name": "stdout",
     "output_type": "stream",
     "text": [
      "connected mappoints  90\n",
      "7821 \n",
      " [[ 0.99999799 -0.00136901 -0.00146411  0.00792259]\n",
      " [ 0.00137267  0.99999592  0.00250426  0.00584119]\n",
      " [ 0.00146068 -0.00250626  0.99999579 -0.67897807]\n",
      " [ 0.          0.          0.          1.        ]]\n"
     ]
    },
    {
     "name": "stderr",
     "output_type": "stream",
     "text": [
      "\r",
      "                                                                               \r",
      "\r",
      "  4% (55 of 1101) |#                      | Elapsed Time: 0:00:47 ETA:  0:11:44"
     ]
    },
    {
     "name": "stdout",
     "output_type": "stream",
     "text": [
      "connected mappoints  93\n",
      "7822 \n",
      " [[  9.99999345e-01  -5.72722793e-05  -1.14335992e-03   7.72850124e-03]\n",
      " [  5.73240447e-05   9.99999997e-01   4.52420791e-05   5.67114750e-03]\n",
      " [  1.14335732e-03  -4.53075915e-05   9.99999345e-01  -6.98198931e-01]\n",
      " [  0.00000000e+00   0.00000000e+00   0.00000000e+00   1.00000000e+00]]\n"
     ]
    },
    {
     "name": "stderr",
     "output_type": "stream",
     "text": [
      "\r",
      "                                                                               \r",
      "\r",
      "  5% (56 of 1101) |#                      | Elapsed Time: 0:00:48 ETA:  0:11:46"
     ]
    },
    {
     "name": "stdout",
     "output_type": "stream",
     "text": [
      "connected mappoints  87\n",
      "7823 \n",
      " [[  9.99998422e-01   9.82309089e-04  -1.48018200e-03  -2.42027847e-04]\n",
      " [ -9.86170841e-04   9.99996106e-01  -2.61050345e-03   4.07056506e-03]\n",
      " [  1.47761191e-03   2.61195905e-03   9.99995497e-01  -7.17764995e-01]\n",
      " [  0.00000000e+00   0.00000000e+00   0.00000000e+00   1.00000000e+00]]\n"
     ]
    },
    {
     "name": "stderr",
     "output_type": "stream",
     "text": [
      "\r",
      "                                                                               \r",
      "\r",
      "  5% (57 of 1101) |#                      | Elapsed Time: 0:00:48 ETA:  0:11:44"
     ]
    },
    {
     "name": "stdout",
     "output_type": "stream",
     "text": [
      "connected mappoints  79\n",
      "7824 \n",
      " [[  9.99998522e-01  -4.50009409e-04  -1.65928617e-03   6.73839560e-03]\n",
      " [  4.44013406e-04   9.99993377e-01  -3.61220351e-03   1.57478261e-02]\n",
      " [  1.66090071e-03   3.61146143e-03   9.99992099e-01  -7.21841395e-01]\n",
      " [  0.00000000e+00   0.00000000e+00   0.00000000e+00   1.00000000e+00]]\n"
     ]
    },
    {
     "name": "stderr",
     "output_type": "stream",
     "text": [
      "\r",
      "                                                                               \r",
      "\r",
      "  5% (58 of 1101) |#                      | Elapsed Time: 0:00:49 ETA:  0:11:45"
     ]
    },
    {
     "name": "stdout",
     "output_type": "stream",
     "text": [
      "connected mappoints  75\n",
      "7825 \n",
      " [[ 0.99999747  0.001676   -0.0015007   0.00887467]\n",
      " [-0.00167925  0.99999624 -0.00216983  0.01757119]\n",
      " [ 0.00149706  0.00217234  0.99999652 -0.75714489]\n",
      " [ 0.          0.          0.          1.        ]]\n"
     ]
    },
    {
     "name": "stderr",
     "output_type": "stream",
     "text": [
      "\r",
      "                                                                               \r",
      "\r",
      "  5% (59 of 1101) |#                      | Elapsed Time: 0:00:50 ETA:  0:11:47"
     ]
    },
    {
     "name": "stdout",
     "output_type": "stream",
     "text": [
      "connected mappoints  93\n",
      "7826 \n",
      " [[  9.99996891e-01  -1.87556239e-03  -1.64298625e-03   7.80512125e-03]\n",
      " [  1.87618187e-03   9.99998169e-01   3.75579583e-04   1.55713625e-02]\n",
      " [  1.64227882e-03  -3.78660956e-04   9.99998580e-01  -7.49031242e-01]\n",
      " [  0.00000000e+00   0.00000000e+00   0.00000000e+00   1.00000000e+00]]\n"
     ]
    },
    {
     "name": "stderr",
     "output_type": "stream",
     "text": [
      "\r",
      "                                                                               \r",
      "\r",
      "  5% (60 of 1101) |#                      | Elapsed Time: 0:00:50 ETA:  0:11:48"
     ]
    },
    {
     "name": "stdout",
     "output_type": "stream",
     "text": [
      "connected mappoints  83\n",
      "7827 \n",
      " [[ 0.99999709 -0.00181229 -0.00159229  0.00572767]\n",
      " [ 0.00181696  0.99999404  0.00293576  0.00101816]\n",
      " [ 0.00158696 -0.00293864  0.99999442 -0.76254169]\n",
      " [ 0.          0.          0.          1.        ]]\n"
     ]
    },
    {
     "name": "stderr",
     "output_type": "stream",
     "text": [
      "\r",
      "                                                                               \r",
      "\r",
      "  5% (61 of 1101) |#                      | Elapsed Time: 0:00:51 ETA:  0:11:46"
     ]
    },
    {
     "name": "stdout",
     "output_type": "stream",
     "text": [
      "connected mappoints  96\n",
      "7828 \n",
      " [[  9.99998902e-01  -7.13976312e-04  -1.29868737e-03   3.47545630e-03]\n",
      " [  7.14602744e-04   9.99999629e-01   4.81957903e-04   1.01499905e-02]\n",
      " [  1.29834278e-03  -4.82885419e-04   9.99999041e-01  -7.73801858e-01]\n",
      " [  0.00000000e+00   0.00000000e+00   0.00000000e+00   1.00000000e+00]]\n"
     ]
    },
    {
     "name": "stderr",
     "output_type": "stream",
     "text": [
      "\r",
      "                                                                               \r",
      "\r",
      "  5% (62 of 1101) |#                      | Elapsed Time: 0:00:52 ETA:  0:11:36"
     ]
    },
    {
     "name": "stdout",
     "output_type": "stream",
     "text": [
      "connected mappoints  89\n",
      "7829 \n",
      " [[ 0.99999615  0.00240563 -0.00137948  0.00758524]\n",
      " [-0.00240848  0.99999497 -0.00206497  0.01041522]\n",
      " [ 0.00137451  0.00206829  0.99999692 -0.79199519]\n",
      " [ 0.          0.          0.          1.        ]]\n"
     ]
    },
    {
     "name": "stderr",
     "output_type": "stream",
     "text": [
      "\r",
      "                                                                               \r",
      "\r",
      "  5% (63 of 1101) |#                      | Elapsed Time: 0:00:52 ETA:  0:11:25"
     ]
    },
    {
     "name": "stdout",
     "output_type": "stream",
     "text": [
      "connected mappoints  92\n",
      "7830 \n",
      " [[ 0.999996    0.00260335 -0.00110146  0.01087062]\n",
      " [-0.00260537  0.99999491 -0.00183983  0.01022457]\n",
      " [ 0.00109666  0.00184269  0.9999977  -0.80718881]\n",
      " [ 0.          0.          0.          1.        ]]\n"
     ]
    },
    {
     "name": "stderr",
     "output_type": "stream",
     "text": [
      "\r",
      "                                                                               \r",
      "\r",
      "  5% (64 of 1101) |#                      | Elapsed Time: 0:00:53 ETA:  0:11:12"
     ]
    },
    {
     "name": "stdout",
     "output_type": "stream",
     "text": [
      "connected mappoints  103\n",
      "7831 \n",
      " [[  9.99998984e-01   7.43458268e-04  -1.21599042e-03   1.09855242e-02]\n",
      " [ -7.45483092e-04   9.99998335e-01  -1.66555956e-03   1.79798082e-02]\n",
      " [  1.21475012e-03   1.66646437e-03   9.99997874e-01  -8.21187229e-01]\n",
      " [  0.00000000e+00   0.00000000e+00   0.00000000e+00   1.00000000e+00]]\n"
     ]
    },
    {
     "name": "stderr",
     "output_type": "stream",
     "text": [
      "\r",
      "                                                                               \r",
      "\r",
      "  5% (65 of 1101) |#                      | Elapsed Time: 0:00:54 ETA:  0:11:05"
     ]
    },
    {
     "name": "stdout",
     "output_type": "stream",
     "text": [
      "connected mappoints  109\n",
      "7832 \n",
      " [[  9.99999868e-01   1.83838017e-04  -4.79247532e-04   3.51187586e-03]\n",
      " [ -1.81742475e-04   9.99990440e-01   4.36895017e-03   1.85781087e-02]\n",
      " [  4.80046129e-04  -4.36886250e-03   9.99990341e-01  -8.05565451e-01]\n",
      " [  0.00000000e+00   0.00000000e+00   0.00000000e+00   1.00000000e+00]]\n"
     ]
    },
    {
     "name": "stderr",
     "output_type": "stream",
     "text": [
      "\r",
      "                                                                               \r",
      "\r",
      "  5% (66 of 1101) |#                      | Elapsed Time: 0:00:54 ETA:  0:10:59"
     ]
    },
    {
     "name": "stdout",
     "output_type": "stream",
     "text": [
      "connected mappoints  105\n",
      "7833 \n",
      " [[  9.99998438e-01   1.76735883e-03  -3.62850772e-05   4.86807252e-03]\n",
      " [ -1.76705802e-03   9.99973432e-01   7.07199115e-03   4.92028397e-03]\n",
      " [  4.87828592e-05  -7.07191599e-03   9.99974992e-01  -8.21156407e-01]\n",
      " [  0.00000000e+00   0.00000000e+00   0.00000000e+00   1.00000000e+00]]\n"
     ]
    },
    {
     "name": "stderr",
     "output_type": "stream",
     "text": [
      "\r",
      "                                                                               \r",
      "\r",
      "  6% (67 of 1101) |#                      | Elapsed Time: 0:00:55 ETA:  0:11:10"
     ]
    },
    {
     "name": "stdout",
     "output_type": "stream",
     "text": [
      "connected mappoints  114\n",
      "7834 \n",
      " [[  9.99994333e-01   3.34062092e-03   4.18090799e-04   2.35683868e-03]\n",
      " [ -3.34254699e-03   9.99983396e-01   4.69419160e-03   4.98736842e-03]\n",
      " [ -4.02402343e-04  -4.69556249e-03   9.99988895e-01  -8.58649561e-01]\n",
      " [  0.00000000e+00   0.00000000e+00   0.00000000e+00   1.00000000e+00]]\n"
     ]
    },
    {
     "name": "stderr",
     "output_type": "stream",
     "text": [
      "\r",
      "                                                                               \r",
      "\r",
      "  6% (68 of 1101) |#                      | Elapsed Time: 0:00:56 ETA:  0:11:17"
     ]
    },
    {
     "name": "stdout",
     "output_type": "stream",
     "text": [
      "connected mappoints  102\n",
      "7835 \n",
      " [[  9.99999004e-01   1.23897641e-03   6.75734719e-04   4.10064563e-03]\n",
      " [ -1.23833836e-03   9.99998788e-01  -9.43835415e-04   1.03754102e-02]\n",
      " [ -6.76903290e-04   9.42997686e-04   9.99999326e-01  -8.28715802e-01]\n",
      " [  0.00000000e+00   0.00000000e+00   0.00000000e+00   1.00000000e+00]]\n"
     ]
    },
    {
     "name": "stderr",
     "output_type": "stream",
     "text": [
      "\r",
      "                                                                               \r",
      "\r",
      "  6% (69 of 1101) |#                      | Elapsed Time: 0:00:56 ETA:  0:11:29"
     ]
    },
    {
     "name": "stdout",
     "output_type": "stream",
     "text": [
      "connected mappoints  108\n",
      "7836 \n",
      " [[  9.99999707e-01  -7.59939307e-04  -9.53264158e-05   1.86521918e-02]\n",
      " [  7.59213078e-04   9.99972331e-01  -7.40010177e-03   2.15347542e-02]\n",
      " [  1.00947406e-04   7.40002723e-03   9.99972614e-01  -8.59457955e-01]\n",
      " [  0.00000000e+00   0.00000000e+00   0.00000000e+00   1.00000000e+00]]\n"
     ]
    },
    {
     "name": "stderr",
     "output_type": "stream",
     "text": [
      "\r",
      "                                                                               \r",
      "\r",
      "  6% (70 of 1101) |#                      | Elapsed Time: 0:00:57 ETA:  0:11:42"
     ]
    },
    {
     "name": "stdout",
     "output_type": "stream",
     "text": [
      "connected mappoints  122\n",
      "7837 \n",
      " [[  9.99999318e-01  -1.08851663e-03   4.24149251e-04   9.27488848e-03]\n",
      " [  1.09151769e-03   9.99973909e-01  -7.14068778e-03   1.85776328e-02]\n",
      " [ -4.16365427e-04   7.14114587e-03   9.99974415e-01  -8.58008011e-01]\n",
      " [  0.00000000e+00   0.00000000e+00   0.00000000e+00   1.00000000e+00]]\n"
     ]
    },
    {
     "name": "stderr",
     "output_type": "stream",
     "text": [
      "\r",
      "                                                                               \r",
      "\r",
      "  6% (71 of 1101) |#                      | Elapsed Time: 0:00:58 ETA:  0:11:46"
     ]
    },
    {
     "name": "stdout",
     "output_type": "stream",
     "text": [
      "connected mappoints  125\n",
      "7838 \n",
      " [[  9.99997159e-01  -2.37681151e-03   1.79177217e-04   1.76632956e-02]\n",
      " [  2.37774651e-03   9.99982526e-01  -5.41240257e-03   2.33931297e-02]\n",
      " [ -1.66309825e-04   5.41281323e-03   9.99985337e-01  -8.64455355e-01]\n",
      " [  0.00000000e+00   0.00000000e+00   0.00000000e+00   1.00000000e+00]]\n"
     ]
    },
    {
     "name": "stderr",
     "output_type": "stream",
     "text": [
      "\r",
      "                                                                               \r",
      "\r",
      "  6% (72 of 1101) |#                      | Elapsed Time: 0:00:59 ETA:  0:12:10"
     ]
    },
    {
     "name": "stdout",
     "output_type": "stream",
     "text": [
      "connected mappoints  94\n",
      "7839 \n",
      " [[  9.99998819e-01  -1.51358833e-03   2.65716568e-04   1.81528567e-02]\n",
      " [  1.51366755e-03   9.99998810e-01  -2.98207883e-04   1.74504712e-02]\n",
      " [ -2.65264888e-04   2.98609737e-04   9.99999920e-01  -8.62670424e-01]\n",
      " [  0.00000000e+00   0.00000000e+00   0.00000000e+00   1.00000000e+00]]\n"
     ]
    },
    {
     "name": "stderr",
     "output_type": "stream",
     "text": [
      "\r",
      "                                                                               \r",
      "\r",
      "  6% (73 of 1101) |#                      | Elapsed Time: 0:00:59 ETA:  0:12:24"
     ]
    },
    {
     "name": "stdout",
     "output_type": "stream",
     "text": [
      "connected mappoints  115\n",
      "7840 \n",
      " [[  9.99999931e-01  -3.09088264e-05   3.69852238e-04   1.35184565e-02]\n",
      " [  2.96594453e-05   9.99994296e-01   3.37758353e-03   1.95620865e-02]\n",
      " [ -3.69954525e-04  -3.37757233e-03   9.99994228e-01  -8.46322826e-01]\n",
      " [  0.00000000e+00   0.00000000e+00   0.00000000e+00   1.00000000e+00]]\n"
     ]
    },
    {
     "name": "stderr",
     "output_type": "stream",
     "text": [
      "\r",
      "                                                                               \r",
      "\r",
      "  6% (74 of 1101) |#                      | Elapsed Time: 0:01:00 ETA:  0:12:37"
     ]
    },
    {
     "name": "stdout",
     "output_type": "stream",
     "text": [
      "connected mappoints  96\n",
      "7841 \n",
      " [[  9.99999861e-01  -2.89871186e-04   4.40168788e-04   8.08009758e-03]\n",
      " [  2.88714779e-04   9.99996513e-01   2.62498674e-03   1.32311504e-02]\n",
      " [ -4.40928161e-04  -2.62485929e-03   9.99996458e-01  -8.48621711e-01]\n",
      " [  0.00000000e+00   0.00000000e+00   0.00000000e+00   1.00000000e+00]]\n"
     ]
    },
    {
     "name": "stderr",
     "output_type": "stream",
     "text": [
      "\r",
      "                                                                               \r",
      "\r",
      "  6% (75 of 1101) |#                      | Elapsed Time: 0:01:01 ETA:  0:12:50"
     ]
    },
    {
     "name": "stdout",
     "output_type": "stream",
     "text": [
      "connected mappoints  104\n",
      "7842 \n",
      " [[  9.99998738e-01  -1.58642387e-03   8.05423803e-05   1.32310006e-02]\n",
      " [  1.58651796e-03   9.99998043e-01  -1.18187472e-03   1.27020019e-02]\n",
      " [ -7.86672684e-05   1.18200101e-03   9.99999298e-01  -8.46957302e-01]\n",
      " [  0.00000000e+00   0.00000000e+00   0.00000000e+00   1.00000000e+00]]\n"
     ]
    },
    {
     "name": "stderr",
     "output_type": "stream",
     "text": [
      "\r",
      "                                                                               \r",
      "\r",
      "  6% (76 of 1101) |#                      | Elapsed Time: 0:01:02 ETA:  0:13:01"
     ]
    },
    {
     "name": "stdout",
     "output_type": "stream",
     "text": [
      "connected mappoints  117\n",
      "7843 \n",
      " [[  9.99999472e-01  -1.02720657e-03  -1.83556020e-05   1.04125307e-02]\n",
      " [  1.02715867e-03   9.99996489e-01  -2.44255458e-03   2.26929652e-02]\n",
      " [  2.08645457e-05   2.44253444e-03   9.99997017e-01  -8.53720023e-01]\n",
      " [  0.00000000e+00   0.00000000e+00   0.00000000e+00   1.00000000e+00]]\n"
     ]
    },
    {
     "name": "stderr",
     "output_type": "stream",
     "text": [
      "\r",
      "                                                                               \r",
      "\r",
      "  6% (77 of 1101) |#                      | Elapsed Time: 0:01:03 ETA:  0:13:17"
     ]
    },
    {
     "name": "stdout",
     "output_type": "stream",
     "text": [
      "connected mappoints  98\n",
      "7844 \n",
      " [[  9.99999917e-01  -4.05525454e-04  -4.44776439e-05   1.45605647e-02]\n",
      " [  4.05594427e-04   9.99998698e-01   1.56183703e-03   1.96392248e-02]\n",
      " [  4.38442213e-05  -1.56185494e-03   9.99998779e-01  -8.58281101e-01]\n",
      " [  0.00000000e+00   0.00000000e+00   0.00000000e+00   1.00000000e+00]]\n"
     ]
    },
    {
     "name": "stderr",
     "output_type": "stream",
     "text": [
      "\r",
      "                                                                               \r",
      "\r",
      "  7% (78 of 1101) |#                      | Elapsed Time: 0:01:03 ETA:  0:13:24"
     ]
    },
    {
     "name": "stdout",
     "output_type": "stream",
     "text": [
      "connected mappoints  97\n",
      "7845 \n",
      " [[  9.99999824e-01  -5.03945894e-04  -3.11983983e-04   1.38861689e-02]\n",
      " [  5.05527318e-04   9.99986919e-01   5.08977083e-03   1.23150518e-02]\n",
      " [  3.09414933e-04  -5.08992765e-03   9.99986998e-01  -8.42999505e-01]\n",
      " [  0.00000000e+00   0.00000000e+00   0.00000000e+00   1.00000000e+00]]\n"
     ]
    },
    {
     "name": "stderr",
     "output_type": "stream",
     "text": [
      "\r",
      "                                                                               \r",
      "\r",
      "  7% (79 of 1101) |#                      | Elapsed Time: 0:01:04 ETA:  0:13:32"
     ]
    },
    {
     "name": "stdout",
     "output_type": "stream",
     "text": [
      "connected mappoints  103\n",
      "7846 \n",
      " [[  9.99999024e-01  -1.36018024e-03  -3.17945749e-04   1.89347819e-02]\n",
      " [  1.36150450e-03   9.99990242e-01   4.20261532e-03   1.09515443e-02]\n",
      " [  3.12226332e-04  -4.20304411e-03   9.99991118e-01  -8.55004820e-01]\n",
      " [  0.00000000e+00   0.00000000e+00   0.00000000e+00   1.00000000e+00]]\n"
     ]
    },
    {
     "name": "stderr",
     "output_type": "stream",
     "text": [
      "\r",
      "                                                                               \r",
      "\r",
      "  7% (80 of 1101) |#                      | Elapsed Time: 0:01:05 ETA:  0:13:42"
     ]
    },
    {
     "name": "stdout",
     "output_type": "stream",
     "text": [
      "connected mappoints  108\n",
      "7847 \n",
      " [[  9.99999646e-01   5.08674438e-04  -6.70034599e-04   1.92207561e-02]\n",
      " [ -5.09341885e-04   9.99999374e-01  -9.96344171e-04   2.07586705e-02]\n",
      " [  6.69527364e-04   9.96685095e-04   9.99999279e-01  -8.50025804e-01]\n",
      " [  0.00000000e+00   0.00000000e+00   0.00000000e+00   1.00000000e+00]]\n"
     ]
    },
    {
     "name": "stderr",
     "output_type": "stream",
     "text": [
      "\r",
      "                                                                               \r",
      "\r",
      "  7% (81 of 1101) |#                      | Elapsed Time: 0:01:06 ETA:  0:14:13"
     ]
    },
    {
     "name": "stdout",
     "output_type": "stream",
     "text": [
      "connected mappoints  125\n",
      "7848 \n",
      " [[  9.99999172e-01   9.88941569e-04  -8.23555274e-04   1.85735494e-02]\n",
      " [ -9.90859129e-04   9.99996792e-01  -2.33124911e-03   1.80901696e-02]\n",
      " [  8.21247163e-04   2.33206321e-03   9.99996944e-01  -8.66781560e-01]\n",
      " [  0.00000000e+00   0.00000000e+00   0.00000000e+00   1.00000000e+00]]\n"
     ]
    },
    {
     "name": "stderr",
     "output_type": "stream",
     "text": [
      "\r",
      "                                                                               \r",
      "\r",
      "  7% (82 of 1101) |#                      | Elapsed Time: 0:01:07 ETA:  0:14:15"
     ]
    },
    {
     "name": "stdout",
     "output_type": "stream",
     "text": [
      "connected mappoints  121\n",
      "7849 \n",
      " [[  9.99999573e-01   8.59053023e-04  -3.40948120e-04   1.37440444e-02]\n",
      " [ -8.60696246e-04   9.99987873e-01  -4.84904778e-03   1.90699511e-02]\n",
      " [  3.36778396e-04   4.84933916e-03   9.99988185e-01  -8.66418587e-01]\n",
      " [  0.00000000e+00   0.00000000e+00   0.00000000e+00   1.00000000e+00]]\n"
     ]
    },
    {
     "name": "stderr",
     "output_type": "stream",
     "text": [
      "\r",
      "                                                                               \r",
      "\r",
      "  7% (83 of 1101) |#                      | Elapsed Time: 0:01:08 ETA:  0:14:26"
     ]
    },
    {
     "name": "stdout",
     "output_type": "stream",
     "text": [
      "connected mappoints  127\n",
      "7850 \n",
      " [[  9.99999181e-01   1.00770499e-03  -7.88998449e-04   1.93775140e-02]\n",
      " [ -1.01189842e-03   9.99985269e-01  -5.33264208e-03   1.50804468e-02]\n",
      " [  7.83613097e-04   5.33343609e-03   9.99985470e-01  -8.72160723e-01]\n",
      " [  0.00000000e+00   0.00000000e+00   0.00000000e+00   1.00000000e+00]]\n"
     ]
    },
    {
     "name": "stderr",
     "output_type": "stream",
     "text": [
      "\r",
      "                                                                               \r",
      "\r",
      "  7% (84 of 1101) |#                      | Elapsed Time: 0:01:09 ETA:  0:14:32"
     ]
    },
    {
     "name": "stdout",
     "output_type": "stream",
     "text": [
      "connected mappoints  129\n",
      "7851 \n",
      " [[  9.99999945e-01  -1.80874403e-04   2.79779241e-04   1.13352171e-02]\n",
      " [  1.81770863e-04   9.99994840e-01  -3.20746891e-03   2.49442362e-02]\n",
      " [ -2.79197648e-04   3.20751958e-03   9.99994817e-01  -8.55332413e-01]\n",
      " [  0.00000000e+00   0.00000000e+00   0.00000000e+00   1.00000000e+00]]\n"
     ]
    },
    {
     "name": "stderr",
     "output_type": "stream",
     "text": [
      "\r",
      "                                                                               \r",
      "\r",
      "  7% (85 of 1101) |#                      | Elapsed Time: 0:01:10 ETA:  0:14:33"
     ]
    },
    {
     "name": "stdout",
     "output_type": "stream",
     "text": [
      "connected mappoints  110\n",
      "7852 \n",
      " [[  9.99999760e-01   5.48826463e-04  -4.22587511e-04   1.81049177e-02]\n",
      " [ -5.48756889e-04   9.99999836e-01   1.64735518e-04   1.77234830e-02]\n",
      " [  4.22677852e-04  -1.64503580e-04   9.99999897e-01  -8.55180086e-01]\n",
      " [  0.00000000e+00   0.00000000e+00   0.00000000e+00   1.00000000e+00]]\n"
     ]
    },
    {
     "name": "stderr",
     "output_type": "stream",
     "text": [
      "\r",
      "                                                                               \r",
      "\r",
      "  7% (86 of 1101) |#                      | Elapsed Time: 0:01:10 ETA:  0:14:34"
     ]
    },
    {
     "name": "stdout",
     "output_type": "stream",
     "text": [
      "connected mappoints  118\n",
      "7853 \n",
      " [[  9.99999935e-01  -2.59311793e-04  -2.52049116e-04   1.66364452e-02]\n",
      " [  2.60439592e-04   9.99989909e-01   4.48483727e-03   9.99114086e-03]\n",
      " [  2.50883602e-04  -4.48490262e-03   9.99989911e-01  -8.40006443e-01]\n",
      " [  0.00000000e+00   0.00000000e+00   0.00000000e+00   1.00000000e+00]]\n"
     ]
    },
    {
     "name": "stderr",
     "output_type": "stream",
     "text": [
      "\r",
      "                                                                               \r",
      "\r",
      "  7% (87 of 1101) |#                      | Elapsed Time: 0:01:11 ETA:  0:14:23"
     ]
    },
    {
     "name": "stdout",
     "output_type": "stream",
     "text": [
      "connected mappoints  99\n",
      "7854 \n",
      " [[  9.99999618e-01  -7.10868297e-04  -5.08408461e-04   1.74340404e-02]\n",
      " [  7.12985714e-04   9.99991023e-01   4.17681243e-03   1.57586630e-02]\n",
      " [  5.05434734e-04  -4.17717333e-03   9.99991148e-01  -8.44359837e-01]\n",
      " [  0.00000000e+00   0.00000000e+00   0.00000000e+00   1.00000000e+00]]\n"
     ]
    },
    {
     "name": "stderr",
     "output_type": "stream",
     "text": [
      "\r",
      "                                                                               \r",
      "\r",
      "  7% (88 of 1101) |#                      | Elapsed Time: 0:01:12 ETA:  0:14:28"
     ]
    },
    {
     "name": "stdout",
     "output_type": "stream",
     "text": [
      "connected mappoints  128\n",
      "7855 \n",
      " [[  9.99992035e-01  -3.98477196e-03  -2.25260325e-04   2.05697965e-02]\n",
      " [  3.98531140e-03   9.99989064e-01   2.44726916e-03   1.39582510e-02]\n",
      " [  2.15506052e-04  -2.44814740e-03   9.99996980e-01  -8.50418254e-01]\n",
      " [  0.00000000e+00   0.00000000e+00   0.00000000e+00   1.00000000e+00]]\n"
     ]
    },
    {
     "name": "stderr",
     "output_type": "stream",
     "text": [
      "\r",
      "                                                                               \r",
      "\r",
      "  8% (89 of 1101) |#                      | Elapsed Time: 0:01:13 ETA:  0:14:25"
     ]
    },
    {
     "name": "stdout",
     "output_type": "stream",
     "text": [
      "connected mappoints  81\n",
      "7856 \n",
      " [[  9.99995545e-01  -2.97358497e-03   2.60187241e-04   2.06431091e-02]\n",
      " [  2.97317453e-03   9.99994357e-01   1.56389134e-03   1.06169971e-02]\n",
      " [ -2.64836137e-04  -1.56311079e-03   9.99998743e-01  -8.33473860e-01]\n",
      " [  0.00000000e+00   0.00000000e+00   0.00000000e+00   1.00000000e+00]]\n"
     ]
    },
    {
     "name": "stderr",
     "output_type": "stream",
     "text": [
      "\r",
      "                                                                               \r",
      "\r",
      "  8% (90 of 1101) |#                      | Elapsed Time: 0:01:14 ETA:  0:14:20"
     ]
    },
    {
     "name": "stdout",
     "output_type": "stream",
     "text": [
      "connected mappoints  109\n",
      "7857 \n",
      " [[  9.99997021e-01   2.37934998e-03   5.45442520e-04   1.50289418e-02]\n",
      " [ -2.38036933e-03   9.99995407e-01   1.87588767e-03   2.15615577e-02]\n",
      " [ -5.40976621e-04  -1.87718044e-03   9.99998092e-01  -8.45597160e-01]\n",
      " [  0.00000000e+00   0.00000000e+00   0.00000000e+00   1.00000000e+00]]\n"
     ]
    },
    {
     "name": "stderr",
     "output_type": "stream",
     "text": [
      "\r",
      "                                                                               \r",
      "\r",
      "  8% (91 of 1101) |#                      | Elapsed Time: 0:01:15 ETA:  0:14:05"
     ]
    },
    {
     "name": "stdout",
     "output_type": "stream",
     "text": [
      "connected mappoints  98\n",
      "7858 \n",
      " [[ 0.99999014  0.00424244  0.00130859  0.00896144]\n",
      " [-0.00424743  0.99998363  0.00383281  0.01040563]\n",
      " [-0.00129231 -0.00383833  0.9999918  -0.83703791]\n",
      " [ 0.          0.          0.          1.        ]]\n"
     ]
    },
    {
     "name": "stderr",
     "output_type": "stream",
     "text": [
      "\r",
      "                                                                               \r",
      "\r",
      "  8% (92 of 1101) |#                      | Elapsed Time: 0:01:15 ETA:  0:14:01"
     ]
    },
    {
     "name": "stdout",
     "output_type": "stream",
     "text": [
      "connected mappoints  109\n",
      "7859 \n",
      " [[  9.99989885e-01   4.41636384e-03   8.52324583e-04   8.42600358e-03]\n",
      " [ -4.41796185e-03   9.99988469e-01   1.88219819e-03   1.05250059e-02]\n",
      " [ -8.44002284e-04  -1.88594469e-03   9.99997865e-01  -8.42405762e-01]\n",
      " [  0.00000000e+00   0.00000000e+00   0.00000000e+00   1.00000000e+00]]\n"
     ]
    },
    {
     "name": "stderr",
     "output_type": "stream",
     "text": [
      "\r",
      "                                                                               \r",
      "\r",
      "  8% (93 of 1101) |#                      | Elapsed Time: 0:01:16 ETA:  0:13:54"
     ]
    },
    {
     "name": "stdout",
     "output_type": "stream",
     "text": [
      "connected mappoints  125\n",
      "7860 \n",
      " [[  9.99998558e-01  -3.68909845e-04   1.65790739e-03   1.75789579e-02]\n",
      " [  3.74349540e-04   9.99994544e-01  -3.28194922e-03   1.81958236e-02]\n",
      " [ -1.65668760e-03   3.28256512e-03   9.99993240e-01  -8.40350165e-01]\n",
      " [  0.00000000e+00   0.00000000e+00   0.00000000e+00   1.00000000e+00]]\n"
     ]
    },
    {
     "name": "stderr",
     "output_type": "stream",
     "text": [
      "\r",
      "                                                                               \r",
      "\r",
      "  8% (94 of 1101) |#                      | Elapsed Time: 0:01:17 ETA:  0:13:51"
     ]
    },
    {
     "name": "stdout",
     "output_type": "stream",
     "text": [
      "connected mappoints  123\n",
      "7861 \n",
      " [[ 0.99999576  0.00227916  0.00181121  0.00911455]\n",
      " [-0.00226781  0.99997796 -0.00623973  0.02500252]\n",
      " [-0.00182539  0.0062356   0.99997889 -0.84377508]\n",
      " [ 0.          0.          0.          1.        ]]\n"
     ]
    },
    {
     "name": "stderr",
     "output_type": "stream",
     "text": [
      "\r",
      "                                                                               \r",
      "\r",
      "  8% (95 of 1101) |#                      | Elapsed Time: 0:01:18 ETA:  0:13:48"
     ]
    },
    {
     "name": "stdout",
     "output_type": "stream",
     "text": [
      "connected mappoints  121\n",
      "7862 \n",
      " [[ 0.99999688  0.00188837  0.00163488  0.01356691]\n",
      " [-0.00188256  0.99999195 -0.00354471  0.02126977]\n",
      " [-0.00164157  0.00354162  0.99999238 -0.83863893]\n",
      " [ 0.          0.          0.          1.        ]]\n"
     ]
    },
    {
     "name": "stderr",
     "output_type": "stream",
     "text": [
      "\r",
      "                                                                               \r",
      "\r",
      "  8% (96 of 1101) |##                     | Elapsed Time: 0:01:19 ETA:  0:13:49"
     ]
    },
    {
     "name": "stdout",
     "output_type": "stream",
     "text": [
      "connected mappoints  92\n",
      "7863 \n",
      " [[  9.99998766e-01  -3.27442428e-05   1.57034863e-03   1.10350772e-02]\n",
      " [  3.15247495e-05   9.99999698e-01   7.76593362e-04   2.01743241e-02]\n",
      " [ -1.57037358e-03  -7.76542899e-04   9.99998465e-01  -8.28173079e-01]\n",
      " [  0.00000000e+00   0.00000000e+00   0.00000000e+00   1.00000000e+00]]\n"
     ]
    },
    {
     "name": "stderr",
     "output_type": "stream",
     "text": [
      "\r",
      "                                                                               \r",
      "\r",
      "  8% (97 of 1101) |##                     | Elapsed Time: 0:01:20 ETA:  0:13:52"
     ]
    },
    {
     "name": "stdout",
     "output_type": "stream",
     "text": [
      "connected mappoints  118\n",
      "7864 \n",
      " [[  9.99994895e-01  -3.07252987e-03   8.77242572e-04   1.79584308e-02]\n",
      " [  3.06941272e-03   9.99989049e-01   3.53285382e-03   1.76127501e-02]\n",
      " [ -8.88087764e-04  -3.53014316e-03   9.99993375e-01  -8.19953587e-01]\n",
      " [  0.00000000e+00   0.00000000e+00   0.00000000e+00   1.00000000e+00]]\n"
     ]
    },
    {
     "name": "stderr",
     "output_type": "stream",
     "text": [
      "\r",
      "                                                                               \r",
      "\r",
      "  8% (98 of 1101) |##                     | Elapsed Time: 0:01:20 ETA:  0:13:47"
     ]
    },
    {
     "name": "stdout",
     "output_type": "stream",
     "text": [
      "connected mappoints  127\n",
      "7865 \n",
      " [[  9.99986065e-01  -5.18457753e-03   9.94571736e-04   2.20476415e-02]\n",
      " [  5.18124004e-03   9.99981035e-01   3.32943390e-03   1.12658742e-02]\n",
      " [ -1.01181458e-03  -3.32423439e-03   9.99993963e-01  -8.16098086e-01]\n",
      " [  0.00000000e+00   0.00000000e+00   0.00000000e+00   1.00000000e+00]]\n"
     ]
    },
    {
     "name": "stderr",
     "output_type": "stream",
     "text": [
      "\r",
      "                                                                               \r",
      "\r",
      "  8% (99 of 1101) |##                     | Elapsed Time: 0:01:21 ETA:  0:13:48"
     ]
    },
    {
     "name": "stdout",
     "output_type": "stream",
     "text": [
      "connected mappoints  116\n",
      "7866 \n",
      " [[ 0.99999102 -0.00404112  0.00127625  0.01743757]\n",
      " [ 0.00403958  0.99999112  0.00120345  0.01551203]\n",
      " [-0.0012811  -0.00119828  0.99999846 -0.8124088 ]\n",
      " [ 0.          0.          0.          1.        ]]\n"
     ]
    },
    {
     "name": "stderr",
     "output_type": "stream",
     "text": [
      "\r",
      "                                                                               \r",
      "\r",
      "  9% (100 of 1101) |#                     | Elapsed Time: 0:01:22 ETA:  0:13:44"
     ]
    },
    {
     "name": "stdout",
     "output_type": "stream",
     "text": [
      "connected mappoints  106\n",
      "7867 \n",
      " [[  9.99998095e-01  -1.71701288e-03   9.28771001e-04   1.80039277e-02]\n",
      " [  1.71814457e-03   9.99997781e-01  -1.21906025e-03   1.68407318e-02]\n",
      " [ -9.26675798e-04   1.22065369e-03   9.99998826e-01  -8.15825849e-01]\n",
      " [  0.00000000e+00   0.00000000e+00   0.00000000e+00   1.00000000e+00]]\n"
     ]
    },
    {
     "name": "stderr",
     "output_type": "stream",
     "text": [
      "\r",
      "                                                                               \r",
      "\r",
      "  9% (101 of 1101) |##                    | Elapsed Time: 0:01:23 ETA:  0:13:40"
     ]
    },
    {
     "name": "stdout",
     "output_type": "stream",
     "text": [
      "connected mappoints  97\n",
      "7868 \n",
      " [[  9.99999617e-01  -3.73336702e-05   8.73994240e-04   1.31204739e-02]\n",
      " [  3.87030216e-05   9.99998772e-01  -1.56680947e-03   1.73656909e-02]\n",
      " [ -8.73934672e-04   1.56684270e-03   9.99998391e-01  -8.01683351e-01]\n",
      " [  0.00000000e+00   0.00000000e+00   0.00000000e+00   1.00000000e+00]]\n"
     ]
    },
    {
     "name": "stderr",
     "output_type": "stream",
     "text": [
      "\r",
      "                                                                               \r",
      "\r",
      "  9% (102 of 1101) |##                    | Elapsed Time: 0:01:24 ETA:  0:13:47"
     ]
    },
    {
     "name": "stdout",
     "output_type": "stream",
     "text": [
      "connected mappoints  96\n",
      "7869 \n",
      " [[  9.99997465e-01  -2.13505375e-03   7.15473760e-04   1.65866131e-02]\n",
      " [  2.13481555e-03   9.99997666e-01   3.33535605e-04   1.72693627e-02]\n",
      " [ -7.16184206e-04  -3.32007354e-04   9.99999688e-01  -7.99950569e-01]\n",
      " [  0.00000000e+00   0.00000000e+00   0.00000000e+00   1.00000000e+00]]\n"
     ]
    },
    {
     "name": "stderr",
     "output_type": "stream",
     "text": [
      "\r",
      "                                                                               \r",
      "\r",
      "  9% (103 of 1101) |##                    | Elapsed Time: 0:01:25 ETA:  0:13:52"
     ]
    },
    {
     "name": "stdout",
     "output_type": "stream",
     "text": [
      "connected mappoints  106\n",
      "7870 \n",
      " [[  9.99999518e-01  -7.86491485e-04   5.88120279e-04   1.46288852e-02]\n",
      " [  7.86415480e-04   9.99999682e-01   1.29454882e-04   1.52518912e-02]\n",
      " [ -5.88221908e-04  -1.28992313e-04   9.99999819e-01  -7.97866940e-01]\n",
      " [  0.00000000e+00   0.00000000e+00   0.00000000e+00   1.00000000e+00]]\n"
     ]
    },
    {
     "name": "stderr",
     "output_type": "stream",
     "text": [
      "\r",
      "                                                                               \r",
      "\r",
      "  9% (104 of 1101) |##                    | Elapsed Time: 0:01:25 ETA:  0:13:50"
     ]
    },
    {
     "name": "stdout",
     "output_type": "stream",
     "text": [
      "connected mappoints  74\n",
      "7871 \n",
      " [[  9.99998612e-01   1.52719678e-03   6.65649583e-04   9.69978012e-03]\n",
      " [ -1.52612830e-03   9.99997551e-01  -1.60272320e-03   1.52331880e-02]\n",
      " [ -6.68095626e-04   1.60170511e-03   9.99998494e-01  -7.97669643e-01]\n",
      " [  0.00000000e+00   0.00000000e+00   0.00000000e+00   1.00000000e+00]]\n"
     ]
    },
    {
     "name": "stderr",
     "output_type": "stream",
     "text": [
      "\r",
      "                                                                               \r",
      "\r",
      "  9% (105 of 1101) |##                    | Elapsed Time: 0:01:26 ETA:  0:13:48"
     ]
    },
    {
     "name": "stdout",
     "output_type": "stream",
     "text": [
      "connected mappoints  68\n",
      "7872 \n",
      " [[  9.99999575e-01   8.85660961e-04   2.57758228e-04   1.20403063e-02]\n",
      " [ -8.84950622e-04   9.99995846e-01  -2.74302269e-03   1.72615468e-02]\n",
      " [ -2.60186546e-04   2.74279342e-03   9.99996205e-01  -7.90043540e-01]\n",
      " [  0.00000000e+00   0.00000000e+00   0.00000000e+00   1.00000000e+00]]\n"
     ]
    },
    {
     "name": "stderr",
     "output_type": "stream",
     "text": [
      "\r",
      "                                                                               \r",
      "\r",
      "  9% (106 of 1101) |##                    | Elapsed Time: 0:01:27 ETA:  0:13:39"
     ]
    },
    {
     "name": "stdout",
     "output_type": "stream",
     "text": [
      "connected mappoints  68\n",
      "7873 \n",
      " [[  9.99999963e-01   1.01783793e-05   2.73304504e-04   1.30381362e-02]\n",
      " [ -9.03509656e-06   9.99991252e-01  -4.18285857e-03   2.29588706e-02]\n",
      " [ -2.73344687e-04   4.18285595e-03   9.99991214e-01  -7.80094497e-01]\n",
      " [  0.00000000e+00   0.00000000e+00   0.00000000e+00   1.00000000e+00]]\n"
     ]
    },
    {
     "name": "stderr",
     "output_type": "stream",
     "text": [
      "\r",
      "                                                                               \r",
      "\r",
      "  9% (107 of 1101) |##                    | Elapsed Time: 0:01:28 ETA:  0:13:39"
     ]
    },
    {
     "name": "stdout",
     "output_type": "stream",
     "text": [
      "connected mappoints  82\n",
      "7874 \n",
      " [[  9.99999629e-01   5.28931579e-04   6.79504825e-04   1.25765479e-02]\n",
      " [ -5.27545812e-04   9.99997784e-01  -2.03794054e-03   1.55161079e-02]\n",
      " [ -6.80581251e-04   2.03758131e-03   9.99997693e-01  -7.71904948e-01]\n",
      " [  0.00000000e+00   0.00000000e+00   0.00000000e+00   1.00000000e+00]]\n"
     ]
    },
    {
     "name": "stderr",
     "output_type": "stream",
     "text": [
      "\r",
      "                                                                               \r",
      "\r",
      "  9% (108 of 1101) |##                    | Elapsed Time: 0:01:29 ETA:  0:13:42"
     ]
    },
    {
     "name": "stdout",
     "output_type": "stream",
     "text": [
      "connected mappoints  86\n",
      "7875 \n",
      " [[  9.99999633e-01   4.06790425e-04   7.54371072e-04   1.11824908e-02]\n",
      " [ -4.06784451e-04   9.99999917e-01  -8.07212853e-06   1.86960622e-02]\n",
      " [ -7.54374293e-04   7.76525914e-06   9.99999715e-01  -7.66644778e-01]\n",
      " [  0.00000000e+00   0.00000000e+00   0.00000000e+00   1.00000000e+00]]\n"
     ]
    },
    {
     "name": "stderr",
     "output_type": "stream",
     "text": [
      "\r",
      "                                                                               \r",
      "\r",
      "  9% (109 of 1101) |##                    | Elapsed Time: 0:01:29 ETA:  0:13:45"
     ]
    },
    {
     "name": "stdout",
     "output_type": "stream",
     "text": [
      "connected mappoints  86\n",
      "7876 \n",
      " [[  9.99999937e-01   2.60447861e-04   2.42459016e-04   1.29937813e-02]\n",
      " [ -2.60908168e-04   9.99998160e-01   1.90040494e-03   1.77070011e-02]\n",
      " [ -2.41963614e-04  -1.90046808e-03   9.99998165e-01  -7.52293446e-01]\n",
      " [  0.00000000e+00   0.00000000e+00   0.00000000e+00   1.00000000e+00]]\n"
     ]
    },
    {
     "name": "stderr",
     "output_type": "stream",
     "text": [
      "\r",
      "                                                                               \r",
      "\r",
      "  9% (110 of 1101) |##                    | Elapsed Time: 0:01:30 ETA:  0:13:43"
     ]
    },
    {
     "name": "stdout",
     "output_type": "stream",
     "text": [
      "connected mappoints  91\n",
      "7877 \n",
      " [[  9.99999611e-01   7.73691606e-04   4.24533932e-04   9.66282333e-03]\n",
      " [ -7.75174686e-04   9.99993559e-01   3.50445991e-03   1.43741654e-02]\n",
      " [ -4.21819826e-04  -3.50478763e-03   9.99993769e-01  -7.43514887e-01]\n",
      " [  0.00000000e+00   0.00000000e+00   0.00000000e+00   1.00000000e+00]]\n"
     ]
    },
    {
     "name": "stderr",
     "output_type": "stream",
     "text": [
      "\r",
      "                                                                               \r",
      "\r",
      " 10% (111 of 1101) |##                    | Elapsed Time: 0:01:31 ETA:  0:13:34"
     ]
    },
    {
     "name": "stdout",
     "output_type": "stream",
     "text": [
      "connected mappoints  90\n",
      "7878 \n",
      " [[  9.99999963e-01  -1.78485784e-04  -2.06223709e-04   1.12704600e-02]\n",
      " [  1.79069763e-04   9.99995965e-01   2.83523088e-03   1.49733898e-02]\n",
      " [  2.05716829e-04  -2.83526771e-03   9.99995959e-01  -7.47673021e-01]\n",
      " [  0.00000000e+00   0.00000000e+00   0.00000000e+00   1.00000000e+00]]\n"
     ]
    },
    {
     "name": "stderr",
     "output_type": "stream",
     "text": [
      "\r",
      "                                                                               \r",
      "\r",
      " 10% (112 of 1101) |##                    | Elapsed Time: 0:01:32 ETA:  0:13:18"
     ]
    },
    {
     "name": "stdout",
     "output_type": "stream",
     "text": [
      "connected mappoints  111\n",
      "7879 \n",
      " [[  9.99999329e-01  -3.51582126e-04  -1.10374225e-03   1.18923892e-02]\n",
      " [  3.54044429e-04   9.99997448e-01   2.23146569e-03   1.35107949e-02]\n",
      " [  1.10295489e-03  -2.23185497e-03   9.99996901e-01  -7.29737771e-01]\n",
      " [  0.00000000e+00   0.00000000e+00   0.00000000e+00   1.00000000e+00]]\n"
     ]
    },
    {
     "name": "stderr",
     "output_type": "stream",
     "text": [
      "\r",
      "                                                                               \r",
      "\r",
      " 10% (113 of 1101) |##                    | Elapsed Time: 0:01:32 ETA:  0:13:06"
     ]
    },
    {
     "name": "stdout",
     "output_type": "stream",
     "text": [
      "connected mappoints  104\n",
      "7880 \n",
      " [[  9.99994272e-01  -2.52401488e-03  -2.25522888e-03   1.02347521e-02]\n",
      " [  2.52538867e-03   9.99996627e-01   6.06514895e-04   1.81646768e-02]\n",
      " [  2.25369042e-03  -6.12206750e-04   9.99997273e-01  -7.01486243e-01]\n",
      " [  0.00000000e+00   0.00000000e+00   0.00000000e+00   1.00000000e+00]]\n"
     ]
    },
    {
     "name": "stderr",
     "output_type": "stream",
     "text": [
      "\r",
      "                                                                               \r",
      "\r",
      " 10% (114 of 1101) |##                    | Elapsed Time: 0:01:33 ETA:  0:12:59"
     ]
    },
    {
     "name": "stdout",
     "output_type": "stream",
     "text": [
      "connected mappoints  125\n",
      "7881 \n",
      " [[  9.99991773e-01  -3.69827827e-04  -4.03949323e-03   1.05167530e-02]\n",
      " [  3.65806077e-04   9.99999437e-01  -9.96301226e-04   1.70215567e-02]\n",
      " [  4.03985942e-03   9.94815358e-04   9.99991345e-01  -6.95047513e-01]\n",
      " [  0.00000000e+00   0.00000000e+00   0.00000000e+00   1.00000000e+00]]\n"
     ]
    },
    {
     "name": "stderr",
     "output_type": "stream",
     "text": [
      "\r",
      "                                                                               \r",
      "\r",
      " 10% (115 of 1101) |##                    | Elapsed Time: 0:01:34 ETA:  0:12:52"
     ]
    },
    {
     "name": "stdout",
     "output_type": "stream",
     "text": [
      "connected mappoints  111\n",
      "7882 \n",
      " [[ 0.99998384  0.0011361  -0.00557093  0.00443388]\n",
      " [-0.00114441  0.99999824 -0.00148765  0.01454672]\n",
      " [ 0.00556923  0.001494    0.99998338 -0.67839122]\n",
      " [ 0.          0.          0.          1.        ]]\n"
     ]
    },
    {
     "name": "stderr",
     "output_type": "stream",
     "text": [
      "\r",
      "                                                                               \r",
      "\r",
      " 10% (116 of 1101) |##                    | Elapsed Time: 0:01:35 ETA:  0:12:50"
     ]
    },
    {
     "name": "stdout",
     "output_type": "stream",
     "text": [
      "connected mappoints  134\n",
      "7883 \n",
      " [[  9.99975461e-01   9.91846256e-04  -6.93496803e-03   4.86050589e-03]\n",
      " [ -1.00024892e-03   9.99998770e-01  -1.20827440e-03   1.24484021e-02]\n",
      " [  6.93376108e-03   1.21518145e-03   9.99975223e-01  -6.68570507e-01]\n",
      " [  0.00000000e+00   0.00000000e+00   0.00000000e+00   1.00000000e+00]]\n"
     ]
    },
    {
     "name": "stderr",
     "output_type": "stream",
     "text": [
      "\r",
      "                                                                               \r",
      "\r",
      " 10% (117 of 1101) |##                    | Elapsed Time: 0:01:35 ETA:  0:12:39"
     ]
    },
    {
     "name": "stdout",
     "output_type": "stream",
     "text": [
      "connected mappoints  105\n",
      "7884 \n",
      " [[  9.99962201e-01  -7.12003540e-04  -8.66542288e-03   8.88076848e-03]\n",
      " [  6.98749031e-04   9.99998582e-01  -1.53251735e-03   1.83594811e-02]\n",
      " [  8.66650175e-03   1.52640447e-03   9.99961280e-01  -6.54945702e-01]\n",
      " [  0.00000000e+00   0.00000000e+00   0.00000000e+00   1.00000000e+00]]\n"
     ]
    },
    {
     "name": "stderr",
     "output_type": "stream",
     "text": [
      "\r",
      "                                                                               \r",
      "\r",
      " 10% (118 of 1101) |##                    | Elapsed Time: 0:01:36 ETA:  0:12:28"
     ]
    },
    {
     "name": "stdout",
     "output_type": "stream",
     "text": [
      "connected mappoints  106\n",
      "7885 \n",
      " [[ 0.99992865 -0.00152703 -0.01184745  0.00756767]\n",
      " [ 0.00150707  0.99999743 -0.00169281  0.01269677]\n",
      " [ 0.01185     0.00167484  0.99992838 -0.62764461]\n",
      " [ 0.          0.          0.          1.        ]]\n"
     ]
    },
    {
     "name": "stderr",
     "output_type": "stream",
     "text": [
      "\r",
      "                                                                               \r",
      "\r",
      " 10% (119 of 1101) |##                    | Elapsed Time: 0:01:37 ETA:  0:12:12"
     ]
    },
    {
     "name": "stdout",
     "output_type": "stream",
     "text": [
      "connected mappoints  88\n",
      "7886 \n",
      " [[ 0.99988877 -0.00217873 -0.01475474  0.00839109]\n",
      " [ 0.0021523   0.99999605 -0.00180664  0.01769774]\n",
      " [ 0.01475862  0.00177468  0.99988951 -0.60167583]\n",
      " [ 0.          0.          0.          1.        ]]\n"
     ]
    },
    {
     "name": "stderr",
     "output_type": "stream",
     "text": [
      "\r",
      "                                                                               \r",
      "\r",
      " 10% (120 of 1101) |##                    | Elapsed Time: 0:01:38 ETA:  0:12:01"
     ]
    },
    {
     "name": "stdout",
     "output_type": "stream",
     "text": [
      "connected mappoints  79\n",
      "7887 \n",
      " [[  9.99824454e-01  -7.34250504e-04  -1.87222474e-02   1.76541924e-02]\n",
      " [  7.06531401e-04   9.99998645e-01  -1.48711508e-03   1.98822100e-02]\n",
      " [  1.87233139e-02   1.47362617e-03   9.99823617e-01  -5.70064990e-01]\n",
      " [  0.00000000e+00   0.00000000e+00   0.00000000e+00   1.00000000e+00]]\n"
     ]
    },
    {
     "name": "stderr",
     "output_type": "stream",
     "text": [
      "\r",
      "                                                                               \r",
      "\r",
      " 10% (121 of 1101) |##                    | Elapsed Time: 0:01:38 ETA:  0:11:58"
     ]
    },
    {
     "name": "stdout",
     "output_type": "stream",
     "text": [
      "connected mappoints  109\n",
      "7888 \n",
      " [[  9.99760196e-01  -3.12740390e-04  -2.18964301e-02  -3.52849494e-03]\n",
      " [  2.91181197e-04   9.99999470e-01  -9.87779900e-04   1.58039153e-02]\n",
      " [  2.18967274e-02   9.81167197e-04   9.99759756e-01  -5.72989374e-01]\n",
      " [  0.00000000e+00   0.00000000e+00   0.00000000e+00   1.00000000e+00]]\n"
     ]
    },
    {
     "name": "stderr",
     "output_type": "stream",
     "text": [
      "\r",
      "                                                                               \r",
      "\r",
      " 11% (122 of 1101) |##                    | Elapsed Time: 0:01:39 ETA:  0:11:50"
     ]
    },
    {
     "name": "stdout",
     "output_type": "stream",
     "text": [
      "connected mappoints  119\n",
      "7889 \n",
      " [[  9.99693100e-01   1.11374214e-03  -2.47480185e-02  -2.11662108e-02]\n",
      " [ -1.12111369e-03   9.99999331e-01  -2.83991554e-04   1.39129759e-02]\n",
      " [  2.47476857e-02   3.11649740e-04   9.99693681e-01  -5.52061068e-01]\n",
      " [  0.00000000e+00   0.00000000e+00   0.00000000e+00   1.00000000e+00]]\n"
     ]
    },
    {
     "name": "stderr",
     "output_type": "stream",
     "text": [
      "\r",
      "                                                                               \r",
      "\r",
      " 11% (123 of 1101) |##                    | Elapsed Time: 0:01:40 ETA:  0:11:36"
     ]
    },
    {
     "name": "stdout",
     "output_type": "stream",
     "text": [
      "connected mappoints  121\n",
      "7890 \n",
      " [[  9.99587829e-01   2.17884680e-03  -2.86256086e-02  -2.25949180e-02]\n",
      " [ -2.16489258e-03   9.99997522e-01   5.18456554e-04   1.03014622e-02]\n",
      " [  2.86266673e-02  -4.56271494e-04   9.99590069e-01  -5.23348958e-01]\n",
      " [  0.00000000e+00   0.00000000e+00   0.00000000e+00   1.00000000e+00]]\n"
     ]
    },
    {
     "name": "stderr",
     "output_type": "stream",
     "text": [
      "\r",
      "                                                                               \r",
      "\r",
      " 11% (124 of 1101) |##                    | Elapsed Time: 0:01:40 ETA:  0:11:27"
     ]
    },
    {
     "name": "stdout",
     "output_type": "stream",
     "text": [
      "connected mappoints  118\n",
      "7891 \n",
      " [[  9.99441315e-01   2.22612107e-03  -3.33481899e-02  -2.55029277e-02]\n",
      " [ -2.22153613e-03   9.99997517e-01   1.74538630e-04   8.47494758e-03]\n",
      " [  3.33484956e-02  -1.00356909e-04   9.99443779e-01  -5.14036616e-01]\n",
      " [  0.00000000e+00   0.00000000e+00   0.00000000e+00   1.00000000e+00]]\n"
     ]
    },
    {
     "name": "stderr",
     "output_type": "stream",
     "text": [
      "\r",
      "                                                                               \r",
      "\r",
      " 11% (125 of 1101) |##                    | Elapsed Time: 0:01:41 ETA:  0:11:22"
     ]
    },
    {
     "name": "stdout",
     "output_type": "stream",
     "text": [
      "connected mappoints  119\n",
      "7892 \n",
      " [[  9.99303280e-01   1.81303579e-03  -3.72782482e-02  -2.32150246e-02]\n",
      " [ -1.82754648e-03   9.99998267e-01  -3.55181450e-04   1.05221939e-02]\n",
      " [  3.72775397e-02   4.23061720e-04   9.99304861e-01  -4.91370631e-01]\n",
      " [  0.00000000e+00   0.00000000e+00   0.00000000e+00   1.00000000e+00]]\n"
     ]
    },
    {
     "name": "stderr",
     "output_type": "stream",
     "text": [
      "\r",
      "                                                                               \r",
      "\r",
      " 11% (126 of 1101) |##                    | Elapsed Time: 0:01:42 ETA:  0:11:07"
     ]
    },
    {
     "name": "stdout",
     "output_type": "stream",
     "text": [
      "connected mappoints  101\n",
      "7893 \n",
      " [[  9.99162281e-01   1.57178902e-03  -4.08933451e-02  -1.97074908e-02]\n",
      " [ -1.55902071e-03   9.99998726e-01   3.44122606e-04   7.59478281e-03]\n",
      " [  4.08938339e-02  -2.80080756e-04   9.99163458e-01  -4.78306861e-01]\n",
      " [  0.00000000e+00   0.00000000e+00   0.00000000e+00   1.00000000e+00]]\n"
     ]
    },
    {
     "name": "stderr",
     "output_type": "stream",
     "text": [
      "\r",
      "                                                                               \r",
      "\r",
      " 11% (127 of 1101) |##                    | Elapsed Time: 0:01:42 ETA:  0:10:53"
     ]
    },
    {
     "name": "stdout",
     "output_type": "stream",
     "text": [
      "connected mappoints  86\n",
      "7894"
     ]
    },
    {
     "name": "stderr",
     "output_type": "stream",
     "text": [
      "\r",
      "                                                                               \r",
      "\r",
      " 11% (128 of 1101) |##                    | Elapsed Time: 0:01:43 ETA:  0:10:44"
     ]
    },
    {
     "name": "stdout",
     "output_type": "stream",
     "text": [
      " \n",
      " [[ 0.9989885   0.00277454 -0.04488082 -0.03375825]\n",
      " [-0.00284526  0.99999481 -0.00151203  0.01440412]\n",
      " [ 0.04487639  0.0016382   0.9989912  -0.48310345]\n",
      " [ 0.          0.          0.          1.        ]]\n",
      "connected mappoints  84\n",
      "7895 \n",
      " [[  9.98771787e-01   4.69385745e-03  -4.93242945e-02  -2.27378263e-02]\n",
      " [ -4.68331755e-03   9.99988979e-01   3.29255167e-04   1.31280471e-02]\n",
      " [  4.93252964e-02  -9.78494372e-05   9.98782762e-01  -4.66554121e-01]\n",
      " [  0.00000000e+00   0.00000000e+00   0.00000000e+00   1.00000000e+00]]\n"
     ]
    },
    {
     "name": "stderr",
     "output_type": "stream",
     "text": [
      "\r",
      "                                                                               \r",
      "\r",
      " 11% (129 of 1101) |##                    | Elapsed Time: 0:01:43 ETA:  0:10:36"
     ]
    },
    {
     "name": "stdout",
     "output_type": "stream",
     "text": [
      "connected mappoints  78\n",
      "7896 \n",
      " [[ 0.99861147  0.00920032 -0.05186985 -0.02737046]\n",
      " [-0.0090675   0.99995498  0.00279532  0.0088699 ]\n",
      " [ 0.05189323 -0.00232111  0.99864994 -0.45540893]\n",
      " [ 0.          0.          0.          1.        ]]\n"
     ]
    },
    {
     "name": "stderr",
     "output_type": "stream",
     "text": [
      "\r",
      "                                                                               \r",
      "\r",
      " 11% (130 of 1101) |##                    | Elapsed Time: 0:01:44 ETA:  0:10:34"
     ]
    },
    {
     "name": "stdout",
     "output_type": "stream",
     "text": [
      "connected mappoints  82\n",
      "7897 \n",
      " [[ 0.99848949  0.00679108 -0.05452165 -0.02312341]\n",
      " [-0.0066079   0.9999719   0.00353925  0.00600712]\n",
      " [ 0.05454416 -0.00317363  0.99850632 -0.44435386]\n",
      " [ 0.          0.          0.          1.        ]]\n"
     ]
    },
    {
     "name": "stderr",
     "output_type": "stream",
     "text": [
      "\r",
      "                                                                               \r",
      "\r",
      " 11% (131 of 1101) |##                    | Elapsed Time: 0:01:45 ETA:  0:10:33"
     ]
    },
    {
     "name": "stdout",
     "output_type": "stream",
     "text": [
      "connected mappoints  76\n",
      "7898 \n",
      " [[ 0.99835298  0.00680936 -0.05696457 -0.02107182]\n",
      " [-0.006692    0.99997508  0.00225068  0.01008075]\n",
      " [ 0.05697848 -0.00186577  0.99837366 -0.44303249]\n",
      " [ 0.          0.          0.          1.        ]]\n"
     ]
    },
    {
     "name": "stderr",
     "output_type": "stream",
     "text": [
      "\r",
      "                                                                               \r",
      "\r",
      " 11% (132 of 1101) |##                    | Elapsed Time: 0:01:46 ETA:  0:10:47"
     ]
    },
    {
     "name": "stdout",
     "output_type": "stream",
     "text": [
      "connected mappoints  72\n",
      "7899 \n",
      " [[  9.98326686e-01   7.89091328e-04  -5.78204528e-02  -5.25504161e-03]\n",
      " [ -7.86228416e-04   9.99999688e-01   7.22628926e-05   3.05850199e-03]\n",
      " [  5.78204918e-02  -2.66818911e-05   9.98326996e-01  -4.52072900e-01]\n",
      " [  0.00000000e+00   0.00000000e+00   0.00000000e+00   1.00000000e+00]]\n"
     ]
    },
    {
     "name": "stderr",
     "output_type": "stream",
     "text": [
      "\r",
      "                                                                               \r",
      "\r",
      " 12% (133 of 1101) |##                    | Elapsed Time: 0:01:47 ETA:  0:11:13"
     ]
    },
    {
     "name": "stdout",
     "output_type": "stream",
     "text": [
      "connected mappoints  43\n",
      "7900 \n",
      " [[  9.98450509e-01   3.06917461e-03  -5.55622308e-02  -1.35849180e-02]\n",
      " [ -3.07999387e-03   9.99995251e-01  -1.09092319e-04   5.63020788e-03]\n",
      " [  5.55616321e-02   2.80054611e-04   9.98455220e-01  -4.48768019e-01]\n",
      " [  0.00000000e+00   0.00000000e+00   0.00000000e+00   1.00000000e+00]]\n"
     ]
    },
    {
     "name": "stderr",
     "output_type": "stream",
     "text": [
      "\r",
      "                                                                               \r",
      "\r",
      " 12% (134 of 1101) |##                    | Elapsed Time: 0:01:48 ETA:  0:11:50"
     ]
    },
    {
     "name": "stdout",
     "output_type": "stream",
     "text": [
      "connected mappoints  90\n",
      "7901 \n",
      " [[  9.98535153e-01   9.26513613e-03  -5.33076511e-02  -2.83141224e-02]\n",
      " [ -9.31494641e-03   9.99956380e-01  -6.86007549e-04   1.07657560e-02]\n",
      " [  5.32989699e-02   1.18156057e-03   9.98577901e-01  -4.52820249e-01]\n",
      " [  0.00000000e+00   0.00000000e+00   0.00000000e+00   1.00000000e+00]]\n"
     ]
    },
    {
     "name": "stderr",
     "output_type": "stream",
     "text": [
      "\r",
      "                                                                               \r",
      "\r",
      " 12% (135 of 1101) |##                    | Elapsed Time: 0:01:49 ETA:  0:12:27"
     ]
    },
    {
     "name": "stdout",
     "output_type": "stream",
     "text": [
      "connected mappoints  107\n",
      "7902 \n",
      " [[  9.98504322e-01   1.20067253e-02  -5.33381373e-02  -4.07620957e-02]\n",
      " [ -1.20516361e-02   9.99927241e-01  -5.20435532e-04   1.67535685e-02]\n",
      " [  5.33280077e-02   1.16246895e-03   9.98576373e-01  -4.43964811e-01]\n",
      " [  0.00000000e+00   0.00000000e+00   0.00000000e+00   1.00000000e+00]]\n"
     ]
    },
    {
     "name": "stderr",
     "output_type": "stream",
     "text": [
      "\r",
      "                                                                               \r",
      "\r",
      " 12% (136 of 1101) |##                    | Elapsed Time: 0:01:50 ETA:  0:13:16"
     ]
    },
    {
     "name": "stdout",
     "output_type": "stream",
     "text": [
      "connected mappoints  97\n",
      "7903 \n",
      " [[ 0.99851225  0.0030787  -0.05444085 -0.02221829]\n",
      " [-0.00285276  0.999987    0.00422736  0.01065163]\n",
      " [ 0.05445316 -0.00406576  0.99850805 -0.44166794]\n",
      " [ 0.          0.          0.          1.        ]]\n"
     ]
    },
    {
     "name": "stderr",
     "output_type": "stream",
     "text": [
      "\r",
      "                                                                               \r",
      "\r",
      " 12% (137 of 1101) |##                    | Elapsed Time: 0:01:51 ETA:  0:14:00"
     ]
    },
    {
     "name": "stdout",
     "output_type": "stream",
     "text": [
      "connected mappoints  89\n",
      "7904 \n",
      " [[ 0.99845552 -0.00195497 -0.0555226  -0.01149476]\n",
      " [ 0.00239753  0.99996588  0.00790533  0.0069224 ]\n",
      " [ 0.05550525 -0.00802624  0.99842613 -0.44311186]\n",
      " [ 0.          0.          0.          1.        ]]\n"
     ]
    },
    {
     "name": "stderr",
     "output_type": "stream",
     "text": [
      "\r",
      "                                                                               \r",
      "\r",
      " 12% (138 of 1101) |##                    | Elapsed Time: 0:01:52 ETA:  0:14:46"
     ]
    },
    {
     "name": "stdout",
     "output_type": "stream",
     "text": [
      "connected mappoints  84\n",
      "7905 \n",
      " [[ 0.99836171 -0.00241985 -0.05716677 -0.01362241]\n",
      " [ 0.00312378  0.99992036  0.0122275  -0.00302844]\n",
      " [ 0.05713263 -0.01238604  0.99828976 -0.4515394 ]\n",
      " [ 0.          0.          0.          1.        ]]\n"
     ]
    },
    {
     "name": "stderr",
     "output_type": "stream",
     "text": [
      "\r",
      "                                                                               \r",
      "\r",
      " 12% (139 of 1101) |##                    | Elapsed Time: 0:01:53 ETA:  0:15:20"
     ]
    },
    {
     "name": "stdout",
     "output_type": "stream",
     "text": [
      "connected mappoints  89\n",
      "7906 \n",
      " [[ 0.99827184 -0.00430929 -0.05860685 -0.01602663]\n",
      " [ 0.00484976  0.99994699  0.00908293 -0.00537047]\n",
      " [ 0.0585646  -0.00935146  0.99823982 -0.45857838]\n",
      " [ 0.          0.          0.          1.        ]]\n"
     ]
    },
    {
     "name": "stderr",
     "output_type": "stream",
     "text": [
      "\r",
      "                                                                               \r",
      "\r",
      " 12% (140 of 1101) |##                    | Elapsed Time: 0:01:54 ETA:  0:15:43"
     ]
    },
    {
     "name": "stdout",
     "output_type": "stream",
     "text": [
      "connected mappoints  89\n",
      "7907 \n",
      " [[  9.98262200e-01  -9.64249610e-04  -5.89207089e-02  -2.44117908e-02]\n",
      " [  1.16597934e-03   9.99993576e-01   3.38946513e-03   1.15139665e-03]\n",
      " [  5.89170621e-02  -3.45227525e-03   9.98256912e-01  -4.69160581e-01]\n",
      " [  0.00000000e+00   0.00000000e+00   0.00000000e+00   1.00000000e+00]]\n"
     ]
    },
    {
     "name": "stderr",
     "output_type": "stream",
     "text": [
      "\r",
      "                                                                               \r",
      "\r",
      " 12% (141 of 1101) |##                    | Elapsed Time: 0:01:55 ETA:  0:15:54"
     ]
    },
    {
     "name": "stdout",
     "output_type": "stream",
     "text": [
      "connected mappoints  98\n",
      "7908 \n",
      " [[  9.98259826e-01  -6.97292064e-04  -5.89646790e-02  -1.71986965e-02]\n",
      " [  8.22287782e-04   9.99997466e-01   2.09560304e-03   3.50499609e-03]\n",
      " [  5.89630683e-02  -2.14044227e-03   9.98257870e-01  -5.00457992e-01]\n",
      " [  0.00000000e+00   0.00000000e+00   0.00000000e+00   1.00000000e+00]]\n"
     ]
    },
    {
     "name": "stderr",
     "output_type": "stream",
     "text": [
      "\r",
      "                                                                               \r",
      "\r",
      " 12% (142 of 1101) |##                    | Elapsed Time: 0:01:56 ETA:  0:15:54"
     ]
    },
    {
     "name": "stdout",
     "output_type": "stream",
     "text": [
      "connected mappoints  98\n",
      "7909 \n",
      " [[  9.98326709e-01  -3.66276496e-03  -5.77093169e-02  -1.18630399e-02]\n",
      " [  3.83687161e-03   9.99988415e-01   2.90644383e-03   2.97429054e-04]\n",
      " [  5.76980028e-02  -3.12300375e-03   9.98329198e-01  -5.24929638e-01]\n",
      " [  0.00000000e+00   0.00000000e+00   0.00000000e+00   1.00000000e+00]]\n"
     ]
    },
    {
     "name": "stderr",
     "output_type": "stream",
     "text": [
      "\r",
      "                                                                               \r",
      "\r",
      " 12% (143 of 1101) |##                    | Elapsed Time: 0:01:56 ETA:  0:15:40"
     ]
    },
    {
     "name": "stdout",
     "output_type": "stream",
     "text": [
      "connected mappoints  103\n",
      "7910 \n",
      " [[ 0.99852973 -0.00162809 -0.05418231 -0.01109068]\n",
      " [ 0.0015644   0.99999803 -0.00121787  0.01092336]\n",
      " [ 0.05418418  0.00113131  0.99853032 -0.54030145]\n",
      " [ 0.          0.          0.          1.        ]]\n"
     ]
    },
    {
     "name": "stderr",
     "output_type": "stream",
     "text": [
      "\r",
      "                                                                               \r",
      "\r",
      " 13% (144 of 1101) |##                    | Elapsed Time: 0:01:57 ETA:  0:15:12"
     ]
    },
    {
     "name": "stdout",
     "output_type": "stream",
     "text": [
      "connected mappoints  94\n",
      "7911 \n",
      " [[  9.98785006e-01  -6.21890736e-03  -4.88859673e-02  -2.98730852e-03]\n",
      " [  6.19281695e-03   9.99980590e-01  -6.85144189e-04   2.46706244e-03]\n",
      " [  4.88892793e-02   3.81569896e-04   9.98804131e-01  -5.60463495e-01]\n",
      " [  0.00000000e+00   0.00000000e+00   0.00000000e+00   1.00000000e+00]]\n"
     ]
    },
    {
     "name": "stderr",
     "output_type": "stream",
     "text": [
      "\r",
      "                                                                               \r",
      "\r",
      " 13% (145 of 1101) |##                    | Elapsed Time: 0:01:58 ETA:  0:14:40"
     ]
    },
    {
     "name": "stdout",
     "output_type": "stream",
     "text": [
      "connected mappoints  79\n",
      "7912 \n",
      " [[ 0.99897679 -0.00522984 -0.04492244  0.00582767]\n",
      " [ 0.00530232  0.99998483  0.00149444  0.00513712]\n",
      " [ 0.04491394 -0.0017311   0.99898936 -0.58209578]\n",
      " [ 0.          0.          0.          1.        ]]\n"
     ]
    },
    {
     "name": "stderr",
     "output_type": "stream",
     "text": [
      "\r",
      "                                                                               \r",
      "\r",
      " 13% (146 of 1101) |##                    | Elapsed Time: 0:01:59 ETA:  0:14:08"
     ]
    },
    {
     "name": "stdout",
     "output_type": "stream",
     "text": [
      "connected mappoints  80\n",
      "7913 \n",
      " [[ 0.99924138 -0.00545396 -0.03856052 -0.00501395]\n",
      " [ 0.00538263  0.99998361 -0.00195332  0.00827946]\n",
      " [ 0.03857054  0.00174428  0.99925436 -0.55986102]\n",
      " [ 0.          0.          0.          1.        ]]\n"
     ]
    },
    {
     "name": "stderr",
     "output_type": "stream",
     "text": [
      "\r",
      "                                                                               \r",
      "\r",
      " 13% (147 of 1101) |##                    | Elapsed Time: 0:01:59 ETA:  0:13:33"
     ]
    },
    {
     "name": "stdout",
     "output_type": "stream",
     "text": [
      "connected mappoints  79\n",
      "7914 \n",
      " [[  9.99502979e-01   1.09731993e-04  -3.15243270e-02   8.05163862e-04]\n",
      " [ -1.72787969e-04   9.99997990e-01  -1.99751504e-03   5.87322576e-03]\n",
      " [  3.15240445e-02   2.00196926e-03   9.99500989e-01  -6.14347656e-01]\n",
      " [  0.00000000e+00   0.00000000e+00   0.00000000e+00   1.00000000e+00]]\n"
     ]
    },
    {
     "name": "stderr",
     "output_type": "stream",
     "text": [
      "\r",
      "                                                                               \r",
      "\r",
      " 13% (148 of 1101) |##                    | Elapsed Time: 0:02:00 ETA:  0:13:02"
     ]
    },
    {
     "name": "stdout",
     "output_type": "stream",
     "text": [
      "connected mappoints  100\n",
      "7915 \n",
      " [[  9.99675889e-01   9.54276838e-04  -2.54402491e-02  -2.17596669e-03]\n",
      " [ -9.96219121e-04   9.99998165e-01  -1.63603540e-03   1.03334437e-02]\n",
      " [  2.54386412e-02   1.66084921e-03   9.99675006e-01  -6.16965150e-01]\n",
      " [  0.00000000e+00   0.00000000e+00   0.00000000e+00   1.00000000e+00]]\n"
     ]
    },
    {
     "name": "stderr",
     "output_type": "stream",
     "text": [
      "\r",
      "                                                                               \r",
      "\r",
      " 13% (149 of 1101) |##                    | Elapsed Time: 0:02:01 ETA:  0:12:35"
     ]
    },
    {
     "name": "stdout",
     "output_type": "stream",
     "text": [
      "connected mappoints  99\n",
      "7916 \n",
      " [[  9.99767488e-01   4.58867394e-04  -2.15582655e-02  -4.46720122e-03]\n",
      " [ -5.04050004e-04   9.99997688e-01  -2.09044988e-03   8.14447287e-03]\n",
      " [  2.15572565e-02   2.10083027e-03   9.99765408e-01  -6.30545538e-01]\n",
      " [  0.00000000e+00   0.00000000e+00   0.00000000e+00   1.00000000e+00]]\n"
     ]
    },
    {
     "name": "stderr",
     "output_type": "stream",
     "text": [
      "\r",
      "                                                                               \r",
      "\r",
      " 13% (150 of 1101) |##                    | Elapsed Time: 0:02:02 ETA:  0:12:25"
     ]
    },
    {
     "name": "stdout",
     "output_type": "stream",
     "text": [
      "connected mappoints  95\n",
      "7917 \n",
      " [[ 0.99982307 -0.00204884 -0.01869857  0.00338596]\n",
      " [ 0.00199806  0.99999427 -0.00273352  0.01081883]\n",
      " [ 0.01870407  0.00269567  0.99982143 -0.64538117]\n",
      " [ 0.          0.          0.          1.        ]]\n"
     ]
    },
    {
     "name": "stderr",
     "output_type": "stream",
     "text": [
      "\r",
      "                                                                               \r",
      "\r",
      " 13% (151 of 1101) |###                   | Elapsed Time: 0:02:03 ETA:  0:12:30"
     ]
    },
    {
     "name": "stdout",
     "output_type": "stream",
     "text": [
      "connected mappoints  123\n",
      "7918 \n",
      " [[ 0.99986945 -0.00429563 -0.01557631  0.00800628]\n",
      " [ 0.00427047  0.99998952 -0.00164861  0.00730915]\n",
      " [ 0.01558323  0.00158187  0.99987732 -0.66202138]\n",
      " [ 0.          0.          0.          1.        ]]\n"
     ]
    },
    {
     "name": "stderr",
     "output_type": "stream",
     "text": [
      "\r",
      "                                                                               \r",
      "\r",
      " 13% (152 of 1101) |###                   | Elapsed Time: 0:02:04 ETA:  0:12:40"
     ]
    },
    {
     "name": "stdout",
     "output_type": "stream",
     "text": [
      "connected mappoints  127\n",
      "7919 \n",
      " [[ 0.99989758 -0.0036247  -0.01384555  0.02488982]\n",
      " [ 0.00360655  0.9999926  -0.00133585  0.00901961]\n",
      " [ 0.01385029  0.00128578  0.99990325 -0.69738651]\n",
      " [ 0.          0.          0.          1.        ]]\n"
     ]
    },
    {
     "name": "stderr",
     "output_type": "stream",
     "text": [
      "\r",
      "                                                                               \r",
      "\r",
      " 13% (153 of 1101) |###                   | Elapsed Time: 0:02:05 ETA:  0:13:03"
     ]
    },
    {
     "name": "stdout",
     "output_type": "stream",
     "text": [
      "connected mappoints  141\n",
      "7920 \n",
      " [[  9.99908211e-01   1.38849742e-03  -1.34774148e-02   1.35088724e-02]\n",
      " [ -1.38436761e-03   9.99998992e-01   3.15749284e-04   6.31008419e-03]\n",
      " [  1.34778396e-02  -2.97062606e-04   9.99909126e-01  -7.02376212e-01]\n",
      " [  0.00000000e+00   0.00000000e+00   0.00000000e+00   1.00000000e+00]]\n"
     ]
    },
    {
     "name": "stderr",
     "output_type": "stream",
     "text": [
      "\r",
      "                                                                               \r",
      "\r",
      " 13% (154 of 1101) |###                   | Elapsed Time: 0:02:06 ETA:  0:13:25"
     ]
    },
    {
     "name": "stdout",
     "output_type": "stream",
     "text": [
      "connected mappoints  132\n",
      "7921 \n",
      " [[  9.99902700e-01   2.26648096e-04  -1.39477428e-02   9.67950505e-03]\n",
      " [ -2.21367349e-04   9.99999903e-01   3.80152112e-04   6.32606103e-03]\n",
      " [  1.39478276e-02  -3.77027549e-04   9.99902653e-01  -7.10524335e-01]\n",
      " [  0.00000000e+00   0.00000000e+00   0.00000000e+00   1.00000000e+00]]\n"
     ]
    },
    {
     "name": "stderr",
     "output_type": "stream",
     "text": [
      "\r",
      "                                                                               \r",
      "\r",
      " 14% (155 of 1101) |###                   | Elapsed Time: 0:02:07 ETA:  0:13:50"
     ]
    },
    {
     "name": "stdout",
     "output_type": "stream",
     "text": [
      "connected mappoints  126\n",
      "7922 \n",
      " [[  9.99890385e-01  -1.05354818e-03  -1.47684803e-02   1.08967307e-02]\n",
      " [  1.04014665e-03   9.99999040e-01  -9.15093225e-04   1.18022084e-02]\n",
      " [  1.47694302e-02   8.99631531e-04   9.99890521e-01  -7.26964227e-01]\n",
      " [  0.00000000e+00   0.00000000e+00   0.00000000e+00   1.00000000e+00]]\n"
     ]
    },
    {
     "name": "stderr",
     "output_type": "stream",
     "text": [
      "\r",
      "                                                                               \r",
      "\r",
      " 14% (156 of 1101) |###                   | Elapsed Time: 0:02:08 ETA:  0:14:12"
     ]
    },
    {
     "name": "stdout",
     "output_type": "stream",
     "text": [
      "connected mappoints  123\n",
      "7923 \n",
      " [[  9.99899085e-01  -1.84249586e-03  -1.40863297e-02   8.49020693e-03]\n",
      " [  1.83165043e-03   9.99998016e-01  -7.82788434e-04   1.18606047e-02]\n",
      " [  1.40877440e-02   7.56908207e-04   9.99900476e-01  -7.32577359e-01]\n",
      " [  0.00000000e+00   0.00000000e+00   0.00000000e+00   1.00000000e+00]]\n"
     ]
    },
    {
     "name": "stderr",
     "output_type": "stream",
     "text": [
      "\r",
      "                                                                               \r",
      "\r",
      " 14% (157 of 1101) |###                   | Elapsed Time: 0:02:09 ETA:  0:14:45"
     ]
    },
    {
     "name": "stdout",
     "output_type": "stream",
     "text": [
      "connected mappoints  128\n",
      "7924 \n",
      " [[  9.99918498e-01  -8.44713322e-04  -1.27390799e-02   1.14957010e-02]\n",
      " [  8.76774116e-04   9.99996462e-01   2.51135276e-03   1.51462876e-02]\n",
      " [  1.27369135e-02  -2.52231738e-03   9.99915701e-01  -7.47125228e-01]\n",
      " [  0.00000000e+00   0.00000000e+00   0.00000000e+00   1.00000000e+00]]\n"
     ]
    },
    {
     "name": "stderr",
     "output_type": "stream",
     "text": [
      "\r",
      "                                                                               \r",
      "\r",
      " 14% (158 of 1101) |###                   | Elapsed Time: 0:02:10 ETA:  0:14:58"
     ]
    },
    {
     "name": "stdout",
     "output_type": "stream",
     "text": [
      "connected mappoints  115\n",
      "7925 \n",
      " [[ 0.9999388  -0.00103817 -0.01101489  0.00560009]\n",
      " [ 0.00109333  0.99998689  0.00500316  0.00979259]\n",
      " [ 0.01100955 -0.0050149   0.99992682 -0.74122154]\n",
      " [ 0.          0.          0.          1.        ]]\n"
     ]
    },
    {
     "name": "stderr",
     "output_type": "stream",
     "text": [
      "\r",
      "                                                                               \r",
      "\r",
      " 14% (159 of 1101) |###                   | Elapsed Time: 0:02:11 ETA:  0:15:20"
     ]
    },
    {
     "name": "stdout",
     "output_type": "stream",
     "text": [
      "connected mappoints  118\n",
      "7926 \n",
      " [[  9.99952139e-01   1.66816531e-03  -9.64039605e-03   8.63397291e-03]\n",
      " [ -1.61042331e-03   9.99980738e-01   5.99425064e-03  -5.56962158e-04]\n",
      " [  9.65020976e-03  -5.97843863e-03   9.99935564e-01  -7.71053100e-01]\n",
      " [  0.00000000e+00   0.00000000e+00   0.00000000e+00   1.00000000e+00]]\n"
     ]
    },
    {
     "name": "stderr",
     "output_type": "stream",
     "text": [
      "\r",
      "                                                                               \r",
      "\r",
      " 14% (160 of 1101) |###                   | Elapsed Time: 0:02:12 ETA:  0:15:26"
     ]
    },
    {
     "name": "stdout",
     "output_type": "stream",
     "text": [
      "connected mappoints  112\n",
      "7927 \n",
      " [[  9.99966723e-01   8.05599566e-04  -8.11818277e-03   1.30649689e-02]\n",
      " [ -8.03286133e-04   9.99999636e-01   2.88225929e-04  -3.80724371e-03]\n",
      " [  8.11841201e-03  -2.81695113e-04   9.99967005e-01  -7.90653290e-01]\n",
      " [  0.00000000e+00   0.00000000e+00   0.00000000e+00   1.00000000e+00]]\n"
     ]
    },
    {
     "name": "stderr",
     "output_type": "stream",
     "text": [
      "\r",
      "                                                                               \r",
      "\r",
      " 14% (161 of 1101) |###                   | Elapsed Time: 0:02:12 ETA:  0:15:23"
     ]
    },
    {
     "name": "stdout",
     "output_type": "stream",
     "text": [
      "connected mappoints  114\n",
      "7928 \n",
      " [[ 0.99997641 -0.00169932 -0.00665502  0.0125148 ]\n",
      " [ 0.00165858  0.99997988 -0.00612288  0.01456576]\n",
      " [ 0.00666529  0.0061117   0.99995911 -0.77772099]\n",
      " [ 0.          0.          0.          1.        ]]\n"
     ]
    },
    {
     "name": "stderr",
     "output_type": "stream",
     "text": [
      "\r",
      "                                                                               \r",
      "\r",
      " 14% (162 of 1101) |###                   | Elapsed Time: 0:02:13 ETA:  0:15:14"
     ]
    },
    {
     "name": "stdout",
     "output_type": "stream",
     "text": [
      "connected mappoints  124\n",
      "7929 \n",
      " [[ 0.99998275 -0.00351282 -0.00470798  0.01124921]\n",
      " [ 0.00347462  0.99996119 -0.00809558  0.02151298]\n",
      " [ 0.00473623  0.00807908  0.99995615 -0.78909406]\n",
      " [ 0.          0.          0.          1.        ]]\n"
     ]
    },
    {
     "name": "stderr",
     "output_type": "stream",
     "text": [
      "\r",
      "                                                                               \r",
      "\r",
      " 14% (163 of 1101) |###                   | Elapsed Time: 0:02:14 ETA:  0:14:58"
     ]
    },
    {
     "name": "stdout",
     "output_type": "stream",
     "text": [
      "connected mappoints  115\n",
      "7930 \n",
      " [[  9.99990669e-01  -5.20884779e-04  -4.28845162e-03   1.42080085e-02]\n",
      " [  5.04996405e-04   9.99993008e-01  -3.70517056e-03   2.21527679e-02]\n",
      " [  4.29035160e-03   3.70297033e-03   9.99983940e-01  -7.85580309e-01]\n",
      " [  0.00000000e+00   0.00000000e+00   0.00000000e+00   1.00000000e+00]]\n"
     ]
    },
    {
     "name": "stderr",
     "output_type": "stream",
     "text": [
      "\r",
      "                                                                               \r",
      "\r",
      " 14% (164 of 1101) |###                   | Elapsed Time: 0:02:15 ETA:  0:14:45"
     ]
    },
    {
     "name": "stdout",
     "output_type": "stream",
     "text": [
      "connected mappoints  132\n",
      "7931 \n",
      " [[ 0.99999433  0.00169229 -0.00291172 -0.00731967]\n",
      " [-0.00168929  0.99999804  0.0010297   0.01576549]\n",
      " [ 0.00291346 -0.00102478  0.99999523 -0.76251283]\n",
      " [ 0.          0.          0.          1.        ]]\n"
     ]
    },
    {
     "name": "stderr",
     "output_type": "stream",
     "text": [
      "\r",
      "                                                                               \r",
      "\r",
      " 14% (165 of 1101) |###                   | Elapsed Time: 0:02:16 ETA:  0:14:46"
     ]
    },
    {
     "name": "stdout",
     "output_type": "stream",
     "text": [
      "connected mappoints  150\n",
      "7932 \n",
      " [[  9.99995181e-01   3.24974418e-04  -3.08751748e-03   1.20832736e-02]\n",
      " [ -3.22547326e-04   9.99999639e-01   7.86563737e-04   1.53958521e-02]\n",
      " [  3.08777197e-03  -7.85564076e-04   9.99994924e-01  -7.85351180e-01]\n",
      " [  0.00000000e+00   0.00000000e+00   0.00000000e+00   1.00000000e+00]]\n"
     ]
    },
    {
     "name": "stderr",
     "output_type": "stream",
     "text": [
      "\r",
      "                                                                               \r",
      "\r",
      " 15% (166 of 1101) |###                   | Elapsed Time: 0:02:17 ETA:  0:14:53"
     ]
    },
    {
     "name": "stdout",
     "output_type": "stream",
     "text": [
      "connected mappoints  136\n",
      "7933 \n",
      " [[ 0.9999933   0.00221576 -0.00291427  0.01178078]\n",
      " [-0.00222204  0.99999521 -0.0021533   0.01287307]\n",
      " [ 0.00290948  0.00215976  0.99999344 -0.78903435]\n",
      " [ 0.          0.          0.          1.        ]]\n"
     ]
    },
    {
     "name": "stderr",
     "output_type": "stream",
     "text": [
      "\r",
      "                                                                               \r",
      "\r",
      " 15% (167 of 1101) |###                   | Elapsed Time: 0:02:18 ETA:  0:14:55"
     ]
    },
    {
     "name": "stdout",
     "output_type": "stream",
     "text": [
      "connected mappoints  155\n",
      "7934 \n",
      " [[ 0.99999512  0.00215806 -0.00225864  0.00111723]\n",
      " [-0.00216351  0.99999475 -0.00241411  0.01895719]\n",
      " [ 0.00225342  0.00241898  0.99999454 -0.77990972]\n",
      " [ 0.          0.          0.          1.        ]]\n"
     ]
    },
    {
     "name": "stderr",
     "output_type": "stream",
     "text": [
      "\r",
      "                                                                               \r",
      "\r",
      " 15% (168 of 1101) |###                   | Elapsed Time: 0:02:19 ETA:  0:15:06"
     ]
    },
    {
     "name": "stdout",
     "output_type": "stream",
     "text": [
      "connected mappoints  127\n",
      "7935 \n",
      " [[ 0.99999386  0.00197913 -0.00289289  0.00771988]\n",
      " [-0.00198383  0.99999672 -0.00162071  0.02267934]\n",
      " [ 0.00288967  0.00162644  0.9999945  -0.79043795]\n",
      " [ 0.          0.          0.          1.        ]]\n"
     ]
    },
    {
     "name": "stderr",
     "output_type": "stream",
     "text": [
      "\r",
      "                                                                               \r",
      "\r",
      " 15% (169 of 1101) |###                   | Elapsed Time: 0:02:21 ETA:  0:15:23"
     ]
    },
    {
     "name": "stdout",
     "output_type": "stream",
     "text": [
      "connected mappoints  93\n",
      "7936 \n",
      " [[  9.99997036e-01   3.97242688e-04  -2.40223171e-03   2.63206577e-03]\n",
      " [ -3.89052110e-04   9.99994113e-01   3.40907688e-03   1.95031902e-02]\n",
      " [  2.40357180e-03  -3.40813218e-03   9.99991304e-01  -7.74599576e-01]\n",
      " [  0.00000000e+00   0.00000000e+00   0.00000000e+00   1.00000000e+00]]\n"
     ]
    },
    {
     "name": "stderr",
     "output_type": "stream",
     "text": [
      "\r",
      "                                                                               \r",
      "\r",
      " 15% (170 of 1101) |###                   | Elapsed Time: 0:02:22 ETA:  0:15:24"
     ]
    },
    {
     "name": "stdout",
     "output_type": "stream",
     "text": [
      "connected mappoints  89\n",
      "7937 \n",
      " [[ 0.99999394 -0.00303288 -0.00171022  0.0146128 ]\n",
      " [ 0.00304538  0.99996833  0.00735327  0.00877759]\n",
      " [ 0.00168787 -0.00735843  0.9999715  -0.76934448]\n",
      " [ 0.          0.          0.          1.        ]]\n"
     ]
    },
    {
     "name": "stderr",
     "output_type": "stream",
     "text": [
      "\r",
      "                                                                               \r",
      "\r",
      " 15% (171 of 1101) |###                   | Elapsed Time: 0:02:22 ETA:  0:15:22"
     ]
    },
    {
     "name": "stdout",
     "output_type": "stream",
     "text": [
      "connected mappoints  87\n",
      "7938 \n",
      " [[ 0.99999741 -0.0014085  -0.00178738  0.01360275]\n",
      " [ 0.00142167  0.99997168  0.00739099  0.01185998]\n",
      " [ 0.00177692 -0.00739351  0.99997109 -0.75726242]\n",
      " [ 0.          0.          0.          1.        ]]\n"
     ]
    },
    {
     "name": "stderr",
     "output_type": "stream",
     "text": [
      "\r",
      "                                                                               \r",
      "\r",
      " 15% (172 of 1101) |###                   | Elapsed Time: 0:02:23 ETA:  0:15:18"
     ]
    },
    {
     "name": "stdout",
     "output_type": "stream",
     "text": [
      "connected mappoints  97\n",
      "7939 \n",
      " [[ 0.99999756 -0.00162688 -0.00149587  0.01512167]\n",
      " [ 0.00163311  0.99998995  0.00417548  0.00732252]\n",
      " [ 0.00148906 -0.00417791  0.99999016 -0.776312  ]\n",
      " [ 0.          0.          0.          1.        ]]\n"
     ]
    },
    {
     "name": "stderr",
     "output_type": "stream",
     "text": [
      "\r",
      "                                                                               \r",
      "\r",
      " 15% (173 of 1101) |###                   | Elapsed Time: 0:02:24 ETA:  0:15:09"
     ]
    },
    {
     "name": "stdout",
     "output_type": "stream",
     "text": [
      "connected mappoints  81\n",
      "7940 \n",
      " [[ 0.99999648 -0.00171176 -0.00202602  0.01177712]\n",
      " [ 0.00170844  0.99999719 -0.00164315  0.01352262]\n",
      " [ 0.00202883  0.00163968  0.9999966  -0.77710494]\n",
      " [ 0.          0.          0.          1.        ]]\n"
     ]
    },
    {
     "name": "stderr",
     "output_type": "stream",
     "text": [
      "\r",
      "                                                                               \r",
      "\r",
      " 15% (174 of 1101) |###                   | Elapsed Time: 0:02:25 ETA:  0:14:52"
     ]
    },
    {
     "name": "stdout",
     "output_type": "stream",
     "text": [
      "connected mappoints  71\n",
      "7941 \n",
      " [[ 0.99999264 -0.00289519 -0.00251566  0.02490519]\n",
      " [ 0.00288496  0.9999876  -0.00405999  0.01836959]\n",
      " [ 0.00252738  0.00405271  0.99998859 -0.77742546]\n",
      " [ 0.          0.          0.          1.        ]]\n"
     ]
    },
    {
     "name": "stderr",
     "output_type": "stream",
     "text": [
      "\r",
      "                                                                               \r",
      "\r",
      " 15% (175 of 1101) |###                   | Elapsed Time: 0:02:26 ETA:  0:14:27"
     ]
    },
    {
     "name": "stdout",
     "output_type": "stream",
     "text": [
      "connected mappoints  54\n",
      "7942 \n",
      " [[ 0.9999914  -0.00349873 -0.00222528  0.01783963]\n",
      " [ 0.00348787  0.99998208 -0.00486503  0.01962047]\n",
      " [ 0.00224226  0.00485722  0.99998569 -0.77773016]\n",
      " [ 0.          0.          0.          1.        ]]\n"
     ]
    },
    {
     "name": "stderr",
     "output_type": "stream",
     "text": [
      "\r",
      "                                                                               \r",
      "\r",
      " 15% (176 of 1101) |###                   | Elapsed Time: 0:02:26 ETA:  0:13:53"
     ]
    },
    {
     "name": "stdout",
     "output_type": "stream",
     "text": [
      "connected mappoints  70\n",
      "7943 \n",
      " [[ 0.99999409  0.00201988 -0.00278138  0.02318883]\n",
      " [-0.00202536  0.99999601 -0.00196942  0.01578692]\n",
      " [ 0.00277739  0.00197505  0.99999419 -0.75288156]\n",
      " [ 0.          0.          0.          1.        ]]\n"
     ]
    },
    {
     "name": "stderr",
     "output_type": "stream",
     "text": [
      "\r",
      "                                                                               \r",
      "\r",
      " 16% (177 of 1101) |###                   | Elapsed Time: 0:02:27 ETA:  0:13:17"
     ]
    },
    {
     "name": "stdout",
     "output_type": "stream",
     "text": [
      "connected mappoints  55\n",
      "7944 \n",
      " [[  9.99994812e-01   3.07546831e-03  -9.57452357e-04   2.50625552e-03]\n",
      " [ -3.07537362e-03   9.99995266e-01   1.00354924e-04   1.53907046e-02]\n",
      " [  9.57756463e-04  -9.74098801e-05   9.99999537e-01  -7.62810770e-01]\n",
      " [  0.00000000e+00   0.00000000e+00   0.00000000e+00   1.00000000e+00]]\n"
     ]
    },
    {
     "name": "stderr",
     "output_type": "stream",
     "text": [
      "\r",
      "                                                                               \r",
      "\r",
      " 16% (178 of 1101) |###                   | Elapsed Time: 0:02:28 ETA:  0:12:44"
     ]
    },
    {
     "name": "stdout",
     "output_type": "stream",
     "text": [
      "connected mappoints  54\n",
      "7945 \n",
      " [[  9.99997667e-01   1.97551774e-03  -8.74058307e-04   6.08207171e-05]\n",
      " [ -1.97563320e-03   9.99998040e-01  -1.31255288e-04   1.80110916e-02]\n",
      " [  8.73797296e-04   1.32981800e-04   9.99999609e-01  -7.74229816e-01]\n",
      " [  0.00000000e+00   0.00000000e+00   0.00000000e+00   1.00000000e+00]]\n"
     ]
    },
    {
     "name": "stderr",
     "output_type": "stream",
     "text": [
      "\r",
      "                                                                               \r",
      "\r",
      " 16% (179 of 1101) |###                   | Elapsed Time: 0:02:28 ETA:  0:12:06"
     ]
    },
    {
     "name": "stdout",
     "output_type": "stream",
     "text": [
      "connected mappoints  40\n",
      "7946 \n",
      " [[  9.99998619e-01   1.55030383e-03  -5.98703734e-04  -3.45836452e-03]\n",
      " [ -1.54922404e-03   9.99997180e-01   1.79980749e-03   1.35756117e-02]\n",
      " [  6.01492294e-04  -1.79887748e-03   9.99998201e-01  -7.38607280e-01]\n",
      " [  0.00000000e+00   0.00000000e+00   0.00000000e+00   1.00000000e+00]]\n"
     ]
    },
    {
     "name": "stderr",
     "output_type": "stream",
     "text": [
      "\r",
      "                                                                               \r",
      "\r",
      " 16% (180 of 1101) |###                   | Elapsed Time: 0:02:29 ETA:  0:11:42"
     ]
    },
    {
     "name": "stdout",
     "output_type": "stream",
     "text": [
      "connected mappoints  64\n",
      "7947 \n",
      " [[  9.99998404e-01   1.65520679e-03  -6.72387252e-04   4.21831656e-03]\n",
      " [ -1.65426465e-03   9.99997653e-01   1.39933043e-03   9.40380988e-03]\n",
      " [  6.74701855e-04  -1.39821589e-03   9.99998795e-01  -7.61852063e-01]\n",
      " [  0.00000000e+00   0.00000000e+00   0.00000000e+00   1.00000000e+00]]\n"
     ]
    },
    {
     "name": "stderr",
     "output_type": "stream",
     "text": [
      "\r",
      "                                                                               \r",
      "\r",
      " 16% (181 of 1101) |###                   | Elapsed Time: 0:02:30 ETA:  0:11:18"
     ]
    },
    {
     "name": "stdout",
     "output_type": "stream",
     "text": [
      "connected mappoints  70\n",
      "7948 \n",
      " [[  9.99999711e-01   1.90711284e-04  -7.36422529e-04   6.15316608e-03]\n",
      " [ -1.90814099e-04   9.99999972e-01  -1.39546660e-04   1.74779699e-02]\n",
      " [  7.36395895e-04   1.39687139e-04   9.99999719e-01  -7.72055172e-01]\n",
      " [  0.00000000e+00   0.00000000e+00   0.00000000e+00   1.00000000e+00]]\n"
     ]
    },
    {
     "name": "stderr",
     "output_type": "stream",
     "text": [
      "\r",
      "                                                                               \r",
      "\r",
      " 16% (182 of 1101) |###                   | Elapsed Time: 0:02:30 ETA:  0:10:50"
     ]
    },
    {
     "name": "stdout",
     "output_type": "stream",
     "text": [
      "connected mappoints  66\n",
      "7949 \n",
      " [[  9.99995211e-01  -2.95441526e-03  -9.21199420e-04   1.70443895e-02]\n",
      " [  2.95345536e-03   9.99995096e-01  -1.04163201e-03   1.41576208e-02]\n",
      " [  9.24272316e-04   1.03890630e-03   9.99999033e-01  -7.83359099e-01]\n",
      " [  0.00000000e+00   0.00000000e+00   0.00000000e+00   1.00000000e+00]]\n"
     ]
    },
    {
     "name": "stderr",
     "output_type": "stream",
     "text": [
      "\r",
      "                                                                               \r",
      "\r",
      " 16% (183 of 1101) |###                   | Elapsed Time: 0:02:31 ETA:  0:10:18"
     ]
    },
    {
     "name": "stdout",
     "output_type": "stream",
     "text": [
      "connected mappoints  68\n",
      "7950 \n",
      " [[  9.99999857e-01   5.34320881e-04   1.14004148e-05   1.64628760e-02]\n",
      " [ -5.34331620e-04   9.99999393e-01   9.63738179e-04   1.19927273e-02]\n",
      " [ -1.08854624e-05  -9.63744133e-04   9.99999536e-01  -7.92573553e-01]\n",
      " [  0.00000000e+00   0.00000000e+00   0.00000000e+00   1.00000000e+00]]\n"
     ]
    },
    {
     "name": "stderr",
     "output_type": "stream",
     "text": [
      "\r",
      "                                                                               \r",
      "\r",
      " 16% (184 of 1101) |###                   | Elapsed Time: 0:02:31 ETA:  0:09:46"
     ]
    },
    {
     "name": "stdout",
     "output_type": "stream",
     "text": [
      "connected mappoints  58\n",
      "7951 \n",
      " [[  9.99998147e-01   1.01590822e-03   1.63526804e-03   1.11418220e-02]\n",
      " [ -1.01612009e-03   9.99999475e-01   1.28739611e-04   1.11740876e-02]\n",
      " [ -1.63513640e-03  -1.30401001e-04   9.99998655e-01  -7.89947507e-01]\n",
      " [  0.00000000e+00   0.00000000e+00   0.00000000e+00   1.00000000e+00]]\n"
     ]
    },
    {
     "name": "stderr",
     "output_type": "stream",
     "text": [
      "\r",
      "                                                                               \r",
      "\r",
      " 16% (185 of 1101) |###                   | Elapsed Time: 0:02:32 ETA:  0:09:09"
     ]
    },
    {
     "name": "stdout",
     "output_type": "stream",
     "text": [
      "connected mappoints  62\n",
      "7952 \n",
      " [[ 0.99999616  0.00253269  0.00112388 -0.02533914]\n",
      " [-0.00253147  0.99999621 -0.00108203 -0.00985633]\n",
      " [-0.00112662  0.00107918  0.99999878 -0.34973861]\n",
      " [ 0.          0.          0.          1.        ]]\n"
     ]
    },
    {
     "name": "stderr",
     "output_type": "stream",
     "text": [
      "\r",
      "                                                                               \r",
      "\r",
      " 16% (186 of 1101) |###                   | Elapsed Time: 0:02:32 ETA:  0:08:34"
     ]
    },
    {
     "name": "stdout",
     "output_type": "stream",
     "text": [
      "connected mappoints  48\n",
      "7953 \n",
      " [[  9.99994889e-01  -7.77439021e-04   3.10108727e-03   4.26605156e-03]\n",
      " [  7.76556693e-04   9.99999658e-01   2.85716010e-04   8.35745786e-03]\n",
      " [ -3.10130834e-03  -2.83306380e-04   9.99995151e-01  -7.74430054e-01]\n",
      " [  0.00000000e+00   0.00000000e+00   0.00000000e+00   1.00000000e+00]]\n"
     ]
    },
    {
     "name": "stderr",
     "output_type": "stream",
     "text": [
      "\r",
      "                                                                               \r",
      "\r",
      " 16% (187 of 1101) |###                   | Elapsed Time: 0:02:32 ETA:  0:08:00"
     ]
    },
    {
     "name": "stdout",
     "output_type": "stream",
     "text": [
      "connected mappoints  39\n",
      "7954 \n",
      " [[  9.99989154e-01  -3.66231307e-03   2.87733044e-03   1.37788156e-02]\n",
      " [  3.66213799e-03   9.99993292e-01   6.61157141e-05   1.72187294e-02]\n",
      " [ -2.87755327e-03  -5.55778160e-05   9.99995858e-01  -7.81111180e-01]\n",
      " [  0.00000000e+00   0.00000000e+00   0.00000000e+00   1.00000000e+00]]\n"
     ]
    },
    {
     "name": "stderr",
     "output_type": "stream",
     "text": [
      "\r",
      "                                                                               \r",
      "\r",
      " 17% (188 of 1101) |###                   | Elapsed Time: 0:02:33 ETA:  0:07:26"
     ]
    },
    {
     "name": "stdout",
     "output_type": "stream",
     "text": [
      "connected mappoints  26\n",
      "7955 \n",
      " [[ 0.99999222 -0.0030167   0.00254111 -0.03739987]\n",
      " [ 0.00300538  0.9999856   0.00444679  0.02005007]\n",
      " [-0.00255448 -0.00443912  0.99998688 -0.59942045]\n",
      " [ 0.          0.          0.          1.        ]]\n"
     ]
    },
    {
     "name": "stderr",
     "output_type": "stream",
     "text": [
      "\r",
      "                                                                               \r",
      "\r",
      " 17% (189 of 1101) |###                   | Elapsed Time: 0:02:33 ETA:  0:06:52"
     ]
    },
    {
     "name": "stdout",
     "output_type": "stream",
     "text": [
      "connected mappoints  22\n",
      "7956 \n",
      " [[  9.99997455e-01  -2.73264301e-04   2.23947814e-03   2.04541415e-02]\n",
      " [  2.65756938e-04   9.99994347e-01   3.35189451e-03   9.69304427e-03]\n",
      " [ -2.24038144e-03  -3.35129083e-03   9.99991875e-01  -8.29773981e-01]\n",
      " [  0.00000000e+00   0.00000000e+00   0.00000000e+00   1.00000000e+00]]\n"
     ]
    },
    {
     "name": "stderr",
     "output_type": "stream",
     "text": [
      "\r",
      "                                                                               \r",
      "\r",
      " 17% (190 of 1101) |###                   | Elapsed Time: 0:02:33 ETA:  0:06:32"
     ]
    },
    {
     "name": "stdout",
     "output_type": "stream",
     "text": [
      "connected mappoints  20\n",
      "7957 \n",
      " [[ 0.99999807  0.00135832  0.00142046  0.02248976]\n",
      " [-0.00136108  0.99999718  0.00194358  0.00280857]\n",
      " [-0.00141782 -0.00194551  0.9999971  -0.82687849]\n",
      " [ 0.          0.          0.          1.        ]]\n"
     ]
    },
    {
     "name": "stderr",
     "output_type": "stream",
     "text": [
      "\r",
      "                                                                               \r",
      "\r",
      " 17% (191 of 1101) |###                   | Elapsed Time: 0:02:34 ETA:  0:06:23"
     ]
    },
    {
     "name": "stdout",
     "output_type": "stream",
     "text": [
      "connected mappoints  27\n",
      "7958 \n",
      " [[  9.99997387e-01   9.13084389e-04   2.09566015e-03   2.53742671e-02]\n",
      " [ -9.10867728e-04   9.99999025e-01  -1.05844937e-03   5.21386883e-03]\n",
      " [ -2.09662457e-03   1.05653773e-03   9.99997244e-01  -8.58807952e-01]\n",
      " [  0.00000000e+00   0.00000000e+00   0.00000000e+00   1.00000000e+00]]\n"
     ]
    },
    {
     "name": "stderr",
     "output_type": "stream",
     "text": [
      "\r",
      "                                                                               \r",
      "\r",
      " 17% (192 of 1101) |###                   | Elapsed Time: 0:02:35 ETA:  0:06:32"
     ]
    },
    {
     "name": "stdout",
     "output_type": "stream",
     "text": [
      "connected mappoints  47\n",
      "7959 \n",
      " [[  9.99996175e-01   1.87500374e-03   2.03327285e-03   2.65287603e-02]\n",
      " [ -1.87363042e-03   9.99998016e-01  -6.77117913e-04   1.26470843e-02]\n",
      " [ -2.03453841e-03   6.73305722e-04   9.99997704e-01  -8.68122571e-01]\n",
      " [  0.00000000e+00   0.00000000e+00   0.00000000e+00   1.00000000e+00]]\n"
     ]
    },
    {
     "name": "stderr",
     "output_type": "stream",
     "text": [
      "\r",
      "                                                                               \r",
      "\r",
      " 17% (193 of 1101) |###                   | Elapsed Time: 0:02:35 ETA:  0:07:02"
     ]
    },
    {
     "name": "stdout",
     "output_type": "stream",
     "text": [
      "connected mappoints  67\n",
      "7960 \n",
      " [[ 0.99999804  0.00103206  0.0016892   0.01553942]\n",
      " [-0.00102933  0.99999816 -0.00161806  0.00978026]\n",
      " [-0.00169087  0.00161632  0.99999726 -0.84809735]\n",
      " [ 0.          0.          0.          1.        ]]\n"
     ]
    },
    {
     "name": "stderr",
     "output_type": "stream",
     "text": [
      "\r",
      "                                                                               \r",
      "\r",
      " 17% (194 of 1101) |###                   | Elapsed Time: 0:02:36 ETA:  0:08:00"
     ]
    },
    {
     "name": "stdout",
     "output_type": "stream",
     "text": [
      "connected mappoints  63\n",
      "7961 \n",
      " [[ 0.99999891  0.00101776  0.00106609  0.01430536]\n",
      " [-0.00101383  0.9999927  -0.00368445  0.01649418]\n",
      " [-0.00106983  0.00368337  0.99999264 -0.84541325]\n",
      " [ 0.          0.          0.          1.        ]]\n"
     ]
    },
    {
     "name": "stderr",
     "output_type": "stream",
     "text": [
      "\r",
      "                                                                               \r",
      "\r",
      " 17% (195 of 1101) |###                   | Elapsed Time: 0:02:37 ETA:  0:08:58"
     ]
    },
    {
     "name": "stdout",
     "output_type": "stream",
     "text": [
      "connected mappoints  112\n",
      "7962 \n",
      " [[ 0.99999871  0.00120416  0.00106551  0.01180628]\n",
      " [-0.00119954  0.9999899  -0.00433145  0.01012022]\n",
      " [-0.00107072  0.00433016  0.99999005 -0.86434941]\n",
      " [ 0.          0.          0.          1.        ]]\n"
     ]
    },
    {
     "name": "stderr",
     "output_type": "stream",
     "text": [
      "\r",
      "                                                                               \r",
      "\r",
      " 17% (196 of 1101) |###                   | Elapsed Time: 0:02:39 ETA:  0:09:59"
     ]
    },
    {
     "name": "stdout",
     "output_type": "stream",
     "text": [
      "connected mappoints  107\n",
      "7963 \n",
      " [[  9.99999762e-01   3.19081724e-04  -6.11379411e-04   1.48635448e-02]\n",
      " [ -3.20363271e-04   9.99997750e-01  -2.09720660e-03   1.93978450e-02]\n",
      " [  6.10708855e-04   2.09740197e-03   9.99997614e-01  -8.78979964e-01]\n",
      " [  0.00000000e+00   0.00000000e+00   0.00000000e+00   1.00000000e+00]]\n"
     ]
    },
    {
     "name": "stderr",
     "output_type": "stream",
     "text": [
      "\r",
      "                                                                               \r",
      "\r",
      " 17% (197 of 1101) |###                   | Elapsed Time: 0:02:40 ETA:  0:11:07"
     ]
    },
    {
     "name": "stdout",
     "output_type": "stream",
     "text": [
      "connected mappoints  115\n",
      "7964 \n",
      " [[  9.99994431e-01  -2.55761090e-03  -2.14404646e-03   2.21042272e-02]\n",
      " [  2.55758990e-03   9.99996729e-01  -1.25386303e-05   9.50198473e-03]\n",
      " [  2.14407152e-03   7.05496890e-06   9.99997701e-01  -8.73040204e-01]\n",
      " [  0.00000000e+00   0.00000000e+00   0.00000000e+00   1.00000000e+00]]\n"
     ]
    },
    {
     "name": "stderr",
     "output_type": "stream",
     "text": [
      "\r",
      "                                                                               \r",
      "\r",
      " 17% (198 of 1101) |###                   | Elapsed Time: 0:02:41 ETA:  0:12:12"
     ]
    },
    {
     "name": "stdout",
     "output_type": "stream",
     "text": [
      "connected mappoints  109\n",
      "7965 \n",
      " [[  9.99997992e-01   2.73058890e-04  -1.98516041e-03   1.66025587e-02]\n",
      " [ -2.70420406e-04   9.99999080e-01   1.32925065e-03   9.49027181e-03]\n",
      " [  1.98552155e-03  -1.32871115e-03   9.99997146e-01  -8.79192919e-01]\n",
      " [  0.00000000e+00   0.00000000e+00   0.00000000e+00   1.00000000e+00]]\n"
     ]
    },
    {
     "name": "stderr",
     "output_type": "stream",
     "text": [
      "\r",
      "                                                                               \r",
      "\r",
      " 18% (199 of 1101) |###                   | Elapsed Time: 0:02:42 ETA:  0:13:24"
     ]
    },
    {
     "name": "stdout",
     "output_type": "stream",
     "text": [
      "connected mappoints  124\n",
      "7966 \n",
      " [[ 0.99999557  0.00248505 -0.00163658  0.01129325]\n",
      " [-0.00248162  0.99999473  0.00209392  0.0136881 ]\n",
      " [ 0.00164178 -0.00208985  0.99999647 -0.88559999]\n",
      " [ 0.          0.          0.          1.        ]]\n"
     ]
    },
    {
     "name": "stderr",
     "output_type": "stream",
     "text": [
      "\r",
      "                                                                               \r",
      "\r",
      " 18% (200 of 1101) |###                   | Elapsed Time: 0:02:43 ETA:  0:14:14"
     ]
    },
    {
     "name": "stdout",
     "output_type": "stream",
     "text": [
      "connected mappoints  105\n",
      "7967 \n",
      " [[ 0.99999243  0.00349831 -0.00170214  0.00479214]\n",
      " [-0.00349566  0.99999268  0.00155637  0.01745066]\n",
      " [ 0.00170757 -0.0015504   0.99999734 -0.89442859]\n",
      " [ 0.          0.          0.          1.        ]]\n"
     ]
    },
    {
     "name": "stderr",
     "output_type": "stream",
     "text": [
      "\r",
      "                                                                               \r",
      "\r",
      " 18% (201 of 1101) |####                  | Elapsed Time: 0:02:44 ETA:  0:14:51"
     ]
    },
    {
     "name": "stdout",
     "output_type": "stream",
     "text": [
      "connected mappoints  104\n",
      "7968 \n",
      " [[  9.99997104e-01   1.50308847e-03  -1.87957680e-03   1.44369901e-02]\n",
      " [ -1.50185782e-03   9.99998657e-01   6.55990600e-04   6.89618389e-03]\n",
      " [  1.88056029e-03  -6.53165844e-04   9.99998018e-01  -9.01431357e-01]\n",
      " [  0.00000000e+00   0.00000000e+00   0.00000000e+00   1.00000000e+00]]\n"
     ]
    },
    {
     "name": "stderr",
     "output_type": "stream",
     "text": [
      "\r",
      "                                                                               \r",
      "\r",
      " 18% (202 of 1101) |####                  | Elapsed Time: 0:02:46 ETA:  0:16:34"
     ]
    },
    {
     "name": "stdout",
     "output_type": "stream",
     "text": [
      "connected mappoints  85\n",
      "7969 \n",
      " [[ 0.99999675  0.00233298 -0.00102551  0.01238811]\n",
      " [-0.00233535  0.99999459 -0.00231774  0.01526799]\n",
      " [ 0.0010201   0.00232012  0.99999679 -0.90395236]\n",
      " [ 0.          0.          0.          1.        ]]\n"
     ]
    },
    {
     "name": "stderr",
     "output_type": "stream",
     "text": [
      "\r",
      "                                                                               \r",
      "\r",
      " 18% (203 of 1101) |####                  | Elapsed Time: 0:02:47 ETA:  0:16:35"
     ]
    },
    {
     "name": "stdout",
     "output_type": "stream",
     "text": [
      "connected mappoints  79\n",
      "7970 \n",
      " [[  9.99992360e-01   3.85541665e-03  -6.44808049e-04   4.35925035e-03]\n",
      " [ -3.85717685e-03   9.99988776e-01  -2.75120744e-03   1.96937517e-02]\n",
      " [  6.34193761e-04   2.75367356e-03   9.99996008e-01  -8.82635887e-01]\n",
      " [  0.00000000e+00   0.00000000e+00   0.00000000e+00   1.00000000e+00]]\n"
     ]
    },
    {
     "name": "stderr",
     "output_type": "stream",
     "text": [
      "\r",
      "                                                                               \r",
      "\r",
      " 18% (204 of 1101) |####                  | Elapsed Time: 0:02:47 ETA:  0:16:13"
     ]
    },
    {
     "name": "stdout",
     "output_type": "stream",
     "text": [
      "connected mappoints  89\n",
      "7971 \n",
      " [[  9.99999051e-01   2.35957049e-04  -1.35752559e-03   2.14693474e-02]\n",
      " [ -2.36222249e-04   9.99999953e-01  -1.95198297e-04   2.23752450e-02]\n",
      " [  1.35747947e-03   1.95518789e-04   9.99999060e-01  -8.65280228e-01]\n",
      " [  0.00000000e+00   0.00000000e+00   0.00000000e+00   1.00000000e+00]]\n"
     ]
    },
    {
     "name": "stderr",
     "output_type": "stream",
     "text": [
      "\r",
      "                                                                               \r",
      "\r",
      " 18% (205 of 1101) |####                  | Elapsed Time: 0:02:48 ETA:  0:15:59"
     ]
    },
    {
     "name": "stdout",
     "output_type": "stream",
     "text": [
      "connected mappoints  95\n",
      "7972 \n",
      " [[  9.99998260e-01  -1.60382228e-03  -9.53195617e-04   1.06550953e-02]\n",
      " [  1.60676268e-03   9.99993929e-01   3.09206117e-03   2.26457329e-02]\n",
      " [  9.48230713e-04  -3.09358735e-03   9.99994765e-01  -8.84517858e-01]\n",
      " [  0.00000000e+00   0.00000000e+00   0.00000000e+00   1.00000000e+00]]\n"
     ]
    },
    {
     "name": "stderr",
     "output_type": "stream",
     "text": [
      "\r",
      "                                                                               \r",
      "\r",
      " 18% (206 of 1101) |####                  | Elapsed Time: 0:02:49 ETA:  0:15:36"
     ]
    },
    {
     "name": "stdout",
     "output_type": "stream",
     "text": [
      "connected mappoints  60\n",
      "7973 \n",
      " [[  9.99994440e-01  -3.27547850e-03  -6.25352727e-04   1.75682213e-02]\n",
      " [  3.27908408e-03   9.99977486e-01   5.85444703e-03   1.51723789e-02]\n",
      " [  6.06162532e-04  -5.85646506e-03   9.99982667e-01  -8.75305556e-01]\n",
      " [  0.00000000e+00   0.00000000e+00   0.00000000e+00   1.00000000e+00]]\n"
     ]
    },
    {
     "name": "stderr",
     "output_type": "stream",
     "text": [
      "\r",
      "                                                                               \r",
      "\r",
      " 18% (207 of 1101) |####                  | Elapsed Time: 0:02:50 ETA:  0:15:03"
     ]
    },
    {
     "name": "stdout",
     "output_type": "stream",
     "text": [
      "connected mappoints  17\n",
      "7974 \n",
      " [[ 0.99999374 -0.00320852 -0.00149344  0.01208721]\n",
      " [ 0.00321631  0.99998109  0.00524254  0.01749336]\n",
      " [ 0.00147659 -0.00524731  0.99998514 -0.83547328]\n",
      " [ 0.          0.          0.          1.        ]]\n"
     ]
    },
    {
     "name": "stderr",
     "output_type": "stream",
     "text": [
      "\r",
      "                                                                               \r",
      "\r",
      " 18% (208 of 1101) |####                  | Elapsed Time: 0:02:51 ETA:  0:14:31"
     ]
    },
    {
     "name": "stdout",
     "output_type": "stream",
     "text": [
      "connected mappoints  46\n",
      "7975 \n",
      " [[ 0.99998681 -0.00498358 -0.00123917  0.02659041]\n",
      " [ 0.00499056  0.99997133  0.0056953   0.01311697]\n",
      " [ 0.00121075 -0.00570141  0.99998301 -0.86089803]\n",
      " [ 0.          0.          0.          1.        ]]\n"
     ]
    },
    {
     "name": "stderr",
     "output_type": "stream",
     "text": [
      "\r",
      "                                                                               \r",
      "\r",
      " 18% (209 of 1101) |####                  | Elapsed Time: 0:02:51 ETA:  0:14:00"
     ]
    },
    {
     "name": "stdout",
     "output_type": "stream",
     "text": [
      "connected mappoints  87\n",
      "7976 \n",
      " [[  9.99998780e-01   1.73721193e-04  -1.55212296e-03   2.17850287e-02]\n",
      " [ -1.72550384e-04   9.99999701e-01   7.54429475e-04   1.12266295e-02]\n",
      " [  1.55225355e-03  -7.54160735e-04   9.99998511e-01  -8.54957395e-01]\n",
      " [  0.00000000e+00   0.00000000e+00   0.00000000e+00   1.00000000e+00]]\n"
     ]
    },
    {
     "name": "stderr",
     "output_type": "stream",
     "text": [
      "\r",
      "                                                                               \r",
      "\r",
      " 19% (210 of 1101) |####                  | Elapsed Time: 0:02:52 ETA:  0:13:50"
     ]
    },
    {
     "name": "stdout",
     "output_type": "stream",
     "text": [
      "connected mappoints  82\n",
      "7977 \n",
      " [[  9.99993498e-01   3.60250719e-03  -1.61918399e-04   1.16815302e-02]\n",
      " [ -3.60341473e-03   9.99975472e-01  -6.00593278e-03   1.39735336e-02]\n",
      " [  1.40278011e-04   6.00647719e-03   9.99981951e-01  -8.65080782e-01]\n",
      " [  0.00000000e+00   0.00000000e+00   0.00000000e+00   1.00000000e+00]]\n"
     ]
    },
    {
     "name": "stderr",
     "output_type": "stream",
     "text": [
      "\r",
      "                                                                               \r",
      "\r",
      " 19% (211 of 1101) |####                  | Elapsed Time: 0:02:53 ETA:  0:13:53"
     ]
    },
    {
     "name": "stdout",
     "output_type": "stream",
     "text": [
      "connected mappoints  82\n",
      "7978 \n",
      " [[  9.99999111e-01   9.13818068e-04   9.70930567e-04   3.43740651e-03]\n",
      " [ -9.05050079e-04   9.99959154e-01  -8.99288584e-03   2.58632186e-02]\n",
      " [ -9.79108769e-04   8.99199911e-03   9.99959092e-01  -8.63247245e-01]\n",
      " [  0.00000000e+00   0.00000000e+00   0.00000000e+00   1.00000000e+00]]\n"
     ]
    },
    {
     "name": "stderr",
     "output_type": "stream",
     "text": [
      "\r",
      "                                                                               \r",
      "\r",
      " 19% (212 of 1101) |####                  | Elapsed Time: 0:02:54 ETA:  0:12:45"
     ]
    },
    {
     "name": "stdout",
     "output_type": "stream",
     "text": [
      "connected mappoints  76\n",
      "7979 \n",
      " [[ 0.99999715  0.00167796  0.0017001  -0.00270963]\n",
      " [-0.0016649   0.99996933 -0.00765241  0.02837442]\n",
      " [-0.00171289  0.00764956  0.99996927 -0.86044315]\n",
      " [ 0.          0.          0.          1.        ]]\n"
     ]
    },
    {
     "name": "stderr",
     "output_type": "stream",
     "text": [
      "\r",
      "                                                                               \r",
      "\r",
      " 19% (213 of 1101) |####                  | Elapsed Time: 0:02:55 ETA:  0:13:08"
     ]
    },
    {
     "name": "stdout",
     "output_type": "stream",
     "text": [
      "connected mappoints  84\n",
      "7980 \n",
      " [[ 0.99999639  0.00179867  0.00199761  0.01704416]\n",
      " [-0.00180301  0.99999602  0.00217012  0.01988035]\n",
      " [-0.00199369 -0.00217372  0.99999565 -0.85890796]\n",
      " [ 0.          0.          0.          1.        ]]\n"
     ]
    },
    {
     "name": "stderr",
     "output_type": "stream",
     "text": [
      "\r",
      "                                                                               \r",
      "\r",
      " 19% (214 of 1101) |####                  | Elapsed Time: 0:02:57 ETA:  0:13:42"
     ]
    },
    {
     "name": "stdout",
     "output_type": "stream",
     "text": [
      "connected mappoints  60\n",
      "7981 \n",
      " [[ 0.99998832  0.00459392  0.00150064  0.0131581 ]\n",
      " [-0.004599    0.99998364  0.00340018  0.01900029]\n",
      " [-0.001485   -0.00340704  0.99999309 -0.86579276]\n",
      " [ 0.          0.          0.          1.        ]]\n"
     ]
    },
    {
     "name": "stderr",
     "output_type": "stream",
     "text": [
      "\r",
      "                                                                               \r",
      "\r",
      " 19% (215 of 1101) |####                  | Elapsed Time: 0:02:58 ETA:  0:14:11"
     ]
    },
    {
     "name": "stdout",
     "output_type": "stream",
     "text": [
      "connected mappoints  11\n",
      "7982 \n",
      " [[  9.99997615e-01  -5.29779750e-04   2.11862988e-03   1.88441054e-02]\n",
      " [  5.25354073e-04   9.99997680e-01   2.08894468e-03   2.36812257e-02]\n",
      " [ -2.11973165e-03  -2.08782667e-03   9.99995574e-01  -8.53569060e-01]\n",
      " [  0.00000000e+00   0.00000000e+00   0.00000000e+00   1.00000000e+00]]\n"
     ]
    },
    {
     "name": "stderr",
     "output_type": "stream",
     "text": [
      "\r",
      "                                                                               \r",
      "\r",
      " 19% (216 of 1101) |####                  | Elapsed Time: 0:02:59 ETA:  0:14:11"
     ]
    },
    {
     "name": "stdout",
     "output_type": "stream",
     "text": [
      "connected mappoints  22\n",
      "7983 \n",
      " [[ 0.99999328 -0.00242958  0.00274385  0.01330732]\n",
      " [ 0.00242214  0.99999339  0.00271309  0.01440063]\n",
      " [-0.00275043 -0.00270643  0.99999256 -0.8394543 ]\n",
      " [ 0.          0.          0.          1.        ]]\n"
     ]
    },
    {
     "name": "stderr",
     "output_type": "stream",
     "text": [
      "\r",
      "                                                                               \r",
      "\r",
      " 19% (217 of 1101) |####                  | Elapsed Time: 0:03:00 ETA:  0:14:50"
     ]
    },
    {
     "name": "stdout",
     "output_type": "stream",
     "text": [
      "connected mappoints  114\n",
      "7984 \n",
      " [[ 0.99999336 -0.00101874  0.00349799  0.01300788]\n",
      " [ 0.00100752  0.99999435  0.00320784  0.01318448]\n",
      " [-0.00350124 -0.00320429  0.99998874 -0.84184911]\n",
      " [ 0.          0.          0.          1.        ]]\n"
     ]
    },
    {
     "name": "stderr",
     "output_type": "stream",
     "text": [
      "\r",
      "                                                                               \r",
      "\r",
      " 19% (218 of 1101) |####                  | Elapsed Time: 0:03:01 ETA:  0:15:51"
     ]
    },
    {
     "name": "stdout",
     "output_type": "stream",
     "text": [
      "connected mappoints  64\n",
      "7985 \n",
      " [[  9.99991618e-01  -2.44272928e-04   4.08701562e-03   1.13681518e-02]\n",
      " [  2.30434670e-04   9.99994241e-01   3.38603614e-03   9.26072756e-03]\n",
      " [ -4.08781920e-03  -3.38506597e-03   9.99985915e-01  -8.28700384e-01]\n",
      " [  0.00000000e+00   0.00000000e+00   0.00000000e+00   1.00000000e+00]]\n"
     ]
    },
    {
     "name": "stderr",
     "output_type": "stream",
     "text": [
      "\r",
      "                                                                               \r",
      "\r",
      " 19% (219 of 1101) |####                  | Elapsed Time: 0:03:03 ETA:  0:16:36"
     ]
    },
    {
     "name": "stdout",
     "output_type": "stream",
     "text": [
      "connected mappoints  19\n",
      "7986 \n",
      " [[ 0.99999149 -0.00278491  0.00304228  0.00310144]\n",
      " [ 0.0027729   0.99998836  0.00394747  0.0156001 ]\n",
      " [-0.00305324 -0.003939    0.99998758 -0.80378669]\n",
      " [ 0.          0.          0.          1.        ]]\n"
     ]
    },
    {
     "name": "stderr",
     "output_type": "stream",
     "text": [
      "\r",
      "                                                                               \r",
      "\r",
      " 19% (220 of 1101) |####                  | Elapsed Time: 0:03:04 ETA:  0:16:39"
     ]
    },
    {
     "name": "stdout",
     "output_type": "stream",
     "text": [
      "connected mappoints  31\n",
      "7987 \n",
      " [[  9.99985907e-01  -4.46534699e-03   2.87170092e-03   2.46670719e-02]\n",
      " [  4.46512418e-03   9.99990028e-01   8.39950670e-05   1.65849393e-02]\n",
      " [ -2.87204735e-03  -7.11713820e-05   9.99995873e-01  -8.21151107e-01]\n",
      " [  0.00000000e+00   0.00000000e+00   0.00000000e+00   1.00000000e+00]]\n"
     ]
    },
    {
     "name": "stderr",
     "output_type": "stream",
     "text": [
      "\r",
      "                                                                               \r",
      "\r",
      " 20% (221 of 1101) |####                  | Elapsed Time: 0:03:05 ETA:  0:17:14"
     ]
    },
    {
     "name": "stdout",
     "output_type": "stream",
     "text": [
      "connected mappoints  103\n",
      "7988 \n",
      " [[ 0.99998803 -0.00335033  0.00356617  0.0181216 ]\n",
      " [ 0.00335554  0.99999331 -0.00145417  0.00969154]\n",
      " [-0.00356127  0.00146612  0.99999258 -0.82920213]\n",
      " [ 0.          0.          0.          1.        ]]\n"
     ]
    },
    {
     "name": "stderr",
     "output_type": "stream",
     "text": [
      "\r",
      "                                                                               \r",
      "\r",
      " 20% (222 of 1101) |####                  | Elapsed Time: 0:03:06 ETA:  0:17:31"
     ]
    },
    {
     "name": "stdout",
     "output_type": "stream",
     "text": [
      "connected mappoints  126\n",
      "7989 \n",
      " [[ 0.99998939 -0.00226809  0.00400987  0.01371204]\n",
      " [ 0.00229194  0.99997965 -0.00595442  0.01891059]\n",
      " [-0.00399628  0.00596355  0.99997423 -0.80895992]\n",
      " [ 0.          0.          0.          1.        ]]\n"
     ]
    },
    {
     "name": "stderr",
     "output_type": "stream",
     "text": [
      "\r",
      "                                                                               \r",
      "\r",
      " 20% (223 of 1101) |####                  | Elapsed Time: 0:03:07 ETA:  0:17:37"
     ]
    },
    {
     "name": "stdout",
     "output_type": "stream",
     "text": [
      "connected mappoints  35\n",
      "7990 \n",
      " [[  9.99989935e-01  -2.40574238e-04   4.48017557e-03   2.94233739e-03]\n",
      " [  2.61929363e-04   9.99988605e-01  -4.76660567e-03   7.74825741e-03]\n",
      " [ -4.47897779e-03   4.76773118e-03   9.99978604e-01  -8.41747219e-01]\n",
      " [  0.00000000e+00   0.00000000e+00   0.00000000e+00   1.00000000e+00]]\n"
     ]
    },
    {
     "name": "stderr",
     "output_type": "stream",
     "text": [
      "\r",
      "                                                                               \r",
      "\r",
      " 20% (224 of 1101) |####                  | Elapsed Time: 0:03:09 ETA:  0:17:44"
     ]
    },
    {
     "name": "stdout",
     "output_type": "stream",
     "text": [
      "connected mappoints  18\n",
      "7991 \n",
      " [[  9.99987031e-01   8.17348569e-04   5.02693595e-03   1.40600794e-02]\n",
      " [ -8.01245523e-04   9.99994544e-01  -3.20453224e-03   1.69505559e-02]\n",
      " [ -5.02952774e-03   3.20046287e-03   9.99982230e-01  -8.20158160e-01]\n",
      " [  0.00000000e+00   0.00000000e+00   0.00000000e+00   1.00000000e+00]]\n"
     ]
    },
    {
     "name": "stderr",
     "output_type": "stream",
     "text": [
      "\r",
      "                                                                               \r",
      "\r",
      " 20% (225 of 1101) |####                  | Elapsed Time: 0:03:10 ETA:  0:17:33"
     ]
    },
    {
     "name": "stdout",
     "output_type": "stream",
     "text": [
      "connected mappoints  46\n",
      "7992 \n",
      " [[  9.99978388e-01   4.96931947e-04   6.55569365e-03   6.53356243e-03]\n",
      " [ -4.92264804e-04   9.99999624e-01  -7.13516474e-04   1.55755567e-02]\n",
      " [ -6.55604575e-03   7.10273916e-04   9.99978257e-01  -7.96828876e-01]\n",
      " [  0.00000000e+00   0.00000000e+00   0.00000000e+00   1.00000000e+00]]\n"
     ]
    },
    {
     "name": "stderr",
     "output_type": "stream",
     "text": [
      "\r",
      "                                                                               \r",
      "\r",
      " 20% (226 of 1101) |####                  | Elapsed Time: 0:03:11 ETA:  0:18:25"
     ]
    },
    {
     "name": "stdout",
     "output_type": "stream",
     "text": [
      "connected mappoints  107\n",
      "7993 \n",
      " [[ 0.9999768   0.00273185  0.00624047  0.00424803]\n",
      " [-0.00271101  0.99999073 -0.00334592  0.0152641 ]\n",
      " [-0.00624955  0.00332893  0.99997493 -0.8132926 ]\n",
      " [ 0.          0.          0.          1.        ]]\n"
     ]
    },
    {
     "name": "stderr",
     "output_type": "stream",
     "text": [
      "\r",
      "                                                                               \r",
      "\r",
      " 20% (227 of 1101) |####                  | Elapsed Time: 0:03:13 ETA:  0:19:00"
     ]
    },
    {
     "name": "stdout",
     "output_type": "stream",
     "text": [
      "connected mappoints  128\n",
      "7994 \n",
      " [[  9.99978245e-01  -4.80897273e-04   6.57868191e-03   8.08784819e-03]\n",
      " [  4.76643775e-04   9.99999676e-01   6.48110364e-04   1.89350027e-02]\n",
      " [ -6.57899146e-03  -6.44960576e-04   9.99978150e-01  -7.92368250e-01]\n",
      " [  0.00000000e+00   0.00000000e+00   0.00000000e+00   1.00000000e+00]]\n"
     ]
    },
    {
     "name": "stderr",
     "output_type": "stream",
     "text": [
      "\r",
      "                                                                               \r",
      "\r",
      " 20% (228 of 1101) |####                  | Elapsed Time: 0:03:15 ETA:  0:19:14"
     ]
    },
    {
     "name": "stdout",
     "output_type": "stream",
     "text": [
      "connected mappoints  128\n",
      "7995 \n",
      " [[  9.99971665e-01  -4.56962749e-03   5.98235125e-03   1.91146890e-02]\n",
      " [  4.56384164e-03   9.99989105e-01   9.80447583e-04   1.69973108e-02]\n",
      " [ -5.98676635e-03  -9.53117298e-04   9.99981625e-01  -8.01477703e-01]\n",
      " [  0.00000000e+00   0.00000000e+00   0.00000000e+00   1.00000000e+00]]\n"
     ]
    },
    {
     "name": "stderr",
     "output_type": "stream",
     "text": [
      "\r",
      "                                                                               \r",
      "\r",
      " 20% (229 of 1101) |####                  | Elapsed Time: 0:03:16 ETA:  0:19:33"
     ]
    },
    {
     "name": "stdout",
     "output_type": "stream",
     "text": [
      "connected mappoints  134\n",
      "7996 \n",
      " [[ 0.99997837 -0.00208404  0.00623792  0.01154176]\n",
      " [ 0.0020598   0.99999031  0.00389003  0.01137   ]\n",
      " [-0.00624597 -0.0038771   0.99997298 -0.78291194]\n",
      " [ 0.          0.          0.          1.        ]]\n"
     ]
    },
    {
     "name": "stderr",
     "output_type": "stream",
     "text": [
      "\r",
      "                                                                               \r",
      "\r",
      " 20% (230 of 1101) |####                  | Elapsed Time: 0:03:18 ETA:  0:20:24"
     ]
    },
    {
     "name": "stdout",
     "output_type": "stream",
     "text": [
      "connected mappoints  119\n",
      "7997 \n",
      " [[ 0.99998047  0.00118544  0.00613556  0.00890066]\n",
      " [-0.00120279  0.99999529  0.00282462  0.01378834]\n",
      " [-0.00613219 -0.00283194  0.99997719 -0.79274985]\n",
      " [ 0.          0.          0.          1.        ]]\n"
     ]
    },
    {
     "name": "stderr",
     "output_type": "stream",
     "text": [
      "\r",
      "                                                                               \r",
      "\r",
      " 20% (231 of 1101) |####                  | Elapsed Time: 0:03:19 ETA:  0:20:45"
     ]
    },
    {
     "name": "stdout",
     "output_type": "stream",
     "text": [
      "connected mappoints  128\n",
      "7998 \n",
      " [[ 0.99998502 -0.00146793  0.0052737   0.01521664]\n",
      " [ 0.00145961  0.99999769  0.00158075  0.01327056]\n",
      " [-0.00527601 -0.00157302  0.99998484 -0.79738309]\n",
      " [ 0.          0.          0.          1.        ]]\n"
     ]
    },
    {
     "name": "stderr",
     "output_type": "stream",
     "text": [
      "\r",
      "                                                                               \r",
      "\r",
      " 21% (232 of 1101) |####                  | Elapsed Time: 0:03:21 ETA:  0:21:26"
     ]
    },
    {
     "name": "stdout",
     "output_type": "stream",
     "text": [
      "connected mappoints  161\n",
      "7999 \n",
      " [[ 0.9999877  -0.00181449  0.0046169   0.01911707]\n",
      " [ 0.00183652  0.99998693 -0.00477227  0.01719347]\n",
      " [-0.00460818  0.00478069  0.99997795 -0.79403336]\n",
      " [ 0.          0.          0.          1.        ]]\n"
     ]
    },
    {
     "name": "stderr",
     "output_type": "stream",
     "text": [
      "\r",
      "                                                                               \r",
      "\r",
      " 21% (233 of 1101) |####                  | Elapsed Time: 0:03:23 ETA:  0:22:16"
     ]
    },
    {
     "name": "stdout",
     "output_type": "stream",
     "text": [
      "connected mappoints  167\n",
      "8000 \n",
      " [[  9.99980269e-01  -2.20651440e-04   6.27803271e-03   1.34186531e-02]\n",
      " [  2.45341773e-04   9.99992238e-01  -3.93231543e-03   1.81697542e-02]\n",
      " [ -6.27711631e-03   3.93377811e-03   9.99972561e-01  -7.84101734e-01]\n",
      " [  0.00000000e+00   0.00000000e+00   0.00000000e+00   1.00000000e+00]]\n"
     ]
    },
    {
     "name": "stderr",
     "output_type": "stream",
     "text": [
      "\r",
      "                                                                               \r",
      "\r",
      " 21% (234 of 1101) |####                  | Elapsed Time: 0:03:25 ETA:  0:23:03"
     ]
    },
    {
     "name": "stdout",
     "output_type": "stream",
     "text": [
      "connected mappoints  165\n",
      "8001 \n",
      " [[  9.99979256e-01   9.67023236e-04   6.36812750e-03   1.06592992e-02]\n",
      " [ -9.53789922e-04   9.99997380e-01  -2.08076334e-03   2.52889059e-02]\n",
      " [ -6.37012296e-03   2.07464632e-03   9.99977558e-01  -7.91354461e-01]\n",
      " [  0.00000000e+00   0.00000000e+00   0.00000000e+00   1.00000000e+00]]\n"
     ]
    },
    {
     "name": "stderr",
     "output_type": "stream",
     "text": [
      "\r",
      "                                                                               \r",
      "\r",
      " 21% (235 of 1101) |####                  | Elapsed Time: 0:03:26 ETA:  0:24:01"
     ]
    },
    {
     "name": "stdout",
     "output_type": "stream",
     "text": [
      "connected mappoints  139\n",
      "8002 \n",
      " [[ 0.99997461  0.0015377   0.00695873  0.01382447]\n",
      " [-0.00156554  0.99999079  0.00399656  0.01495135]\n",
      " [-0.00695252 -0.00400736  0.9999678  -0.77366264]\n",
      " [ 0.          0.          0.          1.        ]]\n"
     ]
    },
    {
     "name": "stderr",
     "output_type": "stream",
     "text": [
      "\r",
      "                                                                               \r",
      "\r",
      " 21% (236 of 1101) |####                  | Elapsed Time: 0:03:28 ETA:  0:24:33"
     ]
    },
    {
     "name": "stdout",
     "output_type": "stream",
     "text": [
      "connected mappoints  150\n",
      "8003 \n",
      " [[  9.99963932e-01   5.36876938e-04   8.47622944e-03   8.99729102e-03]\n",
      " [ -6.00179849e-04   9.99971938e-01   7.46751019e-03   4.65494327e-03]\n",
      " [ -8.47198245e-03  -7.47232812e-03   9.99936193e-01  -7.68438663e-01]\n",
      " [  0.00000000e+00   0.00000000e+00   0.00000000e+00   1.00000000e+00]]\n"
     ]
    },
    {
     "name": "stderr",
     "output_type": "stream",
     "text": [
      "\r",
      "                                                                               \r",
      "\r",
      " 21% (237 of 1101) |####                  | Elapsed Time: 0:03:30 ETA:  0:25:09"
     ]
    },
    {
     "name": "stdout",
     "output_type": "stream",
     "text": [
      "connected mappoints  132\n",
      "8004 \n",
      " [[ 0.99995806  0.00196024  0.0089461   0.01789648]\n",
      " [-0.00198019  0.99999557  0.00222165  0.00787425]\n",
      " [-0.00894171 -0.00223927  0.99995751 -0.76553682]\n",
      " [ 0.          0.          0.          1.        ]]\n"
     ]
    },
    {
     "name": "stderr",
     "output_type": "stream",
     "text": [
      "\r",
      "                                                                               \r",
      "\r",
      " 21% (238 of 1101) |####                  | Elapsed Time: 0:03:32 ETA:  0:25:22"
     ]
    },
    {
     "name": "stdout",
     "output_type": "stream",
     "text": [
      "connected mappoints  151\n",
      "8005 \n",
      " [[  9.99941406e-01   8.83922079e-04   1.07890070e-02   1.28207256e-02]\n",
      " [ -8.57141931e-04   9.99996541e-01  -2.48654158e-03   1.41301677e-02]\n",
      " [ -1.07911676e-02   2.47714817e-03   9.99938705e-01  -7.72509402e-01]\n",
      " [  0.00000000e+00   0.00000000e+00   0.00000000e+00   1.00000000e+00]]\n"
     ]
    },
    {
     "name": "stderr",
     "output_type": "stream",
     "text": [
      "\r",
      "                                                                               \r",
      "\r",
      " 21% (239 of 1101) |####                  | Elapsed Time: 0:03:34 ETA:  0:25:20"
     ]
    },
    {
     "name": "stdout",
     "output_type": "stream",
     "text": [
      "connected mappoints  120\n",
      "8006 \n",
      " [[ 0.99993381  0.00141891  0.01141735  0.01466035]\n",
      " [-0.0013561   0.99998392 -0.00550674  0.00895521]\n",
      " [-0.01142498  0.0054909   0.99991966 -0.77663888]\n",
      " [ 0.          0.          0.          1.        ]]\n"
     ]
    },
    {
     "name": "stderr",
     "output_type": "stream",
     "text": [
      "\r",
      "                                                                               \r",
      "\r",
      " 21% (240 of 1101) |####                  | Elapsed Time: 0:03:35 ETA:  0:24:44"
     ]
    },
    {
     "name": "stdout",
     "output_type": "stream",
     "text": [
      "connected mappoints  108\n",
      "8007 \n",
      " [[  9.99926100e-01  -8.23601272e-04   1.21291101e-02   1.36849595e-02]\n",
      " [  9.12194251e-04   9.99972935e-01  -7.30044146e-03   2.32595070e-02]\n",
      " [ -1.21227692e-02   7.31096606e-03   9.99899789e-01  -7.63321828e-01]\n",
      " [  0.00000000e+00   0.00000000e+00   0.00000000e+00   1.00000000e+00]]\n"
     ]
    },
    {
     "name": "stderr",
     "output_type": "stream",
     "text": [
      "\r",
      "                                                                               \r",
      "\r",
      " 21% (241 of 1101) |####                  | Elapsed Time: 0:03:36 ETA:  0:23:47"
     ]
    },
    {
     "name": "stdout",
     "output_type": "stream",
     "text": [
      "connected mappoints  80\n",
      "8008 \n",
      " [[  9.99935314e-01   2.54336768e-04   1.13711309e-02   1.58377535e-02]\n",
      " [ -2.16202395e-04   9.99994350e-01  -3.35471655e-03   2.69400164e-02]\n",
      " [ -1.13719199e-02   3.35204108e-03   9.99929719e-01  -7.53542212e-01]\n",
      " [  0.00000000e+00   0.00000000e+00   0.00000000e+00   1.00000000e+00]]\n"
     ]
    },
    {
     "name": "stderr",
     "output_type": "stream",
     "text": [
      "\r",
      "                                                                               \r",
      "\r",
      " 21% (242 of 1101) |####                  | Elapsed Time: 0:03:37 ETA:  0:22:22"
     ]
    },
    {
     "name": "stdout",
     "output_type": "stream",
     "text": [
      "connected mappoints  71\n",
      "8009 \n",
      " [[ 0.99992326 -0.00459225  0.01150612  0.01853411]\n",
      " [ 0.00453464  0.99997708  0.00502754  0.0120743 ]\n",
      " [-0.01152894 -0.00497498  0.99992116 -0.75952874]\n",
      " [ 0.          0.          0.          1.        ]]\n"
     ]
    },
    {
     "name": "stderr",
     "output_type": "stream",
     "text": [
      "\r",
      "                                                                               \r",
      "\r",
      " 22% (243 of 1101) |####                  | Elapsed Time: 0:03:37 ETA:  0:20:49"
     ]
    },
    {
     "name": "stdout",
     "output_type": "stream",
     "text": [
      "connected mappoints  95\n",
      "8010 \n",
      " [[  9.99927129e-01  -1.06326238e-03   1.20252266e-02   2.04468021e-02]\n",
      " [  9.52067129e-04   9.99956776e-01   9.24877967e-03   8.14188957e-03]\n",
      " [ -1.20345407e-02  -9.23665688e-03   9.99884920e-01  -7.44817917e-01]\n",
      " [  0.00000000e+00   0.00000000e+00   0.00000000e+00   1.00000000e+00]]\n"
     ]
    },
    {
     "name": "stderr",
     "output_type": "stream",
     "text": [
      "\r",
      "                                                                               \r",
      "\r",
      " 22% (244 of 1101) |####                  | Elapsed Time: 0:03:38 ETA:  0:19:20"
     ]
    },
    {
     "name": "stdout",
     "output_type": "stream",
     "text": [
      "connected mappoints  105\n",
      "8011 \n",
      " [[  9.99920272e-01   9.96244298e-04   1.25879472e-02   1.68590269e-02]\n",
      " [ -1.06261817e-03   9.99985563e-01   5.26722392e-03   3.80974535e-03]\n",
      " [ -1.25825181e-02  -5.28018016e-03   9.99906896e-01  -7.50440781e-01]\n",
      " [  0.00000000e+00   0.00000000e+00   0.00000000e+00   1.00000000e+00]]\n"
     ]
    },
    {
     "name": "stderr",
     "output_type": "stream",
     "text": [
      "\r",
      "                                                                               \r",
      "\r",
      " 22% (245 of 1101) |####                  | Elapsed Time: 0:03:39 ETA:  0:17:56"
     ]
    },
    {
     "name": "stdout",
     "output_type": "stream",
     "text": [
      "connected mappoints  56\n",
      "8012 \n",
      " [[ 0.99992126  0.00147518  0.0124622   0.01626614]\n",
      " [-0.00141841  0.99998858 -0.00456331  0.02056332]\n",
      " [-0.01246879  0.00454528  0.99991193 -0.76934889]\n",
      " [ 0.          0.          0.          1.        ]]\n"
     ]
    },
    {
     "name": "stderr",
     "output_type": "stream",
     "text": [
      "\r",
      "                                                                               \r",
      "\r",
      " 22% (246 of 1101) |####                  | Elapsed Time: 0:03:40 ETA:  0:16:31"
     ]
    },
    {
     "name": "stdout",
     "output_type": "stream",
     "text": [
      "connected mappoints  52\n",
      "8013 \n",
      " [[  9.99937706e-01  -3.79374723e-04   1.11552404e-02   3.97657897e-02]\n",
      " [  4.56395314e-04   9.99976072e-01  -6.90269645e-03   2.71494375e-02]\n",
      " [ -1.11523548e-02   6.90735765e-03   9.99913953e-01  -7.84787551e-01]\n",
      " [  0.00000000e+00   0.00000000e+00   0.00000000e+00   1.00000000e+00]]\n"
     ]
    },
    {
     "name": "stderr",
     "output_type": "stream",
     "text": [
      "\r",
      "                                                                               \r",
      "\r",
      " 22% (247 of 1101) |####                  | Elapsed Time: 0:03:41 ETA:  0:14:47"
     ]
    },
    {
     "name": "stdout",
     "output_type": "stream",
     "text": [
      "connected mappoints  47\n",
      "8014 \n",
      " [[ 0.99991921  0.00201425  0.01255054  0.01245731]\n",
      " [-0.00195194  0.99998572 -0.00497477  0.02101779]\n",
      " [-0.01256038  0.00494987  0.99990886 -0.75459172]\n",
      " [ 0.          0.          0.          1.        ]]\n"
     ]
    },
    {
     "name": "stderr",
     "output_type": "stream",
     "text": [
      "\r",
      "                                                                               \r",
      "\r",
      " 22% (248 of 1101) |####                  | Elapsed Time: 0:03:42 ETA:  0:13:30"
     ]
    },
    {
     "name": "stdout",
     "output_type": "stream",
     "text": [
      "connected mappoints  72\n",
      "8015 \n",
      " [[ 0.99991835  0.00115277  0.01272662  0.01750778]\n",
      " [-0.00118255  0.99999658  0.00233273  0.01767438]\n",
      " [-0.01272389 -0.00234759  0.99991629 -0.75857307]\n",
      " [ 0.          0.          0.          1.        ]]\n"
     ]
    },
    {
     "name": "stderr",
     "output_type": "stream",
     "text": [
      "\r",
      "                                                                               \r",
      "\r",
      " 22% (249 of 1101) |####                  | Elapsed Time: 0:03:43 ETA:  0:12:47"
     ]
    },
    {
     "name": "stdout",
     "output_type": "stream",
     "text": [
      "connected mappoints  90\n",
      "8016 \n",
      " [[  9.99928718e-01   8.25571052e-04   1.19112100e-02   1.18607295e-02]\n",
      " [ -8.80804890e-04   9.99988881e-01   4.63263022e-03   1.22373713e-02]\n",
      " [ -1.19072530e-02  -4.64279145e-03   9.99918328e-01  -7.48599190e-01]\n",
      " [  0.00000000e+00   0.00000000e+00   0.00000000e+00   1.00000000e+00]]\n"
     ]
    },
    {
     "name": "stderr",
     "output_type": "stream",
     "text": [
      "\r",
      "                                                                               \r",
      "\r",
      " 22% (250 of 1101) |####                  | Elapsed Time: 0:03:44 ETA:  0:12:46"
     ]
    },
    {
     "name": "stdout",
     "output_type": "stream",
     "text": [
      "connected mappoints  98\n",
      "8017 \n",
      " [[ 0.99995635  0.00182855  0.00916292  0.01817485]\n",
      " [-0.0018908   0.99997516  0.0067904   0.01638321]\n",
      " [-0.00915028 -0.00680743  0.99993496 -0.75700078]\n",
      " [ 0.          0.          0.          1.        ]]\n"
     ]
    },
    {
     "name": "stderr",
     "output_type": "stream",
     "text": [
      "\r",
      "                                                                               \r",
      "\r",
      " 22% (251 of 1101) |#####                 | Elapsed Time: 0:03:45 ETA:  0:12:56"
     ]
    },
    {
     "name": "stdout",
     "output_type": "stream",
     "text": [
      "connected mappoints  102\n",
      "8018 \n",
      " [[ 0.99996781  0.00190519  0.00779371  0.0170795 ]\n",
      " [-0.00194994  0.99998163  0.00573911  0.0138811 ]\n",
      " [-0.00778263 -0.00575413  0.99995316 -0.76944971]\n",
      " [ 0.          0.          0.          1.        ]]\n"
     ]
    },
    {
     "name": "stderr",
     "output_type": "stream",
     "text": [
      "\r",
      "                                                                               \r",
      "\r",
      " 22% (252 of 1101) |#####                 | Elapsed Time: 0:03:46 ETA:  0:13:31"
     ]
    },
    {
     "name": "stdout",
     "output_type": "stream",
     "text": [
      "connected mappoints  113\n",
      "8019 \n",
      " [[  9.99971926e-01  -6.02243851e-04   7.46893061e-03   2.25483422e-02]\n",
      " [  5.85896844e-04   9.99997429e-01   2.19066262e-03   4.80297924e-03]\n",
      " [ -7.47023072e-03  -2.18622510e-03   9.99969708e-01  -7.82696009e-01]\n",
      " [  0.00000000e+00   0.00000000e+00   0.00000000e+00   1.00000000e+00]]\n"
     ]
    },
    {
     "name": "stderr",
     "output_type": "stream",
     "text": [
      "\r",
      "                                                                               \r",
      "\r",
      " 22% (253 of 1101) |#####                 | Elapsed Time: 0:03:48 ETA:  0:14:27"
     ]
    },
    {
     "name": "stdout",
     "output_type": "stream",
     "text": [
      "connected mappoints  125\n",
      "8020 \n",
      " [[  9.99952568e-01  -5.73053149e-03   7.87547839e-03   3.09933051e-02]\n",
      " [  5.72830206e-03   9.99983546e-01   3.05613457e-04   1.30084663e-02]\n",
      " [ -7.87710014e-03  -2.60485842e-04   9.99968941e-01  -7.77158584e-01]\n",
      " [  0.00000000e+00   0.00000000e+00   0.00000000e+00   1.00000000e+00]]\n"
     ]
    },
    {
     "name": "stderr",
     "output_type": "stream",
     "text": [
      "\r",
      "                                                                               \r",
      "\r",
      " 23% (254 of 1101) |#####                 | Elapsed Time: 0:03:49 ETA:  0:15:10"
     ]
    },
    {
     "name": "stdout",
     "output_type": "stream",
     "text": [
      "connected mappoints  131\n",
      "8021 \n",
      " [[  9.99965157e-01   2.31441118e-04   8.34457251e-03   1.63469442e-02]\n",
      " [ -2.14965941e-04   9.99998026e-01  -1.97520129e-03   1.70351138e-02]\n",
      " [ -8.34501318e-03   1.97333867e-03   9.99963233e-01  -7.74268910e-01]\n",
      " [  0.00000000e+00   0.00000000e+00   0.00000000e+00   1.00000000e+00]]\n"
     ]
    },
    {
     "name": "stderr",
     "output_type": "stream",
     "text": [
      "\r",
      "                                                                               \r",
      "\r",
      " 23% (255 of 1101) |#####                 | Elapsed Time: 0:03:50 ETA:  0:16:00"
     ]
    },
    {
     "name": "stdout",
     "output_type": "stream",
     "text": [
      "connected mappoints  131\n",
      "8022 \n",
      " [[ 0.99996283  0.00181645  0.00842864  0.01252817]\n",
      " [-0.00176429  0.99997927 -0.00619179  0.01133708]\n",
      " [-0.00843971  0.00617669  0.99994531 -0.78447145]\n",
      " [ 0.          0.          0.          1.        ]]\n"
     ]
    },
    {
     "name": "stderr",
     "output_type": "stream",
     "text": [
      "\r",
      "                                                                               \r",
      "\r",
      " 23% (256 of 1101) |#####                 | Elapsed Time: 0:03:52 ETA:  0:16:47"
     ]
    },
    {
     "name": "stdout",
     "output_type": "stream",
     "text": [
      "connected mappoints  151\n",
      "8023 \n",
      " [[ 0.99997397  0.00107759  0.00713411  0.01379295]\n",
      " [-0.00102078  0.99996779 -0.007961    0.02006015]\n",
      " [-0.00714246  0.00795351  0.99994286 -0.78667767]\n",
      " [ 0.          0.          0.          1.        ]]\n"
     ]
    },
    {
     "name": "stderr",
     "output_type": "stream",
     "text": [
      "\r",
      "                                                                               \r",
      "\r",
      " 23% (257 of 1101) |#####                 | Elapsed Time: 0:03:53 ETA:  0:17:34"
     ]
    },
    {
     "name": "stdout",
     "output_type": "stream",
     "text": [
      "connected mappoints  144\n",
      "8024 \n",
      " [[ 0.99994584 -0.00838556  0.00616427  0.02962752]\n",
      " [ 0.00842582  0.99994315 -0.00653409  0.02949292]\n",
      " [-0.00610913  0.00658567  0.99995965 -0.7816358 ]\n",
      " [ 0.          0.          0.          1.        ]]\n"
     ]
    },
    {
     "name": "stderr",
     "output_type": "stream",
     "text": [
      "\r",
      "                                                                               \r",
      "\r",
      " 23% (258 of 1101) |#####                 | Elapsed Time: 0:03:55 ETA:  0:18:24"
     ]
    },
    {
     "name": "stdout",
     "output_type": "stream",
     "text": [
      "connected mappoints  128\n",
      "8025 \n",
      " [[ 0.99995055 -0.00778016  0.00619329  0.0200748 ]\n",
      " [ 0.00776078  0.99996493  0.00314664  0.01621417]\n",
      " [-0.00621755 -0.00309842  0.99997587 -0.76656107]\n",
      " [ 0.          0.          0.          1.        ]]\n"
     ]
    },
    {
     "name": "stderr",
     "output_type": "stream",
     "text": [
      "\r",
      "                                                                               \r",
      "\r",
      " 23% (259 of 1101) |#####                 | Elapsed Time: 0:03:56 ETA:  0:18:52"
     ]
    },
    {
     "name": "stdout",
     "output_type": "stream",
     "text": [
      "connected mappoints  122\n",
      "8026 \n",
      " [[  9.99983603e-01   6.31209156e-04   5.69174323e-03   1.68146308e-02]\n",
      " [ -6.76268863e-04   9.99968422e-01   7.91823325e-03   8.00844262e-03]\n",
      " [ -5.68656543e-03  -7.92195256e-03   9.99952452e-01  -7.67647637e-01]\n",
      " [  0.00000000e+00   0.00000000e+00   0.00000000e+00   1.00000000e+00]]\n"
     ]
    },
    {
     "name": "stderr",
     "output_type": "stream",
     "text": [
      "\r",
      "                                                                               \r",
      "\r",
      " 23% (260 of 1101) |#####                 | Elapsed Time: 0:03:58 ETA:  0:19:27"
     ]
    },
    {
     "name": "stdout",
     "output_type": "stream",
     "text": [
      "connected mappoints  130\n",
      "8027 \n",
      " [[ 0.99997184  0.00538084  0.00523078  0.00814067]\n",
      " [-0.00542101  0.99995569  0.00769551  0.00347363]\n",
      " [-0.00518914 -0.00772365  0.99995671 -0.77291635]\n",
      " [ 0.          0.          0.          1.        ]]\n"
     ]
    },
    {
     "name": "stderr",
     "output_type": "stream",
     "text": [
      "\r",
      "                                                                               \r",
      "\r",
      " 23% (261 of 1101) |#####                 | Elapsed Time: 0:03:59 ETA:  0:20:07"
     ]
    },
    {
     "name": "stdout",
     "output_type": "stream",
     "text": [
      "connected mappoints  146\n",
      "8028 \n",
      " [[  9.99991065e-01  -7.40939233e-04   4.16192006e-03   1.05902998e-02]\n",
      " [  7.37991693e-04   9.99999476e-01   7.09707283e-04   9.41850332e-03]\n",
      " [ -4.16244372e-03  -7.06629479e-04   9.99991087e-01  -7.66085578e-01]\n",
      " [  0.00000000e+00   0.00000000e+00   0.00000000e+00   1.00000000e+00]]\n"
     ]
    },
    {
     "name": "stderr",
     "output_type": "stream",
     "text": [
      "\r",
      "                                                                               \r",
      "\r",
      " 23% (262 of 1101) |#####                 | Elapsed Time: 0:04:01 ETA:  0:20:38"
     ]
    },
    {
     "name": "stdout",
     "output_type": "stream",
     "text": [
      "connected mappoints  148\n",
      "8029 \n",
      " [[ 0.99997836 -0.00438735  0.00490272  0.02001239]\n",
      " [ 0.00441162  0.99997801 -0.00495083  0.0181854 ]\n",
      " [-0.00488089  0.00497236  0.99997573 -0.77835843]\n",
      " [ 0.          0.          0.          1.        ]]\n"
     ]
    },
    {
     "name": "stderr",
     "output_type": "stream",
     "text": [
      "\r",
      "                                                                               \r",
      "\r",
      " 23% (263 of 1101) |#####                 | Elapsed Time: 0:04:03 ETA:  0:20:51"
     ]
    },
    {
     "name": "stdout",
     "output_type": "stream",
     "text": [
      "connected mappoints  177\n",
      "8030 \n",
      " [[  9.99982521e-01  -4.70394169e-04   5.89373535e-03   1.52158035e-02]\n",
      " [  4.95337979e-04   9.99990924e-01  -4.23151355e-03   2.40829789e-02]\n",
      " [ -5.89169138e-03   4.23435898e-03   9.99973679e-01  -7.85121377e-01]\n",
      " [  0.00000000e+00   0.00000000e+00   0.00000000e+00   1.00000000e+00]]\n"
     ]
    },
    {
     "name": "stderr",
     "output_type": "stream",
     "text": [
      "\r",
      "                                                                               \r",
      "\r",
      " 23% (264 of 1101) |#####                 | Elapsed Time: 0:04:04 ETA:  0:21:09"
     ]
    },
    {
     "name": "stdout",
     "output_type": "stream",
     "text": [
      "connected mappoints  109\n",
      "8031 \n",
      " [[ 0.99998225  0.00278492  0.00526655  0.01643053]\n",
      " [-0.00279594  0.99999391  0.00208662  0.02165689]\n",
      " [-0.00526071 -0.00210131  0.99998395 -0.78347878]\n",
      " [ 0.          0.          0.          1.        ]]\n"
     ]
    },
    {
     "name": "stderr",
     "output_type": "stream",
     "text": [
      "\r",
      "                                                                               \r",
      "\r",
      " 24% (265 of 1101) |#####                 | Elapsed Time: 0:04:06 ETA:  0:21:00"
     ]
    },
    {
     "name": "stdout",
     "output_type": "stream",
     "text": [
      "connected mappoints  90\n",
      "8032 \n",
      " [[  9.99986322e-01  -1.63086055e-04   5.22778993e-03   1.50637950e-02]\n",
      " [  1.28937356e-04   9.99978659e-01   6.53181990e-03   5.26140702e-03]\n",
      " [ -5.22874361e-03  -6.53105650e-03   9.99965002e-01  -7.80225189e-01]\n",
      " [  0.00000000e+00   0.00000000e+00   0.00000000e+00   1.00000000e+00]]\n"
     ]
    },
    {
     "name": "stderr",
     "output_type": "stream",
     "text": [
      "\r",
      "                                                                               \r",
      "\r",
      " 24% (266 of 1101) |#####                 | Elapsed Time: 0:04:07 ETA:  0:20:57"
     ]
    },
    {
     "name": "stdout",
     "output_type": "stream",
     "text": [
      "connected mappoints  149\n",
      "8033 \n",
      " [[  9.99987788e-01  -3.66043437e-04   4.92852723e-03   1.88019475e-02]\n",
      " [  3.32525710e-04   9.99976825e-01   6.79986195e-03   3.45640912e-03]\n",
      " [ -4.93090205e-03  -6.79814005e-03   9.99964735e-01  -7.80772666e-01]\n",
      " [  0.00000000e+00   0.00000000e+00   0.00000000e+00   1.00000000e+00]]\n"
     ]
    },
    {
     "name": "stderr",
     "output_type": "stream",
     "text": [
      "\r",
      "                                                                               \r",
      "\r",
      " 24% (267 of 1101) |#####                 | Elapsed Time: 0:04:09 ETA:  0:21:13"
     ]
    },
    {
     "name": "stdout",
     "output_type": "stream",
     "text": [
      "connected mappoints  194\n",
      "8034 \n",
      " [[ 0.99998583 -0.00180785  0.00500625  0.01783485]\n",
      " [ 0.0018008   0.99999738  0.00141093  0.01116655]\n",
      " [-0.00500879 -0.00140189  0.99998647 -0.7782068 ]\n",
      " [ 0.          0.          0.          1.        ]]\n"
     ]
    },
    {
     "name": "stderr",
     "output_type": "stream",
     "text": [
      "\r",
      "                                                                               \r",
      "\r",
      " 24% (268 of 1101) |#####                 | Elapsed Time: 0:04:10 ETA:  0:21:24"
     ]
    },
    {
     "name": "stdout",
     "output_type": "stream",
     "text": [
      "connected mappoints  179\n",
      "8035 \n",
      " [[  9.99990305e-01  -6.29793483e-04   4.35805665e-03   1.71974794e-02]\n",
      " [  6.47090967e-04   9.99991915e-01  -3.96881089e-03   1.14035774e-02]\n",
      " [ -4.35552189e-03   3.97159248e-03   9.99982628e-01  -7.92156188e-01]\n",
      " [  0.00000000e+00   0.00000000e+00   0.00000000e+00   1.00000000e+00]]\n"
     ]
    },
    {
     "name": "stderr",
     "output_type": "stream",
     "text": [
      "\r",
      "                                                                               \r",
      "\r",
      " 24% (269 of 1101) |#####                 | Elapsed Time: 0:04:11 ETA:  0:21:10"
     ]
    },
    {
     "name": "stdout",
     "output_type": "stream",
     "text": [
      "connected mappoints  175\n",
      "8036 \n",
      " [[  9.99988052e-01  -9.00692156e-04   4.80458345e-03   8.88435233e-03]\n",
      " [  9.10201766e-04   9.99997631e-01  -1.97745948e-03   1.56826062e-02]\n",
      " [ -4.80279098e-03   1.98180899e-03   9.99986503e-01  -7.86094740e-01]\n",
      " [  0.00000000e+00   0.00000000e+00   0.00000000e+00   1.00000000e+00]]\n"
     ]
    },
    {
     "name": "stderr",
     "output_type": "stream",
     "text": [
      "\r",
      "                                                                               \r",
      "\r",
      " 24% (270 of 1101) |#####                 | Elapsed Time: 0:04:13 ETA:  0:20:38"
     ]
    },
    {
     "name": "stdout",
     "output_type": "stream",
     "text": [
      "connected mappoints  104\n",
      "8037 \n",
      " [[  9.99986235e-01  -1.19337552e-04   5.24553218e-03   1.02039227e-02]\n",
      " [  1.20770806e-04   9.99999955e-01  -2.72917283e-04   1.36516425e-02]\n",
      " [ -5.24549938e-03   2.73547033e-04   9.99986205e-01  -7.85070432e-01]\n",
      " [  0.00000000e+00   0.00000000e+00   0.00000000e+00   1.00000000e+00]]\n"
     ]
    },
    {
     "name": "stderr",
     "output_type": "stream",
     "text": [
      "\r",
      "                                                                               \r",
      "\r",
      " 24% (271 of 1101) |#####                 | Elapsed Time: 0:04:14 ETA:  0:19:57"
     ]
    },
    {
     "name": "stdout",
     "output_type": "stream",
     "text": [
      "connected mappoints  56\n",
      "8038 \n",
      " [[  9.99985236e-01   2.06919067e-03   5.02461404e-03   8.49989651e-03]\n",
      " [ -2.07344454e-03   9.99997496e-01   8.41544442e-04   1.74356926e-02]\n",
      " [ -5.02286015e-03  -8.51950276e-04   9.99987022e-01  -7.86626397e-01]\n",
      " [  0.00000000e+00   0.00000000e+00   0.00000000e+00   1.00000000e+00]]\n"
     ]
    },
    {
     "name": "stderr",
     "output_type": "stream",
     "text": [
      "\r",
      "                                                                               \r",
      "\r",
      " 24% (272 of 1101) |#####                 | Elapsed Time: 0:04:15 ETA:  0:19:00"
     ]
    },
    {
     "name": "stdout",
     "output_type": "stream",
     "text": [
      "connected mappoints  89\n",
      "8039 \n",
      " [[  9.99987293e-01   1.93345125e-03   4.65572607e-03   1.20239942e-02]\n",
      " [ -1.93772702e-03   9.99997705e-01   9.14053677e-04   1.12541642e-02]\n",
      " [ -4.65394810e-03  -9.23063588e-04   9.99988744e-01  -7.80223323e-01]\n",
      " [  0.00000000e+00   0.00000000e+00   0.00000000e+00   1.00000000e+00]]\n"
     ]
    },
    {
     "name": "stderr",
     "output_type": "stream",
     "text": [
      "\r",
      "                                                                               \r",
      "\r",
      " 24% (273 of 1101) |#####                 | Elapsed Time: 0:04:16 ETA:  0:18:09"
     ]
    },
    {
     "name": "stdout",
     "output_type": "stream",
     "text": [
      "connected mappoints  144\n",
      "8040 \n",
      " [[  9.99988059e-01   1.02406150e-03   4.77842987e-03   7.20922127e-03]\n",
      " [ -1.02234337e-03   9.99999412e-01  -3.61987752e-04   1.30140702e-02]\n",
      " [ -4.77879776e-03   3.57098233e-04   9.99988518e-01  -7.62020409e-01]\n",
      " [  0.00000000e+00   0.00000000e+00   0.00000000e+00   1.00000000e+00]]\n"
     ]
    },
    {
     "name": "stderr",
     "output_type": "stream",
     "text": [
      "\r",
      "                                                                               \r",
      "\r",
      " 24% (274 of 1101) |#####                 | Elapsed Time: 0:04:17 ETA:  0:17:04"
     ]
    },
    {
     "name": "stdout",
     "output_type": "stream",
     "text": [
      "connected mappoints  129\n",
      "8041 \n",
      " [[  9.99963107e-01   1.41543962e-03   8.47242863e-03  -1.09641731e-01]\n",
      " [ -1.41586734e-03   9.99998997e-01   4.44869559e-05  -1.62624271e-02]\n",
      " [ -8.47235717e-03  -5.64811497e-05   9.99964107e-01  -6.57975550e-01]\n",
      " [  0.00000000e+00   0.00000000e+00   0.00000000e+00   1.00000000e+00]]\n"
     ]
    },
    {
     "name": "stderr",
     "output_type": "stream",
     "text": [
      "\r",
      "                                                                               \r",
      "\r",
      " 24% (275 of 1101) |#####                 | Elapsed Time: 0:04:17 ETA:  0:16:19"
     ]
    },
    {
     "name": "stdout",
     "output_type": "stream",
     "text": [
      "connected mappoints  138\n",
      "8042 \n",
      " [[  9.99988640e-01  -2.45721442e-04   4.76027373e-03   1.67363306e-02]\n",
      " [  2.44664873e-04   9.99999945e-01   2.22536514e-04   1.32581115e-02]\n",
      " [ -4.76032815e-03  -2.21369314e-04   9.99988645e-01  -7.64585080e-01]\n",
      " [  0.00000000e+00   0.00000000e+00   0.00000000e+00   1.00000000e+00]]\n"
     ]
    },
    {
     "name": "stderr",
     "output_type": "stream",
     "text": [
      "\r",
      "                                                                               \r",
      "\r",
      " 25% (276 of 1101) |#####                 | Elapsed Time: 0:04:18 ETA:  0:15:34"
     ]
    },
    {
     "name": "stdout",
     "output_type": "stream",
     "text": [
      "connected mappoints  156\n",
      "8043 \n",
      " [[ 0.99998661  0.0011451   0.00504746  0.00693248]\n",
      " [-0.00116591  0.99999082  0.00412241  0.01504831]\n",
      " [-0.00504269 -0.00412824  0.99997876 -0.75952299]\n",
      " [ 0.          0.          0.          1.        ]]\n"
     ]
    },
    {
     "name": "stderr",
     "output_type": "stream",
     "text": [
      "\r",
      "                                                                               \r",
      "\r",
      " 25% (277 of 1101) |#####                 | Elapsed Time: 0:04:19 ETA:  0:14:35"
     ]
    },
    {
     "name": "stdout",
     "output_type": "stream",
     "text": [
      "connected mappoints  174\n",
      "8044 \n",
      " [[ 0.99998751  0.00139575  0.00479933  0.00872575]\n",
      " [-0.00141804  0.99998821  0.00464356  0.01410823]\n",
      " [-0.0047928  -0.00465031  0.9999777  -0.75278741]\n",
      " [ 0.          0.          0.          1.        ]]\n"
     ]
    },
    {
     "name": "stderr",
     "output_type": "stream",
     "text": [
      "\r",
      "                                                                               \r",
      "\r",
      " 25% (278 of 1101) |#####                 | Elapsed Time: 0:04:20 ETA:  0:13:37"
     ]
    },
    {
     "name": "stdout",
     "output_type": "stream",
     "text": [
      "connected mappoints  168\n",
      "8045 \n",
      " [[  9.99991284e-01   6.71430749e-05   4.17451171e-03   1.44058964e-02]\n",
      " [ -7.82560094e-05   9.99996454e-01   2.66198572e-03   1.06418416e-02]\n",
      " [ -4.17431817e-03  -2.66228920e-03   9.99987744e-01  -7.51527015e-01]\n",
      " [  0.00000000e+00   0.00000000e+00   0.00000000e+00   1.00000000e+00]]\n"
     ]
    },
    {
     "name": "stderr",
     "output_type": "stream",
     "text": [
      "\r",
      "                                                                               \r",
      "\r",
      " 25% (279 of 1101) |#####                 | Elapsed Time: 0:04:21 ETA:  0:13:21"
     ]
    },
    {
     "name": "stdout",
     "output_type": "stream",
     "text": [
      "connected mappoints  198\n",
      "8046 \n",
      " [[  9.99992304e-01   4.61553168e-05   3.92303525e-03   1.21307550e-02]\n",
      " [ -3.29465694e-05   9.99994331e-01  -3.36696931e-03   6.60278520e-03]\n",
      " [ -3.92316842e-03   3.36681415e-03   9.99986637e-01  -7.47997399e-01]\n",
      " [  0.00000000e+00   0.00000000e+00   0.00000000e+00   1.00000000e+00]]\n"
     ]
    },
    {
     "name": "stderr",
     "output_type": "stream",
     "text": [
      "\r",
      "                                                                               \r",
      "\r",
      " 25% (280 of 1101) |#####                 | Elapsed Time: 0:04:22 ETA:  0:13:07"
     ]
    },
    {
     "name": "stdout",
     "output_type": "stream",
     "text": [
      "connected mappoints  201\n",
      "8047 \n",
      " [[  9.99992359e-01   5.87929902e-04   3.86462282e-03   8.88198441e-03]\n",
      " [ -5.54744143e-04   9.99963016e-01  -8.58253298e-03   2.02180909e-02]\n",
      " [ -3.86952581e-03   8.58032352e-03   9.99955701e-01  -7.54457442e-01]\n",
      " [  0.00000000e+00   0.00000000e+00   0.00000000e+00   1.00000000e+00]]\n"
     ]
    },
    {
     "name": "stderr",
     "output_type": "stream",
     "text": [
      "\r",
      "                                                                               \r",
      "\r",
      " 25% (281 of 1101) |#####                 | Elapsed Time: 0:04:23 ETA:  0:13:01"
     ]
    },
    {
     "name": "stdout",
     "output_type": "stream",
     "text": [
      "connected mappoints  172\n",
      "8048 \n",
      " [[ 0.99998964  0.0032119   0.00322533  0.0048832 ]\n",
      " [-0.00318184  0.99995186 -0.00928215  0.0262211 ]\n",
      " [-0.00325499  0.0092718   0.99995172 -0.74098176]\n",
      " [ 0.          0.          0.          1.        ]]\n"
     ]
    },
    {
     "name": "stderr",
     "output_type": "stream",
     "text": [
      "\r",
      "                                                                               \r",
      "\r",
      " 25% (282 of 1101) |#####                 | Elapsed Time: 0:04:24 ETA:  0:13:08"
     ]
    },
    {
     "name": "stdout",
     "output_type": "stream",
     "text": [
      "connected mappoints  172\n",
      "8049 \n",
      " [[ 0.99998842  0.00345192  0.00335394  0.00732091]\n",
      " [-0.0034368   0.99998396 -0.00450282  0.02416435]\n",
      " [-0.00336943  0.00449124  0.99998424 -0.73688271]\n",
      " [ 0.          0.          0.          1.        ]]\n"
     ]
    },
    {
     "name": "stderr",
     "output_type": "stream",
     "text": [
      "\r",
      "                                                                               \r",
      "\r",
      " 25% (283 of 1101) |#####                 | Elapsed Time: 0:04:25 ETA:  0:13:13"
     ]
    },
    {
     "name": "stdout",
     "output_type": "stream",
     "text": [
      "connected mappoints  170\n",
      "8050 \n",
      " [[  9.99989664e-01   2.97543598e-03   3.43780477e-03   1.89021386e-03]\n",
      " [ -2.97750388e-03   9.99995389e-01   5.96557825e-04   2.24415805e-02]\n",
      " [ -3.43601390e-03  -6.06787736e-04   9.99993913e-01  -7.07320218e-01]\n",
      " [  0.00000000e+00   0.00000000e+00   0.00000000e+00   1.00000000e+00]]\n"
     ]
    },
    {
     "name": "stderr",
     "output_type": "stream",
     "text": [
      "\r",
      "                                                                               \r",
      "\r",
      " 25% (284 of 1101) |#####                 | Elapsed Time: 0:04:27 ETA:  0:13:33"
     ]
    },
    {
     "name": "stdout",
     "output_type": "stream",
     "text": [
      "connected mappoints  170\n",
      "8051 \n",
      " [[  9.99993905e-01  -2.08461851e-05   3.49125823e-03   1.03285255e-02]\n",
      " [  8.95978719e-06   9.99994204e-01   3.40459826e-03   1.96207204e-02]\n",
      " [ -3.49130897e-03  -3.40454623e-03   9.99988110e-01  -6.88523746e-01]\n",
      " [  0.00000000e+00   0.00000000e+00   0.00000000e+00   1.00000000e+00]]\n"
     ]
    },
    {
     "name": "stderr",
     "output_type": "stream",
     "text": [
      "\r",
      "                                                                               \r",
      "\r",
      " 25% (285 of 1101) |#####                 | Elapsed Time: 0:04:28 ETA:  0:14:00"
     ]
    },
    {
     "name": "stdout",
     "output_type": "stream",
     "text": [
      "connected mappoints  174\n",
      "8052 \n",
      " [[  9.99993724e-01   8.72750077e-04   3.43357873e-03   4.06124344e-03]\n",
      " [ -8.82054750e-04   9.99995941e-01   2.70932468e-03   1.93998951e-02]\n",
      " [ -3.43120023e-03  -2.71233628e-03   9.99990435e-01  -6.57807935e-01]\n",
      " [  0.00000000e+00   0.00000000e+00   0.00000000e+00   1.00000000e+00]]\n"
     ]
    },
    {
     "name": "stderr",
     "output_type": "stream",
     "text": [
      "\r",
      "                                                                               \r",
      "\r",
      " 25% (286 of 1101) |#####                 | Elapsed Time: 0:04:29 ETA:  0:14:31"
     ]
    },
    {
     "name": "stdout",
     "output_type": "stream",
     "text": [
      "connected mappoints  147\n",
      "8053 \n",
      " [[  9.99995793e-01   8.45677560e-04   2.77481765e-03   1.21812869e-02]\n",
      " [ -8.49120015e-04   9.99998871e-01   1.23966239e-03   1.22679338e-02]\n",
      " [ -2.77376616e-03  -1.24201332e-03   9.99995382e-01  -6.48572826e-01]\n",
      " [  0.00000000e+00   0.00000000e+00   0.00000000e+00   1.00000000e+00]]\n"
     ]
    },
    {
     "name": "stderr",
     "output_type": "stream",
     "text": [
      "\r",
      "                                                                               \r",
      "\r",
      " 26% (287 of 1101) |#####                 | Elapsed Time: 0:04:30 ETA:  0:15:01"
     ]
    },
    {
     "name": "stdout",
     "output_type": "stream",
     "text": [
      "connected mappoints  132\n",
      "8054 \n",
      " [[  9.99995363e-01   1.61018734e-03   2.58492490e-03   4.65990517e-03]\n",
      " [ -1.60996627e-03   9.99998700e-01  -8.75984353e-05   2.69210724e-02]\n",
      " [ -2.58506259e-03   8.34363872e-05   9.99996655e-01  -6.30571925e-01]\n",
      " [  0.00000000e+00   0.00000000e+00   0.00000000e+00   1.00000000e+00]]\n"
     ]
    },
    {
     "name": "stderr",
     "output_type": "stream",
     "text": [
      "\r",
      "                                                                               \r",
      "\r",
      " 26% (288 of 1101) |#####                 | Elapsed Time: 0:04:32 ETA:  0:15:38"
     ]
    },
    {
     "name": "stdout",
     "output_type": "stream",
     "text": [
      "connected mappoints  144\n",
      "8055 \n",
      " [[  9.99996912e-01  -1.65410950e-04   2.47954013e-03   1.12280963e-02]\n",
      " [  1.68017875e-04   9.99999433e-01  -1.05120312e-03   1.94434400e-02]\n",
      " [ -2.47936484e-03   1.05161648e-03   9.99996373e-01  -6.13163814e-01]\n",
      " [  0.00000000e+00   0.00000000e+00   0.00000000e+00   1.00000000e+00]]\n"
     ]
    },
    {
     "name": "stderr",
     "output_type": "stream",
     "text": [
      "\r",
      "                                                                               \r",
      "\r",
      " 26% (289 of 1101) |#####                 | Elapsed Time: 0:04:33 ETA:  0:16:09"
     ]
    },
    {
     "name": "stdout",
     "output_type": "stream",
     "text": [
      "connected mappoints  139\n",
      "8056 \n",
      " [[ 0.99999567  0.00142901  0.00257329  0.00549302]\n",
      " [-0.00142603  0.99999831 -0.00115966  0.00864995]\n",
      " [-0.00257495  0.00115599  0.99999602 -0.5932447 ]\n",
      " [ 0.          0.          0.          1.        ]]\n"
     ]
    },
    {
     "name": "stderr",
     "output_type": "stream",
     "text": [
      "\r",
      "                                                                               \r",
      "\r",
      " 26% (290 of 1101) |#####                 | Elapsed Time: 0:04:35 ETA:  0:16:48"
     ]
    },
    {
     "name": "stdout",
     "output_type": "stream",
     "text": [
      "connected mappoints  150\n",
      "8057 \n",
      " [[  9.99992115e-01   2.42697559e-03   3.14330932e-03  -1.18131777e-03]\n",
      " [ -2.42566452e-03   9.99996970e-01  -4.20844778e-04   1.37564584e-02]\n",
      " [ -3.14432118e-03   4.13216845e-04   9.99994971e-01  -5.73350991e-01]\n",
      " [  0.00000000e+00   0.00000000e+00   0.00000000e+00   1.00000000e+00]]\n"
     ]
    },
    {
     "name": "stderr",
     "output_type": "stream",
     "text": [
      "\r",
      "                                                                               \r",
      "\r",
      " 26% (291 of 1101) |#####                 | Elapsed Time: 0:04:36 ETA:  0:17:32"
     ]
    },
    {
     "name": "stdout",
     "output_type": "stream",
     "text": [
      "connected mappoints  153\n",
      "8058 \n",
      " [[  9.99993786e-01   1.82161530e-03   3.01829793e-03  -5.16886282e-03]\n",
      " [ -1.82058114e-03   9.99998283e-01  -3.45342261e-04   1.73321385e-02]\n",
      " [ -3.01892183e-03   3.39845059e-04   9.99995385e-01  -5.43235145e-01]\n",
      " [  0.00000000e+00   0.00000000e+00   0.00000000e+00   1.00000000e+00]]\n"
     ]
    },
    {
     "name": "stderr",
     "output_type": "stream",
     "text": [
      "\r",
      "                                                                               \r",
      "\r",
      " 26% (292 of 1101) |#####                 | Elapsed Time: 0:04:38 ETA:  0:18:42"
     ]
    },
    {
     "name": "stdout",
     "output_type": "stream",
     "text": [
      "connected mappoints  163\n",
      "8059 \n",
      " [[  9.99997202e-01   5.49029591e-04   2.30119176e-03   5.39029680e-03]\n",
      " [ -5.50792573e-04   9.99999555e-01   7.65552978e-04   2.00428461e-02]\n",
      " [ -2.30077043e-03  -7.66818315e-04   9.99997059e-01  -5.25085966e-01]\n",
      " [  0.00000000e+00   0.00000000e+00   0.00000000e+00   1.00000000e+00]]\n"
     ]
    },
    {
     "name": "stderr",
     "output_type": "stream",
     "text": [
      "\r",
      "                                                                               \r",
      "\r",
      " 26% (293 of 1101) |#####                 | Elapsed Time: 0:04:40 ETA:  0:19:58"
     ]
    },
    {
     "name": "stdout",
     "output_type": "stream",
     "text": [
      "connected mappoints  191\n",
      "8060 \n",
      " [[ 0.99999507 -0.00226382  0.00217406  0.01380245]\n",
      " [ 0.00225696  0.99999248  0.0031548   0.01822227]\n",
      " [-0.00218118 -0.00314987  0.99999266 -0.49557557]\n",
      " [ 0.          0.          0.          1.        ]]\n"
     ]
    },
    {
     "name": "stderr",
     "output_type": "stream",
     "text": [
      "\r",
      "                                                                               \r",
      "\r",
      " 26% (294 of 1101) |#####                 | Elapsed Time: 0:04:42 ETA:  0:21:21"
     ]
    },
    {
     "name": "stdout",
     "output_type": "stream",
     "text": [
      "connected mappoints  219\n",
      "8061 \n",
      " [[  9.99995272e-01   7.15228950e-04   2.99059020e-03   7.22315905e-03]\n",
      " [ -7.27965497e-04   9.99990661e-01   4.25995681e-03   5.78249485e-03]\n",
      " [ -2.98751542e-03  -4.26211372e-03   9.99986454e-01  -4.82451591e-01]\n",
      " [  0.00000000e+00   0.00000000e+00   0.00000000e+00   1.00000000e+00]]\n"
     ]
    },
    {
     "name": "stderr",
     "output_type": "stream",
     "text": [
      "\r",
      "                                                                               \r",
      "\r",
      " 26% (295 of 1101) |#####                 | Elapsed Time: 0:04:45 ETA:  0:22:50"
     ]
    },
    {
     "name": "stdout",
     "output_type": "stream",
     "text": [
      "connected mappoints  254\n",
      "8062 \n",
      " [[ 0.99998601  0.0029875   0.00436476  0.0025185 ]\n",
      " [-0.00299695  0.99999317  0.00216098  0.00908225]\n",
      " [-0.00435827 -0.00217403  0.99998814 -0.46515741]\n",
      " [ 0.          0.          0.          1.        ]]\n"
     ]
    },
    {
     "name": "stderr",
     "output_type": "stream",
     "text": [
      "\r",
      "                                                                               \r",
      "\r",
      " 26% (296 of 1101) |#####                 | Elapsed Time: 0:04:47 ETA:  0:24:23"
     ]
    },
    {
     "name": "stdout",
     "output_type": "stream",
     "text": [
      "connected mappoints  251\n",
      "8063 \n",
      " [[  9.99973356e-01   5.24420519e-03   5.07786268e-03  -1.38911772e-03]\n",
      " [ -5.24289063e-03   9.99986219e-01  -2.72157307e-04   4.75807524e-03]\n",
      " [ -5.07921995e-03   2.45527377e-04   9.99987071e-01  -4.41413416e-01]\n",
      " [  0.00000000e+00   0.00000000e+00   0.00000000e+00   1.00000000e+00]]\n"
     ]
    },
    {
     "name": "stderr",
     "output_type": "stream",
     "text": [
      "\r",
      "                                                                               \r",
      "\r",
      " 26% (297 of 1101) |#####                 | Elapsed Time: 0:04:50 ETA:  0:25:50"
     ]
    },
    {
     "name": "stdout",
     "output_type": "stream",
     "text": [
      "connected mappoints  238\n",
      "8064 \n",
      " [[  9.99981100e-01  -4.73545532e-04   6.12995153e-03   7.93108067e-03]\n",
      " [  4.81455381e-04   9.99999053e-01  -1.28894953e-03   7.41218493e-03]\n",
      " [ -6.12933535e-03   1.29187647e-03   9.99980381e-01  -4.22327307e-01]\n",
      " [  0.00000000e+00   0.00000000e+00   0.00000000e+00   1.00000000e+00]]\n"
     ]
    },
    {
     "name": "stderr",
     "output_type": "stream",
     "text": [
      "\r",
      "                                                                               \r",
      "\r",
      " 27% (298 of 1101) |#####                 | Elapsed Time: 0:04:52 ETA:  0:27:05"
     ]
    },
    {
     "name": "stdout",
     "output_type": "stream",
     "text": [
      "connected mappoints  244\n",
      "8065 \n",
      " [[ 0.99997367 -0.00317629  0.00652466  0.01758848]\n",
      " [ 0.00318712  0.99999356 -0.00165066  0.00766916]\n",
      " [-0.00651938  0.00167141  0.99997735 -0.39832825]\n",
      " [ 0.          0.          0.          1.        ]]\n"
     ]
    },
    {
     "name": "stderr",
     "output_type": "stream",
     "text": [
      "\r",
      "                                                                               \r",
      "\r",
      " 27% (299 of 1101) |#####                 | Elapsed Time: 0:04:54 ETA:  0:28:26"
     ]
    },
    {
     "name": "stdout",
     "output_type": "stream",
     "text": [
      "connected mappoints  244\n",
      "8066 \n",
      " [[ 0.99997023 -0.00432027  0.00639293  0.01593537]\n",
      " [ 0.00434744  0.99998155 -0.00424227  0.00890534]\n",
      " [-0.00637448  0.00426994  0.99997057 -0.38286368]\n",
      " [ 0.          0.          0.          1.        ]]\n"
     ]
    },
    {
     "name": "stderr",
     "output_type": "stream",
     "text": [
      "\r",
      "                                                                               \r",
      "\r",
      " 27% (300 of 1101) |#####                 | Elapsed Time: 0:04:57 ETA:  0:29:32"
     ]
    },
    {
     "name": "stdout",
     "output_type": "stream",
     "text": [
      "connected mappoints  239\n",
      "8067 \n",
      " [[ 0.9999736  -0.00166842  0.00707171  0.00973576]\n",
      " [ 0.00171612  0.99997579 -0.00674374  0.01111496]\n",
      " [-0.00706029  0.0067557   0.99995226 -0.36523286]\n",
      " [ 0.          0.          0.          1.        ]]\n"
     ]
    },
    {
     "name": "stderr",
     "output_type": "stream",
     "text": [
      "\r",
      "                                                                               \r",
      "\r",
      " 27% (301 of 1101) |######                | Elapsed Time: 0:04:59 ETA:  0:30:29"
     ]
    },
    {
     "name": "stdout",
     "output_type": "stream",
     "text": [
      "connected mappoints  229\n",
      "8068 \n",
      " [[  9.99963815e-01   8.55461482e-04   8.46390002e-03   4.65335405e-03]\n",
      " [ -8.20786283e-04   9.99991260e-01  -4.09946048e-03   1.42376028e-02]\n",
      " [ -8.46733298e-03   4.09236508e-03   9.99955777e-01  -3.41943822e-01]\n",
      " [  0.00000000e+00   0.00000000e+00   0.00000000e+00   1.00000000e+00]]\n"
     ]
    },
    {
     "name": "stderr",
     "output_type": "stream",
     "text": [
      "\r",
      "                                                                               \r",
      "\r",
      " 27% (302 of 1101) |######                | Elapsed Time: 0:05:02 ETA:  0:31:06"
     ]
    },
    {
     "name": "stdout",
     "output_type": "stream",
     "text": [
      "connected mappoints  237\n",
      "8069 \n",
      " [[  9.99948768e-01   3.93836681e-03   9.32476900e-03   5.79278091e-03]\n",
      " [ -3.92959615e-03   9.99991820e-01  -9.58711702e-04   8.69495695e-03]\n",
      " [ -9.32846848e-03   9.22020008e-04   9.99956064e-01  -3.27520562e-01]\n",
      " [  0.00000000e+00   0.00000000e+00   0.00000000e+00   1.00000000e+00]]\n"
     ]
    },
    {
     "name": "stderr",
     "output_type": "stream",
     "text": [
      "\r",
      "                                                                               \r",
      "\r",
      " 27% (303 of 1101) |######                | Elapsed Time: 0:05:04 ETA:  0:31:37"
     ]
    },
    {
     "name": "stdout",
     "output_type": "stream",
     "text": [
      "connected mappoints  207\n",
      "8070 \n",
      " [[  9.99923803e-01   3.17404425e-03   1.19295011e-02   5.11567204e-03]\n",
      " [ -3.16493949e-03   9.99994686e-01  -7.82015514e-04   7.68035710e-03]\n",
      " [ -1.19319199e-02   7.44199778e-04   9.99928535e-01  -3.03590924e-01]\n",
      " [  0.00000000e+00   0.00000000e+00   0.00000000e+00   1.00000000e+00]]\n"
     ]
    },
    {
     "name": "stderr",
     "output_type": "stream",
     "text": [
      "\r",
      "                                                                               \r",
      "\r",
      " 27% (304 of 1101) |######                | Elapsed Time: 0:05:07 ETA:  0:32:25"
     ]
    },
    {
     "name": "stdout",
     "output_type": "stream",
     "text": [
      "connected mappoints  241\n",
      "8071 \n",
      " [[ 0.99989145  0.00257975  0.01450656  0.00875932]\n",
      " [-0.00256392  0.9999961  -0.00110964  0.00862451]\n",
      " [-0.01450937  0.00107232  0.99989416 -0.28675216]\n",
      " [ 0.          0.          0.          1.        ]]\n"
     ]
    },
    {
     "name": "stderr",
     "output_type": "stream",
     "text": [
      "\r",
      "                                                                               \r",
      "\r",
      " 27% (305 of 1101) |######                | Elapsed Time: 0:05:10 ETA:  0:33:16"
     ]
    },
    {
     "name": "stdout",
     "output_type": "stream",
     "text": [
      "connected mappoints  260\n",
      "8072 \n",
      " [[  9.99857410e-01   8.76748891e-05   1.68864467e-02   1.12652502e-02]\n",
      " [ -7.26917907e-05   9.99999603e-01  -8.87897203e-04   1.00445636e-02]\n",
      " [ -1.68865178e-02   8.86543091e-04   9.99857020e-01  -2.70660876e-01]\n",
      " [  0.00000000e+00   0.00000000e+00   0.00000000e+00   1.00000000e+00]]\n"
     ]
    },
    {
     "name": "stderr",
     "output_type": "stream",
     "text": [
      "\r",
      "                                                                               \r",
      "\r",
      " 27% (306 of 1101) |######                | Elapsed Time: 0:05:13 ETA:  0:34:04"
     ]
    },
    {
     "name": "stdout",
     "output_type": "stream",
     "text": [
      "connected mappoints  266\n",
      "8073 \n",
      " [[  9.99807738e-01  -2.37871208e-03   1.94635017e-02   1.88418999e-02]\n",
      " [  2.37029953e-03   9.99997087e-01   4.55279531e-04   7.46873575e-03]\n",
      " [ -1.94645280e-02  -4.09057669e-04   9.99810464e-01  -2.57257372e-01]\n",
      " [  0.00000000e+00   0.00000000e+00   0.00000000e+00   1.00000000e+00]]\n"
     ]
    },
    {
     "name": "stderr",
     "output_type": "stream",
     "text": [
      "\r",
      "                                                                               \r",
      "\r",
      " 27% (307 of 1101) |######                | Elapsed Time: 0:05:16 ETA:  0:34:55"
     ]
    },
    {
     "name": "stdout",
     "output_type": "stream",
     "text": [
      "connected mappoints  249\n",
      "8074 \n",
      " [[  9.99760881e-01  -3.59484463e-04   2.18644050e-02   1.54796235e-02]\n",
      " [  3.01677460e-04   9.99996451e-01   2.64712731e-03   9.21247131e-03]\n",
      " [ -2.18652790e-02  -2.63989834e-03   9.99757441e-01  -2.40361446e-01]\n",
      " [  0.00000000e+00   0.00000000e+00   0.00000000e+00   1.00000000e+00]]\n"
     ]
    },
    {
     "name": "stderr",
     "output_type": "stream",
     "text": [
      "\r",
      "                                                                               \r",
      "\r",
      " 27% (308 of 1101) |######                | Elapsed Time: 0:05:19 ETA:  0:36:05"
     ]
    },
    {
     "name": "stdout",
     "output_type": "stream",
     "text": [
      "connected mappoints  229\n",
      "8075 \n",
      " [[ 0.99974395 -0.00125178  0.02259334  0.01767058]\n",
      " [ 0.00113109  0.99998503  0.00535415  0.00444274]\n",
      " [-0.0225997  -0.00532723  0.9997304  -0.22897958]\n",
      " [ 0.          0.          0.          1.        ]]\n"
     ]
    },
    {
     "name": "stderr",
     "output_type": "stream",
     "text": [
      "\r",
      "                                                                               \r",
      "\r",
      " 28% (309 of 1101) |######                | Elapsed Time: 0:05:23 ETA:  0:37:21"
     ]
    },
    {
     "name": "stdout",
     "output_type": "stream",
     "text": [
      "connected mappoints  233\n",
      "8076 \n",
      " [[  9.99745460e-01  -3.42774407e-05   2.25613186e-02   1.39117473e-02]\n",
      " [ -9.07986596e-05   9.99984635e-01   5.54278161e-03   1.04149011e-03]\n",
      " [ -2.25611619e-02  -5.54341929e-03   9.99730096e-01  -2.19097112e-01]\n",
      " [  0.00000000e+00   0.00000000e+00   0.00000000e+00   1.00000000e+00]]\n"
     ]
    },
    {
     "name": "stderr",
     "output_type": "stream",
     "text": [
      "\r",
      "                                                                               \r",
      "\r",
      " 28% (310 of 1101) |######                | Elapsed Time: 0:05:27 ETA:  0:39:18"
     ]
    },
    {
     "name": "stdout",
     "output_type": "stream",
     "text": [
      "connected mappoints  241\n",
      "8077 \n",
      " [[ 0.99973751 -0.00421063  0.02252071  0.01820036]\n",
      " [ 0.00411266  0.99998189  0.00439471 -0.00162372]\n",
      " [-0.02253881 -0.00430094  0.99973672 -0.21359257]\n",
      " [ 0.          0.          0.          1.        ]]\n"
     ]
    },
    {
     "name": "stderr",
     "output_type": "stream",
     "text": [
      "\r",
      "                                                                               \r",
      "\r",
      " 28% (311 of 1101) |######                | Elapsed Time: 0:05:31 ETA:  0:41:28"
     ]
    },
    {
     "name": "stdout",
     "output_type": "stream",
     "text": [
      "connected mappoints  246\n",
      "8078 \n",
      " [[  9.99724699e-01  -7.50100787e-03   2.22319949e-02   2.80100849e-02]\n",
      " [  7.44842960e-03   9.99969266e-01   2.44684756e-03   9.43827899e-04]\n",
      " [ -2.22496655e-02  -2.28058050e-03   9.99749844e-01  -2.13429315e-01]\n",
      " [  0.00000000e+00   0.00000000e+00   0.00000000e+00   1.00000000e+00]]\n"
     ]
    },
    {
     "name": "stderr",
     "output_type": "stream",
     "text": [
      "\r",
      "                                                                               \r",
      "\r",
      " 28% (312 of 1101) |######                | Elapsed Time: 0:05:35 ETA:  0:43:24"
     ]
    },
    {
     "name": "stdout",
     "output_type": "stream",
     "text": [
      "connected mappoints  252\n",
      "8079 \n",
      " [[  9.99703843e-01  -2.70520270e-03   2.41848553e-02   1.87443179e-02]\n",
      " [  2.70205710e-03   9.99996336e-01   1.62743352e-04   1.05100511e-03]\n",
      " [ -2.41852069e-02  -9.73462944e-05   9.99707490e-01  -2.18731361e-01]\n",
      " [  0.00000000e+00   0.00000000e+00   0.00000000e+00   1.00000000e+00]]\n"
     ]
    },
    {
     "name": "stderr",
     "output_type": "stream",
     "text": [
      "\r",
      "                                                                               \r",
      "\r",
      " 28% (313 of 1101) |######                | Elapsed Time: 0:05:39 ETA:  0:45:25"
     ]
    },
    {
     "name": "stdout",
     "output_type": "stream",
     "text": [
      "connected mappoints  257\n",
      "8080 \n",
      " [[  9.99665889e-01   3.05572247e-03   2.56665620e-02   9.64134527e-03]\n",
      " [ -3.04015396e-03   9.99995170e-01  -6.45567746e-04  -2.67471519e-03]\n",
      " [ -2.56684107e-02   5.67321755e-04   9.99670351e-01  -2.21148014e-01]\n",
      " [  0.00000000e+00   0.00000000e+00   0.00000000e+00   1.00000000e+00]]\n"
     ]
    },
    {
     "name": "stderr",
     "output_type": "stream",
     "text": [
      "\r",
      "                                                                               \r",
      "\r",
      " 28% (314 of 1101) |######                | Elapsed Time: 0:05:43 ETA:  0:47:05"
     ]
    },
    {
     "name": "stdout",
     "output_type": "stream",
     "text": [
      "connected mappoints  244\n",
      "8081 \n",
      " [[  9.99640220e-01   2.76482270e-03   2.66793388e-02   1.15978154e-02]\n",
      " [ -2.74052592e-03   9.99995796e-01  -9.47217781e-04  -2.02287062e-03]\n",
      " [ -2.66818455e-02   8.73761571e-04   9.99643594e-01  -2.20717087e-01]\n",
      " [  0.00000000e+00   0.00000000e+00   0.00000000e+00   1.00000000e+00]]\n"
     ]
    },
    {
     "name": "stderr",
     "output_type": "stream",
     "text": [
      "\r",
      "                                                                               \r",
      "\r",
      " 28% (315 of 1101) |######                | Elapsed Time: 0:05:46 ETA:  0:48:07"
     ]
    },
    {
     "name": "stdout",
     "output_type": "stream",
     "text": [
      "connected mappoints  200\n",
      "8082 \n",
      " [[  9.99580077e-01  -1.88994943e-04   2.89764421e-02   1.73022302e-02]\n",
      " [  2.43391577e-04   9.99998215e-01  -1.87375543e-03   1.01905091e-04]\n",
      " [ -2.89760362e-02   1.88002122e-03   9.99578339e-01  -2.20354508e-01]\n",
      " [  0.00000000e+00   0.00000000e+00   0.00000000e+00   1.00000000e+00]]\n"
     ]
    },
    {
     "name": "stderr",
     "output_type": "stream",
     "text": [
      "\r",
      "                                                                               \r",
      "\r",
      " 28% (316 of 1101) |######                | Elapsed Time: 0:05:50 ETA:  0:48:55"
     ]
    },
    {
     "name": "stdout",
     "output_type": "stream",
     "text": [
      "connected mappoints  219\n",
      "8083 \n",
      " [[  9.99530254e-01  -3.88006282e-03   3.04009439e-02   2.56694658e-02]\n",
      " [  3.96146138e-03   9.99988727e-01  -2.61772856e-03   6.91249267e-04]\n",
      " [ -3.03904442e-02   2.73693106e-03   9.99534357e-01  -2.19788302e-01]\n",
      " [  0.00000000e+00   0.00000000e+00   0.00000000e+00   1.00000000e+00]]\n"
     ]
    },
    {
     "name": "stderr",
     "output_type": "stream",
     "text": [
      "\r",
      "                                                                               \r",
      "\r",
      " 28% (317 of 1101) |######                | Elapsed Time: 0:05:54 ETA:  0:49:33"
     ]
    },
    {
     "name": "stdout",
     "output_type": "stream",
     "text": [
      "connected mappoints  218\n",
      "8084 \n",
      " [[  9.99531363e-01  -2.49449551e-03   3.05095225e-02   2.24883013e-02]\n",
      " [  2.58266226e-03   9.99992602e-01  -2.85074532e-03   5.49781147e-04]\n",
      " [ -3.05021856e-02   2.92820515e-03   9.99530411e-01  -2.20115982e-01]\n",
      " [  0.00000000e+00   0.00000000e+00   0.00000000e+00   1.00000000e+00]]\n"
     ]
    },
    {
     "name": "stderr",
     "output_type": "stream",
     "text": [
      "\r",
      "                                                                               \r",
      "\r",
      " 28% (318 of 1101) |######                | Elapsed Time: 0:05:57 ETA:  0:49:49"
     ]
    },
    {
     "name": "stdout",
     "output_type": "stream",
     "text": [
      "connected mappoints  193\n",
      "8085 \n",
      " [[  9.99508762e-01  -2.20460675e-03   3.12629989e-02   1.89091118e-02]\n",
      " [  2.25462428e-03   9.99996234e-01  -1.56473370e-03   5.73189085e-05]\n",
      " [ -3.12594316e-02   1.63445136e-03   9.99509968e-01  -2.19173465e-01]\n",
      " [  0.00000000e+00   0.00000000e+00   0.00000000e+00   1.00000000e+00]]\n"
     ]
    },
    {
     "name": "stderr",
     "output_type": "stream",
     "text": [
      "\r",
      "                                                                               \r",
      "\r",
      " 28% (319 of 1101) |######                | Elapsed Time: 0:06:01 ETA:  0:49:31"
     ]
    },
    {
     "name": "stdout",
     "output_type": "stream",
     "text": [
      "connected mappoints  191\n",
      "8086 \n",
      " [[  9.99519377e-01  -3.75521972e-03   3.07719593e-02   2.61816234e-02]\n",
      " [  3.78550524e-03   9.99992406e-01  -9.25993573e-04   1.76155217e-03]\n",
      " [ -3.07682483e-02   1.04203593e-03   9.99526002e-01  -2.16744585e-01]\n",
      " [  0.00000000e+00   0.00000000e+00   0.00000000e+00   1.00000000e+00]]\n"
     ]
    },
    {
     "name": "stderr",
     "output_type": "stream",
     "text": [
      "\r",
      "                                                                               \r",
      "\r",
      " 29% (320 of 1101) |######                | Elapsed Time: 0:06:04 ETA:  0:48:23"
     ]
    },
    {
     "name": "stdout",
     "output_type": "stream",
     "text": [
      "connected mappoints  182\n",
      "8087 \n",
      " [[ 0.99950828 -0.00434635  0.03105319  0.02869885]\n",
      " [ 0.00441309  0.9999881  -0.00208105  0.00528458]\n",
      " [-0.03104378  0.00221707  0.99951557 -0.2173842 ]\n",
      " [ 0.          0.          0.          1.        ]]\n"
     ]
    },
    {
     "name": "stderr",
     "output_type": "stream",
     "text": [
      "\r",
      "                                                                               \r",
      "\r",
      " 29% (321 of 1101) |######                | Elapsed Time: 0:06:07 ETA:  0:46:38"
     ]
    },
    {
     "name": "stdout",
     "output_type": "stream",
     "text": [
      "connected mappoints  161\n",
      "8088 \n",
      " [[ 0.9994895  -0.00291231  0.03181605  0.02622896]\n",
      " [ 0.00296152  0.99999449 -0.00149954  0.005173  ]\n",
      " [-0.03181151  0.001593    0.99949262 -0.2169013 ]\n",
      " [ 0.          0.          0.          1.        ]]\n"
     ]
    },
    {
     "name": "stderr",
     "output_type": "stream",
     "text": [
      "\r",
      "                                                                               \r",
      "\r",
      " 29% (322 of 1101) |######                | Elapsed Time: 0:06:09 ETA:  0:44:56"
     ]
    },
    {
     "name": "stdout",
     "output_type": "stream",
     "text": [
      "connected mappoints  164\n",
      "8089 \n",
      " [[  9.99454564e-01   3.44639147e-04   3.30220484e-02   2.77484923e-02]\n",
      " [ -3.66731366e-04   9.99999713e-01   6.62959768e-04   6.56183337e-03]\n",
      " [ -3.30218105e-02  -6.74708387e-04   9.99454404e-01  -2.19049689e-01]\n",
      " [  0.00000000e+00   0.00000000e+00   0.00000000e+00   1.00000000e+00]]\n"
     ]
    },
    {
     "name": "stderr",
     "output_type": "stream",
     "text": [
      "\r",
      "                                                                               \r",
      "\r",
      " 29% (323 of 1101) |######                | Elapsed Time: 0:06:12 ETA:  0:43:03"
     ]
    },
    {
     "name": "stdout",
     "output_type": "stream",
     "text": [
      "connected mappoints  174\n",
      "8090 \n",
      " [[  9.99370657e-01  -1.04629621e-03   3.54569462e-02   2.67180042e-02]\n",
      " [  8.90648778e-04   9.99989900e-01   4.40526916e-03   6.55200956e-05]\n",
      " [ -3.54611973e-02  -4.37091704e-03   9.99361495e-01  -2.32761172e-01]\n",
      " [  0.00000000e+00   0.00000000e+00   0.00000000e+00   1.00000000e+00]]\n"
     ]
    },
    {
     "name": "stderr",
     "output_type": "stream",
     "text": [
      "\r",
      "                                                                               \r",
      "\r",
      " 29% (324 of 1101) |######                | Elapsed Time: 0:06:14 ETA:  0:40:55"
     ]
    },
    {
     "name": "stdout",
     "output_type": "stream",
     "text": [
      "connected mappoints  167\n",
      "8091 \n",
      " [[  9.99301720e-01  -2.87946402e-04   3.73629377e-02   2.74687438e-02]\n",
      " [  1.03275262e-04   9.99987771e-01   4.94446491e-03   2.99309784e-04]\n",
      " [ -3.73639045e-02  -4.93715362e-03   9.99289529e-01  -2.51906000e-01]\n",
      " [  0.00000000e+00   0.00000000e+00   0.00000000e+00   1.00000000e+00]]\n"
     ]
    },
    {
     "name": "stderr",
     "output_type": "stream",
     "text": [
      "\r",
      "                                                                               \r",
      "\r",
      " 29% (325 of 1101) |######                | Elapsed Time: 0:06:17 ETA:  0:39:00"
     ]
    },
    {
     "name": "stdout",
     "output_type": "stream",
     "text": [
      "connected mappoints  166\n",
      "8092 \n",
      " [[  9.99158726e-01  -3.55706720e-04   4.10087063e-02   3.41240018e-02]\n",
      " [  2.35924930e-04   9.99995692e-01   2.92568937e-03  -3.30556255e-03]\n",
      " [ -4.10095704e-02  -2.91355308e-03   9.99154506e-01  -2.69287992e-01]\n",
      " [  0.00000000e+00   0.00000000e+00   0.00000000e+00   1.00000000e+00]]\n"
     ]
    },
    {
     "name": "stderr",
     "output_type": "stream",
     "text": [
      "\r",
      "                                                                               \r",
      "\r",
      " 29% (326 of 1101) |######                | Elapsed Time: 0:06:19 ETA:  0:37:12"
     ]
    },
    {
     "name": "stdout",
     "output_type": "stream",
     "text": [
      "connected mappoints  174\n",
      "8093 \n",
      " [[  9.99073272e-01  -6.95937853e-05   4.30417561e-02   3.36822362e-02]\n",
      " [  4.30898512e-06   9.99998850e-01   1.51686918e-03  -3.73843622e-03]\n",
      " [ -4.30418121e-02  -1.51527799e-03   9.99072123e-01  -2.91007352e-01]\n",
      " [  0.00000000e+00   0.00000000e+00   0.00000000e+00   1.00000000e+00]]\n"
     ]
    },
    {
     "name": "stderr",
     "output_type": "stream",
     "text": [
      "\r",
      "                                                                               \r",
      "\r",
      " 29% (327 of 1101) |######                | Elapsed Time: 0:06:21 ETA:  0:35:34"
     ]
    },
    {
     "name": "stdout",
     "output_type": "stream",
     "text": [
      "connected mappoints  186\n",
      "8094 \n",
      " [[  9.98998034e-01   1.55551300e-04   4.47538191e-02   3.61343105e-02]\n",
      " [ -2.56834144e-04   9.99997419e-01   2.25736949e-03  -3.76930393e-03]\n",
      " [ -4.47533525e-02  -2.26660199e-03   9.98995495e-01  -3.09668602e-01]\n",
      " [  0.00000000e+00   0.00000000e+00   0.00000000e+00   1.00000000e+00]]\n"
     ]
    },
    {
     "name": "stderr",
     "output_type": "stream",
     "text": [
      "\r",
      "                                                                               \r",
      "\r",
      " 29% (328 of 1101) |######                | Elapsed Time: 0:06:24 ETA:  0:33:56"
     ]
    },
    {
     "name": "stdout",
     "output_type": "stream",
     "text": [
      "connected mappoints  182\n",
      "8095 \n",
      " [[  9.98864317e-01   2.33122472e-04   4.76447571e-02   3.72769947e-02]\n",
      " [ -3.90510208e-04   9.99994498e-01   3.29407751e-03  -7.21579642e-03]\n",
      " [ -4.76437270e-02  -3.30894224e-03   9.98858912e-01  -3.23713117e-01]\n",
      " [  0.00000000e+00   0.00000000e+00   0.00000000e+00   1.00000000e+00]]\n"
     ]
    },
    {
     "name": "stderr",
     "output_type": "stream",
     "text": [
      "\r",
      "                                                                               \r",
      "\r",
      " 29% (329 of 1101) |######                | Elapsed Time: 0:06:26 ETA:  0:32:31"
     ]
    },
    {
     "name": "stdout",
     "output_type": "stream",
     "text": [
      "connected mappoints  163\n",
      "8096 \n",
      " [[  9.98808570e-01   3.12764832e-05   4.88000032e-02   4.19224290e-02]\n",
      " [ -1.53923661e-04   9.99996839e-01   2.50950573e-03  -5.41112351e-03]\n",
      " [ -4.87997705e-02  -2.51402731e-03   9.98805418e-01  -3.32002146e-01]\n",
      " [  0.00000000e+00   0.00000000e+00   0.00000000e+00   1.00000000e+00]]\n"
     ]
    },
    {
     "name": "stderr",
     "output_type": "stream",
     "text": [
      "\r",
      "                                                                               \r",
      "\r",
      " 29% (330 of 1101) |######                | Elapsed Time: 0:06:28 ETA:  0:31:11"
     ]
    },
    {
     "name": "stdout",
     "output_type": "stream",
     "text": [
      "connected mappoints  151\n",
      "8097 \n",
      " [[  9.98711570e-01   6.16147232e-04   5.07426828e-02   2.86501919e-02]\n",
      " [ -6.69710291e-04   9.99999236e-01   1.03858628e-03  -8.15318046e-03]\n",
      " [ -5.07420041e-02  -1.07123103e-03   9.98711220e-01  -3.59223622e-01]\n",
      " [  0.00000000e+00   0.00000000e+00   0.00000000e+00   1.00000000e+00]]\n"
     ]
    },
    {
     "name": "stderr",
     "output_type": "stream",
     "text": [
      "\r",
      "                                                                               \r",
      "\r",
      " 30% (331 of 1101) |######                | Elapsed Time: 0:06:30 ETA:  0:30:11"
     ]
    },
    {
     "name": "stdout",
     "output_type": "stream",
     "text": [
      "connected mappoints  137\n",
      "8098 \n",
      " [[  9.98620084e-01   5.93761351e-04   5.25126136e-02   2.80674851e-02]\n",
      " [ -5.06240064e-04   9.99998461e-01  -1.67995717e-03   6.60268932e-03]\n",
      " [ -5.25135302e-02   1.65105498e-03   9.98618848e-01  -3.63225033e-01]\n",
      " [  0.00000000e+00   0.00000000e+00   0.00000000e+00   1.00000000e+00]]\n"
     ]
    },
    {
     "name": "stderr",
     "output_type": "stream",
     "text": [
      "\r",
      "                                                                               \r",
      "\r",
      " 30% (332 of 1101) |######                | Elapsed Time: 0:06:32 ETA:  0:29:21"
     ]
    },
    {
     "name": "stdout",
     "output_type": "stream",
     "text": [
      "connected mappoints  134\n",
      "8099 \n",
      " [[ 0.99858379  0.00286809  0.05312426  0.02842722]\n",
      " [-0.00273612  0.99999299 -0.00255679  0.00384679]\n",
      " [-0.05313122  0.00240781  0.99858464 -0.36971306]\n",
      " [ 0.          0.          0.          1.        ]]\n"
     ]
    },
    {
     "name": "stderr",
     "output_type": "stream",
     "text": [
      "\r",
      "                                                                               \r",
      "\r",
      " 30% (333 of 1101) |######                | Elapsed Time: 0:06:34 ETA:  0:28:38"
     ]
    },
    {
     "name": "stdout",
     "output_type": "stream",
     "text": [
      "connected mappoints  118\n",
      "8100 \n",
      " [[ 0.99854584  0.00251774  0.05385045  0.02435335]\n",
      " [-0.00242451  0.99999545 -0.00179655  0.00145069]\n",
      " [-0.05385472  0.00166337  0.9985474  -0.38236702]\n",
      " [ 0.          0.          0.          1.        ]]\n"
     ]
    },
    {
     "name": "stderr",
     "output_type": "stream",
     "text": [
      "\r",
      "                                                                               \r",
      "\r",
      " 30% (334 of 1101) |######                | Elapsed Time: 0:06:36 ETA:  0:28:01"
     ]
    },
    {
     "name": "stdout",
     "output_type": "stream",
     "text": [
      "connected mappoints  124\n",
      "8101 \n",
      " [[ 0.99853555  0.00284582  0.05402451  0.02413042]\n",
      " [-0.0027816   0.99999533 -0.00126391  0.00354107]\n",
      " [-0.05402785  0.00111179  0.99853881 -0.40202227]\n",
      " [ 0.          0.          0.          1.        ]]\n"
     ]
    },
    {
     "name": "stderr",
     "output_type": "stream",
     "text": [
      "\r",
      "                                                                               \r",
      "\r",
      " 30% (335 of 1101) |######                | Elapsed Time: 0:06:38 ETA:  0:27:46"
     ]
    },
    {
     "name": "stdout",
     "output_type": "stream",
     "text": [
      "connected mappoints  97\n",
      "8102 \n",
      " [[ 0.99857075  0.00216726  0.05340188  0.03110228]\n",
      " [-0.00208625  0.99999659 -0.00157255  0.00473219]\n",
      " [-0.05340511  0.00145889  0.99857186 -0.41123972]\n",
      " [ 0.          0.          0.          1.        ]]\n"
     ]
    },
    {
     "name": "stderr",
     "output_type": "stream",
     "text": [
      "\r",
      "                                                                               \r",
      "\r",
      " 30% (336 of 1101) |######                | Elapsed Time: 0:06:40 ETA:  0:27:20"
     ]
    },
    {
     "name": "stdout",
     "output_type": "stream",
     "text": [
      "connected mappoints  93\n",
      "8103 \n",
      " [[  9.98641500e-01   6.45198824e-04   5.21031529e-02   3.06173354e-02]\n",
      " [ -5.89467028e-04   9.99999238e-01  -1.08500336e-03   3.85863973e-04]\n",
      " [ -5.21038133e-02   1.05281629e-03   9.98641119e-01  -4.38638751e-01]\n",
      " [  0.00000000e+00   0.00000000e+00   0.00000000e+00   1.00000000e+00]]\n"
     ]
    },
    {
     "name": "stderr",
     "output_type": "stream",
     "text": [
      "\r",
      "                                                                               \r",
      "\r",
      " 30% (337 of 1101) |######                | Elapsed Time: 0:06:42 ETA:  0:26:38"
     ]
    },
    {
     "name": "stdout",
     "output_type": "stream",
     "text": [
      "connected mappoints  111\n",
      "8104 \n",
      " [[  9.98706972e-01   1.97701814e-03   5.07983874e-02   2.88085471e-02]\n",
      " [ -1.94280840e-03   9.99997852e-01  -7.22810283e-04   1.59052702e-03]\n",
      " [ -5.07997073e-02   6.23184135e-04   9.98708667e-01  -4.56500581e-01]\n",
      " [  0.00000000e+00   0.00000000e+00   0.00000000e+00   1.00000000e+00]]\n"
     ]
    },
    {
     "name": "stderr",
     "output_type": "stream",
     "text": [
      "\r",
      "                                                                               \r",
      "\r",
      " 30% (338 of 1101) |######                | Elapsed Time: 0:06:44 ETA:  0:25:50"
     ]
    },
    {
     "name": "stdout",
     "output_type": "stream",
     "text": [
      "connected mappoints  139\n",
      "8105 \n",
      " [[  9.98728555e-01   4.35524154e-03   5.02225584e-02   2.65968179e-02]\n",
      " [ -4.31466758e-03   9.99990272e-01  -9.16270809e-04   8.48855632e-03]\n",
      " [ -5.02260604e-02   6.98412176e-04   9.98737631e-01  -4.67995043e-01]\n",
      " [  0.00000000e+00   0.00000000e+00   0.00000000e+00   1.00000000e+00]]\n"
     ]
    },
    {
     "name": "stderr",
     "output_type": "stream",
     "text": [
      "\r",
      "                                                                               \r",
      "\r",
      " 30% (339 of 1101) |######                | Elapsed Time: 0:06:45 ETA:  0:24:33"
     ]
    },
    {
     "name": "stdout",
     "output_type": "stream",
     "text": [
      "connected mappoints  53\n",
      "8106 \n",
      " [[  9.98796114e-01   3.18760592e-03   4.89505981e-02   2.92812736e-02]\n",
      " [ -3.17801773e-03   9.99994913e-01  -2.73703315e-04   5.51187964e-03]\n",
      " [ -4.89512216e-02   1.17807938e-04   9.98801163e-01  -4.79836779e-01]\n",
      " [  0.00000000e+00   0.00000000e+00   0.00000000e+00   1.00000000e+00]]\n"
     ]
    },
    {
     "name": "stderr",
     "output_type": "stream",
     "text": [
      "\r",
      "                                                                               \r",
      "\r",
      " 30% (340 of 1101) |######                | Elapsed Time: 0:06:47 ETA:  0:23:36"
     ]
    },
    {
     "name": "stdout",
     "output_type": "stream",
     "text": [
      "connected mappoints  43\n",
      "8107 \n",
      " [[  9.98870527e-01   3.50407394e-03   4.73855563e-02   2.72023310e-02]\n",
      " [ -3.47118122e-03   9.99993674e-01  -7.76421436e-04   7.29942395e-03]\n",
      " [ -4.73879772e-02   6.11060637e-04   9.98876372e-01  -5.05364685e-01]\n",
      " [  0.00000000e+00   0.00000000e+00   0.00000000e+00   1.00000000e+00]]\n"
     ]
    },
    {
     "name": "stderr",
     "output_type": "stream",
     "text": [
      "\r",
      "                                                                               \r",
      "\r",
      " 30% (341 of 1101) |######                | Elapsed Time: 0:06:48 ETA:  0:22:36"
     ]
    },
    {
     "name": "stdout",
     "output_type": "stream",
     "text": [
      "connected mappoints  75\n",
      "8108 \n",
      " [[  9.98990902e-01   2.11264506e-03   4.48632833e-02   4.15458553e-02]\n",
      " [ -2.09770177e-03   9.99997728e-01  -3.80161277e-04  -4.47995290e-03]\n",
      " [ -4.48639845e-02   2.85667868e-04   9.98993064e-01  -4.91565147e-01]\n",
      " [  0.00000000e+00   0.00000000e+00   0.00000000e+00   1.00000000e+00]]\n"
     ]
    },
    {
     "name": "stderr",
     "output_type": "stream",
     "text": [
      "\r",
      "                                                                               \r",
      "\r",
      " 31% (342 of 1101) |######                | Elapsed Time: 0:06:49 ETA:  0:21:20"
     ]
    },
    {
     "name": "stdout",
     "output_type": "stream",
     "text": [
      "connected mappoints  31\n",
      "8109 \n",
      " [[  9.99088594e-01  -1.86736845e-04   4.26842580e-02   3.30590510e-02]\n",
      " [  1.76538263e-04   9.99999955e-01   2.42700059e-04  -9.27230252e-03]\n",
      " [ -4.26843014e-02  -2.34943456e-04   9.99088582e-01  -5.39139978e-01]\n",
      " [  0.00000000e+00   0.00000000e+00   0.00000000e+00   1.00000000e+00]]\n"
     ]
    },
    {
     "name": "stderr",
     "output_type": "stream",
     "text": [
      "\r",
      "                                                                               \r",
      "\r",
      " 31% (343 of 1101) |######                | Elapsed Time: 0:06:50 ETA:  0:20:07"
     ]
    },
    {
     "name": "stdout",
     "output_type": "stream",
     "text": [
      "connected mappoints  24\n",
      "8110 \n",
      " [[  9.99257549e-01  -3.82596331e-04   3.85253758e-02   2.02463574e-02]\n",
      " [  3.94254676e-04   9.99999879e-01  -2.95017942e-04   4.81312576e-03]\n",
      " [ -3.85252583e-02   3.09987715e-04   9.99257579e-01  -5.79780602e-01]\n",
      " [  0.00000000e+00   0.00000000e+00   0.00000000e+00   1.00000000e+00]]\n"
     ]
    },
    {
     "name": "stderr",
     "output_type": "stream",
     "text": [
      "\r",
      "                                                                               \r",
      "\r",
      " 31% (344 of 1101) |######                | Elapsed Time: 0:06:51 ETA:  0:18:46"
     ]
    },
    {
     "name": "stdout",
     "output_type": "stream",
     "text": [
      "connected mappoints  80\n",
      "8111 \n",
      " [[  9.99475732e-01  -7.22452671e-04   3.23688122e-02   3.66664190e-02]\n",
      " [  7.28020137e-04   9.99999722e-01  -1.60215604e-04   6.22944254e-03]\n",
      " [ -3.23686875e-02   1.83696755e-04   9.99475980e-01  -5.66773298e-01]\n",
      " [  0.00000000e+00   0.00000000e+00   0.00000000e+00   1.00000000e+00]]\n"
     ]
    },
    {
     "name": "stderr",
     "output_type": "stream",
     "text": [
      "\r",
      "                                                                               \r",
      "\r",
      " 31% (345 of 1101) |######                | Elapsed Time: 0:06:52 ETA:  0:17:19"
     ]
    },
    {
     "name": "stdout",
     "output_type": "stream",
     "text": [
      "connected mappoints  172\n",
      "8112 \n",
      " [[  9.99652159e-01  -2.08834577e-03   2.62906665e-02   3.67446369e-02]\n",
      " [  2.08143565e-03   9.99997792e-01   2.90198692e-04   3.61953857e-03]\n",
      " [ -2.62912145e-02  -2.35375419e-04   9.99654299e-01  -5.96048467e-01]\n",
      " [  0.00000000e+00   0.00000000e+00   0.00000000e+00   1.00000000e+00]]\n"
     ]
    },
    {
     "name": "stderr",
     "output_type": "stream",
     "text": [
      "\r",
      "                                                                               \r",
      "\r",
      " 31% (346 of 1101) |######                | Elapsed Time: 0:06:53 ETA:  0:16:02"
     ]
    },
    {
     "name": "stdout",
     "output_type": "stream",
     "text": [
      "connected mappoints  171\n",
      "8113 \n",
      " [[  9.99778925e-01  -1.94455143e-03   2.09360819e-02   2.72378874e-02]\n",
      " [  1.92565356e-03   9.99997720e-01   9.22768119e-04   4.23764224e-03]\n",
      " [ -2.09378285e-02  -8.82248478e-04   9.99780390e-01  -6.11837707e-01]\n",
      " [  0.00000000e+00   0.00000000e+00   0.00000000e+00   1.00000000e+00]]\n"
     ]
    },
    {
     "name": "stderr",
     "output_type": "stream",
     "text": [
      "\r",
      "                                                                               \r",
      "\r",
      " 31% (347 of 1101) |######                | Elapsed Time: 0:06:54 ETA:  0:14:49"
     ]
    },
    {
     "name": "stdout",
     "output_type": "stream",
     "text": [
      "connected mappoints  144\n",
      "8114 \n",
      " [[  9.99864007e-01  -1.60695076e-03   1.64129419e-02   2.57608328e-02]\n",
      " [  1.61429424e-03   9.99998603e-01  -4.34181037e-04   5.88280193e-03]\n",
      " [ -1.64122213e-02   4.60617309e-04   9.99865204e-01  -6.30824761e-01]\n",
      " [  0.00000000e+00   0.00000000e+00   0.00000000e+00   1.00000000e+00]]\n"
     ]
    },
    {
     "name": "stderr",
     "output_type": "stream",
     "text": [
      "\r",
      "                                                                               \r",
      "\r",
      " 31% (348 of 1101) |######                | Elapsed Time: 0:06:55 ETA:  0:13:46"
     ]
    },
    {
     "name": "stdout",
     "output_type": "stream",
     "text": [
      "connected mappoints  146\n",
      "8115 \n",
      " [[  9.99912461e-01   4.80347454e-04   1.32226790e-02   2.42930158e-02]\n",
      " [ -4.72249892e-04   9.99999699e-01  -6.15515078e-04   7.97468833e-03]\n",
      " [ -1.32229706e-02   6.09216788e-04   9.99912387e-01  -6.58367708e-01]\n",
      " [  0.00000000e+00   0.00000000e+00   0.00000000e+00   1.00000000e+00]]\n"
     ]
    },
    {
     "name": "stderr",
     "output_type": "stream",
     "text": [
      "\r",
      "                                                                               \r",
      "\r",
      " 31% (349 of 1101) |######                | Elapsed Time: 0:06:56 ETA:  0:13:14"
     ]
    },
    {
     "name": "stdout",
     "output_type": "stream",
     "text": [
      "connected mappoints  139\n",
      "8116 \n",
      " [[  9.99927664e-01   5.65211976e-04   1.20145017e-02   1.55212222e-02]\n",
      " [ -5.55670176e-04   9.99999528e-01  -7.97513639e-04   6.90157270e-03]\n",
      " [ -1.20149468e-02   7.90779850e-04   9.99927505e-01  -6.59825190e-01]\n",
      " [  0.00000000e+00   0.00000000e+00   0.00000000e+00   1.00000000e+00]]\n"
     ]
    },
    {
     "name": "stderr",
     "output_type": "stream",
     "text": [
      "\r",
      "                                                                               \r",
      "\r",
      " 31% (350 of 1101) |######                | Elapsed Time: 0:06:57 ETA:  0:12:42"
     ]
    },
    {
     "name": "stdout",
     "output_type": "stream",
     "text": [
      "connected mappoints  143\n",
      "8117 \n",
      " [[  9.99952116e-01   9.35888122e-04   9.74112111e-03   1.32065748e-02]\n",
      " [ -9.27262287e-04   9.99999174e-01  -8.89986098e-04   9.53569176e-03]\n",
      " [ -9.74194599e-03   8.80910908e-04   9.99952158e-01  -6.84522552e-01]\n",
      " [  0.00000000e+00   0.00000000e+00   0.00000000e+00   1.00000000e+00]]\n"
     ]
    },
    {
     "name": "stderr",
     "output_type": "stream",
     "text": [
      "\r",
      "                                                                               \r",
      "\r",
      " 31% (351 of 1101) |#######               | Elapsed Time: 0:06:58 ETA:  0:12:18"
     ]
    },
    {
     "name": "stdout",
     "output_type": "stream",
     "text": [
      "connected mappoints  138\n",
      "8118 \n",
      " [[  9.99968645e-01  -1.16831030e-03   7.83226684e-03   1.27219456e-02]\n",
      " [  1.17359896e-03   9.99999086e-01  -6.70678067e-04   6.84608379e-03]\n",
      " [ -7.83147613e-03   6.79848978e-04   9.99969102e-01  -7.08752451e-01]\n",
      " [  0.00000000e+00   0.00000000e+00   0.00000000e+00   1.00000000e+00]]\n"
     ]
    },
    {
     "name": "stderr",
     "output_type": "stream",
     "text": [
      "\r",
      "                                                                               \r",
      "\r",
      " 31% (352 of 1101) |#######               | Elapsed Time: 0:06:59 ETA:  0:12:13"
     ]
    },
    {
     "name": "stdout",
     "output_type": "stream",
     "text": [
      "connected mappoints  119\n",
      "8119 \n",
      " [[  9.99975542e-01  -2.76658831e-04   6.98846551e-03   1.56271394e-02]\n",
      " [  2.81210441e-04   9.99999749e-01  -6.50328898e-04   1.16113061e-02]\n",
      " [ -6.98828384e-03   6.52278222e-04   9.99975369e-01  -7.13145771e-01]\n",
      " [  0.00000000e+00   0.00000000e+00   0.00000000e+00   1.00000000e+00]]\n"
     ]
    },
    {
     "name": "stderr",
     "output_type": "stream",
     "text": [
      "\r",
      "                                                                               \r",
      "\r",
      " 32% (353 of 1101) |#######               | Elapsed Time: 0:07:00 ETA:  0:12:08"
     ]
    },
    {
     "name": "stdout",
     "output_type": "stream",
     "text": [
      "connected mappoints  134\n",
      "8120 \n",
      " [[  9.99984397e-01   4.88031823e-04   5.56486877e-03   1.42098470e-02]\n",
      " [ -4.85712734e-04   9.99999795e-01  -4.18081314e-04   9.27812481e-03]\n",
      " [ -5.56507166e-03   4.15371863e-04   9.99984429e-01  -7.32957349e-01]\n",
      " [  0.00000000e+00   0.00000000e+00   0.00000000e+00   1.00000000e+00]]\n"
     ]
    },
    {
     "name": "stderr",
     "output_type": "stream",
     "text": [
      "\r",
      "                                                                               \r",
      "\r",
      " 32% (354 of 1101) |#######               | Elapsed Time: 0:07:01 ETA:  0:12:08"
     ]
    },
    {
     "name": "stdout",
     "output_type": "stream",
     "text": [
      "connected mappoints  122\n",
      "8121 \n",
      " [[  9.99992265e-01   3.51484700e-04   3.91756938e-03   1.79193716e-02]\n",
      " [ -3.49886930e-04   9.99999855e-01  -4.08525130e-04   8.71100977e-03]\n",
      " [ -3.91771241e-03   4.07151263e-04   9.99992243e-01  -7.54132988e-01]\n",
      " [  0.00000000e+00   0.00000000e+00   0.00000000e+00   1.00000000e+00]]\n"
     ]
    },
    {
     "name": "stderr",
     "output_type": "stream",
     "text": [
      "\r",
      "                                                                               \r",
      "\r",
      " 32% (355 of 1101) |#######               | Elapsed Time: 0:07:02 ETA:  0:12:01"
     ]
    },
    {
     "name": "stdout",
     "output_type": "stream",
     "text": [
      "connected mappoints  120\n",
      "8122 \n",
      " [[  9.99995092e-01   1.09016399e-03   2.93730582e-03   9.41123455e-03]\n",
      " [ -1.08859719e-03   9.99999264e-01  -5.34962455e-04   1.20187667e-02]\n",
      " [ -2.93788686e-03   5.31762287e-04   9.99995543e-01  -7.84613480e-01]\n",
      " [  0.00000000e+00   0.00000000e+00   0.00000000e+00   1.00000000e+00]]\n"
     ]
    },
    {
     "name": "stderr",
     "output_type": "stream",
     "text": [
      "\r",
      "                                                                               \r",
      "\r",
      " 32% (356 of 1101) |#######               | Elapsed Time: 0:07:03 ETA:  0:11:56"
     ]
    },
    {
     "name": "stdout",
     "output_type": "stream",
     "text": [
      "connected mappoints  131\n",
      "8123 \n",
      " [[  9.99999513e-01   3.27258635e-04   9.30567636e-04   1.58306206e-02]\n",
      " [ -3.27130943e-04   9.99999937e-01  -1.37368347e-04   9.26846172e-03]\n",
      " [ -9.30612533e-04   1.37063862e-04   9.99999558e-01  -7.84376201e-01]\n",
      " [  0.00000000e+00   0.00000000e+00   0.00000000e+00   1.00000000e+00]]\n"
     ]
    },
    {
     "name": "stderr",
     "output_type": "stream",
     "text": [
      "\r",
      "                                                                               \r",
      "\r",
      " 32% (357 of 1101) |#######               | Elapsed Time: 0:07:04 ETA:  0:11:54"
     ]
    },
    {
     "name": "stdout",
     "output_type": "stream",
     "text": [
      "connected mappoints  123\n",
      "8124 \n",
      " [[  9.99999355e-01   5.18383590e-04   1.01101596e-03   1.13324423e-02]\n",
      " [ -5.18837634e-04   9.99999765e-01   4.48886427e-04   1.46365392e-02]\n",
      " [ -1.01078302e-03  -4.49410691e-04   9.99999388e-01  -7.97872483e-01]\n",
      " [  0.00000000e+00   0.00000000e+00   0.00000000e+00   1.00000000e+00]]\n"
     ]
    },
    {
     "name": "stderr",
     "output_type": "stream",
     "text": [
      "\r",
      "                                                                               \r",
      "\r",
      " 32% (358 of 1101) |#######               | Elapsed Time: 0:07:05 ETA:  0:12:08"
     ]
    },
    {
     "name": "stdout",
     "output_type": "stream",
     "text": [
      "connected mappoints  115\n",
      "8125 \n",
      " [[  9.99999330e-01   6.29439804e-04   9.71104478e-04   1.27386477e-02]\n",
      " [ -6.30171160e-04   9.99999518e-01   7.52995696e-04   1.38362713e-02]\n",
      " [ -9.70630044e-04  -7.53607154e-04   9.99999245e-01  -8.01530708e-01]\n",
      " [  0.00000000e+00   0.00000000e+00   0.00000000e+00   1.00000000e+00]]\n"
     ]
    },
    {
     "name": "stderr",
     "output_type": "stream",
     "text": [
      "\r",
      "                                                                               \r",
      "\r",
      " 32% (359 of 1101) |#######               | Elapsed Time: 0:07:06 ETA:  0:12:26"
     ]
    },
    {
     "name": "stdout",
     "output_type": "stream",
     "text": [
      "connected mappoints  132\n",
      "8126 \n",
      " [[  9.99998961e-01   6.46631155e-04   1.28855078e-03  -2.59399038e-04]\n",
      " [ -6.48077575e-04   9.99999160e-01   1.12241594e-03   5.83775526e-03]\n",
      " [ -1.28782391e-03  -1.12324985e-03   9.99998540e-01  -8.47898432e-01]\n",
      " [  0.00000000e+00   0.00000000e+00   0.00000000e+00   1.00000000e+00]]\n"
     ]
    },
    {
     "name": "stderr",
     "output_type": "stream",
     "text": [
      "\r",
      "                                                                               \r",
      "\r",
      " 32% (360 of 1101) |#######               | Elapsed Time: 0:07:07 ETA:  0:12:26"
     ]
    },
    {
     "name": "stdout",
     "output_type": "stream",
     "text": [
      "connected mappoints  100\n",
      "8127 \n",
      " [[  9.99999313e-01   5.62000543e-04   1.02895143e-03   8.42645564e-03]\n",
      " [ -5.61566203e-04   9.99999753e-01  -4.22358822e-04   2.44271106e-03]\n",
      " [ -1.02918854e-03   4.21780708e-04   9.99999381e-01  -8.52342031e-01]\n",
      " [  0.00000000e+00   0.00000000e+00   0.00000000e+00   1.00000000e+00]]\n"
     ]
    },
    {
     "name": "stderr",
     "output_type": "stream",
     "text": [
      "\r",
      "                                                                               \r",
      "\r",
      " 32% (361 of 1101) |#######               | Elapsed Time: 0:07:08 ETA:  0:12:24"
     ]
    },
    {
     "name": "stdout",
     "output_type": "stream",
     "text": [
      "connected mappoints  80\n",
      "8128 \n",
      " [[  9.99998265e-01  -1.80526312e-03   4.58844673e-04   2.01578151e-02]\n",
      " [  1.80637173e-03   9.99995423e-01  -2.42727071e-03   1.51391990e-02]\n",
      " [ -4.54460710e-04   2.42809534e-03   9.99996949e-01  -8.77798395e-01]\n",
      " [  0.00000000e+00   0.00000000e+00   0.00000000e+00   1.00000000e+00]]\n"
     ]
    },
    {
     "name": "stderr",
     "output_type": "stream",
     "text": [
      "\r",
      "                                                                               \r",
      "\r",
      " 32% (362 of 1101) |#######               | Elapsed Time: 0:07:09 ETA:  0:12:18"
     ]
    },
    {
     "name": "stdout",
     "output_type": "stream",
     "text": [
      "connected mappoints  79\n",
      "8129 \n",
      " [[  9.99999147e-01  -7.28080978e-04   1.08462953e-03   1.18215557e-02]\n",
      " [  7.30519090e-04   9.99997204e-01  -2.24917787e-03   1.86537097e-02]\n",
      " [ -1.08298891e-03   2.24996830e-03   9.99996882e-01  -8.79211269e-01]\n",
      " [  0.00000000e+00   0.00000000e+00   0.00000000e+00   1.00000000e+00]]\n"
     ]
    },
    {
     "name": "stderr",
     "output_type": "stream",
     "text": [
      "\r",
      "                                                                               \r",
      "\r",
      " 32% (363 of 1101) |#######               | Elapsed Time: 0:07:10 ETA:  0:12:02"
     ]
    },
    {
     "name": "stdout",
     "output_type": "stream",
     "text": [
      "connected mappoints  89\n",
      "8130 \n",
      " [[  9.99998551e-01   9.42586272e-04   1.41787701e-03   5.79707384e-03]\n",
      " [ -9.43103214e-04   9.99999489e-01   3.63964443e-04   1.38670144e-02]\n",
      " [ -1.41753322e-03  -3.65301119e-04   9.99998929e-01  -8.79000486e-01]\n",
      " [  0.00000000e+00   0.00000000e+00   0.00000000e+00   1.00000000e+00]]\n"
     ]
    },
    {
     "name": "stderr",
     "output_type": "stream",
     "text": [
      "\r",
      "                                                                               \r",
      "\r",
      " 33% (364 of 1101) |#######               | Elapsed Time: 0:07:11 ETA:  0:11:56"
     ]
    },
    {
     "name": "stdout",
     "output_type": "stream",
     "text": [
      "connected mappoints  76\n",
      "8131 \n",
      " [[  9.99998935e-01   7.49614528e-04   1.25184520e-03   7.88613307e-03]\n",
      " [ -7.52006253e-04   9.99997891e-01   1.91118349e-03   1.84261764e-02]\n",
      " [ -1.25040991e-03  -1.91212285e-03   9.99997390e-01  -9.09828435e-01]\n",
      " [  0.00000000e+00   0.00000000e+00   0.00000000e+00   1.00000000e+00]]\n"
     ]
    },
    {
     "name": "stderr",
     "output_type": "stream",
     "text": [
      "\r",
      "                                                                               \r",
      "\r",
      " 33% (365 of 1101) |#######               | Elapsed Time: 0:07:12 ETA:  0:11:59"
     ]
    },
    {
     "name": "stdout",
     "output_type": "stream",
     "text": [
      "connected mappoints  85\n",
      "8132 \n",
      " [[  9.99998860e-01   1.30954463e-03   7.52329583e-04   9.80036866e-03]\n",
      " [ -1.31052348e-03   9.99998294e-01   1.30207607e-03   1.30940511e-02]\n",
      " [ -7.50623172e-04  -1.30306053e-03   9.99998869e-01  -9.28754451e-01]\n",
      " [  0.00000000e+00   0.00000000e+00   0.00000000e+00   1.00000000e+00]]\n"
     ]
    },
    {
     "name": "stderr",
     "output_type": "stream",
     "text": [
      "\r",
      "                                                                               \r",
      "\r",
      " 33% (366 of 1101) |#######               | Elapsed Time: 0:07:13 ETA:  0:12:03"
     ]
    },
    {
     "name": "stdout",
     "output_type": "stream",
     "text": [
      "connected mappoints  86\n",
      "8133 \n",
      " [[  9.99995781e-01   2.68833959e-03   1.10048858e-03   8.96077235e-03]\n",
      " [ -2.68865100e-03   9.99996346e-01   2.81593844e-04   1.12936927e-02]\n",
      " [ -1.09972754e-03  -2.84551486e-04   9.99999355e-01  -9.37883420e-01]\n",
      " [  0.00000000e+00   0.00000000e+00   0.00000000e+00   1.00000000e+00]]\n"
     ]
    },
    {
     "name": "stderr",
     "output_type": "stream",
     "text": [
      "\r",
      "                                                                               \r",
      "\r",
      " 33% (367 of 1101) |#######               | Elapsed Time: 0:07:14 ETA:  0:12:15"
     ]
    },
    {
     "name": "stdout",
     "output_type": "stream",
     "text": [
      "connected mappoints  94\n",
      "8134 \n",
      " [[  9.99996188e-01   2.53210200e-03   1.10079368e-03   8.20066925e-03]\n",
      " [ -2.53282386e-03   9.99996578e-01   6.54865010e-04   1.58269543e-02]\n",
      " [ -1.09913173e-03  -6.57650631e-04   9.99999180e-01  -9.49075786e-01]\n",
      " [  0.00000000e+00   0.00000000e+00   0.00000000e+00   1.00000000e+00]]\n"
     ]
    },
    {
     "name": "stderr",
     "output_type": "stream",
     "text": [
      "\r",
      "                                                                               \r",
      "\r",
      " 33% (368 of 1101) |#######               | Elapsed Time: 0:07:15 ETA:  0:12:06"
     ]
    },
    {
     "name": "stdout",
     "output_type": "stream",
     "text": [
      "connected mappoints  82\n",
      "8135 \n",
      " [[  9.99998612e-01   4.09422969e-04   1.61485875e-03   1.13081981e-02]\n",
      " [ -4.13032884e-04   9.99997415e-01   2.23573769e-03   2.25284109e-02]\n",
      " [ -1.61393922e-03  -2.23640157e-03   9.99996197e-01  -9.61981796e-01]\n",
      " [  0.00000000e+00   0.00000000e+00   0.00000000e+00   1.00000000e+00]]\n"
     ]
    },
    {
     "name": "stderr",
     "output_type": "stream",
     "text": [
      "\r",
      "                                                                               \r",
      "\r",
      " 33% (369 of 1101) |#######               | Elapsed Time: 0:07:16 ETA:  0:12:13"
     ]
    },
    {
     "name": "stdout",
     "output_type": "stream",
     "text": [
      "connected mappoints  83\n",
      "8136 \n",
      " [[  9.99999306e-01  -2.16677992e-04   1.15786346e-03   1.97801689e-02]\n",
      " [  2.11627193e-04   9.99990471e-01   4.36051549e-03   8.91098463e-03]\n",
      " [ -1.15879725e-03  -4.36026743e-03   9.99989823e-01  -9.51558985e-01]\n",
      " [  0.00000000e+00   0.00000000e+00   0.00000000e+00   1.00000000e+00]]\n"
     ]
    },
    {
     "name": "stderr",
     "output_type": "stream",
     "text": [
      "\r",
      "                                                                               \r",
      "\r",
      " 33% (370 of 1101) |#######               | Elapsed Time: 0:07:17 ETA:  0:12:40"
     ]
    },
    {
     "name": "stdout",
     "output_type": "stream",
     "text": [
      "connected mappoints  86\n",
      "8137 \n",
      " [[  9.99997044e-01  -2.29631917e-03   7.99407298e-04   1.87721615e-02]\n",
      " [  2.29331967e-03   9.99990402e-01   3.73305923e-03   7.26314394e-03]\n",
      " [ -8.07971921e-04  -3.73121489e-03   9.99992713e-01  -9.72230578e-01]\n",
      " [  0.00000000e+00   0.00000000e+00   0.00000000e+00   1.00000000e+00]]\n"
     ]
    },
    {
     "name": "stderr",
     "output_type": "stream",
     "text": [
      "\r",
      "                                                                               \r",
      "\r",
      " 33% (371 of 1101) |#######               | Elapsed Time: 0:07:19 ETA:  0:13:16"
     ]
    },
    {
     "name": "stdout",
     "output_type": "stream",
     "text": [
      "connected mappoints  110\n",
      "8138 \n",
      " [[  9.99996158e-01  -2.74643404e-03  -3.76846011e-04   2.16358976e-02]\n",
      " [  2.74666438e-03   9.99996041e-01   6.12087113e-04   1.42503185e-02]\n",
      " [  3.75163462e-04  -6.13119830e-04   9.99999742e-01  -9.88835657e-01]\n",
      " [  0.00000000e+00   0.00000000e+00   0.00000000e+00   1.00000000e+00]]\n"
     ]
    },
    {
     "name": "stderr",
     "output_type": "stream",
     "text": [
      "\r",
      "                                                                               \r",
      "\r",
      " 33% (372 of 1101) |#######               | Elapsed Time: 0:07:20 ETA:  0:14:03"
     ]
    },
    {
     "name": "stdout",
     "output_type": "stream",
     "text": [
      "connected mappoints  126\n",
      "8139 \n",
      " [[  9.99999206e-01  -1.24630693e-03  -1.88524777e-04   1.65324246e-02]\n",
      " [  1.24598024e-03   9.99997739e-01  -1.72320350e-03   1.71943661e-02]\n",
      " [  1.90671992e-04   1.72296724e-03   9.99998498e-01  -1.00235881e+00]\n",
      " [  0.00000000e+00   0.00000000e+00   0.00000000e+00   1.00000000e+00]]\n"
     ]
    },
    {
     "name": "stderr",
     "output_type": "stream",
     "text": [
      "\r",
      "                                                                               \r",
      "\r",
      " 33% (373 of 1101) |#######               | Elapsed Time: 0:07:22 ETA:  0:14:55"
     ]
    },
    {
     "name": "stdout",
     "output_type": "stream",
     "text": [
      "connected mappoints  131\n",
      "8140 \n",
      " [[  9.99999301e-01  -1.18077975e-03   6.33058313e-05   1.00829896e-02]\n",
      " [  1.18094836e-03   9.99995568e-01  -2.73288689e-03   1.59979350e-02]\n",
      " [ -6.00786133e-05   2.73295974e-03   9.99996264e-01  -1.02678066e+00]\n",
      " [  0.00000000e+00   0.00000000e+00   0.00000000e+00   1.00000000e+00]]\n"
     ]
    },
    {
     "name": "stderr",
     "output_type": "stream",
     "text": [
      "\r",
      "                                                                               \r",
      "\r",
      " 33% (374 of 1101) |#######               | Elapsed Time: 0:07:23 ETA:  0:15:31"
     ]
    },
    {
     "name": "stdout",
     "output_type": "stream",
     "text": [
      "connected mappoints  125\n",
      "8141 \n",
      " [[  9.99999426e-01   1.04801655e-03   2.23347997e-04   1.36997629e-02]\n",
      " [ -1.04747269e-03   9.99996520e-01  -2.42142986e-03   1.99775146e-02]\n",
      " [ -2.25884918e-04   2.42119452e-03   9.99997043e-01  -1.00700292e+00]\n",
      " [  0.00000000e+00   0.00000000e+00   0.00000000e+00   1.00000000e+00]]\n"
     ]
    },
    {
     "name": "stderr",
     "output_type": "stream",
     "text": [
      "\r",
      "                                                                               \r",
      "\r",
      " 34% (375 of 1101) |#######               | Elapsed Time: 0:07:25 ETA:  0:15:55"
     ]
    },
    {
     "name": "stdout",
     "output_type": "stream",
     "text": [
      "connected mappoints  124\n",
      "8142 \n",
      " [[  9.99999323e-01   1.15822447e-03   1.14322287e-04   1.73181712e-02]\n",
      " [ -1.15800040e-03   9.99997446e-01  -1.94093956e-03   1.97137864e-02]\n",
      " [ -1.16570038e-04   1.94080586e-03   9.99998110e-01  -1.00030080e+00]\n",
      " [  0.00000000e+00   0.00000000e+00   0.00000000e+00   1.00000000e+00]]\n"
     ]
    },
    {
     "name": "stderr",
     "output_type": "stream",
     "text": [
      "\r",
      "                                                                               \r",
      "\r",
      " 34% (376 of 1101) |#######               | Elapsed Time: 0:07:26 ETA:  0:16:13"
     ]
    },
    {
     "name": "stdout",
     "output_type": "stream",
     "text": [
      "connected mappoints  109\n",
      "8143 \n",
      " [[  9.99999835e-01   5.32117695e-04   2.15691616e-04   1.35594984e-02]\n",
      " [ -5.31894500e-04   9.99999324e-01  -1.03353012e-03   2.54408255e-02]\n",
      " [ -2.16241430e-04   1.03341522e-03   9.99999443e-01  -1.00457220e+00]\n",
      " [  0.00000000e+00   0.00000000e+00   0.00000000e+00   1.00000000e+00]]\n"
     ]
    },
    {
     "name": "stderr",
     "output_type": "stream",
     "text": [
      "\r",
      "                                                                               \r",
      "\r",
      " 34% (377 of 1101) |#######               | Elapsed Time: 0:07:27 ETA:  0:16:32"
     ]
    },
    {
     "name": "stdout",
     "output_type": "stream",
     "text": [
      "connected mappoints  89\n",
      "8144 \n",
      " [[  9.99999910e-01   3.75059323e-04   1.98436193e-04   1.12130071e-02]\n",
      " [ -3.75004011e-04   9.99999891e-01  -2.78706139e-04   1.89378672e-02]\n",
      " [ -1.98540702e-04   2.78631699e-04   9.99999941e-01  -1.00256133e+00]\n",
      " [  0.00000000e+00   0.00000000e+00   0.00000000e+00   1.00000000e+00]]\n"
     ]
    },
    {
     "name": "stderr",
     "output_type": "stream",
     "text": [
      "\r",
      "                                                                               \r",
      "\r",
      " 34% (378 of 1101) |#######               | Elapsed Time: 0:07:29 ETA:  0:16:49"
     ]
    },
    {
     "name": "stdout",
     "output_type": "stream",
     "text": [
      "connected mappoints  74\n",
      "8145 \n",
      " [[  9.99998168e-01  -1.91394914e-03   1.38207645e-05   2.77086144e-02]\n",
      " [  1.91395575e-03   9.99998046e-01  -4.95518532e-04   2.65363519e-02]\n",
      " [ -1.28723402e-05   4.95544077e-04   9.99999877e-01  -9.75979976e-01]\n",
      " [  0.00000000e+00   0.00000000e+00   0.00000000e+00   1.00000000e+00]]\n"
     ]
    },
    {
     "name": "stderr",
     "output_type": "stream",
     "text": [
      "\r",
      "                                                                               \r",
      "\r",
      " 34% (379 of 1101) |#######               | Elapsed Time: 0:07:30 ETA:  0:16:30"
     ]
    },
    {
     "name": "stdout",
     "output_type": "stream",
     "text": [
      "connected mappoints  74\n",
      "8146 \n",
      " [[  9.99999913e-01  -3.83808685e-04   1.60902025e-04   8.44220206e-03]\n",
      " [  3.83944399e-04   9.99999570e-01  -8.44278798e-04   2.12499432e-02]\n",
      " [ -1.60577914e-04   8.44340502e-04   9.99999631e-01  -1.01419252e+00]\n",
      " [  0.00000000e+00   0.00000000e+00   0.00000000e+00   1.00000000e+00]]\n"
     ]
    },
    {
     "name": "stderr",
     "output_type": "stream",
     "text": [
      "\r",
      "                                                                               \r",
      "\r",
      " 34% (380 of 1101) |#######               | Elapsed Time: 0:07:31 ETA:  0:15:54"
     ]
    },
    {
     "name": "stdout",
     "output_type": "stream",
     "text": [
      "connected mappoints  84\n",
      "8147 \n",
      " [[ 0.99995867 -0.00890081  0.00185426 -0.08489748]\n",
      " [ 0.0089115   0.99994324 -0.00584025  0.19277932]\n",
      " [-0.00180217  0.00585654  0.99998123 -0.86504573]\n",
      " [ 0.          0.          0.          1.        ]]\n"
     ]
    },
    {
     "name": "stderr",
     "output_type": "stream",
     "text": [
      "\r",
      "                                                                               \r",
      "\r",
      " 34% (381 of 1101) |#######               | Elapsed Time: 0:07:31 ETA:  0:15:12"
     ]
    },
    {
     "name": "stdout",
     "output_type": "stream",
     "text": [
      "connected mappoints  85\n",
      "8148 \n",
      " [[ 0.99996297 -0.00836865  0.00200383 -0.09450919]\n",
      " [ 0.00838047  0.99994707 -0.00596786  0.19764891]\n",
      " [-0.00195378  0.00598443  0.99998018 -0.86349238]\n",
      " [ 0.          0.          0.          1.        ]]\n"
     ]
    },
    {
     "name": "stderr",
     "output_type": "stream",
     "text": [
      "\r",
      "                                                                               \r",
      "\r",
      " 34% (382 of 1101) |#######               | Elapsed Time: 0:07:32 ETA:  0:14:22"
     ]
    },
    {
     "name": "stdout",
     "output_type": "stream",
     "text": [
      "connected mappoints  105\n",
      "8149 \n",
      " [[  9.99999701e-01  -1.54350057e-04   7.57258930e-04   1.04676637e-02]\n",
      " [  1.53930282e-04   9.99999834e-01   5.54360639e-04   1.99816348e-02]\n",
      " [ -7.57344370e-04  -5.54243909e-04   9.99999560e-01  -1.01236318e+00]\n",
      " [  0.00000000e+00   0.00000000e+00   0.00000000e+00   1.00000000e+00]]\n"
     ]
    },
    {
     "name": "stderr",
     "output_type": "stream",
     "text": [
      "\r",
      "                                                                               \r",
      "\r",
      " 34% (383 of 1101) |#######               | Elapsed Time: 0:07:33 ETA:  0:13:44"
     ]
    },
    {
     "name": "stdout",
     "output_type": "stream",
     "text": [
      "connected mappoints  98\n",
      "8150 \n",
      " [[  9.99999353e-01   9.33248222e-04   6.50646091e-04   1.45758414e-02]\n",
      " [ -9.33712302e-04   9.99999310e-01   7.13321581e-04   2.04138281e-02]\n",
      " [ -6.49979935e-04  -7.13928635e-04   9.99999534e-01  -1.01841770e+00]\n",
      " [  0.00000000e+00   0.00000000e+00   0.00000000e+00   1.00000000e+00]]\n"
     ]
    },
    {
     "name": "stderr",
     "output_type": "stream",
     "text": [
      "\r",
      "                                                                               \r",
      "\r",
      " 34% (384 of 1101) |#######               | Elapsed Time: 0:07:35 ETA:  0:13:17"
     ]
    },
    {
     "name": "stdout",
     "output_type": "stream",
     "text": [
      "connected mappoints  88\n",
      "8151 \n",
      " [[  9.99999225e-01   2.79606946e-04   1.21357208e-03   8.76073330e-03]\n",
      " [ -2.80386562e-04   9.99999754e-01   6.42291582e-04   2.33364351e-02]\n",
      " [ -1.21339220e-03  -6.42631353e-04   9.99999057e-01  -1.00445754e+00]\n",
      " [  0.00000000e+00   0.00000000e+00   0.00000000e+00   1.00000000e+00]]\n"
     ]
    },
    {
     "name": "stderr",
     "output_type": "stream",
     "text": [
      "\r",
      "                                                                               \r",
      "\r",
      " 34% (385 of 1101) |#######               | Elapsed Time: 0:07:35 ETA:  0:12:45"
     ]
    },
    {
     "name": "stdout",
     "output_type": "stream",
     "text": [
      "connected mappoints  70\n",
      "8152 \n",
      " [[  9.99999427e-01   9.75029910e-04   4.42738888e-04   2.88859827e-02]\n",
      " [ -9.74958678e-04   9.99999512e-01  -1.61077072e-04   1.68726871e-02]\n",
      " [ -4.42895727e-04   1.60645328e-04   9.99999889e-01  -1.01812599e+00]\n",
      " [  0.00000000e+00   0.00000000e+00   0.00000000e+00   1.00000000e+00]]\n"
     ]
    },
    {
     "name": "stderr",
     "output_type": "stream",
     "text": [
      "\r",
      "                                                                               \r",
      "\r",
      " 35% (386 of 1101) |#######               | Elapsed Time: 0:07:36 ETA:  0:12:21"
     ]
    },
    {
     "name": "stdout",
     "output_type": "stream",
     "text": [
      "connected mappoints  76\n",
      "8153 \n",
      " [[  9.99999033e-01  -8.30766274e-04   1.11568460e-03   1.71673730e-02]\n",
      " [  8.30200047e-04   9.99999526e-01   5.07882360e-04   2.08365608e-02]\n",
      " [ -1.11610601e-03  -5.06955628e-04   9.99999249e-01  -9.79073046e-01]\n",
      " [  0.00000000e+00   0.00000000e+00   0.00000000e+00   1.00000000e+00]]\n"
     ]
    },
    {
     "name": "stderr",
     "output_type": "stream",
     "text": [
      "\r",
      "                                                                               \r",
      "\r",
      " 35% (387 of 1101) |#######               | Elapsed Time: 0:07:37 ETA:  0:11:53"
     ]
    },
    {
     "name": "stdout",
     "output_type": "stream",
     "text": [
      "connected mappoints  78\n",
      "8154 \n",
      " [[  9.99999272e-01  -9.56184164e-04   7.35610728e-04   1.60841750e-02]\n",
      " [  9.55871484e-04   9.99999453e-01   4.25295850e-04   2.40967441e-02]\n",
      " [ -7.36016987e-04  -4.24592392e-04   9.99999639e-01  -9.98787117e-01]\n",
      " [  0.00000000e+00   0.00000000e+00   0.00000000e+00   1.00000000e+00]]\n"
     ]
    },
    {
     "name": "stderr",
     "output_type": "stream",
     "text": [
      "\r",
      "                                                                               \r",
      "\r",
      " 35% (388 of 1101) |#######               | Elapsed Time: 0:07:38 ETA:  0:11:27"
     ]
    },
    {
     "name": "stdout",
     "output_type": "stream",
     "text": [
      "connected mappoints  79\n",
      "8155 \n",
      " [[  9.99999677e-01  -4.93853444e-04   6.34732473e-04   1.88937056e-02]\n",
      " [  4.93020855e-04   9.99999019e-01   1.31120426e-03   1.38871118e-02]\n",
      " [ -6.35379393e-04  -1.31089090e-03   9.99998939e-01  -9.98573910e-01]\n",
      " [  0.00000000e+00   0.00000000e+00   0.00000000e+00   1.00000000e+00]]\n"
     ]
    },
    {
     "name": "stderr",
     "output_type": "stream",
     "text": [
      "\r",
      "                                                                               \r",
      "\r",
      " 35% (389 of 1101) |#######               | Elapsed Time: 0:07:39 ETA:  0:11:18"
     ]
    },
    {
     "name": "stdout",
     "output_type": "stream",
     "text": [
      "connected mappoints  73\n",
      "8156 \n",
      " [[  9.99998498e-01  -1.73057332e-03   9.97189445e-05   1.54662180e-02]\n",
      " [  1.73057602e-03   9.99998502e-01  -2.69908464e-05   2.28916564e-02]\n",
      " [ -9.96720855e-05   2.71633771e-05   9.99999995e-01  -1.00454258e+00]\n",
      " [  0.00000000e+00   0.00000000e+00   0.00000000e+00   1.00000000e+00]]\n"
     ]
    },
    {
     "name": "stderr",
     "output_type": "stream",
     "text": [
      "\r",
      "                                                                               \r",
      "\r",
      " 35% (390 of 1101) |#######               | Elapsed Time: 0:07:40 ETA:  0:11:20"
     ]
    },
    {
     "name": "stdout",
     "output_type": "stream",
     "text": [
      "connected mappoints  45\n",
      "8157 \n",
      " [[  9.99993780e-01  -3.52674833e-03  -5.13257035e-05   1.70473918e-02]\n",
      " [  3.52671188e-03   9.99993540e-01  -6.93754549e-04   2.71545422e-02]\n",
      " [  5.37720696e-05   6.93569223e-04   9.99999758e-01  -9.89780245e-01]\n",
      " [  0.00000000e+00   0.00000000e+00   0.00000000e+00   1.00000000e+00]]\n"
     ]
    },
    {
     "name": "stderr",
     "output_type": "stream",
     "text": [
      "\r",
      "                                                                               \r",
      "\r",
      " 35% (391 of 1101) |#######               | Elapsed Time: 0:07:41 ETA:  0:11:22"
     ]
    },
    {
     "name": "stdout",
     "output_type": "stream",
     "text": [
      "connected mappoints  41\n",
      "8158 \n",
      " [[  9.99998159e-01  -1.64108127e-03  -9.94110665e-04   9.26580394e-03]\n",
      " [  1.64163916e-03   9.99998495e-01   5.60637404e-04   1.71263045e-02]\n",
      " [  9.93189118e-04  -5.62268343e-04   9.99999349e-01  -1.00407289e+00]\n",
      " [  0.00000000e+00   0.00000000e+00   0.00000000e+00   1.00000000e+00]]\n"
     ]
    },
    {
     "name": "stderr",
     "output_type": "stream",
     "text": [
      "\r",
      "                                                                               \r",
      "\r",
      " 35% (392 of 1101) |#######               | Elapsed Time: 0:07:42 ETA:  0:11:20"
     ]
    },
    {
     "name": "stdout",
     "output_type": "stream",
     "text": [
      "connected mappoints  34\n",
      "8159 \n",
      " [[  9.99998951e-01  -7.05186393e-04  -1.26514310e-03   1.68860048e-02]\n",
      " [  7.06695314e-04   9.99999039e-01   1.19263800e-03   2.20653896e-02]\n",
      " [  1.26430085e-03  -1.19353082e-03   9.99998489e-01  -9.66036419e-01]\n",
      " [  0.00000000e+00   0.00000000e+00   0.00000000e+00   1.00000000e+00]]\n"
     ]
    },
    {
     "name": "stderr",
     "output_type": "stream",
     "text": [
      "\r",
      "                                                                               \r",
      "\r",
      " 35% (393 of 1101) |#######               | Elapsed Time: 0:07:43 ETA:  0:11:20"
     ]
    },
    {
     "name": "stdout",
     "output_type": "stream",
     "text": [
      "connected mappoints  57\n",
      "8160 \n",
      " [[ 0.99999851 -0.00122451 -0.0012167   0.00813867]\n",
      " [ 0.00122592  0.99999857  0.00116219  0.02290912]\n",
      " [ 0.00121527 -0.00116368  0.99999858 -0.97970539]\n",
      " [ 0.          0.          0.          1.        ]]\n"
     ]
    },
    {
     "name": "stderr",
     "output_type": "stream",
     "text": [
      "\r",
      "                                                                               \r",
      "\r",
      " 35% (394 of 1101) |#######               | Elapsed Time: 0:07:44 ETA:  0:11:25"
     ]
    },
    {
     "name": "stdout",
     "output_type": "stream",
     "text": [
      "connected mappoints  58\n",
      "8161 \n",
      " [[  9.99998606e-01   5.65683585e-04  -1.57109080e-03   6.76355665e-03]\n",
      " [ -5.65943195e-04   9.99999826e-01  -1.64801745e-04   1.44768434e-02]\n",
      " [  1.57099730e-03   1.65690663e-04   9.99998752e-01  -9.93014457e-01]\n",
      " [  0.00000000e+00   0.00000000e+00   0.00000000e+00   1.00000000e+00]]\n"
     ]
    },
    {
     "name": "stderr",
     "output_type": "stream",
     "text": [
      "\r",
      "                                                                               \r",
      "\r",
      " 35% (395 of 1101) |#######               | Elapsed Time: 0:07:46 ETA:  0:11:48"
     ]
    },
    {
     "name": "stdout",
     "output_type": "stream",
     "text": [
      "connected mappoints  95\n",
      "8162 \n",
      " [[ 0.99999816  0.00143762 -0.00127077  0.01272357]\n",
      " [-0.00144004  0.99999715 -0.00190495  0.02393113]\n",
      " [ 0.00126803  0.00190677  0.99999738 -0.96627045]\n",
      " [ 0.          0.          0.          1.        ]]\n"
     ]
    },
    {
     "name": "stderr",
     "output_type": "stream",
     "text": [
      "\r",
      "                                                                               \r",
      "\r",
      " 35% (396 of 1101) |#######               | Elapsed Time: 0:07:47 ETA:  0:12:03"
     ]
    },
    {
     "name": "stdout",
     "output_type": "stream",
     "text": [
      "connected mappoints  94\n",
      "8163 \n",
      " [[ 0.99999544  0.00270097 -0.00134894  0.00913934]\n",
      " [-0.00270754  0.99998435 -0.00489611  0.02336169]\n",
      " [ 0.00133569  0.00489974  0.9999871  -1.00429745]\n",
      " [ 0.          0.          0.          1.        ]]\n"
     ]
    },
    {
     "name": "stderr",
     "output_type": "stream",
     "text": [
      "\r",
      "                                                                               \r",
      "\r",
      " 36% (397 of 1101) |#######               | Elapsed Time: 0:07:48 ETA:  0:12:24"
     ]
    },
    {
     "name": "stdout",
     "output_type": "stream",
     "text": [
      "connected mappoints  87\n",
      "8164 \n",
      " [[  9.99996483e-01   2.54072053e-03  -7.60645065e-04   4.14659167e-03]\n",
      " [ -2.54568272e-03   9.99975010e-01  -6.59535744e-03   2.75696481e-02]\n",
      " [  7.43869096e-04   6.59727060e-03   9.99977961e-01  -9.81563371e-01]\n",
      " [  0.00000000e+00   0.00000000e+00   0.00000000e+00   1.00000000e+00]]\n"
     ]
    },
    {
     "name": "stderr",
     "output_type": "stream",
     "text": [
      "\r",
      "                                                                               \r",
      "\r",
      " 36% (398 of 1101) |#######               | Elapsed Time: 0:07:49 ETA:  0:12:42"
     ]
    },
    {
     "name": "stdout",
     "output_type": "stream",
     "text": [
      "connected mappoints  102\n",
      "8165 \n",
      " [[  9.99999661e-01   2.56964002e-05  -8.22867022e-04   2.34815127e-02]\n",
      " [ -2.71456694e-05   9.99998449e-01  -1.76128074e-03   2.35455225e-02]\n",
      " [  8.22820486e-04   1.76130248e-03   9.99998110e-01  -9.98564418e-01]\n",
      " [  0.00000000e+00   0.00000000e+00   0.00000000e+00   1.00000000e+00]]\n"
     ]
    },
    {
     "name": "stderr",
     "output_type": "stream",
     "text": [
      "\r",
      "                                                                               \r",
      "\r",
      " 36% (399 of 1101) |#######               | Elapsed Time: 0:07:50 ETA:  0:13:03"
     ]
    },
    {
     "name": "stdout",
     "output_type": "stream",
     "text": [
      "connected mappoints  83\n",
      "8166 \n",
      " [[  9.99999998e-01   4.74535071e-05  -4.57045912e-05   1.32619247e-02]\n",
      " [ -4.72441939e-05   9.99989562e-01   4.56886279e-03   1.27620137e-02]\n",
      " [  4.59209227e-05  -4.56886062e-03   9.99989562e-01  -9.85546340e-01]\n",
      " [  0.00000000e+00   0.00000000e+00   0.00000000e+00   1.00000000e+00]]\n"
     ]
    },
    {
     "name": "stderr",
     "output_type": "stream",
     "text": [
      "\r",
      "                                                                               \r",
      "\r",
      " 36% (400 of 1101) |#######               | Elapsed Time: 0:07:52 ETA:  0:13:28"
     ]
    },
    {
     "name": "stdout",
     "output_type": "stream",
     "text": [
      "connected mappoints  90\n",
      "8167 \n",
      " [[  9.99999796e-01  -6.34109541e-04  -7.97899691e-05   1.90991071e-02]\n",
      " [  6.34476204e-04   9.99988836e-01   4.68245587e-03   1.54104285e-02]\n",
      " [  7.68198884e-05  -4.68250554e-03   9.99989034e-01  -9.92473426e-01]\n",
      " [  0.00000000e+00   0.00000000e+00   0.00000000e+00   1.00000000e+00]]\n"
     ]
    },
    {
     "name": "stderr",
     "output_type": "stream",
     "text": [
      "\r",
      "                                                                               \r",
      "\r",
      " 36% (401 of 1101) |########              | Elapsed Time: 0:07:53 ETA:  0:14:03"
     ]
    },
    {
     "name": "stdout",
     "output_type": "stream",
     "text": [
      "connected mappoints  114\n",
      "8168 \n",
      " [[  9.99999913e-01   3.60735207e-04  -2.11531046e-04   1.78655957e-02]\n",
      " [ -3.60720455e-04   9.99999933e-01   6.97689825e-05   1.85471912e-02]\n",
      " [  2.11556200e-04  -6.96926728e-05   9.99999975e-01  -1.00231561e+00]\n",
      " [  0.00000000e+00   0.00000000e+00   0.00000000e+00   1.00000000e+00]]\n"
     ]
    },
    {
     "name": "stderr",
     "output_type": "stream",
     "text": [
      "\r",
      "                                                                               \r",
      "\r",
      " 36% (402 of 1101) |########              | Elapsed Time: 0:07:55 ETA:  0:14:39"
     ]
    },
    {
     "name": "stdout",
     "output_type": "stream",
     "text": [
      "connected mappoints  109\n",
      "8169 \n",
      " [[  9.99999869e-01   4.25248473e-04   2.85365920e-04   1.26687579e-02]\n",
      " [ -4.24270960e-04   9.99994073e-01  -3.41683546e-03   2.54011797e-02]\n",
      " [ -2.86817233e-04   3.41671394e-03   9.99994122e-01  -1.00314729e+00]\n",
      " [  0.00000000e+00   0.00000000e+00   0.00000000e+00   1.00000000e+00]]\n"
     ]
    },
    {
     "name": "stderr",
     "output_type": "stream",
     "text": [
      "\r",
      "                                                                               \r",
      "\r",
      " 36% (403 of 1101) |########              | Elapsed Time: 0:07:56 ETA:  0:15:27"
     ]
    },
    {
     "name": "stdout",
     "output_type": "stream",
     "text": [
      "connected mappoints  100\n",
      "8170 \n",
      " [[  9.99999275e-01   1.17254721e-03   2.74212052e-04   1.30466294e-02]\n",
      " [ -1.17221705e-03   9.99998592e-01  -1.20109937e-03   2.33536565e-02]\n",
      " [ -2.75620012e-04   1.20077706e-03   9.99999241e-01  -9.94951880e-01]\n",
      " [  0.00000000e+00   0.00000000e+00   0.00000000e+00   1.00000000e+00]]\n"
     ]
    },
    {
     "name": "stderr",
     "output_type": "stream",
     "text": [
      "\r",
      "                                                                               \r",
      "\r",
      " 36% (404 of 1101) |########              | Elapsed Time: 0:07:58 ETA:  0:15:52"
     ]
    },
    {
     "name": "stdout",
     "output_type": "stream",
     "text": [
      "connected mappoints  101\n",
      "8171 \n",
      " [[  9.99999311e-01   1.01341498e-03   5.92565327e-04   1.56179262e-02]\n",
      " [ -1.01426971e-03   9.99998443e-01   1.44390891e-03   2.22338746e-02]\n",
      " [ -5.91101126e-04  -1.44450893e-03   9.99998782e-01  -9.74201144e-01]\n",
      " [  0.00000000e+00   0.00000000e+00   0.00000000e+00   1.00000000e+00]]\n"
     ]
    },
    {
     "name": "stderr",
     "output_type": "stream",
     "text": [
      "\r",
      "                                                                               \r",
      "\r",
      " 36% (405 of 1101) |########              | Elapsed Time: 0:07:59 ETA:  0:15:54"
     ]
    },
    {
     "name": "stdout",
     "output_type": "stream",
     "text": [
      "connected mappoints  108\n",
      "8172 \n",
      " [[  9.99999777e-01  -4.72214099e-04   4.73156997e-04   1.92385990e-02]\n",
      " [  4.71476244e-04   9.99998675e-01   1.55832945e-03   2.35513024e-02]\n",
      " [ -4.73892235e-04  -1.55810602e-03   9.99998674e-01  -9.73549147e-01]\n",
      " [  0.00000000e+00   0.00000000e+00   0.00000000e+00   1.00000000e+00]]\n"
     ]
    },
    {
     "name": "stderr",
     "output_type": "stream",
     "text": [
      "\r",
      "                                                                               \r",
      "\r",
      " 36% (406 of 1101) |########              | Elapsed Time: 0:08:00 ETA:  0:15:47"
     ]
    },
    {
     "name": "stdout",
     "output_type": "stream",
     "text": [
      "connected mappoints  111\n",
      "8173 \n",
      " [[  9.99999807e-01   2.45900179e-05   6.21594411e-04   1.60757808e-02]\n",
      " [ -2.37240582e-05   9.99999029e-01  -1.39309569e-03   2.62535206e-02]\n",
      " [ -6.21628064e-04   1.39308067e-03   9.99998836e-01  -9.74518981e-01]\n",
      " [  0.00000000e+00   0.00000000e+00   0.00000000e+00   1.00000000e+00]]\n"
     ]
    },
    {
     "name": "stderr",
     "output_type": "stream",
     "text": [
      "\r",
      "                                                                               \r",
      "\r",
      " 36% (407 of 1101) |########              | Elapsed Time: 0:08:01 ETA:  0:15:31"
     ]
    },
    {
     "name": "stdout",
     "output_type": "stream",
     "text": [
      "connected mappoints  115\n",
      "8174 \n",
      " [[  9.99999698e-01   4.98089837e-04   5.96160474e-04   1.38973268e-02]\n",
      " [ -4.95842390e-04   9.99992793e-01  -3.76409812e-03   1.89573312e-02]\n",
      " [ -5.98031036e-04   3.76380139e-03   9.99992738e-01  -9.93435842e-01]\n",
      " [  0.00000000e+00   0.00000000e+00   0.00000000e+00   1.00000000e+00]]\n"
     ]
    },
    {
     "name": "stderr",
     "output_type": "stream",
     "text": [
      "\r",
      "                                                                               \r",
      "\r",
      " 37% (408 of 1101) |########              | Elapsed Time: 0:08:03 ETA:  0:15:31"
     ]
    },
    {
     "name": "stdout",
     "output_type": "stream",
     "text": [
      "connected mappoints  133\n",
      "8175 \n",
      " [[  9.99999808e-01   2.55628696e-04   5.65099154e-04   1.54252054e-02]\n",
      " [ -2.53860016e-04   9.99995076e-01  -3.12771655e-03   2.91726300e-02]\n",
      " [ -5.65895906e-04   3.12757249e-03   9.99994949e-01  -9.86203879e-01]\n",
      " [  0.00000000e+00   0.00000000e+00   0.00000000e+00   1.00000000e+00]]\n"
     ]
    },
    {
     "name": "stderr",
     "output_type": "stream",
     "text": [
      "\r",
      "                                                                               \r",
      "\r",
      " 37% (409 of 1101) |########              | Elapsed Time: 0:08:04 ETA:  0:15:23"
     ]
    },
    {
     "name": "stdout",
     "output_type": "stream",
     "text": [
      "connected mappoints  113\n",
      "8176 \n",
      " [[  9.99999546e-01   8.05612236e-04   5.09041928e-04   1.44794264e-02]\n",
      " [ -8.05374301e-04   9.99999566e-01  -4.67448876e-04   2.18109524e-02]\n",
      " [ -5.09418290e-04   4.67038695e-04   9.99999761e-01  -9.77221448e-01]\n",
      " [  0.00000000e+00   0.00000000e+00   0.00000000e+00   1.00000000e+00]]\n"
     ]
    },
    {
     "name": "stderr",
     "output_type": "stream",
     "text": [
      "\r",
      "                                                                               \r",
      "\r",
      " 37% (410 of 1101) |########              | Elapsed Time: 0:08:05 ETA:  0:15:06"
     ]
    },
    {
     "name": "stdout",
     "output_type": "stream",
     "text": [
      "connected mappoints  113\n",
      "8177 \n",
      " [[ 0.99999877  0.00118473  0.00102826  0.01196518]\n",
      " [-0.00118611  0.9999984   0.00133915  0.02454853]\n",
      " [-0.00102668 -0.00134037  0.99999857 -0.96316816]\n",
      " [ 0.          0.          0.          1.        ]]\n"
     ]
    },
    {
     "name": "stderr",
     "output_type": "stream",
     "text": [
      "\r",
      "                                                                               \r",
      "\r",
      " 37% (411 of 1101) |########              | Elapsed Time: 0:08:06 ETA:  0:14:44"
     ]
    },
    {
     "name": "stdout",
     "output_type": "stream",
     "text": [
      "connected mappoints  110\n",
      "8178 \n",
      " [[  9.99999441e-01   6.46061291e-04   8.37584270e-04   1.20803286e-02]\n",
      " [ -6.47427658e-04   9.99998459e-01   1.63207512e-03   1.97585535e-02]\n",
      " [ -8.36528558e-04  -1.63261648e-03   9.99998317e-01  -9.64661260e-01]\n",
      " [  0.00000000e+00   0.00000000e+00   0.00000000e+00   1.00000000e+00]]\n"
     ]
    },
    {
     "name": "stderr",
     "output_type": "stream",
     "text": [
      "\r",
      "                                                                               \r",
      "\r",
      " 37% (412 of 1101) |########              | Elapsed Time: 0:08:07 ETA:  0:14:27"
     ]
    },
    {
     "name": "stdout",
     "output_type": "stream",
     "text": [
      "connected mappoints  147\n",
      "8179 \n",
      " [[  9.99997415e-01  -2.26749485e-03  -1.68977456e-04   1.54702088e-02]\n",
      " [  2.26765915e-03   9.99996950e-01   9.78529363e-04   1.89444651e-02]\n",
      " [  1.66758130e-04  -9.78910017e-04   9.99999507e-01  -9.61905037e-01]\n",
      " [  0.00000000e+00   0.00000000e+00   0.00000000e+00   1.00000000e+00]]\n"
     ]
    },
    {
     "name": "stderr",
     "output_type": "stream",
     "text": [
      "\r",
      "                                                                               \r",
      "\r",
      " 37% (413 of 1101) |########              | Elapsed Time: 0:08:09 ETA:  0:13:59"
     ]
    },
    {
     "name": "stdout",
     "output_type": "stream",
     "text": [
      "connected mappoints  127\n",
      "8180 \n",
      " [[  9.99996150e-01  -2.58294316e-03  -1.01419705e-03   1.81952399e-02]\n",
      " [  2.58373765e-03   9.99996356e-01   7.82839862e-04   1.99123028e-02]\n",
      " [  1.01217133e-03  -7.85457267e-04   9.99999179e-01  -9.60099644e-01]\n",
      " [  0.00000000e+00   0.00000000e+00   0.00000000e+00   1.00000000e+00]]\n"
     ]
    },
    {
     "name": "stderr",
     "output_type": "stream",
     "text": [
      "\r",
      "                                                                               \r",
      "\r",
      " 37% (414 of 1101) |########              | Elapsed Time: 0:08:10 ETA:  0:13:36"
     ]
    },
    {
     "name": "stdout",
     "output_type": "stream",
     "text": [
      "connected mappoints  109\n",
      "8181 \n",
      " [[  9.99998535e-01  -1.57355835e-03  -6.74137852e-04   1.66038628e-02]\n",
      " [  1.57378794e-03   9.99998704e-01   3.40173522e-04   2.09646215e-02]\n",
      " [  6.73601695e-04  -3.41233973e-04   9.99999715e-01  -9.47441790e-01]\n",
      " [  0.00000000e+00   0.00000000e+00   0.00000000e+00   1.00000000e+00]]\n"
     ]
    },
    {
     "name": "stderr",
     "output_type": "stream",
     "text": [
      "\r",
      "                                                                               \r",
      "\r",
      " 37% (415 of 1101) |########              | Elapsed Time: 0:08:11 ETA:  0:13:20"
     ]
    },
    {
     "name": "stdout",
     "output_type": "stream",
     "text": [
      "connected mappoints  127\n",
      "8182 \n",
      " [[  9.99998646e-01  -1.53021908e-03  -6.05380941e-04   1.36813311e-02]\n",
      " [  1.53018895e-03   9.99998828e-01  -5.02276658e-05   2.16198663e-02]\n",
      " [  6.05457091e-04   4.93012505e-05   9.99999815e-01  -9.58731632e-01]\n",
      " [  0.00000000e+00   0.00000000e+00   0.00000000e+00   1.00000000e+00]]\n"
     ]
    },
    {
     "name": "stderr",
     "output_type": "stream",
     "text": [
      "\r",
      "                                                                               \r",
      "\r",
      " 37% (416 of 1101) |########              | Elapsed Time: 0:08:12 ETA:  0:13:13"
     ]
    },
    {
     "name": "stdout",
     "output_type": "stream",
     "text": [
      "connected mappoints  108\n",
      "8183 \n",
      " [[  9.99998853e-01  -1.23715119e-03  -8.73711957e-04   1.67702199e-02]\n",
      " [  1.23662435e-03   9.99999053e-01  -6.03273941e-04   2.22449669e-02]\n",
      " [  8.74457471e-04   6.02192795e-04   9.99999436e-01  -9.49876602e-01]\n",
      " [  0.00000000e+00   0.00000000e+00   0.00000000e+00   1.00000000e+00]]\n"
     ]
    },
    {
     "name": "stderr",
     "output_type": "stream",
     "text": [
      "\r",
      "                                                                               \r",
      "\r",
      " 37% (417 of 1101) |########              | Elapsed Time: 0:08:13 ETA:  0:13:06"
     ]
    },
    {
     "name": "stdout",
     "output_type": "stream",
     "text": [
      "connected mappoints  78\n",
      "8184 \n",
      " [[  9.99999504e-01   3.46413708e-06  -9.96271853e-04   2.29356720e-02]\n",
      " [ -3.70634045e-06   9.99999970e-01  -2.43107975e-04   2.82107402e-02]\n",
      " [  9.96270981e-04   2.43111547e-04   9.99999474e-01  -9.56667442e-01]\n",
      " [  0.00000000e+00   0.00000000e+00   0.00000000e+00   1.00000000e+00]]\n"
     ]
    },
    {
     "name": "stderr",
     "output_type": "stream",
     "text": [
      "\r",
      "                                                                               \r",
      "\r",
      " 37% (418 of 1101) |########              | Elapsed Time: 0:08:14 ETA:  0:12:57"
     ]
    },
    {
     "name": "stdout",
     "output_type": "stream",
     "text": [
      "connected mappoints  75\n",
      "8185 \n",
      " [[  9.99999403e-01  -9.79139741e-04  -4.85080761e-04   1.01548725e-02]\n",
      " [  9.79737240e-04   9.99998760e-01   1.23304764e-03   1.88737762e-02]\n",
      " [  4.83872833e-04  -1.23352216e-03   9.99999122e-01  -9.49847441e-01]\n",
      " [  0.00000000e+00   0.00000000e+00   0.00000000e+00   1.00000000e+00]]\n"
     ]
    },
    {
     "name": "stderr",
     "output_type": "stream",
     "text": [
      "\r",
      "                                                                               \r",
      "\r",
      " 38% (419 of 1101) |########              | Elapsed Time: 0:08:15 ETA:  0:13:07"
     ]
    },
    {
     "name": "stdout",
     "output_type": "stream",
     "text": [
      "connected mappoints  65\n",
      "8186 \n",
      " [[  9.99999735e-01  -2.71825657e-04  -6.74808746e-04   1.57066034e-02]\n",
      " [  2.72865296e-04   9.99998775e-01   1.54102909e-03   1.65840687e-02]\n",
      " [  6.74389028e-04  -1.54121282e-03   9.99998585e-01  -9.53365376e-01]\n",
      " [  0.00000000e+00   0.00000000e+00   0.00000000e+00   1.00000000e+00]]\n"
     ]
    },
    {
     "name": "stderr",
     "output_type": "stream",
     "text": [
      "\r",
      "                                                                               \r",
      "\r",
      " 38% (420 of 1101) |########              | Elapsed Time: 0:08:17 ETA:  0:13:14"
     ]
    },
    {
     "name": "stdout",
     "output_type": "stream",
     "text": [
      "connected mappoints  56\n",
      "8187 \n",
      " [[  9.99999840e-01   1.84729796e-04  -5.35218131e-04   1.00009826e-02]\n",
      " [ -1.84683059e-04   9.99999979e-01   8.73711159e-05   1.98594150e-02]\n",
      " [  5.35234260e-04  -8.72722562e-05   9.99999853e-01  -9.51065125e-01]\n",
      " [  0.00000000e+00   0.00000000e+00   0.00000000e+00   1.00000000e+00]]\n"
     ]
    },
    {
     "name": "stderr",
     "output_type": "stream",
     "text": [
      "\r",
      "                                                                               \r",
      "\r",
      " 38% (421 of 1101) |########              | Elapsed Time: 0:08:18 ETA:  0:13:25"
     ]
    },
    {
     "name": "stdout",
     "output_type": "stream",
     "text": [
      "connected mappoints  55\n",
      "8188 \n",
      " [[  9.99991833e-01   3.99122670e-03  -6.36396133e-04   8.62075788e-03]\n",
      " [ -3.99216144e-03   9.99990944e-01  -1.47435179e-03   2.10450664e-02]\n",
      " [  6.30505898e-04   1.47688034e-03   9.99998711e-01  -9.25481622e-01]\n",
      " [  0.00000000e+00   0.00000000e+00   0.00000000e+00   1.00000000e+00]]\n"
     ]
    },
    {
     "name": "stderr",
     "output_type": "stream",
     "text": [
      "\r",
      "                                                                               \r",
      "\r",
      " 38% (422 of 1101) |########              | Elapsed Time: 0:08:19 ETA:  0:13:48"
     ]
    },
    {
     "name": "stdout",
     "output_type": "stream",
     "text": [
      "connected mappoints  68\n",
      "8189 \n",
      " [[  9.99999685e-01   5.30467845e-04  -5.90527183e-04   2.39702060e-02]\n",
      " [ -5.30647866e-04   9.99999813e-01  -3.04734021e-04   2.55197044e-02]\n",
      " [  5.90365421e-04   3.05047287e-04   9.99999779e-01  -8.96380439e-01]\n",
      " [  0.00000000e+00   0.00000000e+00   0.00000000e+00   1.00000000e+00]]\n"
     ]
    },
    {
     "name": "stderr",
     "output_type": "stream",
     "text": [
      "\r",
      "                                                                               \r",
      "\r",
      " 38% (423 of 1101) |########              | Elapsed Time: 0:08:22 ETA:  0:14:40"
     ]
    },
    {
     "name": "stdout",
     "output_type": "stream",
     "text": [
      "connected mappoints  106\n",
      "8190 \n",
      " [[  9.99999300e-01  -9.88665235e-04  -6.50488576e-04   1.50038787e-02]\n",
      " [  9.90278915e-04   9.99996422e-01   2.48509252e-03   1.97925203e-02]\n",
      " [  6.48029324e-04  -2.48573495e-03   9.99996701e-01  -9.22348764e-01]\n",
      " [  0.00000000e+00   0.00000000e+00   0.00000000e+00   1.00000000e+00]]\n"
     ]
    },
    {
     "name": "stderr",
     "output_type": "stream",
     "text": [
      "\r",
      "                                                                               \r",
      "\r",
      " 38% (424 of 1101) |########              | Elapsed Time: 0:08:24 ETA:  0:15:50"
     ]
    },
    {
     "name": "stdout",
     "output_type": "stream",
     "text": [
      "connected mappoints  126\n",
      "8191 \n",
      " [[  9.99999406e-01   1.04367538e-03  -3.14869802e-04   2.77087761e-03]\n",
      " [ -1.04240453e-03   9.99991418e-01   4.00963279e-03   1.21148741e-02]\n",
      " [  3.19051855e-04  -4.00930219e-03   9.99991912e-01  -9.33029589e-01]\n",
      " [  0.00000000e+00   0.00000000e+00   0.00000000e+00   1.00000000e+00]]\n"
     ]
    },
    {
     "name": "stderr",
     "output_type": "stream",
     "text": [
      "\r",
      "                                                                               \r",
      "\r",
      " 38% (425 of 1101) |########              | Elapsed Time: 0:08:26 ETA:  0:17:17"
     ]
    },
    {
     "name": "stdout",
     "output_type": "stream",
     "text": [
      "connected mappoints  165\n",
      "8192 \n",
      " [[  9.99999373e-01   4.18310913e-04  -1.03894959e-03   1.01376305e-02]\n",
      " [ -4.16237280e-04   9.99997923e-01   1.99530825e-03   1.66148239e-02]\n",
      " [  1.03978209e-03  -1.99487455e-03   9.99997470e-01  -9.10599913e-01]\n",
      " [  0.00000000e+00   0.00000000e+00   0.00000000e+00   1.00000000e+00]]\n"
     ]
    },
    {
     "name": "stderr",
     "output_type": "stream",
     "text": [
      "\r",
      "                                                                               \r",
      "\r",
      " 38% (426 of 1101) |########              | Elapsed Time: 0:08:29 ETA:  0:18:57"
     ]
    },
    {
     "name": "stdout",
     "output_type": "stream",
     "text": [
      "connected mappoints  190\n",
      "8193 \n",
      " [[ 0.99999611 -0.00257189 -0.00108156  0.0220083 ]\n",
      " [ 0.0025707   0.99999609 -0.00109939  0.02542401]\n",
      " [ 0.00108438  0.0010966   0.99999881 -0.91209945]\n",
      " [ 0.          0.          0.          1.        ]]\n"
     ]
    },
    {
     "name": "stderr",
     "output_type": "stream",
     "text": [
      "\r",
      "                                                                               \r",
      "\r",
      " 38% (427 of 1101) |########              | Elapsed Time: 0:08:32 ETA:  0:21:04"
     ]
    },
    {
     "name": "stdout",
     "output_type": "stream",
     "text": [
      "connected mappoints  237\n",
      "8194 \n",
      " [[  9.99999809e-01  -5.84062006e-04  -2.02179757e-04   9.30980166e-03]\n",
      " [  5.83814778e-04   9.99999085e-01  -1.22071624e-03   2.36568878e-02]\n",
      " [  2.02892546e-04   1.22059798e-03   9.99999234e-01  -9.11465773e-01]\n",
      " [  0.00000000e+00   0.00000000e+00   0.00000000e+00   1.00000000e+00]]\n"
     ]
    },
    {
     "name": "stderr",
     "output_type": "stream",
     "text": [
      "\r",
      "                                                                               \r",
      "\r",
      " 38% (428 of 1101) |########              | Elapsed Time: 0:08:35 ETA:  0:23:33"
     ]
    },
    {
     "name": "stdout",
     "output_type": "stream",
     "text": [
      "connected mappoints  259\n",
      "8195 \n",
      " [[  9.99999904e-01  -4.23830369e-04   1.11372738e-04   1.20528434e-02]\n",
      " [  4.23821704e-04   9.99999907e-01   7.78146969e-05   2.47050728e-02]\n",
      " [ -1.11405708e-04  -7.77674872e-05   9.99999991e-01  -8.91578384e-01]\n",
      " [  0.00000000e+00   0.00000000e+00   0.00000000e+00   1.00000000e+00]]\n"
     ]
    },
    {
     "name": "stderr",
     "output_type": "stream",
     "text": [
      "\r",
      "                                                                               \r",
      "\r",
      " 38% (429 of 1101) |########              | Elapsed Time: 0:08:38 ETA:  0:25:49"
     ]
    },
    {
     "name": "stdout",
     "output_type": "stream",
     "text": [
      "connected mappoints  251\n",
      "8196 \n",
      " [[  9.99999904e-01   4.37256247e-04  -4.98711619e-06   1.65885388e-02]\n",
      " [ -4.37253262e-04   9.99999734e-01   5.83656883e-04   2.30794807e-02]\n",
      " [  5.24232248e-06  -5.83654646e-04   9.99999830e-01  -8.66738165e-01]\n",
      " [  0.00000000e+00   0.00000000e+00   0.00000000e+00   1.00000000e+00]]\n"
     ]
    },
    {
     "name": "stderr",
     "output_type": "stream",
     "text": [
      "\r",
      "                                                                               \r",
      "\r",
      " 39% (430 of 1101) |########              | Elapsed Time: 0:08:42 ETA:  0:28:01"
     ]
    },
    {
     "name": "stdout",
     "output_type": "stream",
     "text": [
      "connected mappoints  233\n",
      "8197 \n",
      " [[  9.99999933e-01   2.38665537e-04  -2.79219021e-04   1.62736567e-02]\n",
      " [ -2.38666374e-04   9.99999972e-01  -2.96480394e-06   2.00446095e-02]\n",
      " [  2.79218305e-04   3.03144393e-06   9.99999961e-01  -8.79387634e-01]\n",
      " [  0.00000000e+00   0.00000000e+00   0.00000000e+00   1.00000000e+00]]\n"
     ]
    },
    {
     "name": "stderr",
     "output_type": "stream",
     "text": [
      "\r",
      "                                                                               \r",
      "\r",
      " 39% (431 of 1101) |########              | Elapsed Time: 0:08:45 ETA:  0:30:16"
     ]
    },
    {
     "name": "stdout",
     "output_type": "stream",
     "text": [
      "connected mappoints  232\n",
      "8198 \n",
      " [[  9.99999957e-01  -1.38240326e-04   2.60230833e-04   7.59836848e-03]\n",
      " [  1.38199863e-04   9.99999978e-01   1.55501627e-04   1.93392228e-02]\n",
      " [ -2.60252324e-04  -1.55465656e-04   9.99999954e-01  -8.55231008e-01]\n",
      " [  0.00000000e+00   0.00000000e+00   0.00000000e+00   1.00000000e+00]]\n"
     ]
    },
    {
     "name": "stderr",
     "output_type": "stream",
     "text": [
      "\r",
      "                                                                               \r",
      "\r",
      " 39% (432 of 1101) |########              | Elapsed Time: 0:08:48 ETA:  0:31:57"
     ]
    },
    {
     "name": "stdout",
     "output_type": "stream",
     "text": [
      "connected mappoints  244\n",
      "8199 \n",
      " [[  9.99999638e-01  -8.28772215e-04  -1.90549339e-04   1.57474086e-02]\n",
      " [  8.28703680e-04   9.99999592e-01  -3.59465959e-04   2.65058615e-02]\n",
      " [  1.90847177e-04   3.59307920e-04   9.99999917e-01  -8.38552748e-01]\n",
      " [  0.00000000e+00   0.00000000e+00   0.00000000e+00   1.00000000e+00]]\n"
     ]
    },
    {
     "name": "stderr",
     "output_type": "stream",
     "text": [
      "\r",
      "                                                                               \r",
      "\r",
      " 39% (433 of 1101) |########              | Elapsed Time: 0:08:51 ETA:  0:33:04"
     ]
    },
    {
     "name": "stdout",
     "output_type": "stream",
     "text": [
      "connected mappoints  241\n",
      "8200 \n",
      " [[  9.99999993e-01  -5.69628833e-05   1.00318250e-04   1.35883787e-02]\n",
      " [  5.69483956e-05   9.99999988e-01   1.44414149e-04   2.09484327e-02]\n",
      " [ -1.00326475e-04  -1.44408435e-04   9.99999985e-01  -8.34141316e-01]\n",
      " [  0.00000000e+00   0.00000000e+00   0.00000000e+00   1.00000000e+00]]\n"
     ]
    },
    {
     "name": "stderr",
     "output_type": "stream",
     "text": [
      "\r",
      "                                                                               \r",
      "\r",
      " 39% (434 of 1101) |########              | Elapsed Time: 0:08:54 ETA:  0:34:06"
     ]
    },
    {
     "name": "stdout",
     "output_type": "stream",
     "text": [
      "connected mappoints  264\n",
      "8201 \n",
      " [[  9.99999620e-01   7.79346797e-04   3.91801977e-04   9.28492588e-03]\n",
      " [ -7.78911925e-04   9.99999082e-01  -1.10885690e-03   2.29278509e-02]\n",
      " [ -3.92665801e-04   1.10855130e-03   9.99999308e-01  -8.08887393e-01]\n",
      " [  0.00000000e+00   0.00000000e+00   0.00000000e+00   1.00000000e+00]]\n"
     ]
    },
    {
     "name": "stderr",
     "output_type": "stream",
     "text": [
      "\r",
      "                                                                               \r",
      "\r",
      " 39% (435 of 1101) |########              | Elapsed Time: 0:08:58 ETA:  0:34:51"
     ]
    },
    {
     "name": "stdout",
     "output_type": "stream",
     "text": [
      "connected mappoints  252\n",
      "8202 \n",
      " [[  9.99999952e-01   2.46637336e-04   1.89986114e-04   1.02531494e-02]\n",
      " [ -2.46309519e-04   9.99998484e-01  -1.72357600e-03   1.82876679e-02]\n",
      " [ -1.90410924e-04   1.72352912e-03   9.99998497e-01  -8.02238037e-01]\n",
      " [  0.00000000e+00   0.00000000e+00   0.00000000e+00   1.00000000e+00]]\n"
     ]
    },
    {
     "name": "stderr",
     "output_type": "stream",
     "text": [
      "\r",
      "                                                                               \r",
      "\r",
      " 39% (436 of 1101) |########              | Elapsed Time: 0:09:01 ETA:  0:35:28"
     ]
    },
    {
     "name": "stdout",
     "output_type": "stream",
     "text": [
      "connected mappoints  250\n",
      "8203 \n",
      " [[  9.99999775e-01   6.43959738e-04   1.85533548e-04   1.22642377e-02]\n",
      " [ -6.43502187e-04   9.99996778e-01  -2.45573387e-03   2.30494317e-02]\n",
      " [ -1.87114344e-04   2.45561392e-03   9.99996967e-01  -7.94776876e-01]\n",
      " [  0.00000000e+00   0.00000000e+00   0.00000000e+00   1.00000000e+00]]\n"
     ]
    },
    {
     "name": "stderr",
     "output_type": "stream",
     "text": [
      "\r",
      "                                                                               \r",
      "\r",
      " 39% (437 of 1101) |########              | Elapsed Time: 0:09:04 ETA:  0:35:42"
     ]
    },
    {
     "name": "stdout",
     "output_type": "stream",
     "text": [
      "connected mappoints  224\n",
      "8204 \n",
      " [[  9.99999200e-01   1.26097620e-03   1.03475008e-04   1.24049318e-02]\n",
      " [ -1.26080084e-03   9.99997798e-01  -1.67764545e-03   2.21616384e-02]\n",
      " [ -1.05590251e-04   1.67751365e-03   9.99998587e-01  -7.79555289e-01]\n",
      " [  0.00000000e+00   0.00000000e+00   0.00000000e+00   1.00000000e+00]]\n"
     ]
    },
    {
     "name": "stderr",
     "output_type": "stream",
     "text": [
      "\r",
      "                                                                               \r",
      "\r",
      " 39% (438 of 1101) |########              | Elapsed Time: 0:09:07 ETA:  0:35:11"
     ]
    },
    {
     "name": "stdout",
     "output_type": "stream",
     "text": [
      "connected mappoints  233\n",
      "8205 \n",
      " [[  9.99998515e-01   1.62605024e-03   5.71772583e-04   6.45207259e-03]\n",
      " [ -1.62532898e-03   9.99997886e-01  -1.25964787e-03   2.18860929e-02]\n",
      " [ -5.73819624e-04   1.25871668e-03   9.99999043e-01  -7.76668396e-01]\n",
      " [  0.00000000e+00   0.00000000e+00   0.00000000e+00   1.00000000e+00]]\n"
     ]
    },
    {
     "name": "stderr",
     "output_type": "stream",
     "text": [
      "\r",
      "                                                                               \r",
      "\r",
      " 39% (439 of 1101) |########              | Elapsed Time: 0:09:11 ETA:  0:35:33"
     ]
    },
    {
     "name": "stdout",
     "output_type": "stream",
     "text": [
      "connected mappoints  213\n",
      "8206 \n",
      " [[  9.99997871e-01   2.01828023e-03   4.29751347e-04   1.18259276e-02]\n",
      " [ -2.01793717e-03   9.99997646e-01  -7.97210047e-04   1.91435298e-02]\n",
      " [ -4.31359329e-04   7.96341138e-04   9.99999590e-01  -7.60360036e-01]\n",
      " [  0.00000000e+00   0.00000000e+00   0.00000000e+00   1.00000000e+00]]\n"
     ]
    },
    {
     "name": "stderr",
     "output_type": "stream",
     "text": [
      "\r",
      "                                                                               \r",
      "\r",
      " 39% (440 of 1101) |########              | Elapsed Time: 0:09:13 ETA:  0:34:22"
     ]
    },
    {
     "name": "stdout",
     "output_type": "stream",
     "text": [
      "connected mappoints  204\n",
      "8207 \n",
      " [[  9.99999203e-01   1.10750581e-03   6.06950795e-04   1.35403184e-02]\n",
      " [ -1.10754903e-03   9.99999384e-01   7.08746667e-05   1.80798625e-02]\n",
      " [ -6.06871927e-04  -7.15468379e-05   9.99999813e-01  -7.30432995e-01]\n",
      " [  0.00000000e+00   0.00000000e+00   0.00000000e+00   1.00000000e+00]]\n"
     ]
    },
    {
     "name": "stderr",
     "output_type": "stream",
     "text": [
      "\r",
      "                                                                               \r",
      "\r",
      " 40% (441 of 1101) |########              | Elapsed Time: 0:09:15 ETA:  0:32:45"
     ]
    },
    {
     "name": "stdout",
     "output_type": "stream",
     "text": [
      "connected mappoints  198\n",
      "8208 \n",
      " [[  9.99999587e-01  -4.04759742e-04   8.13299704e-04   2.14605967e-02]\n",
      " [  4.05099090e-04   9.99999831e-01  -4.17126011e-04   1.75669733e-02]\n",
      " [ -8.13130731e-04   4.17455306e-04   9.99999582e-01  -7.16669616e-01]\n",
      " [  0.00000000e+00   0.00000000e+00   0.00000000e+00   1.00000000e+00]]\n"
     ]
    },
    {
     "name": "stderr",
     "output_type": "stream",
     "text": [
      "\r",
      "                                                                               \r",
      "\r",
      " 40% (442 of 1101) |########              | Elapsed Time: 0:09:16 ETA:  0:31:10"
     ]
    },
    {
     "name": "stdout",
     "output_type": "stream",
     "text": [
      "connected mappoints  175\n",
      "8209 \n",
      " [[  9.99997999e-01   1.71389168e-03   1.03201618e-03   1.67275676e-02]\n",
      " [ -1.71412853e-03   9.99998505e-01   2.28665672e-04   1.46340219e-02]\n",
      " [ -1.03162273e-03  -2.30434223e-04   9.99999441e-01  -6.99251052e-01]\n",
      " [  0.00000000e+00   0.00000000e+00   0.00000000e+00   1.00000000e+00]]\n"
     ]
    },
    {
     "name": "stderr",
     "output_type": "stream",
     "text": [
      "\r",
      "                                                                               \r",
      "\r",
      " 40% (443 of 1101) |########              | Elapsed Time: 0:09:18 ETA:  0:29:14"
     ]
    },
    {
     "name": "stdout",
     "output_type": "stream",
     "text": [
      "connected mappoints  176\n",
      "8210 \n",
      " [[ 0.99999427  0.00193097  0.0027793   0.00855007]\n",
      " [-0.00193467  0.99999725  0.00132763  0.01875922]\n",
      " [-0.00277673 -0.001333    0.99999526 -0.68972824]\n",
      " [ 0.          0.          0.          1.        ]]\n"
     ]
    },
    {
     "name": "stderr",
     "output_type": "stream",
     "text": [
      "\r",
      "                                                                               \r",
      "\r",
      " 40% (444 of 1101) |########              | Elapsed Time: 0:09:19 ETA:  0:27:03"
     ]
    },
    {
     "name": "stdout",
     "output_type": "stream",
     "text": [
      "connected mappoints  165\n",
      "8211 \n",
      " [[ 0.99998397  0.00275773  0.0049447   0.00223477]\n",
      " [-0.00276339  0.99999553  0.00113819  0.01607181]\n",
      " [-0.00494154 -0.00115184  0.99998713 -0.67739777]\n",
      " [ 0.          0.          0.          1.        ]]\n"
     ]
    },
    {
     "name": "stderr",
     "output_type": "stream",
     "text": [
      "\r",
      "                                                                               \r",
      "\r",
      " 40% (445 of 1101) |########              | Elapsed Time: 0:09:20 ETA:  0:24:55"
     ]
    },
    {
     "name": "stdout",
     "output_type": "stream",
     "text": [
      "connected mappoints  187\n",
      "8212 \n",
      " [[  9.99972716e-01   2.77676175e-03   6.84526354e-03   1.51698459e-02]\n",
      " [ -2.78004122e-03   9.99996025e-01   4.69616458e-04   1.22907401e-02]\n",
      " [ -6.84393232e-03  -4.88633760e-04   9.99976461e-01  -6.65488849e-01]\n",
      " [  0.00000000e+00   0.00000000e+00   0.00000000e+00   1.00000000e+00]]\n"
     ]
    },
    {
     "name": "stderr",
     "output_type": "stream",
     "text": [
      "\r",
      "                                                                               \r",
      "\r",
      " 40% (446 of 1101) |########              | Elapsed Time: 0:09:22 ETA:  0:22:41"
     ]
    },
    {
     "name": "stdout",
     "output_type": "stream",
     "text": [
      "connected mappoints  153\n",
      "8213 \n",
      " [[  9.99943978e-01   2.16120726e-03   1.03619223e-02   8.57791336e-03]\n",
      " [ -2.16305597e-03   9.99997647e-01   1.67209648e-04   8.45328507e-03]\n",
      " [ -1.03615366e-02  -1.89613698e-04   9.99946300e-01  -6.67543927e-01]\n",
      " [  0.00000000e+00   0.00000000e+00   0.00000000e+00   1.00000000e+00]]\n"
     ]
    },
    {
     "name": "stderr",
     "output_type": "stream",
     "text": [
      "\r",
      "                                                                               \r",
      "\r",
      " 40% (447 of 1101) |########              | Elapsed Time: 0:09:23 ETA:  0:20:23"
     ]
    },
    {
     "name": "stdout",
     "output_type": "stream",
     "text": [
      "connected mappoints  141\n",
      "8214 \n",
      " [[  9.99927565e-01   2.49313134e-03   1.17749266e-02   1.10999500e-02]\n",
      " [ -2.48683603e-03   9.99996757e-01  -5.49247886e-04   1.09273280e-02]\n",
      " [ -1.17762578e-02   5.19925789e-04   9.99930522e-01  -6.47551061e-01]\n",
      " [  0.00000000e+00   0.00000000e+00   0.00000000e+00   1.00000000e+00]]\n"
     ]
    },
    {
     "name": "stderr",
     "output_type": "stream",
     "text": [
      "\r",
      "                                                                               \r",
      "\r",
      " 40% (448 of 1101) |########              | Elapsed Time: 0:09:24 ETA:  0:18:18"
     ]
    },
    {
     "name": "stdout",
     "output_type": "stream",
     "text": [
      "connected mappoints  167\n",
      "8215 \n",
      " [[  9.99902693e-01   2.09841159e-03   1.37913587e-02   1.10663719e-02]\n",
      " [ -2.08914644e-03   9.99997582e-01  -6.86180692e-04   1.68978249e-02]\n",
      " [ -1.37927653e-02   6.57301754e-04   9.99904659e-01  -6.40278284e-01]\n",
      " [  0.00000000e+00   0.00000000e+00   0.00000000e+00   1.00000000e+00]]\n"
     ]
    },
    {
     "name": "stderr",
     "output_type": "stream",
     "text": [
      "\r",
      "                                                                               \r",
      "\r",
      " 40% (449 of 1101) |########              | Elapsed Time: 0:09:25 ETA:  0:15:24"
     ]
    },
    {
     "name": "stdout",
     "output_type": "stream",
     "text": [
      "connected mappoints  158\n",
      "8216 \n",
      " [[  9.99864565e-01   2.14375556e-03   1.63173227e-02   1.86850531e-02]\n",
      " [ -2.13033044e-03   9.99997378e-01  -8.40090313e-04   1.48458712e-02]\n",
      " [ -1.63190809e-02   8.05215247e-04   9.99866511e-01  -6.29446932e-01]\n",
      " [  0.00000000e+00   0.00000000e+00   0.00000000e+00   1.00000000e+00]]\n"
     ]
    },
    {
     "name": "stderr",
     "output_type": "stream",
     "text": [
      "\r",
      "                                                                               \r",
      "\r",
      " 40% (450 of 1101) |########              | Elapsed Time: 0:09:26 ETA:  0:14:16"
     ]
    },
    {
     "name": "stdout",
     "output_type": "stream",
     "text": [
      "connected mappoints  144\n",
      "8217 \n",
      " [[  9.99801591e-01   3.91815893e-03   1.95301461e-02   1.73877347e-02]\n",
      " [ -3.90707369e-03   9.99992184e-01  -6.05720474e-04   1.69113160e-02]\n",
      " [ -1.95323667e-02   5.29294574e-04   9.99809085e-01  -6.16933157e-01]\n",
      " [  0.00000000e+00   0.00000000e+00   0.00000000e+00   1.00000000e+00]]\n"
     ]
    },
    {
     "name": "stderr",
     "output_type": "stream",
     "text": [
      "\r",
      "                                                                               \r",
      "\r",
      " 40% (451 of 1101) |#########             | Elapsed Time: 0:09:27 ETA:  0:13:09"
     ]
    },
    {
     "name": "stdout",
     "output_type": "stream",
     "text": [
      "connected mappoints  142\n",
      "8218 \n",
      " [[  9.99738904e-01   2.79981820e-03   2.26778646e-02   1.57634600e-02]\n",
      " [ -2.79070057e-03   9.99996012e-01  -4.33687719e-04   9.76484681e-03]\n",
      " [ -2.26789884e-02   3.70287355e-04   9.99742730e-01  -6.06083559e-01]\n",
      " [  0.00000000e+00   0.00000000e+00   0.00000000e+00   1.00000000e+00]]\n"
     ]
    },
    {
     "name": "stderr",
     "output_type": "stream",
     "text": [
      "\r",
      "                                                                               \r",
      "\r",
      " 41% (452 of 1101) |#########             | Elapsed Time: 0:09:28 ETA:  0:12:10"
     ]
    },
    {
     "name": "stdout",
     "output_type": "stream",
     "text": [
      "connected mappoints  129\n",
      "8219 \n",
      " [[  9.99662884e-01   4.97568046e-04   2.59590315e-02   2.48360375e-02]\n",
      " [ -4.62331761e-04   9.99998964e-01  -1.36336478e-03   1.15393330e-02]\n",
      " [ -2.59596830e-02   1.35090348e-03   9.99662078e-01  -5.96413876e-01]\n",
      " [  0.00000000e+00   0.00000000e+00   0.00000000e+00   1.00000000e+00]]\n"
     ]
    },
    {
     "name": "stderr",
     "output_type": "stream",
     "text": [
      "\r",
      "                                                                               \r",
      "\r",
      " 41% (453 of 1101) |#########             | Elapsed Time: 0:09:29 ETA:  0:11:39"
     ]
    },
    {
     "name": "stdout",
     "output_type": "stream",
     "text": [
      "connected mappoints  136\n",
      "8220 \n",
      " [[ 0.99959032 -0.00242065  0.028519    0.03681958]\n",
      " [ 0.00247164  0.99999541 -0.00175297  0.01051594]\n",
      " [-0.02851462  0.00182274  0.99959171 -0.58727611]\n",
      " [ 0.          0.          0.          1.        ]]\n"
     ]
    },
    {
     "name": "stderr",
     "output_type": "stream",
     "text": [
      "\r",
      "                                                                               \r",
      "\r",
      " 41% (454 of 1101) |#########             | Elapsed Time: 0:09:29 ETA:  0:11:06"
     ]
    },
    {
     "name": "stdout",
     "output_type": "stream",
     "text": [
      "connected mappoints  126\n",
      "8221 \n",
      " [[ 0.99952273 -0.00331322  0.0307138   0.0359105 ]\n",
      " [ 0.00338486  0.99999167 -0.00228092  0.01163567]\n",
      " [-0.03070599  0.00238379  0.99952562 -0.57756491]\n",
      " [ 0.          0.          0.          1.        ]]\n"
     ]
    },
    {
     "name": "stderr",
     "output_type": "stream",
     "text": [
      "\r",
      "                                                                               \r",
      "\r",
      " 41% (455 of 1101) |#########             | Elapsed Time: 0:09:30 ETA:  0:10:37"
     ]
    },
    {
     "name": "stdout",
     "output_type": "stream",
     "text": [
      "connected mappoints  113\n",
      "8222 \n",
      " [[ 0.99942325 -0.00406626  0.03371401  0.03510008]\n",
      " [ 0.00413107  0.99998975 -0.00185285  0.01686777]\n",
      " [-0.03370613  0.00199106  0.9994298  -0.55785092]\n",
      " [ 0.          0.          0.          1.        ]]\n"
     ]
    },
    {
     "name": "stderr",
     "output_type": "stream",
     "text": [
      "\r",
      "                                                                               \r",
      "\r",
      " 41% (456 of 1101) |#########             | Elapsed Time: 0:09:31 ETA:  0:10:14"
     ]
    },
    {
     "name": "stdout",
     "output_type": "stream",
     "text": [
      "connected mappoints  109\n",
      "8223 \n",
      " [[ 0.99931418 -0.0029219   0.03691374  0.04030337]\n",
      " [ 0.00299346  0.99999375 -0.00188348  0.0126866 ]\n",
      " [-0.036908    0.00199269  0.99931668 -0.56120347]\n",
      " [ 0.          0.          0.          1.        ]]\n"
     ]
    },
    {
     "name": "stderr",
     "output_type": "stream",
     "text": [
      "\r",
      "                                                                               \r",
      "\r",
      " 41% (457 of 1101) |#########             | Elapsed Time: 0:09:32 ETA:  0:09:56"
     ]
    },
    {
     "name": "stdout",
     "output_type": "stream",
     "text": [
      "connected mappoints  116\n",
      "8224 \n",
      " [[  9.99169890e-01   3.90621513e-05   4.07373294e-02   3.24034616e-02]\n",
      " [  7.42835269e-05   9.99996131e-01  -2.78083677e-03   1.37123030e-02]\n",
      " [ -4.07372804e-02   2.78155448e-03   9.99166021e-01  -5.43370642e-01]\n",
      " [  0.00000000e+00   0.00000000e+00   0.00000000e+00   1.00000000e+00]]\n"
     ]
    },
    {
     "name": "stderr",
     "output_type": "stream",
     "text": [
      "\r",
      "                                                                               \r",
      "\r",
      " 41% (458 of 1101) |#########             | Elapsed Time: 0:09:33 ETA:  0:09:34"
     ]
    },
    {
     "name": "stdout",
     "output_type": "stream",
     "text": [
      "connected mappoints  89\n",
      "8225 \n",
      " [[ 0.99896876 -0.0055821   0.0450583   0.0349644 ]\n",
      " [ 0.00565258  0.99998299 -0.00143692  0.012163  ]\n",
      " [-0.04504951  0.00169014  0.99898333 -0.53357792]\n",
      " [ 0.          0.          0.          1.        ]]\n"
     ]
    },
    {
     "name": "stderr",
     "output_type": "stream",
     "text": [
      "\r",
      "                                                                               \r",
      "\r",
      " 41% (459 of 1101) |#########             | Elapsed Time: 0:09:33 ETA:  0:09:10"
     ]
    },
    {
     "name": "stdout",
     "output_type": "stream",
     "text": [
      "connected mappoints  112\n",
      "8226 \n",
      " [[  9.98874499e-01  -8.35899905e-03   4.66890009e-02   3.74166326e-02]\n",
      " [  8.33424365e-03   9.99965007e-01   7.24862184e-04   1.33481301e-02]\n",
      " [ -4.66934262e-02  -3.34928841e-04   9.98909211e-01  -5.20086047e-01]\n",
      " [  0.00000000e+00   0.00000000e+00   0.00000000e+00   1.00000000e+00]]\n"
     ]
    },
    {
     "name": "stderr",
     "output_type": "stream",
     "text": [
      "\r",
      "                                                                               \r",
      "\r",
      " 41% (460 of 1101) |#########             | Elapsed Time: 0:09:34 ETA:  0:08:49"
     ]
    },
    {
     "name": "stdout",
     "output_type": "stream",
     "text": [
      "connected mappoints  104\n",
      "8227 \n",
      " [[ 0.99886704 -0.01200296  0.04604966  0.04590571]\n",
      " [ 0.01193374  0.99992721  0.00177774  0.01189619]\n",
      " [-0.04606764 -0.00122618  0.99893757 -0.51225213]\n",
      " [ 0.          0.          0.          1.        ]]\n"
     ]
    },
    {
     "name": "stderr",
     "output_type": "stream",
     "text": [
      "\r",
      "                                                                               \r",
      "\r",
      " 41% (461 of 1101) |#########             | Elapsed Time: 0:09:35 ETA:  0:08:41"
     ]
    },
    {
     "name": "stdout",
     "output_type": "stream",
     "text": [
      "connected mappoints  83\n",
      "8228 \n",
      " [[ 0.99884334 -0.0089244   0.04724752  0.02828329]\n",
      " [ 0.00885529  0.99995939  0.00167174  0.01774277]\n",
      " [-0.04726052 -0.00125142  0.99888181 -0.51179548]\n",
      " [ 0.          0.          0.          1.        ]]\n"
     ]
    },
    {
     "name": "stderr",
     "output_type": "stream",
     "text": [
      "\r",
      "                                                                               \r",
      "\r",
      " 41% (462 of 1101) |#########             | Elapsed Time: 0:09:36 ETA:  0:08:47"
     ]
    },
    {
     "name": "stdout",
     "output_type": "stream",
     "text": [
      "connected mappoints  90\n",
      "8229 \n",
      " [[ 0.99880207 -0.00690584  0.04844309  0.03311582]\n",
      " [ 0.00674838  0.9999714   0.00341337  0.01104687]\n",
      " [-0.04846527 -0.00308237  0.99882011 -0.49625525]\n",
      " [ 0.          0.          0.          1.        ]]\n"
     ]
    },
    {
     "name": "stderr",
     "output_type": "stream",
     "text": [
      "\r",
      "                                                                               \r",
      "\r",
      " 42% (463 of 1101) |#########             | Elapsed Time: 0:09:37 ETA:  0:08:43"
     ]
    },
    {
     "name": "stdout",
     "output_type": "stream",
     "text": [
      "connected mappoints  84\n",
      "8230 \n",
      " [[ 0.99873452 -0.00169329  0.05026416  0.02113944]\n",
      " [ 0.0016096   0.99999725  0.00170552  0.00242886]\n",
      " [-0.05026691 -0.00162246  0.9987345  -0.50282066]\n",
      " [ 0.          0.          0.          1.        ]]\n"
     ]
    },
    {
     "name": "stderr",
     "output_type": "stream",
     "text": [
      "\r",
      "                                                                               \r",
      "\r",
      " 42% (464 of 1101) |#########             | Elapsed Time: 0:09:38 ETA:  0:08:59"
     ]
    },
    {
     "name": "stdout",
     "output_type": "stream",
     "text": [
      "connected mappoints  102\n",
      "8231 \n",
      " [[  9.98725286e-01  -1.55443341e-03   5.04518358e-02   2.42625296e-02]\n",
      " [  1.58627592e-03   9.99998567e-01  -5.91112053e-04   6.03688030e-03]\n",
      " [ -5.04508447e-02   6.70389086e-04   9.98726320e-01  -5.02925990e-01]\n",
      " [  0.00000000e+00   0.00000000e+00   0.00000000e+00   1.00000000e+00]]\n"
     ]
    },
    {
     "name": "stderr",
     "output_type": "stream",
     "text": [
      "\r",
      "                                                                               \r",
      "\r",
      " 42% (465 of 1101) |#########             | Elapsed Time: 0:09:39 ETA:  0:09:14"
     ]
    },
    {
     "name": "stdout",
     "output_type": "stream",
     "text": [
      "connected mappoints  98\n",
      "8232 \n",
      " [[  9.98720639e-01  -5.89096883e-04   5.05641969e-02   2.02277973e-02]\n",
      " [  7.29934677e-04   9.99995906e-01  -2.76690553e-03   1.40741054e-02]\n",
      " [ -5.05623599e-02   2.80027422e-03   9.98716980e-01  -5.01906867e-01]\n",
      " [  0.00000000e+00   0.00000000e+00   0.00000000e+00   1.00000000e+00]]\n"
     ]
    },
    {
     "name": "stderr",
     "output_type": "stream",
     "text": [
      "\r",
      "                                                                               \r",
      "\r",
      " 42% (466 of 1101) |#########             | Elapsed Time: 0:09:40 ETA:  0:09:33"
     ]
    },
    {
     "name": "stdout",
     "output_type": "stream",
     "text": [
      "connected mappoints  93\n",
      "8233 \n",
      " [[ 0.99866911 -0.0083348   0.05089741  0.03131718]\n",
      " [ 0.00850737  0.99995877 -0.00317479  0.0035645 ]\n",
      " [-0.05086886  0.00360356  0.99869884 -0.5062006 ]\n",
      " [ 0.          0.          0.          1.        ]]\n"
     ]
    },
    {
     "name": "stderr",
     "output_type": "stream",
     "text": [
      "\r",
      "                                                                               \r",
      "\r",
      " 42% (467 of 1101) |#########             | Elapsed Time: 0:09:41 ETA:  0:09:53"
     ]
    },
    {
     "name": "stdout",
     "output_type": "stream",
     "text": [
      "connected mappoints  102\n",
      "8234 \n",
      " [[ 0.99866061 -0.01043388  0.05067662  0.04117909]\n",
      " [ 0.01071792  0.99992832 -0.00533647  0.01441138]\n",
      " [-0.0506173   0.00587247  0.99870086 -0.50274543]\n",
      " [ 0.          0.          0.          1.        ]]\n"
     ]
    },
    {
     "name": "stderr",
     "output_type": "stream",
     "text": [
      "\r",
      "                                                                               \r",
      "\r",
      " 42% (468 of 1101) |#########             | Elapsed Time: 0:09:42 ETA:  0:10:21"
     ]
    },
    {
     "name": "stdout",
     "output_type": "stream",
     "text": [
      "connected mappoints  109\n",
      "8235 \n",
      " [[ 0.99869014 -0.00345054  0.05105002  0.03644176]\n",
      " [ 0.00361548  0.99998854 -0.00313896  0.00665856]\n",
      " [-0.0510386   0.00331942  0.99869116 -0.49943329]\n",
      " [ 0.          0.          0.          1.        ]]\n"
     ]
    },
    {
     "name": "stderr",
     "output_type": "stream",
     "text": [
      "\r",
      "                                                                               \r",
      "\r",
      " 42% (469 of 1101) |#########             | Elapsed Time: 0:09:44 ETA:  0:10:52"
     ]
    },
    {
     "name": "stdout",
     "output_type": "stream",
     "text": [
      "connected mappoints  107\n",
      "8236 \n",
      " [[  9.98629610e-01   3.01880606e-03   5.22473870e-02   2.11201369e-02]\n",
      " [ -3.06286866e-03   9.99995018e-01   7.63297773e-04   3.57934994e-03]\n",
      " [ -5.22448224e-02  -9.22278642e-04   9.98633881e-01  -4.95420570e-01]\n",
      " [  0.00000000e+00   0.00000000e+00   0.00000000e+00   1.00000000e+00]]\n"
     ]
    },
    {
     "name": "stderr",
     "output_type": "stream",
     "text": [
      "\r",
      "                                                                               \r",
      "\r",
      " 42% (470 of 1101) |#########             | Elapsed Time: 0:09:45 ETA:  0:11:21"
     ]
    },
    {
     "name": "stdout",
     "output_type": "stream",
     "text": [
      "connected mappoints  115\n",
      "8237 \n",
      " [[ 0.99863491  0.0070317   0.05175783  0.01761442]\n",
      " [-0.0071181   0.99997356  0.00148513  0.00499526]\n",
      " [-0.05174602 -0.00185152  0.99865856 -0.48512099]\n",
      " [ 0.          0.          0.          1.        ]]\n"
     ]
    },
    {
     "name": "stderr",
     "output_type": "stream",
     "text": [
      "\r",
      "                                                                               \r",
      "\r",
      " 42% (471 of 1101) |#########             | Elapsed Time: 0:09:46 ETA:  0:11:54"
     ]
    },
    {
     "name": "stdout",
     "output_type": "stream",
     "text": [
      "connected mappoints  107\n",
      "8238 \n",
      " [[ 0.99868779  0.00234781  0.05115853  0.02378595]\n",
      " [-0.00245991  0.99999471  0.0021284   0.00763138]\n",
      " [-0.05115326 -0.00225145  0.99868828 -0.48256678]\n",
      " [ 0.          0.          0.          1.        ]]\n"
     ]
    },
    {
     "name": "stderr",
     "output_type": "stream",
     "text": [
      "\r",
      "                                                                               \r",
      "\r",
      " 42% (472 of 1101) |#########             | Elapsed Time: 0:09:48 ETA:  0:12:28"
     ]
    },
    {
     "name": "stdout",
     "output_type": "stream",
     "text": [
      "connected mappoints  104\n",
      "8239 \n",
      " [[  9.98738453e-01   5.85821800e-04   5.02111534e-02   3.07382550e-02]\n",
      " [ -6.49407202e-04   9.99999008e-01   1.25005545e-03   8.15992920e-03]\n",
      " [ -5.02103713e-02  -1.28108593e-03   9.98737842e-01  -4.77262003e-01]\n",
      " [  0.00000000e+00   0.00000000e+00   0.00000000e+00   1.00000000e+00]]\n"
     ]
    },
    {
     "name": "stderr",
     "output_type": "stream",
     "text": [
      "\r",
      "                                                                               \r",
      "\r",
      " 42% (473 of 1101) |#########             | Elapsed Time: 0:09:50 ETA:  0:13:16"
     ]
    },
    {
     "name": "stdout",
     "output_type": "stream",
     "text": [
      "connected mappoints  93\n",
      "8240 \n",
      " [[ 0.99876959 -0.00184809  0.04955702  0.03630665]\n",
      " [ 0.0017467   0.99999629  0.0020891   0.0033139 ]\n",
      " [-0.04956069 -0.00199997  0.99876911 -0.46584191]\n",
      " [ 0.          0.          0.          1.        ]]\n"
     ]
    },
    {
     "name": "stderr",
     "output_type": "stream",
     "text": [
      "\r",
      "                                                                               \r",
      "\r",
      " 43% (474 of 1101) |#########             | Elapsed Time: 0:09:51 ETA:  0:13:56"
     ]
    },
    {
     "name": "stdout",
     "output_type": "stream",
     "text": [
      "connected mappoints  111\n",
      "8241 \n",
      " [[  9.98720139e-01   7.25325978e-04   5.05722973e-02   2.99678286e-02]\n",
      " [ -7.93033517e-04   9.99998816e-01   1.31877390e-03  -2.46555976e-03]\n",
      " [ -5.05712808e-02  -1.35719158e-03   9.98719532e-01  -4.70010118e-01]\n",
      " [  0.00000000e+00   0.00000000e+00   0.00000000e+00   1.00000000e+00]]\n"
     ]
    },
    {
     "name": "stderr",
     "output_type": "stream",
     "text": [
      "\r",
      "                                                                               \r",
      "\r",
      " 43% (475 of 1101) |#########             | Elapsed Time: 0:09:53 ETA:  0:14:41"
     ]
    },
    {
     "name": "stdout",
     "output_type": "stream",
     "text": [
      "connected mappoints  128\n",
      "8242 \n",
      " [[  9.98705330e-01   4.80787546e-03   5.06413759e-02   2.47295845e-02]\n",
      " [ -4.80977422e-03   9.99988429e-01  -8.43713205e-05  -1.48750582e-03]\n",
      " [ -5.06411956e-02  -1.59311497e-04   9.98716899e-01  -4.65320416e-01]\n",
      " [  0.00000000e+00   0.00000000e+00   0.00000000e+00   1.00000000e+00]]\n"
     ]
    },
    {
     "name": "stderr",
     "output_type": "stream",
     "text": [
      "\r",
      "                                                                               \r",
      "\r",
      " 43% (476 of 1101) |#########             | Elapsed Time: 0:09:55 ETA:  0:15:31"
     ]
    },
    {
     "name": "stdout",
     "output_type": "stream",
     "text": [
      "connected mappoints  116\n",
      "8243 \n",
      " [[  9.98928349e-01   1.69895061e-03   4.62522222e-02   3.28867158e-02]\n",
      " [ -1.71974889e-03   9.99998437e-01   4.09882205e-04   1.75660687e-03]\n",
      " [ -4.62514535e-02  -4.88985162e-04   9.98929709e-01  -4.70656949e-01]\n",
      " [  0.00000000e+00   0.00000000e+00   0.00000000e+00   1.00000000e+00]]\n"
     ]
    },
    {
     "name": "stderr",
     "output_type": "stream",
     "text": [
      "\r",
      "                                                                               \r",
      "\r",
      " 43% (477 of 1101) |#########             | Elapsed Time: 0:09:57 ETA:  0:16:02"
     ]
    },
    {
     "name": "stdout",
     "output_type": "stream",
     "text": [
      "connected mappoints  125\n",
      "8244 \n",
      " [[ 0.99901927 -0.00481602  0.04401478  0.04157804]\n",
      " [ 0.00492624  0.999985   -0.00239601  0.00580591]\n",
      " [-0.04400258  0.00261049  0.99902801 -0.48029481]\n",
      " [ 0.          0.          0.          1.        ]]\n"
     ]
    },
    {
     "name": "stderr",
     "output_type": "stream",
     "text": [
      "\r",
      "                                                                               \r",
      "\r",
      " 43% (478 of 1101) |#########             | Elapsed Time: 0:09:58 ETA:  0:16:37"
     ]
    },
    {
     "name": "stdout",
     "output_type": "stream",
     "text": [
      "connected mappoints  107\n",
      "8245 \n",
      " [[ 0.99913165 -0.00148494  0.04163832  0.03511703]\n",
      " [ 0.00171532  0.99998342 -0.00549784  0.01460181]\n",
      " [-0.04162946  0.00556449  0.99911762 -0.48804021]\n",
      " [ 0.          0.          0.          1.        ]]\n"
     ]
    },
    {
     "name": "stderr",
     "output_type": "stream",
     "text": [
      "\r",
      "                                                                               \r",
      "\r",
      " 43% (479 of 1101) |#########             | Elapsed Time: 0:10:01 ETA:  0:17:26"
     ]
    },
    {
     "name": "stdout",
     "output_type": "stream",
     "text": [
      "connected mappoints  116\n",
      "8246 \n",
      " [[ 0.99929986  0.00308641  0.03728637  0.02469827]\n",
      " [-0.00292158  0.99998572 -0.00447438  0.01148899]\n",
      " [-0.03729965  0.00436231  0.9992946  -0.49353033]\n",
      " [ 0.          0.          0.          1.        ]]\n"
     ]
    },
    {
     "name": "stderr",
     "output_type": "stream",
     "text": [
      "\r",
      "                                                                               \r",
      "\r",
      " 43% (480 of 1101) |#########             | Elapsed Time: 0:10:03 ETA:  0:18:33"
     ]
    },
    {
     "name": "stdout",
     "output_type": "stream",
     "text": [
      "connected mappoints  107\n",
      "8247 \n",
      " [[ 0.99944743  0.0036072   0.03304277  0.01974854]\n",
      " [-0.00351184  0.9999895  -0.00294357  0.00987064]\n",
      " [-0.03305304  0.00282591  0.9994496  -0.49152262]\n",
      " [ 0.          0.          0.          1.        ]]\n"
     ]
    },
    {
     "name": "stderr",
     "output_type": "stream",
     "text": [
      "\r",
      "                                                                               \r",
      "\r",
      " 43% (481 of 1101) |#########             | Elapsed Time: 0:10:05 ETA:  0:19:37"
     ]
    },
    {
     "name": "stdout",
     "output_type": "stream",
     "text": [
      "connected mappoints  112\n",
      "8248 \n",
      " [[  9.99568933e-01  -7.27427470e-04   2.93499455e-02   2.44197657e-02]\n",
      " [  7.72490345e-04   9.99998540e-01  -1.52405537e-03   9.68872902e-03]\n",
      " [ -2.93487940e-02   1.54607095e-03   9.99568036e-01  -4.97005715e-01]\n",
      " [  0.00000000e+00   0.00000000e+00   0.00000000e+00   1.00000000e+00]]\n"
     ]
    },
    {
     "name": "stderr",
     "output_type": "stream",
     "text": [
      "\r",
      "                                                                               \r",
      "\r",
      " 43% (482 of 1101) |#########             | Elapsed Time: 0:10:08 ETA:  0:20:49"
     ]
    },
    {
     "name": "stdout",
     "output_type": "stream",
     "text": [
      "connected mappoints  105\n",
      "8249 \n",
      " [[ 0.99967943 -0.00139765  0.02528022  0.02373087]\n",
      " [ 0.0014406   0.99999755 -0.00168078  0.01151015]\n",
      " [-0.02527781  0.00171666  0.99967899 -0.50574656]\n",
      " [ 0.          0.          0.          1.        ]]\n"
     ]
    },
    {
     "name": "stderr",
     "output_type": "stream",
     "text": [
      "\r",
      "                                                                               \r",
      "\r",
      " 43% (483 of 1101) |#########             | Elapsed Time: 0:10:11 ETA:  0:21:55"
     ]
    },
    {
     "name": "stdout",
     "output_type": "stream",
     "text": [
      "connected mappoints  148\n",
      "8250 \n",
      " [[  9.99777442e-01  -2.00137444e-03   2.10014721e-02   2.55046777e-02]\n",
      " [  1.99752722e-03   9.99997984e-01   2.04164497e-04   8.73944959e-03]\n",
      " [ -2.10018384e-02  -1.62168047e-04   9.99779424e-01  -5.01521857e-01]\n",
      " [  0.00000000e+00   0.00000000e+00   0.00000000e+00   1.00000000e+00]]\n"
     ]
    },
    {
     "name": "stderr",
     "output_type": "stream",
     "text": [
      "\r",
      "                                                                               \r",
      "\r",
      " 43% (484 of 1101) |#########             | Elapsed Time: 0:10:14 ETA:  0:23:16"
     ]
    },
    {
     "name": "stdout",
     "output_type": "stream",
     "text": [
      "connected mappoints  134\n",
      "8251 \n",
      " [[  9.99857128e-01  -1.14767983e-03   1.68643506e-02   2.16745546e-02]\n",
      " [  1.14700914e-03   9.99999341e-01   4.94422942e-05   9.13725457e-03]\n",
      " [ -1.68643962e-02  -3.00916661e-05   9.99857786e-01  -5.06231549e-01]\n",
      " [  0.00000000e+00   0.00000000e+00   0.00000000e+00   1.00000000e+00]]\n"
     ]
    },
    {
     "name": "stderr",
     "output_type": "stream",
     "text": [
      "\r",
      "                                                                               \r",
      "\r",
      " 44% (485 of 1101) |#########             | Elapsed Time: 0:10:17 ETA:  0:24:43"
     ]
    },
    {
     "name": "stdout",
     "output_type": "stream",
     "text": [
      "connected mappoints  160\n",
      "8252 \n",
      " [[  9.99908261e-01  -2.18617505e-03   1.33675143e-02   1.98012463e-02]\n",
      " [  2.17695356e-03   9.99997382e-01   7.04355238e-04   6.98127413e-03]\n",
      " [ -1.33690191e-02  -6.75190163e-04   9.99910403e-01  -5.17387060e-01]\n",
      " [  0.00000000e+00   0.00000000e+00   0.00000000e+00   1.00000000e+00]]\n"
     ]
    },
    {
     "name": "stderr",
     "output_type": "stream",
     "text": [
      "\r",
      "                                                                               \r",
      "\r",
      " 44% (486 of 1101) |#########             | Elapsed Time: 0:10:21 ETA:  0:26:09"
     ]
    },
    {
     "name": "stdout",
     "output_type": "stream",
     "text": [
      "connected mappoints  144\n",
      "8253 \n",
      " [[  9.99939797e-01  -2.65907607e-03   1.06457739e-02   2.13542891e-02]\n",
      " [  2.65415797e-03   9.99996364e-01   4.76078181e-04   1.09214597e-02]\n",
      " [ -1.06470011e-02  -4.47793954e-04   9.99943219e-01  -5.16372518e-01]\n",
      " [  0.00000000e+00   0.00000000e+00   0.00000000e+00   1.00000000e+00]]\n"
     ]
    },
    {
     "name": "stderr",
     "output_type": "stream",
     "text": [
      "\r",
      "                                                                               \r",
      "\r",
      " 44% (487 of 1101) |#########             | Elapsed Time: 0:10:24 ETA:  0:27:29"
     ]
    },
    {
     "name": "stdout",
     "output_type": "stream",
     "text": [
      "connected mappoints  156\n",
      "8254 \n",
      " [[ 0.99996091 -0.00191628  0.00863213  0.01841428]\n",
      " [ 0.00189897  0.99999617  0.00201276  0.00918173]\n",
      " [-0.00863596 -0.00199629  0.99996072 -0.52429077]\n",
      " [ 0.          0.          0.          1.        ]]\n"
     ]
    },
    {
     "name": "stderr",
     "output_type": "stream",
     "text": [
      "\r",
      "                                                                               \r",
      "\r",
      " 44% (488 of 1101) |#########             | Elapsed Time: 0:10:26 ETA:  0:28:27"
     ]
    },
    {
     "name": "stdout",
     "output_type": "stream",
     "text": [
      "connected mappoints  151\n",
      "8255 \n",
      " [[  9.99975204e-01   3.58468504e-04   7.03304238e-03   1.32855529e-02]\n",
      " [ -3.69228915e-04   9.99998763e-01   1.52874078e-03   3.94394387e-03]\n",
      " [ -7.03248568e-03  -1.53129968e-03   9.99974099e-01  -5.35076333e-01]\n",
      " [  0.00000000e+00   0.00000000e+00   0.00000000e+00   1.00000000e+00]]\n"
     ]
    },
    {
     "name": "stderr",
     "output_type": "stream",
     "text": [
      "\r",
      "                                                                               \r",
      "\r",
      " 44% (489 of 1101) |#########             | Elapsed Time: 0:10:29 ETA:  0:29:10"
     ]
    },
    {
     "name": "stdout",
     "output_type": "stream",
     "text": [
      "connected mappoints  147\n",
      "8256 \n",
      " [[  9.99983381e-01   1.74994535e-03   5.49329764e-03   7.42547993e-03]\n",
      " [ -1.75210612e-03   9.99998390e-01   3.88559353e-04   7.09445155e-03]\n",
      " [ -5.49260883e-03  -3.98177736e-04   9.99984836e-01  -5.52428587e-01]\n",
      " [  0.00000000e+00   0.00000000e+00   0.00000000e+00   1.00000000e+00]]\n"
     ]
    },
    {
     "name": "stderr",
     "output_type": "stream",
     "text": [
      "\r",
      "                                                                               \r",
      "\r",
      " 44% (490 of 1101) |#########             | Elapsed Time: 0:10:32 ETA:  0:29:37"
     ]
    },
    {
     "name": "stdout",
     "output_type": "stream",
     "text": [
      "connected mappoints  193\n",
      "8257 \n",
      " [[  9.99986068e-01   3.24976805e-03   4.15978269e-03   5.93995116e-03]\n",
      " [ -3.25177170e-03   9.99994600e-01   4.74998845e-04   6.46906413e-03]\n",
      " [ -4.15821659e-03  -4.88518890e-04   9.99991235e-01  -5.60401241e-01]\n",
      " [  0.00000000e+00   0.00000000e+00   0.00000000e+00   1.00000000e+00]]\n"
     ]
    },
    {
     "name": "stderr",
     "output_type": "stream",
     "text": [
      "\r",
      "                                                                               \r",
      "\r",
      " 44% (491 of 1101) |#########             | Elapsed Time: 0:10:35 ETA:  0:30:11"
     ]
    },
    {
     "name": "stdout",
     "output_type": "stream",
     "text": [
      "connected mappoints  153\n",
      "8258 \n",
      " [[ 0.99999046 -0.00274973  0.00339263  0.0140325 ]\n",
      " [ 0.00274527  0.99999536  0.00132059  0.00901239]\n",
      " [-0.00339624 -0.00131127  0.99999337 -0.56812522]\n",
      " [ 0.          0.          0.          1.        ]]\n"
     ]
    },
    {
     "name": "stderr",
     "output_type": "stream",
     "text": [
      "\r",
      "                                                                               \r",
      "\r",
      " 44% (492 of 1101) |#########             | Elapsed Time: 0:10:38 ETA:  0:30:20"
     ]
    },
    {
     "name": "stdout",
     "output_type": "stream",
     "text": [
      "connected mappoints  162\n",
      "8259 \n",
      " [[ 0.99998459 -0.0050325   0.00234261  0.01892602]\n",
      " [ 0.0050289   0.99998617  0.00154083  0.00455693]\n",
      " [-0.00235033 -0.00152902  0.99999607 -0.58697741]\n",
      " [ 0.          0.          0.          1.        ]]\n"
     ]
    },
    {
     "name": "stderr",
     "output_type": "stream",
     "text": [
      "\r",
      "                                                                               \r",
      "\r",
      " 44% (493 of 1101) |#########             | Elapsed Time: 0:10:41 ETA:  0:30:25"
     ]
    },
    {
     "name": "stdout",
     "output_type": "stream",
     "text": [
      "connected mappoints  163\n",
      "8260 \n",
      " [[  9.99993465e-01  -3.13198457e-03   1.80585265e-03   1.31690082e-02]\n",
      " [  3.13243461e-03   9.99995064e-01  -2.46439561e-04   4.97283746e-03]\n",
      " [ -1.80507189e-03   2.52094666e-04   9.99998339e-01  -5.98720882e-01]\n",
      " [  0.00000000e+00   0.00000000e+00   0.00000000e+00   1.00000000e+00]]\n"
     ]
    },
    {
     "name": "stderr",
     "output_type": "stream",
     "text": [
      "\r",
      "                                                                               \r",
      "\r",
      " 44% (494 of 1101) |#########             | Elapsed Time: 0:10:44 ETA:  0:30:31"
     ]
    },
    {
     "name": "stdout",
     "output_type": "stream",
     "text": [
      "connected mappoints  164\n",
      "8261 \n",
      " [[  9.99996670e-01   2.39755688e-03   9.54568008e-04   5.82115105e-03]\n",
      " [ -2.39682555e-03   9.99996834e-01  -7.66553166e-04  -4.96059650e-04]\n",
      " [ -9.56402840e-04   7.64262680e-04   9.99999251e-01  -6.11652515e-01]\n",
      " [  0.00000000e+00   0.00000000e+00   0.00000000e+00   1.00000000e+00]]\n"
     ]
    },
    {
     "name": "stderr",
     "output_type": "stream",
     "text": [
      "\r",
      "                                                                               \r",
      "\r",
      " 44% (495 of 1101) |#########             | Elapsed Time: 0:10:47 ETA:  0:30:07"
     ]
    },
    {
     "name": "stdout",
     "output_type": "stream",
     "text": [
      "connected mappoints  151\n",
      "8262 \n",
      " [[  9.99987265e-01   5.04557750e-03  -1.12509585e-04  -1.69295190e-03]\n",
      " [ -5.04557895e-03   9.99987271e-01  -1.26046932e-05   9.78303070e-03]\n",
      " [  1.12444555e-04   1.31722087e-05   9.99999994e-01  -6.26326136e-01]\n",
      " [  0.00000000e+00   0.00000000e+00   0.00000000e+00   1.00000000e+00]]\n"
     ]
    },
    {
     "name": "stderr",
     "output_type": "stream",
     "text": [
      "\r",
      "                                                                               \r",
      "\r",
      " 45% (496 of 1101) |#########             | Elapsed Time: 0:10:50 ETA:  0:29:32"
     ]
    },
    {
     "name": "stdout",
     "output_type": "stream",
     "text": [
      "connected mappoints  120\n",
      "8263 \n",
      " [[  9.99999619e-01   6.97685327e-04  -5.23710907e-04   3.15613518e-03]\n",
      " [ -6.97345735e-04   9.99999547e-01   6.48335860e-04   1.58450641e-02]\n",
      " [  5.24163004e-04  -6.47970405e-04   9.99999653e-01  -6.39624996e-01]\n",
      " [  0.00000000e+00   0.00000000e+00   0.00000000e+00   1.00000000e+00]]\n"
     ]
    },
    {
     "name": "stderr",
     "output_type": "stream",
     "text": [
      "\r",
      "                                                                               \r",
      "\r",
      " 45% (497 of 1101) |#########             | Elapsed Time: 0:10:52 ETA:  0:29:02"
     ]
    },
    {
     "name": "stdout",
     "output_type": "stream",
     "text": [
      "connected mappoints  111\n",
      "8264 \n",
      " [[  9.99987363e-01  -4.99710928e-03  -5.49875555e-04   2.10085791e-02]\n",
      " [  4.99929493e-03   9.99979310e-01   4.04793491e-03   5.61326229e-03]\n",
      " [  5.29636205e-04  -4.05063275e-03   9.99991656e-01  -6.45673537e-01]\n",
      " [  0.00000000e+00   0.00000000e+00   0.00000000e+00   1.00000000e+00]]\n"
     ]
    },
    {
     "name": "stderr",
     "output_type": "stream",
     "text": [
      "\r",
      "                                                                               \r",
      "\r",
      " 45% (498 of 1101) |#########             | Elapsed Time: 0:10:55 ETA:  0:28:56"
     ]
    },
    {
     "name": "stdout",
     "output_type": "stream",
     "text": [
      "connected mappoints  126\n",
      "8265 \n",
      " [[  9.99998796e-01  -1.54044305e-03  -1.89093143e-04   1.03908878e-02]\n",
      " [  1.54169328e-03   9.99975692e-01   6.79992413e-03   1.63984525e-04]\n",
      " [  1.78613650e-04  -6.80020746e-03   9.99976862e-01  -6.67559545e-01]\n",
      " [  0.00000000e+00   0.00000000e+00   0.00000000e+00   1.00000000e+00]]\n"
     ]
    },
    {
     "name": "stderr",
     "output_type": "stream",
     "text": [
      "\r",
      "                                                                               \r",
      "\r",
      " 45% (499 of 1101) |#########             | Elapsed Time: 0:10:58 ETA:  0:28:48"
     ]
    },
    {
     "name": "stdout",
     "output_type": "stream",
     "text": [
      "connected mappoints  141\n",
      "8266 \n",
      " [[  9.99999954e-01  -3.89567062e-06  -3.03093280e-04   8.20782296e-03]\n",
      " [  5.17231421e-06   9.99991129e-01   4.21216171e-03   1.72461048e-03]\n",
      " [  3.03074182e-04  -4.21216308e-03   9.99991083e-01  -6.83764649e-01]\n",
      " [  0.00000000e+00   0.00000000e+00   0.00000000e+00   1.00000000e+00]]\n"
     ]
    },
    {
     "name": "stderr",
     "output_type": "stream",
     "text": [
      "\r",
      "                                                                               \r",
      "\r",
      " 45% (500 of 1101) |#########             | Elapsed Time: 0:11:01 ETA:  0:28:49"
     ]
    },
    {
     "name": "stdout",
     "output_type": "stream",
     "text": [
      "connected mappoints  136\n",
      "8267 \n",
      " [[  9.99998340e-01   1.77102365e-03  -4.28126562e-04   5.40880445e-03]\n",
      " [ -1.77094338e-03   9.99998414e-01   1.87785998e-04   1.35165097e-03]\n",
      " [  4.28458456e-04  -1.87027498e-04   9.99999891e-01  -7.08350324e-01]\n",
      " [  0.00000000e+00   0.00000000e+00   0.00000000e+00   1.00000000e+00]]\n"
     ]
    },
    {
     "name": "stderr",
     "output_type": "stream",
     "text": [
      "\r",
      "                                                                               \r",
      "\r",
      " 45% (501 of 1101) |##########            | Elapsed Time: 0:11:04 ETA:  0:28:35"
     ]
    },
    {
     "name": "stdout",
     "output_type": "stream",
     "text": [
      "connected mappoints  135\n",
      "8268 \n",
      " [[  9.99998378e-01  -1.69850910e-03  -5.99990338e-04   1.55488584e-02]\n",
      " [  1.69707825e-03   9.99995734e-01  -2.37729409e-03   1.01811847e-02]\n",
      " [  6.04025635e-04   2.37627200e-03   9.99996994e-01  -7.20138563e-01]\n",
      " [  0.00000000e+00   0.00000000e+00   0.00000000e+00   1.00000000e+00]]\n"
     ]
    },
    {
     "name": "stderr",
     "output_type": "stream",
     "text": [
      "\r",
      "                                                                               \r",
      "\r",
      " 45% (502 of 1101) |##########            | Elapsed Time: 0:11:06 ETA:  0:28:26"
     ]
    },
    {
     "name": "stdout",
     "output_type": "stream",
     "text": [
      "connected mappoints  127\n",
      "8269 \n",
      " [[  9.99982004e-01  -5.98633622e-03  -3.93353112e-04   1.99985828e-02]\n",
      " [  5.98526787e-03   9.99978542e-01  -2.66326244e-03   1.20156583e-02]\n",
      " [  4.09287856e-04   2.66086019e-03   9.99996376e-01  -7.42451145e-01]\n",
      " [  0.00000000e+00   0.00000000e+00   0.00000000e+00   1.00000000e+00]]\n"
     ]
    },
    {
     "name": "stderr",
     "output_type": "stream",
     "text": [
      "\r",
      "                                                                               \r",
      "\r",
      " 45% (503 of 1101) |##########            | Elapsed Time: 0:11:10 ETA:  0:28:31"
     ]
    },
    {
     "name": "stdout",
     "output_type": "stream",
     "text": [
      "connected mappoints  120\n",
      "8270 \n",
      " [[  9.99989963e-01  -4.47451569e-03   2.30159716e-04   1.54053017e-02]\n",
      " [  4.47470150e-03   9.99989658e-01  -8.13245417e-04   3.09370587e-03]\n",
      " [ -2.26518457e-04   8.14267151e-04   9.99999643e-01  -7.61304058e-01]\n",
      " [  0.00000000e+00   0.00000000e+00   0.00000000e+00   1.00000000e+00]]\n"
     ]
    },
    {
     "name": "stderr",
     "output_type": "stream",
     "text": [
      "\r",
      "                                                                               \r",
      "\r",
      " 45% (504 of 1101) |##########            | Elapsed Time: 0:11:12 ETA:  0:27:56"
     ]
    },
    {
     "name": "stdout",
     "output_type": "stream",
     "text": [
      "connected mappoints  113\n",
      "8271 \n",
      " [[  9.99999834e-01  -2.32229839e-04   5.28249558e-04   1.08171450e-02]\n",
      " [  2.33085314e-04   9.99998661e-01  -1.61996818e-03   1.15575247e-02]\n",
      " [ -5.27872646e-04   1.62009103e-03   9.99998548e-01  -7.68933045e-01]\n",
      " [  0.00000000e+00   0.00000000e+00   0.00000000e+00   1.00000000e+00]]\n"
     ]
    },
    {
     "name": "stderr",
     "output_type": "stream",
     "text": [
      "\r",
      "                                                                               \r",
      "\r",
      " 45% (505 of 1101) |##########            | Elapsed Time: 0:11:15 ETA:  0:27:44"
     ]
    },
    {
     "name": "stdout",
     "output_type": "stream",
     "text": [
      "connected mappoints  120\n",
      "8272 \n",
      " [[  9.99999989e-01  -1.15075418e-04   8.81238493e-05   8.47637744e-03]\n",
      " [  1.15324981e-04   9.99995968e-01  -2.83720240e-03   5.41642905e-03]\n",
      " [ -8.77970018e-05   2.83721253e-03   9.99995971e-01  -7.90114090e-01]\n",
      " [  0.00000000e+00   0.00000000e+00   0.00000000e+00   1.00000000e+00]]\n"
     ]
    },
    {
     "name": "stderr",
     "output_type": "stream",
     "text": [
      "\r",
      "                                                                               \r",
      "\r",
      " 45% (506 of 1101) |##########            | Elapsed Time: 0:11:17 ETA:  0:27:22"
     ]
    },
    {
     "name": "stdout",
     "output_type": "stream",
     "text": [
      "connected mappoints  93\n",
      "8273 \n",
      " [[  9.99999317e-01   9.17188426e-04  -7.24822136e-04   1.45110847e-02]\n",
      " [ -9.20193518e-04   9.99990938e-01  -4.15657139e-03   8.31693935e-03]\n",
      " [  7.21003209e-04   4.15723553e-03   9.99991099e-01  -8.05431442e-01]\n",
      " [  0.00000000e+00   0.00000000e+00   0.00000000e+00   1.00000000e+00]]\n"
     ]
    },
    {
     "name": "stderr",
     "output_type": "stream",
     "text": [
      "\r",
      "                                                                               \r",
      "\r",
      " 46% (507 of 1101) |##########            | Elapsed Time: 0:11:20 ETA:  0:27:24"
     ]
    },
    {
     "name": "stdout",
     "output_type": "stream",
     "text": [
      "connected mappoints  88\n",
      "8274 \n",
      " [[  9.99995028e-01  -3.15304843e-03   5.48780643e-05   2.47507931e-02]\n",
      " [  3.15312948e-03   9.99993835e-01  -1.54540929e-03   8.95490297e-03]\n",
      " [ -5.00049756e-05   1.54557464e-03   9.99998804e-01  -8.18346414e-01]\n",
      " [  0.00000000e+00   0.00000000e+00   0.00000000e+00   1.00000000e+00]]\n"
     ]
    },
    {
     "name": "stderr",
     "output_type": "stream",
     "text": [
      "\r",
      "                                                                               \r",
      "\r",
      " 46% (508 of 1101) |##########            | Elapsed Time: 0:11:22 ETA:  0:26:54"
     ]
    },
    {
     "name": "stdout",
     "output_type": "stream",
     "text": [
      "connected mappoints  90\n",
      "8275 \n",
      " [[  9.99992498e-01  -3.85142796e-03   4.13481539e-04   2.33767397e-02]\n",
      " [  3.85042073e-03   9.99989684e-01   2.40972480e-03   1.03221282e-02]\n",
      " [ -4.22758155e-04  -2.40811464e-03   9.99997011e-01  -8.21547648e-01]\n",
      " [  0.00000000e+00   0.00000000e+00   0.00000000e+00   1.00000000e+00]]\n"
     ]
    },
    {
     "name": "stderr",
     "output_type": "stream",
     "text": [
      "\r",
      "                                                                               \r",
      "\r",
      " 46% (509 of 1101) |##########            | Elapsed Time: 0:11:25 ETA:  0:26:21"
     ]
    },
    {
     "name": "stdout",
     "output_type": "stream",
     "text": [
      "connected mappoints  83\n",
      "8276 \n",
      " [[  9.99999456e-01   8.35896689e-04   6.24695000e-04   9.93443359e-03]\n",
      " [ -8.37784018e-04   9.99995067e-01   3.02707014e-03   4.24771080e-03]\n",
      " [ -6.22161601e-04  -3.02759185e-03   9.99995223e-01  -8.49142487e-01]\n",
      " [  0.00000000e+00   0.00000000e+00   0.00000000e+00   1.00000000e+00]]\n"
     ]
    },
    {
     "name": "stderr",
     "output_type": "stream",
     "text": [
      "\r",
      "                                                                               \r",
      "\r",
      " 46% (510 of 1101) |##########            | Elapsed Time: 0:11:27 ETA:  0:25:19"
     ]
    },
    {
     "name": "stdout",
     "output_type": "stream",
     "text": [
      "connected mappoints  100\n",
      "8277 \n",
      " [[  9.99995542e-01   2.83511578e-03   9.36675471e-04   4.06760564e-03]\n",
      " [ -2.83431133e-03   9.99995614e-01  -8.59049470e-04   7.18462072e-03]\n",
      " [ -9.39106868e-04   8.56390811e-04   9.99999192e-01  -8.52617687e-01]\n",
      " [  0.00000000e+00   0.00000000e+00   0.00000000e+00   1.00000000e+00]]\n"
     ]
    },
    {
     "name": "stderr",
     "output_type": "stream",
     "text": [
      "\r",
      "                                                                               \r",
      "\r",
      " 46% (511 of 1101) |##########            | Elapsed Time: 0:11:28 ETA:  0:24:13"
     ]
    },
    {
     "name": "stdout",
     "output_type": "stream",
     "text": [
      "connected mappoints  106\n",
      "8278 \n",
      " [[  9.99996787e-01   2.49968178e-03  -4.22399742e-04   1.29759576e-02]\n",
      " [ -2.50197504e-03   9.99981642e-01  -5.51871997e-03   2.01041840e-02]\n",
      " [  4.08596943e-04   5.51975907e-03   9.99984683e-01  -8.74896414e-01]\n",
      " [  0.00000000e+00   0.00000000e+00   0.00000000e+00   1.00000000e+00]]\n"
     ]
    },
    {
     "name": "stderr",
     "output_type": "stream",
     "text": [
      "\r",
      "                                                                               \r",
      "\r",
      " 46% (512 of 1101) |##########            | Elapsed Time: 0:11:30 ETA:  0:23:07"
     ]
    },
    {
     "name": "stdout",
     "output_type": "stream",
     "text": [
      "connected mappoints  104\n",
      "8279 \n",
      " [[  9.99992893e-01   3.75735941e-03  -3.11241372e-04   7.11042766e-03]\n",
      " [ -3.75805316e-03   9.99990386e-01  -2.25921676e-03   1.68698252e-02]\n",
      " [  3.02749690e-04   2.26037036e-03   9.99997400e-01  -8.90519498e-01]\n",
      " [  0.00000000e+00   0.00000000e+00   0.00000000e+00   1.00000000e+00]]\n"
     ]
    },
    {
     "name": "stderr",
     "output_type": "stream",
     "text": [
      "\r",
      "                                                                               \r",
      "\r",
      " 46% (513 of 1101) |##########            | Elapsed Time: 0:11:32 ETA:  0:21:47"
     ]
    },
    {
     "name": "stdout",
     "output_type": "stream",
     "text": [
      "connected mappoints  98\n",
      "8280 \n",
      " [[  9.99997658e-01   2.06262275e-03   6.55236145e-04  -4.42059090e-03]\n",
      " [ -2.06323350e-03   9.99997436e-01   9.32794370e-04   9.74544121e-03]\n",
      " [ -6.53310463e-04  -9.34144091e-04   9.99999350e-01  -9.22360347e-01]\n",
      " [  0.00000000e+00   0.00000000e+00   0.00000000e+00   1.00000000e+00]]\n"
     ]
    },
    {
     "name": "stderr",
     "output_type": "stream",
     "text": [
      "\r",
      "                                                                               \r",
      "\r",
      " 46% (514 of 1101) |##########            | Elapsed Time: 0:11:34 ETA:  0:21:03"
     ]
    },
    {
     "name": "stdout",
     "output_type": "stream",
     "text": [
      "connected mappoints  86\n",
      "8281 \n",
      " [[  9.99995812e-01   2.85428683e-03   4.79059699e-04  -2.43328060e-03]\n",
      " [ -2.85605448e-03   9.99988963e-01   3.73061699e-03   8.28862288e-03]\n",
      " [ -4.68406161e-04  -3.73196958e-03   9.99992926e-01  -9.28179440e-01]\n",
      " [  0.00000000e+00   0.00000000e+00   0.00000000e+00   1.00000000e+00]]\n"
     ]
    },
    {
     "name": "stderr",
     "output_type": "stream",
     "text": [
      "\r",
      "                                                                               \r",
      "\r",
      " 46% (515 of 1101) |##########            | Elapsed Time: 0:11:36 ETA:  0:20:19"
     ]
    },
    {
     "name": "stdout",
     "output_type": "stream",
     "text": [
      "connected mappoints  116\n",
      "8282 \n",
      " [[  9.99991640e-01   4.06562263e-03   4.37133393e-04   6.05235948e-03]\n",
      " [ -4.06743617e-03   9.99982777e-01   4.23109448e-03   8.23779103e-03]\n",
      " [ -4.19923831e-04  -4.23283712e-03   9.99990953e-01  -9.15463108e-01]\n",
      " [  0.00000000e+00   0.00000000e+00   0.00000000e+00   1.00000000e+00]]\n"
     ]
    },
    {
     "name": "stderr",
     "output_type": "stream",
     "text": [
      "\r",
      "                                                                               \r",
      "\r",
      " 46% (516 of 1101) |##########            | Elapsed Time: 0:11:38 ETA:  0:19:50"
     ]
    },
    {
     "name": "stdout",
     "output_type": "stream",
     "text": [
      "connected mappoints  99\n",
      "8283 \n",
      " [[  9.99999693e-01   6.17274058e-04  -4.82625552e-04   1.95573287e-02]\n",
      " [ -6.16179732e-04   9.99997247e-01   2.26431524e-03   1.53876626e-02]\n",
      " [  4.84021926e-04  -2.26401716e-03   9.99997320e-01  -9.16784595e-01]\n",
      " [  0.00000000e+00   0.00000000e+00   0.00000000e+00   1.00000000e+00]]\n"
     ]
    },
    {
     "name": "stderr",
     "output_type": "stream",
     "text": [
      "\r",
      "                                                                               \r",
      "\r",
      " 46% (517 of 1101) |##########            | Elapsed Time: 0:11:40 ETA:  0:19:14"
     ]
    },
    {
     "name": "stdout",
     "output_type": "stream",
     "text": [
      "connected mappoints  88\n",
      "8284 \n",
      " [[  9.99999531e-01  -5.56655882e-04  -7.93109415e-04   1.33589504e-02]\n",
      " [  5.57388156e-04   9.99999418e-01   9.23372603e-04   1.14190270e-02]\n",
      " [  7.92594953e-04  -9.23814239e-04   9.99999259e-01  -9.41770271e-01]\n",
      " [  0.00000000e+00   0.00000000e+00   0.00000000e+00   1.00000000e+00]]\n"
     ]
    },
    {
     "name": "stderr",
     "output_type": "stream",
     "text": [
      "\r",
      "                                                                               \r",
      "\r",
      " 47% (518 of 1101) |##########            | Elapsed Time: 0:11:42 ETA:  0:18:59"
     ]
    },
    {
     "name": "stdout",
     "output_type": "stream",
     "text": [
      "connected mappoints  87\n",
      "8285 \n",
      " [[  9.99999812e-01  -1.57662007e-05  -6.13397417e-04   1.64986618e-02]\n",
      " [  1.42245577e-05   9.99996842e-01  -2.51320884e-03   2.21513281e-02]\n",
      " [  6.13435103e-04   2.51319964e-03   9.99996654e-01  -9.39455510e-01]\n",
      " [  0.00000000e+00   0.00000000e+00   0.00000000e+00   1.00000000e+00]]\n"
     ]
    },
    {
     "name": "stderr",
     "output_type": "stream",
     "text": [
      "\r",
      "                                                                               \r",
      "\r",
      " 47% (519 of 1101) |##########            | Elapsed Time: 0:11:44 ETA:  0:18:48"
     ]
    },
    {
     "name": "stdout",
     "output_type": "stream",
     "text": [
      "connected mappoints  86\n",
      "8286 \n",
      " [[  9.99999583e-01  -9.11015789e-04   6.12325079e-05  -1.93560798e-03]\n",
      " [  9.11209782e-04   9.99994315e-01  -3.24650505e-03   1.33265577e-02]\n",
      " [ -5.82745424e-05   3.24655949e-03   9.99994728e-01  -9.75080914e-01]\n",
      " [  0.00000000e+00   0.00000000e+00   0.00000000e+00   1.00000000e+00]]\n"
     ]
    },
    {
     "name": "stderr",
     "output_type": "stream",
     "text": [
      "\r",
      "                                                                               \r",
      "\r",
      " 47% (520 of 1101) |##########            | Elapsed Time: 0:11:46 ETA:  0:19:15"
     ]
    },
    {
     "name": "stdout",
     "output_type": "stream",
     "text": [
      "connected mappoints  73\n",
      "8287 \n",
      " [[  9.99997818e-01   2.07918122e-03  -2.01273585e-04   3.55603549e-03]\n",
      " [ -2.07967679e-03   9.99994727e-01  -2.49412202e-03   2.24813972e-02]\n",
      " [  1.96086792e-04   2.49453516e-03   9.99996869e-01  -9.71546878e-01]\n",
      " [  0.00000000e+00   0.00000000e+00   0.00000000e+00   1.00000000e+00]]\n"
     ]
    },
    {
     "name": "stderr",
     "output_type": "stream",
     "text": [
      "\r",
      "                                                                               \r",
      "\r",
      " 47% (521 of 1101) |##########            | Elapsed Time: 0:11:49 ETA:  0:19:57"
     ]
    },
    {
     "name": "stdout",
     "output_type": "stream",
     "text": [
      "connected mappoints  96\n",
      "8288 \n",
      " [[  9.99981793e-01   6.03340425e-03  -1.05401225e-04   1.70307603e-03]\n",
      " [ -6.03356767e-03   9.99980476e-01  -1.62579226e-03   2.37847300e-02]\n",
      " [  9.55901050e-05   1.62639860e-03   9.99998673e-01  -9.57551873e-01]\n",
      " [  0.00000000e+00   0.00000000e+00   0.00000000e+00   1.00000000e+00]]\n"
     ]
    },
    {
     "name": "stderr",
     "output_type": "stream",
     "text": [
      "\r",
      "                                                                               \r",
      "\r",
      " 47% (522 of 1101) |##########            | Elapsed Time: 0:11:51 ETA:  0:20:46"
     ]
    },
    {
     "name": "stdout",
     "output_type": "stream",
     "text": [
      "connected mappoints  111\n",
      "8289 \n",
      " [[  9.99978399e-01   6.54989477e-03  -5.47806181e-04   5.47103498e-03]\n",
      " [ -6.55046984e-03   9.99977989e-01  -1.05464464e-03   1.80342480e-02]\n",
      " [  5.40886312e-04   1.05821024e-03   9.99999294e-01  -9.50302780e-01]\n",
      " [  0.00000000e+00   0.00000000e+00   0.00000000e+00   1.00000000e+00]]\n"
     ]
    },
    {
     "name": "stderr",
     "output_type": "stream",
     "text": [
      "\r",
      "                                                                               \r",
      "\r",
      " 47% (523 of 1101) |##########            | Elapsed Time: 0:11:54 ETA:  0:21:30"
     ]
    },
    {
     "name": "stdout",
     "output_type": "stream",
     "text": [
      "connected mappoints  109\n",
      "8290 \n",
      " [[  9.99992975e-01   3.74728367e-03   8.56701044e-05   3.34217580e-03]\n",
      " [ -3.74698738e-03   9.99987762e-01  -3.23049552e-03   2.25939911e-02]\n",
      " [ -9.77746391e-05   3.23015183e-03   9.99994778e-01  -9.46921166e-01]\n",
      " [  0.00000000e+00   0.00000000e+00   0.00000000e+00   1.00000000e+00]]\n"
     ]
    },
    {
     "name": "stderr",
     "output_type": "stream",
     "text": [
      "\r",
      "                                                                               \r",
      "\r",
      " 47% (524 of 1101) |##########            | Elapsed Time: 0:11:57 ETA:  0:22:06"
     ]
    },
    {
     "name": "stdout",
     "output_type": "stream",
     "text": [
      "connected mappoints  100\n",
      "8291 \n",
      " [[  9.99993268e-01   3.66586432e-03  -1.61530940e-04   2.80712579e-03]\n",
      " [ -3.66671749e-03   9.99977357e-01  -5.64284153e-03   2.01066085e-02]\n",
      " [  1.40841391e-04   5.64339583e-03   9.99984066e-01  -9.53608599e-01]\n",
      " [  0.00000000e+00   0.00000000e+00   0.00000000e+00   1.00000000e+00]]\n"
     ]
    },
    {
     "name": "stderr",
     "output_type": "stream",
     "text": [
      "\r",
      "                                                                               \r",
      "\r",
      " 47% (525 of 1101) |##########            | Elapsed Time: 0:11:59 ETA:  0:22:37"
     ]
    },
    {
     "name": "stdout",
     "output_type": "stream",
     "text": [
      "connected mappoints  104\n",
      "8292 \n",
      " [[  9.99994058e-01   3.44361563e-03   1.60038280e-04   3.41311237e-03]\n",
      " [ -3.44276279e-03   9.99981300e-01  -5.05441030e-03   2.39859070e-02]\n",
      " [ -1.77440734e-04   5.05382929e-03   9.99987214e-01  -9.60718964e-01]\n",
      " [  0.00000000e+00   0.00000000e+00   0.00000000e+00   1.00000000e+00]]\n"
     ]
    },
    {
     "name": "stderr",
     "output_type": "stream",
     "text": [
      "\r",
      "                                                                               \r",
      "\r",
      " 47% (526 of 1101) |##########            | Elapsed Time: 0:12:02 ETA:  0:23:13"
     ]
    },
    {
     "name": "stdout",
     "output_type": "stream",
     "text": [
      "connected mappoints  106\n",
      "8293 \n",
      " [[  9.99997072e-01   2.38911032e-03  -3.85553129e-04   1.41385594e-02]\n",
      " [ -2.38850271e-03   9.99995917e-01   1.56876894e-03   2.49680898e-02]\n",
      " [  3.89299516e-04  -1.56784345e-03   9.99998695e-01  -9.46054532e-01]\n",
      " [  0.00000000e+00   0.00000000e+00   0.00000000e+00   1.00000000e+00]]\n"
     ]
    },
    {
     "name": "stderr",
     "output_type": "stream",
     "text": [
      "\r",
      "                                                                               \r",
      "\r",
      " 47% (527 of 1101) |##########            | Elapsed Time: 0:12:05 ETA:  0:23:41"
     ]
    },
    {
     "name": "stdout",
     "output_type": "stream",
     "text": [
      "connected mappoints  100\n",
      "8294 \n",
      " [[  9.99997773e-01  -2.07856104e-03  -3.65886691e-04   1.55187633e-02]\n",
      " [  2.08132301e-03   9.99968053e-01   7.71751803e-03   1.74877041e-02]\n",
      " [  3.49833670e-04  -7.71826237e-03   9.99970153e-01  -9.31208517e-01]\n",
      " [  0.00000000e+00   0.00000000e+00   0.00000000e+00   1.00000000e+00]]\n"
     ]
    },
    {
     "name": "stderr",
     "output_type": "stream",
     "text": [
      "\r",
      "                                                                               \r",
      "\r",
      " 47% (528 of 1101) |##########            | Elapsed Time: 0:12:07 ETA:  0:24:16"
     ]
    },
    {
     "name": "stdout",
     "output_type": "stream",
     "text": [
      "connected mappoints  88\n",
      "8295 \n",
      " [[  9.99999382e-01  -9.67644598e-05  -1.10775226e-03   1.48331527e-02]\n",
      " [  1.06338277e-04   9.99962619e-01   8.64576768e-03   1.02432727e-02]\n",
      " [  1.10687425e-03  -8.64588013e-03   9.99962011e-01  -9.34375426e-01]\n",
      " [  0.00000000e+00   0.00000000e+00   0.00000000e+00   1.00000000e+00]]\n"
     ]
    },
    {
     "name": "stderr",
     "output_type": "stream",
     "text": [
      "\r",
      "                                                                               \r",
      "\r",
      " 48% (529 of 1101) |##########            | Elapsed Time: 0:12:10 ETA:  0:24:50"
     ]
    },
    {
     "name": "stdout",
     "output_type": "stream",
     "text": [
      "connected mappoints  83\n",
      "8296 \n",
      " [[  9.99999629e-01  -4.78876769e-04  -7.15337052e-04   8.78861788e-03]\n",
      " [  4.81068375e-04   9.99995182e-01   3.06671547e-03   7.46955513e-03]\n",
      " [  7.13865027e-04  -3.06705846e-03   9.99995042e-01  -9.37783879e-01]\n",
      " [  0.00000000e+00   0.00000000e+00   0.00000000e+00   1.00000000e+00]]\n"
     ]
    },
    {
     "name": "stderr",
     "output_type": "stream",
     "text": [
      "\r",
      "                                                                               \r",
      "\r",
      " 48% (530 of 1101) |##########            | Elapsed Time: 0:12:13 ETA:  0:24:59"
     ]
    },
    {
     "name": "stdout",
     "output_type": "stream",
     "text": [
      "connected mappoints  111\n",
      "8297 \n",
      " [[  9.99999495e-01  -1.84216606e-04  -9.87688857e-04   9.52446789e-03]\n",
      " [  1.81794709e-04   9.99996978e-01  -2.45161444e-03   1.93327247e-02]\n",
      " [  9.88137500e-04   2.45143364e-03   9.99996507e-01  -9.24237643e-01]\n",
      " [  0.00000000e+00   0.00000000e+00   0.00000000e+00   1.00000000e+00]]\n"
     ]
    },
    {
     "name": "stderr",
     "output_type": "stream",
     "text": [
      "\r",
      "                                                                               \r",
      "\r",
      " 48% (531 of 1101) |##########            | Elapsed Time: 0:12:16 ETA:  0:25:18"
     ]
    },
    {
     "name": "stdout",
     "output_type": "stream",
     "text": [
      "connected mappoints  104\n",
      "8298 \n",
      " [[  9.99999277e-01   1.07389194e-03  -5.40913429e-04   7.35669684e-03]\n",
      " [ -1.07534377e-03   9.99995801e-01  -2.69092900e-03   2.58871933e-02]\n",
      " [  5.38021391e-04   2.69150872e-03   9.99996233e-01  -9.32026472e-01]\n",
      " [  0.00000000e+00   0.00000000e+00   0.00000000e+00   1.00000000e+00]]\n"
     ]
    },
    {
     "name": "stderr",
     "output_type": "stream",
     "text": [
      "\r",
      "                                                                               \r",
      "\r",
      " 48% (532 of 1101) |##########            | Elapsed Time: 0:12:18 ETA:  0:25:29"
     ]
    },
    {
     "name": "stdout",
     "output_type": "stream",
     "text": [
      "connected mappoints  102\n",
      "8299 \n",
      " [[  9.99999509e-01  -4.19913132e-04  -8.97949634e-04   1.37088785e-02]\n",
      " [  4.18639954e-04   9.99998908e-01  -1.41759157e-03   2.37829351e-02]\n",
      " [  8.98543918e-04   1.41721495e-03   9.99998592e-01  -9.23309095e-01]\n",
      " [  0.00000000e+00   0.00000000e+00   0.00000000e+00   1.00000000e+00]]\n"
     ]
    },
    {
     "name": "stderr",
     "output_type": "stream",
     "text": [
      "\r",
      "                                                                               \r",
      "\r",
      " 48% (533 of 1101) |##########            | Elapsed Time: 0:12:21 ETA:  0:25:32"
     ]
    },
    {
     "name": "stdout",
     "output_type": "stream",
     "text": [
      "connected mappoints  117\n",
      "8300 \n",
      " [[  9.99990071e-01  -3.00524388e-03  -3.29021935e-03   1.30405611e-02]\n",
      " [  3.00454694e-03   9.99995463e-01  -2.16744990e-04   1.86397239e-02]\n",
      " [  3.29085579e-03   2.06857220e-04   9.99994564e-01  -9.23594740e-01]\n",
      " [  0.00000000e+00   0.00000000e+00   0.00000000e+00   1.00000000e+00]]\n"
     ]
    },
    {
     "name": "stderr",
     "output_type": "stream",
     "text": [
      "\r",
      "                                                                               \r",
      "\r",
      " 48% (534 of 1101) |##########            | Elapsed Time: 0:12:24 ETA:  0:25:41"
     ]
    },
    {
     "name": "stdout",
     "output_type": "stream",
     "text": [
      "connected mappoints  112\n",
      "8301 \n",
      " [[  9.99976498e-01  -3.10884818e-03  -6.11053639e-03   6.12421359e-03]\n",
      " [  3.10771637e-03   9.99995152e-01  -1.94708649e-04   1.81647277e-02]\n",
      " [  6.11111209e-03   1.75714259e-04   9.99981312e-01  -9.26500937e-01]\n",
      " [  0.00000000e+00   0.00000000e+00   0.00000000e+00   1.00000000e+00]]\n"
     ]
    },
    {
     "name": "stderr",
     "output_type": "stream",
     "text": [
      "\r",
      "                                                                               \r",
      "\r",
      " 48% (535 of 1101) |##########            | Elapsed Time: 0:12:27 ETA:  0:25:46"
     ]
    },
    {
     "name": "stdout",
     "output_type": "stream",
     "text": [
      "connected mappoints  112\n",
      "8302 \n",
      " [[  9.99960866e-01  -1.41836075e-03  -8.73239763e-03   9.73154950e-03]\n",
      " [  1.41571710e-03   9.99998950e-01  -3.08914600e-04   2.43806575e-02]\n",
      " [  8.73282661e-03   2.96539906e-04   9.99961824e-01  -9.17723013e-01]\n",
      " [  0.00000000e+00   0.00000000e+00   0.00000000e+00   1.00000000e+00]]\n"
     ]
    },
    {
     "name": "stderr",
     "output_type": "stream",
     "text": [
      "\r",
      "                                                                               \r",
      "\r",
      " 48% (536 of 1101) |##########            | Elapsed Time: 0:12:29 ETA:  0:25:43"
     ]
    },
    {
     "name": "stdout",
     "output_type": "stream",
     "text": [
      "connected mappoints  111\n",
      "8303 \n",
      " [[  9.99936644e-01   9.24483209e-04  -1.12184145e-02   6.60120293e-03]\n",
      " [ -9.14271066e-04   9.99999163e-01   9.15396153e-04   2.30539991e-02]\n",
      " [  1.12192513e-02  -9.05081485e-04   9.99936653e-01  -9.04652790e-01]\n",
      " [  0.00000000e+00   0.00000000e+00   0.00000000e+00   1.00000000e+00]]\n"
     ]
    },
    {
     "name": "stderr",
     "output_type": "stream",
     "text": [
      "\r",
      "                                                                               \r",
      "\r",
      " 48% (537 of 1101) |##########            | Elapsed Time: 0:12:32 ETA:  0:25:52"
     ]
    },
    {
     "name": "stdout",
     "output_type": "stream",
     "text": [
      "connected mappoints  114\n",
      "8304 \n",
      " [[  9.99899768e-01   1.97786213e-03  -1.40193693e-02  -5.92716293e-03]\n",
      " [ -1.98995054e-03   9.99997660e-01  -8.48367737e-04   2.50940285e-02]\n",
      " [  1.40176585e-02   8.76180555e-04   9.99901364e-01  -9.13868130e-01]\n",
      " [  0.00000000e+00   0.00000000e+00   0.00000000e+00   1.00000000e+00]]\n"
     ]
    },
    {
     "name": "stderr",
     "output_type": "stream",
     "text": [
      "\r",
      "                                                                               \r",
      "\r",
      " 48% (538 of 1101) |##########            | Elapsed Time: 0:12:35 ETA:  0:25:39"
     ]
    },
    {
     "name": "stdout",
     "output_type": "stream",
     "text": [
      "connected mappoints  116\n",
      "8305 \n",
      " [[ 0.99984806  0.00439557 -0.01686842 -0.01026864]\n",
      " [-0.0044391   0.99998691 -0.0025442   0.02368564]\n",
      " [ 0.01685701  0.00261869  0.99985448 -0.90656116]\n",
      " [ 0.          0.          0.          1.        ]]\n"
     ]
    },
    {
     "name": "stderr",
     "output_type": "stream",
     "text": [
      "\r",
      "                                                                               \r",
      "\r",
      " 48% (539 of 1101) |##########            | Elapsed Time: 0:12:37 ETA:  0:24:50"
     ]
    },
    {
     "name": "stdout",
     "output_type": "stream",
     "text": [
      "connected mappoints  103\n",
      "8306 \n",
      " [[ 0.99979339  0.00260203 -0.02015978 -0.00550142]\n",
      " [-0.00265277  0.99999338 -0.0024907   0.02310175]\n",
      " [ 0.02015317  0.00254366  0.99979367 -0.89946065]\n",
      " [ 0.          0.          0.          1.        ]]\n"
     ]
    },
    {
     "name": "stderr",
     "output_type": "stream",
     "text": [
      "\r",
      "                                                                               \r",
      "\r",
      " 49% (540 of 1101) |##########            | Elapsed Time: 0:12:38 ETA:  0:23:54"
     ]
    },
    {
     "name": "stdout",
     "output_type": "stream",
     "text": [
      "connected mappoints  87\n",
      "8307 \n",
      " [[  9.99710640e-01   2.73128695e-03  -2.38993121e-02  -3.15726181e-03]\n",
      " [ -2.74826434e-03   9.99995994e-01  -6.77554537e-04   2.53106446e-02]\n",
      " [  2.38973658e-02   7.43040107e-04   9.99714141e-01  -8.93200235e-01]\n",
      " [  0.00000000e+00   0.00000000e+00   0.00000000e+00   1.00000000e+00]]\n"
     ]
    },
    {
     "name": "stderr",
     "output_type": "stream",
     "text": [
      "\r",
      "                                                                               \r",
      "\r",
      " 49% (541 of 1101) |##########            | Elapsed Time: 0:12:40 ETA:  0:22:55"
     ]
    },
    {
     "name": "stdout",
     "output_type": "stream",
     "text": [
      "connected mappoints  78\n",
      "8308 \n",
      " [[  9.99594699e-01   4.12947849e-03  -2.81671008e-02   3.96929622e-03]\n",
      " [ -4.10934555e-03   9.99991258e-01   7.72616280e-04   1.85662905e-02]\n",
      " [  2.81700451e-02  -6.56554787e-04   9.99602930e-01  -8.70890290e-01]\n",
      " [  0.00000000e+00   0.00000000e+00   0.00000000e+00   1.00000000e+00]]\n"
     ]
    },
    {
     "name": "stderr",
     "output_type": "stream",
     "text": [
      "\r",
      "                                                                               \r",
      "\r",
      " 49% (542 of 1101) |##########            | Elapsed Time: 0:12:42 ETA:  0:21:59"
     ]
    },
    {
     "name": "stdout",
     "output_type": "stream",
     "text": [
      "connected mappoints  80\n",
      "8309 \n",
      " [[  9.99507859e-01   4.17176892e-03  -3.10907816e-02  -7.58332681e-03]\n",
      " [ -4.18153178e-03   9.99991226e-01  -2.48998568e-04   1.86458601e-02]\n",
      " [  3.10894701e-02   3.78883117e-04   9.99516534e-01  -9.12892042e-01]\n",
      " [  0.00000000e+00   0.00000000e+00   0.00000000e+00   1.00000000e+00]]\n"
     ]
    },
    {
     "name": "stderr",
     "output_type": "stream",
     "text": [
      "\r",
      "                                                                               \r",
      "\r",
      " 49% (543 of 1101) |##########            | Elapsed Time: 0:12:44 ETA:  0:21:07"
     ]
    },
    {
     "name": "stdout",
     "output_type": "stream",
     "text": [
      "connected mappoints  85\n",
      "8310 \n",
      " [[  9.99463394e-01   3.71176548e-03  -3.25445434e-02  -1.10126258e-02]\n",
      " [ -3.69324165e-03   9.99992982e-01   6.29279021e-04   2.42233442e-02]\n",
      " [  3.25466508e-02  -5.08746482e-04   9.99470088e-01  -8.90024238e-01]\n",
      " [  0.00000000e+00   0.00000000e+00   0.00000000e+00   1.00000000e+00]]\n"
     ]
    },
    {
     "name": "stderr",
     "output_type": "stream",
     "text": [
      "\r",
      "                                                                               \r",
      "\r",
      " 49% (544 of 1101) |##########            | Elapsed Time: 0:12:45 ETA:  0:19:55"
     ]
    },
    {
     "name": "stdout",
     "output_type": "stream",
     "text": [
      "connected mappoints  72\n",
      "8311 \n",
      " [[ 0.99947866  0.00259565 -0.03218199 -0.01484093]\n",
      " [-0.00252708  0.99999445  0.0021712   0.01962949]\n",
      " [ 0.03218745 -0.00208874  0.99947967 -0.90518092]\n",
      " [ 0.          0.          0.          1.        ]]\n"
     ]
    },
    {
     "name": "stderr",
     "output_type": "stream",
     "text": [
      "\r",
      "                                                                               \r",
      "\r",
      " 49% (545 of 1101) |##########            | Elapsed Time: 0:12:47 ETA:  0:18:41"
     ]
    },
    {
     "name": "stdout",
     "output_type": "stream",
     "text": [
      "connected mappoints  76\n",
      "8312 \n",
      " [[ 0.9994847   0.00332271 -0.03192653 -0.02103635]\n",
      " [-0.00301221  0.99994775  0.00976856  0.01984166]\n",
      " [ 0.03195732 -0.00966735  0.99944248 -0.87832503]\n",
      " [ 0.          0.          0.          1.        ]]\n"
     ]
    },
    {
     "name": "stderr",
     "output_type": "stream",
     "text": [
      "\r",
      "                                                                               \r",
      "\r",
      " 49% (546 of 1101) |##########            | Elapsed Time: 0:12:48 ETA:  0:17:30"
     ]
    },
    {
     "name": "stdout",
     "output_type": "stream",
     "text": [
      "connected mappoints  72\n",
      "8313 \n",
      " [[  9.99466742e-01   5.67537779e-04  -3.26482626e-02  -5.87533291e-03]\n",
      " [ -2.25795853e-04   9.99945161e-01   1.04701195e-02   7.69555810e-03]\n",
      " [  3.26524144e-02  -1.04571644e-02   9.99412061e-01  -8.71617518e-01]\n",
      " [  0.00000000e+00   0.00000000e+00   0.00000000e+00   1.00000000e+00]]\n"
     ]
    },
    {
     "name": "stderr",
     "output_type": "stream",
     "text": [
      "\r",
      "                                                                               \r",
      "\r",
      " 49% (547 of 1101) |##########            | Elapsed Time: 0:12:50 ETA:  0:16:15"
     ]
    },
    {
     "name": "stdout",
     "output_type": "stream",
     "text": [
      "connected mappoints  73\n",
      "8314 \n",
      " [[ 0.99947714 -0.00337423 -0.03215676 -0.02469864]\n",
      " [ 0.00362083  0.99996446  0.00761342  0.00453627]\n",
      " [ 0.03212993 -0.00772587  0.99945384 -0.88700106]\n",
      " [ 0.          0.          0.          1.        ]]\n"
     ]
    },
    {
     "name": "stderr",
     "output_type": "stream",
     "text": [
      "\r",
      "                                                                               \r",
      "\r",
      " 49% (548 of 1101) |##########            | Elapsed Time: 0:12:51 ETA:  0:15:19"
     ]
    },
    {
     "name": "stdout",
     "output_type": "stream",
     "text": [
      "connected mappoints  69\n",
      "8315 \n",
      " [[ 0.99949436 -0.00454343 -0.03147045  0.00464513]\n",
      " [ 0.00459075  0.99998844  0.00143133  0.01276236]\n",
      " [ 0.03146358 -0.00157508  0.99950366 -0.8666791 ]\n",
      " [ 0.          0.          0.          1.        ]]\n"
     ]
    },
    {
     "name": "stderr",
     "output_type": "stream",
     "text": [
      "\r",
      "                                                                               \r",
      "\r",
      " 49% (549 of 1101) |##########            | Elapsed Time: 0:12:53 ETA:  0:14:59"
     ]
    },
    {
     "name": "stdout",
     "output_type": "stream",
     "text": [
      "connected mappoints  82\n",
      "8316 \n",
      " [[  9.99592651e-01  -1.65222346e-03  -2.84921271e-02  -5.64370555e-03]\n",
      " [  1.67885112e-03   9.99998176e-01   9.10665363e-04   1.75254794e-02]\n",
      " [  2.84905705e-02  -9.58128444e-04   9.99593602e-01  -8.80179154e-01]\n",
      " [  0.00000000e+00   0.00000000e+00   0.00000000e+00   1.00000000e+00]]\n"
     ]
    },
    {
     "name": "stderr",
     "output_type": "stream",
     "text": [
      "\r",
      "                                                                               \r",
      "\r",
      " 49% (550 of 1101) |##########            | Elapsed Time: 0:12:54 ETA:  0:14:51"
     ]
    },
    {
     "name": "stdout",
     "output_type": "stream",
     "text": [
      "connected mappoints  80\n",
      "8317 \n",
      " [[ 0.99967154  0.00149081 -0.02558509  0.00555733]\n",
      " [-0.00143675  0.9999967   0.00213114  0.01934335]\n",
      " [ 0.02558818 -0.00209368  0.99967038 -0.86635785]\n",
      " [ 0.          0.          0.          1.        ]]\n"
     ]
    },
    {
     "name": "stderr",
     "output_type": "stream",
     "text": [
      "\r",
      "                                                                               \r",
      "\r",
      " 50% (551 of 1101) |###########           | Elapsed Time: 0:12:56 ETA:  0:14:29"
     ]
    },
    {
     "name": "stdout",
     "output_type": "stream",
     "text": [
      "connected mappoints  79\n",
      "8318 \n",
      " [[ 0.99975982  0.00391672 -0.02156307  0.00334855]\n",
      " [-0.00386026  0.99998901  0.00265925  0.01303276]\n",
      " [ 0.02157325 -0.00257537  0.99976395 -0.86525002]\n",
      " [ 0.          0.          0.          1.        ]]\n"
     ]
    },
    {
     "name": "stderr",
     "output_type": "stream",
     "text": [
      "\r",
      "                                                                               \r",
      "\r",
      " 50% (552 of 1101) |###########           | Elapsed Time: 0:12:58 ETA:  0:14:17"
     ]
    },
    {
     "name": "stdout",
     "output_type": "stream",
     "text": [
      "connected mappoints  78\n",
      "8319 \n",
      " [[  9.99817991e-01  -1.31866949e-03  -1.90327584e-02  -2.53069285e-03]\n",
      " [  1.30187337e-03   9.99998752e-01  -8.94848435e-04   1.07201311e-02]\n",
      " [  1.90339147e-02   8.69907324e-04   9.99818460e-01  -8.89090704e-01]\n",
      " [  0.00000000e+00   0.00000000e+00   0.00000000e+00   1.00000000e+00]]\n"
     ]
    },
    {
     "name": "stderr",
     "output_type": "stream",
     "text": [
      "\r",
      "                                                                               \r",
      "\r",
      " 50% (553 of 1101) |###########           | Elapsed Time: 0:12:59 ETA:  0:13:56"
     ]
    },
    {
     "name": "stdout",
     "output_type": "stream",
     "text": [
      "connected mappoints  72\n",
      "8320 \n",
      " [[  9.99818163e-01  -2.27790418e-03  -1.89328139e-02   2.56500660e-04]\n",
      " [  2.17213048e-03   9.99981930e-01  -5.60548005e-03   3.93202221e-02]\n",
      " [  1.89452405e-02   5.56333623e-03   9.99805045e-01  -8.77299818e-01]\n",
      " [  0.00000000e+00   0.00000000e+00   0.00000000e+00   1.00000000e+00]]\n"
     ]
    },
    {
     "name": "stderr",
     "output_type": "stream",
     "text": [
      "\r",
      "                                                                               \r",
      "\r",
      " 50% (554 of 1101) |###########           | Elapsed Time: 0:13:00 ETA:  0:13:45"
     ]
    },
    {
     "name": "stdout",
     "output_type": "stream",
     "text": [
      "connected mappoints  74\n",
      "8321 \n",
      " [[  9.99825947e-01  -5.84515617e-05  -1.86567107e-02   9.39180754e-03]\n",
      " [  2.41146801e-05   9.99998306e-01  -1.84067708e-03   1.92043803e-02]\n",
      " [  1.86567867e-02   1.83990681e-03   9.99824254e-01  -9.03581668e-01]\n",
      " [  0.00000000e+00   0.00000000e+00   0.00000000e+00   1.00000000e+00]]\n"
     ]
    },
    {
     "name": "stderr",
     "output_type": "stream",
     "text": [
      "\r",
      "                                                                               \r",
      "\r",
      " 50% (555 of 1101) |###########           | Elapsed Time: 0:13:02 ETA:  0:13:36"
     ]
    },
    {
     "name": "stdout",
     "output_type": "stream",
     "text": [
      "connected mappoints  77\n",
      "8322 \n",
      " [[  9.99848095e-01   2.18665887e-04  -1.74281291e-02   1.21666741e-03]\n",
      " [ -2.03472038e-04   9.99999598e-01   8.73568772e-04   1.87156635e-02]\n",
      " [  1.74283131e-02  -8.69889936e-04   9.99847737e-01  -9.10625779e-01]\n",
      " [  0.00000000e+00   0.00000000e+00   0.00000000e+00   1.00000000e+00]]\n"
     ]
    },
    {
     "name": "stderr",
     "output_type": "stream",
     "text": [
      "\r",
      "                                                                               \r",
      "\r",
      " 50% (556 of 1101) |###########           | Elapsed Time: 0:13:03 ETA:  0:13:20"
     ]
    },
    {
     "name": "stdout",
     "output_type": "stream",
     "text": [
      "connected mappoints  70\n",
      "8323 \n",
      " [[  9.99868641e-01  -9.67642323e-04  -1.61791307e-02   9.18735000e-03]\n",
      " [  1.04593737e-03   9.99987781e-01   4.83150020e-03   8.93418319e-03]\n",
      " [  1.61742578e-02  -4.84778790e-03   9.99857436e-01  -9.09936132e-01]\n",
      " [  0.00000000e+00   0.00000000e+00   0.00000000e+00   1.00000000e+00]]\n"
     ]
    },
    {
     "name": "stderr",
     "output_type": "stream",
     "text": [
      "\r",
      "                                                                               \r",
      "\r",
      " 50% (557 of 1101) |###########           | Elapsed Time: 0:13:04 ETA:  0:13:04"
     ]
    },
    {
     "name": "stdout",
     "output_type": "stream",
     "text": [
      "connected mappoints  77\n",
      "8324 \n",
      " [[ 0.99989557  0.00306623 -0.01412238  0.01064759]\n",
      " [-0.00301701  0.9999893   0.00350572  0.00839387]\n",
      " [ 0.01413298 -0.00346274  0.99989413 -0.91824404]\n",
      " [ 0.          0.          0.          1.        ]]\n"
     ]
    },
    {
     "name": "stderr",
     "output_type": "stream",
     "text": [
      "\r",
      "                                                                               \r",
      "\r",
      " 50% (558 of 1101) |###########           | Elapsed Time: 0:13:06 ETA:  0:12:54"
     ]
    },
    {
     "name": "stdout",
     "output_type": "stream",
     "text": [
      "connected mappoints  85\n",
      "8325 \n",
      " [[  9.99927332e-01   6.48405674e-03  -1.01630164e-02   5.88045490e-04]\n",
      " [ -6.51523086e-03   9.99974163e-01  -3.03730671e-03   1.20541328e-02]\n",
      " [  1.01430598e-02   3.10330040e-03   9.99943742e-01  -9.34672489e-01]\n",
      " [  0.00000000e+00   0.00000000e+00   0.00000000e+00   1.00000000e+00]]\n"
     ]
    },
    {
     "name": "stderr",
     "output_type": "stream",
     "text": [
      "\r",
      "                                                                               \r",
      "\r",
      " 50% (559 of 1101) |###########           | Elapsed Time: 0:13:07 ETA:  0:12:29"
     ]
    },
    {
     "name": "stdout",
     "output_type": "stream",
     "text": [
      "connected mappoints  86\n",
      "8326 \n",
      " [[ 0.99995673  0.00581916 -0.00725836  0.00198168]\n",
      " [-0.00588413  0.99994254 -0.00896113  0.01871687]\n",
      " [ 0.00720579  0.00900345  0.99993351 -0.95694333]\n",
      " [ 0.          0.          0.          1.        ]]\n"
     ]
    },
    {
     "name": "stderr",
     "output_type": "stream",
     "text": [
      "\r",
      "                                                                               \r",
      "\r",
      " 50% (560 of 1101) |###########           | Elapsed Time: 0:13:08 ETA:  0:12:02"
     ]
    },
    {
     "name": "stdout",
     "output_type": "stream",
     "text": [
      "connected mappoints  90\n",
      "8327 \n",
      " [[ 0.99998734  0.00360696 -0.0035094   0.00259324]\n",
      " [-0.00363642  0.99995789 -0.00842539  0.01758716]\n",
      " [ 0.00347886  0.00843805  0.99995835 -0.96163058]\n",
      " [ 0.          0.          0.          1.        ]]\n"
     ]
    },
    {
     "name": "stderr",
     "output_type": "stream",
     "text": [
      "\r",
      "                                                                               \r",
      "\r",
      " 50% (561 of 1101) |###########           | Elapsed Time: 0:13:09 ETA:  0:11:35"
     ]
    },
    {
     "name": "stdout",
     "output_type": "stream",
     "text": [
      "connected mappoints  77\n",
      "8328 \n",
      " [[  9.99998076e-01  -1.37365504e-03  -1.40068140e-03   1.13061721e-02]\n",
      " [  1.37340838e-03   9.99999041e-01  -1.77048346e-04   1.91444168e-02]\n",
      " [  1.40092326e-03   1.75124298e-04   9.99999003e-01  -9.57899821e-01]\n",
      " [  0.00000000e+00   0.00000000e+00   0.00000000e+00   1.00000000e+00]]\n"
     ]
    },
    {
     "name": "stderr",
     "output_type": "stream",
     "text": [
      "\r",
      "                                                                               \r",
      "\r",
      " 51% (562 of 1101) |###########           | Elapsed Time: 0:13:10 ETA:  0:10:57"
     ]
    },
    {
     "name": "stdout",
     "output_type": "stream",
     "text": [
      "connected mappoints  77\n",
      "8329 \n",
      " [[  9.99993698e-01  -3.45285306e-03  -8.25570749e-04   1.52536674e-02]\n",
      " [  3.45509091e-03   9.99990319e-01   2.72478117e-03   1.42686652e-02]\n",
      " [  8.16154488e-04  -2.72761642e-03   9.99995947e-01  -9.68898080e-01]\n",
      " [  0.00000000e+00   0.00000000e+00   0.00000000e+00   1.00000000e+00]]\n"
     ]
    },
    {
     "name": "stderr",
     "output_type": "stream",
     "text": [
      "\r",
      "                                                                               \r",
      "\r",
      " 51% (563 of 1101) |###########           | Elapsed Time: 0:13:11 ETA:  0:10:34"
     ]
    },
    {
     "name": "stdout",
     "output_type": "stream",
     "text": [
      "connected mappoints  79\n",
      "8330 \n",
      " [[  9.99984311e-01  -5.52091520e-03  -9.47678971e-04   2.18015947e-02]\n",
      " [  5.52517545e-03   9.99974370e-01   4.55329421e-03   1.11133189e-02]\n",
      " [  9.22516330e-04  -4.55845887e-03   9.99989185e-01  -9.82034871e-01]\n",
      " [  0.00000000e+00   0.00000000e+00   0.00000000e+00   1.00000000e+00]]\n"
     ]
    },
    {
     "name": "stderr",
     "output_type": "stream",
     "text": [
      "\r",
      "                                                                               \r",
      "\r",
      " 51% (564 of 1101) |###########           | Elapsed Time: 0:13:12 ETA:  0:10:10"
     ]
    },
    {
     "name": "stdout",
     "output_type": "stream",
     "text": [
      "connected mappoints  73\n",
      "8331 \n",
      " [[ 0.99996325 -0.00850965 -0.00104175  0.04061773]\n",
      " [ 0.008512    0.99996119  0.00227165  0.0090547 ]\n",
      " [ 0.00102238 -0.00228044  0.99999688 -0.98967949]\n",
      " [ 0.          0.          0.          1.        ]]\n"
     ]
    },
    {
     "name": "stderr",
     "output_type": "stream",
     "text": [
      "\r",
      "                                                                               \r",
      "\r",
      " 51% (565 of 1101) |###########           | Elapsed Time: 0:13:13 ETA:  0:09:58"
     ]
    },
    {
     "name": "stdout",
     "output_type": "stream",
     "text": [
      "connected mappoints  83\n",
      "8332 \n",
      " [[  9.99986848e-01  -5.08821757e-03  -6.42894064e-04   3.05450541e-02]\n",
      " [  5.08830687e-03   9.99987045e-01   1.37350529e-04   9.56180528e-03]\n",
      " [  6.42186866e-04  -1.40619965e-04   9.99999784e-01  -1.00475395e+00]\n",
      " [  0.00000000e+00   0.00000000e+00   0.00000000e+00   1.00000000e+00]]\n"
     ]
    },
    {
     "name": "stderr",
     "output_type": "stream",
     "text": [
      "\r",
      "                                                                               \r",
      "\r",
      " 51% (566 of 1101) |###########           | Elapsed Time: 0:13:14 ETA:  0:09:50"
     ]
    },
    {
     "name": "stdout",
     "output_type": "stream",
     "text": [
      "connected mappoints  74\n",
      "8333 \n",
      " [[  9.99997636e-01  -2.06731032e-03   6.74281428e-04   1.54235990e-02]\n",
      " [  2.06875629e-03   9.99995547e-01  -2.15085557e-03   1.47440501e-02]\n",
      " [ -6.69831939e-04   2.15224541e-03   9.99997460e-01  -1.03017445e+00]\n",
      " [  0.00000000e+00   0.00000000e+00   0.00000000e+00   1.00000000e+00]]\n"
     ]
    },
    {
     "name": "stderr",
     "output_type": "stream",
     "text": [
      "\r",
      "                                                                               \r",
      "\r",
      " 51% (567 of 1101) |###########           | Elapsed Time: 0:13:15 ETA:  0:09:39"
     ]
    },
    {
     "name": "stdout",
     "output_type": "stream",
     "text": [
      "connected mappoints  69\n",
      "8334 \n",
      " [[  9.99997404e-01  -2.18747798e-03   6.37825735e-04   1.25707285e-02]\n",
      " [  2.18848434e-03   9.99996355e-01  -1.58139938e-03   1.61843570e-02]\n",
      " [ -6.34364134e-04   1.58279115e-03   9.99998546e-01  -1.02938507e+00]\n",
      " [  0.00000000e+00   0.00000000e+00   0.00000000e+00   1.00000000e+00]]\n"
     ]
    },
    {
     "name": "stderr",
     "output_type": "stream",
     "text": [
      "\r",
      "                                                                               \r",
      "\r",
      " 51% (568 of 1101) |###########           | Elapsed Time: 0:13:16 ETA:  0:09:23"
     ]
    },
    {
     "name": "stdout",
     "output_type": "stream",
     "text": [
      "connected mappoints  64\n",
      "8335 \n",
      " [[  9.99999577e-01  -2.63908913e-04   8.80794849e-04   1.66284749e-02]\n",
      " [  2.64390226e-04   9.99999816e-01  -5.46381610e-04   1.77620665e-02]\n",
      " [ -8.80650491e-04   5.46614252e-04   9.99999463e-01  -1.04936852e+00]\n",
      " [  0.00000000e+00   0.00000000e+00   0.00000000e+00   1.00000000e+00]]\n"
     ]
    },
    {
     "name": "stderr",
     "output_type": "stream",
     "text": [
      "\r",
      "                                                                               \r",
      "\r",
      " 51% (569 of 1101) |###########           | Elapsed Time: 0:13:17 ETA:  0:09:14"
     ]
    },
    {
     "name": "stdout",
     "output_type": "stream",
     "text": [
      "connected mappoints  59\n",
      "8336 \n",
      " [[ 0.99999773 -0.00178286  0.0011651   0.0194812 ]\n",
      " [ 0.00178151  0.99999774  0.00116151  0.01324325]\n",
      " [-0.00116717 -0.00115943  0.99999865 -1.04216443]\n",
      " [ 0.          0.          0.          1.        ]]\n"
     ]
    },
    {
     "name": "stderr",
     "output_type": "stream",
     "text": [
      "\r",
      "                                                                               \r",
      "\r",
      " 51% (570 of 1101) |###########           | Elapsed Time: 0:13:18 ETA:  0:09:08"
     ]
    },
    {
     "name": "stdout",
     "output_type": "stream",
     "text": [
      "connected mappoints  62\n",
      "8337 \n",
      " [[  9.99998593e-01  -1.40456374e-03   9.17266132e-04   9.93120889e-03]\n",
      " [  1.40296389e-03   9.99997498e-01   1.74246977e-03   1.54269279e-02]\n",
      " [ -9.19711247e-04  -1.74118043e-03   9.99998061e-01  -1.07255037e+00]\n",
      " [  0.00000000e+00   0.00000000e+00   0.00000000e+00   1.00000000e+00]]\n"
     ]
    },
    {
     "name": "stderr",
     "output_type": "stream",
     "text": [
      "\r",
      "                                                                               \r",
      "\r",
      " 51% (571 of 1101) |###########           | Elapsed Time: 0:13:19 ETA:  0:09:03"
     ]
    },
    {
     "name": "stdout",
     "output_type": "stream",
     "text": [
      "connected mappoints  64\n",
      "8338 \n",
      " [[  9.99997372e-01  -2.24144653e-03   4.81274134e-04   1.87817303e-02]\n",
      " [  2.24042144e-03   9.99995243e-01   2.12003180e-03   1.74925427e-02]\n",
      " [ -4.86023783e-04  -2.11894797e-03   9.99997637e-01  -1.05465672e+00]\n",
      " [  0.00000000e+00   0.00000000e+00   0.00000000e+00   1.00000000e+00]]\n"
     ]
    },
    {
     "name": "stderr",
     "output_type": "stream",
     "text": [
      "\r",
      "                                                                               \r",
      "\r",
      " 51% (572 of 1101) |###########           | Elapsed Time: 0:13:20 ETA:  0:08:58"
     ]
    },
    {
     "name": "stdout",
     "output_type": "stream",
     "text": [
      "connected mappoints  77\n",
      "8339 \n",
      " [[  9.99995764e-01  -2.89659345e-03  -2.86842950e-04   2.07482835e-02]\n",
      " [  2.89682576e-03   9.99995474e-01   8.12789419e-04   1.75313827e-02]\n",
      " [  2.84487331e-04  -8.13616910e-04   9.99999629e-01  -1.04912546e+00]\n",
      " [  0.00000000e+00   0.00000000e+00   0.00000000e+00   1.00000000e+00]]\n"
     ]
    },
    {
     "name": "stderr",
     "output_type": "stream",
     "text": [
      "\r",
      "                                                                               \r",
      "\r",
      " 52% (573 of 1101) |###########           | Elapsed Time: 0:13:21 ETA:  0:08:50"
     ]
    },
    {
     "name": "stdout",
     "output_type": "stream",
     "text": [
      "connected mappoints  64\n",
      "8340 \n",
      " [[  9.99997235e-01  -1.67600250e-03  -1.64950561e-03   1.92614519e-02]\n",
      " [  1.67628180e-03   9.99998581e-01   1.67956954e-04   1.32248615e-02]\n",
      " [  1.64922177e-03  -1.70721526e-04   9.99998625e-01  -1.07361848e+00]\n",
      " [  0.00000000e+00   0.00000000e+00   0.00000000e+00   1.00000000e+00]]\n"
     ]
    },
    {
     "name": "stderr",
     "output_type": "stream",
     "text": [
      "\r",
      "                                                                               \r",
      "\r",
      " 52% (574 of 1101) |###########           | Elapsed Time: 0:13:22 ETA:  0:08:49"
     ]
    },
    {
     "name": "stdout",
     "output_type": "stream",
     "text": [
      "connected mappoints  62\n",
      "8341 \n",
      " [[  9.99998458e-01  -9.26349834e-04  -1.49218104e-03   1.55973036e-02]\n",
      " [  9.25150246e-04   9.99999249e-01  -8.04406019e-04   2.19869727e-02]\n",
      " [  1.49292508e-03   8.03024287e-04   9.99998563e-01  -1.06544612e+00]\n",
      " [  0.00000000e+00   0.00000000e+00   0.00000000e+00   1.00000000e+00]]\n"
     ]
    },
    {
     "name": "stderr",
     "output_type": "stream",
     "text": [
      "\r",
      "                                                                               \r",
      "\r",
      " 52% (575 of 1101) |###########           | Elapsed Time: 0:13:23 ETA:  0:08:42"
     ]
    },
    {
     "name": "stdout",
     "output_type": "stream",
     "text": [
      "connected mappoints  57\n",
      "8342 \n",
      " [[  9.99998853e-01   2.41106344e-04  -1.49555063e-03   1.55328339e-02]\n",
      " [ -2.41556564e-04   9.99999926e-01  -3.00865950e-04   2.23463998e-02]\n",
      " [  1.49547797e-03   3.01226865e-04   9.99998836e-01  -1.07318230e+00]\n",
      " [  0.00000000e+00   0.00000000e+00   0.00000000e+00   1.00000000e+00]]\n"
     ]
    },
    {
     "name": "stderr",
     "output_type": "stream",
     "text": [
      "\r",
      "                                                                               \r",
      "\r",
      " 52% (576 of 1101) |###########           | Elapsed Time: 0:13:24 ETA:  0:08:47"
     ]
    },
    {
     "name": "stdout",
     "output_type": "stream",
     "text": [
      "connected mappoints  56\n",
      "8343 \n",
      " [[  9.99998831e-01  -1.02049908e-03  -1.13872471e-03   2.14417829e-02]\n",
      " [  1.02072837e-03   9.99999459e-01   2.00786632e-04   1.62959280e-02]\n",
      " [  1.13851919e-03  -2.01948726e-04   9.99999331e-01  -1.05077895e+00]\n",
      " [  0.00000000e+00   0.00000000e+00   0.00000000e+00   1.00000000e+00]]\n"
     ]
    },
    {
     "name": "stderr",
     "output_type": "stream",
     "text": [
      "\r",
      "                                                                               \r",
      "\r",
      " 52% (577 of 1101) |###########           | Elapsed Time: 0:13:25 ETA:  0:08:51"
     ]
    },
    {
     "name": "stdout",
     "output_type": "stream",
     "text": [
      "connected mappoints  39\n",
      "8344 \n",
      " [[  9.99999043e-01   5.23692535e-04  -1.28058269e-03   1.54693522e-02]\n",
      " [ -5.25491555e-04   9.99998875e-01  -1.40491182e-03   1.51824063e-02]\n",
      " [  1.27984550e-03   1.40558341e-03   9.99998193e-01  -1.07045608e+00]\n",
      " [  0.00000000e+00   0.00000000e+00   0.00000000e+00   1.00000000e+00]]\n"
     ]
    },
    {
     "name": "stderr",
     "output_type": "stream",
     "text": [
      "\r",
      "                                                                               \r",
      "\r",
      " 52% (578 of 1101) |###########           | Elapsed Time: 0:13:26 ETA:  0:08:55"
     ]
    },
    {
     "name": "stdout",
     "output_type": "stream",
     "text": [
      "connected mappoints  46\n",
      "8345 \n",
      " [[  9.99999597e-01  -4.90238759e-04  -7.52518220e-04   1.11355603e-02]\n",
      " [  4.88690807e-04   9.99997767e-01  -2.05583575e-03   2.18508646e-02]\n",
      " [  7.53524391e-04   2.05546717e-03   9.99997604e-01  -1.08372711e+00]\n",
      " [  0.00000000e+00   0.00000000e+00   0.00000000e+00   1.00000000e+00]]\n"
     ]
    },
    {
     "name": "stderr",
     "output_type": "stream",
     "text": [
      "\r",
      "                                                                               \r",
      "\r",
      " 52% (579 of 1101) |###########           | Elapsed Time: 0:13:27 ETA:  0:08:59"
     ]
    },
    {
     "name": "stdout",
     "output_type": "stream",
     "text": [
      "connected mappoints  54\n",
      "8346 \n",
      " [[ 0.99999848 -0.00113983 -0.00131949  0.02517386]\n",
      " [ 0.00113783  0.99999819 -0.00152206  0.0223553 ]\n",
      " [ 0.00132122  0.00152055  0.99999797 -1.0603901 ]\n",
      " [ 0.          0.          0.          1.        ]]\n"
     ]
    },
    {
     "name": "stderr",
     "output_type": "stream",
     "text": [
      "\r",
      "                                                                               \r",
      "\r",
      " 52% (580 of 1101) |###########           | Elapsed Time: 0:13:28 ETA:  0:08:58"
     ]
    },
    {
     "name": "stdout",
     "output_type": "stream",
     "text": [
      "connected mappoints  66\n",
      "8347 \n",
      " [[  9.99999579e-01   8.93601308e-05  -9.13576215e-04   2.03768496e-02]\n",
      " [ -8.82796129e-05   9.99999297e-01   1.18270621e-03   3.52226224e-02]\n",
      " [  9.13681259e-04  -1.18262507e-03   9.99998883e-01  -1.03436721e+00]\n",
      " [  0.00000000e+00   0.00000000e+00   0.00000000e+00   1.00000000e+00]]\n"
     ]
    },
    {
     "name": "stderr",
     "output_type": "stream",
     "text": [
      "\r",
      "                                                                               \r",
      "\r",
      " 52% (581 of 1101) |###########           | Elapsed Time: 0:13:30 ETA:  0:09:09"
     ]
    },
    {
     "name": "stdout",
     "output_type": "stream",
     "text": [
      "connected mappoints  62\n",
      "8348 \n",
      " [[  9.99999590e-01  -1.80430199e-04  -8.87769556e-04   1.24655279e-02]\n",
      " [  1.82685624e-04   9.99996755e-01   2.54112674e-03   2.08441169e-02]\n",
      " [  8.87308179e-04  -2.54128788e-03   9.99996377e-01  -1.06864818e+00]\n",
      " [  0.00000000e+00   0.00000000e+00   0.00000000e+00   1.00000000e+00]]\n"
     ]
    },
    {
     "name": "stderr",
     "output_type": "stream",
     "text": [
      "\r",
      "                                                                               \r",
      "\r",
      " 52% (582 of 1101) |###########           | Elapsed Time: 0:13:31 ETA:  0:09:28"
     ]
    },
    {
     "name": "stdout",
     "output_type": "stream",
     "text": [
      "connected mappoints  76\n",
      "8349 \n",
      " [[  9.99999605e-01  -2.92044601e-04  -8.40040428e-04   2.13161538e-02]\n",
      " [  2.93183613e-04   9.99999038e-01   1.35609841e-03   2.34867017e-02]\n",
      " [  8.39643578e-04  -1.35634416e-03   9.99998728e-01  -1.03508597e+00]\n",
      " [  0.00000000e+00   0.00000000e+00   0.00000000e+00   1.00000000e+00]]\n"
     ]
    },
    {
     "name": "stderr",
     "output_type": "stream",
     "text": [
      "\r",
      "                                                                               \r",
      "\r",
      " 52% (583 of 1101) |###########           | Elapsed Time: 0:13:32 ETA:  0:09:50"
     ]
    },
    {
     "name": "stdout",
     "output_type": "stream",
     "text": [
      "connected mappoints  90\n",
      "8350 \n",
      " [[  9.99998202e-01  -1.31663533e-03  -1.36504094e-03   1.95250713e-02]\n",
      " [  1.31635046e-03   9.99999112e-01  -2.09567362e-04   2.02487516e-02]\n",
      " [  1.36531565e-03   2.07770113e-04   9.99999046e-01  -1.07140070e+00]\n",
      " [  0.00000000e+00   0.00000000e+00   0.00000000e+00   1.00000000e+00]]\n"
     ]
    },
    {
     "name": "stderr",
     "output_type": "stream",
     "text": [
      "\r",
      "                                                                               \r",
      "\r",
      " 53% (584 of 1101) |###########           | Elapsed Time: 0:13:34 ETA:  0:10:08"
     ]
    },
    {
     "name": "stdout",
     "output_type": "stream",
     "text": [
      "connected mappoints  74\n",
      "8351 \n",
      " [[  9.99998460e-01  -4.90433174e-04  -1.68511297e-03   1.10467759e-02]\n",
      " [  4.88759199e-04   9.99999387e-01  -9.93658309e-04   2.53997929e-02]\n",
      " [  1.68559926e-03   9.92833165e-04   9.99998087e-01  -1.06913177e+00]\n",
      " [  0.00000000e+00   0.00000000e+00   0.00000000e+00   1.00000000e+00]]\n"
     ]
    },
    {
     "name": "stderr",
     "output_type": "stream",
     "text": [
      "\r",
      "                                                                               \r",
      "\r",
      " 53% (585 of 1101) |###########           | Elapsed Time: 0:13:35 ETA:  0:10:22"
     ]
    },
    {
     "name": "stdout",
     "output_type": "stream",
     "text": [
      "connected mappoints  64\n",
      "8352 \n",
      " [[  9.99997045e-01  -8.06380288e-04  -2.29347672e-03   1.14913227e-02]\n",
      " [  8.02384777e-04   9.99998160e-01  -1.74250666e-03   2.63948470e-02]\n",
      " [  2.29487763e-03   1.74066126e-03   9.99995852e-01  -1.05661085e+00]\n",
      " [  0.00000000e+00   0.00000000e+00   0.00000000e+00   1.00000000e+00]]\n"
     ]
    },
    {
     "name": "stderr",
     "output_type": "stream",
     "text": [
      "\r",
      "                                                                               \r",
      "\r",
      " 53% (586 of 1101) |###########           | Elapsed Time: 0:13:36 ETA:  0:10:33"
     ]
    },
    {
     "name": "stdout",
     "output_type": "stream",
     "text": [
      "connected mappoints  45\n",
      "8353 \n",
      " [[  9.99996195e-01   3.82871989e-04  -2.73202531e-03   8.56416891e-03]\n",
      " [ -3.82615913e-04   9.99999922e-01   9.42531868e-05   2.93232559e-02]\n",
      " [  2.73206119e-03  -9.32075118e-05   9.99996264e-01  -1.06041042e+00]\n",
      " [  0.00000000e+00   0.00000000e+00   0.00000000e+00   1.00000000e+00]]\n"
     ]
    },
    {
     "name": "stderr",
     "output_type": "stream",
     "text": [
      "\r",
      "                                                                               \r",
      "\r",
      " 53% (587 of 1101) |###########           | Elapsed Time: 0:13:38 ETA:  0:10:46"
     ]
    },
    {
     "name": "stdout",
     "output_type": "stream",
     "text": [
      "connected mappoints  48\n",
      "8354 \n",
      " [[  9.99992899e-01  -1.60057559e-03  -3.41163151e-03   3.07378364e-02]\n",
      " [  1.60365604e-03   9.99998309e-01   9.00381613e-04   2.13933615e-02]\n",
      " [  3.41018462e-03  -9.05846303e-04   9.99993775e-01  -1.02401877e+00]\n",
      " [  0.00000000e+00   0.00000000e+00   0.00000000e+00   1.00000000e+00]]\n"
     ]
    },
    {
     "name": "stderr",
     "output_type": "stream",
     "text": [
      "\r",
      "                                                                               \r",
      "\r",
      " 53% (588 of 1101) |###########           | Elapsed Time: 0:13:39 ETA:  0:10:44"
     ]
    },
    {
     "name": "stdout",
     "output_type": "stream",
     "text": [
      "connected mappoints  45\n",
      "8355 \n",
      " [[  9.99993404e-01  -1.81038935e-03  -3.14872402e-03   1.97346734e-02]\n",
      " [  1.81356029e-03   9.99997851e-01   1.00449400e-03   1.69118846e-02]\n",
      " [  3.14689873e-03  -1.01019777e-03   9.99994538e-01  -1.03082384e+00]\n",
      " [  0.00000000e+00   0.00000000e+00   0.00000000e+00   1.00000000e+00]]\n"
     ]
    },
    {
     "name": "stderr",
     "output_type": "stream",
     "text": [
      "\r",
      "                                                                               \r",
      "\r",
      " 53% (589 of 1101) |###########           | Elapsed Time: 0:13:40 ETA:  0:10:43"
     ]
    },
    {
     "name": "stdout",
     "output_type": "stream",
     "text": [
      "connected mappoints  43\n",
      "8356 \n",
      " [[  9.99995462e-01  -2.95961968e-04  -2.99807783e-03   1.14611022e-02]\n",
      " [  2.92507511e-04   9.99999293e-01  -1.15259695e-03   1.97563379e-02]\n",
      " [  2.99841684e-03   1.15171476e-03   9.99994842e-01  -1.04078846e+00]\n",
      " [  0.00000000e+00   0.00000000e+00   0.00000000e+00   1.00000000e+00]]\n"
     ]
    },
    {
     "name": "stderr",
     "output_type": "stream",
     "text": [
      "\r",
      "                                                                               \r",
      "\r",
      " 53% (590 of 1101) |###########           | Elapsed Time: 0:13:41 ETA:  0:10:52"
     ]
    },
    {
     "name": "stdout",
     "output_type": "stream",
     "text": [
      "connected mappoints  48\n",
      "8357 \n",
      " [[  9.99995912e-01  -5.46315924e-04  -2.80685733e-03   1.09918654e-02]\n",
      " [  5.42514007e-04   9.99998935e-01  -1.35509332e-03   2.38630077e-02]\n",
      " [  2.80759465e-03   1.35356502e-03   9.99995143e-01  -1.02901586e+00]\n",
      " [  0.00000000e+00   0.00000000e+00   0.00000000e+00   1.00000000e+00]]\n"
     ]
    },
    {
     "name": "stderr",
     "output_type": "stream",
     "text": [
      "\r",
      "                                                                               \r",
      "\r",
      " 53% (591 of 1101) |###########           | Elapsed Time: 0:13:42 ETA:  0:10:55"
     ]
    },
    {
     "name": "stdout",
     "output_type": "stream",
     "text": [
      "connected mappoints  51\n",
      "8358 \n",
      " [[ 0.99999103  0.00382989 -0.00180644  0.03953311]\n",
      " [-0.0038337   0.99999043 -0.00210984  0.05382005]\n",
      " [ 0.00179834  0.00211674  0.99999614 -0.93323598]\n",
      " [ 0.          0.          0.          1.        ]]\n"
     ]
    },
    {
     "name": "stderr",
     "output_type": "stream",
     "text": [
      "\r",
      "                                                                               \r",
      "\r",
      " 53% (592 of 1101) |###########           | Elapsed Time: 0:13:44 ETA:  0:11:13"
     ]
    },
    {
     "name": "stdout",
     "output_type": "stream",
     "text": [
      "connected mappoints  59\n",
      "8359 \n",
      " [[  9.99996882e-01   3.48962891e-04  -2.47279669e-03   1.63426096e-02]\n",
      " [ -3.49246484e-04   9.99999932e-01  -1.14253957e-04   2.31264483e-02]\n",
      " [  2.47275665e-03   1.15117216e-04   9.99996936e-01  -1.04002917e+00]\n",
      " [  0.00000000e+00   0.00000000e+00   0.00000000e+00   1.00000000e+00]]\n"
     ]
    },
    {
     "name": "stderr",
     "output_type": "stream",
     "text": [
      "\r",
      "                                                                               \r",
      "\r",
      " 53% (593 of 1101) |###########           | Elapsed Time: 0:13:46 ETA:  0:11:41"
     ]
    },
    {
     "name": "stdout",
     "output_type": "stream",
     "text": [
      "connected mappoints  63\n",
      "8360 \n",
      " [[  9.99997933e-01   1.64920087e-04  -2.02674365e-03   4.40231022e-03]\n",
      " [ -1.63404027e-04   9.99999707e-01   7.48170577e-04   2.04098099e-02]\n",
      " [  2.02686644e-03  -7.47837853e-04   9.99997666e-01  -1.01784760e+00]\n",
      " [  0.00000000e+00   0.00000000e+00   0.00000000e+00   1.00000000e+00]]\n"
     ]
    },
    {
     "name": "stderr",
     "output_type": "stream",
     "text": [
      "\r",
      "                                                                               \r",
      "\r",
      " 53% (594 of 1101) |###########           | Elapsed Time: 0:13:48 ETA:  0:12:07"
     ]
    },
    {
     "name": "stdout",
     "output_type": "stream",
     "text": [
      "connected mappoints  56\n",
      "8361 \n",
      " [[  9.99998075e-01   7.46768937e-04  -1.81431911e-03   1.55844480e-02]\n",
      " [ -7.44927322e-04   9.99999207e-01   1.01550900e-03   1.99116998e-02]\n",
      " [  1.81507602e-03  -1.01415551e-03   9.99997838e-01  -1.03338285e+00]\n",
      " [  0.00000000e+00   0.00000000e+00   0.00000000e+00   1.00000000e+00]]\n"
     ]
    },
    {
     "name": "stderr",
     "output_type": "stream",
     "text": [
      "\r",
      "                                                                               \r",
      "\r",
      " 54% (595 of 1101) |###########           | Elapsed Time: 0:13:50 ETA:  0:12:36"
     ]
    },
    {
     "name": "stdout",
     "output_type": "stream",
     "text": [
      "connected mappoints  93\n",
      "8362 \n",
      " [[  9.99998273e-01  -9.55399596e-04  -1.59403703e-03   1.81397387e-02]\n",
      " [  9.55803673e-04   9.99999511e-01   2.52750592e-04   1.83639920e-02]\n",
      " [  1.59379477e-03  -2.54273742e-04   9.99998698e-01  -1.03569450e+00]\n",
      " [  0.00000000e+00   0.00000000e+00   0.00000000e+00   1.00000000e+00]]\n"
     ]
    },
    {
     "name": "stderr",
     "output_type": "stream",
     "text": [
      "\r",
      "                                                                               \r",
      "\r",
      " 54% (596 of 1101) |###########           | Elapsed Time: 0:13:52 ETA:  0:13:08"
     ]
    },
    {
     "name": "stdout",
     "output_type": "stream",
     "text": [
      "connected mappoints  81\n",
      "8363 \n",
      " [[  9.99999124e-01  -7.32209378e-04  -1.10277746e-03   1.20698679e-02]\n",
      " [  7.31279017e-04   9.99999377e-01  -8.43820057e-04   2.52947982e-02]\n",
      " [  1.10339462e-03   8.43012880e-04   9.99999036e-01  -1.02628533e+00]\n",
      " [  0.00000000e+00   0.00000000e+00   0.00000000e+00   1.00000000e+00]]\n"
     ]
    },
    {
     "name": "stderr",
     "output_type": "stream",
     "text": [
      "\r",
      "                                                                               \r",
      "\r",
      " 54% (597 of 1101) |###########           | Elapsed Time: 0:13:54 ETA:  0:13:38"
     ]
    },
    {
     "name": "stdout",
     "output_type": "stream",
     "text": [
      "connected mappoints  76\n",
      "8364 \n",
      " [[  9.99999548e-01  -3.75852248e-04  -8.72940275e-04   1.58121093e-02]\n",
      " [  3.77221532e-04   9.99998698e-01   1.56895351e-03   2.41239281e-02]\n",
      " [  8.72349443e-04  -1.56928209e-03   9.99998388e-01  -1.02383886e+00]\n",
      " [  0.00000000e+00   0.00000000e+00   0.00000000e+00   1.00000000e+00]]\n"
     ]
    },
    {
     "name": "stderr",
     "output_type": "stream",
     "text": [
      "\r",
      "                                                                               \r",
      "\r",
      " 54% (598 of 1101) |###########           | Elapsed Time: 0:13:56 ETA:  0:14:26"
     ]
    },
    {
     "name": "stdout",
     "output_type": "stream",
     "text": [
      "connected mappoints  84\n",
      "8365 \n",
      " [[  9.99999701e-01  -4.67088469e-04  -6.16726455e-04   1.35873239e-02]\n",
      " [  4.69799559e-04   9.99990196e-01   4.40313444e-03   1.80715520e-02]\n",
      " [  6.14663755e-04  -4.40342286e-03   9.99990116e-01  -1.00867787e+00]\n",
      " [  0.00000000e+00   0.00000000e+00   0.00000000e+00   1.00000000e+00]]\n"
     ]
    },
    {
     "name": "stderr",
     "output_type": "stream",
     "text": [
      "\r",
      "                                                                               \r",
      "\r",
      " 54% (599 of 1101) |###########           | Elapsed Time: 0:13:58 ETA:  0:15:13"
     ]
    },
    {
     "name": "stdout",
     "output_type": "stream",
     "text": [
      "connected mappoints  68\n",
      "8366 \n",
      " [[  9.99999478e-01  -9.42114420e-04  -3.96057331e-04   2.50359278e-02]\n",
      " [  9.43229562e-04   9.99995565e-01   2.82491365e-03   1.72691298e-02]\n",
      " [  3.93394183e-04  -2.82528575e-03   9.99995931e-01  -9.84893255e-01]\n",
      " [  0.00000000e+00   0.00000000e+00   0.00000000e+00   1.00000000e+00]]\n"
     ]
    },
    {
     "name": "stderr",
     "output_type": "stream",
     "text": [
      "\r",
      "                                                                               \r",
      "\r",
      " 54% (600 of 1101) |###########           | Elapsed Time: 0:14:00 ETA:  0:15:50"
     ]
    },
    {
     "name": "stdout",
     "output_type": "stream",
     "text": [
      "connected mappoints  79\n",
      "8367 \n",
      " [[ 0.99999458 -0.00239614 -0.00225992  0.19881846]\n",
      " [ 0.00239846  0.9999966   0.00102163 -0.01873477]\n",
      " [ 0.00225746 -0.00102704  0.99999692 -0.38811261]\n",
      " [ 0.          0.          0.          1.        ]]\n"
     ]
    },
    {
     "name": "stderr",
     "output_type": "stream",
     "text": [
      "\r",
      "                                                                               \r",
      "\r",
      " 54% (601 of 1101) |############          | Elapsed Time: 0:14:02 ETA:  0:16:27"
     ]
    },
    {
     "name": "stdout",
     "output_type": "stream",
     "text": [
      "connected mappoints  96\n",
      "8368 \n",
      " [[  9.99999307e-01   9.74699073e-04   6.59983679e-04   9.52053199e-03]\n",
      " [ -9.73960700e-04   9.99998901e-01  -1.11817322e-03   1.82556412e-02]\n",
      " [ -6.61072836e-04   1.11752965e-03   9.99999157e-01  -1.00650700e+00]\n",
      " [  0.00000000e+00   0.00000000e+00   0.00000000e+00   1.00000000e+00]]\n"
     ]
    },
    {
     "name": "stderr",
     "output_type": "stream",
     "text": [
      "\r",
      "                                                                               \r",
      "\r",
      " 54% (602 of 1101) |############          | Elapsed Time: 0:14:05 ETA:  0:16:57"
     ]
    },
    {
     "name": "stdout",
     "output_type": "stream",
     "text": [
      "connected mappoints  89\n",
      "8369 \n",
      " [[  9.99998389e-01   1.65018970e-03   7.05675778e-04   1.52018644e-02]\n",
      " [ -1.64964640e-03   9.99998343e-01  -7.69791156e-04   2.17369308e-02]\n",
      " [ -7.06944910e-04   7.68625801e-04   9.99999455e-01  -1.00522810e+00]\n",
      " [  0.00000000e+00   0.00000000e+00   0.00000000e+00   1.00000000e+00]]\n"
     ]
    },
    {
     "name": "stderr",
     "output_type": "stream",
     "text": [
      "\r",
      "                                                                               \r",
      "\r",
      " 54% (603 of 1101) |############          | Elapsed Time: 0:14:07 ETA:  0:17:20"
     ]
    },
    {
     "name": "stdout",
     "output_type": "stream",
     "text": [
      "connected mappoints  100\n",
      "8370 \n",
      " [[  9.99996094e-01   2.61752306e-03   9.79913585e-04   1.36390363e-02]\n",
      " [ -2.61626964e-03   9.99995761e-01  -1.27821998e-03   3.19620018e-02]\n",
      " [ -9.83255201e-04   1.27565127e-03   9.99998703e-01  -9.93399661e-01]\n",
      " [  0.00000000e+00   0.00000000e+00   0.00000000e+00   1.00000000e+00]]\n"
     ]
    },
    {
     "name": "stderr",
     "output_type": "stream",
     "text": [
      "\r",
      "                                                                               \r",
      "\r",
      " 54% (604 of 1101) |############          | Elapsed Time: 0:14:10 ETA:  0:17:51"
     ]
    },
    {
     "name": "stdout",
     "output_type": "stream",
     "text": [
      "connected mappoints  117\n",
      "8371 \n",
      " [[  9.99999456e-01   4.05996317e-04   9.60930832e-04   1.15954230e-02]\n",
      " [ -4.05216125e-04   9.99999588e-01  -8.11968180e-04   1.89924159e-02]\n",
      " [ -9.61260093e-04   8.11578353e-04   9.99999209e-01  -1.00477907e+00]\n",
      " [  0.00000000e+00   0.00000000e+00   0.00000000e+00   1.00000000e+00]]\n"
     ]
    },
    {
     "name": "stderr",
     "output_type": "stream",
     "text": [
      "\r",
      "                                                                               \r",
      "\r",
      " 54% (605 of 1101) |############          | Elapsed Time: 0:14:12 ETA:  0:18:12"
     ]
    },
    {
     "name": "stdout",
     "output_type": "stream",
     "text": [
      "connected mappoints  115\n",
      "8372 \n",
      " [[  9.99998720e-01   1.38400859e-03   8.02242266e-04   1.72130231e-02]\n",
      " [ -1.38333728e-03   9.99998693e-01  -8.36743363e-04   2.74659401e-02]\n",
      " [ -8.03399278e-04   8.35632521e-04   9.99999328e-01  -9.87711360e-01]\n",
      " [  0.00000000e+00   0.00000000e+00   0.00000000e+00   1.00000000e+00]]\n"
     ]
    },
    {
     "name": "stderr",
     "output_type": "stream",
     "text": [
      "\r",
      "                                                                               \r",
      "\r",
      " 55% (606 of 1101) |############          | Elapsed Time: 0:14:14 ETA:  0:18:15"
     ]
    },
    {
     "name": "stdout",
     "output_type": "stream",
     "text": [
      "connected mappoints  101\n",
      "8373 \n",
      " [[  9.99999052e-01  -1.09227922e-03   8.38375080e-04   1.77604940e-02]\n",
      " [  1.09256649e-03   9.99999345e-01  -3.42267408e-04   2.41981951e-02]\n",
      " [ -8.38000679e-04   3.43183064e-04   9.99999590e-01  -9.79065995e-01]\n",
      " [  0.00000000e+00   0.00000000e+00   0.00000000e+00   1.00000000e+00]]\n"
     ]
    },
    {
     "name": "stderr",
     "output_type": "stream",
     "text": [
      "\r",
      "                                                                               \r",
      "\r",
      " 55% (607 of 1101) |############          | Elapsed Time: 0:14:16 ETA:  0:18:18"
     ]
    },
    {
     "name": "stdout",
     "output_type": "stream",
     "text": [
      "connected mappoints  104\n",
      "8374 \n",
      " [[  9.99999642e-01   1.54121418e-04   8.32535833e-04   1.49759645e-02]\n",
      " [ -1.55000202e-04   9.99999431e-01   1.05558967e-03   2.30194367e-02]\n",
      " [ -8.32372670e-04  -1.05571834e-03   9.99999096e-01  -9.85907222e-01]\n",
      " [  0.00000000e+00   0.00000000e+00   0.00000000e+00   1.00000000e+00]]\n"
     ]
    },
    {
     "name": "stderr",
     "output_type": "stream",
     "text": [
      "\r",
      "                                                                               \r",
      "\r",
      " 55% (608 of 1101) |############          | Elapsed Time: 0:14:18 ETA:  0:18:16"
     ]
    },
    {
     "name": "stdout",
     "output_type": "stream",
     "text": [
      "connected mappoints  111\n",
      "8375 \n",
      " [[ 0.99999555  0.00220694  0.00200945  0.00603531]\n",
      " [-0.00220972  0.99999661  0.00137928  0.01674836]\n",
      " [-0.0020064  -0.00138371  0.99999703 -0.99281753]\n",
      " [ 0.          0.          0.          1.        ]]\n"
     ]
    },
    {
     "name": "stderr",
     "output_type": "stream",
     "text": [
      "\r",
      "                                                                               \r",
      "\r",
      " 55% (609 of 1101) |############          | Elapsed Time: 0:14:20 ETA:  0:18:02"
     ]
    },
    {
     "name": "stdout",
     "output_type": "stream",
     "text": [
      "connected mappoints  102\n",
      "8376 \n",
      " [[  9.99995847e-01   6.84156157e-04   2.79966146e-03   1.66820645e-02]\n",
      " [ -6.87238765e-04   9.99999159e-01   1.10025062e-03   2.01117310e-02]\n",
      " [ -2.79890636e-03  -1.10217008e-03   9.99995476e-01  -9.67253235e-01]\n",
      " [  0.00000000e+00   0.00000000e+00   0.00000000e+00   1.00000000e+00]]\n"
     ]
    },
    {
     "name": "stderr",
     "output_type": "stream",
     "text": [
      "\r",
      "                                                                               \r",
      "\r",
      " 55% (610 of 1101) |############          | Elapsed Time: 0:14:22 ETA:  0:17:48"
     ]
    },
    {
     "name": "stdout",
     "output_type": "stream",
     "text": [
      "connected mappoints  104\n",
      "8377 \n",
      " [[  9.99996021e-01  -4.12448221e-04   2.79075561e-03   1.88909513e-02]\n",
      " [  4.11233559e-04   9.99999820e-01   4.35804793e-04   2.66867991e-02]\n",
      " [ -2.79093485e-03  -4.34655406e-04   9.99996011e-01  -9.67010001e-01]\n",
      " [  0.00000000e+00   0.00000000e+00   0.00000000e+00   1.00000000e+00]]\n"
     ]
    },
    {
     "name": "stderr",
     "output_type": "stream",
     "text": [
      "\r",
      "                                                                               \r",
      "\r",
      " 55% (611 of 1101) |############          | Elapsed Time: 0:14:24 ETA:  0:17:33"
     ]
    },
    {
     "name": "stdout",
     "output_type": "stream",
     "text": [
      "connected mappoints  98\n",
      "8378 \n",
      " [[  9.99996083e-01   5.74124424e-04   2.73937679e-03   8.00628521e-03]\n",
      " [ -5.78457935e-04   9.99998582e-01   1.58140327e-03   2.11745145e-02]\n",
      " [ -2.73846498e-03  -1.58298169e-03   9.99994997e-01  -9.63159876e-01]\n",
      " [  0.00000000e+00   0.00000000e+00   0.00000000e+00   1.00000000e+00]]\n"
     ]
    },
    {
     "name": "stderr",
     "output_type": "stream",
     "text": [
      "\r",
      "                                                                               \r",
      "\r",
      " 55% (612 of 1101) |############          | Elapsed Time: 0:14:25 ETA:  0:17:02"
     ]
    },
    {
     "name": "stdout",
     "output_type": "stream",
     "text": [
      "connected mappoints  115\n",
      "8379 \n",
      " [[  9.99998333e-01  -4.26646774e-04   1.77533468e-03   1.11297843e-02]\n",
      " [  4.25445193e-04   9.99999680e-01   6.77142004e-04   1.84944285e-02]\n",
      " [ -1.77562301e-03  -6.76385567e-04   9.99998195e-01  -9.71830782e-01]\n",
      " [  0.00000000e+00   0.00000000e+00   0.00000000e+00   1.00000000e+00]]\n"
     ]
    },
    {
     "name": "stderr",
     "output_type": "stream",
     "text": [
      "\r",
      "                                                                               \r",
      "\r",
      " 55% (613 of 1101) |############          | Elapsed Time: 0:14:27 ETA:  0:16:32"
     ]
    },
    {
     "name": "stdout",
     "output_type": "stream",
     "text": [
      "connected mappoints  98\n",
      "8380 \n",
      " [[  9.99999309e-01  -5.64955540e-04   1.03127465e-03   1.43808588e-02]\n",
      " [  5.65431481e-04   9.99999734e-01  -4.61274343e-04   2.37340335e-02]\n",
      " [ -1.03101378e-03   4.61857139e-04   9.99999362e-01  -9.54170363e-01]\n",
      " [  0.00000000e+00   0.00000000e+00   0.00000000e+00   1.00000000e+00]]\n"
     ]
    },
    {
     "name": "stderr",
     "output_type": "stream",
     "text": [
      "\r",
      "                                                                               \r",
      "\r",
      " 55% (614 of 1101) |############          | Elapsed Time: 0:14:29 ETA:  0:15:52"
     ]
    },
    {
     "name": "stdout",
     "output_type": "stream",
     "text": [
      "connected mappoints  107\n",
      "8381 \n",
      " [[  9.99998980e-01  -1.38380129e-03   3.53219835e-04   1.31214148e-02]\n",
      " [  1.38450413e-03   9.99997047e-01  -1.99739746e-03   2.37293862e-02]\n",
      " [ -3.50454790e-04   1.99788446e-03   9.99997943e-01  -9.51112467e-01]\n",
      " [  0.00000000e+00   0.00000000e+00   0.00000000e+00   1.00000000e+00]]\n"
     ]
    },
    {
     "name": "stderr",
     "output_type": "stream",
     "text": [
      "\r",
      "                                                                               \r",
      "\r",
      " 55% (615 of 1101) |############          | Elapsed Time: 0:14:31 ETA:  0:15:28"
     ]
    },
    {
     "name": "stdout",
     "output_type": "stream",
     "text": [
      "connected mappoints  100\n",
      "8382 \n",
      " [[  9.99999330e-01  -1.04895885e-03  -4.88585434e-04   1.76565236e-02]\n",
      " [  1.04798431e-03   9.99997470e-01  -1.99062346e-03   2.04051777e-02]\n",
      " [  4.90672280e-04   1.99011010e-03   9.99997899e-01  -9.28577853e-01]\n",
      " [  0.00000000e+00   0.00000000e+00   0.00000000e+00   1.00000000e+00]]\n"
     ]
    },
    {
     "name": "stderr",
     "output_type": "stream",
     "text": [
      "\r",
      "                                                                               \r",
      "\r",
      " 55% (616 of 1101) |############          | Elapsed Time: 0:14:33 ETA:  0:15:20"
     ]
    },
    {
     "name": "stdout",
     "output_type": "stream",
     "text": [
      "connected mappoints  102\n",
      "8383 \n",
      " [[  9.99999154e-01  -8.33508132e-04  -9.98772866e-04   1.36933055e-02]\n",
      " [  8.32674895e-04   9.99999305e-01  -8.34385990e-04   1.83879529e-02]\n",
      " [  9.99467640e-04   8.33553631e-04   9.99999153e-01  -9.25433430e-01]\n",
      " [  0.00000000e+00   0.00000000e+00   0.00000000e+00   1.00000000e+00]]\n"
     ]
    },
    {
     "name": "stderr",
     "output_type": "stream",
     "text": [
      "\r",
      "                                                                               \r",
      "\r",
      " 56% (617 of 1101) |############          | Elapsed Time: 0:14:35 ETA:  0:15:17"
     ]
    },
    {
     "name": "stdout",
     "output_type": "stream",
     "text": [
      "connected mappoints  93\n",
      "8384 \n",
      " [[  9.99998356e-01  -1.29842481e-03  -1.26572233e-03   1.15872610e-02]\n",
      " [  1.29813367e-03   9.99999131e-01  -2.30812955e-04   2.15027496e-02]\n",
      " [  1.26602092e-03   2.29169499e-04   9.99999172e-01  -9.15465627e-01]\n",
      " [  0.00000000e+00   0.00000000e+00   0.00000000e+00   1.00000000e+00]]\n"
     ]
    },
    {
     "name": "stderr",
     "output_type": "stream",
     "text": [
      "\r",
      "                                                                               \r",
      "\r",
      " 56% (618 of 1101) |############          | Elapsed Time: 0:14:37 ETA:  0:15:06"
     ]
    },
    {
     "name": "stdout",
     "output_type": "stream",
     "text": [
      "connected mappoints  102\n"
     ]
    }
   ],
   "source": [
    "seq = Sequence()\n",
    "for f in ProgressBar()(frame[:]):\n",
    "    seq.add_keyframe(f,run_ba = False)\n",
    "    \n",
    "#set matching keyframes\n",
    "pose_frame(frame[1060],frame[1])\n",
    "\n",
    "for obs in frame[1060].get_observations():\n",
    "    # obs matches previous keyframe\n",
    "    if obs.has_mappoint():\n",
    "        obs.check_mappoint()\n",
    "        obs.register_mappoint()\n",
    "        \n",
    "                \n",
    "    "
   ]
  },
  {
   "cell_type": "markdown",
   "metadata": {},
   "source": [
    "Example of how to save a set of covisible keyframes, fixed keyframes, mappoints and edges to use for local bundle adjustment"
   ]
  },
  {
   "cell_type": "code",
   "execution_count": 23,
   "metadata": {},
   "outputs": [
    {
     "data": {
      "text/plain": [
       "array([[  9.99865281e-01,  -1.02289921e-03,   1.63821029e-02,\n",
       "          2.15890400e-02],\n",
       "       [  9.89241849e-04,   9.99997384e-01,   2.06249206e-03,\n",
       "          2.78449093e-03],\n",
       "       [ -1.63841698e-02,  -2.04600834e-03,   9.99863677e-01,\n",
       "         -2.01220248e-01],\n",
       "       [  0.00000000e+00,   0.00000000e+00,   0.00000000e+00,\n",
       "          1.00000000e+00]])"
      ]
     },
     "execution_count": 23,
     "metadata": {},
     "output_type": "execute_result"
    }
   ],
   "source": [
    "frame[4].get_world_pose()"
   ]
  },
  {
   "cell_type": "code",
   "execution_count": 29,
   "metadata": {},
   "outputs": [
    {
     "data": {
      "text/plain": [
       "array([[ 1.,  0.,  0.,  0.],\n",
       "       [ 0.,  1.,  0.,  0.],\n",
       "       [ 0.,  0.,  1.,  0.],\n",
       "       [ 0.,  0.,  0.,  1.]])"
      ]
     },
     "execution_count": 29,
     "metadata": {},
     "output_type": "execute_result"
    }
   ],
   "source": [
    "seq.keyframes[0].get_world_pose()"
   ]
  },
  {
   "cell_type": "code",
   "execution_count": 15,
   "metadata": {},
   "outputs": [
    {
     "ename": "IndexError",
     "evalue": "list index out of range",
     "output_type": "error",
     "traceback": [
      "\u001b[0;31m---------------------------------------------------------------------------\u001b[0m",
      "\u001b[0;31mIndexError\u001b[0m                                Traceback (most recent call last)",
      "\u001b[0;32m<ipython-input-15-67864899a03b>\u001b[0m in \u001b[0;36m<module>\u001b[0;34m()\u001b[0m\n\u001b[0;32m----> 1\u001b[0;31m \u001b[0mseq\u001b[0m\u001b[0;34m.\u001b[0m\u001b[0mkeyframes\u001b[0m\u001b[0;34m[\u001b[0m\u001b[0;36m10\u001b[0m\u001b[0;34m]\u001b[0m\u001b[0;34m.\u001b[0m\u001b[0mget_world_pose\u001b[0m\u001b[0;34m(\u001b[0m\u001b[0;34m)\u001b[0m\u001b[0;34m\u001b[0m\u001b[0m\n\u001b[0m",
      "\u001b[0;31mIndexError\u001b[0m: list index out of range"
     ]
    }
   ],
   "source": []
  },
  {
   "cell_type": "code",
   "execution_count": 16,
   "metadata": {},
   "outputs": [
    {
     "ename": "IndexError",
     "evalue": "list index out of range",
     "output_type": "error",
     "traceback": [
      "\u001b[0;31m---------------------------------------------------------------------------\u001b[0m",
      "\u001b[0;31mIndexError\u001b[0m                                Traceback (most recent call last)",
      "\u001b[0;32m<ipython-input-16-334dfab2f28a>\u001b[0m in \u001b[0;36m<module>\u001b[0;34m()\u001b[0m\n\u001b[0;32m----> 1\u001b[0;31m \u001b[0mmp1\u001b[0m \u001b[0;34m=\u001b[0m \u001b[0;34m[\u001b[0m\u001b[0mo\u001b[0m \u001b[0;32mfor\u001b[0m \u001b[0mo\u001b[0m \u001b[0;32min\u001b[0m \u001b[0mseq\u001b[0m\u001b[0;34m.\u001b[0m\u001b[0mkeyframes\u001b[0m\u001b[0;34m[\u001b[0m\u001b[0;36m10\u001b[0m\u001b[0;34m]\u001b[0m\u001b[0;34m.\u001b[0m\u001b[0mget_observations\u001b[0m\u001b[0;34m(\u001b[0m\u001b[0;34m)\u001b[0m \u001b[0;32mif\u001b[0m \u001b[0mo\u001b[0m\u001b[0;34m.\u001b[0m\u001b[0mmappoint\u001b[0m \u001b[0;32mis\u001b[0m \u001b[0;32mnot\u001b[0m \u001b[0;32mNone\u001b[0m\u001b[0;34m]\u001b[0m\u001b[0;34m\u001b[0m\u001b[0m\n\u001b[0m\u001b[1;32m      2\u001b[0m \u001b[0;34m[\u001b[0m\u001b[0mo\u001b[0m\u001b[0;34m.\u001b[0m\u001b[0mget_affine_coords\u001b[0m\u001b[0;34m(\u001b[0m\u001b[0;34m)\u001b[0m \u001b[0;32mfor\u001b[0m \u001b[0mo\u001b[0m \u001b[0;32min\u001b[0m \u001b[0mmp1\u001b[0m\u001b[0;34m]\u001b[0m\u001b[0;34m[\u001b[0m\u001b[0;34m:\u001b[0m\u001b[0;36m5\u001b[0m\u001b[0;34m]\u001b[0m\u001b[0;34m\u001b[0m\u001b[0m\n",
      "\u001b[0;31mIndexError\u001b[0m: list index out of range"
     ]
    }
   ],
   "source": [
    "mp1 = [o for o in seq.keyframes[10].get_observations() if o.mappoint is not None]\n",
    "[o.get_affine_coords() for o in mp1][:5]"
   ]
  },
  {
   "cell_type": "code",
   "execution_count": 4,
   "metadata": {},
   "outputs": [],
   "source": [
    "# mp1 = [o for o in seq.keyframes[10].get_observations() if o.mappoint is not None]\n",
    "# [o.get_world_coords() for o in mp1][:5]"
   ]
  },
  {
   "cell_type": "code",
   "execution_count": 5,
   "metadata": {},
   "outputs": [
    {
     "data": {
      "text/plain": [
       "[1,\n",
       " 2,\n",
       " 2,\n",
       " 2,\n",
       " 4,\n",
       " 2,\n",
       " 2,\n",
       " 5,\n",
       " 3,\n",
       " 3,\n",
       " 1,\n",
       " 1,\n",
       " 3,\n",
       " 3,\n",
       " 2,\n",
       " 2,\n",
       " 4,\n",
       " 1,\n",
       " 11,\n",
       " 12,\n",
       " 7,\n",
       " 2,\n",
       " 3,\n",
       " 1,\n",
       " 3,\n",
       " 1,\n",
       " 2,\n",
       " 5,\n",
       " 4,\n",
       " 4,\n",
       " 2,\n",
       " 6,\n",
       " 1,\n",
       " 1,\n",
       " 1,\n",
       " 1,\n",
       " 2,\n",
       " 1,\n",
       " 7,\n",
       " 2,\n",
       " 4,\n",
       " 1,\n",
       " 4,\n",
       " 8,\n",
       " 6,\n",
       " 2,\n",
       " 1,\n",
       " 5,\n",
       " 6,\n",
       " 3,\n",
       " 9,\n",
       " 1,\n",
       " 1,\n",
       " 3,\n",
       " 1,\n",
       " 6,\n",
       " 2,\n",
       " 1,\n",
       " 2,\n",
       " 3,\n",
       " 2,\n",
       " 7,\n",
       " 2,\n",
       " 1,\n",
       " 3,\n",
       " 3,\n",
       " 3,\n",
       " 2,\n",
       " 2,\n",
       " 3,\n",
       " 3,\n",
       " 1,\n",
       " 2,\n",
       " 2,\n",
       " 1,\n",
       " 5,\n",
       " 10,\n",
       " 1,\n",
       " 5,\n",
       " 8,\n",
       " 3,\n",
       " 3,\n",
       " 4,\n",
       " 3,\n",
       " 2,\n",
       " 3,\n",
       " 1,\n",
       " 2,\n",
       " 3,\n",
       " 3,\n",
       " 3,\n",
       " 1,\n",
       " 7,\n",
       " 2,\n",
       " 13,\n",
       " 2,\n",
       " 2,\n",
       " 1,\n",
       " 5,\n",
       " 2,\n",
       " 5,\n",
       " 1,\n",
       " 2,\n",
       " 2,\n",
       " 7,\n",
       " 1,\n",
       " 2,\n",
       " 2,\n",
       " 2,\n",
       " 2,\n",
       " 2,\n",
       " 7,\n",
       " 1,\n",
       " 2,\n",
       " 1,\n",
       " 4,\n",
       " 8,\n",
       " 4,\n",
       " 5,\n",
       " 2,\n",
       " 3,\n",
       " 8,\n",
       " 4,\n",
       " 3,\n",
       " 5,\n",
       " 3,\n",
       " 6,\n",
       " 3,\n",
       " 4,\n",
       " 4,\n",
       " 2,\n",
       " 3,\n",
       " 1,\n",
       " 6,\n",
       " 1,\n",
       " 5,\n",
       " 3,\n",
       " 3,\n",
       " 3,\n",
       " 6,\n",
       " 2,\n",
       " 2,\n",
       " 2,\n",
       " 6,\n",
       " 3,\n",
       " 2,\n",
       " 4,\n",
       " 1,\n",
       " 2,\n",
       " 1,\n",
       " 2,\n",
       " 1,\n",
       " 3,\n",
       " 5,\n",
       " 3,\n",
       " 2,\n",
       " 3,\n",
       " 1,\n",
       " 1,\n",
       " 4,\n",
       " 2,\n",
       " 3,\n",
       " 1,\n",
       " 2,\n",
       " 2,\n",
       " 2,\n",
       " 2,\n",
       " 6,\n",
       " 1,\n",
       " 2,\n",
       " 4,\n",
       " 3,\n",
       " 3,\n",
       " 3,\n",
       " 2,\n",
       " 6,\n",
       " 1,\n",
       " 3,\n",
       " 4,\n",
       " 2,\n",
       " 5,\n",
       " 12,\n",
       " 2,\n",
       " 2,\n",
       " 1,\n",
       " 3,\n",
       " 2,\n",
       " 1,\n",
       " 3,\n",
       " 1,\n",
       " 1,\n",
       " 4,\n",
       " 6,\n",
       " 1,\n",
       " 1,\n",
       " 6,\n",
       " 1,\n",
       " 2,\n",
       " 2,\n",
       " 1,\n",
       " 16,\n",
       " 2,\n",
       " 1,\n",
       " 2,\n",
       " 1,\n",
       " 2,\n",
       " 1,\n",
       " 2,\n",
       " 2,\n",
       " 1,\n",
       " 9,\n",
       " 3,\n",
       " 9,\n",
       " 1,\n",
       " 1]"
      ]
     },
     "execution_count": 5,
     "metadata": {},
     "output_type": "execute_result"
    }
   ],
   "source": [
    "mp1 = [o.mappoint for o in frame[1].get_observations() if o.mappoint is not None]\n",
    "[len(m.observations) for m in mp1]"
   ]
  },
  {
   "cell_type": "code",
   "execution_count": null,
   "metadata": {},
   "outputs": [],
   "source": [
    "\n"
   ]
  },
  {
   "cell_type": "code",
   "execution_count": 33,
   "metadata": {},
   "outputs": [
    {
     "name": "stdout",
     "output_type": "stream",
     "text": [
      "Keyframes count\n",
      " 1101 \n",
      "\n",
      "Keyframes numpy \n",
      " [[  1.00000000e+00   0.00000000e+00   0.00000000e+00 ...,   0.00000000e+00\n",
      "    0.00000000e+00   1.00000000e+00]\n",
      " [  9.99978553e-01  -3.93679436e-04   6.53745681e-03 ...,   0.00000000e+00\n",
      "    0.00000000e+00   1.00000000e+00]\n",
      " [  1.00000000e+00   0.00000000e+00   0.00000000e+00 ...,   0.00000000e+00\n",
      "    0.00000000e+00   1.00000000e+00]\n",
      " ..., \n",
      " [  9.99253220e-01  -3.34536934e-02   1.93352886e-02 ...,   0.00000000e+00\n",
      "    0.00000000e+00   1.00000000e+00]\n",
      " [  9.99239914e-01  -3.38986275e-02   1.92477725e-02 ...,   0.00000000e+00\n",
      "    0.00000000e+00   1.00000000e+00]\n",
      " [  9.99239283e-01  -3.39478187e-02   1.91937634e-02 ...,   0.00000000e+00\n",
      "    0.00000000e+00   1.00000000e+00]] \n",
      "\n",
      "Keyframes numpy \n",
      " [[  1.06138000e+05  -1.75112745e+02   1.96613708e+00   3.18318968e+01\n",
      "    1.00000000e+00]\n",
      " [  1.22882000e+05  -1.53619471e+02   3.68622483e+00  -3.01094356e+01\n",
      "    1.00000000e+00]\n",
      " [  1.43441000e+05   3.67427648e+02  -1.10898092e+02  -8.77962321e+02\n",
      "    1.00000000e+00]\n",
      " ..., \n",
      " [  5.52070000e+04  -1.09307238e+02  -3.58318939e+00   1.37872645e+02\n",
      "    1.00000000e+00]\n",
      " [  2.06999000e+05   7.45099998e+00  -6.86033416e+00  -5.86326173e+00\n",
      "    1.00000000e+00]\n",
      " [  5.76970000e+04  -1.08670206e+02  -3.69645313e+00   1.40735963e+02\n",
      "    1.00000000e+00]] \n",
      "\n",
      "mappoints count  \n",
      " (65544, '\\n')\n",
      "mappoints \n",
      " [[  1.06138000e+05  -1.75112745e+02   1.96613708e+00   3.18318968e+01\n",
      "    1.00000000e+00]\n",
      " [  1.22882000e+05  -1.53619471e+02   3.68622483e+00  -3.01094356e+01\n",
      "    1.00000000e+00]\n",
      " [  1.43441000e+05   3.67427648e+02  -1.10898092e+02  -8.77962321e+02\n",
      "    1.00000000e+00]\n",
      " ..., \n",
      " [  5.52070000e+04  -1.09307238e+02  -3.58318939e+00   1.37872645e+02\n",
      "    1.00000000e+00]\n",
      " [  2.06999000e+05   7.45099998e+00  -6.86033416e+00  -5.86326173e+00\n",
      "    1.00000000e+00]\n",
      " [  5.76970000e+04  -1.08670206e+02  -3.69645313e+00   1.40735963e+02\n",
      "    1.00000000e+00]] \n",
      "\n",
      "links count  \n",
      " (195129, '\\n')\n",
      "links \n",
      " [[  1.06138000e+05   4.98000000e+02   5.30000000e+02   3.09000000e+02]\n",
      " [  1.06138000e+05   4.99000000e+02   5.23000000e+02   3.22000000e+02]\n",
      " [  1.22882000e+05   5.65000000e+02   6.82000000e+02   2.13000000e+02]\n",
      " ..., \n",
      " [  2.06999000e+05   1.07000000e+03   1.46000000e+02   1.48000000e+02]\n",
      " [  5.76970000e+04   2.85000000e+02   7.28000000e+02   1.27000000e+02]\n",
      " [  5.76970000e+04   2.84000000e+02   7.23000000e+02   1.26000000e+02]] \n",
      "\n",
      "Keyframes \n",
      " [<src.frame.Frame object at 0x7f4b08c73390>, <src.frame.Frame object at 0x7f4b08c73400>, <src.frame.Frame object at 0x7f4b08c73278>, <src.frame.Frame object at 0x7f4b08c73240>, <src.frame.Frame object at 0x7f4b08c733c8>, <src.frame.Frame object at 0x7f4b08c73470>, <src.frame.Frame object at 0x7f4b08c73438>, <src.frame.Frame object at 0x7f4b08c73198>, <src.frame.Frame object at 0x7f4b08c731d0>, <src.frame.Frame object at 0x7f4b08c73128>, <src.frame.Frame object at 0x7f4b08c73518>, <src.frame.Frame object at 0x7f4b08c736d8>, <src.frame.Frame object at 0x7f4b08c737f0>, <src.frame.Frame object at 0x7f4b08c73898>, <src.frame.Frame object at 0x7f4b08c73908>, <src.frame.Frame object at 0x7f4b08c73940>, <src.frame.Frame object at 0x7f4b08c738d0>, <src.frame.Frame object at 0x7f4b08c73978>, <src.frame.Frame object at 0x7f4b08c739b0>, <src.frame.Frame object at 0x7f4b08c73a20>, <src.frame.Frame object at 0x7f4b08c73a58>, <src.frame.Frame object at 0x7f4b08c739e8>, <src.frame.Frame object at 0x7f4b08c73828>, <src.frame.Frame object at 0x7f4b08c73860>, <src.frame.Frame object at 0x7f4b08c73710>, <src.frame.Frame object at 0x7f4b08c73780>, <src.frame.Frame object at 0x7f4b08c737b8>, <src.frame.Frame object at 0x7f4b08c73748>, <src.frame.Frame object at 0x7f4b08c73588>, <src.frame.Frame object at 0x7f4b08c735f8>, <src.frame.Frame object at 0x7f4b08c73630>, <src.frame.Frame object at 0x7f4b08c736a0>, <src.frame.Frame object at 0x7f4b08c73668>, <src.frame.Frame object at 0x7f4b08c735c0>, <src.frame.Frame object at 0x7f4b08c73550>, <src.frame.Frame object at 0x7f4b08c73ac8>, <src.frame.Frame object at 0x7f4b08c73b00>, <src.frame.Frame object at 0x7f4b08c73080>, <src.frame.Frame object at 0x7f4b08c730b8>, <src.frame.Frame object at 0x7f4b08c73b38>, <src.frame.Frame object at 0x7f4b08c73be0>, <src.frame.Frame object at 0x7f4b08c73c50>, <src.frame.Frame object at 0x7f4b08c73cc0>, <src.frame.Frame object at 0x7f4b08c73cf8>, <src.frame.Frame object at 0x7f4b08c73d30>, <src.frame.Frame object at 0x7f4b08c73d68>, <src.frame.Frame object at 0x7f4b08c73da0>, <src.frame.Frame object at 0x7f4b08c73c88>, <src.frame.Frame object at 0x7f4b08c73c18>, <src.frame.Frame object at 0x7f4b08c73e10>, <src.frame.Frame object at 0x7f4b08c73e48>, <src.frame.Frame object at 0x7f4b08c73b70>, <src.frame.Frame object at 0x7f4b08c73ba8>, <src.frame.Frame object at 0x7f4b08c73e80>, <src.frame.Frame object at 0x7f4b08c73f28>, <src.frame.Frame object at 0x7f4b08c73f98>, <src.frame.Frame object at 0x7f4b08c73fd0>, <src.frame.Frame object at 0x7f4b08c73f60>, <src.frame.Frame object at 0x7f4b08c73eb8>, <src.frame.Frame object at 0x7f4b08c73ef0>, <src.frame.Frame object at 0x7f4b08c6a128>, <src.frame.Frame object at 0x7f4b08c6a390>, <src.frame.Frame object at 0x7f4b08c6a160>, <src.frame.Frame object at 0x7f4b08c6a240>, <src.frame.Frame object at 0x7f4b08c6a358>, <src.frame.Frame object at 0x7f4b08c6a278>, <src.frame.Frame object at 0x7f4b08c6a2e8>, <src.frame.Frame object at 0x7f4b08c6a320>, <src.frame.Frame object at 0x7f4b08c6a2b0>, <src.frame.Frame object at 0x7f4b08c6a198>, <src.frame.Frame object at 0x7f4b08c6a208>, <src.frame.Frame object at 0x7f4b08c6a1d0>, <src.frame.Frame object at 0x7f4b08c6a048>, <src.frame.Frame object at 0x7f4b08c6a080>, <src.frame.Frame object at 0x7f4b08c6a0b8>, <src.frame.Frame object at 0x7f4b08c6a0f0>, <src.frame.Frame object at 0x7f4b08c6a3c8>, <src.frame.Frame object at 0x7f4b08c6a400>, <src.frame.Frame object at 0x7f4b08c6a4a8>, <src.frame.Frame object at 0x7f4b08c6a4e0>, <src.frame.Frame object at 0x7f4b08c6a518>, <src.frame.Frame object at 0x7f4b08c6a438>, <src.frame.Frame object at 0x7f4b08c6a470>, <src.frame.Frame object at 0x7f4b08c6a550>, <src.frame.Frame object at 0x7f4b08c6a5f8>, <src.frame.Frame object at 0x7f4b08c6a668>, <src.frame.Frame object at 0x7f4b08c6a630>, <src.frame.Frame object at 0x7f4b08c6a6a0>, <src.frame.Frame object at 0x7f4b08c6a710>, <src.frame.Frame object at 0x7f4b08c6a780>, <src.frame.Frame object at 0x7f4b08c6a898>, <src.frame.Frame object at 0x7f4b08c6a908>, <src.frame.Frame object at 0x7f4b08c6a8d0>, <src.frame.Frame object at 0x7f4b08c6a7b8>, <src.frame.Frame object at 0x7f4b08c6a828>, <src.frame.Frame object at 0x7f4b08c6a860>, <src.frame.Frame object at 0x7f4b08c6a7f0>, <src.frame.Frame object at 0x7f4b08c6a748>, <src.frame.Frame object at 0x7f4b08c6a6d8>, <src.frame.Frame object at 0x7f4b08c6a978>, <src.frame.Frame object at 0x7f4b08c6a9e8>, <src.frame.Frame object at 0x7f4b08c6aa58>, <src.frame.Frame object at 0x7f4b08c6ab70>, <src.frame.Frame object at 0x7f4b08c6abe0>, <src.frame.Frame object at 0x7f4b08c6aba8>, <src.frame.Frame object at 0x7f4b08c6aa90>, <src.frame.Frame object at 0x7f4b08c6ab00>, <src.frame.Frame object at 0x7f4b08c6ab38>, <src.frame.Frame object at 0x7f4b08c6aac8>, <src.frame.Frame object at 0x7f4b08c6aa20>, <src.frame.Frame object at 0x7f4b08c6a9b0>, <src.frame.Frame object at 0x7f4b08c6ac18>, <src.frame.Frame object at 0x7f4b08c6ac88>, <src.frame.Frame object at 0x7f4b08c6acf8>, <src.frame.Frame object at 0x7f4b08c6ae10>, <src.frame.Frame object at 0x7f4b08c6ae80>, <src.frame.Frame object at 0x7f4b08c6ae48>, <src.frame.Frame object at 0x7f4b08c6ad30>, <src.frame.Frame object at 0x7f4b08c6ada0>, <src.frame.Frame object at 0x7f4b08c6add8>, <src.frame.Frame object at 0x7f4b08c6ad68>, <src.frame.Frame object at 0x7f4b08c6acc0>, <src.frame.Frame object at 0x7f4b08c6ac50>, <src.frame.Frame object at 0x7f4b08c6aeb8>, <src.frame.Frame object at 0x7f4b08c6af28>, <src.frame.Frame object at 0x7f4b08c6af98>, <src.frame.Frame object at 0x7f4b08c6afd0>, <src.frame.Frame object at 0x7f4b08c6af60>, <src.frame.Frame object at 0x7f4b08c6aef0>, <src.frame.Frame object at 0x7f4b08c6a588>, <src.frame.Frame object at 0x7f4b08c6a5c0>, <src.frame.Frame object at 0x7f4ad6b39748>, <src.frame.Frame object at 0x7f4ad6b39048>, <src.frame.Frame object at 0x7f4ad6b39080>, <src.frame.Frame object at 0x7f4ad6b390b8>, <src.frame.Frame object at 0x7f4ad6b390f0>, <src.frame.Frame object at 0x7f4ad6b39128>, <src.frame.Frame object at 0x7f4ad6b39160>, <src.frame.Frame object at 0x7f4ad6b39198>, <src.frame.Frame object at 0x7f4ad6b391d0>, <src.frame.Frame object at 0x7f4ad6b39208>, <src.frame.Frame object at 0x7f4ad6b39240>, <src.frame.Frame object at 0x7f4ad6b39278>, <src.frame.Frame object at 0x7f4ad6b392b0>, <src.frame.Frame object at 0x7f4ad6b392e8>, <src.frame.Frame object at 0x7f4ad6b39320>, <src.frame.Frame object at 0x7f4ad6b39358>, <src.frame.Frame object at 0x7f4ad6b39390>, <src.frame.Frame object at 0x7f4ad6b393c8>, <src.frame.Frame object at 0x7f4ad6b39400>, <src.frame.Frame object at 0x7f4ad6b39438>, <src.frame.Frame object at 0x7f4ad6b39470>, <src.frame.Frame object at 0x7f4ad6b394a8>, <src.frame.Frame object at 0x7f4ad6b394e0>, <src.frame.Frame object at 0x7f4ad6b39518>, <src.frame.Frame object at 0x7f4ad6b39550>, <src.frame.Frame object at 0x7f4ad6b39588>, <src.frame.Frame object at 0x7f4ad6b395c0>, <src.frame.Frame object at 0x7f4ad6b395f8>, <src.frame.Frame object at 0x7f4ad6b39630>, <src.frame.Frame object at 0x7f4ad6b39668>, <src.frame.Frame object at 0x7f4ad6b396a0>, <src.frame.Frame object at 0x7f4ad6b396d8>, <src.frame.Frame object at 0x7f4ad6b39710>, <src.frame.Frame object at 0x7f4ad25b32e8>, <src.frame.Frame object at 0x7f4ad25b3400>, <src.frame.Frame object at 0x7f4ad25b3048>, <src.frame.Frame object at 0x7f4ad25b3198>, <src.frame.Frame object at 0x7f4ad25b30f0>, <src.frame.Frame object at 0x7f4ad25b3240>, <src.frame.Frame object at 0x7f4ad25b3668>, <src.frame.Frame object at 0x7f4ad25b30b8>, <src.frame.Frame object at 0x7f4ad25b3748>, <src.frame.Frame object at 0x7f4ad25b3898>, <src.frame.Frame object at 0x7f4ad25b3080>, <src.frame.Frame object at 0x7f4ad25b37b8>, <src.frame.Frame object at 0x7f4ad25b3978>, <src.frame.Frame object at 0x7f4ad25b37f0>, <src.frame.Frame object at 0x7f4ad25b3860>, <src.frame.Frame object at 0x7f4ad25b35f8>, <src.frame.Frame object at 0x7f4ad25b3358>, <src.frame.Frame object at 0x7f4ad25b3940>, <src.frame.Frame object at 0x7f4ad25b3780>, <src.frame.Frame object at 0x7f4ad25b39e8>, <src.frame.Frame object at 0x7f4ad25b39b0>, <src.frame.Frame object at 0x7f4ad25b3828>, <src.frame.Frame object at 0x7f4ad25b3710>, <src.frame.Frame object at 0x7f4ad25b3278>, <src.frame.Frame object at 0x7f4ad25b3b00>, <src.frame.Frame object at 0x7f4ad25b3438>, <src.frame.Frame object at 0x7f4ad25b34e0>, <src.frame.Frame object at 0x7f4ad25b34a8>, <src.frame.Frame object at 0x7f4ad25b3518>, <src.frame.Frame object at 0x7f4ad25b3630>, <src.frame.Frame object at 0x7f4ad25b3c50>, <src.frame.Frame object at 0x7f4ad25b3a90>, <src.frame.Frame object at 0x7f4ad25b3a20>, <src.frame.Frame object at 0x7f4ad25b3ac8>, <src.frame.Frame object at 0x7f4ad25b3b38>, <src.frame.Frame object at 0x7f4ad25b3ba8>, <src.frame.Frame object at 0x7f4ad25b3d30>, <src.frame.Frame object at 0x7f4ad25b3c18>, <src.frame.Frame object at 0x7f4ad25b3d68>, <src.frame.Frame object at 0x7f4ad25b3588>, <src.frame.Frame object at 0x7f4ad25b3c88>, <src.frame.Frame object at 0x7f4ad25b3b70>, <src.frame.Frame object at 0x7f4ad25b3390>, <src.frame.Frame object at 0x7f4ad25b3e10>, <src.frame.Frame object at 0x7f4ad25b3be0>, <src.frame.Frame object at 0x7f4ad25b3da0>, <src.frame.Frame object at 0x7f4ad25b38d0>, <src.frame.Frame object at 0x7f4ad25b3550>, <src.frame.Frame object at 0x7f4ad25b3470>, <src.frame.Frame object at 0x7f4ad25b3f28>, <src.frame.Frame object at 0x7f4ad25b3cf8>, <src.frame.Frame object at 0x7f4ad25b3e48>, <src.frame.Frame object at 0x7f4ad25b3fd0>, <src.frame.Frame object at 0x7f4ad25b3f98>, <src.frame.Frame object at 0x7f4ad25b3dd8>, <src.frame.Frame object at 0x7f4ad25b3ef0>, <src.frame.Frame object at 0x7f4ad25b3f60>, <src.frame.Frame object at 0x7f4ad25b3e80>, <src.frame.Frame object at 0x7f4ad25b3eb8>, <src.frame.Frame object at 0x7f4ad25b3a58>, <src.frame.Frame object at 0x7f4ad25b3128>, <src.frame.Frame object at 0x7f4ad25b3cc0>, <src.frame.Frame object at 0x7f4ad2618748>, <src.frame.Frame object at 0x7f4ad2618908>, <src.frame.Frame object at 0x7f4ad26186a0>, <src.frame.Frame object at 0x7f4ad2618b38>, <src.frame.Frame object at 0x7f4ad2618438>, <src.frame.Frame object at 0x7f4ad2618470>, <src.frame.Frame object at 0x7f4ad2618588>, <src.frame.Frame object at 0x7f4ad2618e80>, <src.frame.Frame object at 0x7f4ad2618fd0>, <src.frame.Frame object at 0x7f4ad2618c18>, <src.frame.Frame object at 0x7f4ad2618ba8>, <src.frame.Frame object at 0x7f4ad2622b38>, <src.frame.Frame object at 0x7f4ad26226a0>, <src.frame.Frame object at 0x7f4ad26224a8>, <src.frame.Frame object at 0x7f4ad2622f60>, <src.frame.Frame object at 0x7f4ad2622080>, <src.frame.Frame object at 0x7f4ad2622d30>, <src.frame.Frame object at 0x7f4ad2622e48>, <src.frame.Frame object at 0x7f4ad2622a90>, <src.frame.Frame object at 0x7f4ad2622780>, <src.frame.Frame object at 0x7f4ad2622a20>, <src.frame.Frame object at 0x7f4ad2622fd0>, <src.frame.Frame object at 0x7f4ad2622e80>, <src.frame.Frame object at 0x7f4ad2622550>, <src.frame.Frame object at 0x7f4ad2622c18>, <src.frame.Frame object at 0x7f4ad2622978>, <src.frame.Frame object at 0x7f4ad2622b70>, <src.frame.Frame object at 0x7f4ad2622278>, <src.frame.Frame object at 0x7f4ad2622860>, <src.frame.Frame object at 0x7f4ad2622358>, <src.frame.Frame object at 0x7f4ad26224e0>, <src.frame.Frame object at 0x7f4ad26221d0>, <src.frame.Frame object at 0x7f4ad26225c0>, <src.frame.Frame object at 0x7f4ad2622ef0>, <src.frame.Frame object at 0x7f4ad2622cf8>, <src.frame.Frame object at 0x7f4ad26225f8>, <src.frame.Frame object at 0x7f4ad2622f98>, <src.frame.Frame object at 0x7f4ad2622438>, <src.frame.Frame object at 0x7f4ad2622da0>, <src.frame.Frame object at 0x7f4ad2622940>, <src.frame.Frame object at 0x7f4ad24fa470>, <src.frame.Frame object at 0x7f4ad24fa400>, <src.frame.Frame object at 0x7f4ad24fa438>, <src.frame.Frame object at 0x7f4ad24fa3c8>, <src.frame.Frame object at 0x7f4ad24fa358>, <src.frame.Frame object at 0x7f4ad24fa048>, <src.frame.Frame object at 0x7f4ad24fa080>, <src.frame.Frame object at 0x7f4ad24fa0b8>, <src.frame.Frame object at 0x7f4ad24fa0f0>, <src.frame.Frame object at 0x7f4ad24fa128>, <src.frame.Frame object at 0x7f4ad24fa160>, <src.frame.Frame object at 0x7f4ad24fa198>, <src.frame.Frame object at 0x7f4ad24fa1d0>, <src.frame.Frame object at 0x7f4ad24fa208>, <src.frame.Frame object at 0x7f4ad24fa240>, <src.frame.Frame object at 0x7f4ad24fa278>, <src.frame.Frame object at 0x7f4ad24fa2b0>, <src.frame.Frame object at 0x7f4ad24fa2e8>, <src.frame.Frame object at 0x7f4ad24fa320>, <src.frame.Frame object at 0x7f4a47e95048>, <src.frame.Frame object at 0x7f4a47e951d0>, <src.frame.Frame object at 0x7f4a47e95208>, <src.frame.Frame object at 0x7f4a47e953c8>, <src.frame.Frame object at 0x7f4a47e95400>, <src.frame.Frame object at 0x7f4a47e95550>, <src.frame.Frame object at 0x7f4a47e955c0>, <src.frame.Frame object at 0x7f4a47e95668>, <src.frame.Frame object at 0x7f4a47e956a0>, <src.frame.Frame object at 0x7f4a47e957b8>, <src.frame.Frame object at 0x7f4a47e95860>, <src.frame.Frame object at 0x7f4a47e958d0>, <src.frame.Frame object at 0x7f4a47e959b0>, <src.frame.Frame object at 0x7f4a47e95a20>, <src.frame.Frame object at 0x7f4a47e95a58>, <src.frame.Frame object at 0x7f4a47e95b70>, <src.frame.Frame object at 0x7f4a47e95c50>, <src.frame.Frame object at 0x7f4a47e95c88>, <src.frame.Frame object at 0x7f4a47e95e80>, <src.frame.Frame object at 0x7f4a47e95eb8>, <src.frame.Frame object at 0x7f4a47e95128>, <src.frame.Frame object at 0x7f4a47e95160>, <src.frame.Frame object at 0x7f4a47e95240>, <src.frame.Frame object at 0x7f4a47e952b0>, <src.frame.Frame object at 0x7f4a47e95358>, <src.frame.Frame object at 0x7f4a47e95438>, <src.frame.Frame object at 0x7f4a47e955f8>, <src.frame.Frame object at 0x7f4a47e95a90>, <src.frame.Frame object at 0x7f4a47e95b00>, <src.frame.Frame object at 0x7f4a47e95ba8>, <src.frame.Frame object at 0x7f4a47e95be0>, <src.frame.Frame object at 0x7f4a47e95c18>, <src.frame.Frame object at 0x7f4a47e95cf8>, <src.frame.Frame object at 0x7f4a47e95dd8>, <src.frame.Frame object at 0x7f4a47e95e10>, <src.frame.Frame object at 0x7f4a47e95ef0>, <src.frame.Frame object at 0x7f4a47e9d048>, <src.frame.Frame object at 0x7f4a47e9d2b0>, <src.frame.Frame object at 0x7f4a47e9d2e8>, <src.frame.Frame object at 0x7f4a47e9d358>, <src.frame.Frame object at 0x7f4a47e9d390>, <src.frame.Frame object at 0x7f4a47e9d3c8>, <src.frame.Frame object at 0x7f4a47e9d438>, <src.frame.Frame object at 0x7f4a47e9d4a8>, <src.frame.Frame object at 0x7f4a47e9d4e0>, <src.frame.Frame object at 0x7f4a47e9d898>, <src.frame.Frame object at 0x7f4a47e9d8d0>, <src.frame.Frame object at 0x7f4a47e9d908>, <src.frame.Frame object at 0x7f4a47e9d9e8>, <src.frame.Frame object at 0x7f4a47e9dc50>, <src.frame.Frame object at 0x7f4a47e9dcc0>, <src.frame.Frame object at 0x7f4a47e9dda0>, <src.frame.Frame object at 0x7f4a47e9de10>, <src.frame.Frame object at 0x7f4a47e9de48>, <src.frame.Frame object at 0x7f4a47e9deb8>, <src.frame.Frame object at 0x7f4a47e9dfd0>, <src.frame.Frame object at 0x7f4a47e9d0f0>, <src.frame.Frame object at 0x7f4a47e9d198>, <src.frame.Frame object at 0x7f4a47e9d208>, <src.frame.Frame object at 0x7f4a47e9d278>, <src.frame.Frame object at 0x7f4a47e9d320>, <src.frame.Frame object at 0x7f4a47e9d400>, <src.frame.Frame object at 0x7f4a47e9d550>, <src.frame.Frame object at 0x7f4a47e9d5c0>, <src.frame.Frame object at 0x7f4a47e9d630>, <src.frame.Frame object at 0x7f4a47e9d710>, <src.frame.Frame object at 0x7f4a47e9d748>, <src.frame.Frame object at 0x7f4a47e9d7b8>, <src.frame.Frame object at 0x7f4a47e9d860>, <src.frame.Frame object at 0x7f4a47e9da20>, <src.frame.Frame object at 0x7f4a47e9da58>, <src.frame.Frame object at 0x7f4a47e9dac8>, <src.frame.Frame object at 0x7f4a47e9db00>, <src.frame.Frame object at 0x7f4a47e9db70>, <src.frame.Frame object at 0x7f4a47e9dbe0>, <src.frame.Frame object at 0x7f4a47e9dc88>, <src.frame.Frame object at 0x7f4a47e9dd30>, <src.frame.Frame object at 0x7f4a47e9ddd8>, <src.frame.Frame object at 0x7f4a47e9de80>, <src.frame.Frame object at 0x7f4a47e9def0>, <src.frame.Frame object at 0x7f4a47e9df98>, <src.frame.Frame object at 0x7f4a47ea50b8>, <src.frame.Frame object at 0x7f4a47ea5278>, <src.frame.Frame object at 0x7f4a47ea5358>, <src.frame.Frame object at 0x7f4a47ea5400>, <src.frame.Frame object at 0x7f4a47ea54e0>, <src.frame.Frame object at 0x7f4a47ea56d8>, <src.frame.Frame object at 0x7f4a47ea5828>, <src.frame.Frame object at 0x7f4a47ea5898>, <src.frame.Frame object at 0x7f4a47ea58d0>, <src.frame.Frame object at 0x7f4a47ea59b0>, <src.frame.Frame object at 0x7f4a47ea5a90>, <src.frame.Frame object at 0x7f4a47ea5b38>, <src.frame.Frame object at 0x7f4a47ea5be0>, <src.frame.Frame object at 0x7f4a47ea5c88>, <src.frame.Frame object at 0x7f4a47ea5cf8>, <src.frame.Frame object at 0x7f4a47ea5da0>, <src.frame.Frame object at 0x7f4a47ea5dd8>, <src.frame.Frame object at 0x7f4a47ea5ef0>, <src.frame.Frame object at 0x7f4a47ea5f98>, <src.frame.Frame object at 0x7f4a47ea5128>, <src.frame.Frame object at 0x7f4a47ea51d0>, <src.frame.Frame object at 0x7f4a47ea5208>, <src.frame.Frame object at 0x7f4a47ea52e8>, <src.frame.Frame object at 0x7f4a47ea5390>, <src.frame.Frame object at 0x7f4a47ea54a8>, <src.frame.Frame object at 0x7f4a47ea5518>, <src.frame.Frame object at 0x7f4a47ea5550>, <src.frame.Frame object at 0x7f4a47ea5588>, <src.frame.Frame object at 0x7f4a47ea5630>, <src.frame.Frame object at 0x7f4a47ea56a0>, <src.frame.Frame object at 0x7f4a47ea57f0>, <src.frame.Frame object at 0x7f4a47ea5860>, <src.frame.Frame object at 0x7f4a47ea59e8>, <src.frame.Frame object at 0x7f4a47ea5cc0>, <src.frame.Frame object at 0x7f4a47ea5e10>, <src.frame.Frame object at 0x7f4a47ea5eb8>, <src.frame.Frame object at 0x7f4a47ea5f28>, <src.frame.Frame object at 0x7f4a47eaf048>, <src.frame.Frame object at 0x7f4a47eaf080>, <src.frame.Frame object at 0x7f4a47eaf0b8>, <src.frame.Frame object at 0x7f4a47eaf390>, <src.frame.Frame object at 0x7f4a47eaf4e0>, <src.frame.Frame object at 0x7f4a47eaf588>, <src.frame.Frame object at 0x7f4a47eaf5f8>, <src.frame.Frame object at 0x7f4a47eaf710>, <src.frame.Frame object at 0x7f4a47eaf780>, <src.frame.Frame object at 0x7f4a47eaf7b8>, <src.frame.Frame object at 0x7f4a47eaf7f0>, <src.frame.Frame object at 0x7f4a47eafa90>, <src.frame.Frame object at 0x7f4a47eafd30>, <src.frame.Frame object at 0x7f4a47eafe80>, <src.frame.Frame object at 0x7f4a47eafeb8>, <src.frame.Frame object at 0x7f4a47eaffd0>, <src.frame.Frame object at 0x7f4a47eaf0f0>, <src.frame.Frame object at 0x7f4a47eaf128>, <src.frame.Frame object at 0x7f4a47eaf160>, <src.frame.Frame object at 0x7f4a47eaf198>, <src.frame.Frame object at 0x7f4a47eaf2b0>, <src.frame.Frame object at 0x7f4a47eaf2e8>, <src.frame.Frame object at 0x7f4a47eaf320>, <src.frame.Frame object at 0x7f4a47eaf358>, <src.frame.Frame object at 0x7f4a47eaf438>, <src.frame.Frame object at 0x7f4a47eaf470>, <src.frame.Frame object at 0x7f4a47eaf4a8>, <src.frame.Frame object at 0x7f4a47eaf518>, <src.frame.Frame object at 0x7f4a47eaf668>, <src.frame.Frame object at 0x7f4a47eaf6a0>, <src.frame.Frame object at 0x7f4a47eaf828>, <src.frame.Frame object at 0x7f4a47eaf860>, <src.frame.Frame object at 0x7f4a47eaf908>, <src.frame.Frame object at 0x7f4a47eafa20>, <src.frame.Frame object at 0x7f4a47eafa58>, <src.frame.Frame object at 0x7f4a47eafac8>, <src.frame.Frame object at 0x7f4a47eafb00>, <src.frame.Frame object at 0x7f4a47eafb38>, <src.frame.Frame object at 0x7f4a47eafbe0>, <src.frame.Frame object at 0x7f4a47eafc50>, <src.frame.Frame object at 0x7f4a47eafcc0>, <src.frame.Frame object at 0x7f4a47eafcf8>, <src.frame.Frame object at 0x7f4a47eafe10>, <src.frame.Frame object at 0x7f4a47eafe48>, <src.frame.Frame object at 0x7f4a47eaff28>, <src.frame.Frame object at 0x7f4a47eaff98>, <src.frame.Frame object at 0x7f4a47eb8128>, <src.frame.Frame object at 0x7f4a47eb8198>, <src.frame.Frame object at 0x7f4a47eb8240>, <src.frame.Frame object at 0x7f4a47eb8400>, <src.frame.Frame object at 0x7f4a47eb8588>, <src.frame.Frame object at 0x7f4a47eb85c0>, <src.frame.Frame object at 0x7f4a47eb8630>, <src.frame.Frame object at 0x7f4a47eb8710>, <src.frame.Frame object at 0x7f4a47eb87b8>, <src.frame.Frame object at 0x7f4a47eb87f0>, <src.frame.Frame object at 0x7f4a47eb8860>, <src.frame.Frame object at 0x7f4a47eb8898>, <src.frame.Frame object at 0x7f4a47eb89e8>, <src.frame.Frame object at 0x7f4a47eb8ac8>, <src.frame.Frame object at 0x7f4a47eb8b00>, <src.frame.Frame object at 0x7f4a47eb8b38>, <src.frame.Frame object at 0x7f4a47eb8be0>, <src.frame.Frame object at 0x7f4a47eb8c18>, <src.frame.Frame object at 0x7f4a47eb8c88>, <src.frame.Frame object at 0x7f4a47eb8cc0>, <src.frame.Frame object at 0x7f4a47eb8dd8>, <src.frame.Frame object at 0x7f4a47eb8eb8>, <src.frame.Frame object at 0x7f4a47eb8f60>, <src.frame.Frame object at 0x7f4a47eb8fd0>, <src.frame.Frame object at 0x7f4a47eb8080>, <src.frame.Frame object at 0x7f4a47eb8278>, <src.frame.Frame object at 0x7f4a47eb82b0>, <src.frame.Frame object at 0x7f4a47eb8320>, <src.frame.Frame object at 0x7f4a47eb8390>, <src.frame.Frame object at 0x7f4a47eb83c8>, <src.frame.Frame object at 0x7f4a47eb8470>, <src.frame.Frame object at 0x7f4a47eb8550>, <src.frame.Frame object at 0x7f4a47eb8748>, <src.frame.Frame object at 0x7f4a47eb8828>, <src.frame.Frame object at 0x7f4a47eb88d0>, <src.frame.Frame object at 0x7f4a47eb8908>, <src.frame.Frame object at 0x7f4a47eb8940>, <src.frame.Frame object at 0x7f4a47eb8978>, <src.frame.Frame object at 0x7f4a47eb89b0>, <src.frame.Frame object at 0x7f4a47eb8a20>, <src.frame.Frame object at 0x7f4a47eb8a90>, <src.frame.Frame object at 0x7f4a47eb8c50>, <src.frame.Frame object at 0x7f4a47eb8d68>, <src.frame.Frame object at 0x7f4a47eb8ef0>, <src.frame.Frame object at 0x7f4a47eb8f98>, <src.frame.Frame object at 0x7f4a47e42048>, <src.frame.Frame object at 0x7f4a47e420b8>, <src.frame.Frame object at 0x7f4a47e423c8>, <src.frame.Frame object at 0x7f4a47e42400>, <src.frame.Frame object at 0x7f4a47e42470>, <src.frame.Frame object at 0x7f4a47e424a8>, <src.frame.Frame object at 0x7f4a47e42550>, <src.frame.Frame object at 0x7f4a47e42588>, <src.frame.Frame object at 0x7f4a47e425c0>, <src.frame.Frame object at 0x7f4a47e42710>, <src.frame.Frame object at 0x7f4a47e42780>, <src.frame.Frame object at 0x7f4a47e42828>, <src.frame.Frame object at 0x7f4a47e42a58>, <src.frame.Frame object at 0x7f4a47e42a90>, <src.frame.Frame object at 0x7f4a47e42b38>, <src.frame.Frame object at 0x7f4a47e42cc0>, <src.frame.Frame object at 0x7f4a47e42d30>, <src.frame.Frame object at 0x7f4a47e42da0>, <src.frame.Frame object at 0x7f4a47e42dd8>, <src.frame.Frame object at 0x7f4a47e42e10>, <src.frame.Frame object at 0x7f4a47e42f28>, <src.frame.Frame object at 0x7f4a47e42fd0>, <src.frame.Frame object at 0x7f4a47e420f0>, <src.frame.Frame object at 0x7f4a47e421d0>, <src.frame.Frame object at 0x7f4a47e42208>, <src.frame.Frame object at 0x7f4a47e42320>, <src.frame.Frame object at 0x7f4a47e42438>, <src.frame.Frame object at 0x7f4a47e424e0>, <src.frame.Frame object at 0x7f4a47e42668>, <src.frame.Frame object at 0x7f4a47e426a0>, <src.frame.Frame object at 0x7f4a47e428d0>, <src.frame.Frame object at 0x7f4a47e42940>, <src.frame.Frame object at 0x7f4a47e42978>, <src.frame.Frame object at 0x7f4a47e429b0>, <src.frame.Frame object at 0x7f4a47e42c18>, <src.frame.Frame object at 0x7f4a47e42c50>, <src.frame.Frame object at 0x7f4a47e42d68>, <src.frame.Frame object at 0x7f4a47e42e80>, <src.frame.Frame object at 0x7f4a47e42f60>, <src.frame.Frame object at 0x7f4a47e42f98>, <src.frame.Frame object at 0x7f4a47e4a240>, <src.frame.Frame object at 0x7f4a47e4a390>, <src.frame.Frame object at 0x7f4a47e4a3c8>, <src.frame.Frame object at 0x7f4a47e4a438>, <src.frame.Frame object at 0x7f4a47e4a5f8>, <src.frame.Frame object at 0x7f4a47e4a710>, <src.frame.Frame object at 0x7f4a47e4a780>, <src.frame.Frame object at 0x7f4a47e4a860>, <src.frame.Frame object at 0x7f4a47e4a8d0>, <src.frame.Frame object at 0x7f4a47e4aa20>, <src.frame.Frame object at 0x7f4a47e4aa58>, <src.frame.Frame object at 0x7f4a47e4abe0>, <src.frame.Frame object at 0x7f4a47e4acc0>, <src.frame.Frame object at 0x7f4a47e4ad68>, <src.frame.Frame object at 0x7f4a47e4af60>, <src.frame.Frame object at 0x7f4a47e4af98>, <src.frame.Frame object at 0x7f4a47e4a0b8>, <src.frame.Frame object at 0x7f4a47e4a0f0>, <src.frame.Frame object at 0x7f4a47e4a1d0>, <src.frame.Frame object at 0x7f4a47e4a278>, <src.frame.Frame object at 0x7f4a47e4a2b0>, <src.frame.Frame object at 0x7f4a47e4a2e8>, <src.frame.Frame object at 0x7f4a47e4a358>, <src.frame.Frame object at 0x7f4a47e4a470>, <src.frame.Frame object at 0x7f4a47e4a518>, <src.frame.Frame object at 0x7f4a47e4a550>, <src.frame.Frame object at 0x7f4a47e4a6d8>, <src.frame.Frame object at 0x7f4a47e4a7b8>, <src.frame.Frame object at 0x7f4a47e4a7f0>, <src.frame.Frame object at 0x7f4a47e4a828>, <src.frame.Frame object at 0x7f4a47e4a908>, <src.frame.Frame object at 0x7f4a47e4a940>, <src.frame.Frame object at 0x7f4a47e4a9b0>, <src.frame.Frame object at 0x7f4a47e4aa90>, <src.frame.Frame object at 0x7f4a47e4aac8>, <src.frame.Frame object at 0x7f4a47e4ab38>, <src.frame.Frame object at 0x7f4a47e4ac18>, <src.frame.Frame object at 0x7f4a47e4ac88>, <src.frame.Frame object at 0x7f4a47e4acf8>, <src.frame.Frame object at 0x7f4a47e4ad30>, <src.frame.Frame object at 0x7f4a47e4ae80>, <src.frame.Frame object at 0x7f4a47e4af28>, <src.frame.Frame object at 0x7f4a47e540b8>, <src.frame.Frame object at 0x7f4a47e542b0>, <src.frame.Frame object at 0x7f4a47e54320>, <src.frame.Frame object at 0x7f4a47e544e0>, <src.frame.Frame object at 0x7f4a47e54518>, <src.frame.Frame object at 0x7f4a47e54588>, <src.frame.Frame object at 0x7f4a47e545c0>, <src.frame.Frame object at 0x7f4a47e54668>, <src.frame.Frame object at 0x7f4a47e546a0>, <src.frame.Frame object at 0x7f4a47e54748>, <src.frame.Frame object at 0x7f4a47e547f0>, <src.frame.Frame object at 0x7f4a47e54828>, <src.frame.Frame object at 0x7f4a47e54908>, <src.frame.Frame object at 0x7f4a47e54978>, <src.frame.Frame object at 0x7f4a47e54a58>, <src.frame.Frame object at 0x7f4a47e54b38>, <src.frame.Frame object at 0x7f4a47e54c50>, <src.frame.Frame object at 0x7f4a47e54da0>, <src.frame.Frame object at 0x7f4a47e54e10>, <src.frame.Frame object at 0x7f4a47e54e48>, <src.frame.Frame object at 0x7f4a47e54e80>, <src.frame.Frame object at 0x7f4a47e540f0>, <src.frame.Frame object at 0x7f4a47e54160>, <src.frame.Frame object at 0x7f4a47e54240>, <src.frame.Frame object at 0x7f4a47e54278>, <src.frame.Frame object at 0x7f4a47e542e8>, <src.frame.Frame object at 0x7f4a47e54358>, <src.frame.Frame object at 0x7f4a47e54400>, <src.frame.Frame object at 0x7f4a47e544a8>, <src.frame.Frame object at 0x7f4a47e546d8>, <src.frame.Frame object at 0x7f4a47e54710>, <src.frame.Frame object at 0x7f4a47e54860>, <src.frame.Frame object at 0x7f4a47e549b0>, <src.frame.Frame object at 0x7f4a47e54a20>, <src.frame.Frame object at 0x7f4a47e54ba8>, <src.frame.Frame object at 0x7f4a47e54c18>, <src.frame.Frame object at 0x7f4a47e54cc0>, <src.frame.Frame object at 0x7f4a47e54cf8>, <src.frame.Frame object at 0x7f4a47e54d30>, <src.frame.Frame object at 0x7f4a47e54d68>, <src.frame.Frame object at 0x7f4a47e54dd8>, <src.frame.Frame object at 0x7f4a47e54ef0>, <src.frame.Frame object at 0x7f4a47e54f98>, <src.frame.Frame object at 0x7f4a47e54fd0>, <src.frame.Frame object at 0x7f4a47e5d198>, <src.frame.Frame object at 0x7f4a47e5d240>, <src.frame.Frame object at 0x7f4a47e5d400>, <src.frame.Frame object at 0x7f4a47e5d080>, <src.frame.Frame object at 0x7f4a47e5d0f0>, <src.frame.Frame object at 0x7f4a47e5d128>, <src.frame.Frame object at 0x7f4a47e5d1d0>, <src.frame.Frame object at 0x7f4a47e5d208>, <src.frame.Frame object at 0x7f4a47e5d278>, <src.frame.Frame object at 0x7f4a47e5d2b0>, <src.frame.Frame object at 0x7f4a47e5d2e8>, <src.frame.Frame object at 0x7f4a47e5d320>, <src.frame.Frame object at 0x7f4a47e5d390>, <src.frame.Frame object at 0x7f4a47e5d3c8>, <src.frame.Frame object at 0x7f4a47e5d470>, <src.frame.Frame object at 0x7f4a47e5d4a8>, <src.frame.Frame object at 0x7f4a47e5d4e0>, <src.frame.Frame object at 0x7f4a47e5d518>, <src.frame.Frame object at 0x7f4a47e5d550>, <src.frame.Frame object at 0x7f4a47e5d588>, <src.frame.Frame object at 0x7f4a47e5d5c0>, <src.frame.Frame object at 0x7f4a47e5d5f8>, <src.frame.Frame object at 0x7f4a47e5d630>, <src.frame.Frame object at 0x7f4a47e5d668>, <src.frame.Frame object at 0x7f4a47e5d6a0>, <src.frame.Frame object at 0x7f4a47e5d6d8>, <src.frame.Frame object at 0x7f4a47e5d710>, <src.frame.Frame object at 0x7f4a47e5d748>, <src.frame.Frame object at 0x7f4a47e5d780>, <src.frame.Frame object at 0x7f4a47e5d7b8>, <src.frame.Frame object at 0x7f4a47e5d7f0>, <src.frame.Frame object at 0x7f4a47e5d828>, <src.frame.Frame object at 0x7f4a47e5d860>, <src.frame.Frame object at 0x7f4a47e5d898>, <src.frame.Frame object at 0x7f4a47e5d8d0>, <src.frame.Frame object at 0x7f4a47e5d908>, <src.frame.Frame object at 0x7f4a47e5d940>, <src.frame.Frame object at 0x7f4a47e5d978>, <src.frame.Frame object at 0x7f4a47e5d9b0>, <src.frame.Frame object at 0x7f4a47e5d9e8>, <src.frame.Frame object at 0x7f4a47e5da20>, <src.frame.Frame object at 0x7f4a47e5da58>, <src.frame.Frame object at 0x7f4a47e5da90>, <src.frame.Frame object at 0x7f4a47e5dac8>, <src.frame.Frame object at 0x7f4a47e5db00>, <src.frame.Frame object at 0x7f4a47e5db38>, <src.frame.Frame object at 0x7f4a47e5db70>, <src.frame.Frame object at 0x7f4a47e5dba8>, <src.frame.Frame object at 0x7f4a47e5dbe0>, <src.frame.Frame object at 0x7f4a47e5dc18>, <src.frame.Frame object at 0x7f4a47e5dc50>, <src.frame.Frame object at 0x7f4a47e5dc88>, <src.frame.Frame object at 0x7f4a47e5dcc0>, <src.frame.Frame object at 0x7f4a47e5dcf8>, <src.frame.Frame object at 0x7f4a47e5dd30>, <src.frame.Frame object at 0x7f4a47e5dd68>, <src.frame.Frame object at 0x7f4a47e5dda0>, <src.frame.Frame object at 0x7f4a47e5ddd8>, <src.frame.Frame object at 0x7f4a47e5de10>, <src.frame.Frame object at 0x7f4a47e5de48>, <src.frame.Frame object at 0x7f4a47e5de80>, <src.frame.Frame object at 0x7f4a47e5deb8>, <src.frame.Frame object at 0x7f4a47e5def0>, <src.frame.Frame object at 0x7f4a47e5df28>, <src.frame.Frame object at 0x7f4a47e5df60>, <src.frame.Frame object at 0x7f4a47e5df98>, <src.frame.Frame object at 0x7f4a47e5dfd0>, <src.frame.Frame object at 0x7f4a47e70da0>, <src.frame.Frame object at 0x7f4a47e70048>, <src.frame.Frame object at 0x7f4a47e70080>, <src.frame.Frame object at 0x7f4a47e700b8>, <src.frame.Frame object at 0x7f4a47e700f0>, <src.frame.Frame object at 0x7f4a47e70128>, <src.frame.Frame object at 0x7f4a47e70160>, <src.frame.Frame object at 0x7f4a47e70198>, <src.frame.Frame object at 0x7f4a47e701d0>, <src.frame.Frame object at 0x7f4a47e70208>, <src.frame.Frame object at 0x7f4a47e70240>, <src.frame.Frame object at 0x7f4a47e70278>, <src.frame.Frame object at 0x7f4a47e702b0>, <src.frame.Frame object at 0x7f4a47e702e8>, <src.frame.Frame object at 0x7f4a47e70320>, <src.frame.Frame object at 0x7f4a47e70358>, <src.frame.Frame object at 0x7f4a47e70390>, <src.frame.Frame object at 0x7f4a47e703c8>, <src.frame.Frame object at 0x7f4a47e70400>, <src.frame.Frame object at 0x7f4a47e70438>, <src.frame.Frame object at 0x7f4a47e70470>, <src.frame.Frame object at 0x7f4a47e704a8>, <src.frame.Frame object at 0x7f4a47e704e0>, <src.frame.Frame object at 0x7f4a47e70518>, <src.frame.Frame object at 0x7f4a47e70550>, <src.frame.Frame object at 0x7f4a47e70588>, <src.frame.Frame object at 0x7f4a47e705c0>, <src.frame.Frame object at 0x7f4a47e705f8>, <src.frame.Frame object at 0x7f4a47e70630>, <src.frame.Frame object at 0x7f4a47e70668>, <src.frame.Frame object at 0x7f4a47e706a0>, <src.frame.Frame object at 0x7f4a47e706d8>, <src.frame.Frame object at 0x7f4a47e70710>, <src.frame.Frame object at 0x7f4a47e70748>, <src.frame.Frame object at 0x7f4a47e70780>, <src.frame.Frame object at 0x7f4a47e707b8>, <src.frame.Frame object at 0x7f4a47e707f0>, <src.frame.Frame object at 0x7f4a47e70828>, <src.frame.Frame object at 0x7f4a47e70860>, <src.frame.Frame object at 0x7f4a47e70898>, <src.frame.Frame object at 0x7f4a47e708d0>, <src.frame.Frame object at 0x7f4a47e70908>, <src.frame.Frame object at 0x7f4a47e70940>, <src.frame.Frame object at 0x7f4a47e70978>, <src.frame.Frame object at 0x7f4a47e709b0>, <src.frame.Frame object at 0x7f4a47e709e8>, <src.frame.Frame object at 0x7f4a47e70a20>, <src.frame.Frame object at 0x7f4a47e70a58>, <src.frame.Frame object at 0x7f4a47e70a90>, <src.frame.Frame object at 0x7f4a47e70ac8>, <src.frame.Frame object at 0x7f4a47e70b00>, <src.frame.Frame object at 0x7f4a47e70b38>, <src.frame.Frame object at 0x7f4a47e70b70>, <src.frame.Frame object at 0x7f4a47e70ba8>, <src.frame.Frame object at 0x7f4a47e70be0>, <src.frame.Frame object at 0x7f4a47e70c18>, <src.frame.Frame object at 0x7f4a47e70c50>, <src.frame.Frame object at 0x7f4a47e70c88>, <src.frame.Frame object at 0x7f4a47e70cc0>, <src.frame.Frame object at 0x7f4a47e70cf8>, <src.frame.Frame object at 0x7f4a47e70d30>, <src.frame.Frame object at 0x7f4a47e70d68>, <src.frame.Frame object at 0x7f4a780d7080>, <src.frame.Frame object at 0x7f4a780d7470>, <src.frame.Frame object at 0x7f4a780d70b8>, <src.frame.Frame object at 0x7f4a780d7208>, <src.frame.Frame object at 0x7f4a780d7668>, <src.frame.Frame object at 0x7f4a780d75f8>, <src.frame.Frame object at 0x7f4a780d7e10>, <src.frame.Frame object at 0x7f4a780d7ac8>, <src.frame.Frame object at 0x7f4a780d7a90>, <src.frame.Frame object at 0x7f4a780d7518>, <src.frame.Frame object at 0x7f4a780d76a0>, <src.frame.Frame object at 0x7f4a780d7588>, <src.frame.Frame object at 0x7f4a780d7ba8>, <src.frame.Frame object at 0x7f4a780d7e80>, <src.frame.Frame object at 0x7f4a780d7438>, <src.frame.Frame object at 0x7f4a780d7358>, <src.frame.Frame object at 0x7f4a780d70f0>, <src.frame.Frame object at 0x7f4a780d7cc0>, <src.frame.Frame object at 0x7f4a780d7da0>, <src.frame.Frame object at 0x7f4a780d74e0>, <src.frame.Frame object at 0x7f4a780d77f0>, <src.frame.Frame object at 0x7f4a780d7908>, <src.frame.Frame object at 0x7f4a780d7978>, <src.frame.Frame object at 0x7f4a780d7a20>, <src.frame.Frame object at 0x7f4a780d7be0>, <src.frame.Frame object at 0x7f4a780d78d0>, <src.frame.Frame object at 0x7f4a780d75c0>, <src.frame.Frame object at 0x7f4a780d7780>, <src.frame.Frame object at 0x7f4a780d7c18>, <src.frame.Frame object at 0x7f4a780d7c88>, <src.frame.Frame object at 0x7f4a780d7710>, <src.frame.Frame object at 0x7f4a780d72b0>, <src.frame.Frame object at 0x7f4a780d7f60>, <src.frame.Frame object at 0x7f4a780d7fd0>, <src.frame.Frame object at 0x7f4a780d73c8>, <src.frame.Frame object at 0x7f4a780d7a58>, <src.frame.Frame object at 0x7f4a780d7e48>, <src.frame.Frame object at 0x7f4a780d7f98>, <src.frame.Frame object at 0x7f4a780d7ef0>, <src.frame.Frame object at 0x7f4a780d7d30>, <src.frame.Frame object at 0x7f4a780d74a8>, <src.frame.Frame object at 0x7f4a780d7550>, <src.frame.Frame object at 0x7f4a78078048>, <src.frame.Frame object at 0x7f4a78078438>, <src.frame.Frame object at 0x7f4a78078518>, <src.frame.Frame object at 0x7f4a780780b8>, <src.frame.Frame object at 0x7f4a780781d0>, <src.frame.Frame object at 0x7f4a780785c0>, <src.frame.Frame object at 0x7f4a78078898>, <src.frame.Frame object at 0x7f4a78078a58>, <src.frame.Frame object at 0x7f4a78078a90>, <src.frame.Frame object at 0x7f4a78078b70>, <src.frame.Frame object at 0x7f4a78078668>, <src.frame.Frame object at 0x7f4a780784a8>, <src.frame.Frame object at 0x7f4a78078e48>, <src.frame.Frame object at 0x7f4a78078f98>, <src.frame.Frame object at 0x7f4a78078cf8>, <src.frame.Frame object at 0x7f4a78078080>, <src.frame.Frame object at 0x7f4a780780f0>, <src.frame.Frame object at 0x7f4a780782e8>, <src.frame.Frame object at 0x7f4a78078390>, <src.frame.Frame object at 0x7f4a78078f60>, <src.frame.Frame object at 0x7f4a78078eb8>, <src.frame.Frame object at 0x7f4a780783c8>, <src.frame.Frame object at 0x7f4a780786d8>, <src.frame.Frame object at 0x7f4a78078550>, <src.frame.Frame object at 0x7f4a78078c50>, <src.frame.Frame object at 0x7f4a78078da0>, <src.frame.Frame object at 0x7f4a78078278>, <src.frame.Frame object at 0x7f4a78078710>, <src.frame.Frame object at 0x7f4a78078fd0>, <src.frame.Frame object at 0x7f4a78078860>, <src.frame.Frame object at 0x7f4a78078748>, <src.frame.Frame object at 0x7f4a780789b0>, <src.frame.Frame object at 0x7f4a78078a20>, <src.frame.Frame object at 0x7f4a78078ba8>, <src.frame.Frame object at 0x7f4a78078e80>, <src.frame.Frame object at 0x7f4a780787f0>, <src.frame.Frame object at 0x7f4a78078198>, <src.frame.Frame object at 0x7f4a780789e8>, <src.frame.Frame object at 0x7f4a780786a0>, <src.frame.Frame object at 0x7f4ad25acac8>, <src.frame.Frame object at 0x7f4ad25ac978>, <src.frame.Frame object at 0x7f4ad25acf60>, <src.frame.Frame object at 0x7f4ad25ac7f0>, <src.frame.Frame object at 0x7f4ad25aca58>, <src.frame.Frame object at 0x7f4ad25ac240>, <src.frame.Frame object at 0x7f4ad25ac4e0>, <src.frame.Frame object at 0x7f4ad25ac4a8>, <src.frame.Frame object at 0x7f4ad25aceb8>, <src.frame.Frame object at 0x7f4ad25acfd0>, <src.frame.Frame object at 0x7f4ad25acf28>, <src.frame.Frame object at 0x7f4ad25acda0>, <src.frame.Frame object at 0x7f4ad25ac780>, <src.frame.Frame object at 0x7f4ad25ac908>, <src.frame.Frame object at 0x7f4ad25acc18>, <src.frame.Frame object at 0x7f4ad25ac940>, <src.frame.Frame object at 0x7f4ad25acb70>, <src.frame.Frame object at 0x7f4ad25acbe0>, <src.frame.Frame object at 0x7f4ad253e1d0>, <src.frame.Frame object at 0x7f4ad253e7b8>, <src.frame.Frame object at 0x7f4ad253e550>, <src.frame.Frame object at 0x7f4ad253e6a0>, <src.frame.Frame object at 0x7f4ad253e5f8>, <src.frame.Frame object at 0x7f4ad253e6d8>, <src.frame.Frame object at 0x7f4ad253e208>, <src.frame.Frame object at 0x7f4ad253e5c0>, <src.frame.Frame object at 0x7f4ad253e940>, <src.frame.Frame object at 0x7f4ad253e630>, <src.frame.Frame object at 0x7f4ad253e358>, <src.frame.Frame object at 0x7f4ad253e860>, <src.frame.Frame object at 0x7f4ad253e7f0>, <src.frame.Frame object at 0x7f4ad253e898>, <src.frame.Frame object at 0x7f4ad253e978>, <src.frame.Frame object at 0x7f4ad253e9e8>, <src.frame.Frame object at 0x7f4ad253e828>, <src.frame.Frame object at 0x7f4ad253e9b0>, <src.frame.Frame object at 0x7f4ad253ea20>, <src.frame.Frame object at 0x7f4ad253ea58>, <src.frame.Frame object at 0x7f4ad253e8d0>, <src.frame.Frame object at 0x7f4ad253eb00>, <src.frame.Frame object at 0x7f4ad253eba8>, <src.frame.Frame object at 0x7f4ad253e908>, <src.frame.Frame object at 0x7f4ad253eac8>, <src.frame.Frame object at 0x7f4ad253ec18>, <src.frame.Frame object at 0x7f4ad253ea90>, <src.frame.Frame object at 0x7f4ad253eb70>, <src.frame.Frame object at 0x7f4ad253eb38>, <src.frame.Frame object at 0x7f4ad253ebe0>, <src.frame.Frame object at 0x7f4ad253ecc0>, <src.frame.Frame object at 0x7f4ad253ec50>, <src.frame.Frame object at 0x7f4ad253ec88>, <src.frame.Frame object at 0x7f4ad253ed30>, <src.frame.Frame object at 0x7f4ad253ed68>, <src.frame.Frame object at 0x7f4ad253ecf8>, <src.frame.Frame object at 0x7f4ad253ee48>, <src.frame.Frame object at 0x7f4ad253eef0>, <src.frame.Frame object at 0x7f4ad253eeb8>, <src.frame.Frame object at 0x7f4ad253ee10>, <src.frame.Frame object at 0x7f4ad253edd8>, <src.frame.Frame object at 0x7f4ad253ef98>, <src.frame.Frame object at 0x7f4ad253e438>, <src.frame.Frame object at 0x7f4ad253e4e0>, <src.frame.Frame object at 0x7f4ad253ef60>, <src.frame.Frame object at 0x7f4ad253ee80>, <src.frame.Frame object at 0x7f4ad253efd0>, <src.frame.Frame object at 0x7f4ad253eda0>, <src.frame.Frame object at 0x7f4ad253e518>, <src.frame.Frame object at 0x7f4ad253ef28>, <src.frame.Frame object at 0x7f4ad253e748>, <src.frame.Frame object at 0x7f4ad253e320>, <src.frame.Frame object at 0x7f4ad253e3c8>, <src.frame.Frame object at 0x7f4ad253e160>, <src.frame.Frame object at 0x7f4ad253e710>, <src.frame.Frame object at 0x7f4ad253e128>, <src.frame.Frame object at 0x7f4ad253e4a8>, <src.frame.Frame object at 0x7f4ad253e588>, <src.frame.Frame object at 0x7f4ad253e240>, <src.frame.Frame object at 0x7f4ad253e780>, <src.frame.Frame object at 0x7f4ad253e390>, <src.frame.Frame object at 0x7f4ad253e080>, <src.frame.Frame object at 0x7f4ad253e0f0>, <src.frame.Frame object at 0x7f4ad253e198>, <src.frame.Frame object at 0x7f4ad253e0b8>, <src.frame.Frame object at 0x7f4ad253e668>, <src.frame.Frame object at 0x7f4ad253e2b0>, <src.frame.Frame object at 0x7f4ad253e278>, <src.frame.Frame object at 0x7f4ad253e400>, <src.frame.Frame object at 0x7f4ad253e2e8>, <src.frame.Frame object at 0x7f4ad253e048>, <src.frame.Frame object at 0x7f4a47ed5710>, <src.frame.Frame object at 0x7f4a7821b3c8>, <src.frame.Frame object at 0x7f4a7808d080>, <src.frame.Frame object at 0x7f4a7808d0b8>, <src.frame.Frame object at 0x7f4a7808d400>, <src.frame.Frame object at 0x7f4a7808d1d0>, <src.frame.Frame object at 0x7f4a7808d748>, <src.frame.Frame object at 0x7f4a7808d358>, <src.frame.Frame object at 0x7f4a7808d5c0>, <src.frame.Frame object at 0x7f4a7808d2e8>, <src.frame.Frame object at 0x7f4a7808d7f0>, <src.frame.Frame object at 0x7f4a7808da20>, <src.frame.Frame object at 0x7f4a7808d978>, <src.frame.Frame object at 0x7f4a7808d780>, <src.frame.Frame object at 0x7f4a7808da58>, <src.frame.Frame object at 0x7f4a7808d8d0>, <src.frame.Frame object at 0x7f4a7808d9b0>, <src.frame.Frame object at 0x7f4a7808dba8>, <src.frame.Frame object at 0x7f4a7808dcf8>, <src.frame.Frame object at 0x7f4a7808de48>, <src.frame.Frame object at 0x7f4a7808d128>, <src.frame.Frame object at 0x7f4a7808d198>, <src.frame.Frame object at 0x7f4a7808d438>, <src.frame.Frame object at 0x7f4a7808dcc0>, <src.frame.Frame object at 0x7f4a7808de80>, <src.frame.Frame object at 0x7f4a7808d048>, <src.frame.Frame object at 0x7f4a7808ddd8>, <src.frame.Frame object at 0x7f4a7808df98>, <src.frame.Frame object at 0x7f4a7808d4e0>, <src.frame.Frame object at 0x7f4a7808d240>, <src.frame.Frame object at 0x7f4a7808d908>, <src.frame.Frame object at 0x7f4a7808dac8>, <src.frame.Frame object at 0x7f4a7808d710>, <src.frame.Frame object at 0x7f4a7808d550>, <src.frame.Frame object at 0x7f4a7808d630>, <src.frame.Frame object at 0x7f4a7808d470>, <src.frame.Frame object at 0x7f4a7808d588>, <src.frame.Frame object at 0x7f4a7808dda0>, <src.frame.Frame object at 0x7f4a7808dc88>, <src.frame.Frame object at 0x7f4a7808db38>, <src.frame.Frame object at 0x7f4a7808db70>, <src.frame.Frame object at 0x7f4a7808de10>, <src.frame.Frame object at 0x7f4a7808da90>, <src.frame.Frame object at 0x7f4a7808db00>, <src.frame.Frame object at 0x7f4a7808d9e8>, <src.frame.Frame object at 0x7f4a7808df28>, <src.frame.Frame object at 0x7f4a7808dbe0>, <src.frame.Frame object at 0x7f4a7808dc50>, <src.frame.Frame object at 0x7f4a78085278>, <src.frame.Frame object at 0x7f4a780856a0>, <src.frame.Frame object at 0x7f4a780858d0>, <src.frame.Frame object at 0x7f4a78085940>, <src.frame.Frame object at 0x7f4a78085748>, <src.frame.Frame object at 0x7f4a780859b0>, <src.frame.Frame object at 0x7f4a78085c50>, <src.frame.Frame object at 0x7f4a780850b8>, <src.frame.Frame object at 0x7f4a78085978>, <src.frame.Frame object at 0x7f4a78085ef0>, <src.frame.Frame object at 0x7f4a78085550>, <src.frame.Frame object at 0x7f4a78085208>, <src.frame.Frame object at 0x7f4a78085198>, <src.frame.Frame object at 0x7f4a78085240>, <src.frame.Frame object at 0x7f4a780850f0>, <src.frame.Frame object at 0x7f4a78085128>, <src.frame.Frame object at 0x7f4a780857b8>, <src.frame.Frame object at 0x7f4a780852b0>, <src.frame.Frame object at 0x7f4a78085470>, <src.frame.Frame object at 0x7f4a780854a8>, <src.frame.Frame object at 0x7f4a78085320>, <src.frame.Frame object at 0x7f4a780855f8>, <src.frame.Frame object at 0x7f4a78085630>, <src.frame.Frame object at 0x7f4a780856d8>, <src.frame.Frame object at 0x7f4a78085828>, <src.frame.Frame object at 0x7f4a78085518>, <src.frame.Frame object at 0x7f4a780854e0>, <src.frame.Frame object at 0x7f4a780859e8>, <src.frame.Frame object at 0x7f4a78085860>, <src.frame.Frame object at 0x7f4a780852e8>, <src.frame.Frame object at 0x7f4a78085358>, <src.frame.Frame object at 0x7f4a78085a20>, <src.frame.Frame object at 0x7f4a78085be0>, <src.frame.Frame object at 0x7f4a78085cc0>, <src.frame.Frame object at 0x7f4a78085e10>, <src.frame.Frame object at 0x7f4a78085e80>, <src.frame.Frame object at 0x7f4a78085eb8>, <src.frame.Frame object at 0x7f4a78085cf8>, <src.frame.Frame object at 0x7f4a78085fd0>, <src.frame.Frame object at 0x7f4a78085c18>, <src.frame.Frame object at 0x7f4a78085da0>, <src.frame.Frame object at 0x7f4a78085c88>, <src.frame.Frame object at 0x7f4a78085668>, <src.frame.Frame object at 0x7f4a78085ac8>, <src.frame.Frame object at 0x7f4a7806a160>, <src.frame.Frame object at 0x7f4a7806a470>, <src.frame.Frame object at 0x7f4a7806a4e0>, <src.frame.Frame object at 0x7f4a7806a198>, <src.frame.Frame object at 0x7f4a7806a278>, <src.frame.Frame object at 0x7f4a7806a6a0>, <src.frame.Frame object at 0x7f4a7806a748>, <src.frame.Frame object at 0x7f4a7806a518>, <src.frame.Frame object at 0x7f4a7806a780>, <src.frame.Frame object at 0x7f4a7806a860>, <src.frame.Frame object at 0x7f4a7806ab38>, <src.frame.Frame object at 0x7f4a7806acf8>, <src.frame.Frame object at 0x7f4a7806ae10>, <src.frame.Frame object at 0x7f4a7806ac18>, <src.frame.Frame object at 0x7f4a7806a908>, <src.frame.Frame object at 0x7f4a7806a9e8>, <src.frame.Frame object at 0x7f4a7806aac8>, <src.frame.Frame object at 0x7f4a7806a9b0>, <src.frame.Frame object at 0x7f4a7806af60>, <src.frame.Frame object at 0x7f4a7806a320>, <src.frame.Frame object at 0x7f4a7806a438>, <src.frame.Frame object at 0x7f4a7806a4a8>, <src.frame.Frame object at 0x7f4a7806a400>, <src.frame.Frame object at 0x7f4a7806afd0>, <src.frame.Frame object at 0x7f4a7806a128>, <src.frame.Frame object at 0x7f4a7806a2b0>, <src.frame.Frame object at 0x7f4a7806a080>, <src.frame.Frame object at 0x7f4a7806a828>, <src.frame.Frame object at 0x7f4a7806a6d8>, <src.frame.Frame object at 0x7f4a7806a5c0>, <src.frame.Frame object at 0x7f4a7806a898>, <src.frame.Frame object at 0x7f4a7806abe0>, <src.frame.Frame object at 0x7f4a7806ad68>, <src.frame.Frame object at 0x7f4a7806add8>, <src.frame.Frame object at 0x7f4a7806ab70>, <src.frame.Frame object at 0x7f4a7806a8d0>, <src.frame.Frame object at 0x7f4a7806aa20>, <src.frame.Frame object at 0x7f4a7806a668>, <src.frame.Frame object at 0x7f4a7806ae80>, <src.frame.Frame object at 0x7f4a7806aeb8>, <src.frame.Frame object at 0x7f4a7806af28>, <src.frame.Frame object at 0x7f4a7806af98>, <src.frame.Frame object at 0x7f4a7806aef0>, <src.frame.Frame object at 0x7f4a780992b0>, <src.frame.Frame object at 0x7f4a780991d0>, <src.frame.Frame object at 0x7f4a78099c18>, <src.frame.Frame object at 0x7f4a78099400>, <src.frame.Frame object at 0x7f4a780997b8>, <src.frame.Frame object at 0x7f4a78099be0>, <src.frame.Frame object at 0x7f4a780998d0>, <src.frame.Frame object at 0x7f4a78099a20>, <src.frame.Frame object at 0x7f4a78099a90>, <src.frame.Frame object at 0x7f4a78099940>, <src.frame.Frame object at 0x7f4a78099550>, <src.frame.Frame object at 0x7f4a780995f8>, <src.frame.Frame object at 0x7f4a78099588>, <src.frame.Frame object at 0x7f4a78099128>, <src.frame.Frame object at 0x7f4a78099da0>, <src.frame.Frame object at 0x7f4a78099e80>, <src.frame.Frame object at 0x7f4a78099160>, <src.frame.Frame object at 0x7f4a78099198>, <src.frame.Frame object at 0x7f4a78099278>, <src.frame.Frame object at 0x7f4a78099f28>, <src.frame.Frame object at 0x7f4a78099080>, <src.frame.Frame object at 0x7f4a781163c8>, <src.frame.Frame object at 0x7f4a78116358>, <src.frame.Frame object at 0x7f4a78116400>, <src.frame.Frame object at 0x7f4a78116a90>, <src.frame.Frame object at 0x7f4a78116470>, <src.frame.Frame object at 0x7f4a78116908>, <src.frame.Frame object at 0x7f4a78116240>, <src.frame.Frame object at 0x7f4a78116c88>, <src.frame.Frame object at 0x7f4a78116be0>, <src.frame.Frame object at 0x7f4a78116cf8>, <src.frame.Frame object at 0x7f4a78116ac8>, <src.frame.Frame object at 0x7f4a78116b70>, <src.frame.Frame object at 0x7f4a78116f98>, <src.frame.Frame object at 0x7f4a78116a58>, <src.frame.Frame object at 0x7f4a78116f28>, <src.frame.Frame object at 0x7f4a78116e80>, <src.frame.Frame object at 0x7f4a78116da0>, <src.frame.Frame object at 0x7f4a78116dd8>, <src.frame.Frame object at 0x7f4a78116eb8>, <src.frame.Frame object at 0x7f4a78116f60>, <src.frame.Frame object at 0x7f4a78116d68>, <src.frame.Frame object at 0x7f4a78116d30>, <src.frame.Frame object at 0x7f4a78116e48>, <src.frame.Frame object at 0x7f4a78116e10>, <src.frame.Frame object at 0x7f4a78116ef0>, <src.frame.Frame object at 0x7f4a78116fd0>] \n",
      "\n",
      "Keyframes numpy \n",
      " [[  1.00000000e+00   0.00000000e+00   0.00000000e+00 ...,   0.00000000e+00\n",
      "    0.00000000e+00   1.00000000e+00]\n",
      " [  9.99978553e-01  -3.93679436e-04   6.53745681e-03 ...,   0.00000000e+00\n",
      "    0.00000000e+00   1.00000000e+00]\n",
      " [  1.00000000e+00   0.00000000e+00   0.00000000e+00 ...,   0.00000000e+00\n",
      "    0.00000000e+00   1.00000000e+00]\n",
      " ..., \n",
      " [  9.99253220e-01  -3.34536934e-02   1.93352886e-02 ...,   0.00000000e+00\n",
      "    0.00000000e+00   1.00000000e+00]\n",
      " [  9.99239914e-01  -3.38986275e-02   1.92477725e-02 ...,   0.00000000e+00\n",
      "    0.00000000e+00   1.00000000e+00]\n",
      " [  9.99239283e-01  -3.39478187e-02   1.91937634e-02 ...,   0.00000000e+00\n",
      "    0.00000000e+00   1.00000000e+00]] \n",
      "\n",
      "mappoints len \n",
      " 65544 \n",
      "\n",
      "Fixed Keyframes \n",
      " [] \n",
      "\n",
      "Keyframes before BA \n",
      " [[  1.00000000e+00   0.00000000e+00   0.00000000e+00 ...,   0.00000000e+00\n",
      "    0.00000000e+00   1.00000000e+00]\n",
      " [  9.99978553e-01  -3.93679436e-04   6.53745681e-03 ...,   0.00000000e+00\n",
      "    0.00000000e+00   1.00000000e+00]\n",
      " [  1.00000000e+00   0.00000000e+00   0.00000000e+00 ...,   0.00000000e+00\n",
      "    0.00000000e+00   1.00000000e+00]\n",
      " ..., \n",
      " [  9.99253220e-01  -3.34536934e-02   1.93352886e-02 ...,   0.00000000e+00\n",
      "    0.00000000e+00   1.00000000e+00]\n",
      " [  9.99239914e-01  -3.38986275e-02   1.92477725e-02 ...,   0.00000000e+00\n",
      "    0.00000000e+00   1.00000000e+00]\n",
      " [  9.99239283e-01  -3.39478187e-02   1.91937634e-02 ...,   0.00000000e+00\n",
      "    0.00000000e+00   1.00000000e+00]] \n",
      "\n",
      "1101 \n",
      "\n"
     ]
    },
    {
     "name": "stdout",
     "output_type": "stream",
     "text": [
      "Keyframes after BA \n",
      " [[  1.00000000e+00   0.00000000e+00   0.00000000e+00 ...,   0.00000000e+00\n",
      "    0.00000000e+00   1.00000000e+00]\n",
      " [  9.99975222e-01  -3.88376176e-04   7.02881267e-03 ...,   0.00000000e+00\n",
      "    0.00000000e+00   1.00000000e+00]\n",
      " [  9.99999723e-01  -5.59755964e-06   7.43922544e-04 ...,   0.00000000e+00\n",
      "    0.00000000e+00   1.00000000e+00]\n",
      " ..., \n",
      " [  9.99334314e-01  -3.30312006e-02   1.54876695e-02 ...,   0.00000000e+00\n",
      "    0.00000000e+00   1.00000000e+00]\n",
      " [  9.99336236e-01  -3.33917894e-02   1.45628265e-02 ...,   0.00000000e+00\n",
      "    0.00000000e+00   1.00000000e+00]\n",
      " [  9.99318585e-01  -3.35355426e-02   1.54186026e-02 ...,   0.00000000e+00\n",
      "    0.00000000e+00   1.00000000e+00]] \n",
      "\n"
     ]
    }
   ],
   "source": [
    "\n",
    "print('Keyframes count\\n', (len(seq.keyframes)), '\\n')\n",
    "\n",
    "def keyframes_to_np(keyframes):\n",
    "    return np.hstack([ [ [ kf.keyframeid] for kf in keyframes ], [ [kf.frameid] for kf in keyframes ], [ kf.get_world_pose().flatten() for kf in keyframes ] ])\n",
    "\n",
    "def mappoints_to_np(mappoints):\n",
    "    kfp = np.hstack([ [ [m.id] for m in mappoints ], [ m.get_cumulative_world_pose() for m in mappoints  ] ])\n",
    "    return kfp\n",
    "\n",
    "# count = 10\n",
    "# poses = np.array([ np.eye(4) for f in seq.keyframes[:count] ])\n",
    "# observations = [ (m.get_last_observation(), m) for m in get_mappoints( seq.keyframes[:count]) ]\n",
    "# print(poses)\n",
    "# obs = [o[0].get_affine_coords() for o in observations ]\n",
    "                \n",
    "\n",
    "# for i in range(count):\n",
    "#     pose = seq.keyframes[i].get_pose()\n",
    "#     print(\"old pose \", \"\\n\" , pose)\n",
    "#     for j in range(count-i):\n",
    "#         newPose = np.dot( pose, poses[j] )\n",
    "#         print(\"new pose \", \"\\n\" , newPose, \"\\n\", \"end\")\n",
    "        \n",
    "#         poses[j] = np.dot( pose, poses[j] )\n",
    "#         for k, o in enumerate(observations):\n",
    "#             if o[0].frame == seq.keyframes[i]:\n",
    "#                 obs[k] = np.dot(obs[k], pose)\n",
    "#                 o[1].cumulative_world_pose = obs[k]\n",
    "\n",
    "# print(\"obswrvation\", \"\\n\", mappoints_ob_to_np(observations))             \n",
    "                \n",
    "# for i in range(len(seq.keyframes)):\n",
    "    \n",
    "#     f = seq.keyframes[i]\n",
    "#     pose = f.get_pose()\n",
    "    \n",
    "#     if i > 0:\n",
    "#         f.cumulative_pose = np.dot(seq.keyframes[i-1].cumulative_pose, pose)\n",
    "#     else:\n",
    "#         f.cumulative_pose = pose\n",
    "                \n",
    "                \n",
    "\n",
    "cv_keyframes = seq.keyframes\n",
    "mappoints = get_mappoints(cv_keyframes)\n",
    "f_keyframes = get_fixed_keyframes(mappoints, cv_keyframes)\n",
    "\n",
    "cv_keyframes_np = keyframes_to_np(cv_keyframes)\n",
    "f_keyframes_np = keyframes_to_np(f_keyframes)\n",
    "mappoints_np = mappoints_to_np(mappoints)\n",
    "links_np = links_to_np(mappoints)\n",
    "\n",
    "\n",
    "f_keyframes = np.asfortranarray(f_keyframes_np)\n",
    "cv_keyframes_BA = np.asfortranarray(cv_keyframes_np)\n",
    "mappoints = np.asfortranarray(mappoints_np)\n",
    "links = np.array(links_np, order='f')\n",
    "\n",
    "print('Keyframes numpy \\n', (cv_keyframes_BA[:, 2 :]), '\\n')\n",
    "print('Keyframes numpy \\n', (mappoints[:]), '\\n')\n",
    "# np.set_printoptions(threshold=np.nan)\n",
    "\n",
    "print('mappoints count  \\n', (len(mappoints[:]), '\\n') )\n",
    "print('mappoints \\n', (mappoints[:]), '\\n')\n",
    "\n",
    "\n",
    "print('links count  \\n', (len(links[:]), '\\n') )\n",
    "print('links \\n', (links[:]), '\\n')\n",
    "\n",
    "\n",
    "print('Keyframes \\n', (cv_keyframes), '\\n')\n",
    "print('Keyframes numpy \\n', (cv_keyframes_np[:, 2 :]), '\\n')\n",
    "print('mappoints len \\n', len(mappoints_np), '\\n')\n",
    "print('Fixed Keyframes \\n',f_keyframes[:], '\\n')\n",
    "# print( keyframes_to_np( [seq.keyframes[1]]  )[:, 2 :] , '\\n')\n",
    "\n",
    "\n",
    "print('Keyframes before BA \\n', (cv_keyframes_BA[: , 2:]), '\\n')\n",
    "print(len(cv_keyframes_BA), '\\n')\n",
    "\n",
    "result =  urbg2o.fullBundleAdjustment(cv_keyframes_BA, mappoints, links)\n",
    "\n",
    "print('Keyframes after BA \\n', (cv_keyframes_BA[: , 2:]), '\\n')\n",
    "\n",
    "\n",
    "\n",
    "\n",
    "\n",
    "# print(cv_keyframes[:, 0 :], '\\n')\n",
    "\n",
    "np_matrix_values =  cv_keyframes_np[:,2 :]\n",
    "\n",
    "\n",
    "# draw seq.keyframes\n",
    "\n",
    "# array_value = []\n",
    "# for i in range(0, len(keyframes_to_np(seq.keyframes)[:,2 :]) ):\n",
    "#     array_value.append(  np.split(keyframes_to_np(seq.keyframes)[:,2 :][i], 4 )  )\n",
    "# np_array_value = np.array(array_value)\n",
    "\n",
    "# points = transform( np_array_value )\n",
    "# coords = plot_trajectory3(points)\n",
    "# p = draw(coords, new_image())\n",
    "# show(p)\n",
    "\n",
    "\n",
    "\n",
    "#old points \n",
    "# array_value = []\n",
    "# for i in range(0, len(np_matrix_values) ):\n",
    "#     array_value.append(  np.split(np_matrix_values[i], 4 )  )\n",
    "# np_array_value = np.array(array_value)\n",
    "\n",
    "# points = transform( np_array_value )\n",
    "# coords = plot_trajectory3(points)\n",
    "# p = draw(coords, new_image())\n",
    "# show(p)\n",
    "\n",
    "# #new points\n",
    "\n",
    "# start_array_value = []\n",
    "# for i in range(0, len(cv_keyframes_BA[:,2 :] ) ):\n",
    "#     start_array_value.append(  np.split(cv_keyframes_BA[:,2 :][i], 4 )  )\n",
    "# start_array_value = np.array(start_array_value)\n",
    "\n",
    "# points_start = transform( start_array_value )\n",
    "# coords_start = plot_trajectory3(points_start)\n",
    "# p_start = draw(coords_start, new_image())\n",
    "# show(p_start)\n",
    "\n",
    "\n",
    "# keyframes_np_MO = keyframes_to_np(seq.keyframes)\n",
    "\n",
    "np.save('cv_keyframes', cv_keyframes_BA)\n",
    "np.save('f_keyframes', f_keyframes_np)\n",
    "np.save('mappoints', mappoints_np)\n",
    "np.save('links', links_np)\n"
   ]
  },
  {
   "cell_type": "code",
   "execution_count": 36,
   "metadata": {},
   "outputs": [
    {
     "data": {
      "text/plain": [
       "array([[  0.00000000e+00,   5.56500000e+03,   1.00000000e+00,\n",
       "          0.00000000e+00,   0.00000000e+00,   0.00000000e+00,\n",
       "          0.00000000e+00,   1.00000000e+00,   0.00000000e+00,\n",
       "          0.00000000e+00,   0.00000000e+00,   0.00000000e+00,\n",
       "          1.00000000e+00,   0.00000000e+00,   0.00000000e+00,\n",
       "          0.00000000e+00,   0.00000000e+00,   1.00000000e+00],\n",
       "       [  1.00000000e+00,   5.56600000e+03,   9.99975222e-01,\n",
       "         -3.88376176e-04,   7.02881267e-03,   6.38950501e-03,\n",
       "          3.92309838e-04,   9.99999767e-01,  -5.58278119e-04,\n",
       "         -1.25789186e-03,  -7.02859421e-03,   5.61021759e-04,\n",
       "          9.99975142e-01,  -9.15204578e-02,   0.00000000e+00,\n",
       "          0.00000000e+00,   0.00000000e+00,   1.00000000e+00],\n",
       "       [  2.00000000e+00,   5.56700000e+03,   9.99999723e-01,\n",
       "         -5.59755964e-06,   7.43922544e-04,   4.00586921e-06,\n",
       "          5.81400753e-06,   9.99999958e-01,  -2.90953031e-04,\n",
       "          4.12205479e-06,  -7.43920884e-04,   2.90957276e-04,\n",
       "          9.99999681e-01,  -2.86107975e-05,   0.00000000e+00,\n",
       "          0.00000000e+00,   0.00000000e+00,   1.00000000e+00],\n",
       "       [  3.00000000e+00,   5.56800000e+03,   9.99968348e-01,\n",
       "         -2.62962917e-04,   7.95201760e-03,   9.39388499e-03,\n",
       "          2.59271470e-04,   9.99999858e-01,   4.65242524e-04,\n",
       "          1.19400036e-03,  -7.95213882e-03,  -4.63166067e-04,\n",
       "          9.99968274e-01,  -9.67321096e-02,   0.00000000e+00,\n",
       "          0.00000000e+00,   0.00000000e+00,   1.00000000e+00],\n",
       "       [  4.00000000e+00,   5.56900000e+03,   9.99856885e-01,\n",
       "         -1.03521690e-03,   1.68860464e-02,   2.14956374e-02,\n",
       "          1.00311895e-03,   9.99997674e-01,   1.90921581e-03,\n",
       "          2.81691900e-03,  -1.68879836e-02,  -1.89200386e-03,\n",
       "          9.99855598e-01,  -2.01243902e-01,   0.00000000e+00,\n",
       "          0.00000000e+00,   0.00000000e+00,   1.00000000e+00],\n",
       "       [  5.00000000e+00,   5.57000000e+03,   9.99612875e-01,\n",
       "         -1.19996171e-03,   2.77967488e-02,   3.85897069e-02,\n",
       "          1.10035351e-03,   9.99992920e-01,   3.59846683e-03,\n",
       "          2.10637067e-03,  -2.78008700e-02,  -3.56648753e-03,\n",
       "          9.99607119e-01,  -3.15003798e-01,   0.00000000e+00,\n",
       "          0.00000000e+00,   0.00000000e+00,   1.00000000e+00],\n",
       "       [  6.00000000e+00,   5.57100000e+03,   9.99153433e-01,\n",
       "         -1.19839694e-03,   4.11215447e-02,   5.00807568e-02,\n",
       "          1.01298728e-03,   9.99989229e-01,   4.52936096e-03,\n",
       "          2.27937021e-03,  -4.11265298e-02,  -4.48387095e-03,\n",
       "          9.99143885e-01,  -4.42925045e-01,   0.00000000e+00,\n",
       "          0.00000000e+00,   0.00000000e+00,   1.00000000e+00],\n",
       "       [  7.00000000e+00,   5.57200000e+03,   9.98357490e-01,\n",
       "         -1.14762087e-03,   5.72800596e-02,   6.05475692e-02,\n",
       "          8.85173835e-04,   9.99988996e-01,   4.60698398e-03,\n",
       "          2.00186344e-03,  -5.72847163e-02,  -4.54871415e-03,\n",
       "          9.98347520e-01,  -5.84723306e-01,   0.00000000e+00,\n",
       "          0.00000000e+00,   0.00000000e+00,   1.00000000e+00],\n",
       "       [  8.00000000e+00,   5.57300000e+03,   9.97161555e-01,\n",
       "          5.44311458e-04,   7.52896848e-02,   7.57768804e-02,\n",
       "         -8.89957929e-04,   9.99989219e-01,   4.55741373e-03,\n",
       "          2.53831874e-03,  -7.52863924e-02,  -4.61148242e-03,\n",
       "          9.97151289e-01,  -7.36798475e-01,   0.00000000e+00,\n",
       "          0.00000000e+00,   0.00000000e+00,   1.00000000e+00],\n",
       "       [  9.00000000e+00,   5.57400000e+03,   9.95513993e-01,\n",
       "          1.75135401e-03,   9.45982121e-02,   8.99971734e-02,\n",
       "         -2.20040076e-03,   9.99986801e-01,   4.64278180e-03,\n",
       "          5.12827937e-03,  -9.45888324e-02,  -4.83010823e-03,\n",
       "          9.95504708e-01,  -8.98602314e-01,   0.00000000e+00,\n",
       "          0.00000000e+00,   0.00000000e+00,   1.00000000e+00],\n",
       "       [  1.00000000e+01,   5.57500000e+03,   9.93208453e-01,\n",
       "          1.80119902e-03,   1.16334539e-01,   1.00600820e-01,\n",
       "         -2.38229492e-03,   9.99985371e-01,   4.85619136e-03,\n",
       "          8.07752250e-03,  -1.16324090e-01,  -5.10035349e-03,\n",
       "          9.93198214e-01,  -1.07428846e+00,   0.00000000e+00,\n",
       "          0.00000000e+00,   0.00000000e+00,   1.00000000e+00],\n",
       "       [  1.10000000e+01,   5.57600000e+03,   9.90131480e-01,\n",
       "         -2.43728268e-03,   1.40120348e-01,   1.11948966e-01,\n",
       "          1.57836308e-03,   9.99979281e-01,   6.24067256e-03,\n",
       "          1.25008350e-02,  -1.40132655e-01,  -5.95792557e-03,\n",
       "          9.90114813e-01,  -1.26039556e+00,   0.00000000e+00,\n",
       "          0.00000000e+00,   0.00000000e+00,   1.00000000e+00],\n",
       "       [  1.20000000e+01,   5.57700000e+03,   9.86253310e-01,\n",
       "         -7.12687213e-03,   1.65086691e-01,   1.21349341e-01,\n",
       "          5.86642561e-03,   9.99949813e-01,   8.12138619e-03,\n",
       "          1.40347454e-02,  -1.65136286e-01,  -7.04127522e-03,\n",
       "          9.86245622e-01,  -1.45388797e+00,   0.00000000e+00,\n",
       "          0.00000000e+00,   0.00000000e+00,   1.00000000e+00],\n",
       "       [  1.30000000e+01,   5.57800000e+03,   9.81431770e-01,\n",
       "         -1.02369149e-02,   1.91538209e-01,   1.23208831e-01,\n",
       "          8.55172144e-03,   9.99917131e-01,   9.62280842e-03,\n",
       "          1.47522248e-02,  -1.91620845e-01,  -7.80614849e-03,\n",
       "          9.81437984e-01,  -1.66021413e+00,   0.00000000e+00,\n",
       "          0.00000000e+00,   0.00000000e+00,   1.00000000e+00],\n",
       "       [  1.40000000e+01,   5.57900000e+03,   9.75284909e-01,\n",
       "         -1.16260051e-02,   2.20644924e-01,   1.11950782e-01,\n",
       "          9.58011813e-03,   9.99900646e-01,   1.03401669e-02,\n",
       "          1.77388153e-02,  -2.20743217e-01,  -7.97080430e-03,\n",
       "          9.75299389e-01,  -1.85132210e+00,   0.00000000e+00,\n",
       "          0.00000000e+00,   0.00000000e+00,   1.00000000e+00],\n",
       "       [  1.50000000e+01,   5.58000000e+03,   9.67916776e-01,\n",
       "         -1.37508028e-02,   2.50894462e-01,   9.82741494e-02,\n",
       "          1.14235367e-02,   9.99877178e-01,   1.07299342e-02,\n",
       "          1.94334298e-02,  -2.51011191e-01,  -7.51958119e-03,\n",
       "          9.67954977e-01,  -2.05845647e+00,   0.00000000e+00,\n",
       "          0.00000000e+00,   0.00000000e+00,   1.00000000e+00],\n",
       "       [  1.60000000e+01,   5.58100000e+03,   9.59184801e-01,\n",
       "         -1.53706846e-02,   2.82361929e-01,   7.72120173e-02,\n",
       "          1.28432719e-02,   9.99859198e-01,   1.07997885e-02,\n",
       "          1.68629141e-02,  -2.82488172e-01,  -6.73254194e-03,\n",
       "          9.59247156e-01,  -2.27399873e+00,   0.00000000e+00,\n",
       "          0.00000000e+00,   0.00000000e+00,   1.00000000e+00],\n",
       "       [  1.70000000e+01,   5.58200000e+03,   9.48720215e-01,\n",
       "         -1.74262812e-02,   3.15636306e-01,   4.76946938e-02,\n",
       "          1.48178835e-02,   9.99833361e-01,   1.06621186e-02,\n",
       "          2.01478814e-02,  -3.15769510e-01,  -5.43830542e-03,\n",
       "          9.48820342e-01,  -2.49624350e+00,   0.00000000e+00,\n",
       "          0.00000000e+00,   0.00000000e+00,   1.00000000e+00],\n",
       "       [  1.80000000e+01,   5.58300000e+03,   9.37004399e-01,\n",
       "         -1.98184926e-02,   3.48754905e-01,   1.02452274e-02,\n",
       "          1.68538179e-02,   9.99791445e-01,   1.15331938e-02,\n",
       "          2.09232480e-02,  -3.48910741e-01,  -4.92880169e-03,\n",
       "          9.37143000e-01,  -2.70928749e+00,   0.00000000e+00,\n",
       "          0.00000000e+00,   0.00000000e+00,   1.00000000e+00],\n",
       "       [  1.90000000e+01,   5.58400000e+03,   9.23922236e-01,\n",
       "         -2.25303953e-02,   3.81916330e-01,  -3.44600315e-02,\n",
       "          1.92265812e-02,   9.99737446e-01,   1.24650704e-02,\n",
       "          1.88126648e-02,  -3.82096899e-01,  -4.17381036e-03,\n",
       "          9.24112839e-01,  -2.92484531e+00,   0.00000000e+00,\n",
       "          0.00000000e+00,   0.00000000e+00,   1.00000000e+00],\n",
       "       [  2.00000000e+01,   5.58500000e+03,   9.08667274e-01,\n",
       "         -2.28557419e-02,   4.16894951e-01,  -9.22136203e-02,\n",
       "          1.89078258e-02,   9.99728768e-01,   1.35972386e-02,\n",
       "          1.59167067e-02,  -4.17092650e-01,  -4.47278862e-03,\n",
       "          9.08852967e-01,  -3.13964464e+00,   0.00000000e+00,\n",
       "          0.00000000e+00,   0.00000000e+00,   1.00000000e+00],\n",
       "       [  2.10000000e+01,   5.58600000e+03,   8.91043477e-01,\n",
       "         -1.95774320e-02,   4.53495585e-01,  -1.65775674e-01,\n",
       "          1.39773382e-02,   9.99779089e-01,   1.56973769e-02,\n",
       "          1.43117451e-02,  -4.53702718e-01,  -7.64838415e-03,\n",
       "          8.91120276e-01,  -3.35359305e+00,   0.00000000e+00,\n",
       "          0.00000000e+00,   0.00000000e+00,   1.00000000e+00],\n",
       "       [  2.20000000e+01,   5.58700000e+03,   8.70775660e-01,\n",
       "         -1.55510127e-02,   4.91434550e-01,  -2.51025327e-01,\n",
       "          8.07787508e-03,   9.99817278e-01,   1.73251029e-02,\n",
       "          1.27995948e-02,  -4.91614177e-01,  -1.11165310e-02,\n",
       "          8.70742169e-01,  -3.57641337e+00,   0.00000000e+00,\n",
       "          0.00000000e+00,   0.00000000e+00,   1.00000000e+00],\n",
       "       [  2.30000000e+01,   5.58800000e+03,   8.46750744e-01,\n",
       "         -1.46656732e-02,   5.31787642e-01,  -3.42074501e-01,\n",
       "          7.60466822e-03,   9.99851486e-01,   1.54652648e-02,\n",
       "          1.41099841e-02,  -5.31935473e-01,  -9.05115592e-03,\n",
       "          8.46736517e-01,  -3.80595937e+00,   0.00000000e+00,\n",
       "          0.00000000e+00,   0.00000000e+00,   1.00000000e+00],\n",
       "       [  2.40000000e+01,   5.58900000e+03,   8.18735794e-01,\n",
       "         -1.72756105e-02,   5.73910493e-01,  -4.36402195e-01,\n",
       "          1.18991186e-02,   9.99843104e-01,   1.31216728e-02,\n",
       "          1.94579304e-02,  -5.74047133e-01,  -3.91415414e-03,\n",
       "          8.18812902e-01,  -4.04007540e+00,   0.00000000e+00,\n",
       "          0.00000000e+00,   0.00000000e+00,   1.00000000e+00],\n",
       "       [  2.50000000e+01,   5.59000000e+03,   7.86951227e-01,\n",
       "         -1.96012275e-02,   6.16703785e-01,  -5.60660064e-01,\n",
       "          1.41331575e-02,   9.99805674e-01,   1.37429232e-02,\n",
       "          1.77840479e-02,  -6.16853322e-01,  -2.09903858e-03,\n",
       "          7.87075329e-01,  -4.28196501e+00,   0.00000000e+00,\n",
       "          0.00000000e+00,   0.00000000e+00,   1.00000000e+00],\n",
       "       [  2.60000000e+01,   5.59100000e+03,   7.51671848e-01,\n",
       "         -1.98173994e-02,   6.59239489e-01,  -7.03028767e-01,\n",
       "          1.30715040e-02,   9.99799776e-01,   1.51507154e-02,\n",
       "          1.95536230e-02,  -6.59407741e-01,  -2.77111464e-03,\n",
       "          7.51780388e-01,  -4.52075728e+00,   0.00000000e+00,\n",
       "          0.00000000e+00,   0.00000000e+00,   1.00000000e+00],\n",
       "       [  2.70000000e+01,   5.59200000e+03,   7.12332698e-01,\n",
       "         -1.57891217e-02,   7.01664329e-01,  -8.76390327e-01,\n",
       "          6.56041996e-03,   9.99853034e-01,   1.58389121e-02,\n",
       "          1.83945298e-02,  -7.01811291e-01,  -6.67936229e-03,\n",
       "          7.12331593e-01,  -4.75491491e+00,   0.00000000e+00,\n",
       "          0.00000000e+00,   0.00000000e+00,   1.00000000e+00],\n",
       "       [  2.80000000e+01,   5.59300000e+03,   6.70295123e-01,\n",
       "         -1.25958137e-02,   7.41987731e-01,  -1.06195973e+00,\n",
       "          7.73486625e-04,   9.99867258e-01,   1.62747669e-02,\n",
       "          1.78428747e-02,  -7.42094232e-01,  -1.03349793e-02,\n",
       "          6.70215889e-01,  -4.98661980e+00,   0.00000000e+00,\n",
       "          0.00000000e+00,   0.00000000e+00,   1.00000000e+00],\n",
       "       [  2.90000000e+01,   5.59400000e+03,   6.26049934e-01,\n",
       "         -1.00678055e-02,   7.79717974e-01,  -1.27340487e+00,\n",
       "         -2.47724850e-03,   9.99885925e-01,   1.48996671e-02,\n",
       "          1.70534227e-02,  -7.79779035e-01,  -1.12594908e-02,\n",
       "          6.25953577e-01,  -5.22313469e+00,   0.00000000e+00,\n",
       "          0.00000000e+00,   0.00000000e+00,   1.00000000e+00],\n",
       "       [  3.00000000e+01,   5.59500000e+03,   5.78835973e-01,\n",
       "         -7.78510221e-03,   8.15406836e-01,  -1.50492776e+00,\n",
       "         -4.71824547e-03,   9.99905712e-01,   1.28959654e-02,\n",
       "          1.10458411e-02,  -8.15430349e-01,  -1.13119383e-02,\n",
       "          5.78744663e-01,  -5.45865422e+00,   0.00000000e+00,\n",
       "          0.00000000e+00,   0.00000000e+00,   1.00000000e+00],\n",
       "       [  3.10000000e+01,   5.59600000e+03,   5.28452856e-01,\n",
       "         -6.48753548e-03,   8.48937860e-01,  -1.75799737e+00,\n",
       "         -6.07565673e-03,   9.99916294e-01,   1.14233221e-02,\n",
       "          7.91080718e-03,  -8.48940908e-01,  -1.11945422e-02,\n",
       "          5.28369205e-01,  -5.68403805e+00,   0.00000000e+00,\n",
       "          0.00000000e+00,   0.00000000e+00,   1.00000000e+00],\n",
       "       [  3.20000000e+01,   5.59700000e+03,   4.76432600e-01,\n",
       "         -5.98402479e-03,   8.79190633e-01,  -2.03696559e+00,\n",
       "         -5.87378431e-03,   9.99932859e-01,   9.98882951e-03,\n",
       "         -1.86971590e-03,  -8.79191377e-01,  -9.92318016e-03,\n",
       "          4.76365462e-01,  -5.90357681e+00,   0.00000000e+00,\n",
       "          0.00000000e+00,   0.00000000e+00,   1.00000000e+00],\n",
       "       [  3.30000000e+01,   5.59800000e+03,   4.22551202e-01,\n",
       "         -3.17538712e-03,   9.06333492e-01,  -2.33339969e+00,\n",
       "         -7.16260632e-03,   9.99950936e-01,   6.84273426e-03,\n",
       "         -6.57079577e-04,  -9.06310752e-01,  -9.38311558e-03,\n",
       "          4.22507726e-01,  -6.11329871e+00,   0.00000000e+00,\n",
       "          0.00000000e+00,   0.00000000e+00,   1.00000000e+00],\n",
       "       [  3.40000000e+01,   5.59900000e+03,   3.68125768e-01,\n",
       "         -1.89905321e-03,   9.29774065e-01,  -2.65690678e+00,\n",
       "         -6.80472352e-03,   9.99965630e-01,   4.73661525e-03,\n",
       "         -3.47173217e-03,  -9.29751104e-01,  -8.07052557e-03,\n",
       "          3.68100193e-01,  -6.30933914e+00,   0.00000000e+00,\n",
       "          0.00000000e+00,   0.00000000e+00,   1.00000000e+00],\n",
       "       [  3.50000000e+01,   5.60000000e+03,   3.14019292e-01,\n",
       "          1.32247867e-03,   9.49415681e-01,  -3.00520914e+00,\n",
       "         -7.34011095e-03,   9.99972526e-01,   1.03484083e-03,\n",
       "         -4.36723738e-04,  -9.49388228e-01,  -7.29377642e-03,\n",
       "          3.14020372e-01,  -6.49565167e+00,   0.00000000e+00,\n",
       "          0.00000000e+00,   0.00000000e+00,   1.00000000e+00],\n",
       "       [  3.60000000e+01,   5.60100000e+03,   2.61473293e-01,\n",
       "          4.57787615e-03,   9.65199855e-01,  -3.34061538e+00,\n",
       "         -9.68471385e-03,   9.99950857e-01,  -2.11910223e-03,\n",
       "          1.16048069e-02,  -9.65162123e-01,  -8.79359576e-03,\n",
       "          2.61504779e-01,  -6.65351631e+00,   0.00000000e+00,\n",
       "          0.00000000e+00,   0.00000000e+00,   1.00000000e+00],\n",
       "       [  3.70000000e+01,   5.60200000e+03,   2.11594253e-01,\n",
       "          5.53159592e-03,   9.77341943e-01,  -3.70474058e+00,\n",
       "         -1.01567776e-02,   9.99942430e-01,  -3.46057152e-03,\n",
       "          2.45320740e-02,  -9.77304820e-01,  -9.19440774e-03,\n",
       "          2.11638255e-01,  -6.79349160e+00,   0.00000000e+00,\n",
       "          0.00000000e+00,   0.00000000e+00,   1.00000000e+00],\n",
       "       [  3.80000000e+01,   5.60300000e+03,   1.65303694e-01,\n",
       "          4.75404804e-03,   9.86231255e-01,  -4.09180868e+00,\n",
       "         -5.76905325e-03,   9.99975935e-01,  -3.85334353e-03,\n",
       "          2.62876582e-02,  -9.86225840e-01,  -5.05264870e-03,\n",
       "          1.65327142e-01,  -6.92431875e+00,   0.00000000e+00,\n",
       "          0.00000000e+00,   0.00000000e+00,   1.00000000e+00],\n",
       "       [  3.90000000e+01,   5.60400000e+03,   1.24077512e-01,\n",
       "          3.51195695e-03,   9.92266314e-01,  -4.50244228e+00,\n",
       "         -8.25284371e-04,   9.99993756e-01,  -3.43610958e-03,\n",
       "          2.82438728e-02,  -9.92272185e-01,  -3.92557952e-04,\n",
       "          1.24079636e-01,  -7.04219650e+00,   0.00000000e+00,\n",
       "          0.00000000e+00,   0.00000000e+00,   1.00000000e+00],\n",
       "       [  4.00000000e+01,   5.60500000e+03,   8.68620728e-02,\n",
       "          1.48780089e-03,   9.96219236e-01,  -4.94446478e+00,\n",
       "          1.52427119e-03,   9.99997516e-01,  -1.62634738e-03,\n",
       "          2.90928355e-02,  -9.96219181e-01,   1.65977618e-03,\n",
       "          8.68595892e-02,  -7.13536083e+00,   0.00000000e+00,\n",
       "          0.00000000e+00,   0.00000000e+00,   1.00000000e+00],\n",
       "       [  4.10000000e+01,   5.60600000e+03,   5.29688333e-02,\n",
       "         -1.24647862e-03,   9.98595388e-01,  -5.40598050e+00,\n",
       "          1.97173552e-03,   9.99997402e-01,   1.14364123e-03,\n",
       "          3.27606301e-02,  -9.98594219e-01,   1.90838866e-03,\n",
       "          5.29711534e-02,  -7.20709871e+00,   0.00000000e+00,\n",
       "          0.00000000e+00,   0.00000000e+00,   1.00000000e+00],\n",
       "       [  4.20000000e+01,   5.60700000e+03,   2.22070791e-02,\n",
       "         -3.83139922e-03,   9.99746051e-01,  -5.88727472e+00,\n",
       "          2.28264804e-03,   9.99990244e-01,   3.78163124e-03,\n",
       "          3.71653727e-02,  -9.99750787e-01,   2.19808938e-03,\n",
       "          2.22156082e-02,  -7.26420442e+00,   0.00000000e+00,\n",
       "          0.00000000e+00,   0.00000000e+00,   1.00000000e+00],\n",
       "       [  4.30000000e+01,   5.60800000e+03,  -3.95158985e-03,\n",
       "         -5.72278847e-03,   9.99975817e-01,  -6.39002559e+00,\n",
       "          3.59453608e-03,   9.99977083e-01,   5.73700019e-03,\n",
       "          3.85940132e-02,  -9.99985732e-01,   3.61711942e-03,\n",
       "         -3.93092853e-03,  -7.30185499e+00,   0.00000000e+00,\n",
       "          0.00000000e+00,   0.00000000e+00,   1.00000000e+00],\n",
       "       [  4.40000000e+01,   5.60900000e+03,  -2.43947935e-02,\n",
       "         -7.87598285e-03,   9.99671377e-01,  -6.90420473e+00,\n",
       "          4.49805872e-03,   9.99957979e-01,   7.98800615e-03,\n",
       "          3.91081315e-02,  -9.99692283e-01,   4.69144632e-03,\n",
       "         -2.43583418e-02,  -7.32516007e+00,   0.00000000e+00,\n",
       "          0.00000000e+00,   0.00000000e+00,   1.00000000e+00],\n",
       "       [  4.50000000e+01,   5.61000000e+03,  -4.05746187e-02,\n",
       "         -8.81973764e-03,   9.99137584e-01,  -7.43799286e+00,\n",
       "          3.38667596e-03,   9.99954083e-01,   8.96447686e-03,\n",
       "          3.20675977e-02,  -9.99170772e-01,   3.74748546e-03,\n",
       "         -4.05428861e-02,  -7.32861030e+00,   0.00000000e+00,\n",
       "          0.00000000e+00,   0.00000000e+00,   1.00000000e+00],\n",
       "       [  4.60000000e+01,   5.61100000e+03,  -5.32981538e-02,\n",
       "         -8.49824421e-03,   9.98542481e-01,  -7.99980017e+00,\n",
       "          1.91419623e-03,   9.99961080e-01,   8.61248945e-03,\n",
       "          2.93933103e-02,  -9.98576809e-01,   2.37043604e-03,\n",
       "         -5.32798121e-02,  -7.32522514e+00,   0.00000000e+00,\n",
       "          0.00000000e+00,   0.00000000e+00,   1.00000000e+00],\n",
       "       [  4.70000000e+01,   5.61200000e+03,  -6.29753300e-02,\n",
       "         -7.32640655e-03,   9.97988192e-01,  -8.57183912e+00,\n",
       "          2.82075663e-03,   9.99967754e-01,   7.51893503e-03,\n",
       "          3.40020494e-02,  -9.98011098e-01,   3.28858923e-03,\n",
       "         -6.29526333e-02,  -7.30816177e+00,   0.00000000e+00,\n",
       "          0.00000000e+00,   0.00000000e+00,   1.00000000e+00],\n",
       "       [  4.80000000e+01,   5.61300000e+03,  -6.94758952e-02,\n",
       "         -5.73684876e-03,   9.97567135e-01,  -9.17407193e+00,\n",
       "          4.71067236e-03,   9.99970429e-01,   6.07874606e-03,\n",
       "          3.90195740e-02,  -9.97572508e-01,   5.12153825e-03,\n",
       "         -6.94468163e-02,  -7.29215992e+00,   0.00000000e+00,\n",
       "          0.00000000e+00,   0.00000000e+00,   1.00000000e+00],\n",
       "       [  4.90000000e+01,   5.61400000e+03,  -7.40409075e-02,\n",
       "         -4.68966002e-03,   9.97244178e-01,  -9.78499202e+00,\n",
       "          4.46639112e-03,   9.99977354e-01,   5.03412261e-03,\n",
       "          4.38917533e-02,  -9.97245203e-01,   4.82681355e-03,\n",
       "         -7.40182849e-02,  -7.25805553e+00,   0.00000000e+00,\n",
       "          0.00000000e+00,   0.00000000e+00,   1.00000000e+00]])"
      ]
     },
     "execution_count": 36,
     "metadata": {},
     "output_type": "execute_result"
    }
   ],
   "source": [
    "cv_keyframes_BA[:50]"
   ]
  },
  {
   "cell_type": "code",
   "execution_count": null,
   "metadata": {
    "collapsed": true
   },
   "outputs": [],
   "source": []
  }
 ],
 "metadata": {
  "kernelspec": {
   "display_name": "Python 3",
   "language": "python",
   "name": "python3"
  },
  "language_info": {
   "codemirror_mode": {
    "name": "ipython",
    "version": 3
   },
   "file_extension": ".py",
   "mimetype": "text/x-python",
   "name": "python",
   "nbconvert_exporter": "python",
   "pygments_lexer": "ipython3",
   "version": "3.6.1"
  }
 },
 "nbformat": 4,
 "nbformat_minor": 2
}
