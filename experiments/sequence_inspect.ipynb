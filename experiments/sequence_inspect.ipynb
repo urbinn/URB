{
 "cells": [
  {
   "cell_type": "markdown",
   "metadata": {},
   "source": [
    "# Match Kitti Sequence version 22-11\n",
    "\n",
    "Reads a sequence of stereo images as Frame. The Frames are scanned to identify FramePoints that are pixels that are at the top or botrom of vertical lines in the image. A patch is taken around each of the FramePoints in the left hand image, to match these to a patch in the right hand image and estimate the disparity/distance of the framePoint.\n",
    "\n",
    "A Sequence is created in which the first Frame is the KeyFrame. It's initial FramePoints are culled to keep only the points for which there is a confident estimate of its depth. The consecutive frames are used to track the KeyFrame's remaining FramePoints. Only a limited number of all framePoints will be found in the consecutive frames, mostly because nearby objects become larger quickly as we get closer. The matching FramePoints are given the same FramePointId as the corresponding point in the KeyFrame and its depth is estimated.\n",
    "\n",
    "The results are dumped into a folder 'dump', containing files 0.txt, 1.txt, etc. 0.txt contains the FramePoints as observed from the first frame, 1.txt form the second frame, etc. In these files, each row contains a single FramePoint with the values FramePointID, X, Y, Depth."
   ]
  },
  {
   "cell_type": "code",
   "execution_count": 1,
   "metadata": {
    "collapsed": true
   },
   "outputs": [],
   "source": [
    "# when you change a setting you have to restart the kernel (settings are only loaded once)\n",
    "import os\n",
    "os.environ['STEREO_CONFIDENCE'] = '1.6'\n",
    "os.environ['SEQUENCE_CONFIDENCE'] = '1.6'\n",
    "#os.environ['PATCH_SIZE'] = '17'\n",
    "\n",
    "import sys\n",
    "import builtins\n",
    "sys.path.append('..')\n",
<<<<<<< Updated upstream
    "builtins.SEQUENCE = 7\n",
=======
    "builtins.SEQUENCE = 0\n",
>>>>>>> Stashed changes
    "from src.kitti import *\n",
    "%matplotlib inline\n",
    "import numpy as np\n",
    "import glob"
   ]
  },
  {
   "cell_type": "markdown",
   "metadata": {},
   "source": [
    "Read the frames for KITTI sequence 00."
   ]
  },
  {
   "cell_type": "code",
   "execution_count": null,
   "metadata": {},
   "outputs": [
    {
<<<<<<< Updated upstream
     "ename": "NameError",
     "evalue": "name 'LEFTDIR' is not defined",
     "output_type": "error",
     "traceback": [
      "\u001b[0;31m---------------------------------------------------------------------------\u001b[0m",
      "\u001b[0;31mNameError\u001b[0m                                 Traceback (most recent call last)",
      "\u001b[0;32m<ipython-input-2-c7b5b6fdddda>\u001b[0m in \u001b[0;36m<module>\u001b[0;34m()\u001b[0m\n\u001b[0;32m----> 1\u001b[0;31m \u001b[0mget_ipython\u001b[0m\u001b[0;34m(\u001b[0m\u001b[0;34m)\u001b[0m\u001b[0;34m.\u001b[0m\u001b[0mrun_cell_magic\u001b[0m\u001b[0;34m(\u001b[0m\u001b[0;34m'time'\u001b[0m\u001b[0;34m,\u001b[0m \u001b[0;34m''\u001b[0m\u001b[0;34m,\u001b[0m \u001b[0;34m\"#LEFTDIR = '/data/urbinn/datasets/kitti/sequences/%02d/image_2'%SEQUENCE\\n#RIGHTDIR = '/data/urbinn/datasets/kitti/sequences/%02d/image_3'%SEQUENCE\\n\\nframe = []\\nfor filename in sorted(glob.glob(LEFTDIR + '/*')):\\n    left_frame = Frame(filename, RIGHTDIR)\\n    frame.append(left_frame)\"\u001b[0m\u001b[0;34m)\u001b[0m\u001b[0;34m\u001b[0m\u001b[0m\n\u001b[0m",
      "\u001b[0;32m/opt/jupyterhub/anaconda/lib/python3.6/site-packages/IPython/core/interactiveshell.py\u001b[0m in \u001b[0;36mrun_cell_magic\u001b[0;34m(self, magic_name, line, cell)\u001b[0m\n\u001b[1;32m   2113\u001b[0m             \u001b[0mmagic_arg_s\u001b[0m \u001b[0;34m=\u001b[0m \u001b[0mself\u001b[0m\u001b[0;34m.\u001b[0m\u001b[0mvar_expand\u001b[0m\u001b[0;34m(\u001b[0m\u001b[0mline\u001b[0m\u001b[0;34m,\u001b[0m \u001b[0mstack_depth\u001b[0m\u001b[0;34m)\u001b[0m\u001b[0;34m\u001b[0m\u001b[0m\n\u001b[1;32m   2114\u001b[0m             \u001b[0;32mwith\u001b[0m \u001b[0mself\u001b[0m\u001b[0;34m.\u001b[0m\u001b[0mbuiltin_trap\u001b[0m\u001b[0;34m:\u001b[0m\u001b[0;34m\u001b[0m\u001b[0m\n\u001b[0;32m-> 2115\u001b[0;31m                 \u001b[0mresult\u001b[0m \u001b[0;34m=\u001b[0m \u001b[0mfn\u001b[0m\u001b[0;34m(\u001b[0m\u001b[0mmagic_arg_s\u001b[0m\u001b[0;34m,\u001b[0m \u001b[0mcell\u001b[0m\u001b[0;34m)\u001b[0m\u001b[0;34m\u001b[0m\u001b[0m\n\u001b[0m\u001b[1;32m   2116\u001b[0m             \u001b[0;32mreturn\u001b[0m \u001b[0mresult\u001b[0m\u001b[0;34m\u001b[0m\u001b[0m\n\u001b[1;32m   2117\u001b[0m \u001b[0;34m\u001b[0m\u001b[0m\n",
      "\u001b[0;32m<decorator-gen-59>\u001b[0m in \u001b[0;36mtime\u001b[0;34m(self, line, cell, local_ns)\u001b[0m\n",
      "\u001b[0;32m/opt/jupyterhub/anaconda/lib/python3.6/site-packages/IPython/core/magic.py\u001b[0m in \u001b[0;36m<lambda>\u001b[0;34m(f, *a, **k)\u001b[0m\n\u001b[1;32m    186\u001b[0m     \u001b[0;31m# but it's overkill for just that one bit of state.\u001b[0m\u001b[0;34m\u001b[0m\u001b[0;34m\u001b[0m\u001b[0m\n\u001b[1;32m    187\u001b[0m     \u001b[0;32mdef\u001b[0m \u001b[0mmagic_deco\u001b[0m\u001b[0;34m(\u001b[0m\u001b[0marg\u001b[0m\u001b[0;34m)\u001b[0m\u001b[0;34m:\u001b[0m\u001b[0;34m\u001b[0m\u001b[0m\n\u001b[0;32m--> 188\u001b[0;31m         \u001b[0mcall\u001b[0m \u001b[0;34m=\u001b[0m \u001b[0;32mlambda\u001b[0m \u001b[0mf\u001b[0m\u001b[0;34m,\u001b[0m \u001b[0;34m*\u001b[0m\u001b[0ma\u001b[0m\u001b[0;34m,\u001b[0m \u001b[0;34m**\u001b[0m\u001b[0mk\u001b[0m\u001b[0;34m:\u001b[0m \u001b[0mf\u001b[0m\u001b[0;34m(\u001b[0m\u001b[0;34m*\u001b[0m\u001b[0ma\u001b[0m\u001b[0;34m,\u001b[0m \u001b[0;34m**\u001b[0m\u001b[0mk\u001b[0m\u001b[0;34m)\u001b[0m\u001b[0;34m\u001b[0m\u001b[0m\n\u001b[0m\u001b[1;32m    189\u001b[0m \u001b[0;34m\u001b[0m\u001b[0m\n\u001b[1;32m    190\u001b[0m         \u001b[0;32mif\u001b[0m \u001b[0mcallable\u001b[0m\u001b[0;34m(\u001b[0m\u001b[0marg\u001b[0m\u001b[0;34m)\u001b[0m\u001b[0;34m:\u001b[0m\u001b[0;34m\u001b[0m\u001b[0m\n",
      "\u001b[0;32m/opt/jupyterhub/anaconda/lib/python3.6/site-packages/IPython/core/magics/execution.py\u001b[0m in \u001b[0;36mtime\u001b[0;34m(self, line, cell, local_ns)\u001b[0m\n\u001b[1;32m   1183\u001b[0m         \u001b[0;32melse\u001b[0m\u001b[0;34m:\u001b[0m\u001b[0;34m\u001b[0m\u001b[0m\n\u001b[1;32m   1184\u001b[0m             \u001b[0mst\u001b[0m \u001b[0;34m=\u001b[0m \u001b[0mclock2\u001b[0m\u001b[0;34m(\u001b[0m\u001b[0;34m)\u001b[0m\u001b[0;34m\u001b[0m\u001b[0m\n\u001b[0;32m-> 1185\u001b[0;31m             \u001b[0mexec\u001b[0m\u001b[0;34m(\u001b[0m\u001b[0mcode\u001b[0m\u001b[0;34m,\u001b[0m \u001b[0mglob\u001b[0m\u001b[0;34m,\u001b[0m \u001b[0mlocal_ns\u001b[0m\u001b[0;34m)\u001b[0m\u001b[0;34m\u001b[0m\u001b[0m\n\u001b[0m\u001b[1;32m   1186\u001b[0m             \u001b[0mend\u001b[0m \u001b[0;34m=\u001b[0m \u001b[0mclock2\u001b[0m\u001b[0;34m(\u001b[0m\u001b[0;34m)\u001b[0m\u001b[0;34m\u001b[0m\u001b[0m\n\u001b[1;32m   1187\u001b[0m             \u001b[0mout\u001b[0m \u001b[0;34m=\u001b[0m \u001b[0;32mNone\u001b[0m\u001b[0;34m\u001b[0m\u001b[0m\n",
      "\u001b[0;32m<timed exec>\u001b[0m in \u001b[0;36m<module>\u001b[0;34m()\u001b[0m\n",
      "\u001b[0;31mNameError\u001b[0m: name 'LEFTDIR' is not defined"
=======
     "name": "stdout",
     "output_type": "stream",
     "text": [
      "CPU times: user 19.1 ms, sys: 2.21 ms, total: 21.3 ms\n",
      "Wall time: 20.1 ms\n"
>>>>>>> Stashed changes
     ]
    }
   ],
   "source": [
    "%%time\n",
    "#LEFTDIR = '/data/urbinn/datasets/kitti/sequences/%02d/image_2'%SEQUENCE\n",
    "#RIGHTDIR = '/data/urbinn/datasets/kitti/sequences/%02d/image_3'%SEQUENCE\n",
    "\n",
    "frame = []\n",
    "for filename in sorted(glob.glob(LEFTDIR + '/*')):\n",
    "    left_frame = Frame(filename, RIGHTDIR)\n",
    "    frame.append(left_frame)"
   ]
  },
  {
   "cell_type": "markdown",
   "metadata": {},
   "source": [
    "Turn the list of frames into a sequence. The first frame is automatically taken as the KeyFrame and its FramePoints are rerieved, depth is estimated, only the most confident points are kept, and they are tracked in the other frames."
   ]
  },
  {
   "cell_type": "code",
   "execution_count": null,
   "metadata": {},
<<<<<<< Updated upstream
   "outputs": [],
=======
   "outputs": [
    {
     "name": "stderr",
     "output_type": "stream",
     "text": [
      "  0% (1 of 660) |                         | Elapsed Time: 0:00:00 ETA:  0:07:30"
     ]
    },
    {
     "name": "stdout",
     "output_type": "stream",
     "text": [
      "connected mappoints  0\n",
      "0 [[ 1.  0.  0.  0.]\n",
      " [ 0.  1.  0.  0.]\n",
      " [ 0.  0.  1.  0.]\n",
      " [ 0.  0.  0.  1.]]\n"
     ]
    },
    {
     "name": "stderr",
     "output_type": "stream",
     "text": [
      "\r",
      "                                                                               \r",
      "\r",
      "  0% (2 of 660) |                         | Elapsed Time: 0:00:01 ETA:  0:09:11"
     ]
    },
    {
     "name": "stdout",
     "output_type": "stream",
     "text": [
      "connected mappoints  83\n",
      "1 [[  9.99990828e-01  -2.74001442e-03  -3.29181567e-03  -7.37280272e-03]\n",
      " [  2.73335019e-03   9.99994209e-01  -2.02727893e-03  -8.40297837e-03]\n",
      " [  3.29735139e-03   2.01826265e-03   9.99992527e-01   6.70506289e-01]\n",
      " [ -8.80659183e-18   5.44723223e-17  -5.04114732e-16   1.00000000e+00]]\n"
     ]
    },
    {
     "name": "stderr",
     "output_type": "stream",
     "text": [
      "\r",
      "                                                                               \r",
      "\r",
      "  0% (3 of 660) |                         | Elapsed Time: 0:00:02 ETA:  0:09:49"
     ]
    },
    {
     "name": "stdout",
     "output_type": "stream",
     "text": [
      "connected mappoints  98\n",
      "2 [[  9.99972913e-01  -1.40091730e-03  -7.22574514e-03  -2.30486655e-02]\n",
      " [  1.37314036e-03   9.99991655e-01  -3.84769227e-03  -7.00848534e-03]\n",
      " [  7.23107514e-03   3.83766608e-03   9.99966491e-01   1.36012934e+00]\n",
      " [ -8.25890711e-19   2.12546878e-16  -5.10076098e-16   1.00000000e+00]]\n"
     ]
    },
    {
     "name": "stderr",
     "output_type": "stream",
     "text": [
      "\r",
      "                                                                               \r",
      "\r",
      "  0% (4 of 660) |                         | Elapsed Time: 0:00:03 ETA:  0:10:25"
     ]
    },
    {
     "name": "stdout",
     "output_type": "stream",
     "text": [
      "connected mappoints  102\n",
      "3 [[  9.99935639e-01  -1.23293162e-03  -1.12781858e-02  -3.69474117e-02]\n",
      " [  1.17253272e-03   9.99984945e-01  -5.36041950e-03  -1.18409316e-02]\n",
      " [  1.12846251e-02   5.34685046e-03   9.99922031e-01   2.07526856e+00]\n",
      " [  1.17790687e-17   9.34408957e-17  -4.51535153e-16   1.00000000e+00]]\n"
     ]
    },
    {
     "name": "stderr",
     "output_type": "stream",
     "text": [
      "\r",
      "                                                                               \r",
      "\r",
      "  0% (5 of 660) |                         | Elapsed Time: 0:00:04 ETA:  0:10:33"
     ]
    },
    {
     "name": "stdout",
     "output_type": "stream",
     "text": [
      "connected mappoints  90\n",
      "4 [[  9.99863434e-01   1.09852818e-04  -1.65257907e-02  -5.32311963e-02]\n",
      " [ -2.15375655e-04   9.99979601e-01  -6.38369844e-03  -1.17244474e-02]\n",
      " [  1.65247523e-02   6.38638589e-03   9.99843061e-01   2.80308418e+00]\n",
      " [  2.41237732e-17   4.64668415e-17  -5.59527556e-16   1.00000000e+00]]\n"
     ]
    },
    {
     "name": "stderr",
     "output_type": "stream",
     "text": [
      "\r",
      "                                                                               \r",
      "\r",
      "  0% (6 of 660) |                         | Elapsed Time: 0:00:05 ETA:  0:10:39"
     ]
    },
    {
     "name": "stdout",
     "output_type": "stream",
     "text": [
      "connected mappoints  94\n",
      "5 [[  9.99785782e-01  -1.51309514e-03  -2.06421928e-02  -8.40269709e-02]\n",
      " [  1.38879595e-03   9.99980827e-01  -6.03461507e-03  -3.03157422e-02]\n",
      " [  2.06509280e-02   6.00465456e-03   9.99768715e-01   3.52597758e+00]\n",
      " [ -6.27703479e-18   1.75033343e-16  -9.78716008e-16   1.00000000e+00]]\n"
     ]
    },
    {
     "name": "stderr",
     "output_type": "stream",
     "text": [
      "\r",
      "                                                                               \r",
      "\r",
      "  1% (7 of 660) |                         | Elapsed Time: 0:00:07 ETA:  0:11:07"
     ]
    },
    {
     "name": "stdout",
     "output_type": "stream",
     "text": [
      "connected mappoints  98\n",
      "6 [[  9.99685927e-01   1.44172558e-04  -2.50604689e-02  -1.12479752e-01]\n",
      " [ -3.28553137e-04   9.99972909e-01  -7.35346555e-03  -3.65282571e-02]\n",
      " [  2.50587298e-02   7.35938972e-03   9.99658892e-01   4.27791659e+00]\n",
      " [ -1.65401365e-18   1.31344821e-16  -1.55997929e-15   1.00000000e+00]]\n"
     ]
    },
    {
     "name": "stderr",
     "output_type": "stream",
     "text": [
      "\r",
      "                                                                               \r",
      "\r",
      "  1% (8 of 660) |                         | Elapsed Time: 0:00:08 ETA:  0:11:34"
     ]
    },
    {
     "name": "stdout",
     "output_type": "stream",
     "text": [
      "connected mappoints  102\n",
      "7 [[  9.99549438e-01   2.27879149e-03  -2.99287188e-02  -1.47991964e-01]\n",
      " [ -2.51727293e-03   9.99965364e-01  -7.93305511e-03  -4.47165914e-02]\n",
      " [  2.99096045e-02   8.00481953e-03   9.99520554e-01   5.04720388e+00]\n",
      " [ -3.15627723e-17   1.78929322e-16  -1.81895042e-15   1.00000000e+00]]\n"
     ]
    },
    {
     "name": "stderr",
     "output_type": "stream",
     "text": [
      "\r",
      "                                                                               \r",
      "\r",
      "  1% (9 of 660) |                         | Elapsed Time: 0:00:09 ETA:  0:11:47"
     ]
    },
    {
     "name": "stdout",
     "output_type": "stream",
     "text": [
      "connected mappoints  107\n",
      "8 [[  9.99404856e-01   2.86606505e-03  -3.43761365e-02  -1.80238347e-01]\n",
      " [ -3.09014354e-03   9.99974314e-01  -6.46707432e-03  -5.04455027e-02]\n",
      " [  3.43567184e-02   6.56945267e-03   9.99388042e-01   5.83828784e+00]\n",
      " [ -3.59834307e-17   2.26775257e-16  -1.85171050e-15   1.00000000e+00]]\n"
     ]
    },
    {
     "name": "stderr",
     "output_type": "stream",
     "text": [
      "\r",
      "                                                                               \r",
      "\r",
      "  1% (10 of 660) |                        | Elapsed Time: 0:00:10 ETA:  0:12:20"
     ]
    },
    {
     "name": "stdout",
     "output_type": "stream",
     "text": [
      "connected mappoints  87\n",
      "9 [[  9.99247306e-01   2.19074471e-03  -3.87301089e-02  -2.19832404e-01]\n",
      " [ -2.33844505e-03   9.99990164e-01  -3.76868967e-03  -6.15315883e-02]\n",
      " [  3.87214718e-02   3.85642124e-03   9.99242601e-01   6.63748092e+00]\n",
      " [ -5.04009056e-17   2.02472993e-17  -2.05601863e-15   1.00000000e+00]]\n"
     ]
    },
    {
     "name": "stderr",
     "output_type": "stream",
     "text": [
      "\r",
      "                                                                               \r",
      "\r",
      "  1% (11 of 660) |                        | Elapsed Time: 0:00:11 ETA:  0:12:17"
     ]
    },
    {
     "name": "stdout",
     "output_type": "stream",
     "text": [
      "connected mappoints  87\n",
      "10 [[  9.99121736e-01   2.34392612e-03  -4.18361368e-02  -2.65089107e-01]\n",
      " [ -2.40180857e-03   9.99996227e-01  -1.33334185e-03  -7.12580054e-02]\n",
      " [  4.18328537e-02   1.43265321e-03   9.99123596e-01   7.43430501e+00]\n",
      " [ -3.50194364e-17  -2.50185133e-17  -2.19046868e-15   1.00000000e+00]]\n"
     ]
    },
    {
     "name": "stderr",
     "output_type": "stream",
     "text": [
      "\r",
      "                                                                               \r",
      "\r",
      "  1% (12 of 660) |                        | Elapsed Time: 0:00:12 ETA:  0:12:04"
     ]
    },
    {
     "name": "stdout",
     "output_type": "stream",
     "text": [
      "connected mappoints  91\n",
      "11 [[  9.99002960e-01   3.98772312e-03  -4.44655405e-02  -3.08853921e-01]\n",
      " [ -4.08572657e-03   9.99989420e-01  -2.11336705e-03  -8.15145193e-02]\n",
      " [  4.44566425e-02   2.29293398e-03   9.99008683e-01   8.25034406e+00]\n",
      " [ -1.83965672e-17   2.24647364e-16  -2.60721999e-15   1.00000000e+00]]\n"
     ]
    },
    {
     "name": "stderr",
     "output_type": "stream",
     "text": [
      "\r",
      "                                                                               \r",
      "\r",
      "  1% (13 of 660) |                        | Elapsed Time: 0:00:13 ETA:  0:11:32"
     ]
    },
    {
     "name": "stdout",
     "output_type": "stream",
     "text": [
      "connected mappoints  114\n",
      "12 [[  9.98899040e-01   3.47324292e-03  -4.67829436e-02  -3.48759952e-01]\n",
      " [ -3.58600676e-03   9.99990864e-01  -2.32664971e-03  -8.92311388e-02]\n",
      " [  4.67744352e-02   2.49185211e-03   9.98902369e-01   9.07483010e+00]\n",
      " [ -3.61938520e-17  -1.94408102e-17  -2.44692136e-15   1.00000000e+00]]\n"
     ]
    },
    {
     "name": "stderr",
     "output_type": "stream",
     "text": [
      "\r",
      "                                                                               \r",
      "\r",
      "  2% (14 of 660) |                        | Elapsed Time: 0:00:14 ETA:  0:11:08"
     ]
    },
    {
     "name": "stdout",
     "output_type": "stream",
     "text": [
      "connected mappoints  92\n",
      "13 [[  9.98814122e-01   6.62397097e-04  -4.86817253e-02  -3.88044757e-01]\n",
      " [ -8.19241978e-04   9.99994538e-01  -3.20196083e-03  -9.10766959e-02]\n",
      " [  4.86793384e-02   3.23804581e-03   9.98809210e-01   9.91322870e+00]\n",
      " [ -2.90972404e-17   3.77808982e-16   3.22495305e-15   1.00000000e+00]]\n"
     ]
    },
    {
     "name": "stderr",
     "output_type": "stream",
     "text": [
      "\r",
      "                                                                               \r",
      "\r",
      "  2% (15 of 660) |                        | Elapsed Time: 0:00:14 ETA:  0:10:42"
     ]
    },
    {
     "name": "stdout",
     "output_type": "stream",
     "text": [
      "connected mappoints  104\n",
      "14 [[  9.98711333e-01  -3.71982208e-04  -5.07497217e-02  -4.30411694e-01]\n",
      " [  2.30303291e-04   9.99996060e-01  -2.79753722e-03  -8.27164562e-02]\n",
      " [  5.07505624e-02   2.78224430e-03   9.98707484e-01   1.07426907e+01]\n",
      " [ -2.33850238e-17   1.30645746e-16   2.70719507e-15   1.00000000e+00]]\n"
     ]
    },
    {
     "name": "stderr",
     "output_type": "stream",
     "text": [
      "\r",
      "                                                                               \r",
      "\r",
      "  2% (16 of 660) |                        | Elapsed Time: 0:00:15 ETA:  0:10:01"
     ]
    },
    {
     "name": "stdout",
     "output_type": "stream",
     "text": [
      "connected mappoints  103\n",
      "15 [[  9.98633480e-01  -2.14942282e-03  -5.22164104e-02  -4.81518981e-01]\n",
      " [  2.00716593e-03   9.99994131e-01  -2.77665797e-03  -1.00298445e-01]\n",
      " [  5.22220721e-02   2.66805661e-03   9.98631933e-01   1.16028801e+01]\n",
      " [ -5.73528919e-18   3.39112963e-17   2.62631090e-15   1.00000000e+00]]\n"
     ]
    },
    {
     "name": "stderr",
     "output_type": "stream",
     "text": [
      "\r",
      "                                                                               \r",
      "\r",
      "  2% (17 of 660) |                        | Elapsed Time: 0:00:16 ETA:  0:09:14"
     ]
    },
    {
     "name": "stdout",
     "output_type": "stream",
     "text": [
      "connected mappoints  100\n",
      "16 [[  9.98540256e-01   2.34544685e-05  -5.40125575e-02  -5.35022101e-01]\n",
      " [ -3.02240577e-04   9.99986676e-01  -5.15334286e-03  -1.07685390e-01]\n",
      " [  5.40117169e-02   5.16214509e-03   9.98526958e-01   1.24523499e+01]\n",
      " [ -5.29500258e-18   1.76002645e-16   2.50536530e-15   1.00000000e+00]]\n"
     ]
    },
    {
     "name": "stderr",
     "output_type": "stream",
     "text": [
      "\r",
      "                                                                               \r",
      "\r",
      "  2% (18 of 660) |                        | Elapsed Time: 0:00:17 ETA:  0:08:35"
     ]
    },
    {
     "name": "stdout",
     "output_type": "stream",
     "text": [
      "connected mappoints  85\n",
      "17 [[  9.98470901e-01   3.00264940e-04  -5.52790231e-02  -5.90199277e-01]\n",
      " [ -7.35332536e-04   9.99968916e-01  -7.85022072e-03  -1.18452509e-01]\n",
      " [  5.52749477e-02   7.87886542e-03   9.98440085e-01   1.33211401e+01]\n",
      " [  1.78502879e-19  -1.88930368e-16   2.50130468e-15   1.00000000e+00]]\n"
     ]
    },
    {
     "name": "stderr",
     "output_type": "stream",
     "text": [
      "\r",
      "                                                                               \r",
      "\r",
      "  2% (19 of 660) |                        | Elapsed Time: 0:00:17 ETA:  0:08:11"
     ]
    },
    {
     "name": "stdout",
     "output_type": "stream",
     "text": [
      "connected mappoints  92\n",
      "18 [[  9.98357125e-01   3.51346806e-03  -5.71900938e-02  -6.48189967e-01]\n",
      " [ -4.05142605e-03   9.99948609e-01  -9.29326263e-03  -1.29611580e-01]\n",
      " [  5.71545031e-02   9.50969640e-03   9.98320053e-01   1.41926029e+01]\n",
      " [ -4.70081161e-18  -8.55078770e-17   2.20513408e-15   1.00000000e+00]]\n"
     ]
    },
    {
     "name": "stderr",
     "output_type": "stream",
     "text": [
      "\r",
      "                                                                               \r",
      "\r",
      "  3% (20 of 660) |                        | Elapsed Time: 0:00:18 ETA:  0:08:05"
     ]
    },
    {
     "name": "stdout",
     "output_type": "stream",
     "text": [
      "connected mappoints  97\n",
      "19 [[  9.98300171e-01   5.57875752e-03  -5.80141893e-02  -7.12953100e-01]\n",
      " [ -6.11979921e-03   9.99939388e-01  -9.15254049e-03  -1.46816148e-01]\n",
      " [  5.79596131e-02   9.49201792e-03   9.98273803e-01   1.50792800e+01]\n",
      " [  1.73539256e-17  -1.64203845e-16   2.39842839e-15   1.00000000e+00]]\n"
     ]
    },
    {
     "name": "stderr",
     "output_type": "stream",
     "text": [
      "\r",
      "                                                                               \r",
      "\r",
      "  3% (21 of 660) |                        | Elapsed Time: 0:00:19 ETA:  0:08:04"
     ]
    },
    {
     "name": "stdout",
     "output_type": "stream",
     "text": [
      "connected mappoints  101\n",
      "20 [[  9.98239656e-01   5.04929435e-03  -5.90939360e-02  -7.75636076e-01]\n",
      " [ -5.53935446e-03   9.99951592e-01  -8.13202510e-03  -1.57938874e-01]\n",
      " [  5.90500143e-02   8.44505220e-03   9.98219303e-01   1.59607607e+01]\n",
      " [  2.53055994e-17  -2.01323654e-16   2.41015531e-15   1.00000000e+00]]\n"
     ]
    },
    {
     "name": "stderr",
     "output_type": "stream",
     "text": [
      "\r",
      "                                                                               \r",
      "\r",
      "  3% (22 of 660) |                        | Elapsed Time: 0:00:20 ETA:  0:08:36"
     ]
    },
    {
     "name": "stdout",
     "output_type": "stream",
     "text": [
      "connected mappoints  131\n",
      "21 [[  9.98155536e-01   5.61160532e-03  -6.04486212e-02  -8.34424024e-01]\n",
      " [ -6.04031845e-03   9.99957870e-01  -6.91179364e-03  -1.67589201e-01]\n",
      " [  6.04072882e-02   7.26417401e-03   9.98147380e-01   1.68572788e+01]\n",
      " [  3.38878492e-17   6.97572946e-17   2.22905018e-15   1.00000000e+00]]\n"
     ]
    },
    {
     "name": "stderr",
     "output_type": "stream",
     "text": [
      "\r",
      "                                                                               \r",
      "\r",
      "  3% (23 of 660) |                        | Elapsed Time: 0:00:22 ETA:  0:09:20"
     ]
    },
    {
     "name": "stdout",
     "output_type": "stream",
     "text": [
      "connected mappoints  130\n",
      "22 [[  9.98116206e-01   4.85665619e-03  -6.11592415e-02  -8.99678587e-01]\n",
      " [ -5.28261951e-03   9.99962892e-01  -6.80505779e-03  -1.80176594e-01]\n",
      " [  6.11239222e-02   7.11531946e-03   9.98104823e-01   1.77513345e+01]\n",
      " [  3.58457289e-17  -1.04655604e-17   2.39887128e-15   1.00000000e+00]]\n"
     ]
    },
    {
     "name": "stderr",
     "output_type": "stream",
     "text": [
      "\r",
      "                                                                               \r",
      "\r",
      "  3% (24 of 660) |                        | Elapsed Time: 0:00:23 ETA:  0:10:04"
     ]
    },
    {
     "name": "stdout",
     "output_type": "stream",
     "text": [
      "connected mappoints  115\n",
      "23 [[  9.98033059e-01   4.78688545e-03  -6.25067864e-02  -9.66523240e-01]\n",
      " [ -5.27689406e-03   9.99956611e-01  -7.67655787e-03  -1.94504410e-01]\n",
      " [  6.24673275e-02   7.99130023e-03   9.98015016e-01   1.86505527e+01]\n",
      " [  3.04896061e-17  -2.13233211e-16   2.31372594e-15   1.00000000e+00]]\n"
     ]
    },
    {
     "name": "stderr",
     "output_type": "stream",
     "text": [
      "\r",
      "                                                                               \r",
      "\r",
      "  3% (25 of 660) |                        | Elapsed Time: 0:00:24 ETA:  0:10:47"
     ]
    },
    {
     "name": "stdout",
     "output_type": "stream",
     "text": [
      "connected mappoints  104\n",
      "24 [[  9.97994573e-01   3.31063109e-03  -6.32129110e-02  -1.05448598e+00]\n",
      " [ -3.84605725e-03   9.99957738e-01  -8.35039979e-03  -2.11005531e-01]\n",
      " [  6.31825944e-02   8.57677414e-03   9.97965129e-01   1.95936580e+01]\n",
      " [  4.85913300e-17  -1.91406459e-16   2.07588902e-15   1.00000000e+00]]\n"
     ]
    },
    {
     "name": "stderr",
     "output_type": "stream",
     "text": [
      "\r",
      "                                                                               \r",
      "\r",
      "  3% (26 of 660) |                        | Elapsed Time: 0:00:26 ETA:  0:11:29"
     ]
    },
    {
     "name": "stdout",
     "output_type": "stream",
     "text": [
      "connected mappoints  101\n",
      "25 [[  9.97959545e-01   3.05148053e-03  -6.37764436e-02  -1.11340066e+00]\n",
      " [ -3.47515194e-03   9.99972620e-01  -6.53319697e-03  -2.24220110e-01]\n",
      " [  6.37547615e-02   6.74149911e-03   9.97942825e-01   2.05089269e+01]\n",
      " [  4.96518102e-17   5.99233044e-17   1.96656351e-15   1.00000000e+00]]\n"
     ]
    },
    {
     "name": "stderr",
     "output_type": "stream",
     "text": [
      "\r",
      "                                                                               \r",
      "\r",
      "  4% (27 of 660) |                        | Elapsed Time: 0:00:27 ETA:  0:11:54"
     ]
    },
    {
     "name": "stdout",
     "output_type": "stream",
     "text": [
      "connected mappoints  115\n",
      "26 [[  9.97975406e-01   4.85164468e-03  -6.34156909e-02  -1.18618904e+00]\n",
      " [ -5.04877793e-03   9.99982907e-01  -2.94870968e-03  -2.46127005e-01]\n",
      " [  6.34003009e-02   3.26291148e-03   9.97982843e-01   2.14286781e+01]\n",
      " [  1.28345952e-16   1.71297228e-16   2.39083178e-15   1.00000000e+00]]\n"
     ]
    },
    {
     "name": "stderr",
     "output_type": "stream",
     "text": [
      "\r",
      "                                                                               \r",
      "\r",
      "  4% (28 of 660) |#                       | Elapsed Time: 0:00:28 ETA:  0:12:28"
     ]
    },
    {
     "name": "stdout",
     "output_type": "stream",
     "text": [
      "connected mappoints  103\n",
      "27 [[  9.98021170e-01   5.48308561e-03  -6.26392849e-02  -1.24522928e+00]\n",
      " [ -5.46019522e-03   9.99984949e-01   5.36606697e-04  -2.50718190e-01]\n",
      " [  6.26412844e-02  -1.93522120e-04   9.98036088e-01   2.23434476e+01]\n",
      " [  1.27308939e-16   3.87096685e-17   2.21320018e-15   1.00000000e+00]]\n"
     ]
    },
    {
     "name": "stderr",
     "output_type": "stream",
     "text": [
      "\r",
      "                                                                               \r",
      "\r",
      "  4% (29 of 660) |#                       | Elapsed Time: 0:00:29 ETA:  0:12:43"
     ]
    },
    {
     "name": "stdout",
     "output_type": "stream",
     "text": [
      "connected mappoints  115\n",
      "28 [[  9.98133111e-01   4.33294794e-03  -6.09222264e-02  -1.30595384e+00]\n",
      " [ -4.13041528e-03   9.99985519e-01   3.44998775e-03  -2.62922496e-01]\n",
      " [  6.09362928e-02  -3.19191291e-03   9.98136554e-01   2.32593013e+01]\n",
      " [  1.23224816e-16  -2.54754501e-16   2.34965549e-15   1.00000000e+00]]\n"
     ]
    },
    {
     "name": "stderr",
     "output_type": "stream",
     "text": [
      "\r",
      "                                                                               \r",
      "\r",
      "  4% (30 of 660) |#                       | Elapsed Time: 0:00:30 ETA:  0:12:50"
     ]
    },
    {
     "name": "stdout",
     "output_type": "stream",
     "text": [
      "connected mappoints  89\n",
      "29 [[  9.98226122e-01   4.32761741e-03  -5.93791312e-02  -1.36538538e+00]\n",
      " [ -4.08702521e-03   9.99982942e-01   4.17264877e-03  -2.66534210e-01]\n",
      " [  5.93961760e-02  -3.92256299e-03   9.98226782e-01   2.41988184e+01]\n",
      " [  1.16018632e-16  -2.93617176e-16   2.23180433e-15   1.00000000e+00]]\n"
     ]
    },
    {
     "name": "stderr",
     "output_type": "stream",
     "text": [
      "\r",
      "                                                                               \r",
      "\r",
      "  4% (31 of 660) |#                       | Elapsed Time: 0:00:31 ETA:  0:12:23"
     ]
    },
    {
     "name": "stdout",
     "output_type": "stream",
     "text": [
      "connected mappoints  97\n",
      "30 [[  9.98290451e-01   5.78954454e-03  -5.81606040e-02  -1.41647048e+00]\n",
      " [ -5.71654680e-03   9.99982650e-01   1.42140890e-03  -2.84427751e-01]\n",
      " [  5.81678243e-02  -1.08650111e-03   9.98306227e-01   2.51247721e+01]\n",
      " [  1.14383233e-16  -2.51712355e-16   2.10383905e-15   1.00000000e+00]]\n"
     ]
    },
    {
     "name": "stderr",
     "output_type": "stream",
     "text": [
      "\r",
      "                                                                               \r",
      "\r",
      "  4% (32 of 660) |#                       | Elapsed Time: 0:00:32 ETA:  0:11:54"
     ]
    },
    {
     "name": "stdout",
     "output_type": "stream",
     "text": [
      "connected mappoints  105\n",
      "31 [[  9.98341397e-01   6.66565534e-03  -5.71841158e-02  -1.48050294e+00]\n",
      " [ -6.87983044e-03   9.99970035e-01  -3.54930615e-03  -2.90646106e-01]\n",
      " [  5.71587438e-02   3.93683628e-03   9.98357340e-01   2.60734320e+01]\n",
      " [  1.18142627e-16  -1.24357173e-16   1.65257892e-15   1.00000000e+00]]\n"
     ]
    },
    {
     "name": "stderr",
     "output_type": "stream",
     "text": [
      "\r",
      "                                                                               \r",
      "\r",
      "  5% (33 of 660) |#                       | Elapsed Time: 0:00:33 ETA:  0:11:28"
     ]
    },
    {
     "name": "stdout",
     "output_type": "stream",
     "text": [
      "connected mappoints  103\n",
      "32 [[  9.98424047e-01   6.14621941e-03  -5.57821401e-02  -1.53750856e+00]\n",
      " [ -6.51555149e-03   9.99958026e-01  -6.44152149e-03  -3.05359848e-01]\n",
      " [  5.57402077e-02   6.79482136e-03   9.98422185e-01   2.70215677e+01]\n",
      " [  1.11019348e-16  -4.94597096e-16   1.76002790e-15   1.00000000e+00]]\n"
     ]
    },
    {
     "name": "stderr",
     "output_type": "stream",
     "text": [
      "\r",
      "                                                                               \r",
      "\r",
      "  5% (34 of 660) |#                       | Elapsed Time: 0:00:34 ETA:  0:11:18"
     ]
    },
    {
     "name": "stdout",
     "output_type": "stream",
     "text": [
      "connected mappoints  96\n",
      "33 [[  9.98474475e-01   3.75340606e-03  -5.50875138e-02  -1.59584883e+00]\n",
      " [ -4.06876135e-03   9.99975966e-01  -5.61358602e-03  -3.14011662e-01]\n",
      " [  5.50651197e-02   5.82916030e-03   9.98465750e-01   2.79949285e+01]\n",
      " [  1.00348492e-16  -7.24233224e-17   1.71999959e-15   1.00000000e+00]]\n"
     ]
    },
    {
     "name": "stderr",
     "output_type": "stream",
     "text": [
      "\r",
      "                                                                               \r",
      "\r",
      "  5% (35 of 660) |#                       | Elapsed Time: 0:00:35 ETA:  0:11:17"
     ]
    },
    {
     "name": "stdout",
     "output_type": "stream",
     "text": [
      "connected mappoints  140\n",
      "34 [[  9.98476842e-01   2.77163207e-03  -5.51027579e-02  -1.65307535e+00]\n",
      " [ -2.81360296e-03   9.99995808e-01  -6.84120897e-04  -3.29329868e-01]\n",
      " [  5.51006307e-02   8.38116156e-04   9.98480455e-01   2.89518788e+01]\n",
      " [  9.17994671e-17  -3.68039384e-16   1.73456072e-15   1.00000000e+00]]\n"
     ]
    },
    {
     "name": "stderr",
     "output_type": "stream",
     "text": [
      "\r",
      "                                                                               \r",
      "\r",
      "  5% (36 of 660) |#                       | Elapsed Time: 0:00:37 ETA:  0:11:35"
     ]
    },
    {
     "name": "stdout",
     "output_type": "stream",
     "text": [
      "connected mappoints  130\n",
      "35 [[  9.98436738e-01  -1.03166563e-03  -5.58839544e-02  -1.70256989e+00]\n",
      " [  1.17828253e-03   9.99995950e-01   2.59070989e-03  -3.38956025e-01]\n",
      " [  5.58810553e-02  -2.65250702e-03   9.98433910e-01   2.99136303e+01]\n",
      " [  9.36817444e-17   2.04550761e-16   1.51062977e-15   1.00000000e+00]]\n"
     ]
    },
    {
     "name": "stderr",
     "output_type": "stream",
     "text": [
      "\r",
      "                                                                               \r",
      "\r",
      "  5% (37 of 660) |#                       | Elapsed Time: 0:00:38 ETA:  0:11:27"
     ]
    },
    {
     "name": "stdout",
     "output_type": "stream",
     "text": [
      "connected mappoints  91\n",
      "36 [[  9.98350842e-01  -8.87047484e-03  -5.67178146e-02  -1.75492425e+00]\n",
      " [  8.99908751e-03   9.99957482e-01   2.01257582e-03  -3.45169433e-01]\n",
      " [  5.66975505e-02  -2.51966534e-03   9.98388221e-01   3.08683035e+01]\n",
      " [  8.42228232e-17  -9.60551866e-16   1.24495457e-15   1.00000000e+00]]\n"
     ]
    },
    {
     "name": "stderr",
     "output_type": "stream",
     "text": [
      "\r",
      "                                                                               \r",
      "\r",
      "  5% (38 of 660) |#                       | Elapsed Time: 0:00:39 ETA:  0:11:28"
     ]
    },
    {
     "name": "stdout",
     "output_type": "stream",
     "text": [
      "connected mappoints  94\n",
      "37 [[  9.98254540e-01  -1.13025973e-02  -5.79665881e-02  -1.81737881e+00]\n",
      " [  1.12045949e-02   9.99935195e-01  -2.01542037e-03  -3.47494588e-01]\n",
      " [  5.79856110e-02   1.36241039e-03   9.98316489e-01   3.18292454e+01]\n",
      " [  8.52877954e-17  -7.22211849e-16   1.17871158e-15   1.00000000e+00]]\n"
     ]
    },
    {
     "name": "stderr",
     "output_type": "stream",
     "text": [
      "\r",
      "                                                                               \r",
      "\r",
      "  5% (39 of 660) |#                       | Elapsed Time: 0:00:40 ETA:  0:11:48"
     ]
    },
    {
     "name": "stdout",
     "output_type": "stream",
     "text": [
      "connected mappoints  109\n",
      "38 [[  9.98182133e-01  -1.10028526e-02  -5.92567888e-02  -1.88203318e+00]\n",
      " [  1.06685569e-02   9.99925358e-01  -5.95490315e-03  -3.57208671e-01]\n",
      " [  5.93178867e-02   5.31189351e-03   9.98225011e-01   3.27989757e+01]\n",
      " [  1.17292235e-16  -5.23143851e-16   1.40367044e-15   1.00000000e+00]]\n"
     ]
    },
    {
     "name": "stderr",
     "output_type": "stream",
     "text": [
      "\r",
      "                                                                               \r",
      "\r",
      "  6% (40 of 660) |#                       | Elapsed Time: 0:00:42 ETA:  0:12:18"
     ]
    },
    {
     "name": "stdout",
     "output_type": "stream",
     "text": [
      "connected mappoints  109\n",
      "39 [[  9.98071331e-01  -9.39714673e-03  -6.13621388e-02  -1.93977610e+00]\n",
      " [  9.00390238e-03   9.99937139e-01  -6.68195720e-03  -3.75470888e-01]\n",
      " [  6.14210728e-02   6.11657120e-03   9.98093202e-01   3.37564439e+01]\n",
      " [  1.19082384e-16   2.57927782e-17   1.24191614e-15   1.00000000e+00]]\n"
     ]
    },
    {
     "name": "stderr",
     "output_type": "stream",
     "text": [
      "\r",
      "                                                                               \r",
      "\r",
      "  6% (41 of 660) |#                       | Elapsed Time: 0:00:43 ETA:  0:12:24"
     ]
    },
    {
     "name": "stdout",
     "output_type": "stream",
     "text": [
      "connected mappoints  90\n",
      "40 [[  9.98026717e-01  -9.78107589e-03  -6.20242070e-02  -2.01010056e+00]\n",
      " [  9.47124290e-03   9.99941168e-01  -5.28740312e-03  -3.87044147e-01]\n",
      " [  6.20722744e-02   4.68952325e-03   9.98060640e-01   3.47418690e+01]\n",
      " [  1.28698181e-16   2.02003897e-16   9.46656961e-16   1.00000000e+00]]\n"
     ]
    },
    {
     "name": "stderr",
     "output_type": "stream",
     "text": [
      "\r",
      "                                                                               \r",
      "\r",
      "  6% (42 of 660) |#                       | Elapsed Time: 0:00:44 ETA:  0:12:30"
     ]
    },
    {
     "name": "stdout",
     "output_type": "stream",
     "text": [
      "connected mappoints  91\n",
      "41 [[  9.97974008e-01  -6.81840779e-03  -6.32565315e-02  -2.07963430e+00]\n",
      " [  6.67108063e-03   9.99974522e-01  -2.53995907e-03  -4.00873359e-01]\n",
      " [  6.32722384e-02   2.11282371e-03   9.97994068e-01   3.57226964e+01]\n",
      " [  1.13327843e-16   4.36401592e-16   9.61272286e-16   1.00000000e+00]]\n"
     ]
    },
    {
     "name": "stderr",
     "output_type": "stream",
     "text": [
      "\r",
      "                                                                               \r",
      "\r",
      "  6% (43 of 660) |#                       | Elapsed Time: 0:00:45 ETA:  0:12:18"
     ]
    },
    {
     "name": "stdout",
     "output_type": "stream",
     "text": [
      "connected mappoints  95\n",
      "42 [[  9.97885107e-01  -7.16168284e-03  -6.46066865e-02  -2.14806432e+00]\n",
      " [  7.09360638e-03   9.99974017e-01  -1.28303445e-03  -4.14494262e-01]\n",
      " [  6.46141965e-02   8.22026564e-04   9.97909981e-01   3.67244121e+01]\n",
      " [  1.09390778e-16   6.61273488e-16   9.19676709e-16   1.00000000e+00]]\n"
     ]
    },
    {
     "name": "stderr",
     "output_type": "stream",
     "text": [
      "\r",
      "                                                                               \r",
      "\r",
      "  6% (44 of 660) |#                       | Elapsed Time: 0:00:46 ETA:  0:11:59"
     ]
    },
    {
     "name": "stdout",
     "output_type": "stream",
     "text": [
      "connected mappoints  107\n",
      "43 [[  9.97836867e-01  -5.62362595e-03  -6.54978054e-02  -2.21480642e+00]\n",
      " [  5.72127753e-03   9.99982784e-01   1.30344087e-03  -4.27697600e-01]\n",
      " [  6.54893478e-02  -1.67535247e-03   9.97851862e-01   3.76929810e+01]\n",
      " [  1.07806417e-16   8.66447799e-16   8.13429835e-16   1.00000000e+00]]\n"
     ]
    },
    {
     "name": "stderr",
     "output_type": "stream",
     "text": [
      "\r",
      "                                                                               \r",
      "\r",
      "  6% (45 of 660) |#                       | Elapsed Time: 0:00:47 ETA:  0:11:41"
     ]
    },
    {
     "name": "stdout",
     "output_type": "stream",
     "text": [
      "connected mappoints  120\n",
      "44 [[  9.97846953e-01  -5.77324027e-03  -6.53309144e-02  -2.28249062e+00]\n",
      " [  6.04984097e-03   9.99973551e-01   4.03679943e-03  -4.31731132e-01]\n",
      " [  6.53058810e-02  -4.42334966e-03   9.97855488e-01   3.86807594e+01]\n",
      " [  1.04588581e-16   4.26938001e-16   8.13524198e-16   1.00000000e+00]]\n"
     ]
    },
    {
     "name": "stderr",
     "output_type": "stream",
     "text": [
      "\r",
      "                                                                               \r",
      "\r",
      "  6% (46 of 660) |#                       | Elapsed Time: 0:00:48 ETA:  0:11:28"
     ]
    },
    {
     "name": "stdout",
     "output_type": "stream",
     "text": [
      "connected mappoints  102\n",
      "45 [[  9.97824048e-01  -1.28082687e-04  -6.59329435e-02  -2.35849850e+00]\n",
      " [  5.52849078e-04   9.99979212e-01   6.42419492e-03  -4.47212458e-01]\n",
      " [  6.59307500e-02  -6.44666715e-03   9.97803376e-01   3.96574768e+01]\n",
      " [  9.43708973e-17   6.47219984e-16   7.15751834e-16   1.00000000e+00]]\n"
     ]
    },
    {
     "name": "stderr",
     "output_type": "stream",
     "text": [
      "\r",
      "                                                                               \r",
      "\r",
      "  7% (47 of 660) |#                       | Elapsed Time: 0:00:49 ETA:  0:11:14"
     ]
    },
    {
     "name": "stdout",
     "output_type": "stream",
     "text": [
      "connected mappoints  96\n",
      "46 [[  9.97811835e-01  -7.99505980e-04  -6.61128079e-02  -2.42495229e+00]\n",
      " [  1.19566112e-03   9.99981567e-01   5.95275848e-03  -4.53961973e-01]\n",
      " [  6.61068300e-02  -6.01878137e-03   9.97794398e-01   4.06404544e+01]\n",
      " [  9.65800190e-17   9.69986964e-16   7.71033956e-16   1.00000000e+00]]\n"
     ]
    },
    {
     "name": "stderr",
     "output_type": "stream",
     "text": [
      "\r",
      "                                                                               \r",
      "\r",
      "  7% (48 of 660) |#                       | Elapsed Time: 0:00:50 ETA:  0:10:58"
     ]
    },
    {
     "name": "stdout",
     "output_type": "stream",
     "text": [
      "connected mappoints  87\n",
      "47 [[  9.97812898e-01  -4.31053588e-04  -6.61001863e-02  -2.49178795e+00]\n",
      " [  7.14815241e-04   9.99990631e-01   4.26931199e-03  -4.63475947e-01]\n",
      " [  6.60977267e-02  -4.30722399e-03   9.97803858e-01   4.16358621e+01]\n",
      " [  9.57965054e-17   7.80625324e-16   4.41619144e-16   1.00000000e+00]]\n"
     ]
    },
    {
     "name": "stderr",
     "output_type": "stream",
     "text": [
      "\r",
      "                                                                               \r",
      "\r",
      "  7% (49 of 660) |#                       | Elapsed Time: 0:00:51 ETA:  0:10:42"
     ]
    },
    {
     "name": "stdout",
     "output_type": "stream",
     "text": [
      "connected mappoints  105\n",
      "48 [[  9.97813506e-01   1.52833657e-03  -6.60747431e-02  -2.56569133e+00]\n",
      " [ -1.41366943e-03   9.99997413e-01   1.78213579e-03  -4.64604605e-01]\n",
      " [  6.60772958e-02  -1.68483132e-03   9.97813085e-01   4.26200675e+01]\n",
      " [  8.48356496e-17   6.02077670e-16   8.13358192e-16   1.00000000e+00]]\n"
     ]
    },
    {
     "name": "stderr",
     "output_type": "stream",
     "text": [
      "\r",
      "                                                                               \r",
      "\r",
      "  7% (50 of 660) |#                       | Elapsed Time: 0:00:52 ETA:  0:10:34"
     ]
    },
    {
     "name": "stdout",
     "output_type": "stream",
     "text": [
      "connected mappoints  97\n",
      "49 [[  9.97749982e-01   7.94331380e-04  -6.70398612e-02  -2.63547425e+00]\n",
      " [ -6.66706497e-04   9.99997923e-01   1.92606805e-03  -4.77370869e-01]\n",
      " [  6.70412518e-02  -1.87703845e-03   9.97748439e-01   4.36045188e+01]\n",
      " [  9.17842204e-17   2.81567942e-16   8.58932779e-16   1.00000000e+00]]\n"
     ]
    },
    {
     "name": "stderr",
     "output_type": "stream",
     "text": [
      "\r",
      "                                                                               \r",
      "\r",
      "  7% (51 of 660) |#                       | Elapsed Time: 0:00:53 ETA:  0:10:25"
     ]
    },
    {
     "name": "stdout",
     "output_type": "stream",
     "text": [
      "connected mappoints  90\n",
      "50 [[  9.97642856e-01  -1.69617628e-03  -6.85992359e-02  -2.69146504e+00]\n",
      " [  1.90468631e-03   9.99993763e-01   2.97424581e-03  -4.81120386e-01]\n",
      " [  6.85937632e-02  -3.09789511e-03   9.97639864e-01   4.45852804e+01]\n",
      " [  8.67740099e-17   3.45174681e-16   2.33948737e-16   1.00000000e+00]]\n"
     ]
    },
    {
     "name": "stderr",
     "output_type": "stream",
     "text": [
      "\r",
      "                                                                               \r",
      "\r",
      "  7% (52 of 660) |#                       | Elapsed Time: 0:00:54 ETA:  0:10:14"
     ]
    },
    {
     "name": "stdout",
     "output_type": "stream",
     "text": [
      "connected mappoints  83\n",
      "51 [[  9.97589429e-01  -1.84557944e-03  -6.93680334e-02  -2.77596242e+00]\n",
      " [  2.12065753e-03   9.99990177e-01   3.89205530e-03  -4.80459761e-01]\n",
      " [  6.93601689e-02  -4.02977907e-03   9.97583544e-01   4.55687979e+01]\n",
      " [  8.60804669e-17   5.60702046e-16   3.80292128e-16   1.00000000e+00]]\n"
     ]
    },
    {
     "name": "stderr",
     "output_type": "stream",
     "text": [
      "\r",
      "                                                                               \r",
      "\r",
      "  8% (53 of 660) |#                       | Elapsed Time: 0:00:55 ETA:  0:10:03"
     ]
    },
    {
     "name": "stdout",
     "output_type": "stream",
     "text": [
      "connected mappoints  101\n",
      "52 [[  9.97577677e-01   3.35930369e-04  -6.95605119e-02  -2.85415392e+00]\n",
      " [ -3.13056468e-04   9.99999893e-01   3.39735699e-04  -4.93304120e-01]\n",
      " [  6.95606186e-02  -3.17136381e-04   9.97577676e-01   4.65254106e+01]\n",
      " [  6.34351356e-17  -7.96375739e-17  -2.01310019e-16   1.00000000e+00]]\n"
     ]
    },
    {
     "name": "stderr",
     "output_type": "stream",
     "text": [
      "\r",
      "                                                                               \r",
      "\r",
      "  8% (54 of 660) |#                       | Elapsed Time: 0:00:56 ETA:  0:09:48"
     ]
    },
    {
     "name": "stdout",
     "output_type": "stream",
     "text": [
      "connected mappoints  100\n",
      "53 [[  9.97530148e-01   6.76929816e-04  -7.02363509e-02  -2.93609771e+00]\n",
      " [ -9.51503398e-04   9.99992036e-01  -3.87589755e-03  -5.04314583e-01]\n",
      " [  7.02331678e-02   3.93315479e-03   9.97522848e-01   4.74816671e+01]\n",
      " [  4.13348842e-17  -2.40838316e-16  -3.44123162e-16   1.00000000e+00]]\n"
     ]
    },
    {
     "name": "stderr",
     "output_type": "stream",
     "text": [
      "\r",
      "                                                                               \r",
      "\r",
      "  8% (55 of 660) |##                      | Elapsed Time: 0:00:57 ETA:  0:09:38"
     ]
    },
    {
     "name": "stdout",
     "output_type": "stream",
     "text": [
      "connected mappoints  87\n",
      "54 [[  9.97509596e-01   1.35131704e-03  -7.05179455e-02  -3.01410203e+00]\n",
      " [ -1.72504187e-03   9.99984788e-01  -5.23908249e-03  -5.17346454e-01]\n",
      " [  7.05097931e-02   5.34768147e-03   9.97496753e-01   4.84394992e+01]\n",
      " [  7.68914485e-17  -2.98231240e-16  -5.33315235e-16   1.00000000e+00]]\n"
     ]
    },
    {
     "name": "stderr",
     "output_type": "stream",
     "text": [
      "\r",
      "                                                                               \r",
      "\r",
      "  8% (56 of 660) |##                      | Elapsed Time: 0:00:58 ETA:  0:09:34"
     ]
    },
    {
     "name": "stdout",
     "output_type": "stream",
     "text": [
      "connected mappoints  81\n",
      "55 [[  9.97500350e-01  -4.33854831e-04  -7.06601923e-02  -3.09165919e+00]\n",
      " [  3.01882128e-04   9.99998190e-01  -1.87837753e-03  -5.32458404e-01]\n",
      " [  7.06608793e-02   1.85235120e-03   9.97498676e-01   4.94176762e+01]\n",
      " [  9.77035772e-17  -3.71085615e-16  -8.15724277e-16   1.00000000e+00]]\n"
     ]
    },
    {
     "name": "stderr",
     "output_type": "stream",
     "text": [
      "\r",
      "                                                                               \r",
      "\r",
      "  8% (57 of 660) |##                      | Elapsed Time: 0:00:58 ETA:  0:09:26"
     ]
    },
    {
     "name": "stdout",
     "output_type": "stream",
     "text": [
      "connected mappoints  73\n",
      "56 [[  9.97500485e-01  -2.46923282e-03  -7.06164707e-02  -3.16831479e+00]\n",
      " [  2.54442588e-03   9.99996288e-01   9.74877397e-04  -5.41159803e-01]\n",
      " [  7.06138014e-02  -1.15211905e-03   9.97503064e-01   5.03871573e+01]\n",
      " [  1.15919529e-16  -3.40457908e-16  -5.53708425e-16   1.00000000e+00]]\n"
     ]
    },
    {
     "name": "stderr",
     "output_type": "stream",
     "text": [
      "\r",
      "                                                                               \r",
      "\r",
      "  8% (58 of 660) |##                      | Elapsed Time: 0:01:00 ETA:  0:09:26"
     ]
    },
    {
     "name": "stdout",
     "output_type": "stream",
     "text": [
      "connected mappoints  103\n",
      "57 [[  9.97477833e-01  -4.42276594e-03  -7.08407463e-02  -3.24018713e+00]\n",
      " [  4.55038502e-03   9.99988302e-01   1.64021407e-03  -5.53249583e-01]\n",
      " [  7.08326633e-02  -1.95842985e-03   9.97486290e-01   5.13392009e+01]\n",
      " [  1.17801980e-16  -8.24136111e-16  -1.90932021e-16   1.00000000e+00]]\n"
     ]
    },
    {
     "name": "stderr",
     "output_type": "stream",
     "text": [
      "\r",
      "                                                                               \r",
      "\r",
      "  8% (59 of 660) |##                      | Elapsed Time: 0:01:01 ETA:  0:09:41"
     ]
    },
    {
     "name": "stdout",
     "output_type": "stream",
     "text": [
      "connected mappoints  110\n",
      "58 [[  9.97453230e-01  -7.83321958e-03  -7.08921309e-02  -3.31112395e+00]\n",
      " [  7.89122866e-03   9.99968719e-01   5.38239854e-04  -5.66966901e-01]\n",
      " [  7.08856972e-02  -1.09629510e-03   9.97483843e-01   5.22902936e+01]\n",
      " [  1.05183175e-16  -1.06188502e-15  -4.63371493e-16   1.00000000e+00]]\n"
     ]
    },
    {
     "name": "stderr",
     "output_type": "stream",
     "text": [
      "\r",
      "                                                                               \r",
      "\r",
      "  9% (60 of 660) |##                      | Elapsed Time: 0:01:02 ETA:  0:09:53"
     ]
    },
    {
     "name": "stdout",
     "output_type": "stream",
     "text": [
      "connected mappoints  96\n",
      "59 [[  9.97380493e-01  -1.03756482e-02  -7.15855977e-02  -3.37614727e+00]\n",
      " [  1.03475064e-02   9.99946171e-01  -7.63961320e-04  -5.83753076e-01]\n",
      " [  7.15896710e-02   2.12276865e-05   9.97434168e-01   5.32542716e+01]\n",
      " [  8.83903867e-17  -5.66344885e-16  -6.98411557e-16   1.00000000e+00]]\n"
     ]
    },
    {
     "name": "stderr",
     "output_type": "stream",
     "text": [
      "\r",
      "                                                                               \r",
      "\r",
      "  9% (61 of 660) |##                      | Elapsed Time: 0:01:03 ETA:  0:10:02"
     ]
    },
    {
     "name": "stdout",
     "output_type": "stream",
     "text": [
      "connected mappoints  104\n",
      "60 [[  9.97299677e-01  -1.20631184e-02  -7.24419427e-02  -3.45391189e+00]\n",
      " [  1.21233407e-02   9.99926433e-01   3.91663424e-04  -5.93632273e-01]\n",
      " [  7.24318887e-02  -1.26884416e-03   9.97372554e-01   5.42176162e+01]\n",
      " [  9.21399916e-17  -1.25637063e-15  -5.19092849e-16   1.00000000e+00]]\n"
     ]
    },
    {
     "name": "stderr",
     "output_type": "stream",
     "text": [
      "\r",
      "                                                                               \r",
      "\r",
      "  9% (62 of 660) |##                      | Elapsed Time: 0:01:04 ETA:  0:10:12"
     ]
    },
    {
     "name": "stdout",
     "output_type": "stream",
     "text": [
      "connected mappoints  105\n",
      "61 [[  9.97174762e-01  -1.48798242e-02  -7.36280176e-02  -3.52011130e+00]\n",
      " [  1.52505833e-02   9.99873685e-01   4.47590647e-03  -6.07396717e-01]\n",
      " [  7.35521166e-02  -5.58613118e-03   9.97275730e-01   5.51485222e+01]\n",
      " [  8.50793534e-17  -1.47474082e-15  -3.22250869e-16   1.00000000e+00]]\n"
     ]
    },
    {
     "name": "stderr",
     "output_type": "stream",
     "text": [
      "\r",
      "                                                                               \r",
      "\r",
      "  9% (63 of 660) |##                      | Elapsed Time: 0:01:05 ETA:  0:10:22"
     ]
    },
    {
     "name": "stdout",
     "output_type": "stream",
     "text": [
      "connected mappoints  103\n",
      "62 [[  9.97096633e-01  -1.64698834e-02  -7.43441190e-02  -3.58237420e+00]\n",
      " [  1.72185182e-02   9.99807185e-01   9.44013904e-03  -6.12344516e-01]\n",
      " [  7.41743063e-02  -1.06928264e-02   9.97187964e-01   5.60825038e+01]\n",
      " [  7.89164160e-17  -1.85192617e-15  -2.79494862e-16   1.00000000e+00]]\n"
     ]
    },
    {
     "name": "stderr",
     "output_type": "stream",
     "text": [
      "\r",
      "                                                                               \r",
      "\r",
      "  9% (64 of 660) |##                      | Elapsed Time: 0:01:06 ETA:  0:10:28"
     ]
    },
    {
     "name": "stdout",
     "output_type": "stream",
     "text": [
      "connected mappoints  96\n",
      "63 [[  9.97109638e-01  -1.41021605e-02  -7.46558665e-02  -3.66261604e+00]\n",
      " [  1.50254944e-02   9.99817236e-01   1.18206675e-02  -6.27020185e-01]\n",
      " [  7.44755252e-02  -1.29082428e-02   9.97139295e-01   5.70160594e+01]\n",
      " [  8.44212697e-17  -1.87357705e-15   1.46606418e-16   1.00000000e+00]]\n"
     ]
    },
    {
     "name": "stderr",
     "output_type": "stream",
     "text": [
      "\r",
      "                                                                               \r",
      "\r",
      "  9% (65 of 660) |##                      | Elapsed Time: 0:01:07 ETA:  0:10:21"
     ]
    },
    {
     "name": "stdout",
     "output_type": "stream",
     "text": [
      "connected mappoints  114\n",
      "64 [[  9.97023338e-01  -1.30172657e-02  -7.59935210e-02  -3.74041743e+00]\n",
      " [  1.36451382e-02   9.99876876e-01   7.74879641e-03  -6.30940161e-01]\n",
      " [  7.58832962e-02  -8.76267296e-03   9.97078202e-01   5.79441776e+01]\n",
      " [  1.12781316e-16  -2.28910484e-15   2.32536826e-16   1.00000000e+00]]\n"
     ]
    },
    {
     "name": "stderr",
     "output_type": "stream",
     "text": [
      " 29% (193 of 660) |######                 | Elapsed Time: 0:03:16 ETA:  0:10:46"
     ]
    },
    {
     "name": "stdout",
     "output_type": "stream",
     "text": [
      "connected mappoints  111\n",
      "192 [[ -3.85590935e-02   2.79623332e-02   9.98865008e-01   4.82985065e+01]\n",
      " [  2.85700315e-02   9.99230591e-01  -2.68696810e-02  -2.96061085e+00]\n",
      " [ -9.98847811e-01   2.75015342e-02  -3.93283105e-02   8.76007979e+01]\n",
      " [  2.38951042e-15   2.31963769e-15  -1.45341799e-14   1.00000000e+00]]\n"
     ]
    },
    {
     "name": "stderr",
     "output_type": "stream",
     "text": [
      "\r",
      "                                                                               \r",
      "\r",
      " 29% (194 of 660) |######                 | Elapsed Time: 0:03:17 ETA:  0:11:38"
     ]
    },
    {
     "name": "stdout",
     "output_type": "stream",
     "text": [
      "connected mappoints  123\n",
      "193 [[ -1.39664161e-02   3.09853843e-02   9.99422256e-01   4.88133564e+01]\n",
      " [  2.62509732e-02   9.99186589e-01  -3.06112338e-02  -2.98471696e+00]\n",
      " [ -9.99557815e-01   2.58082776e-02  -1.47684522e-02   8.76121708e+01]\n",
      " [  2.05285073e-15   2.38527979e-15  -1.45919093e-14   1.00000000e+00]]\n"
     ]
    },
    {
     "name": "stderr",
     "output_type": "stream",
     "text": [
      "\r",
      "                                                                               \r",
      "\r",
      " 29% (195 of 660) |######                 | Elapsed Time: 0:03:19 ETA:  0:11:59"
     ]
    },
    {
     "name": "stdout",
     "output_type": "stream",
     "text": [
      "connected mappoints  140\n",
      "194 [[  1.43604429e-02   3.22560733e-02   9.99376467e-01   4.92980141e+01]\n",
      " [  2.35233172e-02   9.99192007e-01  -3.25881357e-02  -3.01532664e+00]\n",
      " [ -9.99620143e-01   2.39766297e-02   1.35900699e-02   8.76355649e+01]\n",
      " [  1.59885350e-15   2.19180764e-15  -1.47873223e-14   1.00000000e+00]]\n"
     ]
    },
    {
     "name": "stderr",
     "output_type": "stream",
     "text": [
      "\r",
      "                                                                               \r",
      "\r",
      " 29% (196 of 660) |######                 | Elapsed Time: 0:03:20 ETA:  0:12:16"
     ]
    },
    {
     "name": "stdout",
     "output_type": "stream",
     "text": [
      "connected mappoints  140\n",
      "195 [[  4.77973463e-02   3.13656410e-02   9.98364468e-01   4.97858277e+01]\n",
      " [  2.07406986e-02   9.99260187e-01  -3.23867562e-02  -3.04125610e+00]\n",
      " [ -9.98641696e-01   2.22547775e-02   4.71114399e-02   8.76750550e+01]\n",
      " [  1.08717147e-15   2.15862116e-15  -1.48658386e-14   1.00000000e+00]]\n"
     ]
    },
    {
     "name": "stderr",
     "output_type": "stream",
     "text": [
      "\r",
      "                                                                               \r",
      "\r",
      " 29% (197 of 660) |######                 | Elapsed Time: 0:03:22 ETA:  0:12:47"
     ]
    },
    {
     "name": "stdout",
     "output_type": "stream",
     "text": [
      "connected mappoints  131\n",
      "196 [[  8.64053146e-02   2.87969388e-02   9.95843792e-01   5.02704090e+01]\n",
      " [  1.93772335e-02   9.99344495e-01  -3.05794528e-02  -3.06497513e+00]\n",
      " [ -9.96071606e-01   2.19389249e-02   8.57906705e-02   8.77312583e+01]\n",
      " [  4.92677866e-16   2.15073208e-15  -1.52644590e-14   1.00000000e+00]]\n"
     ]
    },
    {
     "name": "stderr",
     "output_type": "stream",
     "text": [
      "\r",
      "                                                                               \r",
      "\r",
      " 30% (198 of 660) |######                 | Elapsed Time: 0:03:24 ETA:  0:12:57"
     ]
    },
    {
     "name": "stdout",
     "output_type": "stream",
     "text": [
      "connected mappoints  100\n",
      "197 [[  1.28983459e-01   2.50582646e-02   9.91330092e-01   5.07762977e+01]\n",
      " [  1.73683653e-02   9.99470248e-01  -2.75238510e-02  -3.08620195e+00]\n",
      " [ -9.91494633e-01   2.07679046e-02   1.28479908e-01   8.78173296e+01]\n",
      " [ -2.11336431e-16   2.07812960e-15  -1.47899448e-14   1.00000000e+00]]\n"
     ]
    },
    {
     "name": "stderr",
     "output_type": "stream",
     "text": [
      "\r",
      "                                                                               \r",
      "\r",
      " 30% (199 of 660) |######                 | Elapsed Time: 0:03:25 ETA:  0:13:02"
     ]
    },
    {
     "name": "stdout",
     "output_type": "stream",
     "text": [
      "connected mappoints  112\n",
      "198 [[  1.74497097e-01   2.08329972e-02   9.84437275e-01   5.12608950e+01]\n",
      " [  1.44330259e-02   9.99614628e-01  -2.37125213e-02  -3.10825190e+00]\n",
      " [ -9.84551904e-01   1.83461748e-02   1.74129167e-01   8.79276661e+01]\n",
      " [ -8.09116109e-16   1.96918321e-15  -1.47407858e-14   1.00000000e+00]]\n"
     ]
    },
    {
     "name": "stderr",
     "output_type": "stream",
     "text": [
      "\r",
      "                                                                               \r",
      "\r",
      " 30% (200 of 660) |######                 | Elapsed Time: 0:03:27 ETA:  0:13:06"
     ]
    },
    {
     "name": "stdout",
     "output_type": "stream",
     "text": [
      "connected mappoints  99\n",
      "199 [[  2.23301249e-01   1.76027939e-02   9.74590526e-01   5.17373616e+01]\n",
      " [  1.00186687e-02   9.99742666e-01  -2.03525940e-02  -3.12946421e+00]\n",
      " [ -9.74697993e-01   1.43088593e-02   2.23067429e-01   8.80639355e+01]\n",
      " [ -1.36495620e-15   1.93207078e-15  -1.44418941e-14   1.00000000e+00]]\n"
     ]
    },
    {
     "name": "stderr",
     "output_type": "stream",
     "text": [
      "\r",
      "                                                                               \r",
      "\r",
      " 30% (201 of 660) |#######                | Elapsed Time: 0:03:29 ETA:  0:13:28"
     ]
    },
    {
     "name": "stdout",
     "output_type": "stream",
     "text": [
      "connected mappoints  95\n",
      "200 [[  2.74831221e-01   1.63848465e-02   9.61352868e-01   5.22136768e+01]\n",
      " [  6.35700547e-03   9.99801972e-01  -1.88574935e-02  -3.14312566e+00]\n",
      " [ -9.61471470e-01   1.12939534e-02   2.74672638e-01   8.82333861e+01]\n",
      " [ -2.20186434e-15   1.88922446e-15  -1.46056897e-14   1.00000000e+00]]\n"
     ]
    },
    {
     "name": "stderr",
     "output_type": "stream",
     "text": [
      "\r",
      "                                                                               \r",
      "\r",
      " 30% (202 of 660) |#######                | Elapsed Time: 0:03:32 ETA:  0:13:38"
     ]
    },
    {
     "name": "stdout",
     "output_type": "stream",
     "text": [
      "connected mappoints  87\n",
      "201 [[  3.30279182e-01   1.58902489e-02   9.43749523e-01   5.26679141e+01]\n",
      " [  5.19489974e-03   9.99812536e-01  -1.86522343e-02  -3.16031227e+00]\n",
      " [ -9.43868992e-01   1.10631289e-02   3.30134718e-01   8.84225014e+01]\n",
      " [ -2.87877138e-15   1.70859754e-15  -1.42951051e-14   1.00000000e+00]]\n"
     ]
    },
    {
     "name": "stderr",
     "output_type": "stream",
     "text": [
      "\r",
      "                                                                               \r",
      "\r",
      " 30% (203 of 660) |#######                | Elapsed Time: 0:03:33 ETA:  0:13:37"
     ]
    },
    {
     "name": "stdout",
     "output_type": "stream",
     "text": [
      "connected mappoints  45\n",
      "202 [[  3.88519091e-01   1.66648420e-02   9.21289965e-01   5.31119268e+01]\n",
      " [  6.65009144e-03   9.99759691e-01  -2.08886729e-02  -3.17469334e+00]\n",
      " [ -9.21416677e-01   1.42423107e-02   3.88314904e-01   8.86417826e+01]\n",
      " [ -3.92221851e-15   1.76374504e-15  -1.41607204e-14   1.00000000e+00]]\n"
     ]
    },
    {
     "name": "stderr",
     "output_type": "stream",
     "text": [
      "\r",
      "                                                                               \r",
      "\r",
      " 30% (204 of 660) |#######                | Elapsed Time: 0:03:35 ETA:  0:13:50"
     ]
    },
    {
     "name": "stdout",
     "output_type": "stream",
     "text": [
      "connected mappoints  50\n",
      "203 [[  4.48508555e-01   1.98341390e-02   8.93558438e-01   5.35295711e+01]\n",
      " [  7.37666269e-03   9.99637545e-01  -2.58913636e-02  -3.19687139e+00]\n",
      " [ -8.93748097e-01   1.82039773e-02   4.48199682e-01   8.88850275e+01]\n",
      " [ -4.99035764e-15   1.92645819e-15  -1.37547418e-14   1.00000000e+00]]\n"
     ]
    },
    {
     "name": "stderr",
     "output_type": "stream",
     "text": [
      "\r",
      "                                                                               \r",
      "\r",
      " 31% (205 of 660) |#######                | Elapsed Time: 0:03:37 ETA:  0:13:51"
     ]
    },
    {
     "name": "stdout",
     "output_type": "stream",
     "text": [
      "connected mappoints  25\n",
      "204 [[  5.08530655e-01   2.35505566e-02   8.60721758e-01   5.39248404e+01]\n",
      " [  8.85306463e-03   9.99430039e-01  -3.25763677e-02  -3.20442912e+00]\n",
      " [ -8.60998372e-01   2.41861069e-02   5.08032318e-01   8.91513230e+01]\n",
      " [ -5.84518117e-15   1.97162549e-15  -1.31874428e-14   1.00000000e+00]]\n"
     ]
    },
    {
     "name": "stderr",
     "output_type": "stream",
     "text": [
      "\r",
      "                                                                               \r",
      "\r",
      " 31% (206 of 660) |#######                | Elapsed Time: 0:03:38 ETA:  0:13:36"
     ]
    },
    {
     "name": "stdout",
     "output_type": "stream",
     "text": [
      "connected mappoints  27\n",
      "205 [[  5.67220979e-01   2.72517270e-02   8.23114636e-01   5.42989011e+01]\n",
      " [  4.85286490e-03   9.99324429e-01  -3.64298749e-02  -3.22544592e+00]\n",
      " [ -8.23551340e-01   2.46582535e-02   5.66705532e-01   8.94484849e+01]\n",
      " [ -6.83374076e-15   1.85989440e-15  -1.27493326e-14   1.00000000e+00]]\n"
     ]
    },
    {
     "name": "stderr",
     "output_type": "stream",
     "text": [
      "\r",
      "                                                                               \r",
      "\r",
      " 31% (207 of 660) |#######                | Elapsed Time: 0:03:40 ETA:  0:13:29"
     ]
    },
    {
     "name": "stdout",
     "output_type": "stream",
     "text": [
      "connected mappoints  42\n",
      "206 [[  6.23384195e-01   3.00728250e-02   7.81337168e-01   5.46476004e+01]\n",
      " [  7.08279790e-04   9.99237996e-01  -3.90246887e-02  -3.24347593e+00]\n",
      " [ -7.81915369e-01   2.48807795e-02   6.22887874e-01   8.97709578e+01]\n",
      " [ -7.77515170e-15   1.76745239e-15  -1.24632489e-14   1.00000000e+00]]\n"
     ]
    },
    {
     "name": "stderr",
     "output_type": "stream",
     "text": [
      "\r",
      "                                                                               \r",
      "\r",
      " 31% (208 of 660) |#######                | Elapsed Time: 0:03:41 ETA:  0:13:10"
     ]
    },
    {
     "name": "stdout",
     "output_type": "stream",
     "text": [
      "connected mappoints  65\n",
      "210 [[  8.12061132e-01   2.18507544e-02   5.83163153e-01   5.57684925e+01]\n",
      " [ -5.97639897e-03   9.99557748e-01  -2.91305948e-02  -3.30538627e+00]\n",
      " [ -5.83541773e-01   2.01706081e-02   8.11832585e-01   9.12672280e+01]\n",
      " [ -1.13221807e-14   2.21811078e-15  -9.51117459e-15   1.00000000e+00]]\n"
     ]
    },
    {
     "name": "stderr",
     "output_type": "stream",
     "text": [
      "\r",
      "                                                                               \r",
      "\r",
      " 32% (212 of 660) |#######                | Elapsed Time: 0:03:46 ETA:  0:10:03"
     ]
    },
    {
     "name": "stdout",
     "output_type": "stream",
     "text": [
      "connected mappoints  64\n",
      "211 [[  8.48397968e-01   2.04131882e-02   5.28965206e-01   5.59723057e+01]\n",
      " [ -9.62515329e-03   9.99685875e-01  -2.31410597e-02  -3.31593496e+00]\n",
      " [ -5.29271428e-01   1.45414568e-02   8.48327945e-01   9.16857001e+01]\n",
      " [ -1.19045393e-14   2.20916944e-15  -8.72812690e-15   1.00000000e+00]]\n"
     ]
    },
    {
     "name": "stderr",
     "output_type": "stream",
     "text": [
      "\r",
      "                                                                               \r",
      "\r",
      " 32% (213 of 660) |#######                | Elapsed Time: 0:03:46 ETA:  0:09:17"
     ]
    },
    {
     "name": "stdout",
     "output_type": "stream",
     "text": [
      "connected mappoints  38\n",
      "212 [[  8.79434539e-01   1.69724783e-02   4.75717171e-01   5.61593418e+01]\n",
      " [ -1.07693415e-02   9.99817767e-01  -1.57624212e-02  -3.32991937e+00]\n",
      " [ -4.75898007e-01   8.73885693e-03   8.79457059e-01   9.21163364e+01]\n",
      " [ -1.24892658e-14   2.32689358e-15  -8.03706542e-15   1.00000000e+00]]\n"
     ]
    },
    {
     "name": "stderr",
     "output_type": "stream",
     "text": [
      "\r",
      "                                                                               \r",
      "\r",
      " 32% (214 of 660) |#######                | Elapsed Time: 0:03:47 ETA:  0:08:37"
     ]
    },
    {
     "name": "stdout",
     "output_type": "stream",
     "text": [
      "connected mappoints  62\n",
      "213 [[  9.04938289e-01   1.73542428e-02   4.25188809e-01   5.63212131e+01]\n",
      " [ -1.44282711e-02   9.99844885e-01  -1.01010560e-02  -3.34441078e+00]\n",
      " [ -4.25298151e-01   3.00609288e-03   9.05048311e-01   9.25642899e+01]\n",
      " [ -1.30281070e-14   2.29030661e-15  -7.18966981e-15   1.00000000e+00]]\n"
     ]
    },
    {
     "name": "stderr",
     "output_type": "stream",
     "text": [
      "\r",
      "                                                                               \r",
      "\r",
      " 32% (215 of 660) |#######                | Elapsed Time: 0:03:48 ETA:  0:07:58"
     ]
    },
    {
     "name": "stdout",
     "output_type": "stream",
     "text": [
      "connected mappoints  83\n",
      "214 [[  9.24944949e-01   1.99035656e-02   3.79579623e-01   5.64572976e+01]\n",
      " [ -1.87963750e-02   9.99801396e-01  -6.62311789e-03  -3.35517714e+00]\n",
      " [ -3.79636060e-01  -1.00870150e-03   9.25135365e-01   9.30157051e+01]\n",
      " [ -1.33959659e-14   2.00696066e-15  -6.77202230e-15   1.00000000e+00]]\n"
     ]
    },
    {
     "name": "stderr",
     "output_type": "stream",
     "text": [
      "\r",
      "                                                                               \r",
      "\r",
      " 32% (216 of 660) |#######                | Elapsed Time: 0:03:49 ETA:  0:07:18"
     ]
    },
    {
     "name": "stdout",
     "output_type": "stream",
     "text": [
      "connected mappoints  73\n",
      "215 [[  9.40115343e-01   2.54793825e-02   3.39902842e-01   5.65737490e+01]\n",
      " [ -2.57722515e-02   9.99661164e-01  -3.65357384e-03  -3.36870266e+00]\n",
      " [ -3.39880762e-01  -5.32528070e-03   9.40453459e-01   9.34732237e+01]\n",
      " [ -1.37556319e-14   2.05474018e-15  -6.32532449e-15   1.00000000e+00]]\n"
     ]
    },
    {
     "name": "stderr",
     "output_type": "stream",
     "text": [
      "\r",
      "                                                                               \r",
      "\r",
      " 32% (217 of 660) |#######                | Elapsed Time: 0:03:49 ETA:  0:06:54"
     ]
    },
    {
     "name": "stdout",
     "output_type": "stream",
     "text": [
      "connected mappoints  68\n",
      "216 [[  9.51919791e-01   3.00115493e-02   3.04873775e-01   5.66815146e+01]\n",
      " [ -3.00661562e-02   9.99537705e-01  -4.51697096e-03  -3.37215257e+00]\n",
      " [ -3.04868394e-01  -4.86658848e-03   9.52382055e-01   9.39363841e+01]\n",
      " [ -1.39089147e-14   1.94705428e-15  -5.93937483e-15   1.00000000e+00]]\n"
     ]
    },
    {
     "name": "stderr",
     "output_type": "stream",
     "text": [
      "\r",
      "                                                                               \r",
      "\r",
      " 33% (218 of 660) |#######                | Elapsed Time: 0:03:50 ETA:  0:06:09"
     ]
    },
    {
     "name": "stdout",
     "output_type": "stream",
     "text": [
      "connected mappoints  60\n",
      "217 [[  9.61047700e-01   3.24814457e-02   2.74467255e-01   5.67826432e+01]\n",
      " [ -3.24750517e-02   9.99462105e-01  -4.56848808e-03  -3.37097455e+00]\n",
      " [ -2.74468011e-01  -4.52280331e-03   9.61585594e-01   9.44026930e+01]\n",
      " [ -1.40646532e-14   1.88997368e-15  -5.46724383e-15   1.00000000e+00]]\n"
     ]
    },
    {
     "name": "stderr",
     "output_type": "stream",
     "text": [
      "\r",
      "                                                                               \r",
      "\r",
      " 33% (219 of 660) |#######                | Elapsed Time: 0:03:51 ETA:  0:05:35"
     ]
    },
    {
     "name": "stdout",
     "output_type": "stream",
     "text": [
      "connected mappoints  60\n",
      "218 [[  9.67217561e-01   2.66455302e-02   2.52547430e-01   5.68952189e+01]\n",
      " [ -2.64275968e-02   9.99641672e-01  -4.25562286e-03  -3.38106509e+00]\n",
      " [ -2.52570329e-01  -2.55810848e-03   9.67575157e-01   9.48766372e+01]\n",
      " [ -1.43188111e-14   1.83031590e-15  -5.12584800e-15   1.00000000e+00]]\n"
     ]
    },
    {
     "name": "stderr",
     "output_type": "stream",
     "text": [
      "\r",
      "                                                                               \r",
      "\r",
      " 33% (220 of 660) |#######                | Elapsed Time: 0:03:51 ETA:  0:05:17"
     ]
    },
    {
     "name": "stdout",
     "output_type": "stream",
     "text": [
      "connected mappoints  44\n",
      "219 [[  9.71632411e-01   2.51979652e-02   2.35149994e-01   5.70540580e+01]\n",
      " [ -2.53603400e-02   9.99675650e-01  -2.33410126e-03  -3.41740255e+00]\n",
      " [ -2.35132538e-01  -3.69559536e-03   9.71956291e-01   9.52067601e+01]\n",
      " [ -1.44727592e-14   1.74542906e-15  -4.52119226e-15   1.00000000e+00]]\n"
     ]
    },
    {
     "name": "stderr",
     "output_type": "stream",
     "text": [
      "\r",
      "                                                                               \r",
      "\r",
      " 33% (221 of 660) |#######                | Elapsed Time: 0:03:52 ETA:  0:05:08"
     ]
    },
    {
     "name": "stdout",
     "output_type": "stream",
     "text": [
      "connected mappoints  45\n",
      "220 [[  9.74556943e-01   2.94718226e-02   2.22194008e-01   5.71621887e+01]\n",
      " [ -2.96491823e-02   9.99557144e-01  -2.53811700e-03  -3.41715132e+00]\n",
      " [ -2.22170411e-01  -4.11433110e-03   9.74999170e-01   9.56695577e+01]\n",
      " [ -1.45300295e-14   1.76307079e-15  -4.30720690e-15   1.00000000e+00]]\n"
     ]
    },
    {
     "name": "stderr",
     "output_type": "stream",
     "text": [
      "\r",
      "                                                                               \r",
      "\r",
      " 33% (222 of 660) |#######                | Elapsed Time: 0:03:53 ETA:  0:05:01"
     ]
    },
    {
     "name": "stdout",
     "output_type": "stream",
     "text": [
      "connected mappoints  21\n",
      "221 [[  9.76482814e-01   3.53453889e-02   2.12678202e-01   5.72511013e+01]\n",
      " [ -3.56978969e-02   9.99360241e-01  -2.18355047e-03  -3.41513221e+00]\n",
      " [ -2.12619317e-01  -5.45996500e-03   9.77119857e-01   9.61716344e+01]\n",
      " [ -1.45423663e-14   1.82828417e-15  -4.05035740e-15   1.00000000e+00]]\n"
     ]
    },
    {
     "name": "stderr",
     "output_type": "stream",
     "text": [
      "\r",
      "                                                                               \r",
      "\r",
      " 33% (223 of 660) |#######                | Elapsed Time: 0:03:53 ETA:  0:04:56"
     ]
    },
    {
     "name": "stdout",
     "output_type": "stream",
     "text": [
      "connected mappoints  23\n",
      "222 [[  9.77518869e-01   4.19212110e-02   2.06638506e-01   5.73447876e+01]\n",
      " [ -4.21478543e-02   9.99105911e-01  -3.30725795e-03  -3.41230810e+00]\n",
      " [ -2.06592397e-01  -5.47646258e-03   9.78411769e-01   9.66814765e+01]\n",
      " [ -1.45331469e-14   1.64205944e-15  -5.20751028e-15   1.00000000e+00]]\n"
     ]
    },
    {
     "name": "stderr",
     "output_type": "stream",
     "text": [
      "\r",
      "                                                                               \r",
      "\r",
      " 33% (224 of 660) |#######                | Elapsed Time: 0:03:54 ETA:  0:04:59"
     ]
    },
    {
     "name": "stdout",
     "output_type": "stream",
     "text": [
      "connected mappoints  71\n",
      "223 [[  9.77929057e-01   4.73574064e-02   2.03499472e-01   5.74406256e+01]\n",
      " [ -4.69188176e-02   9.98874305e-01  -6.98194126e-03  -3.41964696e+00]\n",
      " [ -2.03601040e-01  -2.72011136e-03   9.79050161e-01   9.72006940e+01]\n",
      " [ -1.45516420e-14   1.43103210e-15  -5.28680773e-15   1.00000000e+00]]\n"
     ]
    },
    {
     "name": "stderr",
     "output_type": "stream",
     "text": [
      "\r",
      "                                                                               \r",
      "\r",
      " 34% (225 of 660) |#######                | Elapsed Time: 0:03:55 ETA:  0:05:02"
     ]
    },
    {
     "name": "stdout",
     "output_type": "stream",
     "text": [
      "connected mappoints  79\n",
      "224 [[  9.77975580e-01   4.88379938e-02   2.02925146e-01   5.75357748e+01]\n",
      " [ -4.79284927e-02   9.98806569e-01  -9.39663536e-03  -3.43666835e+00]\n",
      " [ -2.03141882e-01  -5.36216440e-04   9.79149166e-01   9.77407178e+01]\n",
      " [ -1.45302351e-14   1.31660873e-15  -5.64297146e-15   1.00000000e+00]]\n"
     ]
    },
    {
     "name": "stderr",
     "output_type": "stream",
     "text": [
      "\r",
      "                                                                               \r",
      "\r",
      " 34% (226 of 660) |#######                | Elapsed Time: 0:03:56 ETA:  0:05:07"
     ]
    },
    {
     "name": "stdout",
     "output_type": "stream",
     "text": [
      "connected mappoints  92\n",
      "225 [[  9.77522716e-01   4.71787590e-02   2.05483586e-01   5.76418676e+01]\n",
      " [ -4.54396206e-02   9.98880176e-01  -1.31770417e-02  -3.44290743e+00]\n",
      " [ -2.05875157e-01   3.54376137e-03   9.78571848e-01   9.82864731e+01]\n",
      " [ -1.44817463e-14   1.42871666e-15  -5.83481431e-15   1.00000000e+00]]\n"
     ]
    },
    {
     "name": "stderr",
     "output_type": "stream",
     "text": [
      "\r",
      "                                                                               \r",
      "\r",
      " 34% (227 of 660) |#######                | Elapsed Time: 0:03:56 ETA:  0:05:15"
     ]
    },
    {
     "name": "stdout",
     "output_type": "stream",
     "text": [
      "connected mappoints  63\n",
      "226 [[  9.76725627e-01   4.65117219e-02   2.09388896e-01   5.77618762e+01]\n",
      " [ -4.33470763e-02   9.98866220e-01  -1.96800674e-02  -3.45420704e+00]\n",
      " [ -2.10066849e-01   1.01456297e-02   9.77634382e-01   9.88241344e+01]\n",
      " [ -1.44483440e-14   1.51136723e-15  -5.52210511e-15   1.00000000e+00]]\n"
     ]
    },
    {
     "name": "stderr",
     "output_type": "stream",
     "text": [
      "\r",
      "                                                                               \r",
      "\r",
      " 34% (228 of 660) |#######                | Elapsed Time: 0:03:57 ETA:  0:05:19"
     ]
    },
    {
     "name": "stdout",
     "output_type": "stream",
     "text": [
      "connected mappoints  58\n",
      "227 [[  9.75890965e-01   4.64001923e-02   2.13269420e-01   5.78915714e+01]\n",
      " [ -4.21564834e-02   9.98812893e-01  -2.44056506e-02  -3.46473415e+00]\n",
      " [ -2.14148674e-01   1.48265652e-02   9.76688547e-01   9.93847666e+01]\n",
      " [ -1.44126664e-14   1.57842603e-15  -6.02181983e-15   1.00000000e+00]]\n"
     ]
    },
    {
     "name": "stderr",
     "output_type": "stream",
     "text": [
      "\r",
      "                                                                               \r",
      "\r",
      " 34% (229 of 660) |#######                | Elapsed Time: 0:03:58 ETA:  0:05:24"
     ]
    },
    {
     "name": "stdout",
     "output_type": "stream",
     "text": [
      "connected mappoints  33\n",
      "228 [[  9.74612057e-01   5.20031172e-02   2.17777441e-01   5.80154452e+01]\n",
      " [ -4.79495702e-02   9.98564731e-01  -2.38603661e-02  -3.48307371e+00]\n",
      " [ -2.18705685e-01   1.28122659e-02   9.75706754e-01   9.99732413e+01]\n",
      " [ -1.43786892e-14   1.45032427e-15  -6.35494622e-15   1.00000000e+00]]\n"
     ]
    },
    {
     "name": "stderr",
     "output_type": "stream",
     "text": [
      "\r",
      "                                                                               \r",
      "\r",
      " 34% (230 of 660) |########               | Elapsed Time: 0:03:59 ETA:  0:05:27"
     ]
    },
    {
     "name": "stdout",
     "output_type": "stream",
     "text": [
      "connected mappoints  78\n",
      "229 [[  9.73144843e-01   5.51817193e-02   2.23481748e-01   5.81417696e+01]\n",
      " [ -5.20402093e-02   9.98446159e-01  -1.99269710e-02  -3.50023727e+00]\n",
      " [ -2.24234097e-01   7.76179217e-03   9.74504399e-01   1.00547869e+02]\n",
      " [ -1.43422903e-14   1.19707525e-15  -6.07123236e-15   1.00000000e+00]]\n"
     ]
    },
    {
     "name": "stderr",
     "output_type": "stream",
     "text": [
      "\r",
      "                                                                               \r",
      "\r",
      " 35% (231 of 660) |########               | Elapsed Time: 0:04:00 ETA:  0:05:32"
     ]
    },
    {
     "name": "stdout",
     "output_type": "stream",
     "text": [
      "connected mappoints  45\n",
      "230 [[  9.72162927e-01   5.23490648e-02   2.28383051e-01   5.82705300e+01]\n",
      " [ -5.01782161e-02   9.98622992e-01  -1.53057692e-02  -3.51773070e+00]\n",
      " [ -2.28869809e-01   3.41984734e-03   9.73451034e-01   1.01133087e+02]\n",
      " [ -1.43134330e-14   1.13870060e-15  -6.53100817e-15   1.00000000e+00]]\n"
     ]
    },
    {
     "name": "stderr",
     "output_type": "stream",
     "text": [
      "\r",
      "                                                                               \r",
      "\r",
      " 35% (232 of 660) |########               | Elapsed Time: 0:04:00 ETA:  0:05:38"
     ]
    },
    {
     "name": "stdout",
     "output_type": "stream",
     "text": [
      "connected mappoints  69\n",
      "231 [[  9.71454096e-01   4.83599142e-02   2.32246114e-01   5.84162112e+01]\n",
      " [ -4.73715020e-02   9.98828925e-01  -9.83457340e-03  -3.52873895e+00]\n",
      " [ -2.32449736e-01  -1.44801063e-03   9.72607333e-01   1.01737234e+02]\n",
      " [ -1.42831451e-14   1.17750565e-15  -6.51209728e-15   1.00000000e+00]]\n"
     ]
    },
    {
     "name": "stderr",
     "output_type": "stream",
     "text": [
      "\r",
      "                                                                               \r",
      "\r",
      " 35% (233 of 660) |########               | Elapsed Time: 0:04:01 ETA:  0:05:35"
     ]
    },
    {
     "name": "stdout",
     "output_type": "stream",
     "text": [
      "connected mappoints  122\n",
      "232 [[  9.70634993e-01   4.58183197e-02   2.36153323e-01   5.85652182e+01]\n",
      " [ -4.59258831e-02   9.98932095e-01  -5.04807996e-03  -3.54568476e+00]\n",
      " [ -2.36132428e-01  -5.94570684e-03   9.71702694e-01   1.02372350e+02]\n",
      " [ -1.42609310e-14   1.13228816e-15  -6.83640789e-15   1.00000000e+00]]\n"
     ]
    },
    {
     "name": "stderr",
     "output_type": "stream",
     "text": [
      "\r",
      "                                                                               \r",
      "\r",
      " 35% (234 of 660) |########               | Elapsed Time: 0:04:02 ETA:  0:05:32"
     ]
    },
    {
     "name": "stdout",
     "output_type": "stream",
     "text": [
      "connected mappoints  125\n",
      "233 [[  9.70152522e-01   4.07479813e-02   2.39047454e-01   5.87263405e+01]\n",
      " [ -4.08828440e-02   9.99154275e-01  -4.39630490e-03  -3.55573324e+00]\n",
      " [ -2.39024427e-01  -5.50785349e-03   9.70997934e-01   1.03013658e+02]\n",
      " [ -1.42291607e-14   1.28084828e-15  -6.72933071e-15   1.00000000e+00]]\n"
     ]
    },
    {
     "name": "stderr",
     "output_type": "stream",
     "text": [
      "\r",
      "                                                                               \r",
      "\r",
      " 35% (235 of 660) |########               | Elapsed Time: 0:04:02 ETA:  0:05:23"
     ]
    },
    {
     "name": "stdout",
     "output_type": "stream",
     "text": [
      "connected mappoints  113\n",
      "234 [[  9.70294800e-01   3.67629642e-02   2.39116050e-01   5.88977202e+01]\n",
      " [ -3.60021623e-02   9.99323190e-01  -7.55019062e-03  -3.56770330e+00]\n",
      " [ -2.39231782e-01  -1.28278417e-03   9.70961641e-01   1.03657413e+02]\n",
      " [ -1.42435585e-14   1.22284032e-15  -6.61790147e-15   1.00000000e+00]]\n"
     ]
    },
    {
     "name": "stderr",
     "output_type": "stream",
     "text": [
      "\r",
      "                                                                               \r",
      "\r",
      " 35% (236 of 660) |########               | Elapsed Time: 0:04:03 ETA:  0:05:11"
     ]
    },
    {
     "name": "stdout",
     "output_type": "stream",
     "text": [
      "connected mappoints  112\n",
      "235 [[  9.70376249e-01   3.67427827e-02   2.38788406e-01   5.90498847e+01]\n",
      " [ -3.42434856e-02   9.99306753e-01  -1.46081033e-02  -3.57710698e+00]\n",
      " [ -2.39159609e-01   5.99840916e-03   9.70961740e-01   1.04300327e+02]\n",
      " [ -1.42341164e-14   1.21088039e-15  -6.54245497e-15   1.00000000e+00]]\n"
     ]
    },
    {
     "name": "stderr",
     "output_type": "stream",
     "text": [
      "\r",
      "                                                                               \r",
      "\r",
      " 35% (237 of 660) |########               | Elapsed Time: 0:04:04 ETA:  0:05:01"
     ]
    },
    {
     "name": "stdout",
     "output_type": "stream",
     "text": [
      "connected mappoints  107\n",
      "236 [[  9.70505808e-01   3.89183039e-02   2.37915619e-01   5.91997554e+01]\n",
      " [ -3.48761745e-02   9.99167245e-01  -2.11771072e-02  -3.59376577e+00]\n",
      " [ -2.38541670e-01   1.22549188e-02   9.71054936e-01   1.04948858e+02]\n",
      " [ -1.42430865e-14   1.35371562e-15  -6.50322014e-15   1.00000000e+00]]\n"
     ]
    },
    {
     "name": "stderr",
     "output_type": "stream",
     "text": [
      "\r",
      "                                                                               \r",
      "\r",
      " 36% (238 of 660) |########               | Elapsed Time: 0:04:04 ETA:  0:04:50"
     ]
    },
    {
     "name": "stdout",
     "output_type": "stream",
     "text": [
      "connected mappoints  118\n",
      "237 [[  9.70977922e-01   4.21248289e-02   2.35430190e-01   5.93542788e+01]\n",
      " [ -3.73101446e-02   9.98994214e-01  -2.48699355e-02  -3.60967518e+00]\n",
      " [ -2.36241040e-01   1.53642239e-02   9.71573009e-01   1.05636080e+02]\n",
      " [ -1.42622020e-14   1.15038203e-15  -6.55620296e-15   1.00000000e+00]]\n"
     ]
    },
    {
     "name": "stderr",
     "output_type": "stream",
     "text": [
      "\r",
      "                                                                               \r",
      "\r",
      " 36% (239 of 660) |########               | Elapsed Time: 0:04:05 ETA:  0:04:39"
     ]
    },
    {
     "name": "stdout",
     "output_type": "stream",
     "text": [
      "connected mappoints  100\n",
      "238 [[  9.71632637e-01   4.03318089e-02   2.33030821e-01   5.95216709e+01]\n",
      " [ -3.65052051e-02   9.99118796e-01  -2.07123659e-02  -3.62275843e+00]\n",
      " [ -2.33660841e-01   1.16179728e-02   9.72248751e-01   1.06337860e+02]\n",
      " [ -1.42727953e-14   1.40591361e-15  -6.14627079e-15   1.00000000e+00]]\n"
     ]
    },
    {
     "name": "stderr",
     "output_type": "stream",
     "text": [
      "\r",
      "                                                                               \r",
      "\r",
      " 36% (240 of 660) |########               | Elapsed Time: 0:04:05 ETA:  0:04:25"
     ]
    },
    {
     "name": "stdout",
     "output_type": "stream",
     "text": [
      "connected mappoints  103\n",
      "239 [[  9.72129424e-01   3.61783836e-02   2.31636587e-01   5.97044708e+01]\n",
      " [ -3.40901409e-02   9.99334042e-01  -1.30128894e-02  -3.63806886e+00]\n",
      " [ -2.31953112e-01   4.75368882e-03   9.72715352e-01   1.07076989e+02]\n",
      " [ -1.42619063e-14   1.57668923e-15  -5.95993542e-15   1.00000000e+00]]\n"
     ]
    },
    {
     "name": "stderr",
     "output_type": "stream",
     "text": [
      "\r",
      "                                                                               \r",
      "\r",
      " 36% (241 of 660) |########               | Elapsed Time: 0:04:06 ETA:  0:04:16"
     ]
    },
    {
     "name": "stdout",
     "output_type": "stream",
     "text": [
      "connected mappoints  102\n",
      "240 [[  9.72663021e-01   3.64387584e-02   2.29344422e-01   5.98684155e+01]\n",
      " [ -3.57353566e-02   9.99335200e-01  -7.22090343e-03  -3.65673226e+00]\n",
      " [ -2.29455074e-01  -1.17219895e-03   9.73318547e-01   1.07797198e+02]\n",
      " [ -1.42775721e-14   1.41184083e-15  -6.02347906e-15   1.00000000e+00]]\n"
     ]
    },
    {
     "name": "stderr",
     "output_type": "stream",
     "text": [
      "\r",
      "                                                                               \r",
      "\r",
      " 36% (242 of 660) |########               | Elapsed Time: 0:04:06 ETA:  0:04:01"
     ]
    },
    {
     "name": "stdout",
     "output_type": "stream",
     "text": [
      "connected mappoints  116\n",
      "241 [[  9.72929852e-01   3.98736220e-02   2.27634789e-01   6.00219455e+01]\n",
      " [ -3.90642953e-02   9.99204180e-01  -8.06146880e-03  -3.66750736e+00]\n",
      " [ -2.27775072e-01  -1.04914895e-03   9.73713210e-01   1.08518230e+02]\n",
      " [ -1.42633334e-14   1.60245082e-15  -5.91361038e-15   1.00000000e+00]]\n"
     ]
    },
    {
     "name": "stderr",
     "output_type": "stream",
     "text": [
      "\r",
      "                                                                               \r",
      "\r",
      " 36% (243 of 660) |########               | Elapsed Time: 0:04:07 ETA:  0:03:56"
     ]
    },
    {
     "name": "stdout",
     "output_type": "stream",
     "text": [
      "connected mappoints  101\n",
      "242 [[  9.73202212e-01   4.51040671e-02   2.25484097e-01   6.01788480e+01]\n",
      " [ -4.33030874e-02   9.98978318e-01  -1.29291803e-02  -3.67852981e+00]\n",
      " [ -2.25836883e-01   2.81854933e-03   9.74161054e-01   1.09256282e+02]\n",
      " [ -1.42542798e-14   2.00120818e-15  -6.03151531e-15   1.00000000e+00]]\n"
     ]
    },
    {
     "name": "stderr",
     "output_type": "stream",
     "text": [
      "\r",
      "                                                                               \r",
      "\r",
      " 36% (244 of 660) |########               | Elapsed Time: 0:04:08 ETA:  0:03:55"
     ]
    },
    {
     "name": "stdout",
     "output_type": "stream",
     "text": [
      "connected mappoints  106\n",
      "243 [[  9.74106709e-01   4.56642666e-02   2.21429207e-01   6.03364783e+01]\n",
      " [ -4.26905806e-02   9.98922567e-01  -1.81994303e-02  -3.69239272e+00]\n",
      " [ -2.22021696e-01   8.27524571e-03   9.75006609e-01   1.09991132e+02]\n",
      " [ -1.43117933e-14   2.11918985e-15  -5.91329364e-15   1.00000000e+00]]\n"
     ]
    },
    {
     "name": "stderr",
     "output_type": "stream",
     "text": [
      "\r",
      "                                                                               \r",
      "\r",
      " 37% (245 of 660) |########               | Elapsed Time: 0:04:08 ETA:  0:03:55"
     ]
    },
    {
     "name": "stdout",
     "output_type": "stream",
     "text": [
      "connected mappoints  97\n",
      "244 [[  9.75008572e-01   4.47002559e-02   2.17623921e-01   6.04931963e+01]\n",
      " [ -4.10688781e-02   9.98931737e-01  -2.11833148e-02  -3.70867163e+00]\n",
      " [ -2.18338341e-01   1.17163432e-02   9.75802796e-01   1.10743165e+02]\n",
      " [ -1.43499571e-14   1.90971262e-15  -6.12529371e-15   1.00000000e+00]]\n"
     ]
    },
    {
     "name": "stderr",
     "output_type": "stream",
     "text": [
      "\r",
      "                                                                               \r",
      "\r",
      " 37% (246 of 660) |########               | Elapsed Time: 0:04:09 ETA:  0:03:55"
     ]
    },
    {
     "name": "stdout",
     "output_type": "stream",
     "text": [
      "connected mappoints  111\n",
      "245 [[  9.75954924e-01   4.22451883e-02   2.13839498e-01   6.06527760e+01]\n",
      " [ -3.89617748e-02   9.99049480e-01  -1.95478264e-02  -3.73211699e+00]\n",
      " [ -2.14462041e-01   1.07462311e-02   9.76673206e-01   1.11503020e+02]\n",
      " [ -1.43559976e-14   1.87003558e-15  -6.25452981e-15   1.00000000e+00]]\n"
     ]
    },
    {
     "name": "stderr",
     "output_type": "stream",
     "text": [
      "\r",
      "                                                                               \r",
      "\r",
      " 37% (247 of 660) |########               | Elapsed Time: 0:04:09 ETA:  0:04:01"
     ]
    },
    {
     "name": "stdout",
     "output_type": "stream",
     "text": [
      "connected mappoints  113\n",
      "246 [[  9.76829281e-01   3.79353587e-02   2.10631108e-01   6.08155116e+01]\n",
      " [ -3.50374009e-02   9.99233214e-01  -1.74746799e-02  -3.75351194e+00]\n",
      " [ -2.11132508e-01   9.68981245e-03   9.77409419e-01   1.12278413e+02]\n",
      " [ -1.43642149e-14   1.64467864e-15  -5.80544112e-15   1.00000000e+00]]\n"
     ]
    },
    {
     "name": "stderr",
     "output_type": "stream",
     "text": [
      "\r",
      "                                                                               \r",
      "\r",
      " 37% (248 of 660) |########               | Elapsed Time: 0:04:10 ETA:  0:04:02"
     ]
    },
    {
     "name": "stdout",
     "output_type": "stream",
     "text": [
      "connected mappoints  100\n",
      "247 [[  9.77380067e-01   3.68224743e-02   2.08260199e-01   6.10153369e+01]\n",
      " [ -3.44664700e-02   9.99294307e-01  -1.49315526e-02  -3.76812853e+00]\n",
      " [ -2.08663048e-01   7.41580798e-03   9.77959477e-01   1.13107643e+02]\n",
      " [ -1.43383890e-14   1.55022023e-15  -5.79444247e-15   1.00000000e+00]]\n"
     ]
    },
    {
     "name": "stderr",
     "output_type": "stream",
     "text": [
      "\r",
      "                                                                               \r",
      "\r",
      " 37% (249 of 660) |########               | Elapsed Time: 0:04:11 ETA:  0:03:59"
     ]
    },
    {
     "name": "stdout",
     "output_type": "stream",
     "text": [
      "connected mappoints  96\n",
      "248 [[  9.77723138e-01   3.35424796e-02   2.07201272e-01   6.11756807e+01]\n",
      " [ -3.15930038e-02   9.99419983e-01  -1.27113775e-02  -3.78335087e+00]\n",
      " [ -2.07507463e-01   5.88209729e-03   9.78215750e-01   1.13902425e+02]\n",
      " [ -1.43387231e-14   1.24120592e-15  -5.55593420e-15   1.00000000e+00]]\n"
     ]
    },
    {
     "name": "stderr",
     "output_type": "stream",
     "text": [
      "\r",
      "                                                                               \r",
      "\r",
      " 37% (250 of 660) |########               | Elapsed Time: 0:04:11 ETA:  0:03:55"
     ]
    },
    {
     "name": "stdout",
     "output_type": "stream",
     "text": [
      "connected mappoints  96\n",
      "249 [[  9.77997518e-01   2.83517251e-02   2.06680996e-01   6.13471037e+01]\n",
      " [ -2.65402234e-02   9.99581220e-01  -1.15326490e-02  -3.79875455e+00]\n",
      " [ -2.06921413e-01   5.79354229e-03   9.78340413e-01   1.14700269e+02]\n",
      " [ -1.43305708e-14   1.39570229e-15  -5.57325974e-15   1.00000000e+00]]\n"
     ]
    },
    {
     "name": "stderr",
     "output_type": "stream",
     "text": [
      "\r",
      "                                                                               \r",
      "\r",
      " 38% (251 of 660) |########               | Elapsed Time: 0:04:11 ETA:  0:03:51"
     ]
    },
    {
     "name": "stdout",
     "output_type": "stream",
     "text": [
      "connected mappoints  91\n",
      "250 [[  9.78091911e-01   2.90980444e-02   2.06129856e-01   6.15071260e+01]\n",
      " [ -2.76378452e-02   9.99568377e-01  -9.96038255e-03  -3.80825207e+00]\n",
      " [ -2.06330714e-01   4.04518456e-03   9.78473951e-01   1.15494637e+02]\n",
      " [ -1.43313490e-14   1.42188980e-15  -5.75296338e-15   1.00000000e+00]]\n"
     ]
    },
    {
     "name": "stderr",
     "output_type": "stream",
     "text": [
      "\r",
      "                                                                               \r",
      "\r",
      " 38% (252 of 660) |########               | Elapsed Time: 0:04:12 ETA:  0:03:43"
     ]
    },
    {
     "name": "stdout",
     "output_type": "stream",
     "text": [
      "connected mappoints  99\n",
      "251 [[  9.77809044e-01   3.46695724e-02   2.06609523e-01   6.16633242e+01]\n",
      " [ -3.29272377e-02   9.99387301e-01  -1.18667309e-02  -3.82639239e+00]\n",
      " [ -2.06894348e-01   4.80031592e-03   9.78351514e-01   1.16293934e+02]\n",
      " [ -1.43414104e-14   1.74651263e-15  -5.67882722e-15   1.00000000e+00]]\n"
     ]
    },
    {
     "name": "stderr",
     "output_type": "stream",
     "text": [
      "\r",
      "                                                                               \r",
      "\r",
      " 38% (253 of 660) |########               | Elapsed Time: 0:04:12 ETA:  0:03:34"
     ]
    },
    {
     "name": "stdout",
     "output_type": "stream",
     "text": [
      "connected mappoints  85\n",
      "252 [[  9.77488754e-01   4.06361713e-02   2.07037287e-01   6.18249590e+01]\n",
      " [ -3.83986564e-02   9.99152654e-01  -1.48160924e-02  -3.85366468e+00]\n",
      " [ -2.07463924e-01   6.53261005e-03   9.78220857e-01   1.17104665e+02]\n",
      " [ -1.43617269e-14   1.72906532e-15  -5.37053742e-15   1.00000000e+00]]\n"
     ]
    },
    {
     "name": "stderr",
     "output_type": "stream",
     "text": [
      "\r",
      "                                                                               \r",
      "\r",
      " 38% (254 of 660) |########               | Elapsed Time: 0:04:13 ETA:  0:03:26"
     ]
    },
    {
     "name": "stdout",
     "output_type": "stream",
     "text": [
      "connected mappoints  80\n",
      "253 [[  9.77034363e-01   4.86638260e-02   2.07450440e-01   6.19924675e+01]\n",
      " [ -4.62633770e-02   9.98794480e-01  -1.64099517e-02  -3.87111933e+00]\n",
      " [ -2.07998925e-01   6.43572879e-03   9.78107882e-01   1.17913009e+02]\n",
      " [ -1.43669307e-14   1.39290044e-15  -5.48972211e-15   1.00000000e+00]]\n"
     ]
    },
    {
     "name": "stderr",
     "output_type": "stream",
     "text": [
      "\r",
      "                                                                               \r",
      "\r",
      " 38% (255 of 660) |########               | Elapsed Time: 0:04:13 ETA:  0:03:20"
     ]
    },
    {
     "name": "stdout",
     "output_type": "stream",
     "text": [
      "connected mappoints  105\n",
      "254 [[  9.76006621e-01   5.49918101e-02   2.10682170e-01   6.21434454e+01]\n",
      " [ -5.28245403e-02   9.98477135e-01  -1.59053038e-02  -3.88807990e+00]\n",
      " [ -2.11235991e-01   4.39449306e-03   9.77425212e-01   1.18755008e+02]\n",
      " [ -1.42670159e-14   1.00446631e-15  -5.66271989e-15   1.00000000e+00]]\n"
     ]
    },
    {
     "name": "stderr",
     "output_type": "stream",
     "text": [
      "\r",
      "                                                                               \r",
      "\r",
      " 38% (256 of 660) |########               | Elapsed Time: 0:04:14 ETA:  0:03:06"
     ]
    },
    {
     "name": "stdout",
     "output_type": "stream",
     "text": [
      "connected mappoints  96\n",
      "255 [[  9.75249146e-01   5.71345281e-02   2.13599506e-01   6.23138872e+01]\n",
      " [ -5.54123682e-02   9.98364752e-01  -1.40460725e-02  -3.90624789e+00]\n",
      " [ -2.14052733e-01   1.86236569e-03   9.76820331e-01   1.19601224e+02]\n",
      " [ -1.42612250e-14   1.11078303e-15  -5.85359155e-15   1.00000000e+00]]\n"
     ]
    },
    {
     "name": "stderr",
     "output_type": "stream",
     "text": [
      "\r",
      "                                                                               \r",
      "\r",
      " 38% (257 of 660) |########               | Elapsed Time: 0:04:14 ETA:  0:02:58"
     ]
    },
    {
     "name": "stdout",
     "output_type": "stream",
     "text": [
      "connected mappoints  75\n",
      "256 [[  9.74705912e-01   5.71572894e-02   2.16058858e-01   6.24937563e+01]\n",
      " [ -5.52051836e-02   9.98361382e-01  -1.50644678e-02  -3.92315004e+00]\n",
      " [ -2.16565865e-01   2.75585685e-03   9.76264120e-01   1.20440133e+02]\n",
      " [ -1.42496398e-14   9.70657056e-16  -6.01341969e-15   1.00000000e+00]]\n"
     ]
    },
    {
     "name": "stderr",
     "output_type": "stream",
     "text": [
      "\r",
      "                                                                               \r",
      "\r",
      " 39% (258 of 660) |########               | Elapsed Time: 0:04:14 ETA:  0:02:55"
     ]
    },
    {
     "name": "stdout",
     "output_type": "stream",
     "text": [
      "connected mappoints  71\n",
      "257 [[  9.74409402e-01   5.55928043e-02   2.17797514e-01   6.26745883e+01]\n",
      " [ -5.30014964e-02   9.98437087e-01  -1.77263783e-02  -3.94601681e+00]\n",
      " [ -2.18442574e-01   5.72915553e-03   9.75832987e-01   1.21271509e+02]\n",
      " [ -1.42342578e-14   1.09014572e-15  -6.03137685e-15   1.00000000e+00]]\n"
     ]
    },
    {
     "name": "stderr",
     "output_type": "stream",
     "text": [
      "\r",
      "                                                                               \r",
      "\r",
      " 39% (259 of 660) |#########              | Elapsed Time: 0:04:15 ETA:  0:02:50"
     ]
    },
    {
     "name": "stdout",
     "output_type": "stream",
     "text": [
      "connected mappoints  74\n",
      "258 [[  9.74470326e-01   4.91390908e-02   2.19072894e-01   6.28669398e+01]\n",
      " [ -4.66835256e-02   9.98775512e-01  -1.63745051e-02  -3.96868283e+00]\n",
      " [ -2.19609270e-01   5.72937425e-03   9.75571085e-01   1.22115188e+02]\n",
      " [ -1.42204741e-14   9.31123122e-16  -5.90146491e-15   1.00000000e+00]]\n"
     ]
    },
    {
     "name": "stderr",
     "output_type": "stream",
     "text": [
      "\r",
      "                                                                               \r",
      "\r",
      " 39% (260 of 660) |#########              | Elapsed Time: 0:04:15 ETA:  0:02:47"
     ]
    },
    {
     "name": "stdout",
     "output_type": "stream",
     "text": [
      "connected mappoints  71\n",
      "259 [[  9.74773118e-01   4.17953328e-02   2.19249901e-01   6.30547122e+01]\n",
      " [ -3.87457355e-02   9.99083479e-01  -1.81925971e-02  -3.99106208e+00]\n",
      " [ -2.19809320e-01   9.23865592e-03   9.75499108e-01   1.22918571e+02]\n",
      " [ -1.42306683e-14   8.75742531e-16  -5.66000270e-15   1.00000000e+00]]\n"
     ]
    },
    {
     "name": "stderr",
     "output_type": "stream",
     "text": [
      "\r",
      "                                                                               \r",
      "\r",
      " 39% (261 of 660) |#########              | Elapsed Time: 0:04:16 ETA:  0:02:45"
     ]
    },
    {
     "name": "stdout",
     "output_type": "stream",
     "text": [
      "connected mappoints  89\n",
      "260 [[  9.74570339e-01   4.05732499e-02   2.20378006e-01   6.32469459e+01]\n",
      " [ -3.74589470e-02   9.99130700e-01  -1.82940257e-02  -4.01314941e+00]\n",
      " [ -2.20928680e-01   9.57368680e-03   9.75242976e-01   1.23751048e+02]\n",
      " [ -1.42185796e-14   1.20516887e-15  -5.37900347e-15   1.00000000e+00]]\n"
     ]
    },
    {
     "name": "stderr",
     "output_type": "stream",
     "text": [
      "\r",
      "                                                                               \r",
      "\r",
      " 39% (262 of 660) |#########              | Elapsed Time: 0:04:16 ETA:  0:02:45"
     ]
    },
    {
     "name": "stdout",
     "output_type": "stream",
     "text": [
      "connected mappoints  71\n",
      "261 [[  9.74086925e-01   4.30044983e-02   2.22047915e-01   6.34290402e+01]\n",
      " [ -4.05518629e-02   9.99055724e-01  -1.55950610e-02  -4.03374990e+00]\n",
      " [ -2.22508898e-01   6.18648846e-03   9.74911031e-01   1.24592719e+02]\n",
      " [ -1.42053705e-14   8.95328481e-16  -5.51263038e-15   1.00000000e+00]]\n"
     ]
    },
    {
     "name": "stderr",
     "output_type": "stream",
     "text": [
      "\r",
      "                                                                               \r",
      "\r",
      " 39% (263 of 660) |#########              | Elapsed Time: 0:04:16 ETA:  0:02:43"
     ]
    },
    {
     "name": "stdout",
     "output_type": "stream",
     "text": [
      "connected mappoints  69\n",
      "262 [[  9.73716191e-01   4.48125329e-02   2.23312822e-01   6.36077506e+01]\n",
      " [ -4.37155485e-02   9.98995400e-01  -9.85602517e-03  -4.05715442e+00]\n",
      " [ -2.23530155e-01  -1.65271209e-04   9.74697000e-01   1.25424654e+02]\n",
      " [ -1.42016329e-14   7.37305658e-16  -5.56247081e-15   1.00000000e+00]]\n"
     ]
    },
    {
     "name": "stderr",
     "output_type": "stream",
     "text": [
      "\r",
      "                                                                               \r",
      "\r",
      " 40% (264 of 660) |#########              | Elapsed Time: 0:04:17 ETA:  0:02:49"
     ]
    },
    {
     "name": "stdout",
     "output_type": "stream",
     "text": [
      "connected mappoints  84\n",
      "263 [[  9.73250172e-01   4.82885676e-02   2.24615930e-01   6.37820617e+01]\n",
      " [ -4.82195738e-02   9.98819943e-01  -5.79600838e-03  -4.07964745e+00]\n",
      " [ -2.24630751e-01  -5.18991825e-03   9.74430136e-01   1.26244845e+02]\n",
      " [ -1.42090070e-14   7.05944560e-16  -5.65385663e-15   1.00000000e+00]]\n"
     ]
    },
    {
     "name": "stderr",
     "output_type": "stream",
     "text": [
      "\r",
      "                                                                               \r",
      "\r",
      " 40% (265 of 660) |#########              | Elapsed Time: 0:04:18 ETA:  0:02:54"
     ]
    },
    {
     "name": "stdout",
     "output_type": "stream",
     "text": [
      "connected mappoints  66\n",
      "264 [[  9.73032704e-01   4.78263171e-02   2.25654605e-01   6.39664827e+01]\n",
      " [ -4.63021047e-02   9.98854857e-01  -1.20453425e-02  -4.10678019e+00]\n",
      " [ -2.25972283e-01   1.27222899e-03   9.74132901e-01   1.27084278e+02]\n",
      " [ -1.42032456e-14   1.15735717e-15  -5.83683393e-15   1.00000000e+00]]\n"
     ]
    },
    {
     "name": "stderr",
     "output_type": "stream",
     "text": [
      "\r",
      "                                                                               \r",
      "\r",
      " 40% (266 of 660) |#########              | Elapsed Time: 0:04:18 ETA:  0:03:01"
     ]
    },
    {
     "name": "stdout",
     "output_type": "stream",
     "text": [
      "connected mappoints  73\n",
      "265 [[  9.73439473e-01   4.28431364e-02   2.24900105e-01   6.41625388e+01]\n",
      " [ -3.78355223e-02   9.98931725e-01  -2.65307890e-02  -4.13308440e+00]\n",
      " [ -2.25796512e-01   1.73169044e-02   9.74020564e-01   1.27895972e+02]\n",
      " [ -1.41864027e-14   1.36074858e-15  -5.35965192e-15   1.00000000e+00]]\n"
     ]
    },
    {
     "name": "stderr",
     "output_type": "stream",
     "text": [
      "\r",
      "                                                                               \r",
      "\r",
      " 40% (267 of 660) |#########              | Elapsed Time: 0:04:19 ETA:  0:03:08"
     ]
    },
    {
     "name": "stdout",
     "output_type": "stream",
     "text": [
      "connected mappoints  59\n",
      "266 [[  9.73704714e-01   4.06995171e-02   2.24148786e-01   6.43580766e+01]\n",
      " [ -3.35955652e-02   9.98807752e-01  -3.54176936e-02  -4.16019973e+00]\n",
      " [ -2.25323028e-01   2.69559700e-02   9.73911140e-01   1.28726666e+02]\n",
      " [ -1.41846985e-14   1.60893042e-15  -5.02985655e-15   1.00000000e+00]]\n"
     ]
    },
    {
     "name": "stderr",
     "output_type": "stream",
     "text": [
      "\r",
      "                                                                               \r",
      "\r",
      " 40% (268 of 660) |#########              | Elapsed Time: 0:04:19 ETA:  0:03:08"
     ]
    },
    {
     "name": "stdout",
     "output_type": "stream",
     "text": [
      "connected mappoints  59\n",
      "267 [[  9.73965878e-01   3.80690176e-02   2.23475318e-01   6.45427604e+01]\n",
      " [ -3.30244140e-02   9.99109269e-01  -2.62689231e-02  -4.18907598e+00]\n",
      " [ -2.24276294e-01   1.82048933e-02   9.74355544e-01   1.29545360e+02]\n",
      " [ -1.41930357e-14   1.40659325e-15  -5.34465416e-15   1.00000000e+00]]\n"
     ]
    },
    {
     "name": "stderr",
     "output_type": "stream",
     "text": [
      "\r",
      "                                                                               \r",
      "\r",
      " 40% (269 of 660) |#########              | Elapsed Time: 0:04:20 ETA:  0:03:06"
     ]
    },
    {
     "name": "stdout",
     "output_type": "stream",
     "text": [
      "connected mappoints  36\n",
      "268 [[  9.74398232e-01   3.16579438e-02   2.22588993e-01   6.47319877e+01]\n",
      " [ -3.11512831e-02   9.99497924e-01  -5.78777012e-03  -4.20903166e+00]\n",
      " [ -2.22660465e-01  -1.29433977e-03   9.74895195e-01   1.30377056e+02]\n",
      " [ -1.42008479e-14   1.48982153e-15  -5.26286436e-15   1.00000000e+00]]\n"
     ]
    },
    {
     "name": "stderr",
     "output_type": "stream",
     "text": [
      "\r",
      "                                                                               \r",
      "\r",
      " 40% (270 of 660) |#########              | Elapsed Time: 0:04:20 ETA:  0:03:05"
     ]
    },
    {
     "name": "stdout",
     "output_type": "stream",
     "text": [
      "connected mappoints  38\n",
      "269 [[  9.74723031e-01   2.75063185e-02   2.21716973e-01   6.49230250e+01]\n",
      " [ -3.02967527e-02   9.99498665e-01   9.19376633e-03  -4.23184732e+00]\n",
      " [ -2.21352931e-01  -1.56786801e-02   9.75067720e-01   1.31238473e+02]\n",
      " [ -1.41969582e-14   1.60734588e-15  -5.16818686e-15   1.00000000e+00]]\n"
     ]
    },
    {
     "name": "stderr",
     "output_type": "stream",
     "text": [
      "\r",
      "                                                                               \r",
      "\r",
      " 41% (271 of 660) |#########              | Elapsed Time: 0:04:20 ETA:  0:03:04"
     ]
    },
    {
     "name": "stdout",
     "output_type": "stream",
     "text": [
      "connected mappoints  60\n",
      "270 [[  9.74703848e-01   3.20760306e-02   2.21186657e-01   6.50944099e+01]\n",
      " [ -3.36835428e-02   9.99426425e-01   3.49861176e-03  -4.24449383e+00]\n",
      " [ -2.20947568e-01  -1.08604606e-02   9.75225216e-01   1.32052358e+02]\n",
      " [ -1.41975205e-14   1.48892510e-15  -5.38915970e-15   1.00000000e+00]]\n"
     ]
    },
    {
     "name": "stderr",
     "output_type": "stream",
     "text": [
      "\r",
      "                                                                               \r",
      "\r",
      " 41% (272 of 660) |#########              | Elapsed Time: 0:04:21 ETA:  0:03:03"
     ]
    },
    {
     "name": "stdout",
     "output_type": "stream",
     "text": [
      "connected mappoints  51\n",
      "271 [[  9.74829115e-01   4.07595474e-02   2.19195928e-01   6.52592358e+01]\n",
      " [ -3.89371484e-02   9.99161847e-01  -1.26294260e-02  -4.25373737e+00]\n",
      " [ -2.19526978e-01   3.77666775e-03   9.75599120e-01   1.32859336e+02]\n",
      " [ -1.41847479e-14   1.33138720e-15  -5.33551541e-15   1.00000000e+00]]\n"
     ]
    },
    {
     "name": "stderr",
     "output_type": "stream",
     "text": [
      "\r",
      "                                                                               \r",
      "\r",
      " 41% (273 of 660) |#########              | Elapsed Time: 0:04:21 ETA:  0:02:52"
     ]
    },
    {
     "name": "stdout",
     "output_type": "stream",
     "text": [
      "connected mappoints  62\n",
      "272 [[  9.75105074e-01   4.11938820e-02   2.17883361e-01   6.54334055e+01]\n",
      " [ -3.76463313e-02   9.99082675e-01  -2.04098427e-02  -4.26991938e+00]\n",
      " [ -2.18524252e-01   1.16992320e-02   9.75761384e-01   1.33669955e+02]\n",
      " [ -1.41790885e-14   1.25705121e-15  -5.32671328e-15   1.00000000e+00]]\n"
     ]
    },
    {
     "name": "stderr",
     "output_type": "stream",
     "text": [
      "\r",
      "                                                                               \r",
      "\r",
      " 41% (274 of 660) |#########              | Elapsed Time: 0:04:21 ETA:  0:02:45"
     ]
    },
    {
     "name": "stdout",
     "output_type": "stream",
     "text": [
      "connected mappoints  67\n",
      "273 [[  9.75755353e-01   3.70534341e-02   2.15704738e-01   6.56138050e+01]\n",
      " [ -3.32576264e-02   9.99221907e-01  -2.12016490e-02  -4.29488934e+00]\n",
      " [ -2.16322493e-01   1.35137949e-02   9.76228434e-01   1.34480010e+02]\n",
      " [ -1.41997699e-14  -2.07531755e-15  -5.38900148e-15   1.00000000e+00]]\n"
     ]
    },
    {
     "name": "stderr",
     "output_type": "stream",
     "text": [
      "\r",
      "                                                                               \r",
      "\r",
      " 41% (275 of 660) |#########              | Elapsed Time: 0:04:22 ETA:  0:02:37"
     ]
    },
    {
     "name": "stdout",
     "output_type": "stream",
     "text": [
      "connected mappoints  58\n",
      "274 [[  9.76325162e-01   3.70988117e-02   2.13102925e-01   6.57849866e+01]\n",
      " [ -3.36768562e-02   9.99239256e-01  -1.96666793e-02  -4.32591831e+00]\n",
      " [ -2.13670419e-01   1.20244373e-02   9.76831800e-01   1.35296410e+02]\n",
      " [ -1.41954520e-14  -2.31255847e-15  -5.38642797e-15   1.00000000e+00]]\n"
     ]
    },
    {
     "name": "stderr",
     "output_type": "stream",
     "text": [
      "\r",
      "                                                                               \r",
      "\r",
      " 41% (276 of 660) |#########              | Elapsed Time: 0:04:22 ETA:  0:02:30"
     ]
    },
    {
     "name": "stdout",
     "output_type": "stream",
     "text": [
      "connected mappoints  48\n",
      "275 [[  9.77171574e-01   3.65584269e-02   2.09282573e-01   6.59516518e+01]\n",
      " [ -3.28629344e-02   9.99236922e-01  -2.11092807e-02  -4.34204485e+00]\n",
      " [ -2.09894597e-01   1.37497496e-02   9.77627333e-01   1.36114623e+02]\n",
      " [ -1.42078313e-14  -2.26529489e-15  -5.23579776e-15   1.00000000e+00]]\n"
     ]
    },
    {
     "name": "stderr",
     "output_type": "stream",
     "text": [
      "\r",
      "                                                                               \r",
      "\r",
      " 41% (277 of 660) |#########              | Elapsed Time: 0:04:23 ETA:  0:02:32"
     ]
    },
    {
     "name": "stdout",
     "output_type": "stream",
     "text": [
      "connected mappoints  47\n",
      "276 [[  9.78155246e-01   3.74034409e-02   2.04483002e-01   6.61179232e+01]\n",
      " [ -3.34794058e-02   9.99183461e-01  -2.26172498e-02  -4.37167936e+00]\n",
      " [ -2.05161997e-01   1.52772121e-02   9.78608789e-01   1.36927358e+02]\n",
      " [ -1.42263288e-14  -2.08315898e-15  -4.69333891e-15   1.00000000e+00]]\n"
     ]
    },
    {
     "name": "stderr",
     "output_type": "stream",
     "text": [
      "\r",
      "                                                                               \r",
      "\r",
      " 42% (278 of 660) |#########              | Elapsed Time: 0:04:23 ETA:  0:02:38"
     ]
    },
    {
     "name": "stdout",
     "output_type": "stream",
     "text": [
      "connected mappoints  53\n",
      "277 [[  9.78588370e-01   4.20064242e-02   2.01495067e-01   6.62714053e+01]\n",
      " [ -3.82627351e-02   9.99015714e-01  -2.24403024e-02  -4.41117382e+00]\n",
      " [ -2.02239375e-01   1.42500666e-02   9.79232440e-01   1.37737336e+02]\n",
      " [ -1.42112281e-14  -2.21016411e-15  -4.42540829e-15   1.00000000e+00]]\n"
     ]
    },
    {
     "name": "stderr",
     "output_type": "stream",
     "text": [
      "\r",
      "                                                                               \r",
      "\r",
      " 42% (279 of 660) |#########              | Elapsed Time: 0:04:24 ETA:  0:02:56"
     ]
    },
    {
     "name": "stdout",
     "output_type": "stream",
     "text": [
      "connected mappoints  54\n",
      "278 [[  9.78713043e-01   4.81138791e-02   1.99513993e-01   6.64162919e+01]\n",
      " [ -4.44716049e-02   9.98752720e-01  -2.26998007e-02  -4.43655230e+00]\n",
      " [ -2.00357319e-01   1.33438835e-02   9.79632015e-01   1.38534234e+02]\n",
      " [ -1.42021597e-14  -2.51069680e-15  -4.48147212e-15   1.00000000e+00]]\n"
     ]
    },
    {
     "name": "stderr",
     "output_type": "stream",
     "text": [
      "\r",
      "                                                                               \r",
      "\r",
      " 42% (280 of 660) |#########              | Elapsed Time: 0:04:25 ETA:  0:03:11"
     ]
    },
    {
     "name": "stdout",
     "output_type": "stream",
     "text": [
      "connected mappoints  65\n",
      "279 [[  9.79076642e-01   4.92886379e-02   1.97432415e-01   6.65724957e+01]\n",
      " [ -4.60399601e-02   9.98718548e-01  -2.10139118e-02  -4.46235899e+00]\n",
      " [ -1.98215162e-01   1.14844497e-02   9.80091249e-01   1.39339048e+02]\n",
      " [ -1.42089468e-14  -2.48523087e-15  -3.99699788e-15   1.00000000e+00]]\n"
     ]
    },
    {
     "name": "stderr",
     "output_type": "stream",
     "text": [
      "\r",
      "                                                                               \r",
      "\r",
      " 42% (281 of 660) |#########              | Elapsed Time: 0:04:26 ETA:  0:03:32"
     ]
    },
    {
     "name": "stdout",
     "output_type": "stream",
     "text": [
      "connected mappoints  65\n",
      "280 [[  9.79390699e-01   4.74551981e-02   1.96320816e-01   6.67285408e+01]\n",
      " [ -4.51644248e-02   9.98849311e-01  -1.61316277e-02  -4.48874736e+00]\n",
      " [ -1.96860442e-01   6.93244934e-03   9.80407011e-01   1.40142851e+02]\n",
      " [ -1.42187405e-14  -2.53864526e-15  -3.93964858e-15   1.00000000e+00]]\n"
     ]
    },
    {
     "name": "stderr",
     "output_type": "stream",
     "text": [
      "\r",
      "                                                                               \r",
      "\r",
      " 42% (282 of 660) |#########              | Elapsed Time: 0:04:27 ETA:  0:03:58"
     ]
    },
    {
     "name": "stdout",
     "output_type": "stream",
     "text": [
      "connected mappoints  68\n",
      "281 [[  9.79781853e-01   4.51788887e-02   1.94900971e-01   6.68686658e+01]\n",
      " [ -4.28721879e-02   9.98951803e-01  -1.60396360e-02  -4.52272004e+00]\n",
      " [ -1.95421329e-01   7.35951322e-03   9.80691767e-01   1.40912629e+02]\n",
      " [ -1.42725185e-14  -2.63395969e-15  -3.99457948e-15   1.00000000e+00]]\n"
     ]
    },
    {
     "name": "stderr",
     "output_type": "stream",
     "text": [
      "\r",
      "                                                                               \r",
      "\r",
      " 42% (283 of 660) |#########              | Elapsed Time: 0:04:28 ETA:  0:04:26"
     ]
    },
    {
     "name": "stdout",
     "output_type": "stream",
     "text": [
      "connected mappoints  82\n",
      "282 [[  9.80380502e-01   4.36330435e-02   1.92224421e-01   6.70213151e+01]\n",
      " [ -4.07325040e-02   9.98989093e-01  -1.90172600e-02  -4.54871223e+00]\n",
      " [ -1.92859881e-01   1.08143689e-02   9.81166711e-01   1.41708605e+02]\n",
      " [ -1.42802464e-14  -2.72174147e-15  -3.93470945e-15   1.00000000e+00]]\n"
     ]
    },
    {
     "name": "stderr",
     "output_type": "stream",
     "text": [
      "\r",
      "                                                                               \r",
      "\r",
      " 43% (284 of 660) |#########              | Elapsed Time: 0:04:29 ETA:  0:04:53"
     ]
    },
    {
     "name": "stdout",
     "output_type": "stream",
     "text": [
      "connected mappoints  92\n",
      "283 [[  9.81596814e-01   3.87370255e-02   1.86995019e-01   6.71754300e+01]\n",
      " [ -3.50679326e-02   9.99122740e-01  -2.28908352e-02  -4.57341496e+00]\n",
      " [ -1.87717698e-01   1.59120422e-02   9.82094126e-01   1.42494104e+02]\n",
      " [ -1.43083082e-14  -1.41398599e-15  -3.68763029e-15   1.00000000e+00]]\n"
     ]
    },
    {
     "name": "stderr",
     "output_type": "stream",
     "text": [
      "\r",
      "                                                                               \r",
      "\r",
      " 43% (285 of 660) |#########              | Elapsed Time: 0:04:30 ETA:  0:05:18"
     ]
    },
    {
     "name": "stdout",
     "output_type": "stream",
     "text": [
      "connected mappoints  69\n",
      "284 [[  9.82890333e-01   3.56811538e-02   1.80702655e-01   6.73142226e+01]\n",
      " [ -3.18886300e-02   9.99206823e-01  -2.38503753e-02  -4.60176373e+00]\n",
      " [ -1.81410334e-01   1.76799432e-02   9.83248550e-01   1.43293406e+02]\n",
      " [ -1.43281623e-14  -1.76445551e-15  -3.85733841e-15   1.00000000e+00]]\n"
     ]
    },
    {
     "name": "stderr",
     "output_type": "stream",
     "text": [
      "\r",
      "                                                                               \r",
      "\r",
      " 43% (286 of 660) |#########              | Elapsed Time: 0:04:31 ETA:  0:05:35"
     ]
    },
    {
     "name": "stdout",
     "output_type": "stream",
     "text": [
      "connected mappoints  49\n",
      "285 [[  9.84124793e-01   3.36946454e-02   1.74250000e-01   6.74526674e+01]\n",
      " [ -3.09461240e-02   9.99350439e-01  -1.84672070e-02  -4.63037904e+00]\n",
      " [ -1.74759059e-01   1.27816742e-02   9.84528263e-01   1.44090397e+02]\n",
      " [ -1.43734034e-14  -1.89680597e-15  -4.02760530e-15   1.00000000e+00]]\n"
     ]
    },
    {
     "name": "stderr",
     "output_type": "stream",
     "text": [
      "\r",
      "                                                                               \r",
      "\r",
      " 43% (287 of 660) |##########             | Elapsed Time: 0:04:32 ETA:  0:05:51"
     ]
    },
    {
     "name": "stdout",
     "output_type": "stream",
     "text": [
      "connected mappoints  48\n",
      "286 [[  9.85259290e-01   3.06397935e-02   1.68301320e-01   6.75784116e+01]\n",
      " [ -2.93570254e-02   9.99517907e-01  -1.01053294e-02  -4.65195012e+00]\n",
      " [ -1.68529809e-01   5.01554355e-03   9.85683797e-01   1.44889337e+02]\n",
      " [ -1.43949906e-14  -1.78653308e-15  -3.60710488e-15   1.00000000e+00]]\n"
     ]
    },
    {
     "name": "stderr",
     "output_type": "stream",
     "text": [
      "\r",
      "                                                                               \r",
      "\r",
      " 43% (288 of 660) |##########             | Elapsed Time: 0:04:33 ETA:  0:05:47"
     ]
    },
    {
     "name": "stdout",
     "output_type": "stream",
     "text": [
      "connected mappoints  58\n",
      "287 [[  9.85939819e-01   2.78109122e-02   1.64770224e-01   6.77072569e+01]\n",
      " [ -2.80509004e-02   9.99606117e-01  -8.70656621e-04  -4.66604383e+00]\n",
      " [ -1.64729538e-01  -3.76353811e-03   9.86331595e-01   1.45702873e+02]\n",
      " [ -1.44056147e-14  -1.94948325e-15  -3.81903907e-15   1.00000000e+00]]\n"
     ]
    },
    {
     "name": "stderr",
     "output_type": "stream",
     "text": [
      "\r",
      "                                                                               \r",
      "\r",
      " 43% (289 of 660) |##########             | Elapsed Time: 0:04:33 ETA:  0:05:39"
     ]
    },
    {
     "name": "stdout",
     "output_type": "stream",
     "text": [
      "connected mappoints  79\n",
      "288 [[  9.86428456e-01   3.43466304e-02   1.60559054e-01   6.78247880e+01]\n",
      " [ -3.50489636e-02   9.99384405e-01   1.54340914e-03  -4.67853665e+00]\n",
      " [ -1.60407203e-01  -7.14989113e-03   9.87025029e-01   1.46500520e+02]\n",
      " [ -1.44471082e-14  -2.04110305e-15  -3.71762290e-15   1.00000000e+00]]\n"
     ]
    },
    {
     "name": "stderr",
     "output_type": "stream",
     "text": [
      "\r",
      "                                                                               \r",
      "\r",
      " 43% (290 of 660) |##########             | Elapsed Time: 0:04:34 ETA:  0:05:27"
     ]
    },
    {
     "name": "stdout",
     "output_type": "stream",
     "text": [
      "connected mappoints  77\n",
      "289 [[  9.87105965e-01   3.77872666e-02   1.55543999e-01   6.79383026e+01]\n",
      " [ -3.77307692e-02   9.99282437e-01  -3.31664653e-03  -4.68375678e+00]\n",
      " [ -1.55557713e-01  -2.59491315e-03   9.87823397e-01   1.47296772e+02]\n",
      " [ -1.44224789e-14  -2.21877411e-15  -3.83313619e-15   1.00000000e+00]]\n"
     ]
    },
    {
     "name": "stderr",
     "output_type": "stream",
     "text": [
      "\r",
      "                                                                               \r",
      "\r",
      " 44% (291 of 660) |##########             | Elapsed Time: 0:04:34 ETA:  0:05:11"
     ]
    },
    {
     "name": "stdout",
     "output_type": "stream",
     "text": [
      "connected mappoints  79\n",
      "290 [[  9.88294328e-01   3.83804257e-02   1.47652510e-01   6.80581447e+01]\n",
      " [ -3.67993759e-02   9.99232482e-01  -1.34258032e-02  -4.69790268e+00]\n",
      " [ -1.48054473e-01   7.83512494e-03   9.88948171e-01   1.48082521e+02]\n",
      " [ -1.44515403e-14  -2.62524978e-15  -3.52791021e-15   1.00000000e+00]]\n"
     ]
    },
    {
     "name": "stderr",
     "output_type": "stream",
     "text": [
      "\r",
      "                                                                               \r",
      "\r",
      " 44% (292 of 660) |##########             | Elapsed Time: 0:04:35 ETA:  0:04:51"
     ]
    },
    {
     "name": "stdout",
     "output_type": "stream",
     "text": [
      "connected mappoints  67\n",
      "291 [[  9.89429558e-01   3.49445301e-02   1.40741004e-01   6.81757882e+01]\n",
      " [ -3.26434162e-02   9.99293485e-01  -1.86262737e-02  -4.71125703e+00]\n",
      " [ -1.41292454e-01   1.38351186e-02   9.89871220e-01   1.48885147e+02]\n",
      " [ -1.44888843e-14  -2.68056331e-15  -3.42369434e-15   1.00000000e+00]]\n"
     ]
    },
    {
     "name": "stderr",
     "output_type": "stream",
     "text": [
      "\r",
      "                                                                               \r",
      "\r",
      " 44% (293 of 660) |##########             | Elapsed Time: 0:04:35 ETA:  0:04:27"
     ]
    },
    {
     "name": "stdout",
     "output_type": "stream",
     "text": [
      "connected mappoints  66\n",
      "292 [[  9.90408451e-01   3.42521011e-02   1.33857739e-01   6.82808279e+01]\n",
      " [ -3.21778998e-02   9.99326674e-01  -1.76289723e-02  -4.72675293e+00]\n",
      " [ -1.34371438e-01   1.31526222e-02   9.90843744e-01   1.49689037e+02]\n",
      " [ -1.45055634e-14  -2.84830833e-15  -2.86463988e-15   1.00000000e+00]]\n"
     ]
    },
    {
     "name": "stderr",
     "output_type": "stream",
     "text": [
      "\r",
      "                                                                               \r",
      "\r",
      " 44% (294 of 660) |##########             | Elapsed Time: 0:04:36 ETA:  0:04:15"
     ]
    },
    {
     "name": "stdout",
     "output_type": "stream",
     "text": [
      "connected mappoints  61\n",
      "293 [[  9.91160280e-01   4.07765569e-02   1.26248054e-01   6.83699449e+01]\n",
      " [ -3.93155420e-02   9.99128150e-01  -1.40437982e-02  -4.75339736e+00]\n",
      " [ -1.26710642e-01   8.95614426e-03   9.91899290e-01   1.50508595e+02]\n",
      " [ -1.45112742e-14  -3.04217589e-15  -3.00479968e-15   1.00000000e+00]]\n"
     ]
    },
    {
     "name": "stderr",
     "output_type": "stream",
     "text": [
      "\r",
      "                                                                               \r",
      "\r",
      " 44% (295 of 660) |##########             | Elapsed Time: 0:04:37 ETA:  0:03:56"
     ]
    },
    {
     "name": "stdout",
     "output_type": "stream",
     "text": [
      "connected mappoints  59\n",
      "294 [[  9.91891924e-01   4.64309052e-02   1.18298700e-01   6.84408738e+01]\n",
      " [ -4.49364067e-02   9.98873125e-01  -1.52708736e-02  -4.77778483e+00]\n",
      " [ -1.18874433e-01   9.83113772e-03   9.92860624e-01   1.51318865e+02]\n",
      " [ -1.44292847e-14  -3.26967415e-15  -4.73820494e-15   1.00000000e+00]]\n"
     ]
    },
    {
     "name": "stderr",
     "output_type": "stream",
     "text": [
      "\r",
      "                                                                               \r",
      "\r",
      " 44% (296 of 660) |##########             | Elapsed Time: 0:04:37 ETA:  0:03:36"
     ]
    },
    {
     "name": "stdout",
     "output_type": "stream",
     "text": [
      "connected mappoints  55\n",
      "295 [[  9.92979078e-01   4.86554834e-02   1.07820197e-01   6.85241453e+01]\n",
      " [ -4.66670022e-02   9.98692020e-01  -2.08911347e-02  -4.79733992e+00]\n",
      " [ -1.08695638e-01   1.57128143e-02   9.93950887e-01   1.52117369e+02]\n",
      " [ -1.44471558e-14  -3.55823559e-15  -4.78143998e-15   1.00000000e+00]]\n"
     ]
    },
    {
     "name": "stderr",
     "output_type": "stream",
     "text": [
      "\r",
      "                                                                               \r",
      "\r",
      " 45% (297 of 660) |##########             | Elapsed Time: 0:04:38 ETA:  0:03:23"
     ]
    },
    {
     "name": "stdout",
     "output_type": "stream",
     "text": [
      "connected mappoints  73\n",
      "296 [[  9.93938903e-01   4.74005134e-02   9.91899636e-02   6.86054224e+01]\n",
      " [ -4.52986905e-02   9.98700861e-01  -2.33370674e-02  -4.81930750e+00]\n",
      " [ -1.00167291e-01   1.87024437e-02   9.94794819e-01   1.52933892e+02]\n",
      " [ -1.44929813e-14  -3.81093854e-15  -4.67664930e-15   1.00000000e+00]]\n"
     ]
    },
    {
     "name": "stderr",
     "output_type": "stream",
     "text": [
      "\r",
      "                                                                               \r",
      "\r",
      " 45% (298 of 660) |##########             | Elapsed Time: 0:04:38 ETA:  0:03:17"
     ]
    },
    {
     "name": "stdout",
     "output_type": "stream",
     "text": [
      "connected mappoints  68\n",
      "297 [[  9.94755763e-01   4.69651069e-02   9.08584072e-02   6.86807403e+01]\n",
      " [ -4.53070937e-02   9.98768315e-01  -2.02267268e-02  -4.84036644e+00]\n",
      " [ -9.16964486e-02   1.60041227e-02   9.95658390e-01   1.53758043e+02]\n",
      " [ -1.45520678e-14  -3.96684888e-15  -4.68674517e-15   1.00000000e+00]]\n"
     ]
    },
    {
     "name": "stderr",
     "output_type": "stream",
     "text": [
      "\r",
      "                                                                               \r",
      "\r",
      " 45% (299 of 660) |##########             | Elapsed Time: 0:04:38 ETA:  0:03:08"
     ]
    },
    {
     "name": "stdout",
     "output_type": "stream",
     "text": [
      "connected mappoints  61\n",
      "298 [[  9.95275781e-01   4.99855736e-02   8.32319787e-02   6.87379375e+01]\n",
      " [ -4.90433114e-02   9.98707717e-01  -1.33285067e-02  -4.85698300e+00]\n",
      " [ -8.37906525e-02   9.18356801e-03   9.96441061e-01   1.54583362e+02]\n",
      " [ -1.45750174e-14  -4.08800370e-15  -4.73855133e-15   1.00000000e+00]]\n"
     ]
    },
    {
     "name": "stderr",
     "output_type": "stream",
     "text": [
      "\r",
      "                                                                               \r",
      "\r",
      " 45% (300 of 660) |##########             | Elapsed Time: 0:04:39 ETA:  0:03:00"
     ]
    },
    {
     "name": "stdout",
     "output_type": "stream",
     "text": [
      "connected mappoints  63\n",
      "299 [[  9.95778251e-01   5.27027581e-02   7.51537992e-02   6.87828408e+01]\n",
      " [ -5.22773449e-02   9.98603548e-01  -7.61795287e-03  -4.87630877e+00]\n",
      " [ -7.54503376e-02   3.65695071e-03   9.97142855e-01   1.55401954e+02]\n",
      " [ -1.45585137e-14  -4.05925129e-15  -4.88977171e-15   1.00000000e+00]]\n"
     ]
    },
    {
     "name": "stderr",
     "output_type": "stream",
     "text": [
      "\r",
      "                                                                               \r",
      "\r",
      " 45% (301 of 660) |##########             | Elapsed Time: 0:04:39 ETA:  0:02:56"
     ]
    },
    {
     "name": "stdout",
     "output_type": "stream",
     "text": [
      "connected mappoints  62\n",
      "300 [[  9.96355287e-01   5.19202540e-02   6.76788624e-02   6.88278209e+01]\n",
      " [ -5.17442560e-02   9.98650886e-01  -4.35209059e-03  -4.89253109e+00]\n",
      " [ -6.78135175e-02   8.34236085e-04   9.97697665e-01   1.56224979e+02]\n",
      " [ -1.45747957e-14  -4.02474845e-15  -4.95935089e-15   1.00000000e+00]]\n"
     ]
    },
    {
     "name": "stderr",
     "output_type": "stream",
     "text": [
      "\r",
      "                                                                               \r",
      "\r",
      " 45% (302 of 660) |##########             | Elapsed Time: 0:04:40 ETA:  0:02:51"
     ]
    },
    {
     "name": "stdout",
     "output_type": "stream",
     "text": [
      "connected mappoints  54\n",
      "301 [[  9.96747641e-01   5.21431926e-02   6.14428786e-02   6.88731424e+01]\n",
      " [ -5.21233286e-02   9.98638796e-01  -1.92715903e-03  -4.90748382e+00]\n",
      " [ -6.14597305e-02  -1.28171613e-03   9.98108741e-01   1.57044475e+02]\n",
      " [ -1.46028097e-14  -3.81670190e-15  -4.85761280e-15   1.00000000e+00]]\n"
     ]
    },
    {
     "name": "stderr",
     "output_type": "stream",
     "text": [
      "\r",
      "                                                                               \r",
      "\r",
      " 45% (303 of 660) |##########             | Elapsed Time: 0:04:40 ETA:  0:02:36"
     ]
    },
    {
     "name": "stdout",
     "output_type": "stream",
     "text": [
      "connected mappoints  52\n",
      "302 [[  9.97062362e-01   5.12533082e-02   5.69187511e-02   6.89181417e+01]\n",
      " [ -5.11340173e-02   9.98685487e-01  -3.55121905e-03  -4.92471352e+00]\n",
      " [ -5.70259424e-02   6.30302449e-04   9.98372498e-01   1.57871049e+02]\n",
      " [ -1.46297885e-14  -3.69735604e-15  -5.18587469e-15   1.00000000e+00]]\n"
     ]
    },
    {
     "name": "stderr",
     "output_type": "stream",
     "text": [
      "\r",
      "                                                                               \r",
      "\r",
      " 46% (304 of 660) |##########             | Elapsed Time: 0:04:41 ETA:  0:02:34"
     ]
    },
    {
     "name": "stdout",
     "output_type": "stream",
     "text": [
      "connected mappoints  70\n",
      "303 [[  9.97078633e-01   5.57909235e-02   5.21687003e-02   6.89471989e+01]\n",
      " [ -5.53915872e-02   9.98423505e-01  -9.07059973e-03  -4.94088495e+00]\n",
      " [ -5.25925137e-02   6.15439407e-03   9.98597091e-01   1.58689997e+02]\n",
      " [ -1.46734851e-14  -3.71762234e-15  -5.36800464e-15   1.00000000e+00]]\n"
     ]
    },
    {
     "name": "stderr",
     "output_type": "stream",
     "text": [
      "\r",
      "                                                                               \r",
      "\r",
      " 46% (305 of 660) |##########             | Elapsed Time: 0:04:41 ETA:  0:02:34"
     ]
    },
    {
     "name": "stdout",
     "output_type": "stream",
     "text": [
      "connected mappoints  62\n",
      "304 [[  9.96895164e-01   6.20089141e-02   4.85275939e-02   6.89675567e+01]\n",
      " [ -6.12957564e-02   9.97990594e-01  -1.60500417e-02  -4.95555945e+00]\n",
      " [ -4.94253280e-02   1.30256734e-02   9.98692880e-01   1.59495907e+02]\n",
      " [ -1.46549891e-14  -3.49037173e-15  -5.37974452e-15   1.00000000e+00]]\n"
     ]
    },
    {
     "name": "stderr",
     "output_type": "stream",
     "text": [
      "\r",
      "                                                                               \r",
      "\r",
      " 46% (306 of 660) |##########             | Elapsed Time: 0:04:42 ETA:  0:02:35"
     ]
    },
    {
     "name": "stdout",
     "output_type": "stream",
     "text": [
      "connected mappoints  74\n",
      "305 [[  9.96942545e-01   6.34200997e-02   4.56448476e-02   6.89899241e+01]\n",
      " [ -6.26447736e-02   9.97869524e-01  -1.82220927e-02  -4.97518937e+00]\n",
      " [ -4.67032494e-02   1.53069684e-02   9.98791521e-01   1.60312174e+02]\n",
      " [ -1.47136522e-14  -3.55148711e-15  -5.54960995e-15   1.00000000e+00]]\n"
     ]
    },
    {
     "name": "stderr",
     "output_type": "stream",
     "text": [
      "\r",
      "                                                                               \r",
      "\r",
      " 46% (307 of 660) |##########             | Elapsed Time: 0:04:42 ETA:  0:02:34"
     ]
    },
    {
     "name": "stdout",
     "output_type": "stream",
     "text": [
      "connected mappoints  57\n",
      "306 [[  9.97042012e-01   6.39318370e-02   4.26608304e-02   6.90131653e+01]\n",
      " [ -6.34712093e-02   9.97910710e-01  -1.20673379e-02  -4.98734440e+00]\n",
      " [ -4.33431867e-02   9.32390839e-03   9.99016733e-01   1.61144789e+02]\n",
      " [ -1.47052214e-14  -4.18113016e-15  -5.68913651e-15   1.00000000e+00]]\n"
     ]
    },
    {
     "name": "stderr",
     "output_type": "stream",
     "text": [
      "\r",
      "                                                                               \r",
      "\r",
      " 46% (308 of 660) |##########             | Elapsed Time: 0:04:42 ETA:  0:02:31"
     ]
    },
    {
     "name": "stdout",
     "output_type": "stream",
     "text": [
      "connected mappoints  54\n",
      "307 [[  9.96960619e-01   6.63385263e-02   4.08500124e-02   6.90322782e+01]\n",
      " [ -6.63306416e-02   9.97796494e-01  -1.54985189e-03  -5.00029884e+00]\n",
      " [ -4.08628140e-02  -1.16446623e-03   9.99164088e-01   1.61976913e+02]\n",
      " [ -1.46898637e-14  -4.04404723e-15  -5.63241196e-15   1.00000000e+00]]\n"
     ]
    },
    {
     "name": "stderr",
     "output_type": "stream",
     "text": [
      "\r",
      "                                                                               \r",
      "\r",
      " 46% (309 of 660) |##########             | Elapsed Time: 0:04:43 ETA:  0:02:27"
     ]
    },
    {
     "name": "stdout",
     "output_type": "stream",
     "text": [
      "connected mappoints  60\n",
      "308 [[  9.97035387e-01   6.71978236e-02   3.74818634e-02   6.90516309e+01]\n",
      " [ -6.74501485e-02   9.97707447e-01   5.50708570e-03  -5.00550163e+00]\n",
      " [ -3.70258701e-02  -8.01891657e-03   9.99282133e-01   1.62812898e+02]\n",
      " [ -1.47126160e-14  -4.11793600e-15  -5.76953180e-15   1.00000000e+00]]\n"
     ]
    },
    {
     "name": "stderr",
     "output_type": "stream",
     "text": [
      "\r",
      "                                                                               \r",
      "\r",
      " 46% (310 of 660) |##########             | Elapsed Time: 0:04:43 ETA:  0:02:26"
     ]
    },
    {
     "name": "stdout",
     "output_type": "stream",
     "text": [
      "connected mappoints  63\n",
      "309 [[  9.97441555e-01   6.37397524e-02   3.23664562e-02   6.90745405e+01]\n",
      " [ -6.38493241e-02   9.97956755e-01   2.36209552e-03  -5.01697285e+00]\n",
      " [ -3.21497642e-02  -4.42262858e-03   9.99473278e-01   1.63623027e+02]\n",
      " [ -1.47623583e-14  -3.70918743e-15  -5.54516282e-15   1.00000000e+00]]\n"
     ]
    },
    {
     "name": "stderr",
     "output_type": "stream",
     "text": [
      "\r",
      "                                                                               \r",
      "\r",
      " 47% (311 of 660) |##########             | Elapsed Time: 0:04:44 ETA:  0:02:26"
     ]
    },
    {
     "name": "stdout",
     "output_type": "stream",
     "text": [
      "connected mappoints  55\n",
      "310 [[  9.98360123e-01   5.11376676e-02   2.57294177e-02   6.91375866e+01]\n",
      " [ -5.09756254e-02   9.98675955e-01  -6.91532669e-03  -5.03716316e+00]\n",
      " [ -2.60489845e-02   5.59241325e-03   9.99645025e-01   1.64358392e+02]\n",
      " [ -1.48564389e-14  -3.68806641e-15  -5.34198820e-15   1.00000000e+00]]\n"
     ]
    },
    {
     "name": "stderr",
     "output_type": "stream",
     "text": [
      "\r",
      "                                                                               \r",
      "\r",
      " 47% (312 of 660) |##########             | Elapsed Time: 0:04:44 ETA:  0:02:26"
     ]
    },
    {
     "name": "stdout",
     "output_type": "stream",
     "text": [
      "connected mappoints  62\n",
      "311 [[  9.98610300e-01   4.93342798e-02   1.85363770e-02   6.91536596e+01]\n",
      " [ -4.91276699e-02   9.98726975e-01  -1.14412246e-02  -5.04797013e+00]\n",
      " [ -1.90772243e-02   1.05146757e-02   9.99762722e-01   1.65175336e+02]\n",
      " [ -1.49086315e-14  -4.00824922e-15  -5.21661765e-15   1.00000000e+00]]\n"
     ]
    },
    {
     "name": "stderr",
     "output_type": "stream",
     "text": [
      "\r",
      "                                                                               \r",
      "\r",
      " 47% (313 of 660) |##########             | Elapsed Time: 0:04:44 ETA:  0:02:26"
     ]
    },
    {
     "name": "stdout",
     "output_type": "stream",
     "text": [
      "connected mappoints  67\n",
      "312 [[  9.98555049e-01   5.25690597e-02   1.11493445e-02   6.91730525e+01]\n",
      " [ -5.24636825e-02   9.98577240e-01  -9.54239594e-03  -5.06701437e+00]\n",
      " [ -1.16351164e-02   8.94367198e-03   9.99892312e-01   1.65972735e+02]\n",
      " [ -1.49313610e-14  -4.18952430e-15  -4.87874519e-15   1.00000000e+00]]\n"
     ]
    },
    {
     "name": "stderr",
     "output_type": "stream",
     "text": [
      "\r",
      "                                                                               \r",
      "\r",
      " 47% (314 of 660) |##########             | Elapsed Time: 0:04:45 ETA:  0:02:24"
     ]
    },
    {
     "name": "stdout",
     "output_type": "stream",
     "text": [
      "connected mappoints  73\n",
      "313 [[  9.98707028e-01   5.07080568e-02   3.60075626e-03   6.91735407e+01]\n",
      " [ -5.06964478e-02   9.98708835e-01  -3.24532207e-03  -5.08266054e+00]\n",
      " [ -3.76067107e-03   3.05858040e-03   9.99988251e-01   1.66798093e+02]\n",
      " [ -1.49861468e-14  -3.93259106e-15  -5.20663150e-15   1.00000000e+00]]\n"
     ]
    },
    {
     "name": "stderr",
     "output_type": "stream",
     "text": [
      "\r",
      "                                                                               \r",
      "\r",
      " 47% (315 of 660) |##########             | Elapsed Time: 0:04:45 ETA:  0:02:20"
     ]
    },
    {
     "name": "stdout",
     "output_type": "stream",
     "text": [
      "connected mappoints  81\n",
      "314 [[  9.98983499e-01   4.49005440e-02  -3.98878802e-03   6.91713944e+01]\n",
      " [ -4.48996076e-02   9.98991452e-01   3.24048606e-04  -5.09300589e+00]\n",
      " [  3.99931509e-03  -1.44624194e-04   9.99991992e-01   1.67619375e+02]\n",
      " [ -1.50542686e-14  -4.09766037e-15  -4.85350393e-15   1.00000000e+00]]\n"
     ]
    },
    {
     "name": "stderr",
     "output_type": "stream",
     "text": [
      "\r",
      "                                                                               \r",
      "\r",
      " 47% (316 of 660) |###########            | Elapsed Time: 0:04:46 ETA:  0:02:17"
     ]
    },
    {
     "name": "stdout",
     "output_type": "stream",
     "text": [
      "connected mappoints  74\n",
      "315 [[  9.99296732e-01   3.62015955e-02  -9.77171021e-03   6.91740242e+01]\n",
      " [ -3.61580857e-02   9.99335527e-01   4.59322866e-03  -5.10380127e+00]\n",
      " [  9.93149938e-03  -4.23667205e-03   9.99941706e-01   1.68437831e+02]\n",
      " [ -1.50981579e-14  -3.81379628e-15  -4.40720664e-15   1.00000000e+00]]\n"
     ]
    },
    {
     "name": "stderr",
     "output_type": "stream",
     "text": [
      "\r",
      "                                                                               \r",
      "\r",
      " 48% (317 of 660) |###########            | Elapsed Time: 0:04:46 ETA:  0:02:18"
     ]
    },
    {
     "name": "stdout",
     "output_type": "stream",
     "text": [
      "connected mappoints  76\n",
      "316 [[  9.99366485e-01   3.18446824e-02  -1.58916715e-02   6.91596002e+01]\n",
      " [ -3.17750325e-02   9.99484386e-01   4.61627092e-03  -5.11451612e+00]\n",
      " [  1.60304812e-02  -4.10838806e-03   9.99863063e-01   1.69267774e+02]\n",
      " [ -1.51488380e-14  -3.90309720e-15  -4.36019525e-15   1.00000000e+00]]\n"
     ]
    },
    {
     "name": "stderr",
     "output_type": "stream",
     "text": [
      "\r",
      "                                                                               \r",
      "\r",
      " 48% (318 of 660) |###########            | Elapsed Time: 0:04:46 ETA:  0:02:19"
     ]
    },
    {
     "name": "stdout",
     "output_type": "stream",
     "text": [
      "connected mappoints  76\n",
      "317 [[  9.99342073e-01   2.87591448e-02  -2.20982442e-02   6.91350990e+01]\n",
      " [ -2.88122113e-02   9.99582664e-01  -2.08670001e-03  -5.13063047e+00]\n",
      " [  2.20290101e-02   2.72202639e-03   9.99753626e-01   1.70093075e+02]\n",
      " [ -1.51805996e-14  -3.77262721e-15  -4.26888554e-15   1.00000000e+00]]\n"
     ]
    },
    {
     "name": "stderr",
     "output_type": "stream",
     "text": [
      "\r",
      "                                                                               \r",
      "\r",
      " 48% (319 of 660) |###########            | Elapsed Time: 0:04:47 ETA:  0:02:16"
     ]
    },
    {
     "name": "stdout",
     "output_type": "stream",
     "text": [
      "connected mappoints  68\n",
      "318 [[  9.99361168e-01   1.97401503e-02  -2.97923345e-02   6.91182602e+01]\n",
      " [ -2.01132834e-02   9.99722325e-01  -1.22771658e-02  -5.13697009e+00]\n",
      " [  2.95417088e-02   1.28685444e-02   9.99480709e-01   1.70912087e+02]\n",
      " [ -1.52551770e-14  -4.65505990e-15  -4.09272724e-15   1.00000000e+00]]\n"
     ]
    },
    {
     "name": "stderr",
     "output_type": "stream",
     "text": [
      "\r",
      "                                                                               \r",
      "\r",
      " 48% (320 of 660) |###########            | Elapsed Time: 0:04:47 ETA:  0:02:14"
     ]
    },
    {
     "name": "stdout",
     "output_type": "stream",
     "text": [
      "connected mappoints  65\n",
      "319 [[  9.99296871e-01   9.80102096e-03  -3.61898330e-02   6.90915354e+01]\n",
      " [ -1.03942611e-02   9.99814080e-01  -1.62408547e-02  -5.14700914e+00]\n",
      " [  3.60239276e-02   1.66056018e-02   9.99212956e-01   1.71753100e+02]\n",
      " [ -1.53100257e-14  -3.08896527e-15  -4.03108365e-15   1.00000000e+00]]\n"
     ]
    },
    {
     "name": "stderr",
     "output_type": "stream",
     "text": [
      "\r",
      "                                                                               \r",
      "\r",
      " 48% (321 of 660) |###########            | Elapsed Time: 0:04:48 ETA:  0:02:15"
     ]
    },
    {
     "name": "stdout",
     "output_type": "stream",
     "text": [
      "connected mappoints  61\n",
      "320 [[  9.98990320e-01   1.36138222e-02  -4.28136007e-02   6.90495991e+01]\n",
      " [ -1.40137565e-02   9.99860801e-01  -9.05506500e-03  -5.15755621e+00]\n",
      " [  4.26843670e-02   9.64590166e-03   9.99042042e-01   1.72591227e+02]\n",
      " [ -1.53266137e-14  -2.89558976e-15  -4.08272968e-15   1.00000000e+00]]\n"
     ]
    },
    {
     "name": "stderr",
     "output_type": "stream",
     "text": [
      "\r",
      "                                                                               \r",
      "\r",
      " 48% (322 of 660) |###########            | Elapsed Time: 0:04:48 ETA:  0:02:15"
     ]
    },
    {
     "name": "stdout",
     "output_type": "stream",
     "text": [
      "connected mappoints  54\n",
      "321 [[  9.98571018e-01   2.40493809e-02  -4.77236786e-02   6.89901472e+01]\n",
      " [ -2.38532004e-02   9.99704536e-01   4.67609820e-03  -5.17869869e+00]\n",
      " [  4.78220353e-02  -3.53105367e-03   9.98849631e-01   1.73429072e+02]\n",
      " [ -1.53191668e-14  -2.78111640e-15  -4.01095493e-15   1.00000000e+00]]\n"
     ]
    },
    {
     "name": "stderr",
     "output_type": "stream",
     "text": [
      "\r",
      "                                                                               \r",
      "\r",
      " 48% (323 of 660) |###########            | Elapsed Time: 0:04:48 ETA:  0:02:16"
     ]
    },
    {
     "name": "stdout",
     "output_type": "stream",
     "text": [
      "connected mappoints  56\n",
      "322 [[  9.98208942e-01   2.87106887e-02  -5.24843198e-02   6.89269564e+01]\n",
      " [ -2.80990116e-02   9.99528781e-01   1.23555943e-02  -5.19433368e+00]\n",
      " [  5.28143259e-02  -1.08587073e-02   9.98545310e-01   1.74286503e+02]\n",
      " [ -1.53174968e-14  -2.78031929e-15  -3.87240620e-15   1.00000000e+00]]\n"
     ]
    },
    {
     "name": "stderr",
     "output_type": "stream",
     "text": [
      "\r",
      "                                                                               \r",
      "\r",
      " 49% (324 of 660) |###########            | Elapsed Time: 0:04:49 ETA:  0:02:17"
     ]
    },
    {
     "name": "stdout",
     "output_type": "stream",
     "text": [
      "connected mappoints  70\n",
      "323 [[  9.98008537e-01   2.85013754e-02  -5.62728309e-02   6.88729508e+01]\n",
      " [ -2.80225274e-02   9.99564211e-01   9.28037987e-03  -5.20005043e+00]\n",
      " [  5.65128114e-02  -7.68499139e-03   9.98372297e-01   1.75127922e+02]\n",
      " [ -1.53054423e-14  -3.23149466e-15  -3.88102618e-15   1.00000000e+00]]\n"
     ]
    },
    {
     "name": "stderr",
     "output_type": "stream",
     "text": [
      "\r",
      "                                                                               \r",
      "\r",
      " 49% (325 of 660) |###########            | Elapsed Time: 0:04:49 ETA:  0:02:18"
     ]
    },
    {
     "name": "stdout",
     "output_type": "stream",
     "text": [
      "connected mappoints  71\n",
      "324 [[  9.97849212e-01   2.98752844e-02  -5.83473905e-02   6.88212244e+01]\n",
      " [ -2.99924026e-02   9.99549485e-01  -1.13235747e-03  -5.20874366e+00]\n",
      " [  5.82872747e-02   2.87990043e-03   9.98295698e-01   1.75928354e+02]\n",
      " [ -1.52987723e-14  -3.80017588e-15  -3.28060376e-15   1.00000000e+00]]\n"
     ]
    },
    {
     "name": "stderr",
     "output_type": "stream",
     "text": [
      "\r",
      "                                                                               \r",
      "\r",
      " 49% (326 of 660) |###########            | Elapsed Time: 0:04:50 ETA:  0:02:19"
     ]
    },
    {
     "name": "stdout",
     "output_type": "stream",
     "text": [
      "connected mappoints  77\n",
      "325 [[  9.97305366e-01   3.97277044e-02  -6.16742804e-02   6.87584783e+01]\n",
      " [ -4.04610961e-02   9.99123951e-01  -1.06878786e-02  -5.20400338e+00]\n",
      " [  6.11956459e-02   1.31544876e-02   9.98039104e-01   1.76762105e+02]\n",
      " [ -1.52523767e-14  -4.27106261e-15  -3.13162686e-15   1.00000000e+00]]\n"
     ]
    },
    {
     "name": "stderr",
     "output_type": "stream",
     "text": [
      "\r",
      "                                                                               \r",
      "\r",
      " 49% (327 of 660) |###########            | Elapsed Time: 0:04:50 ETA:  0:02:21"
     ]
    },
    {
     "name": "stdout",
     "output_type": "stream",
     "text": [
      "connected mappoints  68\n",
      "326 [[  9.97212944e-01   3.83529767e-02  -6.39952677e-02   6.87039342e+01]\n",
      " [ -3.93295083e-02   9.99127236e-01  -1.40696517e-02  -5.21933326e+00]\n",
      " [  6.33998019e-02   1.65473412e-02   9.97851016e-01   1.77595109e+02]\n",
      " [ -1.52645268e-14  -4.60462528e-15  -2.81565223e-15   1.00000000e+00]]\n"
     ]
    },
    {
     "name": "stderr",
     "output_type": "stream",
     "text": [
      "\r",
      "                                                                               \r",
      "\r",
      " 49% (328 of 660) |###########            | Elapsed Time: 0:04:51 ETA:  0:02:24"
     ]
    },
    {
     "name": "stdout",
     "output_type": "stream",
     "text": [
      "connected mappoints  70\n",
      "327 [[  9.97250938e-01   3.31435641e-02  -6.62727013e-02   6.86501765e+01]\n",
      " [ -3.38258453e-02   9.99385404e-01  -9.19928976e-03  -5.23371888e+00]\n",
      " [  6.59270731e-02   1.14157305e-02   9.97759140e-01   1.78451230e+02]\n",
      " [ -1.53017951e-14  -5.62755695e-15  -2.92215387e-15   1.00000000e+00]]\n"
     ]
    },
    {
     "name": "stderr",
     "output_type": "stream",
     "text": [
      "\r",
      "                                                                               \r",
      "\r",
      " 49% (329 of 660) |###########            | Elapsed Time: 0:04:51 ETA:  0:02:26"
     ]
    },
    {
     "name": "stdout",
     "output_type": "stream",
     "text": [
      "connected mappoints  74\n",
      "328 [[  9.97281775e-01   3.32696222e-02  -6.57433868e-02   6.85797430e+01]\n",
      " [ -3.33704156e-02   9.99442958e-01  -4.35293473e-04  -5.24755863e+00]\n",
      " [  6.56922830e-02   2.62799439e-03   9.97836468e-01   1.79318588e+02]\n",
      " [ -1.52673683e-14  -5.75421763e-15  -2.90399825e-15   1.00000000e+00]]\n"
     ]
    },
    {
     "name": "stderr",
     "output_type": "stream",
     "text": [
      "\r",
      "                                                                               \r",
      "\r",
      " 50% (330 of 660) |###########            | Elapsed Time: 0:04:52 ETA:  0:02:30"
     ]
    },
    {
     "name": "stdout",
     "output_type": "stream",
     "text": [
      "connected mappoints  79\n",
      "329 [[  9.97256128e-01   3.45453237e-02  -6.54739268e-02   6.85218145e+01]\n",
      " [ -3.42750570e-02   9.99398664e-01   5.24696946e-03  -5.25940064e+00]\n",
      " [  6.56158132e-02  -2.98844987e-03   9.97840485e-01   1.80144872e+02]\n",
      " [ -1.52635684e-14  -5.59152148e-15  -3.14885333e-15   1.00000000e+00]]\n"
     ]
    },
    {
     "name": "stderr",
     "output_type": "stream",
     "text": [
      "\r",
      "                                                                               \r",
      "\r",
      " 50% (331 of 660) |###########            | Elapsed Time: 0:04:52 ETA:  0:02:33"
     ]
    },
    {
     "name": "stdout",
     "output_type": "stream",
     "text": [
      "connected mappoints  67\n",
      "330 [[  9.97181173e-01   3.31605965e-02  -6.73058906e-02   6.84576290e+01]\n",
      " [ -3.29415137e-02   9.99447760e-01   4.36256885e-03  -5.26810353e+00]\n",
      " [  6.74133870e-02  -2.13311361e-03   9.97722850e-01   1.81000194e+02]\n",
      " [ -1.52566247e-14  -5.48533933e-15  -3.22214015e-15   1.00000000e+00]]\n"
     ]
    },
    {
     "name": "stderr",
     "output_type": "stream",
     "text": [
      "\r",
      "                                                                               \r",
      "\r",
      " 50% (332 of 660) |###########            | Elapsed Time: 0:04:53 ETA:  0:02:34"
     ]
    },
    {
     "name": "stdout",
     "output_type": "stream",
     "text": [
      "connected mappoints  77\n",
      "331 [[  9.97159851e-01   2.86193905e-02  -6.96646452e-02   6.83983284e+01]\n",
      " [ -2.90089351e-02   9.99568631e-01  -4.58626357e-03  -5.27821467e+00]\n",
      " [  6.95033380e-02   6.59413507e-03   9.97559925e-01   1.81832589e+02]\n",
      " [ -1.52806869e-14  -5.26223111e-15  -2.93156419e-15   1.00000000e+00]]\n"
     ]
    },
    {
     "name": "stderr",
     "output_type": "stream",
     "text": [
      "\r",
      "                                                                               \r",
      "\r",
      " 50% (333 of 660) |###########            | Elapsed Time: 0:04:53 ETA:  0:02:34"
     ]
    },
    {
     "name": "stdout",
     "output_type": "stream",
     "text": [
      "connected mappoints  81\n",
      "332 [[  9.97250764e-01   1.78256214e-02  -7.19246960e-02   6.83415339e+01]\n",
      " [ -1.90276890e-02   9.99689925e-01  -1.60624012e-02  -5.29561748e+00]\n",
      " [  7.16160717e-02   1.73868026e-02   9.97280721e-01   1.82693419e+02]\n",
      " [ -1.53413125e-14  -4.73710699e-15  -2.64326401e-15   1.00000000e+00]]\n"
     ]
    },
    {
     "name": "stderr",
     "output_type": "stream",
     "text": [
      "\r",
      "                                                                               \r",
      "\r",
      " 50% (334 of 660) |###########            | Elapsed Time: 0:04:54 ETA:  0:02:32"
     ]
    },
    {
     "name": "stdout",
     "output_type": "stream",
     "text": [
      "connected mappoints  57\n",
      "333 [[  9.97210136e-01   7.88656550e-03  -7.42276659e-02   6.82906052e+01]\n",
      " [ -9.40763541e-03   9.99752411e-01  -2.01646716e-02  -5.31503275e+00]\n",
      " [  7.40502579e-02   2.08067218e-02   9.97037431e-01   1.83549296e+02]\n",
      " [ -1.53801218e-14  -4.59132623e-15  -2.52157697e-15   1.00000000e+00]]\n"
     ]
    },
    {
     "name": "stderr",
     "output_type": "stream",
     "text": [
      "\r",
      "                                                                               \r",
      "\r",
      " 50% (335 of 660) |###########            | Elapsed Time: 0:04:54 ETA:  0:02:33"
     ]
    },
    {
     "name": "stdout",
     "output_type": "stream",
     "text": [
      "connected mappoints  83\n",
      "334 [[  9.97123949e-01   9.30744306e-03  -7.52143710e-02   6.82200885e+01]\n",
      " [ -1.05165093e-02   9.99821521e-01  -1.56948912e-02  -5.32956564e+00]\n",
      " [  7.50548675e-02   1.64407445e-02   9.97043865e-01   1.84402683e+02]\n",
      " [ -1.53858758e-14  -4.84142089e-15  -3.01407867e-15   1.00000000e+00]]\n"
     ]
    },
    {
     "name": "stderr",
     "output_type": "stream",
     "text": [
      "\r",
      "                                                                               \r",
      "\r",
      " 50% (336 of 660) |###########            | Elapsed Time: 0:04:54 ETA:  0:02:33"
     ]
    },
    {
     "name": "stdout",
     "output_type": "stream",
     "text": [
      "connected mappoints  85\n",
      "335 [[  9.96960211e-01   1.54826717e-02  -7.63585234e-02   6.81414708e+01]\n",
      " [ -1.59083759e-02   9.99861102e-01  -4.96993138e-03  -5.35125587e+00]\n",
      " [  7.62709696e-02   6.16956394e-03   9.97068040e-01   1.85256672e+02]\n",
      " [ -1.53725456e-14  -4.58208686e-15  -3.44560996e-15   1.00000000e+00]]\n"
     ]
    },
    {
     "name": "stderr",
     "output_type": "stream",
     "text": [
      "\r",
      "                                                                               \r",
      "\r",
      " 51% (337 of 660) |###########            | Elapsed Time: 0:04:55 ETA:  0:02:34"
     ]
    },
    {
     "name": "stdout",
     "output_type": "stream",
     "text": [
      "connected mappoints  73\n",
      "336 [[  9.96829522e-01   1.66114036e-02  -7.78136622e-02   6.80782630e+01]\n",
      " [ -1.67718630e-02   9.99858350e-01  -1.40897570e-03  -5.37411728e+00]\n",
      " [  7.77792348e-02   2.70958865e-03   9.96966925e-01   1.86079649e+02]\n",
      " [ -1.53721539e-14  -6.02603219e-15  -3.32187698e-15   1.00000000e+00]]\n"
     ]
    },
    {
     "name": "stderr",
     "output_type": "stream",
     "text": [
      "\r",
      "                                                                               \r",
      "\r",
      " 51% (338 of 660) |###########            | Elapsed Time: 0:04:55 ETA:  0:02:34"
     ]
    },
    {
     "name": "stdout",
     "output_type": "stream",
     "text": [
      "connected mappoints  63\n",
      "337 [[  9.96769663e-01   1.55798329e-02  -7.87877385e-02   6.80160654e+01]\n",
      " [ -1.60348751e-02   9.99858190e-01  -5.14614979e-03  -5.38965571e+00]\n",
      " [  7.86963895e-02   6.39287754e-03   9.96878132e-01   1.86908405e+02]\n",
      " [ -1.53771145e-14  -6.19668409e-15  -2.85789095e-15   1.00000000e+00]]\n"
     ]
    },
    {
     "name": "stderr",
     "output_type": "stream",
     "text": [
      "\r",
      "                                                                               \r",
      "\r",
      " 51% (339 of 660) |###########            | Elapsed Time: 0:04:56 ETA:  0:02:34"
     ]
    },
    {
     "name": "stdout",
     "output_type": "stream",
     "text": [
      "connected mappoints  61\n",
      "338 [[  9.96790647e-01   1.58617397e-02  -7.84653469e-02   6.79431412e+01]\n",
      " [ -1.68021330e-02   9.99794535e-01  -1.13391252e-02  -5.40637797e+00]\n",
      " [  7.82693668e-02   1.26211191e-02   9.96852353e-01   1.87740177e+02]\n",
      " [ -1.53619330e-14  -6.42843614e-15  -2.86137303e-15   1.00000000e+00]]\n"
     ]
    },
    {
     "name": "stderr",
     "output_type": "stream",
     "text": [
      "\r",
      "                                                                               \r",
      "\r",
      " 51% (340 of 660) |###########            | Elapsed Time: 0:04:57 ETA:  0:02:33"
     ]
    },
    {
     "name": "stdout",
     "output_type": "stream",
     "text": [
      "connected mappoints  49\n",
      "339 [[  9.96644252e-01   2.28045005e-02  -7.86141863e-02   6.78582503e+01]\n",
      " [ -2.38092203e-02   9.99646088e-01  -1.18667243e-02  -5.42379667e+00]\n",
      " [  7.83157491e-02   1.36986451e-02   9.96834485e-01   1.88576864e+02]\n",
      " [ -1.53177242e-14  -6.26301535e-15  -3.05561425e-15   1.00000000e+00]]\n"
     ]
    },
    {
     "name": "stderr",
     "output_type": "stream",
     "text": [
      "\r",
      "                                                                               \r",
      "\r",
      " 51% (341 of 660) |###########            | Elapsed Time: 0:04:57 ETA:  0:02:35"
     ]
    },
    {
     "name": "stdout",
     "output_type": "stream",
     "text": [
      "connected mappoints  43\n",
      "340 [[  9.96537714e-01   2.69031412e-02  -7.86689637e-02   6.77800310e+01]\n",
      " [ -2.76831619e-02   9.99577648e-01  -8.84130523e-03  -5.44254497e+00]\n",
      " [  7.83978788e-02   1.09884998e-02   9.96861588e-01   1.89407964e+02]\n",
      " [ -1.52427911e-14  -6.11514462e-15  -2.82367185e-15   1.00000000e+00]]\n"
     ]
    },
    {
     "name": "stderr",
     "output_type": "stream",
     "text": [
      "\r",
      "                                                                               \r",
      "\r",
      " 51% (342 of 660) |###########            | Elapsed Time: 0:04:58 ETA:  0:02:39"
     ]
    },
    {
     "name": "stdout",
     "output_type": "stream",
     "text": [
      "connected mappoints  45\n",
      "341 [[  9.96390956e-01   3.14333444e-02  -7.88479978e-02   6.77003211e+01]\n",
      " [ -3.18544450e-02   9.99484157e-01  -4.08826107e-03  -5.47187228e+00]\n",
      " [  7.86788169e-02   6.58516557e-03   9.96878267e-01   1.90247544e+02]\n",
      " [ -1.51904034e-14  -5.94047519e-15  -3.10992150e-15   1.00000000e+00]]\n"
     ]
    },
    {
     "name": "stderr",
     "output_type": "stream",
     "text": [
      "\r",
      "                                                                               \r",
      "\r",
      " 51% (343 of 660) |###########            | Elapsed Time: 0:04:58 ETA:  0:02:42"
     ]
    },
    {
     "name": "stdout",
     "output_type": "stream",
     "text": [
      "connected mappoints  39\n",
      "342 [[  9.96252343e-01   3.56901645e-02  -7.87875666e-02   6.76224467e+01]\n",
      " [ -3.59006458e-02   9.99354575e-01  -1.25620527e-03  -5.48459546e+00]\n",
      " [  7.86918809e-02   4.08002197e-03   9.96890637e-01   1.91071799e+02]\n",
      " [ -1.51931717e-14  -5.97324232e-15  -3.28435684e-15   1.00000000e+00]]\n"
     ]
    },
    {
     "name": "stderr",
     "output_type": "stream",
     "text": [
      "\r",
      "                                                                               \r",
      "\r",
      " 52% (344 of 660) |###########            | Elapsed Time: 0:04:59 ETA:  0:02:46"
     ]
    },
    {
     "name": "stdout",
     "output_type": "stream",
     "text": [
      "connected mappoints  57\n",
      "343 [[  9.96069660e-01   3.96736330e-02  -7.91911372e-02   6.75428122e+01]\n",
      " [ -3.99342642e-02   9.99200847e-01  -1.70955018e-03  -5.49463075e+00]\n",
      " [  7.90600273e-02   4.86527086e-03   9.96857984e-01   1.91891770e+02]\n",
      " [ -1.51520278e-14  -5.80993562e-15  -3.95444999e-15   1.00000000e+00]]\n"
     ]
    },
    {
     "name": "stderr",
     "output_type": "stream",
     "text": [
      "\r",
      "                                                                               \r",
      "\r",
      " 52% (345 of 660) |############           | Elapsed Time: 0:04:59 ETA:  0:02:50"
     ]
    },
    {
     "name": "stdout",
     "output_type": "stream",
     "text": [
      "connected mappoints  57\n",
      "344 [[  9.96058692e-01   3.86661836e-02  -7.98248620e-02   6.74714542e+01]\n",
      " [ -3.92323646e-02   9.99214778e-01  -5.53606592e-03  -5.50513437e+00]\n",
      " [  7.95481232e-02   8.64596467e-03   9.96793531e-01   1.92716254e+02]\n",
      " [ -1.51858035e-14  -6.15291901e-15  -3.90386037e-15   1.00000000e+00]]\n"
     ]
    },
    {
     "name": "stderr",
     "output_type": "stream",
     "text": [
      "\r",
      "                                                                               \r",
      "\r",
      " 52% (346 of 660) |############           | Elapsed Time: 0:05:00 ETA:  0:02:52"
     ]
    },
    {
     "name": "stdout",
     "output_type": "stream",
     "text": [
      "connected mappoints  63\n",
      "345 [[  9.95891852e-01   4.11828809e-02  -8.06435911e-02   6.73922707e+01]\n",
      " [ -4.21862053e-02   9.99051644e-01  -1.07767187e-02  -5.52181377e+00]\n",
      " [  8.01232959e-02   1.41344934e-02   9.96684741e-01   1.93515910e+02]\n",
      " [ -1.51708473e-14  -6.71718961e-15  -4.12571896e-15   1.00000000e+00]]\n"
     ]
    },
    {
     "name": "stderr",
     "output_type": "stream",
     "text": [
      "\r",
      "                                                                               \r",
      "\r",
      " 52% (347 of 660) |############           | Elapsed Time: 0:05:00 ETA:  0:02:53"
     ]
    },
    {
     "name": "stdout",
     "output_type": "stream",
     "text": [
      "connected mappoints  56\n",
      "346 [[  9.95732369e-01   4.24598759e-02  -8.19402753e-02   6.73154472e+01]\n",
      " [ -4.34783689e-02   9.98997230e-01  -1.06848658e-02  -5.52699313e+00]\n",
      " [  8.14044299e-02   1.42018962e-02   9.96579964e-01   1.94319184e+02]\n",
      " [ -1.52140159e-14  -6.80385150e-15  -4.14856409e-15   1.00000000e+00]]\n"
     ]
    },
    {
     "name": "stderr",
     "output_type": "stream",
     "text": [
      "\r",
      "                                                                               \r",
      "\r",
      " 52% (348 of 660) |############           | Elapsed Time: 0:05:01 ETA:  0:02:53"
     ]
    },
    {
     "name": "stdout",
     "output_type": "stream",
     "text": [
      "connected mappoints  50\n",
      "347 [[  9.95687614e-01   3.94784541e-02  -8.39501445e-02   6.72441251e+01]\n",
      " [ -3.97276952e-02   9.99209698e-01  -1.29981782e-03  -5.52122981e+00]\n",
      " [  8.38324837e-02   4.62935825e-03   9.96469108e-01   1.95120797e+02]\n",
      " [ -1.52545278e-14  -6.84326704e-15  -4.28772590e-15   1.00000000e+00]]\n"
     ]
    },
    {
     "name": "stderr",
     "output_type": "stream",
     "text": [
      "\r",
      "                                                                               \r",
      "\r",
      " 52% (349 of 660) |############           | Elapsed Time: 0:05:02 ETA:  0:02:52"
     ]
    },
    {
     "name": "stdout",
     "output_type": "stream",
     "text": [
      "connected mappoints  32\n",
      "348 [[  9.95608459e-01   3.53615771e-02  -8.66796082e-02   6.72723404e+01]\n",
      " [ -3.48227842e-02   9.99363681e-01   7.72058574e-03  -5.51997685e+00]\n",
      " [  8.68974644e-02  -4.66825518e-03   9.96206323e-01   1.95739924e+02]\n",
      " [ -1.53513146e-14  -6.66218422e-15  -4.34143851e-15   1.00000000e+00]]\n"
     ]
    },
    {
     "name": "stderr",
     "output_type": "stream",
     "text": [
      "\r",
      "                                                                               \r",
      "\r",
      " 53% (350 of 660) |############           | Elapsed Time: 0:05:02 ETA:  0:02:50"
     ]
    },
    {
     "name": "stdout",
     "output_type": "stream",
     "text": [
      "connected mappoints  37\n",
      "349 [[  9.95771842e-01   2.95095874e-02  -8.69920851e-02   6.72043123e+01]\n",
      " [ -2.87803737e-02   9.99539417e-01   9.62512846e-03  -5.53422020e+00]\n",
      " [  8.72360516e-02  -7.08076717e-03   9.96162504e-01   1.96508359e+02]\n",
      " [ -1.53922532e-14  -6.73387943e-15  -4.49135691e-15   1.00000000e+00]]\n"
     ]
    },
    {
     "name": "stderr",
     "output_type": "stream",
     "text": [
      "\r",
      "                                                                               \r",
      "\r",
      " 53% (351 of 660) |############           | Elapsed Time: 0:05:03 ETA:  0:02:48"
     ]
    },
    {
     "name": "stdout",
     "output_type": "stream",
     "text": [
      "connected mappoints  49\n",
      "350 [[  9.95743253e-01   2.76892037e-02  -8.79129235e-02   6.71407062e+01]\n",
      " [ -2.75511765e-02   9.99616519e-01   2.78329201e-03  -5.54020352e+00]\n",
      " [  8.79562777e-02  -3.49339773e-04   9.96124275e-01   1.97236455e+02]\n",
      " [ -1.54026710e-14  -6.33569161e-15  -4.27313559e-15   1.00000000e+00]]\n"
     ]
    },
    {
     "name": "stderr",
     "output_type": "stream",
     "text": [
      "\r",
      "                                                                               \r",
      "\r",
      " 53% (352 of 660) |############           | Elapsed Time: 0:05:03 ETA:  0:02:43"
     ]
    },
    {
     "name": "stdout",
     "output_type": "stream",
     "text": [
      "connected mappoints  51\n",
      "351 [[  9.95774356e-01   2.89493672e-02  -8.71514005e-02   6.70671478e+01]\n",
      " [ -2.92446825e-02   9.99570049e-01  -2.11338479e-03  -5.54890926e+00]\n",
      " [  8.70527485e-02   4.65316942e-03   9.96192836e-01   1.97963436e+02]\n",
      " [ -1.54148279e-14  -6.22113167e-15  -4.63492611e-15   1.00000000e+00]]\n"
     ]
    },
    {
     "name": "stderr",
     "output_type": "stream",
     "text": [
      "\r",
      "                                                                               \r",
      "\r",
      " 53% (353 of 660) |############           | Elapsed Time: 0:05:03 ETA:  0:02:33"
     ]
    },
    {
     "name": "stdout",
     "output_type": "stream",
     "text": [
      "connected mappoints  55\n",
      "352 [[  9.95815041e-01   3.03007420e-02  -8.62222104e-02   6.69887540e+01]\n",
      " [ -3.10960261e-02   9.99485219e-01  -7.89525951e-03  -5.57859346e+00]\n",
      " [  8.59385926e-02   1.05433863e-02   9.96244646e-01   1.98694934e+02]\n",
      " [ -1.53755663e-14  -6.41530114e-15  -4.58046256e-15   1.00000000e+00]]\n"
     ]
    },
    {
     "name": "stderr",
     "output_type": "stream",
     "text": [
      "\r",
      "                                                                               \r",
      "\r",
      " 53% (354 of 660) |############           | Elapsed Time: 0:05:04 ETA:  0:02:21"
     ]
    },
    {
     "name": "stdout",
     "output_type": "stream",
     "text": [
      "connected mappoints  45\n",
      "353 [[  9.95921221e-01   2.73977200e-02  -8.59667725e-02   6.69300766e+01]\n",
      " [ -2.84727400e-02   9.99530654e-01  -1.13037275e-02  -5.60014595e+00]\n",
      " [  8.56167280e-02   1.37053317e-02   9.96233878e-01   1.99383147e+02]\n",
      " [ -1.53918092e-14  -6.10580364e-15  -4.63887218e-15   1.00000000e+00]]\n"
     ]
    },
    {
     "name": "stderr",
     "output_type": "stream",
     "text": [
      "\r",
      "                                                                               \r",
      "\r",
      " 53% (355 of 660) |############           | Elapsed Time: 0:05:04 ETA:  0:02:10"
     ]
    },
    {
     "name": "stdout",
     "output_type": "stream",
     "text": [
      "connected mappoints  52\n",
      "354 [[  9.96256523e-01   2.30930829e-02  -8.33045637e-02   6.68708499e+01]\n",
      " [ -2.45054573e-02   9.99572101e-01  -1.59717577e-02  -5.61701523e+00]\n",
      " [  8.29000807e-02   1.79533842e-02   9.96396132e-01   2.00061573e+02]\n",
      " [ -1.54046602e-14  -6.20080448e-15  -4.50198932e-15   1.00000000e+00]]\n"
     ]
    },
    {
     "name": "stderr",
     "output_type": "stream",
     "text": [
      "\r",
      "                                                                               \r",
      "\r",
      " 53% (356 of 660) |############           | Elapsed Time: 0:05:04 ETA:  0:02:00"
     ]
    },
    {
     "name": "stdout",
     "output_type": "stream",
     "text": [
      "connected mappoints  45\n",
      "355 [[  9.96682079e-01   2.12089635e-02  -7.85812566e-02   6.68076161e+01]\n",
      " [ -2.26392196e-02   9.99593053e-01  -1.73549255e-02  -5.63367219e+00]\n",
      " [  7.81811982e-02   1.90763616e-02   9.96756637e-01   2.00748170e+02]\n",
      " [ -1.53996343e-14  -6.00668151e-15  -4.70925872e-15   1.00000000e+00]]\n"
     ]
    },
    {
     "name": "stderr",
     "output_type": "stream",
     "text": [
      "\r",
      "                                                                               \r",
      "\r",
      " 54% (357 of 660) |############           | Elapsed Time: 0:05:04 ETA:  0:01:51"
     ]
    },
    {
     "name": "stdout",
     "output_type": "stream",
     "text": [
      "connected mappoints  48\n",
      "356 [[  9.97041034e-01   2.29405815e-02  -7.33682859e-02   6.67572511e+01]\n",
      " [ -2.39169349e-02   9.99636339e-01  -1.24566995e-02  -5.65367591e+00]\n",
      " [  7.30558408e-02   1.41745850e-02   9.97227118e-01   2.01416861e+02]\n",
      " [ -1.53683892e-14  -5.84984220e-15  -4.76101319e-15   1.00000000e+00]]\n"
     ]
    },
    {
     "name": "stderr",
     "output_type": "stream",
     "text": [
      "\r",
      "                                                                               \r",
      "\r",
      " 54% (358 of 660) |############           | Elapsed Time: 0:05:05 ETA:  0:01:41"
     ]
    },
    {
     "name": "stdout",
     "output_type": "stream",
     "text": [
      "connected mappoints  43\n",
      "357 [[  9.97379011e-01   2.73834679e-02  -6.69720325e-02   6.67003434e+01]\n",
      " [ -2.76714852e-02   9.99611368e-01  -3.37652483e-03  -5.67351995e+00]\n",
      " [  6.68535441e-02   5.22089060e-03   9.97749140e-01   2.02103982e+02]\n",
      " [ -1.53170926e-14  -5.94254005e-15  -4.81578545e-15   1.00000000e+00]]\n"
     ]
    },
    {
     "name": "stderr",
     "output_type": "stream",
     "text": [
      "\r",
      "                                                                               \r",
      "\r",
      " 54% (359 of 660) |############           | Elapsed Time: 0:05:05 ETA:  0:01:34"
     ]
    },
    {
     "name": "stdout",
     "output_type": "stream",
     "text": [
      "connected mappoints  56\n",
      "358 [[  9.97541896e-01   3.29171158e-02  -6.18597545e-02   6.66970897e+01]\n",
      " [ -3.29234617e-02   9.99457455e-01   9.16983577e-04  -5.68185414e+00]\n",
      " [  6.18563772e-02   1.12190772e-03   9.98084430e-01   2.02700876e+02]\n",
      " [ -1.52731952e-14  -5.79313817e-15  -4.93112175e-15   1.00000000e+00]]\n"
     ]
    },
    {
     "name": "stderr",
     "output_type": "stream",
     "text": [
      "\r",
      "                                                                               \r",
      "\r",
      " 54% (360 of 660) |############           | Elapsed Time: 0:05:05 ETA:  0:01:25"
     ]
    },
    {
     "name": "stdout",
     "output_type": "stream",
     "text": [
      "connected mappoints  44\n",
      "359 [[  9.97882377e-01   3.31316776e-02  -5.59736865e-02   6.66618456e+01]\n",
      " [ -3.32153042e-02   9.99448060e-01  -5.64117892e-04  -5.69763660e+00]\n",
      " [  5.59241023e-02   2.42210633e-03   9.98432085e-01   2.03358360e+02]\n",
      " [ -1.52612944e-14  -6.06276774e-15  -5.18960598e-15   1.00000000e+00]]\n"
     ]
    },
    {
     "name": "stderr",
     "output_type": "stream",
     "text": [
      "\r",
      "                                                                               \r",
      "\r",
      " 54% (361 of 660) |############           | Elapsed Time: 0:05:05 ETA:  0:01:19"
     ]
    },
    {
     "name": "stdout",
     "output_type": "stream",
     "text": [
      "connected mappoints  49\n",
      "360 [[  9.98312524e-01   3.11855703e-02  -4.89853487e-02   6.66265119e+01]\n",
      " [ -3.16450649e-02   9.99461888e-01  -8.63269677e-03  -5.71224021e+00]\n",
      " [  4.86897736e-02   1.01682738e-02   9.98762190e-01   2.04016480e+02]\n",
      " [ -1.52327345e-14  -6.10596509e-15  -5.08248270e-15   1.00000000e+00]]\n"
     ]
    },
    {
     "name": "stderr",
     "output_type": "stream",
     "text": [
      "\r",
      "                                                                               \r",
      "\r",
      " 54% (362 of 660) |############           | Elapsed Time: 0:05:06 ETA:  0:01:16"
     ]
    },
    {
     "name": "stdout",
     "output_type": "stream",
     "text": [
      "connected mappoints  43\n",
      "361 [[  9.98639180e-01   3.13090691e-02  -4.17076689e-02   6.65985727e+01]\n",
      " [ -3.20662753e-02   9.99330573e-01  -1.76113649e-02  -5.72604596e+00]\n",
      " [  4.11283532e-02   1.89248086e-02   9.98974629e-01   2.04654810e+02]\n",
      " [ -1.51876969e-14  -5.88854502e-15  -4.97358608e-15   1.00000000e+00]]\n"
     ]
    },
    {
     "name": "stderr",
     "output_type": "stream",
     "text": [
      "\r",
      "                                                                               \r",
      "\r",
      " 55% (363 of 660) |############           | Elapsed Time: 0:05:06 ETA:  0:01:16"
     ]
    },
    {
     "name": "stdout",
     "output_type": "stream",
     "text": [
      "connected mappoints  54\n",
      "362 [[  9.98822172e-01   3.37433278e-02  -3.48662754e-02   6.65720472e+01]\n",
      " [ -3.45496545e-02   9.99143138e-01  -2.27883981e-02  -5.74408932e+00]\n",
      " [  3.40674435e-02   2.39661751e-02   9.99132139e-01   2.05298891e+02]\n",
      " [ -1.51367374e-14  -5.44602001e-15  -5.29623534e-15   1.00000000e+00]]\n"
     ]
    },
    {
     "name": "stderr",
     "output_type": "stream",
     "text": [
      "\r",
      "                                                                               \r",
      "\r",
      " 55% (364 of 660) |############           | Elapsed Time: 0:05:06 ETA:  0:01:15"
     ]
    },
    {
     "name": "stdout",
     "output_type": "stream",
     "text": [
      "connected mappoints  54\n",
      "363 [[  9.99070177e-01   3.32904665e-02  -2.73957484e-02   6.65543573e+01]\n",
      " [ -3.38886012e-02   9.99190739e-01  -2.16663158e-02  -5.76223085e+00]\n",
      " [  2.66522964e-02   2.25745735e-02   9.99389836e-01   2.05936907e+02]\n",
      " [ -1.51155393e-14  -5.62139088e-15  -4.74714527e-15   1.00000000e+00]]\n"
     ]
    },
    {
     "name": "stderr",
     "output_type": "stream",
     "text": [
      "\r",
      "                                                                               \r",
      "\r",
      " 55% (365 of 660) |############           | Elapsed Time: 0:05:06 ETA:  0:01:18"
     ]
    },
    {
     "name": "stdout",
     "output_type": "stream",
     "text": [
      "connected mappoints  48\n",
      "364 [[  9.99305883e-01   3.06612996e-02  -2.11574211e-02   6.65400446e+01]\n",
      " [ -3.10130480e-02   9.99382741e-01  -1.65023738e-02  -5.78708775e+00]\n",
      " [  2.06383773e-02   1.71470753e-02   9.99639953e-01   2.06588653e+02]\n",
      " [ -1.50952378e-14  -5.55089334e-15  -4.92045398e-15   1.00000000e+00]]\n"
     ]
    },
    {
     "name": "stderr",
     "output_type": "stream",
     "text": [
      "\r",
      "                                                                               \r",
      "\r",
      " 55% (366 of 660) |############           | Elapsed Time: 0:05:07 ETA:  0:01:20"
     ]
    },
    {
     "name": "stdout",
     "output_type": "stream",
     "text": [
      "connected mappoints  51\n",
      "365 [[  9.99612746e-01   2.35578850e-02  -1.48116326e-02   6.65381765e+01]\n",
      " [ -2.37175035e-02   9.99661493e-01  -1.06948631e-02  -5.81013789e+00]\n",
      " [  1.45546704e-02   1.10420165e-02   9.99833104e-01   2.07247619e+02]\n",
      " [ -1.51009003e-14  -5.45855877e-15  -5.35386924e-15   1.00000000e+00]]\n"
     ]
    },
    {
     "name": "stderr",
     "output_type": "stream",
     "text": [
      "\r",
      "                                                                               \r",
      "\r",
      " 55% (367 of 660) |############           | Elapsed Time: 0:05:07 ETA:  0:01:25"
     ]
    },
    {
     "name": "stdout",
     "output_type": "stream",
     "text": [
      "connected mappoints  49\n",
      "366 [[  9.99765745e-01   1.96842886e-02  -8.99906042e-03   6.65491867e+01]\n",
      " [ -1.97692477e-02   9.99759894e-01  -9.45146633e-03  -5.83358046e+00]\n",
      " [  8.81085430e-03   9.62715693e-03   9.99914840e-01   2.07845032e+02]\n",
      " [ -1.51083119e-14  -5.41575500e-15  -6.56727351e-15   1.00000000e+00]]\n"
     ]
    },
    {
     "name": "stderr",
     "output_type": "stream",
     "text": [
      "\r",
      "                                                                               \r",
      "\r",
      " 55% (368 of 660) |############           | Elapsed Time: 0:05:08 ETA:  0:01:28"
     ]
    },
    {
     "name": "stdout",
     "output_type": "stream",
     "text": [
      "connected mappoints  61\n",
      "367 [[  9.99758944e-01   2.12963945e-02  -5.34011061e-03   6.65505425e+01]\n",
      " [ -2.13406725e-02   9.99737171e-01  -8.37641256e-03  -5.84795283e+00]\n",
      " [  5.16031969e-03   8.48835492e-03   9.99950658e-01   2.08453031e+02]\n",
      " [ -1.50738464e-14  -5.60585547e-15  -6.88666025e-15   1.00000000e+00]]\n"
     ]
    },
    {
     "name": "stderr",
     "output_type": "stream",
     "text": [
      "\r",
      "                                                                               \r",
      "\r",
      " 55% (369 of 660) |############           | Elapsed Time: 0:05:08 ETA:  0:01:34"
     ]
    },
    {
     "name": "stdout",
     "output_type": "stream",
     "text": [
      "connected mappoints  59\n",
      "368 [[  9.99694003e-01   2.44095433e-02  -4.00925066e-03   6.65258655e+01]\n",
      " [ -2.44368476e-02   9.99677503e-01  -6.90868981e-03  -5.85698054e+00]\n",
      " [  3.83931972e-03   7.00454922e-03   9.99968097e-01   2.09103220e+02]\n",
      " [ -1.50189209e-14  -5.40107981e-15  -7.85214711e-15   1.00000000e+00]]\n"
     ]
    },
    {
     "name": "stderr",
     "output_type": "stream",
     "text": [
      "\r",
      "                                                                               \r",
      "\r",
      " 56% (370 of 660) |############           | Elapsed Time: 0:05:08 ETA:  0:01:41"
     ]
    },
    {
     "name": "stdout",
     "output_type": "stream",
     "text": [
      "connected mappoints  73\n",
      "369 [[  9.99686024e-01   2.46985358e-02  -4.22323342e-03   6.65192947e+01]\n",
      " [ -2.47204188e-02   9.99680826e-01  -5.21036226e-03  -5.85834148e+00]\n",
      " [  4.09319715e-03   5.31312643e-03   9.99977508e-01   2.09741893e+02]\n",
      " [ -1.50155310e-14  -5.25643586e-15  -7.76879410e-15   1.00000000e+00]]\n"
     ]
    },
    {
     "name": "stderr",
     "output_type": "stream",
     "text": [
      "\r",
      "                                                                               \r",
      "\r",
      " 56% (371 of 660) |############           | Elapsed Time: 0:05:09 ETA:  0:01:45"
     ]
    },
    {
     "name": "stdout",
     "output_type": "stream",
     "text": [
      "connected mappoints  56\n",
      "370 [[  9.99706920e-01   2.36090101e-02  -5.35621387e-03   6.65162850e+01]\n",
      " [ -2.36228236e-02   9.99717739e-01  -2.53052863e-03  -5.86792032e+00]\n",
      " [  5.29495874e-03   2.65631587e-03   9.99982454e-01   2.10388428e+02]\n",
      " [ -1.50309627e-14  -5.43912012e-15  -8.18909520e-15   1.00000000e+00]]\n"
     ]
    },
    {
     "name": "stderr",
     "output_type": "stream",
     "text": [
      "\r",
      "                                                                               \r",
      "\r",
      " 56% (372 of 660) |############           | Elapsed Time: 0:05:09 ETA:  0:01:51"
     ]
    },
    {
     "name": "stdout",
     "output_type": "stream",
     "text": [
      "connected mappoints  62\n",
      "371 [[  9.99649939e-01   2.59308721e-02  -5.25253726e-03   6.65143500e+01]\n",
      " [ -2.59354501e-02   9.99663295e-01  -8.05330268e-04  -5.88094811e+00]\n",
      " [  5.22988579e-03   9.41275270e-04   9.99985881e-01   2.11024482e+02]\n",
      " [ -1.50207030e-14  -5.25829672e-15  -8.52208520e-15   1.00000000e+00]]\n"
     ]
    },
    {
     "name": "stderr",
     "output_type": "stream",
     "text": [
      "\r",
      "                                                                               \r",
      "\r",
      " 56% (373 of 660) |############           | Elapsed Time: 0:05:10 ETA:  0:01:57"
     ]
    },
    {
     "name": "stdout",
     "output_type": "stream",
     "text": [
      "connected mappoints  97\n",
      "372 [[  9.99390905e-01   3.44755640e-02  -5.40871120e-03   6.64896539e+01]\n",
      " [ -3.45068543e-02   9.99387616e-01  -5.80259834e-03  -5.89405751e+00]\n",
      " [  5.20535114e-03   5.98570162e-03   9.99968537e-01   2.11678748e+02]\n",
      " [ -1.49587536e-14  -5.06582943e-15  -9.41673700e-15   1.00000000e+00]]\n"
     ]
    },
    {
     "name": "stderr",
     "output_type": "stream",
     "text": [
      "\r",
      "                                                                               \r",
      "\r",
      " 56% (374 of 660) |#############          | Elapsed Time: 0:05:10 ETA:  0:02:01"
     ]
    },
    {
     "name": "stdout",
     "output_type": "stream",
     "text": [
      "connected mappoints  79\n",
      "373 [[  9.99185118e-01   3.98107564e-02  -6.64856355e-03   6.64815186e+01]\n",
      " [ -3.99042557e-02   9.99097153e-01  -1.45783498e-02  -5.91122219e+00]\n",
      " [  6.06218579e-03   1.48317761e-02   9.99871626e-01   2.12294296e+02]\n",
      " [ -1.49384283e-14  -4.86968042e-15  -9.31835449e-15   1.00000000e+00]]\n"
     ]
    },
    {
     "name": "stderr",
     "output_type": "stream",
     "text": [
      "\r",
      "                                                                               \r",
      "\r",
      " 56% (375 of 660) |#############          | Elapsed Time: 0:05:11 ETA:  0:02:03"
     ]
    },
    {
     "name": "stdout",
     "output_type": "stream",
     "text": [
      "connected mappoints  64\n",
      "374 [[  9.99211414e-01   3.86995841e-02  -8.88212649e-03   6.64813467e+01]\n",
      " [ -3.88950367e-02   9.98978507e-01  -2.30025965e-02  -5.93826908e+00]\n",
      " [  7.98286253e-03   2.33299276e-02   9.99695948e-01   2.12900810e+02]\n",
      " [ -1.49582284e-14  -4.96342884e-15  -9.23995909e-15   1.00000000e+00]]\n"
     ]
    },
    {
     "name": "stderr",
     "output_type": "stream",
     "text": [
      "\r",
      "                                                                               \r",
      "\r",
      " 56% (376 of 660) |#############          | Elapsed Time: 0:05:11 ETA:  0:02:05"
     ]
    },
    {
     "name": "stdout",
     "output_type": "stream",
     "text": [
      "connected mappoints  72\n",
      "375 [[  9.99407801e-01   3.19803463e-02  -1.27005874e-02   6.64808309e+01]\n",
      " [ -3.23163588e-02   9.99107598e-01  -2.71967018e-02  -5.95089389e+00]\n",
      " [  1.18194934e-02   2.75910326e-02   9.99549416e-01   2.13542460e+02]\n",
      " [ -1.50265379e-14  -4.99139413e-15  -9.16168237e-15   1.00000000e+00]]\n"
     ]
    },
    {
     "name": "stderr",
     "output_type": "stream",
     "text": [
      "\r",
      "                                                                               \r",
      "\r",
      " 57% (377 of 660) |#############          | Elapsed Time: 0:05:12 ETA:  0:02:05"
     ]
    },
    {
     "name": "stdout",
     "output_type": "stream",
     "text": [
      "connected mappoints  65\n",
      "376 [[  9.99295866e-01   3.37058209e-02  -1.64830270e-02   6.64630148e+01]\n",
      " [ -3.40538890e-02   9.99192723e-01  -2.13128071e-02  -5.96542153e+00]\n",
      " [  1.57513549e-02   2.18591111e-02   9.99636971e-01   2.14209312e+02]\n",
      " [ -1.50448381e-14  -5.20385933e-15  -9.34372468e-15   1.00000000e+00]]\n"
     ]
    },
    {
     "name": "stderr",
     "output_type": "stream",
     "text": [
      "\r",
      "                                                                               \r",
      "\r",
      " 57% (378 of 660) |#############          | Elapsed Time: 0:05:12 ETA:  0:02:02"
     ]
    },
    {
     "name": "stdout",
     "output_type": "stream",
     "text": [
      "connected mappoints  73\n",
      "377 [[  9.98965142e-01   4.06993171e-02  -2.03029956e-02   6.64375868e+01]\n",
      " [ -4.08877596e-02   9.99123623e-01  -8.95421702e-03  -5.98180229e+00]\n",
      " [  1.99207720e-02   9.77509468e-03   9.99753775e-01   2.14885968e+02]\n",
      " [ -1.50712264e-14  -5.31331425e-15  -9.09873133e-15   1.00000000e+00]]\n"
     ]
    },
    {
     "name": "stderr",
     "output_type": "stream",
     "text": [
      "\r",
      "                                                                               \r",
      "\r",
      " 57% (379 of 660) |#############          | Elapsed Time: 0:05:12 ETA:  0:01:59"
     ]
    },
    {
     "name": "stdout",
     "output_type": "stream",
     "text": [
      "connected mappoints  72\n",
      "378 [[  9.99034499e-01   3.66632913e-02  -2.42048185e-02   6.64149714e+01]\n",
      " [ -3.65405824e-02   9.99317075e-01   5.49273006e-03  -5.99651627e+00]\n",
      " [  2.43896700e-02  -4.60296866e-03   9.99691931e-01   2.15573451e+02]\n",
      " [ -1.51381446e-14  -5.20203952e-15  -8.65994362e-15   1.00000000e+00]]\n"
     ]
    },
    {
     "name": "stderr",
     "output_type": "stream",
     "text": [
      "\r",
      "                                                                               \r",
      "\r",
      " 57% (380 of 660) |#############          | Elapsed Time: 0:05:13 ETA:  0:01:57"
     ]
    },
    {
     "name": "stdout",
     "output_type": "stream",
     "text": [
      "connected mappoints  59\n",
      "379 [[  9.99158944e-01   2.96002020e-02  -2.83766269e-02   6.63991574e+01]\n",
      " [ -2.91827012e-02   9.99461302e-01   1.50158638e-02  -6.00594385e+00]\n",
      " [  2.88058130e-02  -1.41751280e-02   9.99484513e-01   2.16267555e+02]\n",
      " [ -1.52089282e-14  -4.61323265e-15  -8.75222246e-15   1.00000000e+00]]\n"
     ]
    },
    {
     "name": "stderr",
     "output_type": "stream",
     "text": [
      "\r",
      "                                                                               \r",
      "\r",
      " 57% (381 of 660) |#############          | Elapsed Time: 0:05:13 ETA:  0:01:54"
     ]
    },
    {
     "name": "stdout",
     "output_type": "stream",
     "text": [
      "connected mappoints  75\n",
      "380 [[  9.99116511e-01   2.79720462e-02  -3.13649865e-02   6.63776575e+01]\n",
      " [ -2.75816453e-02   9.99537453e-01   1.28114375e-02  -6.00471570e+00]\n",
      " [  3.17088409e-02  -1.19350208e-02   9.99425888e-01   2.16957832e+02]\n",
      " [ -1.52418191e-14  -4.67100765e-15  -8.87775559e-15   1.00000000e+00]]\n"
     ]
    },
    {
     "name": "stderr",
     "output_type": "stream",
     "text": [
      "\r",
      "                                                                               \r",
      "\r",
      " 57% (382 of 660) |#############          | Elapsed Time: 0:05:13 ETA:  0:01:52"
     ]
    },
    {
     "name": "stdout",
     "output_type": "stream",
     "text": [
      "connected mappoints  74\n",
      "381 [[  9.98919805e-01   3.18800673e-02  -3.38065875e-02   6.63347626e+01]\n",
      " [ -3.16778995e-02   9.99476999e-01   6.49911046e-03  -6.00297070e+00]\n",
      " [  3.39960987e-02  -5.42116847e-03   9.99407262e-01   2.17639813e+02]\n",
      " [ -1.52046726e-14  -4.60035965e-15  -9.48168979e-15   1.00000000e+00]]\n"
     ]
    },
    {
     "name": "stderr",
     "output_type": "stream",
     "text": [
      "\r",
      "                                                                               \r",
      "\r",
      " 58% (383 of 660) |#############          | Elapsed Time: 0:05:14 ETA:  0:01:49"
     ]
    },
    {
     "name": "stdout",
     "output_type": "stream",
     "text": [
      "connected mappoints  71\n",
      "382 [[  9.98850142e-01   2.93965574e-02  -3.78713144e-02   6.62982642e+01]\n",
      " [ -2.94965810e-02   9.99562707e-01  -2.08499873e-03  -6.00470677e+00]\n",
      " [  3.77934618e-02   3.19967557e-03   9.99280449e-01   2.18325322e+02]\n",
      " [ -1.52574090e-14  -4.71522627e-15  -9.65963649e-15   1.00000000e+00]]\n"
     ]
    },
    {
     "name": "stderr",
     "output_type": "stream",
     "text": [
      "\r",
      "                                                                               \r",
      "\r",
      " 58% (384 of 660) |#############          | Elapsed Time: 0:05:14 ETA:  0:01:46"
     ]
    },
    {
     "name": "stdout",
     "output_type": "stream",
     "text": [
      "connected mappoints  64\n",
      "383 [[  9.99004489e-01   1.91850936e-02  -4.02735915e-02   6.62787012e+01]\n",
      " [ -1.94661842e-02   9.99788738e-01  -6.59898793e-03  -6.00961728e+00]\n",
      " [  4.01384810e-02   7.37639172e-03   9.99166899e-01   2.19001957e+02]\n",
      " [ -1.53282140e-14  -4.75537977e-15  -1.02924889e-14   1.00000000e+00]]\n"
     ]
    },
    {
     "name": "stderr",
     "output_type": "stream",
     "text": [
      "\r",
      "                                                                               \r",
      "\r",
      " 58% (385 of 660) |#############          | Elapsed Time: 0:05:14 ETA:  0:01:41"
     ]
    },
    {
     "name": "stdout",
     "output_type": "stream",
     "text": [
      "connected mappoints  69\n",
      "384 [[  9.99095732e-01   1.18299565e-02  -4.08383558e-02   6.62535831e+01]\n",
      " [ -1.19077361e-02   9.99927719e-01  -1.66184089e-03  -6.01735811e+00]\n",
      " [  4.08157444e-02   2.14663050e-03   9.99164384e-01   2.19698734e+02]\n",
      " [ -1.53690742e-14  -4.60406453e-15  -1.04316471e-14   1.00000000e+00]]\n"
     ]
    },
    {
     "name": "stderr",
     "output_type": "stream",
     "text": [
      "\r",
      "                                                                               \r",
      "\r",
      " 58% (386 of 660) |#############          | Elapsed Time: 0:05:15 ETA:  0:01:37"
     ]
    },
    {
     "name": "stdout",
     "output_type": "stream",
     "text": [
      "connected mappoints  58\n",
      "385 [[  9.99091388e-01   4.35862978e-03  -4.23957719e-02   6.62269099e+01]\n",
      " [ -4.26395306e-03   9.99988210e-01   2.32333573e-03  -6.02237790e+00]\n",
      " [  4.24053987e-02  -2.14045114e-03   9.99098194e-01   2.20406033e+02]\n",
      " [ -1.54225800e-14  -4.22993269e-15  -1.05655800e-14   1.00000000e+00]]\n"
     ]
    },
    {
     "name": "stderr",
     "output_type": "stream",
     "text": [
      "\r",
      "                                                                               \r",
      "\r",
      " 58% (387 of 660) |#############          | Elapsed Time: 0:05:15 ETA:  0:01:37"
     ]
    },
    {
     "name": "stdout",
     "output_type": "stream",
     "text": [
      "connected mappoints  59\n",
      "386 [[  9.99035193e-01   1.84672745e-03  -4.38779384e-02   6.61985244e+01]\n",
      " [ -1.63460064e-03   9.99986806e-01   4.86986237e-03  -6.03349846e+00]\n",
      " [  4.38863528e-02  -4.79344098e-03   9.99025030e-01   2.21106466e+02]\n",
      " [ -1.54468943e-14  -3.56379997e-15  -1.08370512e-14   1.00000000e+00]]\n"
     ]
    },
    {
     "name": "stderr",
     "output_type": "stream",
     "text": [
      "\r",
      "                                                                               \r",
      "\r",
      " 58% (388 of 660) |#############          | Elapsed Time: 0:05:15 ETA:  0:01:36"
     ]
    },
    {
     "name": "stdout",
     "output_type": "stream",
     "text": [
      "connected mappoints  65\n",
      "387 [[  9.98982032e-01  -1.64227618e-04  -4.51095546e-02   6.61691063e+01]\n",
      " [  2.48092217e-04   9.99998251e-01   1.85353940e-03  -6.04324516e+00]\n",
      " [  4.51091714e-02  -1.86284388e-03   9.98980326e-01   2.21805384e+02]\n",
      " [ -1.54660695e-14  -3.65310123e-15  -1.09476833e-14   1.00000000e+00]]\n"
     ]
    },
    {
     "name": "stderr",
     "output_type": "stream",
     "text": [
      "\r",
      "                                                                               \r",
      "\r",
      " 58% (389 of 660) |#############          | Elapsed Time: 0:05:16 ETA:  0:01:34"
     ]
    },
    {
     "name": "stdout",
     "output_type": "stream",
     "text": [
      "connected mappoints  74\n",
      "388 [[  9.98926284e-01  -5.85622296e-03  -4.59563331e-02   6.61416151e+01]\n",
      " [  5.72632149e-03   9.99979230e-01  -2.95777027e-03  -6.04956647e+00]\n",
      " [  4.59726999e-02   2.69143372e-03   9.98939071e-01   2.22501579e+02]\n",
      " [ -1.55004073e-14  -4.01050967e-15  -1.06957280e-14   1.00000000e+00]]\n"
     ]
    },
    {
     "name": "stderr",
     "output_type": "stream",
     "text": [
      "\r",
      "                                                                               \r",
      "\r",
      " 59% (390 of 660) |#############          | Elapsed Time: 0:05:16 ETA:  0:01:32"
     ]
    },
    {
     "name": "stdout",
     "output_type": "stream",
     "text": [
      "connected mappoints  75\n",
      "389 [[  9.98788171e-01  -1.45794642e-02  -4.70066864e-02   6.61175825e+01]\n",
      " [  1.43907127e-02   9.99886980e-01  -4.35135637e-03  -6.05443760e+00]\n",
      " [  4.70648141e-02   3.66962355e-03   9.98885097e-01   2.23204172e+02]\n",
      " [ -1.55340920e-14  -4.18857232e-15  -1.05885664e-14   1.00000000e+00]]\n"
     ]
    },
    {
     "name": "stderr",
     "output_type": "stream",
     "text": [
      "\r",
      "                                                                               \r",
      "\r",
      " 59% (391 of 660) |#############          | Elapsed Time: 0:05:16 ETA:  0:01:31"
     ]
    },
    {
     "name": "stdout",
     "output_type": "stream",
     "text": [
      "connected mappoints  67\n",
      "390 [[  9.98728658e-01  -1.54424032e-02  -4.79854143e-02   6.60851693e+01]\n",
      " [  1.53994227e-02   9.99880621e-01  -1.26527842e-03  -6.06538997e+00]\n",
      " [  4.79992248e-02   5.24722143e-04   9.98847235e-01   2.23905737e+02]\n",
      " [ -1.55463471e-14  -3.81604187e-15  -1.01694136e-14   1.00000000e+00]]\n"
     ]
    },
    {
     "name": "stderr",
     "output_type": "stream",
     "text": [
      "\r",
      "                                                                               \r",
      "\r",
      " 59% (392 of 660) |#############          | Elapsed Time: 0:05:17 ETA:  0:01:30"
     ]
    },
    {
     "name": "stdout",
     "output_type": "stream",
     "text": [
      "connected mappoints  82\n",
      "391 [[  9.98680312e-01  -1.65227653e-02  -4.86274916e-02   6.60498698e+01]\n",
      " [  1.66907225e-02   9.99856049e-01   3.04990320e-03  -6.07506835e+00]\n",
      " [  4.85700988e-02  -3.85750625e-03   9.98812327e-01   2.24605445e+02]\n",
      " [ -1.55525540e-14  -3.75593997e-15  -1.02819239e-14   1.00000000e+00]]\n"
     ]
    },
    {
     "name": "stderr",
     "output_type": "stream",
     "text": [
      "\r",
      "                                                                               \r",
      "\r",
      " 59% (393 of 660) |#############          | Elapsed Time: 0:05:17 ETA:  0:01:31"
     ]
    },
    {
     "name": "stdout",
     "output_type": "stream",
     "text": [
      "connected mappoints  66\n",
      "392 [[  9.98616479e-01  -1.81212562e-02  -4.93634357e-02   6.60091189e+01]\n",
      " [  1.84517849e-02   9.99810227e-01   6.24833308e-03  -6.08485514e+00]\n",
      " [  4.92408402e-02  -7.15053188e-03   9.98761338e-01   2.25313673e+02]\n",
      " [ -1.55692124e-14  -3.53911086e-15  -9.90278069e-15   1.00000000e+00]]\n"
     ]
    },
    {
     "name": "stderr",
     "output_type": "stream",
     "text": [
      "\r",
      "                                                                               \r",
      "\r",
      " 59% (394 of 660) |#############          | Elapsed Time: 0:05:18 ETA:  0:01:33"
     ]
    },
    {
     "name": "stdout",
     "output_type": "stream",
     "text": [
      "connected mappoints  61\n",
      "393 [[  9.98559494e-01  -2.00530050e-02  -4.97675942e-02   6.59729873e+01]\n",
      " [  2.02577827e-02   9.99788259e-01   3.61364260e-03  -6.09281677e+00]\n",
      " [  4.96845920e-02  -4.61661823e-03   9.98754288e-01   2.26005686e+02]\n",
      " [ -1.55801768e-14  -3.50060351e-15  -9.93300899e-15   1.00000000e+00]]\n"
     ]
    },
    {
     "name": "stderr",
     "output_type": "stream",
     "text": [
      "\r",
      "                                                                               \r",
      "\r",
      " 59% (395 of 660) |#############          | Elapsed Time: 0:05:18 ETA:  0:01:36"
     ]
    },
    {
     "name": "stdout",
     "output_type": "stream",
     "text": [
      "connected mappoints  58\n",
      "394 [[  9.98534067e-01  -2.21874370e-02  -4.93703865e-02   6.59359649e+01]\n",
      " [  2.20434338e-02   9.99751029e-01  -3.45943093e-03  -6.11055274e+00]\n",
      " [  4.94348506e-02   2.36606679e-03   9.98774548e-01   2.26701014e+02]\n",
      " [ -1.55847182e-14  -3.65130996e-15  -9.84234595e-15   1.00000000e+00]]\n"
     ]
    },
    {
     "name": "stderr",
     "output_type": "stream",
     "text": [
      "\r",
      "                                                                               \r",
      "\r",
      " 60% (396 of 660) |#############          | Elapsed Time: 0:05:18 ETA:  0:01:38"
     ]
    },
    {
     "name": "stdout",
     "output_type": "stream",
     "text": [
      "connected mappoints  71\n",
      "395 [[  9.98484809e-01  -2.42459171e-02  -4.93985954e-02   6.59014594e+01]\n",
      " [  2.36305484e-02   9.99636187e-01  -1.30034584e-02  -6.11959060e+00]\n",
      " [  4.96959043e-02   1.18164398e-02   9.98694492e-01   2.27363808e+02]\n",
      " [ -1.55957293e-14  -3.58571900e-15  -9.82374434e-15   1.00000000e+00]]\n"
     ]
    },
    {
     "name": "stderr",
     "output_type": "stream",
     "text": [
      "\r",
      "                                                                               \r",
      "\r",
      " 60% (397 of 660) |#############          | Elapsed Time: 0:05:19 ETA:  0:01:38"
     ]
    },
    {
     "name": "stdout",
     "output_type": "stream",
     "text": [
      "connected mappoints  70\n",
      "396 [[  9.98509028e-01  -2.31519569e-02  -4.94338817e-02   6.58654351e+01]\n",
      " [  2.22590136e-02   9.99580348e-01  -1.85381971e-02  -6.12517392e+00]\n",
      " [  4.98423322e-02   1.74102077e-02   9.98605341e-01   2.28022388e+02]\n",
      " [ -1.56001261e-14  -3.64525177e-15  -1.00210265e-14   1.00000000e+00]]\n"
     ]
    },
    {
     "name": "stderr",
     "output_type": "stream",
     "text": [
      "\r",
      "                                                                               \r",
      "\r",
      " 60% (398 of 660) |#############          | Elapsed Time: 0:05:19 ETA:  0:01:38"
     ]
    },
    {
     "name": "stdout",
     "output_type": "stream",
     "text": [
      "connected mappoints  60\n",
      "397 [[  9.98585442e-01  -2.01714530e-02  -4.91957988e-02   6.58251922e+01]\n",
      " [  1.93457832e-02   9.99664857e-01  -1.72021854e-02  -6.14800630e+00]\n",
      " [  4.95263043e-02   1.62261207e-02   9.98641006e-01   2.28685147e+02]\n",
      " [ -1.55785750e-14  -3.71227974e-15  -9.74647290e-15   1.00000000e+00]]\n"
     ]
    },
    {
     "name": "stderr",
     "output_type": "stream",
     "text": [
      "\r",
      "                                                                               \r",
      "\r",
      " 60% (399 of 660) |#############          | Elapsed Time: 0:05:19 ETA:  0:01:38"
     ]
    },
    {
     "name": "stdout",
     "output_type": "stream",
     "text": [
      "connected mappoints  67\n",
      "398 [[  9.98557153e-01  -2.16718375e-02  -4.91319086e-02   6.57823078e+01]\n",
      " [  2.11639812e-02   9.99717322e-01  -1.08334178e-02  -6.16773277e+00]\n",
      " [  4.93528001e-02   9.77796001e-03   9.98733544e-01   2.29335005e+02]\n",
      " [ -1.56054140e-14  -3.65409365e-15  -9.78385045e-15   1.00000000e+00]]\n"
     ]
    },
    {
     "name": "stderr",
     "output_type": "stream",
     "text": [
      "\r",
      "                                                                               \r",
      "\r",
      " 60% (400 of 660) |#############          | Elapsed Time: 0:05:20 ETA:  0:01:37"
     ]
    },
    {
     "name": "stdout",
     "output_type": "stream",
     "text": [
      "connected mappoints  61\n",
      "399 [[  9.98456354e-01  -2.43386652e-02  -4.99253277e-02   6.57548864e+01]\n",
      " [  2.41975509e-02   9.99701315e-01  -3.42906407e-03  -6.16277338e+00]\n",
      " [  4.99938746e-02   2.21570015e-03   9.98747067e-01   2.29949598e+02]\n",
      " [ -1.56246361e-14  -3.80416701e-15  -1.03343983e-14   1.00000000e+00]]\n"
     ]
    },
    {
     "name": "stderr",
     "output_type": "stream",
     "text": [
      "\r",
      "                                                                               \r",
      "\r",
      " 60% (401 of 660) |#############          | Elapsed Time: 0:05:20 ETA:  0:01:35"
     ]
    },
    {
     "name": "stdout",
     "output_type": "stream",
     "text": [
      "connected mappoints  64\n",
      "400 [[  9.98408264e-01  -2.51482650e-02  -5.04827099e-02   6.57385949e+01]\n",
      " [  2.52440361e-02   9.99680524e-01   1.26030392e-03  -6.16801087e+00]\n",
      " [  5.04348874e-02  -2.53268520e-03   9.98724140e-01   2.30538924e+02]\n",
      " [ -1.56222840e-14  -3.57323694e-15  -1.04342263e-14   1.00000000e+00]]\n"
     ]
    },
    {
     "name": "stderr",
     "output_type": "stream",
     "text": [
      "\r",
      "                                                                               \r",
      "\r",
      " 60% (402 of 660) |##############         | Elapsed Time: 0:05:20 ETA:  0:01:32"
     ]
    },
    {
     "name": "stdout",
     "output_type": "stream",
     "text": [
      "connected mappoints  58\n",
      "401 [[  9.98446588e-01  -2.27818994e-02  -5.08467934e-02   6.56907036e+01]\n",
      " [  2.30378515e-02   9.99724675e-01   4.45332474e-03  -6.18295237e+00]\n",
      " [  5.07313388e-02  -5.61780777e-03   9.98696536e-01   2.31167900e+02]\n",
      " [ -1.55971620e-14  -3.65474998e-15  -1.07494791e-14   1.00000000e+00]]\n"
     ]
    },
    {
     "name": "stderr",
     "output_type": "stream",
     "text": [
      "\r",
      "                                                                               \r",
      "\r",
      " 61% (403 of 660) |##############         | Elapsed Time: 0:05:21 ETA:  0:01:30"
     ]
    },
    {
     "name": "stdout",
     "output_type": "stream",
     "text": [
      "connected mappoints  57\n",
      "402 [[  9.98251150e-01  -2.50013830e-02  -5.35683968e-02   6.56625941e+01]\n",
      " [  2.54210949e-02   9.99651133e-01   7.16796465e-03  -6.18953505e+00]\n",
      " [  5.33704996e-02  -8.51719626e-03   9.98538456e-01   2.31742996e+02]\n",
      " [ -1.56301421e-14  -3.79968219e-15  -1.06488561e-14   1.00000000e+00]]\n"
     ]
    },
    {
     "name": "stderr",
     "output_type": "stream",
     "text": [
      "\r",
      "                                                                               \r",
      "\r",
      " 61% (404 of 660) |##############         | Elapsed Time: 0:05:21 ETA:  0:01:28"
     ]
    },
    {
     "name": "stdout",
     "output_type": "stream",
     "text": [
      "connected mappoints  69\n",
      "403 [[  9.97743950e-01  -3.23793256e-02  -5.88097819e-02   6.56445435e+01]\n",
      " [  3.28384546e-02   9.99437149e-01   6.85716719e-03  -6.19938579e+00]\n",
      " [  5.85546503e-02  -8.77291943e-03   9.98245656e-01   2.32299012e+02]\n",
      " [ -1.57865114e-14  -3.69989180e-15  -1.04724858e-14   1.00000000e+00]]\n"
     ]
    },
    {
     "name": "stderr",
     "output_type": "stream",
     "text": [
      "\r",
      "                                                                               \r",
      "\r",
      " 61% (405 of 660) |##############         | Elapsed Time: 0:05:22 ETA:  0:01:26"
     ]
    },
    {
     "name": "stdout",
     "output_type": "stream",
     "text": [
      "connected mappoints  68\n",
      "404 [[  9.97113011e-01  -3.64434724e-02  -6.66146943e-02   6.56029069e+01]\n",
      " [  3.68410224e-02   9.99309856e-01   4.74882595e-03  -6.20952776e+00]\n",
      " [  6.63956569e-02  -7.18926958e-03   9.97767473e-01   2.32854792e+02]\n",
      " [ -1.58860966e-14  -3.67312017e-15  -1.03488409e-14   1.00000000e+00]]\n"
     ]
    },
    {
     "name": "stderr",
     "output_type": "stream",
     "text": [
      "\r",
      "                                                                               \r",
      "\r",
      " 61% (406 of 660) |##############         | Elapsed Time: 0:05:22 ETA:  0:01:26"
     ]
    },
    {
     "name": "stdout",
     "output_type": "stream",
     "text": [
      "connected mappoints  70\n",
      "405 [[  9.96208368e-01  -3.91901911e-02  -7.76724941e-02   6.55736217e+01]\n",
      " [  3.93656538e-02   9.99224607e-01   7.28578237e-04  -6.22102026e+00]\n",
      " [  7.75837142e-02  -3.78344425e-03   9.96978662e-01   2.33385065e+02]\n",
      " [ -1.60175298e-14  -4.00894927e-15  -1.04522035e-14   1.00000000e+00]]\n"
     ]
    },
    {
     "name": "stderr",
     "output_type": "stream",
     "text": [
      "\r",
      "                                                                               \r",
      "\r",
      " 61% (407 of 660) |##############         | Elapsed Time: 0:05:22 ETA:  0:01:27"
     ]
    },
    {
     "name": "stdout",
     "output_type": "stream",
     "text": [
      "connected mappoints  76\n",
      "406 [[  9.94987048e-01  -4.02570289e-02  -9.15431316e-02   6.55119306e+01]\n",
      " [  4.01359665e-02   9.99189219e-01  -3.16378010e-03  -6.23097393e+00]\n",
      " [  9.15962746e-02  -5.26251847e-04   9.95796086e-01   2.33896816e+02]\n",
      " [ -1.59969242e-14  -3.74457805e-15  -1.06056297e-14   1.00000000e+00]]\n"
     ]
    },
    {
     "name": "stderr",
     "output_type": "stream",
     "text": [
      "\r",
      "                                                                               \r",
      "\r",
      " 61% (408 of 660) |##############         | Elapsed Time: 0:05:23 ETA:  0:01:28"
     ]
    },
    {
     "name": "stdout",
     "output_type": "stream",
     "text": [
      "connected mappoints  85\n",
      "407 [[  9.93012625e-01  -4.15844389e-02  -1.10438493e-01   6.54410467e+01]\n",
      " [  4.11661152e-02   9.99133901e-01  -6.06627777e-03  -6.23631055e+00]\n",
      " [  1.10595105e-01   1.47756667e-03   9.93864447e-01   2.34402864e+02]\n",
      " [ -1.63125663e-14  -3.62834703e-15  -1.05758409e-14   1.00000000e+00]]\n"
     ]
    },
    {
     "name": "stderr",
     "output_type": "stream",
     "text": [
      "\r",
      "                                                                               \r",
      "\r",
      " 61% (409 of 660) |##############         | Elapsed Time: 0:05:23 ETA:  0:01:29"
     ]
    },
    {
     "name": "stdout",
     "output_type": "stream",
     "text": [
      "connected mappoints  70\n",
      "408 [[  9.90088221e-01  -4.60508169e-02  -1.32682467e-01   6.53738522e+01]\n",
      " [  4.57054776e-02   9.98938987e-01  -5.64883501e-03  -6.23632839e+00]\n",
      " [  1.32801822e-01  -4.71470498e-04   9.91142499e-01   2.34892281e+02]\n",
      " [ -1.65013107e-14  -3.50017580e-15  -9.90011290e-15   1.00000000e+00]]\n"
     ]
    },
    {
     "name": "stderr",
     "output_type": "stream",
     "text": [
      "\r",
      "                                                                               \r",
      "\r",
      " 62% (410 of 660) |##############         | Elapsed Time: 0:05:23 ETA:  0:01:28"
     ]
    },
    {
     "name": "stdout",
     "output_type": "stream",
     "text": [
      "connected mappoints  66\n",
      "409 [[  9.86579832e-01  -4.35541577e-02  -1.57363501e-01   6.52866571e+01]\n",
      " [  4.35575299e-02   9.99045036e-01  -3.42890504e-03  -6.24869717e+00]\n",
      " [  1.57362567e-01  -3.47147683e-03   9.87534795e-01   2.35371645e+02]\n",
      " [ -1.67349129e-14  -3.44658632e-15  -9.53134257e-15   1.00000000e+00]]\n"
     ]
    },
    {
     "name": "stderr",
     "output_type": "stream",
     "text": [
      "\r",
      "                                                                               \r",
      "\r",
      " 62% (411 of 660) |##############         | Elapsed Time: 0:05:24 ETA:  0:01:29"
     ]
    },
    {
     "name": "stdout",
     "output_type": "stream",
     "text": [
      "connected mappoints  63\n",
      "410 [[  9.81602977e-01  -4.42873795e-02  -1.85726206e-01   6.51880105e+01]\n",
      " [  4.47758008e-02   9.98995833e-01  -1.56600524e-03  -6.25228769e+00]\n",
      " [  1.85609060e-01  -6.77884419e-03   9.82600287e-01   2.35842094e+02]\n",
      " [ -1.70275053e-14  -3.45547362e-15  -9.15870550e-15   1.00000000e+00]]\n"
     ]
    },
    {
     "name": "stderr",
     "output_type": "stream",
     "text": [
      "\r",
      "                                                                               \r",
      "\r",
      " 62% (412 of 660) |##############         | Elapsed Time: 0:05:24 ETA:  0:01:29"
     ]
    },
    {
     "name": "stdout",
     "output_type": "stream",
     "text": [
      "connected mappoints  82\n",
      "411 [[  9.74843160e-01  -4.73657350e-02  -2.17801057e-01   6.50706231e+01]\n",
      " [  4.80050441e-02   9.98844310e-01  -2.35814257e-03  -6.26500560e+00]\n",
      " [  2.17661041e-01  -8.15673018e-03   9.75990338e-01   2.36307949e+02]\n",
      " [ -1.74168289e-14  -3.33396646e-15  -8.75794643e-15   1.00000000e+00]]\n"
     ]
    },
    {
     "name": "stderr",
     "output_type": "stream",
     "text": [
      "\r",
      "                                                                               \r",
      "\r",
      " 62% (413 of 660) |##############         | Elapsed Time: 0:05:24 ETA:  0:01:29"
     ]
    },
    {
     "name": "stdout",
     "output_type": "stream",
     "text": [
      "connected mappoints  56\n",
      "412 [[  9.66259997e-01  -4.58252040e-02  -2.53459402e-01   6.49386398e+01]\n",
      " [  4.56600326e-02   9.98935645e-01  -6.53740523e-03  -6.27675945e+00]\n",
      " [  2.53489209e-01  -5.25613138e-03   9.67323934e-01   2.36740216e+02]\n",
      " [ -1.81054678e-14  -3.51814695e-15  -7.97185256e-15   1.00000000e+00]]\n"
     ]
    },
    {
     "name": "stderr",
     "output_type": "stream",
     "text": [
      "\r",
      "                                                                               \r",
      "\r",
      " 62% (414 of 660) |##############         | Elapsed Time: 0:05:25 ETA:  0:01:30"
     ]
    },
    {
     "name": "stdout",
     "output_type": "stream",
     "text": [
      "connected mappoints  67\n",
      "413 [[  9.55214111e-01  -4.25346152e-02  -2.92842636e-01   6.47777437e+01]\n",
      " [  4.09391904e-02   9.99094561e-01  -1.15775845e-02  -6.28854296e+00]\n",
      " [  2.93069933e-01  -9.29668329e-04   9.56090555e-01   2.37162535e+02]\n",
      " [ -1.83739847e-14  -3.71164055e-15  -7.59636613e-15   1.00000000e+00]]\n"
     ]
    },
    {
     "name": "stderr",
     "output_type": "stream",
     "text": [
      "\r",
      "                                                                               \r",
      "\r",
      " 62% (415 of 660) |##############         | Elapsed Time: 0:05:25 ETA:  0:01:31"
     ]
    },
    {
     "name": "stdout",
     "output_type": "stream",
     "text": [
      "connected mappoints  77\n",
      "414 [[  9.41359299e-01  -3.90997783e-02  -3.35132627e-01   6.45903012e+01]\n",
      " [  3.58704038e-02   9.99231179e-01  -1.58229279e-02  -6.29905209e+00]\n",
      " [  3.35493643e-01   2.87371765e-03   9.42038087e-01   2.37583879e+02]\n",
      " [ -1.87879139e-14  -3.88262902e-15  -6.82312417e-15   1.00000000e+00]]\n"
     ]
    },
    {
     "name": "stderr",
     "output_type": "stream",
     "text": [
      "\r",
      "                                                                               \r",
      "\r",
      " 63% (416 of 660) |##############         | Elapsed Time: 0:05:26 ETA:  0:01:31"
     ]
    },
    {
     "name": "stdout",
     "output_type": "stream",
     "text": [
      "connected mappoints  76\n",
      "415 [[  9.24566388e-01  -3.35487406e-02  -3.79541138e-01   6.43859332e+01]\n",
      " [  2.91269557e-02   9.99424466e-01  -1.73884388e-02  -6.31242418e+00]\n",
      " [  3.79906059e-01   5.02188812e-03   9.25011441e-01   2.37988195e+02]\n",
      " [ -1.89763027e-14  -3.89147248e-15  -5.85976269e-15   1.00000000e+00]]\n"
     ]
    },
    {
     "name": "stderr",
     "output_type": "stream",
     "text": [
      "\r",
      "                                                                               \r",
      "\r",
      " 63% (417 of 660) |##############         | Elapsed Time: 0:05:26 ETA:  0:01:32"
     ]
    },
    {
     "name": "stdout",
     "output_type": "stream",
     "text": [
      "connected mappoints  74\n",
      "416 [[  9.04673073e-01  -2.42275244e-02  -4.25417040e-01   6.41581344e+01]\n",
      " [  1.77079873e-02   9.99657421e-01  -1.92735233e-02  -6.32513297e+00]\n",
      " [  4.25738250e-01   9.90295797e-03   9.04792171e-01   2.38362751e+02]\n",
      " [ -1.93445853e-14  -4.14184947e-15  -5.18920944e-15   1.00000000e+00]]\n"
     ]
    },
    {
     "name": "stderr",
     "output_type": "stream",
     "text": [
      "\r",
      "                                                                               \r",
      "\r",
      " 63% (418 of 660) |##############         | Elapsed Time: 0:05:27 ETA:  0:01:35"
     ]
    },
    {
     "name": "stdout",
     "output_type": "stream",
     "text": [
      "connected mappoints  63\n",
      "417 [[  8.81104602e-01  -1.16014902e-02  -4.72779108e-01   6.39058110e+01]\n",
      " [  2.40397351e-03   9.99796014e-01  -2.00537024e-02  -6.34104817e+00]\n",
      " [  4.72915321e-01   1.65328611e-02   8.80952759e-01   2.38725771e+02]\n",
      " [ -1.94186794e-14  -4.45437691e-15  -4.12976755e-15   1.00000000e+00]]\n"
     ]
    },
    {
     "name": "stderr",
     "output_type": "stream",
     "text": [
      "\r",
      "                                                                               \r",
      "\r",
      " 63% (419 of 660) |##############         | Elapsed Time: 0:05:27 ETA:  0:01:37"
     ]
    },
    {
     "name": "stdout",
     "output_type": "stream",
     "text": [
      "connected mappoints  63\n",
      "418 [[  8.53728400e-01  -1.14880739e-05  -5.20718560e-01   6.36362690e+01]\n",
      " [ -1.12320989e-02   9.99766926e-01  -1.84373057e-02  -6.35984882e+00]\n",
      " [  5.20597406e-01   2.15892139e-02   8.53529289e-01   2.39062846e+02]\n",
      " [ -1.93213916e-14  -4.85794884e-15  -3.28869427e-15   1.00000000e+00]]\n"
     ]
    },
    {
     "name": "stderr",
     "output_type": "stream",
     "text": [
      "\r",
      "                                                                               \r",
      "\r",
      " 63% (420 of 660) |##############         | Elapsed Time: 0:05:27 ETA:  0:01:40"
     ]
    },
    {
     "name": "stdout",
     "output_type": "stream",
     "text": [
      "connected mappoints  58\n",
      "419 [[  8.22136813e-01   8.90216171e-03  -5.69220355e-01   6.33573667e+01]\n",
      " [ -2.19754425e-02   9.99628767e-01  -1.61061762e-02  -6.36761018e+00]\n",
      " [  5.68865661e-01   2.57503495e-02   8.22027237e-01   2.39387932e+02]\n",
      " [ -1.96196721e-14  -5.05623478e-15  -1.88375396e-15   1.00000000e+00]]\n"
     ]
    },
    {
     "name": "stderr",
     "output_type": "stream",
     "text": [
      "\r",
      "                                                                               \r",
      "\r",
      " 63% (421 of 660) |##############         | Elapsed Time: 0:05:28 ETA:  0:01:42"
     ]
    },
    {
     "name": "stdout",
     "output_type": "stream",
     "text": [
      "connected mappoints  66\n",
      "420 [[  7.86672167e-01   1.55058974e-02  -6.17176206e-01   6.30668746e+01]\n",
      " [ -2.94219899e-02   9.99490274e-01  -1.23910591e-02  -6.37460213e+00]\n",
      " [  6.16669480e-01   2.79062534e-02   7.86727394e-01   2.39693733e+02]\n",
      " [ -1.97052328e-14  -5.18853203e-15  -9.99924406e-16   1.00000000e+00]]\n"
     ]
    },
    {
     "name": "stderr",
     "output_type": "stream",
     "text": [
      "\r",
      "                                                                               \r",
      "\r",
      " 63% (422 of 660) |##############         | Elapsed Time: 0:05:28 ETA:  0:01:45"
     ]
    },
    {
     "name": "stdout",
     "output_type": "stream",
     "text": [
      "connected mappoints  65\n",
      "421 [[  7.48482159e-01   2.30660039e-02  -6.62753662e-01   6.27549148e+01]\n",
      " [ -3.41447664e-02   9.99409754e-01  -3.77871803e-03  -6.38250972e+00]\n",
      " [  6.62275315e-01   2.54578720e-02   7.48827954e-01   2.39993486e+02]\n",
      " [ -1.99244998e-14  -5.20817619e-15  -4.89210045e-16   1.00000000e+00]]\n"
     ]
    },
    {
     "name": "stderr",
     "output_type": "stream",
     "text": [
      "\r",
      "                                                                               \r",
      "\r",
      " 64% (423 of 660) |##############         | Elapsed Time: 0:05:29 ETA:  0:01:45"
     ]
    },
    {
     "name": "stdout",
     "output_type": "stream",
     "text": [
      "connected mappoints  50\n",
      "422 [[  7.08345222e-01   3.48500354e-02  -7.05005335e-01   6.24239453e+01]\n",
      " [ -3.89879673e-02   9.99187420e-01   1.02194640e-02  -6.38965474e+00]\n",
      " [  7.04788611e-01   2.02478164e-02   7.09128367e-01   2.40272229e+02]\n",
      " [ -1.99284231e-14  -5.52328696e-15   6.69560101e-16   1.00000000e+00]]\n"
     ]
    },
    {
     "name": "stderr",
     "output_type": "stream",
     "text": [
      "\r",
      "                                                                               \r",
      "\r",
      " 64% (424 of 660) |##############         | Elapsed Time: 0:05:29 ETA:  0:01:42"
     ]
    },
    {
     "name": "stdout",
     "output_type": "stream",
     "text": [
      "connected mappoints  31\n",
      "423 [[  6.66474353e-01   4.69443029e-02  -7.44048500e-01   6.20878504e+01]\n",
      " [ -4.43660692e-02   9.98744213e-01   2.32733533e-02  -6.39520242e+00]\n",
      " [  7.44206684e-01   1.74994141e-02   6.67720137e-01   2.40527521e+02]\n",
      " [ -1.98987207e-14  -5.54305972e-15   1.20197848e-15   1.00000000e+00]]\n"
     ]
    },
    {
     "name": "stderr",
     "output_type": "stream",
     "text": [
      "\r",
      "                                                                               \r",
      "\r",
      " 64% (425 of 660) |##############         | Elapsed Time: 0:05:29 ETA:  0:01:38"
     ]
    },
    {
     "name": "stdout",
     "output_type": "stream",
     "text": [
      "connected mappoints  30\n",
      "424 [[  6.23724235e-01   5.52042476e-02  -7.79692613e-01   6.17388774e+01]\n",
      " [ -4.87774131e-02   9.98307687e-01   3.16626959e-02  -6.38031998e+00]\n",
      " [  7.80121044e-01   1.82825978e-02   6.25361418e-01   2.40734920e+02]\n",
      " [ -1.96447097e-14  -5.72310163e-15   1.79021235e-15   1.00000000e+00]]\n"
     ]
    },
    {
     "name": "stderr",
     "output_type": "stream",
     "text": [
      "\r",
      "                                                                               \r",
      "\r",
      " 64% (426 of 660) |##############         | Elapsed Time: 0:05:30 ETA:  0:01:32"
     ]
    },
    {
     "name": "stdout",
     "output_type": "stream",
     "text": [
      "connected mappoints  40\n",
      "425 [[  5.78729609e-01   5.89086820e-02  -8.13389087e-01   6.13679340e+01]\n",
      " [ -4.94303431e-02   9.98087717e-01   3.71153600e-02  -6.36972463e+00]\n",
      " [  8.14020074e-01   1.87263438e-02   5.80534791e-01   2.40949560e+02]\n",
      " [ -1.92630041e-14  -5.67869083e-15   2.82564759e-15   1.00000000e+00]]\n"
     ]
    },
    {
     "name": "stderr",
     "output_type": "stream",
     "text": [
      "\r",
      "                                                                               \r",
      "\r",
      " 64% (427 of 660) |##############         | Elapsed Time: 0:05:30 ETA:  0:01:26"
     ]
    },
    {
     "name": "stdout",
     "output_type": "stream",
     "text": [
      "connected mappoints  23\n",
      "426 [[  5.31258864e-01   6.20255696e-02  -8.44936003e-01   6.09949270e+01]\n",
      " [ -4.94856883e-02   9.97885503e-01   4.21389385e-02  -6.36489349e+00]\n",
      " [  8.45763079e-01   1.94255551e-02   5.33204896e-01   2.41134340e+02]\n",
      " [ -1.89707667e-14  -5.60403225e-15   3.88666045e-15   1.00000000e+00]]\n"
     ]
    },
    {
     "name": "stderr",
     "output_type": "stream",
     "text": [
      "\r",
      "                                                                               \r",
      "\r",
      " 64% (428 of 660) |##############         | Elapsed Time: 0:05:30 ETA:  0:01:22"
     ]
    },
    {
     "name": "stdout",
     "output_type": "stream",
     "text": [
      "connected mappoints  23\n",
      "427 [[  4.97889150e-01   5.29875877e-02  -8.65620419e-01   6.05591297e+01]\n",
      " [ -3.59198452e-02   9.98535170e-01   4.04633115e-02  -6.31561047e+00]\n",
      " [  8.66496486e-01   1.09467077e-02   4.99063132e-01   2.41056802e+02]\n",
      " [ -1.86832273e-14  -5.37653348e-15   4.37218106e-15   1.00000000e+00]]\n"
     ]
    },
    {
     "name": "stderr",
     "output_type": "stream",
     "text": [
      "\r",
      "                                                                               \r",
      "\r",
      " 65% (429 of 660) |##############         | Elapsed Time: 0:05:31 ETA:  0:01:18"
     ]
    },
    {
     "name": "stdout",
     "output_type": "stream",
     "text": [
      "connected mappoints  35\n",
      "428 [[  4.46944386e-01   4.68566635e-02  -8.93333739e-01   6.01839903e+01]\n",
      " [ -2.89392815e-02   9.98861908e-01   3.79131398e-02  -6.30138087e+00]\n",
      " [  8.94093526e-01   8.90737158e-03   4.47791720e-01   2.41208429e+02]\n",
      " [ -1.83836913e-14  -5.13160669e-15   5.41032627e-15   1.00000000e+00]]\n"
     ]
    },
    {
     "name": "stderr",
     "output_type": "stream",
     "text": [
      "\r",
      "                                                                               \r",
      "\r",
      " 65% (430 of 660) |##############         | Elapsed Time: 0:05:31 ETA:  0:01:16"
     ]
    },
    {
     "name": "stdout",
     "output_type": "stream",
     "text": [
      "connected mappoints  54\n",
      "429 [[  3.93908995e-01   3.91261717e-02  -9.18316311e-01   5.97925679e+01]\n",
      " [ -2.11669690e-02   9.99214766e-01   3.34934583e-02  -6.28459494e+00]\n",
      " [  9.18905688e-01   6.24459840e-03   3.94427867e-01   2.41343916e+02]\n",
      " [ -1.79581334e-14  -5.03759593e-15   6.27231711e-15   1.00000000e+00]]\n"
     ]
    },
    {
     "name": "stderr",
     "output_type": "stream",
     "text": [
      "\r",
      "                                                                               \r",
      "\r",
      " 65% (431 of 660) |###############        | Elapsed Time: 0:05:31 ETA:  0:01:13"
     ]
    },
    {
     "name": "stdout",
     "output_type": "stream",
     "text": [
      "connected mappoints  47\n",
      "430 [[  3.40360560e-01   3.36727697e-02  -9.39691882e-01   5.93755852e+01]\n",
      " [ -1.75090844e-02   9.99412276e-01   2.94709129e-02  -6.26957686e+00]\n",
      " [  9.40131970e-01   6.42240808e-03   3.40750101e-01   2.41459088e+02]\n",
      " [ -1.75939104e-14  -5.00086452e-15   7.63548523e-15   1.00000000e+00]]\n"
     ]
    },
    {
     "name": "stderr",
     "output_type": "stream",
     "text": [
      "\r",
      "                                                                               \r",
      "\r",
      " 65% (432 of 660) |###############        | Elapsed Time: 0:05:32 ETA:  0:01:12"
     ]
    },
    {
     "name": "stdout",
     "output_type": "stream",
     "text": [
      "connected mappoints  38\n",
      "431 [[  2.89152224e-01   3.14922872e-02  -9.56764980e-01   5.89488619e+01]\n",
      " [ -1.75403499e-02   9.99465234e-01   2.75967616e-02  -6.25454041e+00]\n",
      " [  9.57122420e-01   8.80232759e-03   2.89549981e-01   2.41548386e+02]\n",
      " [ -1.70492138e-14  -5.10824958e-15   8.40724283e-15   1.00000000e+00]]\n"
     ]
    },
    {
     "name": "stderr",
     "output_type": "stream",
     "text": [
      "\r",
      "                                                                               \r",
      "\r",
      " 65% (433 of 660) |###############        | Elapsed Time: 0:05:32 ETA:  0:01:16"
     ]
    },
    {
     "name": "stdout",
     "output_type": "stream",
     "text": [
      "connected mappoints  43\n",
      "432 [[  2.39958438e-01   3.20529770e-02  -9.70253861e-01   5.84925001e+01]\n",
      " [ -1.88623362e-02   9.99420032e-01   2.83515600e-02  -6.24373046e+00]\n",
      " [  9.70599897e-01   1.14980585e-02   2.40423864e-01   2.41622728e+02]\n",
      " [ -1.67351613e-14  -5.29617019e-15   9.23270800e-15   1.00000000e+00]]\n"
     ]
    },
    {
     "name": "stderr",
     "output_type": "stream",
     "text": [
      "\r",
      "                                                                               \r",
      "\r",
      " 65% (434 of 660) |###############        | Elapsed Time: 0:05:33 ETA:  0:01:20"
     ]
    },
    {
     "name": "stdout",
     "output_type": "stream",
     "text": [
      "connected mappoints  35\n",
      "433 [[  1.93249953e-01   3.28125740e-02  -9.80600730e-01   5.80245087e+01]\n",
      " [ -1.72064962e-02   9.99400266e-01   3.00507023e-02  -6.23191888e+00]\n",
      " [  9.80998671e-01   1.10654059e-02   1.93698644e-01   2.41686043e+02]\n",
      " [ -1.61665738e-14  -5.16583789e-15   1.00668170e-14   1.00000000e+00]]\n"
     ]
    },
    {
     "name": "stderr",
     "output_type": "stream",
     "text": [
      "\r",
      "                                                                               \r",
      "\r",
      " 65% (435 of 660) |###############        | Elapsed Time: 0:05:33 ETA:  0:01:27"
     ]
    },
    {
     "name": "stdout",
     "output_type": "stream",
     "text": [
      "connected mappoints  28\n",
      "434 [[  1.49499660e-01   3.20017017e-02  -9.88243767e-01   5.76104918e+01]\n",
      " [ -1.08411714e-02   9.99469075e-01   3.07251720e-02  -6.25038565e+00]\n",
      " [  9.88702342e-01   6.12031730e-03   1.49767222e-01   2.41710708e+02]\n",
      " [ -1.57000324e-14  -4.82554818e-15   1.05407628e-14   1.00000000e+00]]\n"
     ]
    },
    {
     "name": "stderr",
     "output_type": "stream",
     "text": [
      "\r",
      "                                                                               \r",
      "\r",
      " 66% (436 of 660) |###############        | Elapsed Time: 0:05:34 ETA:  0:01:35"
     ]
    },
    {
     "name": "stdout",
     "output_type": "stream",
     "text": [
      "connected mappoints  23\n",
      "435 [[  1.09274903e-01   3.18285325e-02  -9.93501857e-01   5.71208885e+01]\n",
      " [ -1.08474949e-02   9.99465887e-01   3.08264884e-02  -6.24625373e+00]\n",
      " [  9.93952377e-01   7.40844480e-03   1.09561798e-01   2.41737210e+02]\n",
      " [ -1.53157739e-14  -4.97843048e-15   1.10379887e-14   1.00000000e+00]]\n"
     ]
    },
    {
     "name": "stderr",
     "output_type": "stream",
     "text": [
      "\r",
      "                                                                               \r",
      "\r",
      " 66% (437 of 660) |###############        | Elapsed Time: 0:05:34 ETA:  0:01:43"
     ]
    },
    {
     "name": "stdout",
     "output_type": "stream",
     "text": [
      "connected mappoints  21\n",
      "436 [[  7.39379567e-02   3.04665380e-02  -9.96797356e-01   5.66492803e+01]\n",
      " [ -9.59757831e-03   9.99508684e-01   2.98375029e-02  -6.23896423e+00]\n",
      " [  9.97216659e-01   7.36071669e-03   7.41940348e-02   2.41747270e+02]\n",
      " [ -1.48406842e-14  -4.98771193e-15   1.18210703e-14   1.00000000e+00]]\n"
     ]
    },
    {
     "name": "stderr",
     "output_type": "stream",
     "text": [
      "\r",
      "                                                                               \r",
      "\r",
      " 66% (438 of 660) |###############        | Elapsed Time: 0:05:35 ETA:  0:01:51"
     ]
    },
    {
     "name": "stdout",
     "output_type": "stream",
     "text": [
      "connected mappoints  31\n",
      "437 [[  4.46108032e-02   2.77133174e-02  -9.98619972e-01   5.61283538e+01]\n",
      " [ -1.08834972e-02   9.99569306e-01   2.72534704e-02  -6.22021518e+00]\n",
      " [  9.98945157e-01   9.65267842e-03   4.48932074e-02   2.41753065e+02]\n",
      " [ -1.47518873e-14  -5.09126651e-15   1.20057888e-14   1.00000000e+00]]\n"
     ]
    },
    {
     "name": "stderr",
     "output_type": "stream",
     "text": [
      "\r",
      "                                                                               \r",
      "\r",
      " 66% (439 of 660) |###############        | Elapsed Time: 0:05:36 ETA:  0:02:02"
     ]
    },
    {
     "name": "stdout",
     "output_type": "stream",
     "text": [
      "connected mappoints  36\n",
      "438 [[  1.93035500e-02   2.53867052e-02  -9.99491315e-01   5.56175156e+01]\n",
      " [ -1.07194469e-02   9.99625383e-01   2.51830818e-02  -6.20793611e+00]\n",
      " [  9.99756203e-01   1.02278711e-02   1.95684500e-02   2.41740470e+02]\n",
      " [ -1.41778523e-14  -5.35549390e-15   1.20183499e-14   1.00000000e+00]]\n"
     ]
    },
    {
     "name": "stderr",
     "output_type": "stream",
     "text": [
      "\r",
      "                                                                               \r",
      "\r",
      " 66% (440 of 660) |###############        | Elapsed Time: 0:05:37 ETA:  0:02:14"
     ]
    },
    {
     "name": "stdout",
     "output_type": "stream",
     "text": [
      "connected mappoints  27\n",
      "439 [[ -3.01757713e-03   2.38977696e-02  -9.99709853e-01   5.50929302e+01]\n",
      " [ -1.22117014e-02   9.99638979e-01   2.39329358e-02  -6.18724297e+00]\n",
      " [  9.99920881e-01   1.22803777e-02  -2.72465530e-03   2.41706730e+02]\n",
      " [ -1.39899207e-14  -5.58262243e-15   1.24264447e-14   1.00000000e+00]]\n"
     ]
    },
    {
     "name": "stderr",
     "output_type": "stream",
     "text": [
      "\r",
      "                                                                               \r",
      "\r",
      " 66% (441 of 660) |###############        | Elapsed Time: 0:05:38 ETA:  0:02:25"
     ]
    },
    {
     "name": "stdout",
     "output_type": "stream",
     "text": [
      "connected mappoints  39\n",
      "440 [[ -2.15992835e-02   2.19655731e-02  -9.99525380e-01   5.45665727e+01]\n",
      " [ -1.43568048e-02   9.99648713e-01   2.22785274e-02  -6.18308479e+00]\n",
      " [  9.99663620e-01   1.48311910e-02  -2.12763405e-02   2.41671548e+02]\n",
      " [ -1.36623480e-14  -5.55065398e-15   1.31600982e-14   1.00000000e+00]]\n"
     ]
    },
    {
     "name": "stderr",
     "output_type": "stream",
     "text": [
      "\r",
      "                                                                               \r",
      "\r",
      " 66% (442 of 660) |###############        | Elapsed Time: 0:05:39 ETA:  0:02:34"
     ]
    },
    {
     "name": "stdout",
     "output_type": "stream",
     "text": [
      "connected mappoints  29\n",
      "441 [[ -3.63443210e-02   2.14299090e-02  -9.99109528e-01   5.40220831e+01]\n",
      " [ -1.73819159e-02   9.99605251e-01   2.20728387e-02  -6.17998725e+00]\n",
      " [  9.99188150e-01   1.81686601e-02  -3.59574812e-02   2.41628615e+02]\n",
      " [ -1.36997233e-14  -5.75964001e-15   1.30028076e-14   1.00000000e+00]]\n"
     ]
    },
    {
     "name": "stderr",
     "output_type": "stream",
     "text": [
      "\r",
      "                                                                               \r",
      "\r",
      " 67% (443 of 660) |###############        | Elapsed Time: 0:05:39 ETA:  0:02:44"
     ]
    },
    {
     "name": "stdout",
     "output_type": "stream",
     "text": [
      "connected mappoints  36\n",
      "442 [[ -4.65174766e-02   1.92203729e-02  -9.98732548e-01   5.34562174e+01]\n",
      " [ -1.92122743e-02   9.99612717e-01   2.01321522e-02  -6.16845527e+00]\n",
      " [  9.98732703e-01   2.01244206e-02  -4.61301941e-02   2.41590441e+02]\n",
      " [ -1.35665175e-14  -5.94422620e-15   1.22975113e-14   1.00000000e+00]]\n"
     ]
    },
    {
     "name": "stderr",
     "output_type": "stream",
     "text": [
      "\r",
      "                                                                               \r",
      "\r",
      " 67% (444 of 660) |###############        | Elapsed Time: 0:05:40 ETA:  0:02:53"
     ]
    },
    {
     "name": "stdout",
     "output_type": "stream",
     "text": [
      "connected mappoints  59\n",
      "443 [[ -5.26383657e-02   1.70592338e-02  -9.98467919e-01   5.28727328e+01]\n",
      " [ -1.95725524e-02   9.99644387e-01   1.81111823e-02  -6.14778658e+00]\n",
      " [  9.98421813e-01   2.04959087e-02  -5.22857541e-02   2.41550619e+02]\n",
      " [ -1.35239656e-14  -5.66171497e-15   1.21695800e-14   1.00000000e+00]]\n"
     ]
    },
    {
     "name": "stderr",
     "output_type": "stream",
     "text": [
      "\r",
      "                                                                               \r",
      "\r",
      " 67% (445 of 660) |###############        | Elapsed Time: 0:05:41 ETA:  0:03:03"
     ]
    },
    {
     "name": "stdout",
     "output_type": "stream",
     "text": [
      "connected mappoints  66\n",
      "444 [[ -5.61114070e-02   1.66764264e-02  -9.98285233e-01   5.22636569e+01]\n",
      " [ -1.99547239e-02   9.99642052e-01   1.78207031e-02  -6.14072909e+00]\n",
      " [  9.98225084e-01   2.09204509e-02  -5.57585485e-02   2.41508386e+02]\n",
      " [ -1.34617309e-14  -5.42057811e-15   1.18894459e-14   1.00000000e+00]]\n"
     ]
    },
    {
     "name": "stderr",
     "output_type": "stream",
     "text": [
      "\r",
      "                                                                               \r",
      "\r",
      " 67% (446 of 660) |###############        | Elapsed Time: 0:05:42 ETA:  0:03:08"
     ]
    },
    {
     "name": "stdout",
     "output_type": "stream",
     "text": [
      "connected mappoints  56\n",
      "445 [[ -5.78999560e-02   1.69938034e-02  -9.98177743e-01   5.16459070e+01]\n",
      " [ -1.96003109e-02   9.99643036e-01   1.81556787e-02  -6.12938632e+00]\n",
      " [  9.98129963e-01   2.06158070e-02  -5.75462040e-02   2.41462079e+02]\n",
      " [ -1.34419711e-14  -5.60522358e-15   1.22728771e-14   1.00000000e+00]]\n"
     ]
    },
    {
     "name": "stderr",
     "output_type": "stream",
     "text": [
      "\r",
      "                                                                               \r",
      "\r",
      " 67% (447 of 660) |###############        | Elapsed Time: 0:05:43 ETA:  0:03:13"
     ]
    },
    {
     "name": "stdout",
     "output_type": "stream",
     "text": [
      "connected mappoints  47\n",
      "446 [[ -5.89475576e-02   1.71582456e-02  -9.98113611e-01   5.10101057e+01]\n",
      " [ -1.91902566e-02   9.99648031e-01   1.83179800e-02  -6.11815975e+00]\n",
      " [  9.98076610e-01   2.02338565e-02  -5.85975387e-02   2.41414540e+02]\n",
      " [ -1.34658652e-14  -5.42952080e-15   1.19530274e-14   1.00000000e+00]]\n"
     ]
    },
    {
     "name": "stderr",
     "output_type": "stream",
     "text": [
      "\r",
      "                                                                               \r",
      "\r",
      " 67% (448 of 660) |###############        | Elapsed Time: 0:05:44 ETA:  0:03:16"
     ]
    },
    {
     "name": "stdout",
     "output_type": "stream",
     "text": [
      "connected mappoints  58\n",
      "447 [[ -5.87986933e-02   1.76033549e-02  -9.98114640e-01   5.03583785e+01]\n",
      " [ -1.91474356e-02   9.99640688e-01   1.87582400e-02  -6.10830865e+00]\n",
      " [  9.98086213e-01   2.02142958e-02  -5.84405071e-02   2.41364931e+02]\n",
      " [ -1.34371358e-14  -5.34353597e-15   1.19412830e-14   1.00000000e+00]]\n"
     ]
    },
    {
     "name": "stderr",
     "output_type": "stream",
     "text": [
      "\r",
      "                                                                               \r",
      "\r",
      " 68% (449 of 660) |###############        | Elapsed Time: 0:05:45 ETA:  0:03:13"
     ]
    },
    {
     "name": "stdout",
     "output_type": "stream",
     "text": [
      "connected mappoints  49\n",
      "448 [[ -5.81567787e-02   1.75460911e-02  -9.98153257e-01   4.96957239e+01]\n",
      " [ -1.84470054e-02   9.99655934e-01   1.86473092e-02  -6.09458022e+00]\n",
      " [  9.98137013e-01   1.94974059e-02  -5.78130960e-02   2.41326461e+02]\n",
      " [ -1.34484529e-14  -5.04565172e-15   1.19799278e-14   1.00000000e+00]]\n"
     ]
    },
    {
     "name": "stderr",
     "output_type": "stream",
     "text": [
      "\r",
      "                                                                               \r",
      "\r",
      " 68% (450 of 660) |###############        | Elapsed Time: 0:05:46 ETA:  0:03:07"
     ]
    },
    {
     "name": "stdout",
     "output_type": "stream",
     "text": [
      "connected mappoints  42\n",
      "449 [[ -5.73961767e-02   1.53985187e-02  -9.98232721e-01   4.89932295e+01]\n",
      " [ -1.69117599e-02   9.99722578e-01   1.63938897e-02  -6.08334024e+00]\n",
      " [  9.98208230e-01   1.78228186e-02  -5.71198377e-02   2.41279045e+02]\n",
      " [ -1.34734151e-14  -4.90870758e-15   1.23975861e-14   1.00000000e+00]]\n"
     ]
    },
    {
     "name": "stderr",
     "output_type": "stream",
     "text": [
      "\r",
      "                                                                               \r",
      "\r",
      " 68% (451 of 660) |###############        | Elapsed Time: 0:05:46 ETA:  0:03:01"
     ]
    },
    {
     "name": "stdout",
     "output_type": "stream",
     "text": [
      "connected mappoints  46\n",
      "450 [[ -5.65039830e-02   1.28308550e-02  -9.98319923e-01   4.82780934e+01]\n",
      " [ -1.45636102e-02   9.99800439e-01   1.36741701e-02  -6.07346205e+00]\n",
      " [  9.98296149e-01   1.53117873e-02  -5.63058434e-02   2.41236391e+02]\n",
      " [ -1.34917902e-14  -4.76086438e-15   1.23797083e-14   1.00000000e+00]]\n"
     ]
    },
    {
     "name": "stderr",
     "output_type": "stream",
     "text": [
      "\r",
      "                                                                               \r",
      "\r",
      " 68% (452 of 660) |###############        | Elapsed Time: 0:05:47 ETA:  0:02:54"
     ]
    },
    {
     "name": "stdout",
     "output_type": "stream",
     "text": [
      "connected mappoints  54\n",
      "451 [[ -5.49979841e-02   1.17216211e-02  -9.98417661e-01   4.75467971e+01]\n",
      " [ -1.41050649e-02   9.99822194e-01   1.25150902e-02  -6.06279419e+00]\n",
      " [  9.98386833e-01   1.47710506e-02  -5.48228709e-02   2.41183351e+02]\n",
      " [ -1.35866650e-14  -4.78390771e-15   1.25959086e-14   1.00000000e+00]]\n"
     ]
    },
    {
     "name": "stderr",
     "output_type": "stream",
     "text": [
      "\r",
      "                                                                               \r",
      "\r",
      " 68% (453 of 660) |###############        | Elapsed Time: 0:05:48 ETA:  0:02:48"
     ]
    },
    {
     "name": "stdout",
     "output_type": "stream",
     "text": [
      "connected mappoints  50\n",
      "452 [[ -5.39512330e-02   1.10027866e-02  -9.98482951e-01   4.67752396e+01]\n",
      " [ -1.45824285e-02   9.99823976e-01   1.18054994e-02  -6.05278181e+00]\n",
      " [  9.98437087e-01   1.51972275e-02  -5.37812890e-02   2.41134275e+02]\n",
      " [ -1.35851820e-14  -4.81114089e-15   1.24202434e-14   1.00000000e+00]]\n"
     ]
    },
    {
     "name": "stderr",
     "output_type": "stream",
     "text": [
      "\r",
      "                                                                               \r",
      "\r",
      " 68% (454 of 660) |###############        | Elapsed Time: 0:05:49 ETA:  0:02:46"
     ]
    },
    {
     "name": "stdout",
     "output_type": "stream",
     "text": [
      "connected mappoints  62\n",
      "453 [[ -5.29278311e-02   1.11732249e-02  -9.98535830e-01   4.59891587e+01]\n",
      " [ -1.44804817e-02   9.99823679e-01   1.19551797e-02  -6.04998280e+00]\n",
      " [  9.98493345e-01   1.50920416e-02  -5.27567051e-02   2.41092316e+02]\n",
      " [ -1.35989136e-14  -4.49106188e-15   1.24624086e-14   1.00000000e+00]]\n"
     ]
    },
    {
     "name": "stderr",
     "output_type": "stream",
     "text": [
      "\r",
      "                                                                               \r",
      "\r",
      " 68% (455 of 660) |###############        | Elapsed Time: 0:05:49 ETA:  0:02:42"
     ]
    },
    {
     "name": "stdout",
     "output_type": "stream",
     "text": [
      "connected mappoints  82\n",
      "454 [[ -5.16890289e-02   1.19946539e-02  -9.98591194e-01   4.51635583e+01]\n",
      " [ -1.25392123e-02   9.99841250e-01   1.26587231e-02  -6.04273239e+00]\n",
      " [  9.98584504e-01   1.31758641e-02  -5.15304198e-02   2.41055221e+02]\n",
      " [ -1.36247362e-14  -4.39616077e-15   1.28419339e-14   1.00000000e+00]]\n"
     ]
    },
    {
     "name": "stderr",
     "output_type": "stream",
     "text": [
      "\r",
      "                                                                               \r",
      "\r",
      " 69% (456 of 660) |###############        | Elapsed Time: 0:05:50 ETA:  0:02:36"
     ]
    },
    {
     "name": "stdout",
     "output_type": "stream",
     "text": [
      "connected mappoints  68\n",
      "455 [[ -5.01648352e-02   1.20784911e-02  -9.98667912e-01   4.43367585e+01]\n",
      " [ -1.05782763e-02   9.99864354e-01   1.26243269e-02  -6.02532727e+00]\n",
      " [  9.98684930e-01   1.11974824e-02  -5.00302610e-02   2.41006827e+02]\n",
      " [ -1.36562039e-14  -4.57470811e-15   1.27653675e-14   1.00000000e+00]]\n"
     ]
    },
    {
     "name": "stderr",
     "output_type": "stream",
     "text": [
      "\r",
      "                                                                               \r",
      "\r",
      " 69% (457 of 660) |###############        | Elapsed Time: 0:05:51 ETA:  0:02:29"
     ]
    },
    {
     "name": "stdout",
     "output_type": "stream",
     "text": [
      "connected mappoints  50\n",
      "456 [[ -4.84302369e-02   1.21289353e-02  -9.98752923e-01   4.34793733e+01]\n",
      " [ -5.86158157e-03   9.99905599e-01   1.24271657e-02  -6.03042713e+00]\n",
      " [  9.98809368e-01   6.45612230e-03  -4.83545703e-02   2.40965253e+02]\n",
      " [ -1.36973375e-14  -4.51813249e-15   1.23301761e-14   1.00000000e+00]]\n"
     ]
    },
    {
     "name": "stderr",
     "output_type": "stream",
     "text": [
      "\r",
      "                                                                               \r",
      "\r",
      " 69% (458 of 660) |###############        | Elapsed Time: 0:05:52 ETA:  0:02:26"
     ]
    },
    {
     "name": "stdout",
     "output_type": "stream",
     "text": [
      "connected mappoints  55\n",
      "457 [[ -4.73443678e-02   1.24350005e-02  -9.98801222e-01   4.26073190e+01]\n",
      " [ -4.44712988e-03   9.99909975e-01   1.26596036e-02  -6.02242736e+00]\n",
      " [  9.98868727e-01   5.04115969e-03  -4.72848055e-02   2.40928266e+02]\n",
      " [ -1.37213421e-14  -4.34147888e-15   1.25281319e-14   1.00000000e+00]]\n"
     ]
    },
    {
     "name": "stderr",
     "output_type": "stream",
     "text": [
      "\r",
      "                                                                               \r",
      "\r",
      " 69% (459 of 660) |###############        | Elapsed Time: 0:05:52 ETA:  0:02:24"
     ]
    },
    {
     "name": "stdout",
     "output_type": "stream",
     "text": [
      "connected mappoints  48\n",
      "458 [[ -4.62171411e-02   1.45817301e-02  -9.98824984e-01   4.17216780e+01]\n",
      " [ -3.03797772e-03   9.99886778e-01   1.47378030e-02  -6.00924100e+00]\n",
      " [  9.98926797e-01   3.71554716e-03  -4.61676093e-02   2.40887861e+02]\n",
      " [ -1.37408167e-14  -4.62028464e-15   1.25274060e-14   1.00000000e+00]]\n"
     ]
    },
    {
     "name": "stderr",
     "output_type": "stream",
     "text": [
      "\r",
      "                                                                               \r",
      "\r",
      " 69% (460 of 660) |################       | Elapsed Time: 0:05:53 ETA:  0:02:22"
     ]
    },
    {
     "name": "stdout",
     "output_type": "stream",
     "text": [
      "connected mappoints  44\n",
      "459 [[ -4.54751191e-02   1.91318335e-02  -9.98782252e-01   4.08343478e+01]\n",
      " [  4.70886852e-04   9.99816890e-01   1.91302124e-02  -6.01019263e+00]\n",
      " [  9.98965361e-01   3.99635257e-04  -4.54758010e-02   2.40848660e+02]\n",
      " [ -1.37625627e-14  -4.31727592e-15   1.23508354e-14   1.00000000e+00]]\n"
     ]
    },
    {
     "name": "stderr",
     "output_type": "stream",
     "text": [
      "\r",
      "                                                                               \r",
      "\r",
      " 69% (461 of 660) |################       | Elapsed Time: 0:05:53 ETA:  0:02:21"
     ]
    },
    {
     "name": "stdout",
     "output_type": "stream",
     "text": [
      "connected mappoints  53\n",
      "460 [[ -4.47572368e-02   2.37665395e-02  -9.98715145e-01   3.99302785e+01]\n",
      " [  1.37540448e-03   9.99717487e-01   2.37287538e-02  -5.99719266e+00]\n",
      " [  9.98996946e-01  -3.11603827e-04  -4.47772809e-02   2.40812664e+02]\n",
      " [ -1.37857659e-14  -4.52707598e-15   1.26264312e-14   1.00000000e+00]]\n"
     ]
    },
    {
     "name": "stderr",
     "output_type": "stream",
     "text": [
      "\r",
      "                                                                               \r",
      "\r",
      " 70% (462 of 660) |################       | Elapsed Time: 0:05:54 ETA:  0:02:17"
     ]
    },
    {
     "name": "stdout",
     "output_type": "stream",
     "text": [
      "connected mappoints  58\n",
      "461 [[ -4.44792136e-02   2.46241282e-02  -9.98706790e-01   3.90445134e+01]\n",
      " [  1.88944424e-03   9.99696465e-01   2.45643799e-02  -5.98691241e+00]\n",
      " [  9.99008523e-01  -7.94396492e-04  -4.45122385e-02   2.40772473e+02]\n",
      " [ -1.37920966e-14  -4.46504275e-15   1.24803712e-14   1.00000000e+00]]\n"
     ]
    },
    {
     "name": "stderr",
     "output_type": "stream",
     "text": [
      "\r",
      "                                                                               \r",
      "\r",
      " 70% (463 of 660) |################       | Elapsed Time: 0:05:55 ETA:  0:02:09"
     ]
    },
    {
     "name": "stdout",
     "output_type": "stream",
     "text": [
      "connected mappoints  50\n",
      "462 [[ -4.52066125e-02   2.18560144e-02  -9.98738543e-01   3.81448876e+01]\n",
      " [  3.10999441e-03   9.99758874e-01   2.17375731e-02  -5.99060733e+00]\n",
      " [  9.98972818e-01  -2.12338924e-03  -4.52636841e-02   2.40727399e+02]\n",
      " [ -1.37731534e-14  -4.49240729e-15   1.22482697e-14   1.00000000e+00]]\n"
     ]
    },
    {
     "name": "stderr",
     "output_type": "stream",
     "text": [
      "\r",
      "                                                                               \r",
      "\r",
      " 70% (464 of 660) |################       | Elapsed Time: 0:05:55 ETA:  0:02:05"
     ]
    },
    {
     "name": "stdout",
     "output_type": "stream",
     "text": [
      "connected mappoints  52\n",
      "463 [[ -4.64207109e-02   1.77325654e-02  -9.98764574e-01   3.72788645e+01]\n",
      " [  5.41863755e-03   9.99832186e-01   1.74996722e-02  -5.99133397e+00]\n",
      " [  9.98907281e-01  -4.59959600e-03  -4.65090072e-02   2.40677091e+02]\n",
      " [ -1.37501095e-14  -4.69427668e-15   1.26480731e-14   1.00000000e+00]]\n"
     ]
    },
    {
     "name": "stderr",
     "output_type": "stream",
     "text": [
      "\r",
      "                                                                               \r",
      "\r",
      " 70% (465 of 660) |################       | Elapsed Time: 0:05:56 ETA:  0:02:02"
     ]
    },
    {
     "name": "stdout",
     "output_type": "stream",
     "text": [
      "connected mappoints  52\n",
      "464 [[ -4.82230870e-02   1.73413585e-02  -9.98686042e-01   3.64352339e+01]\n",
      " [  9.11467447e-03   9.99815287e-01   1.69208509e-02  -5.99989445e+00]\n",
      " [  9.98795002e-01  -8.28672251e-03  -4.83722404e-02   2.40619548e+02]\n",
      " [ -1.37289497e-14  -5.26161381e-15   1.27646299e-14   1.00000000e+00]]\n"
     ]
    },
    {
     "name": "stderr",
     "output_type": "stream",
     "text": [
      "\r",
      "                                                                               \r",
      "\r",
      " 70% (466 of 660) |################       | Elapsed Time: 0:05:56 ETA:  0:02:01"
     ]
    },
    {
     "name": "stdout",
     "output_type": "stream",
     "text": [
      "connected mappoints  53\n",
      "465 [[ -5.08476807e-02   2.22478646e-02  -9.98458585e-01   3.55646992e+01]\n",
      " [  1.11544237e-02   9.99702137e-01   2.17075215e-02  -5.98903606e+00]\n",
      " [  9.98644127e-01  -1.00334530e-02  -5.10806972e-02   2.40569649e+02]\n",
      " [ -1.36773205e-14  -6.12083746e-15   1.28102700e-14   1.00000000e+00]]\n"
     ]
    },
    {
     "name": "stderr",
     "output_type": "stream",
     "text": [
      "\r",
      "                                                                               \r",
      "\r",
      " 70% (467 of 660) |################       | Elapsed Time: 0:05:57 ETA:  0:02:00"
     ]
    },
    {
     "name": "stdout",
     "output_type": "stream",
     "text": [
      "connected mappoints  51\n",
      "466 [[ -5.42475339e-02   2.86410157e-02  -9.98116675e-01   3.46665899e+01]\n",
      " [  1.45902671e-02   9.99504573e-01   2.78878620e-02  -5.99530022e+00]\n",
      " [  9.98420918e-01  -1.30499411e-02  -5.46385382e-02   2.40520994e+02]\n",
      " [ -1.36621092e-14  -5.68239739e-15   1.29103331e-14   1.00000000e+00]]\n"
     ]
    },
    {
     "name": "stderr",
     "output_type": "stream",
     "text": [
      "\r",
      "                                                                               \r",
      "\r",
      " 70% (468 of 660) |################       | Elapsed Time: 0:05:58 ETA:  0:02:05"
     ]
    },
    {
     "name": "stdout",
     "output_type": "stream",
     "text": [
      "connected mappoints  55\n",
      "467 [[ -5.71523038e-02   3.24201707e-02  -9.97838938e-01   3.37709585e+01]\n",
      " [  1.68883700e-02   9.99360989e-01   3.15023231e-02  -5.97983866e+00]\n",
      " [  9.98222619e-01  -1.50514428e-02  -5.76633067e-02   2.40469017e+02]\n",
      " [ -1.36242355e-14  -5.10924947e-15   1.26920756e-14   1.00000000e+00]]\n"
     ]
    },
    {
     "name": "stderr",
     "output_type": "stream",
     "text": [
      "\r",
      "                                                                               \r",
      "\r",
      " 71% (469 of 660) |################       | Elapsed Time: 0:05:59 ETA:  0:02:10"
     ]
    },
    {
     "name": "stdout",
     "output_type": "stream",
     "text": [
      "connected mappoints  59\n",
      "468 [[ -6.00141207e-02   3.22950947e-02  -9.97674963e-01   3.28988792e+01]\n",
      " [  1.97534829e-02   9.99319193e-01   3.11600684e-02  -5.96695319e+00]\n",
      " [  9.98002057e-01  -1.78375112e-02  -6.06112033e-02   2.40411013e+02]\n",
      " [ -1.35885854e-14  -5.04470779e-15   1.26969981e-14   1.00000000e+00]]\n"
     ]
    },
    {
     "name": "stderr",
     "output_type": "stream",
     "text": [
      "\r",
      "                                                                               \r",
      "\r",
      " 71% (470 of 660) |################       | Elapsed Time: 0:06:00 ETA:  0:02:14"
     ]
    },
    {
     "name": "stdout",
     "output_type": "stream",
     "text": [
      "connected mappoints  62\n",
      "469 [[ -6.25150174e-02   3.06825258e-02  -9.97572281e-01   3.20355281e+01]\n",
      " [  1.99774491e-02   9.99365545e-01   2.94857516e-02  -5.95350645e+00]\n",
      " [  9.97844063e-01  -1.80856472e-02  -6.30883130e-02   2.40348160e+02]\n",
      " [ -1.35515509e-14  -4.93825954e-15   1.28084969e-14   1.00000000e+00]]\n"
     ]
    },
    {
     "name": "stderr",
     "output_type": "stream",
     "text": [
      "\r",
      "                                                                               \r",
      "\r",
      " 71% (471 of 660) |################       | Elapsed Time: 0:06:01 ETA:  0:02:23"
     ]
    },
    {
     "name": "stdout",
     "output_type": "stream",
     "text": [
      "connected mappoints  48\n",
      "470 [[ -6.53326765e-02   2.75808906e-02  -9.97482299e-01   3.11786565e+01]\n",
      " [  1.79178840e-02   9.99489204e-01   2.64628045e-02  -5.93857428e+00]\n",
      " [  9.97702657e-01  -1.61438863e-02  -6.57934960e-02   2.40282413e+02]\n",
      " [ -1.35320398e-14  -4.86417868e-15   1.27586631e-14   1.00000000e+00]]\n"
     ]
    },
    {
     "name": "stderr",
     "output_type": "stream",
     "text": [
      "\r",
      "                                                                               \r",
      "\r",
      " 71% (472 of 660) |################       | Elapsed Time: 0:06:02 ETA:  0:02:34"
     ]
    },
    {
     "name": "stdout",
     "output_type": "stream",
     "text": [
      "connected mappoints  45\n",
      "471 [[ -6.76896790e-02   2.54204826e-02  -9.97382528e-01   3.03053970e+01]\n",
      " [  1.66114129e-02   9.99565505e-01   2.43487485e-02  -5.92373709e+00]\n",
      " [  9.97568127e-01  -1.49197740e-02  -6.80825384e-02   2.40218268e+02]\n",
      " [ -1.34901114e-14  -4.62706099e-15   1.25190954e-14   1.00000000e+00]]\n"
     ]
    },
    {
     "name": "stderr",
     "output_type": "stream",
     "text": [
      "\r",
      "                                                                               \r",
      "\r",
      " 71% (473 of 660) |################       | Elapsed Time: 0:06:03 ETA:  0:02:44"
     ]
    },
    {
     "name": "stdout",
     "output_type": "stream",
     "text": [
      "connected mappoints  70\n",
      "472 [[ -6.97294600e-02   2.48028024e-02  -9.97257551e-01   2.94276965e+01]\n",
      " [  1.67615627e-02   9.99578863e-01   2.36885469e-02  -5.90937897e+00]\n",
      " [  9.97425111e-01  -1.50638053e-02  -7.01158281e-02   2.40166925e+02]\n",
      " [ -1.34475103e-14  -4.63729171e-15   1.29167450e-14   1.00000000e+00]]\n"
     ]
    },
    {
     "name": "stderr",
     "output_type": "stream",
     "text": [
      "\r",
      "                                                                               \r",
      "\r",
      " 71% (474 of 660) |################       | Elapsed Time: 0:06:04 ETA:  0:02:56"
     ]
    },
    {
     "name": "stdout",
     "output_type": "stream",
     "text": [
      "connected mappoints  47\n",
      "473 [[ -7.09320849e-02   2.30306807e-02  -9.97215236e-01   2.85512037e+01]\n",
      " [  1.16723704e-02   9.99684131e-01   2.22574421e-02  -5.89748093e+00]\n",
      " [  9.97412851e-01  -1.00610989e-02  -7.11785023e-02   2.40094816e+02]\n",
      " [ -1.33895169e-14  -5.04815291e-15   1.28416389e-14   1.00000000e+00]]\n"
     ]
    },
    {
     "name": "stderr",
     "output_type": "stream",
     "text": [
      "\r",
      "                                                                               \r",
      "\r",
      " 71% (475 of 660) |################       | Elapsed Time: 0:06:06 ETA:  0:03:07"
     ]
    },
    {
     "name": "stdout",
     "output_type": "stream",
     "text": [
      "connected mappoints  83\n",
      "474 [[ -7.16204317e-02   1.95922217e-02  -9.97239519e-01   2.76817061e+01]\n",
      " [  7.22353200e-03   9.99791033e-01   1.91235654e-02  -5.89288290e+00]\n",
      " [  9.97405802e-01  -5.83395357e-03  -7.17469904e-02   2.40020550e+02]\n",
      " [ -1.33632278e-14  -5.47497681e-15   1.24126104e-14   1.00000000e+00]]\n"
     ]
    },
    {
     "name": "stderr",
     "output_type": "stream",
     "text": [
      "\r",
      "                                                                               \r",
      "\r",
      " 72% (476 of 660) |################       | Elapsed Time: 0:06:07 ETA:  0:03:18"
     ]
    },
    {
     "name": "stdout",
     "output_type": "stream",
     "text": [
      "connected mappoints  78\n",
      "475 [[ -7.22112814e-02   1.63764133e-02  -9.97254904e-01   2.68232478e+01]\n",
      " [  4.89078743e-03   9.99858987e-01   1.60650341e-02  -5.88922703e+00]\n",
      " [  9.97377366e-01  -3.71728505e-03  -7.22811922e-02   2.39951574e+02]\n",
      " [ -1.33522261e-14  -5.86884248e-15   1.18205655e-14   1.00000000e+00]]\n"
     ]
    },
    {
     "name": "stderr",
     "output_type": "stream",
     "text": [
      "\r",
      "                                                                               \r",
      "\r",
      " 72% (477 of 660) |################       | Elapsed Time: 0:06:08 ETA:  0:03:25"
     ]
    },
    {
     "name": "stdout",
     "output_type": "stream",
     "text": [
      "connected mappoints  86\n",
      "476 [[ -7.15407774e-02   1.51133197e-02  -9.97323170e-01   2.59580290e+01]\n",
      " [  3.07130575e-03   9.99883797e-01   1.49318098e-02  -5.88143883e+00]\n",
      " [  9.97432947e-01  -1.99485111e-03  -7.15788818e-02   2.39889438e+02]\n",
      " [ -1.33499378e-14  -6.23721169e-15   1.26594705e-14   1.00000000e+00]]\n"
     ]
    },
    {
     "name": "stderr",
     "output_type": "stream",
     "text": [
      "\r",
      "                                                                               \r",
      "\r",
      " 72% (478 of 660) |################       | Elapsed Time: 0:06:09 ETA:  0:03:33"
     ]
    },
    {
     "name": "stdout",
     "output_type": "stream",
     "text": [
      "connected mappoints  77\n",
      "477 [[ -6.96541707e-02   1.54349394e-02  -9.97451783e-01   2.51207060e+01]\n",
      " [  2.77496078e-03   9.99879423e-01   1.52787242e-02  -5.88174217e+00]\n",
      " [  9.97567339e-01  -1.70366271e-03  -6.96886034e-02   2.39816318e+02]\n",
      " [ -1.33961086e-14  -6.36013009e-15   1.23436432e-14   1.00000000e+00]]\n"
     ]
    },
    {
     "name": "stderr",
     "output_type": "stream",
     "text": [
      "\r",
      "                                                                               \r",
      "\r",
      " 72% (479 of 660) |################       | Elapsed Time: 0:06:11 ETA:  0:03:42"
     ]
    },
    {
     "name": "stdout",
     "output_type": "stream",
     "text": [
      "connected mappoints  87\n",
      "478 [[ -6.78577111e-02   1.53202575e-02  -9.97577376e-01   2.42685432e+01]\n",
      " [  4.16317103e-03   9.99877738e-01   1.50723959e-02  -5.88494792e+00]\n",
      " [  9.97686323e-01  -3.13030694e-03  -6.79131955e-02   2.39753947e+02]\n",
      " [ -1.34262889e-14  -6.34960291e-15   1.21662459e-14   1.00000000e+00]]\n"
     ]
    },
    {
     "name": "stderr",
     "output_type": "stream",
     "text": [
      "\r",
      "                                                                               \r",
      "\r",
      " 72% (480 of 660) |################       | Elapsed Time: 0:06:12 ETA:  0:03:51"
     ]
    },
    {
     "name": "stdout",
     "output_type": "stream",
     "text": [
      "connected mappoints  101\n",
      "479 [[ -6.59621620e-02   1.64042349e-02  -9.97687273e-01   2.34193696e+01]\n",
      " [  5.35724925e-03   9.99856265e-01   1.60857032e-02  -5.88233626e+00]\n",
      " [  9.97807744e-01  -4.28381164e-03  -6.60405625e-02   2.39696559e+02]\n",
      " [ -1.34574466e-14  -7.36976621e-15   1.19982385e-14   1.00000000e+00]]\n"
     ]
    },
    {
     "name": "stderr",
     "output_type": "stream",
     "text": [
      "\r",
      "                                                                               \r",
      "\r",
      " 72% (481 of 660) |################       | Elapsed Time: 0:06:14 ETA:  0:04:02"
     ]
    },
    {
     "name": "stdout",
     "output_type": "stream",
     "text": [
      "connected mappoints  81\n",
      "480 [[ -6.40798908e-02   1.77700928e-02  -9.97786546e-01   2.25809409e+01]\n",
      " [  8.19578188e-03   9.99817100e-01   1.72799061e-02  -5.88571257e+00]\n",
      " [  9.97911117e-01  -7.07034640e-03  -6.42138104e-02   2.39643045e+02]\n",
      " [ -1.35007939e-14  -7.22584801e-15   1.17328741e-14   1.00000000e+00]]\n"
     ]
    },
    {
     "name": "stderr",
     "output_type": "stream",
     "text": [
      "\r",
      "                                                                               \r",
      "\r",
      " 73% (482 of 660) |################       | Elapsed Time: 0:06:16 ETA:  0:04:12"
     ]
    },
    {
     "name": "stdout",
     "output_type": "stream",
     "text": [
      "connected mappoints  78\n",
      "481 [[ -6.25198592e-02   1.99051572e-02  -9.97845204e-01   2.17408129e+01]\n",
      " [  1.38722534e-02   9.99721844e-01   1.90734285e-02  -5.88370896e+00]\n",
      " [  9.97947307e-01  -1.26498934e-02  -6.27785983e-02   2.39593923e+02]\n",
      " [ -1.35568366e-14  -7.15521427e-15   1.16379166e-14   1.00000000e+00]]\n"
     ]
    },
    {
     "name": "stderr",
     "output_type": "stream",
     "text": [
      "\r",
      "                                                                               \r",
      "\r",
      " 73% (483 of 660) |################       | Elapsed Time: 0:06:17 ETA:  0:04:17"
     ]
    },
    {
     "name": "stdout",
     "output_type": "stream",
     "text": [
      "connected mappoints  66\n",
      "482 [[ -6.05371048e-02   2.02358858e-02  -9.97960805e-01   2.09005595e+01]\n",
      " [  1.94330072e-02   9.99628879e-01   1.90908879e-02  -5.87779908e+00]\n",
      " [  9.97976762e-01  -1.82376724e-02  -6.09078823e-02   2.39548085e+02]\n",
      " [ -1.36092156e-14  -7.11149457e-15   1.17014700e-14   1.00000000e+00]]\n"
     ]
    },
    {
     "name": "stderr",
     "output_type": "stream",
     "text": [
      "\r",
      "                                                                               \r",
      "\r",
      " 73% (484 of 660) |################       | Elapsed Time: 0:06:19 ETA:  0:04:19"
     ]
    },
    {
     "name": "stdout",
     "output_type": "stream",
     "text": [
      "connected mappoints  76\n",
      "483 [[ -5.84898032e-02   1.82140310e-02  -9.98121832e-01   2.00733157e+01]\n",
      " [  1.79319035e-02   9.99691396e-01   1.71918658e-02  -5.86928485e+00]\n",
      " [  9.98126941e-01  -1.68926755e-02  -5.87983652e-02   2.39492988e+02]\n",
      " [ -1.36294324e-14  -6.95153358e-15   1.19825508e-14   1.00000000e+00]]\n"
     ]
    },
    {
     "name": "stderr",
     "output_type": "stream",
     "text": [
      "\r",
      "                                                                               \r",
      "\r",
      " 73% (485 of 660) |################       | Elapsed Time: 0:06:20 ETA:  0:04:19"
     ]
    },
    {
     "name": "stdout",
     "output_type": "stream",
     "text": [
      "connected mappoints  68\n",
      "484 [[ -5.66637059e-02   1.75478251e-02  -9.98239099e-01   1.92295321e+01]\n",
      " [  1.76209334e-02   9.99707370e-01   1.65734068e-02  -5.86426529e+00]\n",
      " [  9.98237811e-01  -1.66507940e-02  -5.69563334e-02   2.39439743e+02]\n",
      " [ -1.36561178e-14  -6.79512033e-15   1.17088041e-14   1.00000000e+00]]\n"
     ]
    },
    {
     "name": "stderr",
     "output_type": "stream",
     "text": [
      "\r",
      "                                                                               \r",
      "\r",
      " 73% (486 of 660) |################       | Elapsed Time: 0:06:22 ETA:  0:04:18"
     ]
    },
    {
     "name": "stdout",
     "output_type": "stream",
     "text": [
      "connected mappoints  64\n",
      "485 [[ -5.59812208e-02   1.79370108e-02  -9.98270688e-01   1.84086158e+01]\n",
      " [  2.08635991e-02   9.99641311e-01   1.67916453e-02  -5.85492123e+00]\n",
      " [  9.98213811e-01  -1.98875027e-02  -5.63353715e-02   2.39390074e+02]\n",
      " [ -1.36779473e-14  -6.61190529e-15   1.19689175e-14   1.00000000e+00]]\n"
     ]
    },
    {
     "name": "stderr",
     "output_type": "stream",
     "text": [
      "\r",
      "                                                                               \r",
      "\r",
      " 73% (487 of 660) |################       | Elapsed Time: 0:06:23 ETA:  0:04:16"
     ]
    },
    {
     "name": "stdout",
     "output_type": "stream",
     "text": [
      "connected mappoints  78\n",
      "486 [[ -5.58655051e-02   2.16233781e-02  -9.98204125e-01   1.75867712e+01]\n",
      " [  2.30245859e-02   9.99527488e-01   2.03634509e-02  -5.85088448e+00]\n",
      " [  9.98172788e-01  -2.18456222e-02  -5.63369773e-02   2.39342091e+02]\n",
      " [ -1.36956075e-14  -6.79652557e-15   1.22330419e-14   1.00000000e+00]]\n"
     ]
    },
    {
     "name": "stderr",
     "output_type": "stream",
     "text": [
      "\r",
      "                                                                               \r",
      "\r",
      " 73% (488 of 660) |#################      | Elapsed Time: 0:06:24 ETA:  0:04:13"
     ]
    },
    {
     "name": "stdout",
     "output_type": "stream",
     "text": [
      "connected mappoints  65\n",
      "487 [[ -5.68578963e-02   2.57409415e-02  -9.98050391e-01   1.67515105e+01]\n",
      " [  2.10824051e-02   9.99475623e-01   2.45766572e-02  -5.84750427e+00]\n",
      " [  9.98159662e-01  -1.96439256e-02  -5.73707623e-02   2.39294562e+02]\n",
      " [ -1.36688836e-14  -7.01217930e-15   1.26311316e-14   1.00000000e+00]]\n"
     ]
    },
    {
     "name": "stderr",
     "output_type": "stream",
     "text": [
      "\r",
      "                                                                               \r",
      "\r",
      " 74% (489 of 660) |#################      | Elapsed Time: 0:06:26 ETA:  0:04:10"
     ]
    },
    {
     "name": "stdout",
     "output_type": "stream",
     "text": [
      "connected mappoints  65\n",
      "488 [[ -5.84970102e-02   2.79548675e-02  -9.97896099e-01   1.59281856e+01]\n",
      " [  1.94637015e-02   9.99449770e-01   2.68574229e-02  -5.84032901e+00]\n",
      " [  9.98097823e-01  -1.78516729e-02  -5.90089286e-02   2.39239369e+02]\n",
      " [ -1.36449652e-14  -6.82478700e-15   1.24937298e-14   1.00000000e+00]]\n"
     ]
    },
    {
     "name": "stderr",
     "output_type": "stream",
     "text": [
      "\r",
      "                                                                               \r",
      "\r",
      " 74% (490 of 660) |#################      | Elapsed Time: 0:06:27 ETA:  0:04:00"
     ]
    },
    {
     "name": "stdout",
     "output_type": "stream",
     "text": [
      "connected mappoints  91\n",
      "489 [[ -6.12219828e-02   2.62432540e-02  -9.97779114e-01   1.51055148e+01]\n",
      " [  1.81408364e-02   9.99518426e-01   2.51759108e-02  -5.82824165e+00]\n",
      " [  9.97959307e-01  -1.65592285e-02  -6.16685745e-02   2.39190801e+02]\n",
      " [ -1.36001222e-14  -8.35852781e-15   1.22362725e-14   1.00000000e+00]]\n"
     ]
    },
    {
     "name": "stderr",
     "output_type": "stream",
     "text": [
      "\r",
      "                                                                               \r",
      "\r",
      " 74% (491 of 660) |#################      | Elapsed Time: 0:06:28 ETA:  0:03:52"
     ]
    },
    {
     "name": "stdout",
     "output_type": "stream",
     "text": [
      "connected mappoints  88\n",
      "490 [[ -6.40750404e-02   2.32274872e-02  -9.97674733e-01   1.42918657e+01]\n",
      " [  1.74255238e-02   9.99602714e-01   2.21532303e-02  -5.82204650e+00]\n",
      " [  9.97792935e-01  -1.59655357e-02  -6.44543354e-02   2.39132674e+02]\n",
      " [ -1.35717036e-14  -8.57836609e-15   1.25109530e-14   1.00000000e+00]]\n"
     ]
    },
    {
     "name": "stderr",
     "output_type": "stream",
     "text": [
      "\r",
      "                                                                               \r",
      "\r",
      " 74% (492 of 660) |#################      | Elapsed Time: 0:06:30 ETA:  0:03:48"
     ]
    },
    {
     "name": "stdout",
     "output_type": "stream",
     "text": [
      "connected mappoints  87\n",
      "491 [[ -6.79177429e-02   1.96377004e-02  -9.97497640e-01   1.34808266e+01]\n",
      " [  1.67394746e-02   9.99687961e-01   1.85410618e-02  -5.81407495e+00]\n",
      " [  9.97550485e-01  -1.54383193e-02  -6.82252747e-02   2.39075527e+02]\n",
      " [ -1.35230734e-14  -8.66732368e-15   1.25406148e-14   1.00000000e+00]]\n"
     ]
    },
    {
     "name": "stderr",
     "output_type": "stream",
     "text": [
      "\r",
      "                                                                               \r",
      "\r",
      " 74% (493 of 660) |#################      | Elapsed Time: 0:06:31 ETA:  0:03:48"
     ]
    },
    {
     "name": "stdout",
     "output_type": "stream",
     "text": [
      "connected mappoints  79\n",
      "492 [[ -7.21546343e-02   1.81608887e-02  -9.97228104e-01   1.26901766e+01]\n",
      " [  1.56433485e-02   9.99731836e-01   1.70746075e-02  -5.81051445e+00]\n",
      " [  9.97270773e-01  -1.43679747e-02  -7.24193821e-02   2.38998927e+02]\n",
      " [ -1.34713953e-14  -8.91690882e-15   1.25662492e-14   1.00000000e+00]]\n"
     ]
    }
   ],
>>>>>>> Stashed changes
   "source": [
    "seq = Sequence()\n",
    "for f in ProgressBar()(frame[0:660]):\n",
    "    seq.add_keyframe(f, run_ba=False)\n",
    "    #if f.get_previous_keyframe() is not None:\n",
    "        #v = f.get_pose() - f.get_previous_keyframe().get_pose()\n",
    "    print(f.keyframeid, f.get_cumulative_world_pose())"
   ]
  },
  {
   "cell_type": "code",
   "execution_count": null,
   "metadata": {},
   "outputs": [],
   "source": [
    "poses = np.array([ f.get_pose().flatten() for f in seq.keyframes ])\n",
    "poses[:,[3,11]]"
   ]
  },
  {
   "cell_type": "markdown",
   "metadata": {},
   "source": [
    "Inspect the FramePoints for the first frame"
   ]
  },
  {
   "cell_type": "code",
   "execution_count": null,
   "metadata": {
    "collapsed": true
   },
   "outputs": [],
   "source": [
    "mappoints = { o.mappoint for f in seq.keyframes for o in f.get_observations() if o.has_mappoint() }\n",
    "mappoints = [ m for m in mappoints ]"
   ]
  },
  {
   "cell_type": "code",
   "execution_count": null,
   "metadata": {},
   "outputs": [],
   "source": [
    "show(draw_frame(frame[3]))\n",
    "len(frame[3].get_observations())"
   ]
  },
  {
   "cell_type": "code",
   "execution_count": null,
   "metadata": {
    "collapsed": true
   },
   "outputs": [],
   "source": [
    "def draw_obs(mappoint, keyframeid):\n",
    "    for i in mappoint.observations:\n",
    "        if i.frame.keyframeid == keyframeid:\n",
    "            obs1 = i\n",
    "        elif i.frame.keyframeid == keyframeid + 1:\n",
    "            obs2 = i\n",
    "    show(draw_observations_xyz([obs1]))\n",
    "    show(draw_observations_xyz([obs2]))\n"
   ]
  },
  {
   "cell_type": "code",
   "execution_count": null,
   "metadata": {
    "collapsed": true
   },
   "outputs": [],
   "source": [
    "def check_contrast(mappoints):\n",
    "    for j, mappoint in enumerate(mappoints):\n",
    "        obs = sorted([ i for i in mappoint.observations], key=lambda x : x.frame.frameid)\n",
    "        for i in range(len(obs) - 1):\n",
    "            mean = obs[i].get_patch().flatten().mean()\n",
    "            threshold = np.abs(np.array(obs[i].get_patch(), dtype=np.int16) - \n",
    "                               np.ones(obs[i].get_patch().shape, dtype=np.int16) * mean).std() / 2\n",
    "            contrast = np.abs(np.array(obs[i].get_patch(), dtype=np.int16) - \n",
    "                            np.array(obs[i+1].get_patch(), dtype=np.int16)).std()\n",
    "            if contrast > threshold:\n",
    "                yield(j, obs[i].frame.keyframeid, contrast, threshold)\n",
    "\n",
    "def get_obs(mappoint, keyframeid):\n",
    "    for o in mappoint.observations:\n",
    "        if o.frame.keyframeid == keyframeid:\n",
    "            return o\n",
    "                \n",
    "a = sorted([ x for x in check_contrast(mappoints) ], key=lambda x: -x[2]/x[3])"
   ]
  },
  {
   "cell_type": "code",
   "execution_count": null,
   "metadata": {
    "collapsed": true
   },
   "outputs": [],
   "source": [
    "# for o, f, c, t in a[0:]:\n",
    "#     print('threshold ', t, 'contrast ', c)\n",
    "#     draw_obs(mappoints[o], f)\n",
    "#     break\n",
    "# print(a[0])\n",
    "\n",
    "# mappointid = a[0][0]\n",
    "# o3 = get_obs(mappoints[mappointid], 9)\n",
    "# o4 = get_obs(mappoints[mappointid], 10)\n",
    "# #o3.satisfies_patch_contrast(o4)\n",
    "# print(o4.cx, o4.cy, o4.get_depth())\n",
    "# c = np.dot( o3.frame.get_world_pose(), o4.get_world_coords() )\n",
    "# c = affine_coords_to_cam( c )\n",
    "# print(c)\n",
    "# wc = o3.get_world_coords()\n",
    "# c = np.dot( o4.frame.get_world_pose(), wc )\n",
    "# c = affine_coords_to_cam( c )\n",
    "# c\n"
   ]
  },
  {
   "cell_type": "markdown",
   "metadata": {},
   "source": [
    "btw seq.keyframes[0] is the same as frame[0]"
   ]
  },
  {
   "cell_type": "code",
   "execution_count": null,
   "metadata": {},
   "outputs": [],
   "source": [
    "for f in range(636, 643):\n",
    "    obs = frame[f].get_observations()\n",
    "    show(draw_observations_depth(obs))"
   ]
  },
  {
   "cell_type": "markdown",
   "metadata": {},
   "source": [
    "To the keyframes we add the non-keyframes in their .frames property. Thus frame[1] is added as the first non keyframe after keyframes[0]."
   ]
  },
  {
   "cell_type": "code",
   "execution_count": null,
   "metadata": {
    "collapsed": true
   },
   "outputs": [],
   "source": [
    "#seq.keyframes[0].frames[0] == frame[1]"
   ]
  },
  {
   "cell_type": "markdown",
   "metadata": {},
   "source": [
    "We can use show2 to display two frames side-by-side. Every left frame can load it's corresponding right frame and you can request to return it using get_right_frame(). By default, right frames are not loaded unless needed, which is the case for keyframes to compute the depth of points."
   ]
  },
  {
   "cell_type": "code",
   "execution_count": null,
   "metadata": {},
   "outputs": [],
   "source": [
    "show2(draw_frame(seq.keyframes[10]), draw_frame(seq.keyframes[10].get_right_frame()))"
   ]
  },
  {
   "cell_type": "markdown",
   "metadata": {},
   "source": [
    "You can also show the computed depth of observations. draw_frame_depth does not compute the depth but does show it if it has been computed. Alternatively you can use draw_observations() and draw_observations_depth() to show an image with a list of observations. This only makes sense if all observations belong to the same image. draw_frame_id() and draw_observations_id() show observations with their internal mappoint id to compare id's between images (did it map the same points)."
   ]
  },
  {
   "cell_type": "code",
   "execution_count": null,
   "metadata": {},
   "outputs": [],
   "source": [
    "frame[0].compute_depth()\n",
    "frame[0].filter_not_useful()\n",
    "show(draw_observations_xyz(frame[10].get_observations()[-200:]))"
   ]
  },
  {
   "cell_type": "code",
   "execution_count": null,
   "metadata": {},
   "outputs": [],
   "source": [
    "show(draw_observations_depth(obs[:40]))"
   ]
  },
  {
   "cell_type": "code",
   "execution_count": null,
   "metadata": {},
   "outputs": [],
   "source": [
    "show(draw_frame_depth(frame[11]))"
   ]
  },
  {
   "cell_type": "code",
   "execution_count": null,
   "metadata": {},
   "outputs": [],
   "source": [
    "m = [ o.mappoint for o in frame[10].get_observations() ]\n",
    "#for i in m[:10]:\n",
    "#    print([ o.frame.frameid for o in i.observations])\n",
    "obs = [ o for o in frame[10].get_observations() if 11 in  [ p.frame.frameid for p in o.mappoint.observations]]\n",
    "obs"
   ]
  },
  {
   "cell_type": "markdown",
   "metadata": {},
   "source": [
    "We can also manually compute the Depth of the points and show these"
   ]
  },
  {
   "cell_type": "code",
   "execution_count": null,
   "metadata": {},
   "outputs": [],
   "source": [
    "show(draw_frame(frame[629]))\n",
    "show(draw_frame(frame[27]))"
   ]
  },
  {
   "cell_type": "code",
   "execution_count": null,
   "metadata": {},
   "outputs": [],
   "source": [
    "len(frame[26].get_observations())"
   ]
  },
  {
   "cell_type": "code",
   "execution_count": null,
   "metadata": {},
   "outputs": [],
   "source": [
    "mp27 = [ o.mappoint for o in frame[27].get_observations()\n",
    "                if len(o.mappoint.observations) == 1 ]\n",
    "mp26 = [ o.mappoint for o in frame[26].get_observations()\n",
    "                if len(o.mappoint.observations) == 1 ]\n",
    "\n",
    "\n",
    "len(mp26)"
   ]
  },
  {
   "cell_type": "code",
   "execution_count": null,
   "metadata": {},
   "outputs": [],
   "source": [
    "keyframe = frame[26]\n",
    "matches = match_frame(frame[27], keyframe.get_observations())\n",
    "len(matches)"
   ]
  },
  {
   "cell_type": "code",
   "execution_count": null,
   "metadata": {},
   "outputs": [],
   "source": [
    "count = 0\n",
    "for obs in frame[27].get_observations():\n",
    "    #obs.mappoint = None\n",
    "    if obs.has_mappoint():\n",
    "        count += 1\n",
    "count"
   ]
  },
  {
   "cell_type": "code",
   "execution_count": null,
   "metadata": {},
   "outputs": [],
   "source": [
    "## seq 0-30\n",
    "#print(matches[0][1].frame.get_pose())\n",
    "#print(matches[0][1].get_affine_coords())\n",
    "#print(matches[0][1].get_world_coords())\n",
    "for m in range(len(matches)):\n",
    "    obs = matches[m][0]\n",
    "    mappoint = matches[m][1].mappoint\n",
    "    obs.mappoint = matches[m][1].mappoint\n",
    "    last_observation = matches[m][1]\n",
    "   # print(obs.frame.keyframeid, last_observation.frame.keyframeid)\n",
    "    #print('last affine ', last_observation.get_affine_coords())\n",
    "    #print('new affine ', obs.get_affine_coords())\n",
    "    #print('new pose ', obs.frame.get_pose())\n",
    "    last_affine = last_observation.get_affine_coords()\n",
    "    #last_affine = np.array([last_affine[0], last_affine[1], last_affine[2], 1.0])\n",
    "    affine_coords = np.dot( obs.frame.get_pose(), last_affine )  \n",
    "    #affine_coords = np.dot( obs.frame.get_world_pose(), last_observation.get_world_coords() )\n",
    "    cam_coords = affine_coords_to_cam( affine_coords )\n",
    "    print(obs.cx, obs.cy, cam_coords[0], cam_coords[1])"
   ]
  },
  {
   "cell_type": "code",
   "execution_count": null,
   "metadata": {},
   "outputs": [],
   "source": [
    "## seq 20-30\n",
    "print(matches[0][1].frame.get_pose())\n",
    "print(matches[0][1].get_affine_coords())\n",
    "print(matches[0][1].get_world_coords())\n",
    "for m in range(5):\n",
    "    obs = matches[m][0]\n",
    "    mappoint = matches[m][1].mappoint\n",
    "    obs.mappoint = matches[m][1].mappoint\n",
    "    last_observation = matches[m][1]\n",
    "    print(obs.frame.keyframeid, last_observation.frame.keyframeid)\n",
    "    print('last affine ', last_observation.get_affine_coords())\n",
    "    print('new affine ', obs.get_affine_coords())\n",
    "    print('new pose ', obs.frame.get_pose())\n",
    "    last_affine = last_observation.get_affine_coords()\n",
    "    #last_affine = np.array([last_affine[0], last_affine[1], last_affine[2], 1.0])\n",
    "    affine_coords = np.dot( obs.frame.get_pose(), last_affine )  \n",
    "    #affine_coords = np.dot( obs.frame.get_world_pose(), last_observation.get_world_coords() )\n",
    "    cam_coords = affine_coords_to_cam( affine_coords )\n",
    "    print(obs.cx, obs.cy, cam_coords[0], cam_coords[1])"
   ]
  },
  {
   "cell_type": "code",
   "execution_count": null,
   "metadata": {},
   "outputs": [],
   "source": [
    "for m in range(5):\n",
    "    print([i.get_world_coords() for i in matches[m]])\n",
    "    show2(draw_observations_xyz([matches[m][1]]), draw_observations_xyz([matches[m][0]]))"
   ]
  },
  {
   "cell_type": "code",
   "execution_count": null,
   "metadata": {},
   "outputs": [],
   "source": [
    "for i in range(637,639):\n",
    "    obs = frame[i].get_static_observations()\n",
    "    if i > 630:\n",
    "        obs = [o for o in obs if frame[i-1] in [p.frame for p in o.mappoint.observations]]\n",
    "    show(draw_frame_depth(frame[i]))\n",
    "    #show2(draw_frame_depth(frame[i]), draw_observations_depth(obs))"
   ]
  },
  {
   "cell_type": "code",
   "execution_count": null,
   "metadata": {},
   "outputs": [],
   "source": [
    "start = 637\n",
    "\n",
    "for f in range(start, 641):\n",
    "    frame[f].clean()\n",
    "    frame[f].compute_depth()\n",
    "    frame[f].filter_has_depth()\n",
    "\n",
    "#frame[638].filter_observations(lambda x: x.cx < 300 or x.cx > 1100)\n",
    "#frame[638].filter_observations(lambda x: x.cx < 300 or x.cx > 1100)\n",
    "\n",
    "\n",
    "\n",
    "mappointcount = 0\n",
    "frame[start].set_pose(np.eye(4))\n",
    "for f in range(start,639):\n",
    "    print('frame ', f)\n",
    "    keyframe = frame[f]\n",
    "    keyframeobservations = keyframe.get_static_observations()\n",
    "    for obs in keyframeobservations:                \n",
    "            if not obs.has_mappoint() and obs.get_depth() is not None:\n",
    "                obs.create_mappoint(mappointcount)\n",
    "                mappointcount += 1\n",
    "    # if keyframe._previous_keyframe is not None:\n",
    "    #     pk = keyframe._previous_keyframe\n",
    "    #     keyframeobservations = list(keyframeobservations)\n",
    "    #     keyframeobservations.extend([o for o in pk.get_static_observations() if o.mappoint.last_observation == o])\n",
    "\n",
    "    matches = match_frame(frame[f+1], keyframeobservations, sequence_confidence = 1.6)\n",
    "    pose, points_left = get_pose(matches)\n",
    "    print(pose)\n",
    "    frame[f+1].set_pose(pose)\n",
    "    for obs, _ in matches:\n",
    "        if obs.has_mappoint() and obs.is_static():\n",
    "            if pose[0, 3] > 0.4:\n",
    "                obs.check_inv_mappoint()\n",
    "            else:\n",
    "                obs.check_mappoint()\n",
    "    matches = [m for m in matches if m[0].is_static()]\n",
    "    pose, points_left = get_pose(matches)\n",
    "    #frame[f+1].set_pose(pose)\n",
    "    print(pose)\n",
    "    show(draw_observations_depth([ o for o in frame[f+1].get_observations() if o.is_static()]))\n",
    "\n",
    "    print(len(frame[f+1].get_observations()))\n",
    "    print(len([ o for o in frame[f+1].get_observations() if o.is_static()]))\n"
   ]
  },
  {
   "cell_type": "code",
   "execution_count": null,
   "metadata": {},
   "outputs": [],
   "source": [
    "v = frame[639].get_pose() - frame[638].get_pose()\n",
    "sum(sum(v * v))"
   ]
  },
  {
   "cell_type": "code",
   "execution_count": null,
   "metadata": {},
   "outputs": [],
   "source": [
    "len(frame)"
   ]
  },
  {
   "cell_type": "code",
   "execution_count": null,
   "metadata": {},
   "outputs": [],
   "source": [
    "obs = [o for o in frame[640].get_observations()]\n",
    "show(draw_observations(obs))\n",
    "len(obs)"
   ]
  },
  {
   "cell_type": "code",
   "execution_count": null,
   "metadata": {
    "collapsed": true
   },
   "outputs": [],
   "source": []
  }
 ],
 "metadata": {
  "kernelspec": {
   "display_name": "Python 3",
   "language": "python",
   "name": "python3"
  },
  "language_info": {
   "codemirror_mode": {
    "name": "ipython",
    "version": 3
   },
   "file_extension": ".py",
   "mimetype": "text/x-python",
   "name": "python",
   "nbconvert_exporter": "python",
   "pygments_lexer": "ipython3",
   "version": "3.6.1"
  }
 },
 "nbformat": 4,
 "nbformat_minor": 2
}
