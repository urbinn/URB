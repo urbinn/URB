{
 "cells": [
  {
   "cell_type": "code",
   "execution_count": 2,
   "metadata": {
    "collapsed": true
   },
   "outputs": [],
   "source": [
    "import sys\n",
    "sys.path.append('..')\n",
    "from src.kitti import *\n",
    "import numpy as np\n",
    "import cv2\n",
    "import json\n",
    "import glob\n",
    "from src.boundingbox import format_yolo_output\n",
    "from src.trajectory import Trajectory\n",
    "\n",
    "%matplotlib inline"
   ]
  },
  {
   "cell_type": "code",
   "execution_count": null,
   "metadata": {
    "collapsed": true
   },
   "outputs": [],
   "source": [
    "LEFTDIR = '/data/urbinn/datasets/kitti/KITTI_Left_Images/training/image_2'\n",
    "RIGHTDIR = '/data/urbinn/datasets/kitti/KITTI_Right_Images/training/image_3'"
   ]
  },
  {
   "cell_type": "code",
   "execution_count": null,
   "metadata": {
    "collapsed": true
   },
   "outputs": [],
   "source": [
    "yolo_data = format_yolo_output(\"data/yolo/25000.json\")\n",
    "image_path = \"{}/007300.png\".format(LEFTDIR)\n",
    "\n",
    "image = read_image(image_path)\n",
    "frame = Frame(image_path, RIGHTDIR, yolo_data[0])"
   ]
  },
  {
   "cell_type": "code",
   "execution_count": null,
   "metadata": {},
   "outputs": [],
   "source": [
    "# Create frame from one image; in kitti sequence 02\n",
    "# - Get observations\n",
    "# - Filter observations by bounding box boundings\n",
    "# - Plot to verify result\n",
    "#"
   ]
  },
  {
   "cell_type": "code",
   "execution_count": null,
   "metadata": {
    "collapsed": true
   },
   "outputs": [],
   "source": [
    "s = Sequence()\n",
    "s.add_frame(frame)"
   ]
  },
  {
   "cell_type": "code",
   "execution_count": null,
   "metadata": {},
   "outputs": [],
   "source": [
    "# Sets classification for observation\n",
    "frame.update_observations_per_classification()\n",
    "\n",
    "# Filters observations without classifications\n",
    "frame.filter_no_classification()\n",
    "\n",
    "# We're only interested in mappoints\n",
    "frame.filter_non_mappoint()\n",
    "\n",
    "show(draw_observations_classification(frame.get_observations()))"
   ]
  },
  {
   "cell_type": "markdown",
   "metadata": {},
   "source": [
    "### Analyzing KITTI sequence 00 image_2"
   ]
  },
  {
   "cell_type": "code",
   "execution_count": 3,
   "metadata": {},
   "outputs": [
    {
     "name": "stdout",
     "output_type": "stream",
     "text": [
      "frame 004540.png has no yolo data available\n"
     ]
    }
   ],
   "source": [
    "LEFTDIR = '/data/urbinn/datasets/kitti/sequences/00/image_2'\n",
    "RIGHTDIR = '/data/urbinn/datasets/kitti/sequences/00/image_3'\n",
    "\n",
    "yolo_data = format_yolo_output(\"/data/urbinn/darknet/output/seq00_image02/objects.json\")\n",
    "                \n",
    "frames = []\n",
    "for filename in sorted(glob.glob(LEFTDIR + '/*')): \n",
    "    image_name = filename.split('/')[-1]\n",
    "    frame = None\n",
    "    \n",
    "    if not image_name in yolo_data:\n",
    "        print(\"frame {} has no yolo data available\".format(image_name))\n",
    "        frame = Frame(filename, RIGHTDIR)\n",
    "    else:\n",
    "        frame = Frame(filename, RIGHTDIR, yolo_data[image_name])\n",
    "        \n",
    "    frames.append(frame)"
   ]
  },
  {
   "cell_type": "markdown",
   "metadata": {},
   "source": [
    "Note: For some reason frame 004540 has no objects detected. This might be possible but requires further investigation.\n",
    "\n",
    "#### Setting up a sequence"
   ]
  },
  {
   "cell_type": "code",
   "execution_count": 7,
   "metadata": {},
   "outputs": [
    {
     "name": "stderr",
     "output_type": "stream",
     "text": [
      "100% (5 of 5) |###########################| Elapsed Time: 0:00:06 Time: 0:00:06\n"
     ]
    }
   ],
   "source": [
    "seq = Sequence()\n",
    "for f in ProgressBar()(frames[:5]):\n",
    "    seq.add_frame(f)"
   ]
  },
  {
   "cell_type": "code",
   "execution_count": 6,
   "metadata": {},
   "outputs": [
    {
     "name": "stderr",
     "output_type": "stream",
     "text": [
      "../src/trajectory.py:25: RuntimeWarning: invalid value encountered in double_scalars\n",
      "  x = self.dimension[0] * (p[0] - minx) / (maxxy)\n",
      "../src/trajectory.py:26: RuntimeWarning: invalid value encountered in double_scalars\n",
      "  z = self.dimension[0] - self.dimension[1] * (p[2] - miny) / (maxxy)\n"
     ]
    }
   ],
   "source": [
    "DIMENSION = 400\n",
    "\n",
    "poses = [kf.get_pose() for kf in seq.keyframes]\n",
    "trajectory = Trajectory(poses, (DIMENSION, DIMENSION))"
   ]
  },
  {
   "cell_type": "markdown",
   "metadata": {},
   "source": [
    "In order to plot the observations it is necessary to convert them to real world coordinates."
   ]
  },
  {
   "cell_type": "code",
   "execution_count": null,
   "metadata": {
    "collapsed": true
   },
   "outputs": [],
   "source": []
  }
 ],
 "metadata": {
  "kernelspec": {
   "display_name": "Python 3",
   "language": "python",
   "name": "python3"
  },
  "language_info": {
   "codemirror_mode": {
    "name": "ipython",
    "version": 3
   },
   "file_extension": ".py",
   "mimetype": "text/x-python",
   "name": "python",
   "nbconvert_exporter": "python",
   "pygments_lexer": "ipython3",
   "version": "3.6.1"
  }
 },
 "nbformat": 4,
 "nbformat_minor": 2
}
