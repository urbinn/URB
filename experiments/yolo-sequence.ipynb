{
 "cells": [
  {
   "cell_type": "code",
   "execution_count": 55,
   "metadata": {
    "collapsed": true
   },
   "outputs": [],
   "source": [
    "import sys\n",
    "sys.path.append('..')\n",
    "from src.kitti import *\n",
    "import numpy as np\n",
    "import cv2\n",
    "import json\n",
    "import glob\n",
    "from src.boundingbox import format_yolo_output\n",
    "from src.trajectory import Trajectory\n",
    "\n",
    "%matplotlib inline"
   ]
  },
  {
   "cell_type": "markdown",
   "metadata": {},
   "source": [
    "### Analyzing KITTI sequence 00 image_2"
   ]
  },
  {
   "cell_type": "code",
   "execution_count": 57,
   "metadata": {},
   "outputs": [
    {
     "name": "stdout",
     "output_type": "stream",
     "text": [
      "frame 004540.png has no yolo data available\n"
     ]
    }
   ],
   "source": [
    "LEFTDIR = '/data/urbinn/datasets/kitti/sequences/00/image_2'\n",
    "RIGHTDIR = '/data/urbinn/datasets/kitti/sequences/00/image_3'\n",
    "\n",
    "yolo_data = format_yolo_output(\"/data/urbinn/darknet/output/seq00_image02/objects.json\")\n",
    "                \n",
    "frames = []\n",
    "for filename in sorted(glob.glob(LEFTDIR + '/*')): \n",
    "    image_name = filename.split('/')[-1]\n",
    "    frame = None\n",
    "    \n",
    "    if not image_name in yolo_data:\n",
    "        print(\"frame {} has no yolo data available\".format(image_name))\n",
    "        frame = Frame(filename, RIGHTDIR)\n",
    "    else:\n",
    "        frame = Frame(filename, RIGHTDIR, yolo_data[image_name])\n",
    "        \n",
    "    frames.append(frame)"
   ]
  },
  {
   "cell_type": "markdown",
   "metadata": {},
   "source": [
    "Note: For some reason frame 004540 has no objects detected. This might be possible but requires further investigation.\n",
    "\n",
    "#### Setting up a sequence"
   ]
  },
  {
   "cell_type": "code",
   "execution_count": null,
   "metadata": {},
   "outputs": [
    {
     "name": "stderr",
     "output_type": "stream",
     "text": [
      " 87% (87 of 100) |####################    | Elapsed Time: 0:01:35 ETA:  0:00:14"
     ]
    }
   ],
   "source": [
    "seq = Sequence()\n",
    "for f in ProgressBar()(frames[:100]):\n",
    "    seq.add_keyframe(f)"
   ]
  },
  {
   "cell_type": "code",
   "execution_count": null,
   "metadata": {
    "collapsed": true
   },
   "outputs": [],
   "source": [
    "DIMENSION = 400\n",
    "\n",
    "poses = [kf.get_pose() for kf in seq.keyframes]"
   ]
  },
  {
   "cell_type": "markdown",
   "metadata": {},
   "source": [
    "In order to plot the observations it is necessary to convert them to real world coordinates."
   ]
  },
  {
   "cell_type": "code",
   "execution_count": null,
   "metadata": {
    "scrolled": true
   },
   "outputs": [],
   "source": [
    "points_per_frame = []\n",
    "for kf in seq.keyframes:\n",
    "    kf.update_observations_per_classification()\n",
    "    kf.filter_no_classification()\n",
    "    obs = kf.get_observations()\n",
    "    \n",
    "    points_per_frame.append(obs)\n",
    "\n",
    "#print(seq.keyframes[1].frameid, len(seq.keyframes[1].frames))\n",
    "#print(points_per_frame)\n",
    "show(draw_observations_depth(points_per_frame[1]))"
   ]
  },
  {
   "cell_type": "code",
   "execution_count": 54,
   "metadata": {},
   "outputs": [
    {
     "name": "stdout",
     "output_type": "stream",
     "text": [
      "['car']\n",
      "[[  0.00000000e+00   0.00000000e+00   0.00000000e+00   1.00000000e+00]\n",
      " [ -5.61409296e-02  -2.07032530e-02   1.32439907e+00   1.00000000e+00]\n",
      " [ -8.39832158e-02  -2.07412595e-02   2.72701188e+00   1.00000000e+00]\n",
      " [ -7.99715951e-02  -4.91956251e-02   4.13386573e+00   1.00000000e+00]\n",
      " [ -1.26879877e-01  -6.55690192e-02   5.46806889e+00   1.00000000e+00]\n",
      " [ -1.81188769e-01  -7.84726785e-02   6.78823284e+00   1.00000000e+00]\n",
      " [ -2.01003734e-01  -7.47853092e-02   8.18007166e+00   1.00000000e+00]\n",
      " [ -2.70243001e-01  -8.44131099e-02   9.45939464e+00   1.00000000e+00]\n",
      " [ -3.09432060e-01  -1.09776416e-01   1.08647269e+01   1.00000000e+00]\n",
      " [ -3.32120932e-01  -1.59012028e-01   1.22392694e+01   1.00000000e+00]\n",
      " [ -3.56301481e-01  -1.89666626e-01   1.35868393e+01   1.00000000e+00]\n",
      " [  3.50720703e-02  -2.90343588e-01   1.42310360e+01   1.00000000e+00]\n",
      " [ -3.44855290e-03  -2.82931618e-01   1.56128455e+01   1.00000000e+00]\n",
      " [ -1.70386587e-02  -2.56485619e-01   1.70360006e+01   1.00000000e+00]\n",
      " [ -2.67701821e-02  -2.36890677e-01   1.84345258e+01   1.00000000e+00]\n",
      " [ -3.91548980e-02  -3.00091596e-01   1.98587782e+01   1.00000000e+00]\n",
      " [ -5.46950564e-02  -3.64797627e-01   2.12511867e+01   1.00000000e+00]\n",
      " [ -4.02284793e-01  -3.69670353e-01   2.17342271e+01   1.00000000e+00]\n",
      " [ -4.16054718e-01  -3.49233389e-01   2.31714449e+01   1.00000000e+00]\n",
      " [ -3.18765270e-01  -4.44754927e-01   2.44250249e+01   1.00000000e+00]\n",
      " [ -3.16561730e-01  -4.10522050e-01   2.58394224e+01   1.00000000e+00]\n",
      " [ -2.64845002e-01  -5.35975770e-01   2.67803952e+01   1.00000000e+00]\n",
      " [ -2.90687413e-01  -6.00162945e-01   2.81765282e+01   1.00000000e+00]\n",
      " [ -2.63921165e-01  -6.37961343e-01   2.73260606e+01   1.00000000e+00]\n",
      " [ -2.64338497e-01  -6.74788529e-01   2.87060776e+01   1.00000000e+00]\n",
      " [ -2.69288520e-01  -7.58720942e-01   3.00921768e+01   1.00000000e+00]\n",
      " [ -2.76955648e-01  -7.57184454e-01   3.14206330e+01   1.00000000e+00]\n",
      " [ -3.03859396e-01  -7.35381676e-01   3.28622740e+01   1.00000000e+00]\n",
      " [ -3.12014500e-01  -7.06514169e-01   3.42307883e+01   1.00000000e+00]\n",
      " [ -3.09328482e-01  -7.22128062e-01   3.56138820e+01   1.00000000e+00]\n",
      " [ -2.94011050e-01  -7.67661623e-01   3.70550432e+01   1.00000000e+00]\n",
      " [ -3.01443477e-01  -7.84933516e-01   3.85275486e+01   1.00000000e+00]\n",
      " [ -3.27745852e-01  -8.10364075e-01   3.98853305e+01   1.00000000e+00]\n",
      " [ -3.56018480e-01  -8.40460376e-01   4.12585787e+01   1.00000000e+00]\n",
      " [ -4.05340426e-01  -8.74195759e-01   4.27276280e+01   1.00000000e+00]\n",
      " [ -3.87118573e-01  -8.32674290e-01   4.27412748e+01   1.00000000e+00]\n",
      " [ -4.46691598e-01  -8.12182824e-01   4.42646188e+01   1.00000000e+00]\n",
      " [ -4.95971084e-01  -8.51238982e-01   4.57083014e+01   1.00000000e+00]\n",
      " [ -5.61250562e-01  -8.43032742e-01   4.71317467e+01   1.00000000e+00]\n",
      " [ -6.29037076e-01  -8.06207394e-01   4.86084399e+01   1.00000000e+00]\n",
      " [ -6.54045655e-01  -5.51543325e-01   4.59165657e+01   1.00000000e+00]\n",
      " [ -7.19316650e-01  -5.57832839e-01   4.74813966e+01   1.00000000e+00]\n",
      " [ -7.42722297e-01  -5.95622905e-01   4.87778557e+01   1.00000000e+00]\n",
      " [ -7.12789343e-01  -5.36678670e-01   4.90043290e+01   1.00000000e+00]\n",
      " [ -7.03712069e-01  -5.30873401e-01   5.04217581e+01   1.00000000e+00]\n",
      " [ -6.84341651e-01  -5.21491567e-01   5.18040135e+01   1.00000000e+00]\n",
      " [ -6.86470615e-01  -5.70335231e-01   5.32887988e+01   1.00000000e+00]\n",
      " [ -6.84672315e-01  -6.13842627e-01   5.46396653e+01   1.00000000e+00]\n",
      " [ -5.78411564e-01  -5.87126292e-01   5.48823598e+01   1.00000000e+00]\n",
      " [ -5.52762922e-01  -6.19448262e-01   5.63093481e+01   1.00000000e+00]\n",
      " [ -5.47674304e-01  -5.59761334e-01   5.76768502e+01   1.00000000e+00]\n",
      " [ -5.43575957e-01  -3.98928231e-01   5.89342258e+01   1.00000000e+00]\n",
      " [ -5.35403171e-01  -3.85552383e-01   6.03618508e+01   1.00000000e+00]\n",
      " [ -5.30570957e-01  -4.27865809e-01   6.17746806e+01   1.00000000e+00]\n",
      " [ -5.27513656e-01  -4.85819074e-01   6.31998934e+01   1.00000000e+00]\n",
      " [ -4.96692297e-01  -5.01101254e-01   6.45375006e+01   1.00000000e+00]\n",
      " [ -4.97760776e-01  -4.87836983e-01   6.58985950e+01   1.00000000e+00]\n",
      " [ -3.96316098e-01  -4.71334594e-01   6.64000914e+01   1.00000000e+00]\n",
      " [ -4.14097153e-01  -5.49655256e-01   6.77977413e+01   1.00000000e+00]\n",
      " [ -4.27141901e-01  -5.49116075e-01   6.90286038e+01   1.00000000e+00]\n",
      " [ -3.93147545e-01  -5.22281649e-01   7.00756744e+01   1.00000000e+00]\n",
      " [ -4.28788431e-01  -5.78180685e-01   7.14544357e+01   1.00000000e+00]\n",
      " [ -4.73419967e-01  -5.76678801e-01   7.28722799e+01   1.00000000e+00]\n",
      " [ -5.60023779e-01  -5.38134219e-01   7.42809743e+01   1.00000000e+00]\n",
      " [ -6.22367269e-01  -4.83794161e-01   7.56143764e+01   1.00000000e+00]\n",
      " [ -6.82134397e-01  -4.85844073e-01   7.69400246e+01   1.00000000e+00]\n",
      " [ -7.28270212e-01  -5.03917681e-01   7.82938955e+01   1.00000000e+00]\n",
      " [ -7.63693397e-01  -5.36010063e-01   7.96133362e+01   1.00000000e+00]\n",
      " [ -7.75159108e-01  -5.78886762e-01   8.09329075e+01   1.00000000e+00]\n",
      " [ -7.91117659e-01  -6.40854392e-01   8.22181511e+01   1.00000000e+00]\n",
      " [ -8.21468458e-01  -7.20035885e-01   8.36403905e+01   1.00000000e+00]\n",
      " [ -8.03731076e-01  -7.92842553e-01   8.49794250e+01   1.00000000e+00]\n",
      " [ -8.10982931e-01  -7.97116201e-01   8.63907158e+01   1.00000000e+00]\n",
      " [ -7.52002259e-01  -6.67725846e-01   8.75269833e+01   1.00000000e+00]\n",
      " [ -7.50428922e-01  -5.72722123e-01   8.88760735e+01   1.00000000e+00]\n",
      " [ -6.88934576e-01  -5.73899334e-01   8.86210472e+01   1.00000000e+00]\n",
      " [ -6.56970777e-01  -7.45472634e-01   8.96992444e+01   1.00000000e+00]\n",
      " [ -6.20472323e-01  -8.72819300e-01   9.09609082e+01   1.00000000e+00]\n",
      " [ -5.95427305e-01  -7.79437345e-01   9.23080725e+01   1.00000000e+00]\n",
      " [ -5.38455961e-01  -6.18821376e-01   9.36262027e+01   1.00000000e+00]\n",
      " [ -4.88224088e-01  -5.95355536e-01   9.50114698e+01   1.00000000e+00]\n",
      " [ -3.89865650e-01  -6.58916055e-01   9.58005227e+01   1.00000000e+00]\n",
      " [ -3.49412753e-01  -8.87637243e-01   9.71954927e+01   1.00000000e+00]\n",
      " [ -2.60854124e-01  -1.11795662e+00   9.85991645e+01   1.00000000e+00]\n",
      " [ -1.17237427e-01  -9.05935467e-01   9.92495252e+01   1.00000000e+00]\n",
      " [  2.48996649e-02  -7.36863441e-01   1.00577587e+02   1.00000000e+00]\n",
      " [  1.15760878e-01  -5.29698833e-01   1.01917391e+02   1.00000000e+00]\n",
      " [  1.81953804e-01  -4.88372043e-01   1.03308372e+02   1.00000000e+00]\n",
      " [  3.13504452e-01  -5.80618331e-01   1.04455008e+02   1.00000000e+00]\n",
      " [  4.77281895e-01  -6.45733573e-01   1.05660648e+02   1.00000000e+00]\n",
      " [  5.83970417e-01  -7.01214352e-01   1.07046112e+02   1.00000000e+00]\n",
      " [  6.70382447e-01  -8.12199711e-01   1.08342391e+02   1.00000000e+00]\n",
      " [  7.70571556e-01  -8.99740324e-01   1.09676988e+02   1.00000000e+00]\n",
      " [  8.62732009e-01  -9.24236779e-01   1.10985985e+02   1.00000000e+00]\n",
      " [  9.54621955e-01  -8.12395545e-01   1.12392390e+02   1.00000000e+00]\n",
      " [  1.01576056e+00  -6.73570533e-01   1.13697312e+02   1.00000000e+00]\n",
      " [  1.01340173e+00  -6.64864063e-01   1.15044673e+02   1.00000000e+00]\n",
      " [  1.02697010e+00  -6.61450880e-01   1.16361160e+02   1.00000000e+00]\n",
      " [  7.93503121e-01  -3.88294724e-01   1.17721004e+02   1.00000000e+00]\n",
      " [  6.94646615e-01  -4.48716826e-01   1.19084581e+02   1.00000000e+00]]\n"
     ]
    },
    {
     "data": {
      "image/png": "[encoded data removed]",
      "text/plain": [
       "<matplotlib.figure.Figure at 0x7f11e7e42470>"
      ]
     },
     "metadata": {},
     "output_type": "display_data"
    }
   ],
   "source": [
    "classifications = []\n",
    "for obs in flatten(points_per_frame):\n",
    "    if obs.classification not in classifications:\n",
    "        classifications.append(obs.classification)\n",
    "        \n",
    "#print([obs.classification for obs in points_per_frame[9]])\n",
    "print(classifications)\n",
    "flatten = lambda l: [item for sublist in l for item in sublist]\n",
    "flattened = flatten(points_per_frame)\n",
    "#print(len(flattened))\n",
    "trajectory = Trajectory(poses, (DIMENSION, DIMENSION), flattened)\n",
    "show(trajectory.draw(True, True))\n",
    "#trajectory._observations_rwc"
   ]
  },
  {
   "cell_type": "code",
   "execution_count": null,
   "metadata": {
    "collapsed": true
   },
   "outputs": [],
   "source": []
  }
 ],
 "metadata": {
  "kernelspec": {
   "display_name": "Python 3",
   "language": "python",
   "name": "python3"
  },
  "language_info": {
   "codemirror_mode": {
    "name": "ipython",
    "version": 3
   },
   "file_extension": ".py",
   "mimetype": "text/x-python",
   "name": "python",
   "nbconvert_exporter": "python",
   "pygments_lexer": "ipython3",
   "version": "3.6.1"
  }
 },
 "nbformat": 4,
 "nbformat_minor": 2
}
